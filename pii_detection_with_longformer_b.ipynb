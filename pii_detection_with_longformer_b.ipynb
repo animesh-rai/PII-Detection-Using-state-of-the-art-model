{
  "cells": [
    {
      "cell_type": "markdown",
      "metadata": {
        "id": "view-in-github",
        "colab_type": "text"
      },
      "source": [
        "<a href=\"https://colab.research.google.com/github/animesh-rai/x23194545_Sensitive_data_detection/blob/main/pii_detection_with_longformer_b.ipynb\" target=\"_parent\"><img src=\"https://colab.research.google.com/assets/colab-badge.svg\" alt=\"Open In Colab\"/></a>"
      ]
    },
    {
      "cell_type": "code",
      "source": [
        "!pip install datasets"
      ],
      "metadata": {
        "colab": {
          "base_uri": "https://localhost:8080/"
        },
        "id": "laJwWReQ7Eqz",
        "outputId": "c0261eaa-7f4c-4861-f510-86526b40d5fb"
      },
      "execution_count": null,
      "outputs": [
        {
          "output_type": "stream",
          "name": "stdout",
          "text": [
            "Collecting datasets\n",
            "  Downloading datasets-3.2.0-py3-none-any.whl.metadata (20 kB)\n",
            "Requirement already satisfied: filelock in /usr/local/lib/python3.10/dist-packages (from datasets) (3.16.1)\n",
            "Requirement already satisfied: numpy>=1.17 in /usr/local/lib/python3.10/dist-packages (from datasets) (1.26.4)\n",
            "Requirement already satisfied: pyarrow>=15.0.0 in /usr/local/lib/python3.10/dist-packages (from datasets) (17.0.0)\n",
            "Collecting dill<0.3.9,>=0.3.0 (from datasets)\n",
            "  Downloading dill-0.3.8-py3-none-any.whl.metadata (10 kB)\n",
            "Requirement already satisfied: pandas in /usr/local/lib/python3.10/dist-packages (from datasets) (2.2.2)\n",
            "Requirement already satisfied: requests>=2.32.2 in /usr/local/lib/python3.10/dist-packages (from datasets) (2.32.3)\n",
            "Requirement already satisfied: tqdm>=4.66.3 in /usr/local/lib/python3.10/dist-packages (from datasets) (4.66.6)\n",
            "Collecting xxhash (from datasets)\n",
            "  Downloading xxhash-3.5.0-cp310-cp310-manylinux_2_17_x86_64.manylinux2014_x86_64.whl.metadata (12 kB)\n",
            "Collecting multiprocess<0.70.17 (from datasets)\n",
            "  Downloading multiprocess-0.70.16-py310-none-any.whl.metadata (7.2 kB)\n",
            "Collecting fsspec<=2024.9.0,>=2023.1.0 (from fsspec[http]<=2024.9.0,>=2023.1.0->datasets)\n",
            "  Downloading fsspec-2024.9.0-py3-none-any.whl.metadata (11 kB)\n",
            "Requirement already satisfied: aiohttp in /usr/local/lib/python3.10/dist-packages (from datasets) (3.11.9)\n",
            "Requirement already satisfied: huggingface-hub>=0.23.0 in /usr/local/lib/python3.10/dist-packages (from datasets) (0.26.3)\n",
            "Requirement already satisfied: packaging in /usr/local/lib/python3.10/dist-packages (from datasets) (24.2)\n",
            "Requirement already satisfied: pyyaml>=5.1 in /usr/local/lib/python3.10/dist-packages (from datasets) (6.0.2)\n",
            "Requirement already satisfied: aiohappyeyeballs>=2.3.0 in /usr/local/lib/python3.10/dist-packages (from aiohttp->datasets) (2.4.4)\n",
            "Requirement already satisfied: aiosignal>=1.1.2 in /usr/local/lib/python3.10/dist-packages (from aiohttp->datasets) (1.3.1)\n",
            "Requirement already satisfied: async-timeout<6.0,>=4.0 in /usr/local/lib/python3.10/dist-packages (from aiohttp->datasets) (4.0.3)\n",
            "Requirement already satisfied: attrs>=17.3.0 in /usr/local/lib/python3.10/dist-packages (from aiohttp->datasets) (24.2.0)\n",
            "Requirement already satisfied: frozenlist>=1.1.1 in /usr/local/lib/python3.10/dist-packages (from aiohttp->datasets) (1.5.0)\n",
            "Requirement already satisfied: multidict<7.0,>=4.5 in /usr/local/lib/python3.10/dist-packages (from aiohttp->datasets) (6.1.0)\n",
            "Requirement already satisfied: propcache>=0.2.0 in /usr/local/lib/python3.10/dist-packages (from aiohttp->datasets) (0.2.1)\n",
            "Requirement already satisfied: yarl<2.0,>=1.17.0 in /usr/local/lib/python3.10/dist-packages (from aiohttp->datasets) (1.18.3)\n",
            "Requirement already satisfied: typing-extensions>=3.7.4.3 in /usr/local/lib/python3.10/dist-packages (from huggingface-hub>=0.23.0->datasets) (4.12.2)\n",
            "Requirement already satisfied: charset-normalizer<4,>=2 in /usr/local/lib/python3.10/dist-packages (from requests>=2.32.2->datasets) (3.4.0)\n",
            "Requirement already satisfied: idna<4,>=2.5 in /usr/local/lib/python3.10/dist-packages (from requests>=2.32.2->datasets) (3.10)\n",
            "Requirement already satisfied: urllib3<3,>=1.21.1 in /usr/local/lib/python3.10/dist-packages (from requests>=2.32.2->datasets) (2.2.3)\n",
            "Requirement already satisfied: certifi>=2017.4.17 in /usr/local/lib/python3.10/dist-packages (from requests>=2.32.2->datasets) (2024.8.30)\n",
            "Requirement already satisfied: python-dateutil>=2.8.2 in /usr/local/lib/python3.10/dist-packages (from pandas->datasets) (2.8.2)\n",
            "Requirement already satisfied: pytz>=2020.1 in /usr/local/lib/python3.10/dist-packages (from pandas->datasets) (2024.2)\n",
            "Requirement already satisfied: tzdata>=2022.7 in /usr/local/lib/python3.10/dist-packages (from pandas->datasets) (2024.2)\n",
            "Requirement already satisfied: six>=1.5 in /usr/local/lib/python3.10/dist-packages (from python-dateutil>=2.8.2->pandas->datasets) (1.16.0)\n",
            "Downloading datasets-3.2.0-py3-none-any.whl (480 kB)\n",
            "\u001b[2K   \u001b[90m━━━━━━━━━━━━━━━━━━━━━━━━━━━━━━━━━━━━━━━━\u001b[0m \u001b[32m480.6/480.6 kB\u001b[0m \u001b[31m12.3 MB/s\u001b[0m eta \u001b[36m0:00:00\u001b[0m\n",
            "\u001b[?25hDownloading dill-0.3.8-py3-none-any.whl (116 kB)\n",
            "\u001b[2K   \u001b[90m━━━━━━━━━━━━━━━━━━━━━━━━━━━━━━━━━━━━━━━━\u001b[0m \u001b[32m116.3/116.3 kB\u001b[0m \u001b[31m7.1 MB/s\u001b[0m eta \u001b[36m0:00:00\u001b[0m\n",
            "\u001b[?25hDownloading fsspec-2024.9.0-py3-none-any.whl (179 kB)\n",
            "\u001b[2K   \u001b[90m━━━━━━━━━━━━━━━━━━━━━━━━━━━━━━━━━━━━━━━━\u001b[0m \u001b[32m179.3/179.3 kB\u001b[0m \u001b[31m16.8 MB/s\u001b[0m eta \u001b[36m0:00:00\u001b[0m\n",
            "\u001b[?25hDownloading multiprocess-0.70.16-py310-none-any.whl (134 kB)\n",
            "\u001b[2K   \u001b[90m━━━━━━━━━━━━━━━━━━━━━━━━━━━━━━━━━━━━━━━━\u001b[0m \u001b[32m134.8/134.8 kB\u001b[0m \u001b[31m11.9 MB/s\u001b[0m eta \u001b[36m0:00:00\u001b[0m\n",
            "\u001b[?25hDownloading xxhash-3.5.0-cp310-cp310-manylinux_2_17_x86_64.manylinux2014_x86_64.whl (194 kB)\n",
            "\u001b[2K   \u001b[90m━━━━━━━━━━━━━━━━━━━━━━━━━━━━━━━━━━━━━━━━\u001b[0m \u001b[32m194.1/194.1 kB\u001b[0m \u001b[31m13.1 MB/s\u001b[0m eta \u001b[36m0:00:00\u001b[0m\n",
            "\u001b[?25hInstalling collected packages: xxhash, fsspec, dill, multiprocess, datasets\n",
            "  Attempting uninstall: fsspec\n",
            "    Found existing installation: fsspec 2024.10.0\n",
            "    Uninstalling fsspec-2024.10.0:\n",
            "      Successfully uninstalled fsspec-2024.10.0\n",
            "\u001b[31mERROR: pip's dependency resolver does not currently take into account all the packages that are installed. This behaviour is the source of the following dependency conflicts.\n",
            "gcsfs 2024.10.0 requires fsspec==2024.10.0, but you have fsspec 2024.9.0 which is incompatible.\u001b[0m\u001b[31m\n",
            "\u001b[0mSuccessfully installed datasets-3.2.0 dill-0.3.8 fsspec-2024.9.0 multiprocess-0.70.16 xxhash-3.5.0\n"
          ]
        }
      ]
    },
    {
      "cell_type": "code",
      "execution_count": null,
      "metadata": {
        "colab": {
          "base_uri": "https://localhost:8080/"
        },
        "id": "9abyRb226kyb",
        "outputId": "aee13dae-1ca8-47a5-c120-4c524c1664f5"
      },
      "outputs": [
        {
          "output_type": "stream",
          "name": "stdout",
          "text": [
            "Start Time:  2024-12-10 20:08:20\n"
          ]
        }
      ],
      "source": [
        "#Import packages\n",
        "import torch\n",
        "from torch.utils.data import DataLoader\n",
        "from transformers import AutoTokenizer, AutoModelForTokenClassification, TrainingArguments, Trainer, DataCollatorForTokenClassification\n",
        "from sklearn.metrics import classification_report, precision_recall_fscore_support\n",
        "from collections import Counter\n",
        "import datasets\n",
        "from sklearn.model_selection import train_test_split\n",
        "from sklearn.utils.class_weight import compute_class_weight\n",
        "import pandas as pd\n",
        "import numpy as np\n",
        "import torch.nn as nn\n",
        "import torch.nn.functional as F\n",
        "import gc\n",
        "import re\n",
        "import random\n",
        "from itertools import chain\n",
        "\n",
        "#import wandb\n",
        "# Initialize wandb\n",
        "#wandb.init(project=\"pii-detection\")\n",
        "\n",
        "#Set random seeds for reproducibility\n",
        "def set_seed(seed):\n",
        "    random.seed(seed)\n",
        "    np.random.seed(seed)\n",
        "    torch.manual_seed(seed)\n",
        "    if torch.cuda.is_available():\n",
        "        torch.cuda.manual_seed_all(seed)\n",
        "        torch.backends.cudnn.deterministic = True\n",
        "        torch.backends.cudnn.benchmark = False\n",
        "\n",
        "seed_value = 42\n",
        "set_seed(seed_value)\n",
        "\n",
        "import time\n",
        "# Capture the start time\n",
        "start_time = time.time()\n",
        "print(\"Start Time: \", time.strftime(\"%Y-%m-%d %H:%M:%S\", time.localtime(start_time)))"
      ]
    },
    {
      "cell_type": "code",
      "execution_count": null,
      "metadata": {
        "colab": {
          "base_uri": "https://localhost:8080/"
        },
        "id": "UXTYPint6kyb",
        "outputId": "d0d99566-76d1-44e8-a80b-4d96ffe066bb"
      },
      "outputs": [
        {
          "output_type": "stream",
          "name": "stdout",
          "text": [
            "GPU: Tesla T4 is available.\n"
          ]
        }
      ],
      "source": [
        "import torch\n",
        "if torch.cuda.is_available():\n",
        "    print(f\"GPU: {torch.cuda.get_device_name(0)} is available.\")\n",
        "else:\n",
        "    print(\"No GPU available. Training will run on CPU.\")"
      ]
    },
    {
      "cell_type": "code",
      "source": [
        "from google.colab import drive\n",
        "drive.mount('/content/drive')"
      ],
      "metadata": {
        "colab": {
          "base_uri": "https://localhost:8080/"
        },
        "id": "wq0FqMI_wdkS",
        "outputId": "501e77f6-acc1-4ab8-eafa-51bc7ed19747"
      },
      "execution_count": null,
      "outputs": [
        {
          "output_type": "stream",
          "name": "stdout",
          "text": [
            "Mounted at /content/drive\n"
          ]
        }
      ]
    },
    {
      "cell_type": "markdown",
      "metadata": {
        "id": "5BSJOzS-6kyb"
      },
      "source": [
        "### Load Data\n",
        "Load the training data from the provided JSON file and create a Hugging Face Dataset object. The data is split into training and evaluation sets."
      ]
    },
    {
      "cell_type": "code",
      "source": [
        "from transformers import AutoModel, pipeline\n",
        "from transformers import LongformerTokenizerFast, LongformerForTokenClassification, Trainer, TrainingArguments\n",
        "\n",
        "# Load dataset\n",
        "dataset = datasets.load_dataset('json', data_files='/content/drive/MyDrive/Dataset/pii-detection-removal-from-educational-data/train.json')\n",
        "# Convert to DataFrame and preprocess\n",
        "df = dataset['train'].to_pandas()"
      ],
      "metadata": {
        "id": "jjpDkzw2mIJ7"
      },
      "execution_count": null,
      "outputs": []
    },
    {
      "cell_type": "code",
      "source": [
        "import pandas as pd\n",
        "from sklearn.utils import resample\n",
        "\n",
        "# Flatten labels to calculate class distribution\n",
        "all_labels = [label for labels in df['labels'] for label in labels]\n",
        "label_counts = pd.Series(all_labels).value_counts()\n",
        "print(\"Original Label Distribution:\\n\", label_counts)\n",
        "\n",
        "# Define the target number of rows\n",
        "total_rows = 1500\n",
        "target_per_class = total_rows // len(label_counts)\n",
        "\n",
        "# Separate majority and minority class data\n",
        "majority_class = df[df['labels'].apply(lambda x: 'O' in x)]\n",
        "minority_classes = df[df['labels'].apply(lambda x: any(label != 'O' for label in x))]\n",
        "\n",
        "# Downsample the majority class ('O' label)\n",
        "downsampled_majority = resample(\n",
        "    majority_class,\n",
        "    replace=False,\n",
        "    n_samples=target_per_class,\n",
        "    random_state=42\n",
        ")\n",
        "\n",
        "# Upsample the minority classes\n",
        "balanced_data = [downsampled_majority]\n",
        "for label in label_counts.index:\n",
        "    if label != 'O':\n",
        "        class_data = df[df['labels'].apply(lambda x: label in x)]\n",
        "        if len(class_data) > 0:\n",
        "            upsampled_data = resample(\n",
        "                class_data,\n",
        "                replace=True,\n",
        "                n_samples=target_per_class if len(class_data) < target_per_class else len(class_data),\n",
        "                random_state=42\n",
        "            )\n",
        "            balanced_data.append(upsampled_data)\n",
        "\n",
        "# Combine the balanced data\n",
        "balanced_df = pd.concat(balanced_data).sample(frac=1, random_state=42).reset_index(drop=True)\n",
        "\n",
        "# Save the balanced dataset\n",
        "#balanced_df.to_csv('balanced_PII_dataset.csv', index=False)\n",
        "\n",
        "# Verify the new class distribution\n",
        "balanced_all_labels = [label for labels in balanced_df['labels'] for label in labels]\n",
        "balanced_label_counts = pd.Series(balanced_all_labels).value_counts()\n",
        "print(\"Balanced Label Distribution:\\n\", balanced_label_counts)\n",
        "df = balanced_df"
      ],
      "metadata": {
        "id": "ZlRieebXmL-C",
        "outputId": "73433e96-5934-495a-a435-c73e123e4957",
        "colab": {
          "base_uri": "https://localhost:8080/"
        }
      },
      "execution_count": null,
      "outputs": [
        {
          "output_type": "stream",
          "name": "stdout",
          "text": [
            "Original Label Distribution:\n",
            " O                   4989794\n",
            "B-NAME_STUDENT         1365\n",
            "I-NAME_STUDENT         1096\n",
            "B-URL_PERSONAL          110\n",
            "B-ID_NUM                 78\n",
            "B-EMAIL                  39\n",
            "I-STREET_ADDRESS         20\n",
            "I-PHONE_NUM              15\n",
            "B-USERNAME                6\n",
            "B-PHONE_NUM               6\n",
            "B-STREET_ADDRESS          2\n",
            "I-URL_PERSONAL            1\n",
            "I-ID_NUM                  1\n",
            "Name: count, dtype: int64\n",
            "Balanced Label Distribution:\n",
            " O                   2390247\n",
            "B-NAME_STUDENT         3764\n",
            "I-NAME_STUDENT         3451\n",
            "I-STREET_ADDRESS       2680\n",
            "I-PHONE_NUM            1059\n",
            "B-URL_PERSONAL          669\n",
            "B-EMAIL                 614\n",
            "B-ID_NUM                531\n",
            "B-PHONE_NUM             487\n",
            "B-STREET_ADDRESS        268\n",
            "B-USERNAME              142\n",
            "I-URL_PERSONAL          119\n",
            "I-ID_NUM                118\n",
            "Name: count, dtype: int64\n"
          ]
        }
      ]
    },
    {
      "cell_type": "code",
      "source": [
        "all_labels = [label for sublist in df['labels'] for label in sublist]\n",
        "unique_labels = list(set(all_labels))\n",
        "id2label = {i: label for i, label in enumerate(unique_labels)}\n",
        "label2id = {label: i for i, label in enumerate(unique_labels)}\n",
        "all_labels = list(label2id.keys())  # Get all unique labels from mapping\n",
        "num_labels = len(all_labels)  # Update the num_labels\n",
        "\n"
      ],
      "metadata": {
        "id": "3yB74SEOmQI6"
      },
      "execution_count": null,
      "outputs": []
    },
    {
      "cell_type": "code",
      "execution_count": null,
      "metadata": {
        "id": "-KJK375F6kyc",
        "outputId": "a489db59-6f85-4e25-8bce-1ab20271c3f0",
        "colab": {
          "base_uri": "https://localhost:8080/"
        }
      },
      "outputs": [
        {
          "output_type": "stream",
          "name": "stderr",
          "text": [
            "/usr/local/lib/python3.10/dist-packages/tf_keras/src/initializers/initializers.py:121: UserWarning: The initializer TruncatedNormal is unseeded and being called multiple times, which will return identical values each time (even if the initializer is unseeded). Please update your code to provide a seed to the initializer, or avoid using the same initializer instance more than once.\n",
            "  warnings.warn(\n",
            "All TF 2.0 model weights were used when initializing LongformerForTokenClassification.\n",
            "\n",
            "All the weights of LongformerForTokenClassification were initialized from the TF 2.0 model.\n",
            "If your task is similar to the task the model of the checkpoint was trained on, you can already use LongformerForTokenClassification for predictions without further training.\n"
          ]
        },
        {
          "output_type": "stream",
          "name": "stdout",
          "text": [
            "cuda\n"
          ]
        }
      ],
      "source": [
        "\n",
        "# Tokenizer and Model\n",
        "tokenizer = LongformerTokenizerFast.from_pretrained(\"allenai/longformer-base-4096\", add_prefix_space=True)\n",
        "model = LongformerForTokenClassification.from_pretrained(\"allenai/longformer-base-4096\",from_flax=True,from_tf=True, num_labels=num_labels, id2label=id2label, label2id=label2id)\n",
        "device = torch.device(\"cuda\" if torch.cuda.is_available() else \"cpu\")\n",
        "print(device)\n",
        "model.to(device)\n",
        "\n",
        "# Take the first 1500 rows\n",
        "#df = df.iloc[:1500]\n",
        "\n",
        "# Split Dataset\n",
        "train_df, test_df = train_test_split(df, test_size=0.2, random_state=42)\n",
        "train_dataset = datasets.Dataset.from_pandas(train_df)\n",
        "test_dataset = datasets.Dataset.from_pandas(test_df)\n",
        "dataset_dict = datasets.DatasetDict({'train': train_dataset, 'test': test_dataset})"
      ]
    },
    {
      "cell_type": "markdown",
      "metadata": {
        "id": "2Vtm3u5I6kyd"
      },
      "source": [
        "### Data Exploration\n",
        "\n",
        "The dataset has four columns, 'document', 'tokens', 'labels', and 'trailing_whitespace'. Pandas can be used to visualize the dataset and get a better understanding of the structure."
      ]
    },
    {
      "cell_type": "code",
      "execution_count": null,
      "metadata": {
        "id": "AYE5ULzK6kyd",
        "outputId": "2842f90e-b71b-4e68-ada5-b27fa9c2d18f",
        "colab": {
          "base_uri": "https://localhost:8080/"
        }
      },
      "outputs": [
        {
          "output_type": "stream",
          "name": "stdout",
          "text": [
            "Dataset length 2970\n"
          ]
        },
        {
          "output_type": "execute_result",
          "data": {
            "text/plain": [
              "Dataset({\n",
              "    features: ['document', 'full_text', 'tokens', 'trailing_whitespace', 'labels'],\n",
              "    num_rows: 2970\n",
              "})"
            ]
          },
          "metadata": {},
          "execution_count": 22
        }
      ],
      "source": [
        "from datasets import Dataset\n",
        "\n",
        "# Convert the DataFrame back to the Dataset format\n",
        "dataset = Dataset.from_pandas(df)\n",
        "\n",
        "print('Dataset length', len(dataset))\n",
        "dataset"
      ]
    },
    {
      "cell_type": "code",
      "execution_count": null,
      "metadata": {
        "id": "j4l4iess6kyd",
        "outputId": "94db29f5-49f5-4512-b45e-d8eb5c2c95ba",
        "colab": {
          "base_uri": "https://localhost:8080/",
          "height": 293
        }
      },
      "outputs": [
        {
          "output_type": "execute_result",
          "data": {
            "text/plain": [
              "   document                                          full_text  \\\n",
              "0      8642  Basavaraju Aakash Kumar\\n\\nboydcynthia@yahoo.c...   \n",
              "1     11409  Final Assignment – “Design Thinking for Innova...   \n",
              "2      5716  ID meyermichelle\\n\\nReflection\\n\\nThe first to...   \n",
              "3      4501  Free time\\n\\nand the\\n\\nelderly\\n\\nBefriending...   \n",
              "4     12876  Visualization\\n\\nAna Perez  Challenge & Select...   \n",
              "\n",
              "                                              tokens  \\\n",
              "0  [Basavaraju, Aakash, Kumar, \\n\\n, boydcynthia@...   \n",
              "1  [Final, Assignment, –, “, Design, Thinking, fo...   \n",
              "2  [ID, meyermichelle, \\n\\n, Reflection, \\n\\n, Th...   \n",
              "3  [Free, time, \\n\\n, and, the, \\n\\n, elderly, \\n...   \n",
              "4  [Visualization, \\n\\n, Ana, Perez,  , Challenge...   \n",
              "\n",
              "                                 trailing_whitespace  \\\n",
              "0  [True, True, False, False, True, False, True, ...   \n",
              "1  [True, True, True, False, True, True, True, Fa...   \n",
              "2  [True, False, False, False, False, True, True,...   \n",
              "3  [True, False, False, True, False, False, False...   \n",
              "4  [False, False, True, True, False, True, True, ...   \n",
              "\n",
              "                                              labels  \n",
              "0  [B-NAME_STUDENT, I-NAME_STUDENT, I-NAME_STUDEN...  \n",
              "1  [O, O, O, O, O, O, O, O, O, O, B-NAME_STUDENT,...  \n",
              "2  [O, B-USERNAME, O, O, O, O, O, O, O, O, O, O, ...  \n",
              "3  [O, O, O, O, O, O, O, O, O, O, O, O, O, O, O, ...  \n",
              "4  [O, O, B-NAME_STUDENT, I-NAME_STUDENT, O, O, O...  "
            ],
            "text/html": [
              "\n",
              "  <div id=\"df-ae07dd19-e2c6-4879-85fc-3b5bf549c8bb\" class=\"colab-df-container\">\n",
              "    <div>\n",
              "<style scoped>\n",
              "    .dataframe tbody tr th:only-of-type {\n",
              "        vertical-align: middle;\n",
              "    }\n",
              "\n",
              "    .dataframe tbody tr th {\n",
              "        vertical-align: top;\n",
              "    }\n",
              "\n",
              "    .dataframe thead th {\n",
              "        text-align: right;\n",
              "    }\n",
              "</style>\n",
              "<table border=\"1\" class=\"dataframe\">\n",
              "  <thead>\n",
              "    <tr style=\"text-align: right;\">\n",
              "      <th></th>\n",
              "      <th>document</th>\n",
              "      <th>full_text</th>\n",
              "      <th>tokens</th>\n",
              "      <th>trailing_whitespace</th>\n",
              "      <th>labels</th>\n",
              "    </tr>\n",
              "  </thead>\n",
              "  <tbody>\n",
              "    <tr>\n",
              "      <th>0</th>\n",
              "      <td>8642</td>\n",
              "      <td>Basavaraju Aakash Kumar\\n\\nboydcynthia@yahoo.c...</td>\n",
              "      <td>[Basavaraju, Aakash, Kumar, \\n\\n, boydcynthia@...</td>\n",
              "      <td>[True, True, False, False, True, False, True, ...</td>\n",
              "      <td>[B-NAME_STUDENT, I-NAME_STUDENT, I-NAME_STUDEN...</td>\n",
              "    </tr>\n",
              "    <tr>\n",
              "      <th>1</th>\n",
              "      <td>11409</td>\n",
              "      <td>Final Assignment – “Design Thinking for Innova...</td>\n",
              "      <td>[Final, Assignment, –, “, Design, Thinking, fo...</td>\n",
              "      <td>[True, True, True, False, True, True, True, Fa...</td>\n",
              "      <td>[O, O, O, O, O, O, O, O, O, O, B-NAME_STUDENT,...</td>\n",
              "    </tr>\n",
              "    <tr>\n",
              "      <th>2</th>\n",
              "      <td>5716</td>\n",
              "      <td>ID meyermichelle\\n\\nReflection\\n\\nThe first to...</td>\n",
              "      <td>[ID, meyermichelle, \\n\\n, Reflection, \\n\\n, Th...</td>\n",
              "      <td>[True, False, False, False, False, True, True,...</td>\n",
              "      <td>[O, B-USERNAME, O, O, O, O, O, O, O, O, O, O, ...</td>\n",
              "    </tr>\n",
              "    <tr>\n",
              "      <th>3</th>\n",
              "      <td>4501</td>\n",
              "      <td>Free time\\n\\nand the\\n\\nelderly\\n\\nBefriending...</td>\n",
              "      <td>[Free, time, \\n\\n, and, the, \\n\\n, elderly, \\n...</td>\n",
              "      <td>[True, False, False, True, False, False, False...</td>\n",
              "      <td>[O, O, O, O, O, O, O, O, O, O, O, O, O, O, O, ...</td>\n",
              "    </tr>\n",
              "    <tr>\n",
              "      <th>4</th>\n",
              "      <td>12876</td>\n",
              "      <td>Visualization\\n\\nAna Perez  Challenge &amp; Select...</td>\n",
              "      <td>[Visualization, \\n\\n, Ana, Perez,  , Challenge...</td>\n",
              "      <td>[False, False, True, True, False, True, True, ...</td>\n",
              "      <td>[O, O, B-NAME_STUDENT, I-NAME_STUDENT, O, O, O...</td>\n",
              "    </tr>\n",
              "  </tbody>\n",
              "</table>\n",
              "</div>\n",
              "    <div class=\"colab-df-buttons\">\n",
              "\n",
              "  <div class=\"colab-df-container\">\n",
              "    <button class=\"colab-df-convert\" onclick=\"convertToInteractive('df-ae07dd19-e2c6-4879-85fc-3b5bf549c8bb')\"\n",
              "            title=\"Convert this dataframe to an interactive table.\"\n",
              "            style=\"display:none;\">\n",
              "\n",
              "  <svg xmlns=\"http://www.w3.org/2000/svg\" height=\"24px\" viewBox=\"0 -960 960 960\">\n",
              "    <path d=\"M120-120v-720h720v720H120Zm60-500h600v-160H180v160Zm220 220h160v-160H400v160Zm0 220h160v-160H400v160ZM180-400h160v-160H180v160Zm440 0h160v-160H620v160ZM180-180h160v-160H180v160Zm440 0h160v-160H620v160Z\"/>\n",
              "  </svg>\n",
              "    </button>\n",
              "\n",
              "  <style>\n",
              "    .colab-df-container {\n",
              "      display:flex;\n",
              "      gap: 12px;\n",
              "    }\n",
              "\n",
              "    .colab-df-convert {\n",
              "      background-color: #E8F0FE;\n",
              "      border: none;\n",
              "      border-radius: 50%;\n",
              "      cursor: pointer;\n",
              "      display: none;\n",
              "      fill: #1967D2;\n",
              "      height: 32px;\n",
              "      padding: 0 0 0 0;\n",
              "      width: 32px;\n",
              "    }\n",
              "\n",
              "    .colab-df-convert:hover {\n",
              "      background-color: #E2EBFA;\n",
              "      box-shadow: 0px 1px 2px rgba(60, 64, 67, 0.3), 0px 1px 3px 1px rgba(60, 64, 67, 0.15);\n",
              "      fill: #174EA6;\n",
              "    }\n",
              "\n",
              "    .colab-df-buttons div {\n",
              "      margin-bottom: 4px;\n",
              "    }\n",
              "\n",
              "    [theme=dark] .colab-df-convert {\n",
              "      background-color: #3B4455;\n",
              "      fill: #D2E3FC;\n",
              "    }\n",
              "\n",
              "    [theme=dark] .colab-df-convert:hover {\n",
              "      background-color: #434B5C;\n",
              "      box-shadow: 0px 1px 3px 1px rgba(0, 0, 0, 0.15);\n",
              "      filter: drop-shadow(0px 1px 2px rgba(0, 0, 0, 0.3));\n",
              "      fill: #FFFFFF;\n",
              "    }\n",
              "  </style>\n",
              "\n",
              "    <script>\n",
              "      const buttonEl =\n",
              "        document.querySelector('#df-ae07dd19-e2c6-4879-85fc-3b5bf549c8bb button.colab-df-convert');\n",
              "      buttonEl.style.display =\n",
              "        google.colab.kernel.accessAllowed ? 'block' : 'none';\n",
              "\n",
              "      async function convertToInteractive(key) {\n",
              "        const element = document.querySelector('#df-ae07dd19-e2c6-4879-85fc-3b5bf549c8bb');\n",
              "        const dataTable =\n",
              "          await google.colab.kernel.invokeFunction('convertToInteractive',\n",
              "                                                    [key], {});\n",
              "        if (!dataTable) return;\n",
              "\n",
              "        const docLinkHtml = 'Like what you see? Visit the ' +\n",
              "          '<a target=\"_blank\" href=https://colab.research.google.com/notebooks/data_table.ipynb>data table notebook</a>'\n",
              "          + ' to learn more about interactive tables.';\n",
              "        element.innerHTML = '';\n",
              "        dataTable['output_type'] = 'display_data';\n",
              "        await google.colab.output.renderOutput(dataTable, element);\n",
              "        const docLink = document.createElement('div');\n",
              "        docLink.innerHTML = docLinkHtml;\n",
              "        element.appendChild(docLink);\n",
              "      }\n",
              "    </script>\n",
              "  </div>\n",
              "\n",
              "\n",
              "<div id=\"df-3c8df89d-c4c6-4061-9bf9-aaacedfb145b\">\n",
              "  <button class=\"colab-df-quickchart\" onclick=\"quickchart('df-3c8df89d-c4c6-4061-9bf9-aaacedfb145b')\"\n",
              "            title=\"Suggest charts\"\n",
              "            style=\"display:none;\">\n",
              "\n",
              "<svg xmlns=\"http://www.w3.org/2000/svg\" height=\"24px\"viewBox=\"0 0 24 24\"\n",
              "     width=\"24px\">\n",
              "    <g>\n",
              "        <path d=\"M19 3H5c-1.1 0-2 .9-2 2v14c0 1.1.9 2 2 2h14c1.1 0 2-.9 2-2V5c0-1.1-.9-2-2-2zM9 17H7v-7h2v7zm4 0h-2V7h2v10zm4 0h-2v-4h2v4z\"/>\n",
              "    </g>\n",
              "</svg>\n",
              "  </button>\n",
              "\n",
              "<style>\n",
              "  .colab-df-quickchart {\n",
              "      --bg-color: #E8F0FE;\n",
              "      --fill-color: #1967D2;\n",
              "      --hover-bg-color: #E2EBFA;\n",
              "      --hover-fill-color: #174EA6;\n",
              "      --disabled-fill-color: #AAA;\n",
              "      --disabled-bg-color: #DDD;\n",
              "  }\n",
              "\n",
              "  [theme=dark] .colab-df-quickchart {\n",
              "      --bg-color: #3B4455;\n",
              "      --fill-color: #D2E3FC;\n",
              "      --hover-bg-color: #434B5C;\n",
              "      --hover-fill-color: #FFFFFF;\n",
              "      --disabled-bg-color: #3B4455;\n",
              "      --disabled-fill-color: #666;\n",
              "  }\n",
              "\n",
              "  .colab-df-quickchart {\n",
              "    background-color: var(--bg-color);\n",
              "    border: none;\n",
              "    border-radius: 50%;\n",
              "    cursor: pointer;\n",
              "    display: none;\n",
              "    fill: var(--fill-color);\n",
              "    height: 32px;\n",
              "    padding: 0;\n",
              "    width: 32px;\n",
              "  }\n",
              "\n",
              "  .colab-df-quickchart:hover {\n",
              "    background-color: var(--hover-bg-color);\n",
              "    box-shadow: 0 1px 2px rgba(60, 64, 67, 0.3), 0 1px 3px 1px rgba(60, 64, 67, 0.15);\n",
              "    fill: var(--button-hover-fill-color);\n",
              "  }\n",
              "\n",
              "  .colab-df-quickchart-complete:disabled,\n",
              "  .colab-df-quickchart-complete:disabled:hover {\n",
              "    background-color: var(--disabled-bg-color);\n",
              "    fill: var(--disabled-fill-color);\n",
              "    box-shadow: none;\n",
              "  }\n",
              "\n",
              "  .colab-df-spinner {\n",
              "    border: 2px solid var(--fill-color);\n",
              "    border-color: transparent;\n",
              "    border-bottom-color: var(--fill-color);\n",
              "    animation:\n",
              "      spin 1s steps(1) infinite;\n",
              "  }\n",
              "\n",
              "  @keyframes spin {\n",
              "    0% {\n",
              "      border-color: transparent;\n",
              "      border-bottom-color: var(--fill-color);\n",
              "      border-left-color: var(--fill-color);\n",
              "    }\n",
              "    20% {\n",
              "      border-color: transparent;\n",
              "      border-left-color: var(--fill-color);\n",
              "      border-top-color: var(--fill-color);\n",
              "    }\n",
              "    30% {\n",
              "      border-color: transparent;\n",
              "      border-left-color: var(--fill-color);\n",
              "      border-top-color: var(--fill-color);\n",
              "      border-right-color: var(--fill-color);\n",
              "    }\n",
              "    40% {\n",
              "      border-color: transparent;\n",
              "      border-right-color: var(--fill-color);\n",
              "      border-top-color: var(--fill-color);\n",
              "    }\n",
              "    60% {\n",
              "      border-color: transparent;\n",
              "      border-right-color: var(--fill-color);\n",
              "    }\n",
              "    80% {\n",
              "      border-color: transparent;\n",
              "      border-right-color: var(--fill-color);\n",
              "      border-bottom-color: var(--fill-color);\n",
              "    }\n",
              "    90% {\n",
              "      border-color: transparent;\n",
              "      border-bottom-color: var(--fill-color);\n",
              "    }\n",
              "  }\n",
              "</style>\n",
              "\n",
              "  <script>\n",
              "    async function quickchart(key) {\n",
              "      const quickchartButtonEl =\n",
              "        document.querySelector('#' + key + ' button');\n",
              "      quickchartButtonEl.disabled = true;  // To prevent multiple clicks.\n",
              "      quickchartButtonEl.classList.add('colab-df-spinner');\n",
              "      try {\n",
              "        const charts = await google.colab.kernel.invokeFunction(\n",
              "            'suggestCharts', [key], {});\n",
              "      } catch (error) {\n",
              "        console.error('Error during call to suggestCharts:', error);\n",
              "      }\n",
              "      quickchartButtonEl.classList.remove('colab-df-spinner');\n",
              "      quickchartButtonEl.classList.add('colab-df-quickchart-complete');\n",
              "    }\n",
              "    (() => {\n",
              "      let quickchartButtonEl =\n",
              "        document.querySelector('#df-3c8df89d-c4c6-4061-9bf9-aaacedfb145b button');\n",
              "      quickchartButtonEl.style.display =\n",
              "        google.colab.kernel.accessAllowed ? 'block' : 'none';\n",
              "    })();\n",
              "  </script>\n",
              "</div>\n",
              "\n",
              "    </div>\n",
              "  </div>\n"
            ],
            "application/vnd.google.colaboratory.intrinsic+json": {
              "type": "dataframe",
              "variable_name": "df",
              "summary": "{\n  \"name\": \"df\",\n  \"rows\": 2970,\n  \"fields\": [\n    {\n      \"column\": \"document\",\n      \"properties\": {\n        \"dtype\": \"number\",\n        \"std\": 4390,\n        \"min\": 7,\n        \"max\": 22518,\n        \"num_unique_values\": 885,\n        \"samples\": [\n          5816,\n          16659,\n          9161\n        ],\n        \"semantic_type\": \"\",\n        \"description\": \"\"\n      }\n    },\n    {\n      \"column\": \"full_text\",\n      \"properties\": {\n        \"dtype\": \"category\",\n        \"num_unique_values\": 885,\n        \"samples\": [\n          \"Submitted by Jo Kelly, PHR, SHRM-CP\\n\\nMay 12, 2011\\n\\nChallenge & Selection\\n\\nAs a Human Resources Professional, employees often seek me out to discuss questions or concerns they  have regarding any number of topics \\u2013 policies and procedures, compensation and benefits, hiring and  staffing, and everything in between \\u2013 and what a viable solution may look like.  In many of these cases  there\\u2019s a pretty straight-forward answer to their questions, but the challenge comes when there isn\\u2019t  and a more personalized response is required.\\n\\nOver the course of my career, I have found that taking a moment to sincerely listen and empathize, not  immediately search for a \\u201cone size fits all\\u201d answer, goes a long way.  It has also proven most successful  for establishing trust and finding a mutually agreeable solution.  Often, I rather naturally gravitate to a  storytelling strategy (sharing my personally inspiring experiences and / or those of others) to support  the employee in defining a simple solution and compelling them to take positive and effective action.\\n\\nApplication & Insight\\n\\nRecently, an early career employee requested some time with me to discuss our performance  management process and their latest performance rating, which was causing them much concern.   While the rating and subsequent feedback pointed to them being a solid performer, they believed their  work over the course of the previous year had been exceptional and thus a rating indicating the same  more appropriate.\\n\\nAfter listening to the employee share their concerns and ask for my guidance, I opened with a story of  my own sharing how I\\u2019d been in a very similar situation just a few years prior.  While I\\u2019d done some  great work, I was also rated as a solid performer much to my disappointment.  After connecting with my  manager and gaining a better understanding of the rationale for the rating, distribution among the  broader organization, a detailed assessment that documented the work I\\u2019d done favorably, and concrete  plans to partner with me to secure an exceptional rating in the year ahead, I left in a better place and  with a distinct plan for moving forward.  I also shared transparently that while I still believed my rating  should have been \\u201cexceptional\\u201d, after being open and honest about my position and hearing out my  manager\\u2019s rationale, I was more confident about the road ahead \\u2013 and encouraged them to do the same  (share their position, gain clarity on the process, seek to understand, and identify a path forward).\\n\\nIn sharing my story, I found it most insightful to see how effortlessly we were able to collaborate on a  solution and how empowered the employee felt to act.  Before wrapping up the conversation, the  employee confirmed what I sensed was true \\u2013 sharing my story with honesty and transparency provided  them with a newfound confidence and clear process for addressing their concerns.\\n\\nApproach\\n\\nAs I think about this instance and others in which I\\u2019ve used storytelling to communicate a compelling  argument, I will largely continue to do what I\\u2019ve done \\u2013 actively listen, be authentic and empathic in my  approach, and clear in my guidance to effectively inspire employees to act.  However, after this course, I  will now more intentionally and strategically leverage and encourage storytelling to advance the  initiatives within the innovation organization I support.  I believe doing so will allow us to more  creatively and passionately share our exciting work and successfully inspire our partners to join us in  executing on that which we believe will exponentially change the world.\\n\\n\",\n          \"Design Thinking for Innovation: Visualization (Module 1)\\n\\n\\u201cEvolving In-Person Events to a Virtual Experience\\u201d\\n\\nChallenge & Selection\\n\\nIt can be a challenge to conduct a productive design thinking session remotely with a large 14-person  team in the current era of working from home. With professional events of all sizes quickly pivoting from  a typical in-person delivery to a virtual delivery model worldwide, my meeting planning team was posed  with a similar challenge. My team plans an annual event to host 350+ Manager-level employees from  across the US for an in-person 3-day learning and networking event. Since large gatherings are currently  restricted with COVID-19, my team\\u2019s challenge was to explore effective ways to convert a 350-person  networking event typically held in person into a virtual offering while maintaining similarly high levels of  participant learning & engagement. How does one incorporate all the various aspects of a successful in- person event to life in an effective virtual capacity, while redesigning an engaging guest experience for  intimate professional networking and meaningful learning?\\n\\nSince my planning team\\u2019s challenge to recreate a event experience was human centered at its core, I  selected the Visualization tool for my team to: 1) achieve a shared understanding of the problem \\u2013 what  elements are essential to redesign an event experience effectively, and 2) kick-off a brainstorming  session to instill creative thinking for potential solutions.\\n\\nWhiteboarding is a common visualization technique where various stakeholders write down what or  how they are visually thinking on sticky Post-It Notes and then physically stick/move these paper notes  at various points in the event lifecycle. In a 100% remote working environment, the use of digital sticky  notes in breakout sessions for small group collaboration was a Visualization technique that enabled my  planning team to dive into idea generation. With a set of key questions, this visual thinking technique  prompted exploratory, abstract discussions as well as aligned group thinking to achieve consensus on  the event design approach in tangible, concrete, and productive way.\\n\\nApplication\\n\\nBefore our first group brainstorming session, it was important for me to do some preparation work for  the team. Prior to COVID-19 and remote working, the planning team was originally segmented into four  workstreams: (1) Marketing & Communications, (2) Event Venue & Logistics, (3) Learning Content &  Agenda, and (4) Networking & Speaker Engagement, as shown in the Figure 1 screenshot below.\\n\\nFigure 1\\n\\nI started the process by mixing up the teams and creating new \\u201cbuckets\\u201d or categories for each  component of the event domain. Since the team\\u2019s ability to collaborate with sticky notes on a physical  whiteboard was not feasible, I divided the large team into small groups of 4-5 team members where  they participated in a small breakout session that focused on a different category of event design.  Assigning individuals to a specific group beforehand ensured a Lead/POC from each original event  workstream was represented in each small group breakout session. This approach diversified the type of  thought leadership and hypothesis\\u2019 that would be generated within each breakout sessions.\\n\\nFigure 2\\n\\nThe Figure 2 screenshot above illustrates the event design categories that prompted each Group 1, 2, or  3 to generate creative ideas and answer their respective question moving beyond the \\u2018What Is\\u2019 to  explore the \\u2018What If\\u2019. I allocated approximately 15-minutes for each breakout group to have relevant  discussions and synthesize their key themes on digital sticky notes. Figure 3 screenshot below illustrates  one example from one of the small breakout session results.\\n\\nFigure 3\\n\\nAfter the small breakout discussions concluded, I facilitated the team coming back together in a single,  virtual forum to debrief. I asked each group to report out their takeaways, while I quickly captured the  shared commonalities and type of feedback it received from the rest of their team members. After the  session, I documented the meeting minutes, including the combined feedback, shared insights, open  questions, key concerns, and other considerations from the discussion, to distribute to my planning  team. This artifact now serves as a reference document that the team can always point back to as we  continue working through the details of event design. Documenting the key takeaways and shared  insights reinforces the group\\u2019s understanding of the fundamental problem and shared insights that the  team can point back as a cornerstone for related decisions.\\n\\nInsight & Approach\\n\\nEstablishing a clear understanding of the problem domain and developing core guiding principles based  on what my team agreed upon was a critical cornerstone to then progress forward in case conflict  arouse later in the ideation and/or execution phases. Since my team was early in the design thinking  process, there was lead time available for disagreement, inefficiencies, and ambiguity in order to\\n\\nachieve consensus and decisions for the overall event design. The tool of Visualization solidified  alignment of our thinking and approach to the problem as well as drove shared insights for more  valuable results. Even though the way in which this annual event is delivered changed from an in-person  to a virtual experience, our human-centered challenge required us to level set context of the problem in  order to re-create a guest experience effectively and maintain its status as the #1 ranked event attended  by Manager-level employees.\\n\\nUsing the tool of visual thinking with our challenge forced creative ideas to be explored with diagrams,  instead of being verbally open for interpretation in a slightly different way. Thus, my team evolved its  thinking from a single activity set (e.g. simply digitizing the same event content to be available on video  broadcasts without a physical event venue) into a larger set of event design activities (e.g. restructuring  design elements to make an event execution successful, engaging, and highly attended).\\n\\nPracticing the use of visualization helps me become a better communicator \\u2013 both written and verbally.  After taking this course, I realized that I don\\u2019t have to have all the \\u201cright answer\\u201d to an open-ended  question, but I can leverage images to stimulate unbounded creativity, imagination, and exploratory  thinking. Without the support of visualization techniques, like categorization and the use of structured  color, innovative ideas generated risk getting \\u201clost\\u201d if not quickly captured visually for further  exploratory discussion or risk overlooking the commonalities between insights. In our next planning  team session, I will practice additional visualization techniques, such as mapping process flows, to  explore the next level of detailed planning for a revised event schedule/agenda. While scheduled to  occur virtually in October 2020, my team\\u2019s redesign will consider all the insights shared on what makes  an effective, engaging, and compelling event.\\n\\n\",\n          \"VISUALIZATION\\n\\nDenise Evans\\n\\nChallenge & Selection\\n\\n\\u201cThe visualization is a core component of the way we communicate and when we are dealing with  problems, we are actually accepting a different kind of problem solving that has to bring in more  than just logic. We are thinking about possibilities that we haven\\u00b4t seen yet\\u201d.  These words  impacted me and opened my eyes. Until now, I never thought about how changing the way I think  and how solving problems with creativity could absolutely make everything easier when I am  facing a problem. Teaching is not as easy as I first thought it would be. Everyday a new challenge  appears and you have to find a way to solve it, one that you haven\\u2019t tried before. The world is  changing and we see that now more than ever. Our education, jobs and life are different from  what we thought they were going to be last year. As teachers, we need to use our creativity every  day and sometimes you feel like the creativity box in your brain is just close and, as the time  passes by, it gets harder and harder to find new solution to the everyday problems. That why  being creative and thinking differently is key, no not only a key, is a need.\\n\\nApplication\\n\\nThe solutions that I thought were innovative then, are just common now. The resources keep the  same but our thinking and creativity shouldn\\u2019t. Knowing that we can\\u2019t change the situation or the  media that we use to teach is very helpful because that way, we can focus on the things that we  can change and I think that is the most important step to take. Sometimes we put our energy in  tasks or things that in reality are not necessary and all they do is hold us back from developing real  solutions to the real problems or challenges that happen every day. Visualization is anything from  the things we write to the images we draw or create in a presentation. Visualization allows us to  access parts of our brain that we never thought we could get access to and that is exactly what we  need to improve our teaching.\\n\\nAs a teacher, finding new activities and new strategies to teach a certain topic without the  students getting bored by always using the resources that every teacher is using is surprisingly  complex. Is something that we were not prepared for. So mastering basic elements of imagining  spaces, situation and actions or movements is key to improving and coming with new ideas for  teaching student from home.\\n\\nFirst, I was determined to find what resources my students had in their houses. If I ask them for  materials that they don\\u2019t have and they have to buy them, they were going to not feel their best  during the class and that would affect how they are going to engage in the activities and if they  were going to learn or not. Working with what they already have was key and writing them down  was the best way for keeping that in mind. Second, looking my students as individuals and not as a  group helped me to imagine all the different options and activities I could do with them.  Visualization helped me looking at all the options as a whole and understanding that not for every  group the same activities are going to work and that in each class every student feels confident  enough to engage completely and to be exited to learn so I should be always up for change.\\n\\nInsight & Approach\\n\\nSince I have been implementing visualization into my life, I have learned a lot of things about  myself that I thought I couldn\\u2019t be able to do or to manage. This specific challenge showed me that  thinking differently is a must for growing and evolving with success. Opening your mind to new  ideas that maybe you were not implementing them because they were scary to pursue, is really  what is going to help you innovate.  The students feel better, being home is hard enough for them  so having a class which is different but effective has an impact, because now they see classes as a  fun and crucial escape that has a positive outcome on them. When a new problem or challenge  comes up, my mind is not limited to what has already been done because in this new teaching era  not everything is already created implemented, in fact, I am able to develop insights and identify  the variables that need to be solved to provide a new effective solution.\\n\\nI have learned and experienced how changing your mindset and allowing yourself to think outside  the box and use my imagination with no fear, is really useful in problem solving and this is  something that not a lot of us think is possible. So, I am determined to visualize my thinking as the  starting point not only for solving a problem, but to just develop any other activity a different way.\\n\\n\"\n        ],\n        \"semantic_type\": \"\",\n        \"description\": \"\"\n      }\n    },\n    {\n      \"column\": \"tokens\",\n      \"properties\": {\n        \"dtype\": \"object\",\n        \"semantic_type\": \"\",\n        \"description\": \"\"\n      }\n    },\n    {\n      \"column\": \"trailing_whitespace\",\n      \"properties\": {\n        \"dtype\": \"object\",\n        \"semantic_type\": \"\",\n        \"description\": \"\"\n      }\n    },\n    {\n      \"column\": \"labels\",\n      \"properties\": {\n        \"dtype\": \"object\",\n        \"semantic_type\": \"\",\n        \"description\": \"\"\n      }\n    }\n  ]\n}"
            }
          },
          "metadata": {},
          "execution_count": 23
        }
      ],
      "source": [
        "\n",
        "df.head()"
      ]
    },
    {
      "cell_type": "markdown",
      "metadata": {
        "id": "XYYYFhak6kye"
      },
      "source": [
        "The pandas data frame produces a better visualization of the structure of the JSON file. Each row represents an essay written by a student. There are 6807 Rows in the data frame, each row representing a student essay. The column 'full text' contains the full essay. The 'Tokens' column contains the text separated by tokens. The trailing white space column is a list of placeholders indicating if a token contains a trailing white space. Finally, the labels column represents a label for each token. Each token is as one of our desired categories of PII, or 'O' if the token does not belong to PII a category.\n",
        "\n",
        "We can view the first full essay as an example. A function 'format_text' is used to make the document more readable for humans."
      ]
    },
    {
      "cell_type": "code",
      "execution_count": null,
      "metadata": {
        "id": "oPaxFF5O6kye",
        "outputId": "a8a80419-67bc-44f8-b328-349f29af6235",
        "colab": {
          "base_uri": "https://localhost:8080/"
        }
      },
      "outputs": [
        {
          "output_type": "stream",
          "name": "stdout",
          "text": [
            "Basavaraju Aakash Kumar\n",
            "<p>\n",
            "boydcynthia@yahoo.com    I    holmespatrick\n",
            "<p>\n",
            "Example Reflection – Learning Launch\n",
            "<p>\n",
            "Challenge\n",
            "<p>\n",
            "I am a team leader in my company which is a infotainment and news channel and  run by upper house of Indian Parliament and in the company as i manage 30  people's design team and in the department my challenge to improve the  workflow of the different daily programme and weekly programme  because  some time all the team member engage to daily work which comes from the  different shows producer and due to that work our weekly shows suffer a lot and  we are not able to give required graphic on time and our management team point  out this problem regularly because we have very short period of time for  programming and we are not able to give quality in the graphics.\n",
            "<p>\n",
            "Selection\n",
            "<p>\n",
            "Our team has already gone through several design thinking tools which will help   us to meet our requirements and help us to improve our work on time. We have  to design some workflow with specific deadlines for each projects with the help of  some tool and idea, the leaning launch is an experiment ment to quickly test an  idea and prototype .\n",
            "<p>\n",
            "Application\n",
            "<p>\n",
            "This is our first tool and we focused on if we could structure our daily graphics our  weekly programming graphics tasks to adapt the methods of scrum project  management. As we have limited time period which is only one week so that we  can see the output so we have design one tool where we have listed our both the\n",
            "<p>\n",
            "work flow (Daily+Weekly) and we tell people to put their graphic requirement  there with the deadline so every requirement comes through this process tool  even if people have any specific thing or suggestion than also you can point out  there which will help us to understand the project because previously our team  members spend lot of time to discuss even on simple or small project so this is  the thing which help us to save our time so now we have some very interesting  facts to resolve our issue and we find out that we have completed our 98% work  on time.\n",
            "<p>\n",
            "Insight & Approach\n",
            "<p>\n",
            "By this tool our team find out some really good output and solution which comes  previously so now we have point out few things like.\n",
            "<p>\n",
            "1. Now people engage with only one project in one time.\n",
            "<p>\n",
            "2. Things are now taken by on their deadline\n",
            "<p>\n",
            "3. Now people have their mindset to complete the project on time\n",
            "<p>\n",
            "4. They have all the details about the project before they start work on it.\n",
            "<p>\n",
            "\n"
          ]
        }
      ],
      "source": [
        "def format_text(text):\n",
        "    # Add paragraph breaks\n",
        "    formatted_text = text.replace('\\n\\n', '\\n\\n<p>\\n\\n')\n",
        "\n",
        "    # Add bullet points to list items\n",
        "    formatted_text = re.sub(r'•\\s', '\\n- ', formatted_text)\n",
        "\n",
        "    # Handle remaining single newlines\n",
        "    formatted_text = re.sub(r'(?<!\\n)\\n(?!\\n)', ' ', formatted_text)\n",
        "\n",
        "    # Remove leading and trailing spaces\n",
        "    formatted_text = re.sub(r'\\s+\\n', '\\n', formatted_text)\n",
        "    formatted_text = re.sub(r'\\n\\s+', '\\n', formatted_text)\n",
        "\n",
        "    return formatted_text\n",
        "\n",
        "# Example usage\n",
        "raw_text = df['full_text'][0]\n",
        "\n",
        "print(format_text(raw_text))"
      ]
    },
    {
      "cell_type": "markdown",
      "metadata": {
        "id": "DdOsQHUO6kyf"
      },
      "source": [
        "#### Distribution of the unique labels."
      ]
    },
    {
      "cell_type": "code",
      "execution_count": null,
      "metadata": {
        "id": "nfVxezsi6kyf",
        "outputId": "47a95c69-e53e-4341-c2ba-d729f0baf9a1",
        "colab": {
          "base_uri": "https://localhost:8080/"
        }
      },
      "outputs": [
        {
          "output_type": "stream",
          "name": "stdout",
          "text": [
            "Label: B-NAME_STUDENT, Frequency: 3018\n",
            "Label: I-NAME_STUDENT, Frequency: 2764\n",
            "Label: O, Frequency: 1910388\n",
            "Label: B-EMAIL, Frequency: 501\n",
            "Label: B-PHONE_NUM, Frequency: 397\n",
            "Label: I-PHONE_NUM, Frequency: 876\n",
            "Label: B-ID_NUM, Frequency: 427\n",
            "Label: B-STREET_ADDRESS, Frequency: 212\n",
            "Label: I-STREET_ADDRESS, Frequency: 2120\n",
            "Label: B-URL_PERSONAL, Frequency: 526\n",
            "Label: I-URL_PERSONAL, Frequency: 95\n",
            "Label: B-USERNAME, Frequency: 120\n",
            "Label: I-ID_NUM, Frequency: 92\n"
          ]
        }
      ],
      "source": [
        "# Count the frequency of each label in the 'train' dataset\n",
        "label_freq = Counter(chain(*train_dataset['labels']))\n",
        "\n",
        "# Display the frequency of each label\n",
        "for label, freq in label_freq.items():\n",
        "    print(f\"Label: {label}, Frequency: {freq}\")"
      ]
    },
    {
      "cell_type": "code",
      "source": [
        "len(df)"
      ],
      "metadata": {
        "colab": {
          "base_uri": "https://localhost:8080/"
        },
        "id": "96oRGUEcMlRB",
        "outputId": "0d5b2fb0-4a8e-40b4-a274-71c6f02e563b"
      },
      "execution_count": null,
      "outputs": [
        {
          "output_type": "execute_result",
          "data": {
            "text/plain": [
              "2970"
            ]
          },
          "metadata": {},
          "execution_count": 26
        }
      ]
    },
    {
      "cell_type": "markdown",
      "metadata": {
        "id": "ZnVXLUI-6kyf"
      },
      "source": [
        "The data set is heavily distributed with tokens that do not belong to a PII category (ie 'O' labels). We will use a focal loss and class weights with our model to help with this class imbalance. This will help ensure our model does not simply predict all 'O's' given the large distribution of those labels."
      ]
    },
    {
      "cell_type": "markdown",
      "metadata": {
        "id": "u8bQgIJT6kyf"
      },
      "source": [
        "\n",
        "\n",
        "#### Tokenization and Alignment of Labels\n",
        "Explanations of the unique labels in the data set are below. These are the desired PII categories we seek to identify in the student essays. Note the tokens are split using a 'piece wise' tokenizer format.\n",
        "\n",
        "##### Explanation of Labels:\n",
        "\n",
        "B-EMAIL: Beginning of an email address.\n",
        "B-ID_NUM: Beginning of an identification number.\n",
        "B-NAME_STUDENT: Beginning of a student's name.\n",
        "B-PHONE_NUM: Beginning of a phone number.\n",
        "B-STREET_ADDRESS: Beginning of a street address.\n",
        "B-URL_PERSONAL: Beginning of a personal URL.\n",
        "B-USERNAME: Beginning of a username.\n",
        "I-ID_NUM: Inside an identification number.\n",
        "I-NAME_STUDENT: Inside a student's name.\n",
        "I-PHONE_NUM: Inside a phone number.\n",
        "I-STREET_ADDRESS: Inside a street address.\n",
        "I-URL_PERSONAL: Inside a personal URL.\n",
        "O: Outside of any named entity.\n",
        "\n",
        "\n",
        "##### Tokenization Process:\n",
        "\n",
        "Token Splitting: The text is split into tokens based on whitespace and punctuation.\n",
        "\n",
        "Subword Tokenization: Each token is further split into subwords. For example, the word \"unhappiness\" might be split into \"un\", \"happi\", and \"ness\".\n",
        "\n",
        "Label Alignment: Labels are aligned with the subword tokens. If a token is split into multiple subwords, the label for the original token is assigned to the first subword, and a special label (typically -100) is assigned to the subsequent subwords.\n",
        "Here's an example of how a token and its label might be split and aligned:\n",
        "\n",
        "Original token: \"unhappiness\" (Label: B-EMOTION) Subword tokens: [\"un\", \"happi\", \"ness\"] Aligned labels: [B-EMOTION, -100, -100]\n",
        "\n",
        "The alignment ensures that the model learns to identify entities correctly even when tokens are split into subwords.\n",
        "\n",
        "</font>\n",
        "\n",
        "A function to tokenize the input data and align the labels with the tokenized inputs s also defined. his function handles the trailing whitespace correctly. The map function, which is included in the datasets library, is used to map the function to all of the documents in the data set. This will create the tokenized dataset required for the Hugging Face Deberta model.\n"
      ]
    },
    {
      "cell_type": "code",
      "execution_count": null,
      "metadata": {
        "id": "Tau0TIz-6kyg",
        "outputId": "33cef0d6-6510-4248-f0d2-acb1fe296045",
        "colab": {
          "base_uri": "https://localhost:8080/",
          "height": 98,
          "referenced_widgets": [
            "53759f5b1ffb4e7b9e8c161a5d8a5403",
            "9ca9c37853ec449cbec21e6a2707aeea",
            "715268dfd6324279aefd4d9e20d0e2dd",
            "6b8606024052434b9ddbb76f9131605c",
            "fd6804128c404b9ca9f811f90e312517",
            "06c34f8aff5e45fc9e317e8337f09448",
            "d1dc080de83c479ba07325b092b84d2f",
            "38e82597fa6e4576bb8bee74e5b68be9",
            "4c7ebcf4a20f4203a62d2c25ce9a7cc2",
            "a2fe89190b21431988213ee784de4b57",
            "c564eb918ee04df6a6e106dac400af7e",
            "892b6b4545114e75b34bda2e9418b892",
            "71a4919fa04d46fe9178119b14dc495a",
            "0ee69cc64017477abaccc01cafaa50fc",
            "c1d71776b040453491b83613c3748024",
            "64fb7eae9f584fa1a20cf7fa9a98ccd3",
            "9dbf678e6e5347cf9eb4141b6b21195d",
            "011f11211cbc4e099dfd5a5383ad835f",
            "488d3797aebf400ea6d279fa3326a70f",
            "951843d735724eeabec6e0c05c37dd08",
            "7c44ff8aa73f465dafb8670eae28a193",
            "0266706d6b564ced93c554a9b6fe628f"
          ]
        }
      },
      "outputs": [
        {
          "output_type": "display_data",
          "data": {
            "text/plain": [
              "Map:   0%|          | 0/2376 [00:00<?, ? examples/s]"
            ],
            "application/vnd.jupyter.widget-view+json": {
              "version_major": 2,
              "version_minor": 0,
              "model_id": "53759f5b1ffb4e7b9e8c161a5d8a5403"
            }
          },
          "metadata": {}
        },
        {
          "output_type": "display_data",
          "data": {
            "text/plain": [
              "Map:   0%|          | 0/594 [00:00<?, ? examples/s]"
            ],
            "application/vnd.jupyter.widget-view+json": {
              "version_major": 2,
              "version_minor": 0,
              "model_id": "892b6b4545114e75b34bda2e9418b892"
            }
          },
          "metadata": {}
        },
        {
          "output_type": "execute_result",
          "data": {
            "text/plain": [
              "95"
            ]
          },
          "metadata": {},
          "execution_count": 27
        }
      ],
      "source": [
        "#Define function to tokenize and align labels\n",
        "def tokenize_and_align_labels(examples):\n",
        "    tokenized_inputs = tokenizer(\n",
        "        examples[\"tokens\"],\n",
        "        is_split_into_words=True,\n",
        "        truncation=True,\n",
        "        padding='max_length',\n",
        "        max_length=2048  # Longformer's max length\n",
        "        #,return_offsets_mapping=True\n",
        "    )\n",
        "\n",
        "    batch_original_tokens = []\n",
        "    batch_tokenized_tokens = []\n",
        "    batch_label_ids = []\n",
        "    batch_input_ids = []\n",
        "    batch_attention_masks = []\n",
        "    batch_token_type_ids = []\n",
        "\n",
        "    for i, label in enumerate(examples[\"labels\"]):\n",
        "        word_ids = tokenized_inputs.word_ids(batch_index=i)\n",
        "        original_tokens = examples[\"tokens\"][i]\n",
        "        tokenized_tokens = tokenizer.convert_ids_to_tokens(tokenized_inputs[\"input_ids\"][i])\n",
        "\n",
        "        previous_word_idx = None\n",
        "        label_ids = []\n",
        "        original_token_list = []\n",
        "        tokenized_token_list = []\n",
        "        input_id_list = []\n",
        "        attention_mask_list = []\n",
        "        token_type_id_list = []\n",
        "\n",
        "        for j, word_idx in enumerate(word_ids):\n",
        "            if word_idx is None:\n",
        "                label_ids.append(-100)\n",
        "                current_original_token = ''  # Special token\n",
        "            elif word_idx == previous_word_idx:\n",
        "                label_ids.append(-100)\n",
        "                current_original_token = ''  # Subword token\n",
        "            else:\n",
        "                label_ids.append(label2id[label[word_idx]])\n",
        "                current_original_token = original_tokens[word_idx]\n",
        "\n",
        "            original_token_list.append(current_original_token)\n",
        "            tokenized_token_list.append(tokenized_tokens[j])\n",
        "            input_id_list.append(tokenized_inputs[\"input_ids\"][i][j])\n",
        "            attention_mask_list.append(tokenized_inputs[\"attention_mask\"][i][j])\n",
        "            if \"token_type_ids\" in tokenized_inputs:\n",
        "                token_type_id_list.append(tokenized_inputs[\"token_type_ids\"][i][j])\n",
        "            else:\n",
        "                token_type_id_list.append(0)\n",
        "            previous_word_idx = word_idx  # Update for the next iteration\n",
        "\n",
        "        batch_original_tokens.append(original_token_list)\n",
        "        batch_tokenized_tokens.append(tokenized_token_list)\n",
        "        batch_label_ids.append(label_ids)\n",
        "        batch_input_ids.append(input_id_list)\n",
        "        batch_attention_masks.append(attention_mask_list)\n",
        "        batch_token_type_ids.append(token_type_id_list)\n",
        "\n",
        "    # Include BERT-required columns\n",
        "    return {\n",
        "        \"original_tokens\": batch_original_tokens,\n",
        "        \"tokenized_tokens\": batch_tokenized_tokens,\n",
        "        \"labels\": batch_label_ids,\n",
        "        \"input_ids\": batch_input_ids,\n",
        "        \"attention_mask\": batch_attention_masks,\n",
        "        \"token_type_ids\": batch_token_type_ids\n",
        "    }\n",
        "\n",
        "# Tokenize\n",
        "tokenized_datasets = dataset_dict.map(tokenize_and_align_labels, batched=True)\n",
        "\n",
        "gc.collect()"
      ]
    },
    {
      "cell_type": "markdown",
      "metadata": {
        "id": "EdiWDb2M6kyg"
      },
      "source": [
        "It is important to ensure the tokenizer works correctly. The function below displays a comparison of the original tokens to the processed tokens."
      ]
    },
    {
      "cell_type": "code",
      "execution_count": null,
      "metadata": {
        "id": "qcNZNLyV6kyg",
        "outputId": "c3126f33-892a-49b7-8a79-b30e82cbe719",
        "colab": {
          "base_uri": "https://localhost:8080/"
        }
      },
      "outputs": [
        {
          "output_type": "stream",
          "name": "stdout",
          "text": [
            "Comparison of first 20 elements for the first document in the train dataset:\n",
            "Original Token:                 | Tokenized Token: <s>                  | Label: -100  | Input ID: 0          | Attention Mask: 1     | Token Type ID: 0\n",
            "Original Token: Waseem          | Tokenized Token: ĠW                   | Label: 2     | Input ID: 305        | Attention Mask: 1     | Token Type ID: 0\n",
            "Original Token:                 | Tokenized Token: ase                  | Label: -100  | Input ID: 3175       | Attention Mask: 1     | Token Type ID: 0\n",
            "Original Token:                 | Tokenized Token: em                   | Label: -100  | Input ID: 991        | Attention Mask: 1     | Token Type ID: 0\n",
            "Original Token: Hamad           | Tokenized Token: ĠHam                 | Label: 6     | Input ID: 3600       | Attention Mask: 1     | Token Type ID: 0\n",
            "Original Token:                 | Tokenized Token: ad                   | Label: -100  | Input ID: 625        | Attention Mask: 1     | Token Type ID: 0\n",
            "Original Token: ,               | Tokenized Token: Ġ,                   | Label: 10    | Input ID: 2156       | Attention Mask: 1     | Token Type ID: 0\n",
            "Original Token: MBA             | Tokenized Token: ĠMBA                 | Label: 10    | Input ID: 25330      | Attention Mask: 1     | Token Type ID: 0\n",
            "Original Token: \n",
            "\n",
            "              | Tokenized Token: Ġ                    | Label: 10    | Input ID: 1437       | Attention Mask: 1     | Token Type ID: 0\n",
            "Original Token:                 | Tokenized Token: ĊĊ                   | Label: -100  | Input ID: 50140      | Attention Mask: 1     | Token Type ID: 0\n",
            "Original Token: Learning        | Tokenized Token: ĠLearning            | Label: 10    | Input ID: 13807      | Attention Mask: 1     | Token Type ID: 0\n",
            "Original Token: Launch          | Tokenized Token: ĠLaunch              | Label: 10    | Input ID: 22217      | Attention Mask: 1     | Token Type ID: 0\n",
            "Original Token: –               | Tokenized Token: ĠâĢĵ                 | Label: 10    | Input ID: 126        | Attention Mask: 1     | Token Type ID: 0\n",
            "Original Token: Designing       | Tokenized Token: ĠDesign              | Label: 10    | Input ID: 7438       | Attention Mask: 1     | Token Type ID: 0\n",
            "Original Token:                 | Tokenized Token: ing                  | Label: -100  | Input ID: 154        | Attention Mask: 1     | Token Type ID: 0\n",
            "Original Token: for             | Tokenized Token: Ġfor                 | Label: 10    | Input ID: 13         | Attention Mask: 1     | Token Type ID: 0\n",
            "Original Token: Growth          | Tokenized Token: ĠGrowth              | Label: 10    | Input ID: 7498       | Attention Mask: 1     | Token Type ID: 0\n",
            "Original Token: \n",
            "\n",
            "              | Tokenized Token: Ġ                    | Label: 10    | Input ID: 1437       | Attention Mask: 1     | Token Type ID: 0\n",
            "Original Token:                 | Tokenized Token: ĊĊ                   | Label: -100  | Input ID: 50140      | Attention Mask: 1     | Token Type ID: 0\n",
            "Original Token: 1               | Tokenized Token: Ġ1                   | Label: 10    | Input ID: 112        | Attention Mask: 1     | Token Type ID: 0\n"
          ]
        }
      ],
      "source": [
        "import datasets\n",
        "\n",
        "# Function to print the first few elements of each relevant column\n",
        "def print_comparison(dataset, num_elements=20):\n",
        "    first_document = dataset[0]\n",
        "    original_tokens = first_document['original_tokens'][:num_elements]\n",
        "    tokenized_tokens = first_document['tokenized_tokens'][:num_elements]\n",
        "    labels = first_document['labels'][:num_elements]\n",
        "    input_ids = first_document['input_ids'][:num_elements]\n",
        "    attention_mask = first_document['attention_mask'][:num_elements]\n",
        "    token_type_ids = first_document['token_type_ids'][:num_elements]\n",
        "\n",
        "    # Print the columns in a readable format\n",
        "    for i in range(num_elements):\n",
        "        print(f\"Original Token: {original_tokens[i]:<15} | \"\n",
        "              f\"Tokenized Token: {tokenized_tokens[i]:<20} | \"\n",
        "              f\"Label: {labels[i]:<5} | \"\n",
        "              f\"Input ID: {input_ids[i]:<10} | \"\n",
        "              f\"Attention Mask: {attention_mask[i]:<5} | \"\n",
        "              f\"Token Type ID: {token_type_ids[i]}\")\n",
        "\n",
        "# Example usage with the train dataset\n",
        "print(\"Comparison of first 20 elements for the first document in the train dataset:\")\n",
        "print_comparison(tokenized_datasets['train'], num_elements=20)"
      ]
    },
    {
      "cell_type": "markdown",
      "metadata": {
        "id": "7uaXimE06kyg"
      },
      "source": [
        "The tokenizer appears to have processed the original tokens correctly. We can remove the unnecessary column from the tokenized data set and only keep the columns required for training."
      ]
    },
    {
      "cell_type": "code",
      "execution_count": null,
      "metadata": {
        "id": "h5z15CRp6kyh"
      },
      "outputs": [],
      "source": [
        "# List of columns to keep\n",
        "columns_to_keep = ['labels', 'input_ids', 'attention_mask', 'token_type_ids']\n",
        "\n",
        "# Function to remove unnecessary columns\n",
        "def remove_unnecessary_columns(dataset, columns_to_keep):\n",
        "    return dataset.remove_columns([column for column in dataset.column_names if column not in columns_to_keep])\n",
        "\n",
        "# Apply the function to both train and test datasets\n",
        "tokenized_datasets['train'] = remove_unnecessary_columns(tokenized_datasets['train'], columns_to_keep)\n",
        "tokenized_datasets['test'] = remove_unnecessary_columns(tokenized_datasets['test'], columns_to_keep)"
      ]
    },
    {
      "cell_type": "markdown",
      "metadata": {
        "id": "wwU_fZYT6kyh"
      },
      "source": [
        "### Longformer Model Training\n",
        "Recall the data set is imbalanced, with the vast majority of labels belonging to a non-PII category 'O.' Class weights with a weighted loss function will be used to help with this imbalance. This means the model will put more focus on the minority classes and will put less weight on the majority classes when training. Also, a custom compute metrics function with a classification report is defined for evaluation."
      ]
    },
    {
      "cell_type": "code",
      "execution_count": null,
      "metadata": {
        "id": "EIIeyc6f6kyh"
      },
      "outputs": [],
      "source": [
        "# Calculate class weights\n",
        "class_weights = compute_class_weight('balanced', classes=np.unique(all_labels), y=all_labels)\n",
        "class_weights = torch.tensor(class_weights, dtype=torch.float).to(device)"
      ]
    },
    {
      "cell_type": "markdown",
      "source": [
        "Creating a custom callback to track the loss at each epoch's end and log it for later plotting"
      ],
      "metadata": {
        "id": "PvTrz4Ya_Kvq"
      }
    },
    {
      "cell_type": "code",
      "source": [
        "from transformers import TrainerCallback\n",
        "import matplotlib.pyplot as plt\n",
        "\n",
        "# Custom callback to log loss at the end of each epoch\n",
        "class LossLoggerCallback(TrainerCallback):\n",
        "    def __init__(self):\n",
        "        self.epoch_losses = []\n",
        "\n",
        "    def on_epoch_end(self, args, state, control, **kwargs):\n",
        "        # Check if log_history has entries\n",
        "        if state.log_history and 'loss' in state.log_history[-1]:\n",
        "            # Store the loss of the current epoch\n",
        "            self.epoch_losses.append(state.log_history[-1]['loss'])\n",
        "        else:\n",
        "            print(\"Warning: No loss logged for this epoch.\")\n",
        "\n",
        "# Initialize the callback\n",
        "loss_logger = LossLoggerCallback()"
      ],
      "metadata": {
        "id": "q_aeGxBk_G5X"
      },
      "execution_count": null,
      "outputs": []
    },
    {
      "cell_type": "code",
      "execution_count": null,
      "metadata": {
        "id": "4MtK4ltg6kyh",
        "colab": {
          "base_uri": "https://localhost:8080/"
        },
        "outputId": "d3ddc154-258d-4b7e-82ae-5d445f95995b"
      },
      "outputs": [
        {
          "output_type": "stream",
          "name": "stderr",
          "text": [
            "<ipython-input-32-e859661ba22b>:57: FutureWarning: `tokenizer` is deprecated and will be removed in version 5.0.0 for `CustomTrainer.__init__`. Use `processing_class` instead.\n",
            "  super().__init__(*args, **kwargs)\n"
          ]
        }
      ],
      "source": [
        "# Define data collator for token classification\n",
        "data_collator = DataCollatorForTokenClassification(tokenizer)\n",
        "\n",
        "# Define Focal Loss for handling class imbalance\n",
        "class FocalLoss(nn.Module):\n",
        "    def __init__(self, gamma=2, alpha=None):\n",
        "        super(FocalLoss, self).__init__()\n",
        "        self.gamma = gamma\n",
        "        self.alpha = alpha\n",
        "        if isinstance(alpha, (float, int)):\n",
        "            self.alpha = torch.Tensor([alpha, 1 - alpha])\n",
        "        if isinstance(alpha, list):\n",
        "            self.alpha = torch.Tensor(alpha)\n",
        "\n",
        "    def forward(self, inputs, targets):\n",
        "        if self.alpha is not None:\n",
        "            self.alpha = self.alpha.to(inputs.device)  # Ensure alpha is on the correct device\n",
        "        BCE_loss = nn.functional.cross_entropy(inputs, targets, reduction='none', weight=self.alpha)\n",
        "        pt = torch.exp(-BCE_loss)\n",
        "        F_loss = ((1 - pt) ** self.gamma) * BCE_loss\n",
        "        return F_loss.mean()\n",
        "\n",
        "# Initialize Focal Loss with class weights\n",
        "class_weights = torch.ones(num_labels).to(\"cuda\")  # Replace with actual class weights if available\n",
        "loss_fn = FocalLoss(gamma=2, alpha=class_weights)\n",
        "\n",
        "# Define custom compute metrics function\n",
        "def compute_metrics(p):\n",
        "    predictions, labels = p\n",
        "    predictions = np.argmax(predictions, axis=2)\n",
        "\n",
        "    true_labels = [[id2label[label] for label in doc if label != -100] for doc in labels]\n",
        "    true_predictions = [\n",
        "        [id2label[pred] for pred, label in zip(doc, labels[i]) if label != -100]\n",
        "        for i, doc in enumerate(predictions)\n",
        "    ]\n",
        "\n",
        "    true_labels_flat = [item for sublist in true_labels for item in sublist]\n",
        "    true_predictions_flat = [item for sublist in true_predictions for item in sublist]\n",
        "\n",
        "    results = precision_recall_fscore_support(true_labels_flat, true_predictions_flat, average='weighted')\n",
        "    class_report = classification_report(\n",
        "        true_labels_flat, true_predictions_flat, labels=all_labels, zero_division=0\n",
        "    )\n",
        "\n",
        "    print(\"Classification Report:\\n\", class_report)\n",
        "    return {\n",
        "        \"precision\": results[0],\n",
        "        \"recall\": results[1],\n",
        "        \"f1\": results[2],\n",
        "        \"accuracy\": (results[2] * results[1])\n",
        "    }\n",
        "\n",
        "# Custom Trainer with custom loss function\n",
        "class CustomTrainer(Trainer):\n",
        "    def __init__(self, loss_fn, *args, **kwargs):\n",
        "        super().__init__(*args, **kwargs)\n",
        "        self.loss_fn = loss_fn\n",
        "\n",
        "    def compute_loss(self, model, inputs, return_outputs=False, **kwargs):\n",
        "        device = next(model.parameters()).device\n",
        "        inputs = {key: value.to(device) for key, value in inputs.items()}  # Ensure inputs are on the same device\n",
        "        labels = inputs.pop(\"labels\").to(device)  # Ensure labels are on the same device\n",
        "\n",
        "        outputs = model(**inputs)\n",
        "        logits = outputs[\"logits\"]\n",
        "        loss = self.loss_fn(logits.view(-1, logits.shape[-1]), labels.view(-1))\n",
        "        # Log the loss explicitly\n",
        "        self.log({\"loss\": loss.item()})\n",
        "        return (loss, outputs) if return_outputs else loss\n",
        "\n",
        "# Training arguments\n",
        "training_args = TrainingArguments(\n",
        "    output_dir='./results',\n",
        "    eval_strategy=\"epoch\",\n",
        "    learning_rate=2e-5,\n",
        "    per_device_train_batch_size=4,  # Keep a low batch size\n",
        "    per_device_eval_batch_size=4,\n",
        "    gradient_accumulation_steps=1,\n",
        "    num_train_epochs=5,\n",
        "    weight_decay=0.01,\n",
        "    logging_steps=10,\n",
        "    save_strategy=\"no\",\n",
        "    report_to='none',\n",
        "    fp16=True  # Enable mixed-precision training\n",
        ")\n",
        "\n",
        "# Initialize Custom Trainer\n",
        "trainer = CustomTrainer(\n",
        "    loss_fn=loss_fn,\n",
        "    model=model,\n",
        "    args=training_args,\n",
        "    train_dataset=tokenized_datasets['train'],\n",
        "    eval_dataset=tokenized_datasets['test'],\n",
        "    tokenizer=tokenizer,\n",
        "    data_collator=data_collator,\n",
        "    compute_metrics=compute_metrics,\n",
        "    callbacks=[loss_logger]  # the loss logger callback\n",
        ")\n"
      ]
    },
    {
      "cell_type": "code",
      "source": [
        "import os\n",
        "os.environ['PYTORCH_CUDA_ALLOC_CONF'] = 'expandable_segments:True'"
      ],
      "metadata": {
        "id": "BL4EcZM1hpTa"
      },
      "execution_count": null,
      "outputs": []
    },
    {
      "cell_type": "code",
      "source": [
        "import torch\n",
        "torch.cuda.empty_cache()  # Clear cached memory\n"
      ],
      "metadata": {
        "id": "NJhMgtxehsxF"
      },
      "execution_count": null,
      "outputs": []
    },
    {
      "cell_type": "code",
      "execution_count": null,
      "metadata": {
        "id": "NUZ8dBrq6kyi",
        "outputId": "ae8cf2a0-5dd5-4f4d-b530-02cc8c6cc3d8",
        "colab": {
          "base_uri": "https://localhost:8080/",
          "height": 1000
        }
      },
      "outputs": [
        {
          "output_type": "display_data",
          "data": {
            "text/plain": [
              "<IPython.core.display.HTML object>"
            ],
            "text/html": [
              "\n",
              "    <div>\n",
              "      \n",
              "      <progress value='1500' max='1500' style='width:300px; height:20px; vertical-align: middle;'></progress>\n",
              "      [1500/1500 45:01, Epoch 5/5]\n",
              "    </div>\n",
              "    <table border=\"1\" class=\"dataframe\">\n",
              "  <thead>\n",
              " <tr style=\"text-align: left;\">\n",
              "      <th>Epoch</th>\n",
              "      <th>Training Loss</th>\n",
              "      <th>Validation Loss</th>\n",
              "      <th>Precision</th>\n",
              "      <th>Recall</th>\n",
              "      <th>F1</th>\n",
              "      <th>Accuracy</th>\n",
              "    </tr>\n",
              "  </thead>\n",
              "  <tbody>\n",
              "    <tr>\n",
              "      <td>1</td>\n",
              "      <td>0.000015</td>\n",
              "      <td>0.000276</td>\n",
              "      <td>0.999493</td>\n",
              "      <td>0.999481</td>\n",
              "      <td>0.999475</td>\n",
              "      <td>0.998956</td>\n",
              "    </tr>\n",
              "    <tr>\n",
              "      <td>2</td>\n",
              "      <td>0.000003</td>\n",
              "      <td>0.000199</td>\n",
              "      <td>0.999565</td>\n",
              "      <td>0.999562</td>\n",
              "      <td>0.999554</td>\n",
              "      <td>0.999116</td>\n",
              "    </tr>\n",
              "    <tr>\n",
              "      <td>3</td>\n",
              "      <td>0.000001</td>\n",
              "      <td>0.000198</td>\n",
              "      <td>0.999659</td>\n",
              "      <td>0.999579</td>\n",
              "      <td>0.999601</td>\n",
              "      <td>0.999180</td>\n",
              "    </tr>\n",
              "    <tr>\n",
              "      <td>4</td>\n",
              "      <td>0.000000</td>\n",
              "      <td>0.000177</td>\n",
              "      <td>0.999632</td>\n",
              "      <td>0.999600</td>\n",
              "      <td>0.999604</td>\n",
              "      <td>0.999204</td>\n",
              "    </tr>\n",
              "    <tr>\n",
              "      <td>5</td>\n",
              "      <td>0.000000</td>\n",
              "      <td>0.000183</td>\n",
              "      <td>0.999613</td>\n",
              "      <td>0.999583</td>\n",
              "      <td>0.999586</td>\n",
              "      <td>0.999169</td>\n",
              "    </tr>\n",
              "  </tbody>\n",
              "</table><p>"
            ]
          },
          "metadata": {}
        },
        {
          "output_type": "stream",
          "name": "stderr",
          "text": [
            "/usr/local/lib/python3.10/dist-packages/sklearn/metrics/_classification.py:1531: UndefinedMetricWarning: Precision is ill-defined and being set to 0.0 in labels with no predicted samples. Use `zero_division` parameter to control this behavior.\n",
            "  _warn_prf(average, modifier, f\"{metric.capitalize()} is\", len(result))\n"
          ]
        },
        {
          "output_type": "stream",
          "name": "stdout",
          "text": [
            "Classification Report:\n",
            "                   precision    recall  f1-score   support\n",
            "\n",
            "  B-NAME_STUDENT       0.75      0.94      0.84       195\n",
            "  I-NAME_STUDENT       0.87      1.00      0.93       156\n",
            "        B-ID_NUM       0.81      0.74      0.77        34\n",
            "         B-EMAIL       0.88      1.00      0.93         7\n",
            "     I-PHONE_NUM       0.00      0.00      0.00         9\n",
            "B-STREET_ADDRESS       0.00      0.00      0.00         0\n",
            "      B-USERNAME       0.00      0.00      0.00         0\n",
            "     B-PHONE_NUM       0.00      0.00      0.00         3\n",
            "  I-URL_PERSONAL       0.00      0.00      0.00         0\n",
            "I-STREET_ADDRESS       0.00      0.00      0.00         0\n",
            "  B-URL_PERSONAL       0.82      0.88      0.85        16\n",
            "               O       1.00      1.00      1.00    234524\n",
            "\n",
            "        accuracy                           1.00    234944\n",
            "       macro avg       0.43      0.46      0.44    234944\n",
            "    weighted avg       1.00      1.00      1.00    234944\n",
            "\n"
          ]
        },
        {
          "output_type": "stream",
          "name": "stderr",
          "text": [
            "/usr/local/lib/python3.10/dist-packages/sklearn/metrics/_classification.py:1531: UndefinedMetricWarning: Precision is ill-defined and being set to 0.0 in labels with no predicted samples. Use `zero_division` parameter to control this behavior.\n",
            "  _warn_prf(average, modifier, f\"{metric.capitalize()} is\", len(result))\n"
          ]
        },
        {
          "output_type": "stream",
          "name": "stdout",
          "text": [
            "Classification Report:\n",
            "                   precision    recall  f1-score   support\n",
            "\n",
            "  B-NAME_STUDENT       0.78      0.94      0.86       195\n",
            "  I-NAME_STUDENT       0.92      0.98      0.95       156\n",
            "        B-ID_NUM       0.91      0.94      0.93        34\n",
            "         B-EMAIL       0.88      1.00      0.93         7\n",
            "     I-PHONE_NUM       0.00      0.00      0.00         9\n",
            "B-STREET_ADDRESS       0.00      0.00      0.00         0\n",
            "      B-USERNAME       0.00      0.00      0.00         0\n",
            "     B-PHONE_NUM       0.00      0.00      0.00         3\n",
            "  I-URL_PERSONAL       0.00      0.00      0.00         0\n",
            "I-STREET_ADDRESS       0.00      0.00      0.00         0\n",
            "  B-URL_PERSONAL       0.64      1.00      0.78        16\n",
            "               O       1.00      1.00      1.00    234524\n",
            "\n",
            "        accuracy                           1.00    234944\n",
            "       macro avg       0.43      0.49      0.45    234944\n",
            "    weighted avg       1.00      1.00      1.00    234944\n",
            "\n"
          ]
        },
        {
          "output_type": "stream",
          "name": "stderr",
          "text": [
            "/usr/local/lib/python3.10/dist-packages/sklearn/metrics/_classification.py:1531: UndefinedMetricWarning: Precision is ill-defined and being set to 0.0 in labels with no predicted samples. Use `zero_division` parameter to control this behavior.\n",
            "  _warn_prf(average, modifier, f\"{metric.capitalize()} is\", len(result))\n",
            "/usr/local/lib/python3.10/dist-packages/sklearn/metrics/_classification.py:1531: UndefinedMetricWarning: Recall is ill-defined and being set to 0.0 in labels with no true samples. Use `zero_division` parameter to control this behavior.\n",
            "  _warn_prf(average, modifier, f\"{metric.capitalize()} is\", len(result))\n"
          ]
        },
        {
          "output_type": "stream",
          "name": "stdout",
          "text": [
            "Classification Report:\n",
            "                   precision    recall  f1-score   support\n",
            "\n",
            "  B-NAME_STUDENT       0.73      0.99      0.84       195\n",
            "  I-NAME_STUDENT       0.93      0.99      0.96       156\n",
            "        B-ID_NUM       0.92      0.97      0.94        34\n",
            "         B-EMAIL       0.88      1.00      0.93         7\n",
            "     I-PHONE_NUM       0.62      0.56      0.59         9\n",
            "B-STREET_ADDRESS       0.00      0.00      0.00         0\n",
            "      B-USERNAME       0.00      0.00      0.00         0\n",
            "     B-PHONE_NUM       0.00      0.00      0.00         3\n",
            "  I-URL_PERSONAL       0.00      0.00      0.00         0\n",
            "I-STREET_ADDRESS       0.00      0.00      0.00         0\n",
            "  B-URL_PERSONAL       0.76      1.00      0.86        16\n",
            "               O       1.00      1.00      1.00    234524\n",
            "\n",
            "        accuracy                           1.00    234944\n",
            "       macro avg       0.49      0.54      0.51    234944\n",
            "    weighted avg       1.00      1.00      1.00    234944\n",
            "\n"
          ]
        },
        {
          "output_type": "stream",
          "name": "stderr",
          "text": [
            "/usr/local/lib/python3.10/dist-packages/sklearn/metrics/_classification.py:1531: UndefinedMetricWarning: Precision is ill-defined and being set to 0.0 in labels with no predicted samples. Use `zero_division` parameter to control this behavior.\n",
            "  _warn_prf(average, modifier, f\"{metric.capitalize()} is\", len(result))\n"
          ]
        },
        {
          "output_type": "stream",
          "name": "stdout",
          "text": [
            "Classification Report:\n",
            "                   precision    recall  f1-score   support\n",
            "\n",
            "  B-NAME_STUDENT       0.77      0.95      0.85       195\n",
            "  I-NAME_STUDENT       0.93      0.99      0.96       156\n",
            "        B-ID_NUM       0.89      0.97      0.93        34\n",
            "         B-EMAIL       0.88      1.00      0.93         7\n",
            "     I-PHONE_NUM       0.75      0.33      0.46         9\n",
            "B-STREET_ADDRESS       0.00      0.00      0.00         0\n",
            "      B-USERNAME       0.00      0.00      0.00         0\n",
            "     B-PHONE_NUM       0.00      0.00      0.00         3\n",
            "  I-URL_PERSONAL       0.00      0.00      0.00         0\n",
            "I-STREET_ADDRESS       0.00      0.00      0.00         0\n",
            "  B-URL_PERSONAL       0.82      0.88      0.85        16\n",
            "               O       1.00      1.00      1.00    234524\n",
            "\n",
            "        accuracy                           1.00    234944\n",
            "       macro avg       0.50      0.51      0.50    234944\n",
            "    weighted avg       1.00      1.00      1.00    234944\n",
            "\n"
          ]
        },
        {
          "output_type": "stream",
          "name": "stderr",
          "text": [
            "/usr/local/lib/python3.10/dist-packages/sklearn/metrics/_classification.py:1531: UndefinedMetricWarning: Precision is ill-defined and being set to 0.0 in labels with no predicted samples. Use `zero_division` parameter to control this behavior.\n",
            "  _warn_prf(average, modifier, f\"{metric.capitalize()} is\", len(result))\n"
          ]
        },
        {
          "output_type": "stream",
          "name": "stdout",
          "text": [
            "Classification Report:\n",
            "                   precision    recall  f1-score   support\n",
            "\n",
            "  B-NAME_STUDENT       0.77      0.95      0.85       195\n",
            "  I-NAME_STUDENT       0.93      0.97      0.95       156\n",
            "        B-ID_NUM       1.00      0.91      0.95        34\n",
            "         B-EMAIL       0.88      1.00      0.93         7\n",
            "     I-PHONE_NUM       0.75      0.33      0.46         9\n",
            "B-STREET_ADDRESS       0.00      0.00      0.00         0\n",
            "      B-USERNAME       0.00      0.00      0.00         0\n",
            "     B-PHONE_NUM       0.00      0.00      0.00         3\n",
            "  I-URL_PERSONAL       0.00      0.00      0.00         0\n",
            "I-STREET_ADDRESS       0.00      0.00      0.00         0\n",
            "  B-URL_PERSONAL       0.82      0.88      0.85        16\n",
            "               O       1.00      1.00      1.00    234524\n",
            "\n",
            "        accuracy                           1.00    234944\n",
            "       macro avg       0.51      0.50      0.50    234944\n",
            "    weighted avg       1.00      1.00      1.00    234944\n",
            "\n"
          ]
        },
        {
          "output_type": "display_data",
          "data": {
            "text/plain": [
              "<IPython.core.display.HTML object>"
            ],
            "text/html": [
              "\n",
              "    <div>\n",
              "      \n",
              "      <progress value='75' max='75' style='width:300px; height:20px; vertical-align: middle;'></progress>\n",
              "      [75/75 00:42]\n",
              "    </div>\n",
              "    "
            ]
          },
          "metadata": {}
        },
        {
          "output_type": "stream",
          "name": "stderr",
          "text": [
            "/usr/local/lib/python3.10/dist-packages/sklearn/metrics/_classification.py:1531: UndefinedMetricWarning: Precision is ill-defined and being set to 0.0 in labels with no predicted samples. Use `zero_division` parameter to control this behavior.\n",
            "  _warn_prf(average, modifier, f\"{metric.capitalize()} is\", len(result))\n"
          ]
        },
        {
          "output_type": "stream",
          "name": "stdout",
          "text": [
            "Classification Report:\n",
            "                   precision    recall  f1-score   support\n",
            "\n",
            "  B-NAME_STUDENT       0.77      0.95      0.85       195\n",
            "  I-NAME_STUDENT       0.93      0.97      0.95       156\n",
            "        B-ID_NUM       1.00      0.91      0.95        34\n",
            "         B-EMAIL       0.88      1.00      0.93         7\n",
            "     I-PHONE_NUM       0.75      0.33      0.46         9\n",
            "B-STREET_ADDRESS       0.00      0.00      0.00         0\n",
            "      B-USERNAME       0.00      0.00      0.00         0\n",
            "     B-PHONE_NUM       0.00      0.00      0.00         3\n",
            "  I-URL_PERSONAL       0.00      0.00      0.00         0\n",
            "I-STREET_ADDRESS       0.00      0.00      0.00         0\n",
            "  B-URL_PERSONAL       0.82      0.88      0.85        16\n",
            "               O       1.00      1.00      1.00    234524\n",
            "\n",
            "        accuracy                           1.00    234944\n",
            "       macro avg       0.51      0.50      0.50    234944\n",
            "    weighted avg       1.00      1.00      1.00    234944\n",
            "\n",
            "{'eval_loss': 0.0001832292473409325, 'eval_precision': 0.9996132260111654, 'eval_recall': 0.9995828793244348, 'eval_f1': 0.9995861362690441, 'eval_accuracy': 0.999169188224598, 'eval_runtime': 47.4569, 'eval_samples_per_second': 6.322, 'eval_steps_per_second': 1.58, 'epoch': 5.0}\n"
          ]
        }
      ],
      "source": [
        "# Train the model\n",
        "trainer.train()\n",
        "\n",
        "# Evaluate the model\n",
        "eval_results = trainer.evaluate()\n",
        "print(eval_results)\n"
      ]
    },
    {
      "cell_type": "code",
      "source": [
        "save_directory = \"./longformer_model\"\n",
        "model.save_pretrained(save_directory)\n",
        "tokenizer.save_pretrained(save_directory)\n",
        "\n",
        "# Plot the epoch losses after training\n",
        "plt.figure(figsize=(10, 5))\n",
        "plt.plot(range(1, len(loss_logger.epoch_losses) + 1), loss_logger.epoch_losses, marker='o')\n",
        "plt.xlabel('Epoch')\n",
        "plt.ylabel('Loss')\n",
        "plt.title('Training Loss per Epoch')\n",
        "plt.xticks(range(1, len(loss_logger.epoch_losses) + 1))  # Set x-axis ticks to match epoch numbers\n",
        "plt.show()"
      ],
      "metadata": {
        "colab": {
          "base_uri": "https://localhost:8080/",
          "height": 487
        },
        "id": "dRVp1wxRZFOf",
        "outputId": "183fac2d-cab0-4ad4-e5f0-42f0b5ace0cc"
      },
      "execution_count": null,
      "outputs": [
        {
          "output_type": "display_data",
          "data": {
            "text/plain": [
              "<Figure size 1000x500 with 1 Axes>"
            ],
            "image/png": "[encoded data removed]"
          },
          "metadata": {}
        }
      ]
    },
    {
      "cell_type": "markdown",
      "source": [
        "### Define a Custom Longformer Model with Dropout"
      ],
      "metadata": {
        "id": "r49K3qpySsm7"
      }
    },
    {
      "cell_type": "code",
      "source": [
        "from transformers import LongformerForTokenClassification\n",
        "import torch.nn as nn\n",
        "\n",
        "# Custom Longformer Model with Dropout\n",
        "class CustomLongformerForTokenClassification(LongformerForTokenClassification):\n",
        "    def __init__(self, config, dropout_rate=0.1):\n",
        "        super().__init__(config)\n",
        "        self.longformer = self.longformer  # Base Longformer model\n",
        "        self.dropout = nn.Dropout(p=dropout_rate)  # Custom dropout rate\n",
        "        self.classifier = nn.Linear(config.hidden_size, config.num_labels)  # Classification layer\n",
        "\n",
        "    def forward(self, input_ids, attention_mask=None, global_attention_mask=None, token_type_ids=None, labels=None):\n",
        "        # Pass inputs through the Longformer model\n",
        "        outputs = self.longformer(\n",
        "            input_ids=input_ids,\n",
        "            attention_mask=attention_mask,\n",
        "            global_attention_mask=global_attention_mask,\n",
        "            token_type_ids=token_type_ids,\n",
        "        )\n",
        "\n",
        "        # Apply dropout and pass through classifier\n",
        "        sequence_output = self.dropout(outputs[0])\n",
        "        logits = self.classifier(sequence_output)\n",
        "\n",
        "        # Compute loss if labels are provided\n",
        "        loss = None\n",
        "        if labels is not None:\n",
        "            loss_fn = nn.CrossEntropyLoss()\n",
        "            loss = loss_fn(logits.view(-1, self.config.num_labels), labels.view(-1))\n",
        "            return (loss, logits)\n",
        "\n",
        "        return logits\n"
      ],
      "metadata": {
        "id": "sij5onjASvfq"
      },
      "execution_count": null,
      "outputs": []
    },
    {
      "cell_type": "markdown",
      "source": [
        "### Initialize Longformer and Tokenizer"
      ],
      "metadata": {
        "id": "RdFMJYlkS6w9"
      }
    },
    {
      "cell_type": "code",
      "source": [
        "from transformers import AutoConfig, AutoTokenizer\n",
        "\n",
        "# Load tokenizer\n",
        "tokenizer = AutoTokenizer.from_pretrained(\"allenai/longformer-base-4096\")\n",
        "\n",
        "# Define the label mappings\n",
        "num_labels = len(label2id)\n",
        "id2label = {v: k for k, v in label2id.items()}\n",
        "\n",
        "# Load configuration\n",
        "config = AutoConfig.from_pretrained(\n",
        "    \"allenai/longformer-base-4096\",\n",
        "    num_labels=num_labels,\n",
        "    id2label=id2label,\n",
        "    label2id=label2id\n",
        ")\n",
        "\n",
        "# Initialize the custom Longformer model with dropout\n",
        "model = CustomLongformerForTokenClassification(config, dropout_rate=0.1)\n",
        "model.to(device)  # Move to GPU/CPU\n"
      ],
      "metadata": {
        "id": "SpTws-s7S9CF",
        "outputId": "01d8f6c6-8412-444b-df3f-a553cc72b1b3",
        "colab": {
          "base_uri": "https://localhost:8080/"
        }
      },
      "execution_count": null,
      "outputs": [
        {
          "output_type": "execute_result",
          "data": {
            "text/plain": [
              "CustomLongformerForTokenClassification(\n",
              "  (longformer): LongformerModel(\n",
              "    (embeddings): LongformerEmbeddings(\n",
              "      (word_embeddings): Embedding(50265, 768, padding_idx=1)\n",
              "      (token_type_embeddings): Embedding(1, 768)\n",
              "      (LayerNorm): LayerNorm((768,), eps=1e-05, elementwise_affine=True)\n",
              "      (dropout): Dropout(p=0.1, inplace=False)\n",
              "      (position_embeddings): Embedding(4098, 768, padding_idx=1)\n",
              "    )\n",
              "    (encoder): LongformerEncoder(\n",
              "      (layer): ModuleList(\n",
              "        (0-11): 12 x LongformerLayer(\n",
              "          (attention): LongformerAttention(\n",
              "            (self): LongformerSelfAttention(\n",
              "              (query): Linear(in_features=768, out_features=768, bias=True)\n",
              "              (key): Linear(in_features=768, out_features=768, bias=True)\n",
              "              (value): Linear(in_features=768, out_features=768, bias=True)\n",
              "              (query_global): Linear(in_features=768, out_features=768, bias=True)\n",
              "              (key_global): Linear(in_features=768, out_features=768, bias=True)\n",
              "              (value_global): Linear(in_features=768, out_features=768, bias=True)\n",
              "            )\n",
              "            (output): LongformerSelfOutput(\n",
              "              (dense): Linear(in_features=768, out_features=768, bias=True)\n",
              "              (LayerNorm): LayerNorm((768,), eps=1e-05, elementwise_affine=True)\n",
              "              (dropout): Dropout(p=0.1, inplace=False)\n",
              "            )\n",
              "          )\n",
              "          (intermediate): LongformerIntermediate(\n",
              "            (dense): Linear(in_features=768, out_features=3072, bias=True)\n",
              "            (intermediate_act_fn): GELUActivation()\n",
              "          )\n",
              "          (output): LongformerOutput(\n",
              "            (dense): Linear(in_features=3072, out_features=768, bias=True)\n",
              "            (LayerNorm): LayerNorm((768,), eps=1e-05, elementwise_affine=True)\n",
              "            (dropout): Dropout(p=0.1, inplace=False)\n",
              "          )\n",
              "        )\n",
              "      )\n",
              "    )\n",
              "  )\n",
              "  (dropout): Dropout(p=0.1, inplace=False)\n",
              "  (classifier): Linear(in_features=768, out_features=13, bias=True)\n",
              ")"
            ]
          },
          "metadata": {},
          "execution_count": 35
        }
      ]
    },
    {
      "cell_type": "markdown",
      "source": [
        "### Data Collator"
      ],
      "metadata": {
        "id": "XtfX7_PGTPYI"
      }
    },
    {
      "cell_type": "code",
      "source": [
        "from transformers import DataCollatorForTokenClassification\n",
        "\n",
        "# Define data collator\n",
        "data_collator = DataCollatorForTokenClassification(tokenizer)\n"
      ],
      "metadata": {
        "id": "oWxOIL8ZTR6C"
      },
      "execution_count": null,
      "outputs": []
    },
    {
      "cell_type": "markdown",
      "source": [
        "### Define Training Arguments and Trainer"
      ],
      "metadata": {
        "id": "1Lv_h0ECTUUA"
      }
    },
    {
      "cell_type": "code",
      "source": [
        "from transformers import TrainingArguments, Trainer, EarlyStoppingCallback\n",
        "\n",
        "# Define training arguments\n",
        "training_args = TrainingArguments(\n",
        "    output_dir='./results_longformer',\n",
        "    evaluation_strategy=\"epoch\",\n",
        "    save_strategy=\"epoch\",\n",
        "    load_best_model_at_end=True,\n",
        "    metric_for_best_model=\"loss\",\n",
        "    greater_is_better=False,\n",
        "    learning_rate=1e-5,\n",
        "    per_device_train_batch_size=2,\n",
        "    per_device_eval_batch_size=2,\n",
        "    gradient_accumulation_steps=4,\n",
        "    num_train_epochs=3,\n",
        "    weight_decay=0.01,\n",
        "    fp16=True,\n",
        "    max_grad_norm=1.0,\n",
        "    logging_dir='./logs_longformer',\n",
        "    logging_steps=10,\n",
        "    report_to='none'\n",
        ")\n",
        "\n",
        "# Early stopping callback\n",
        "early_stopping_callback = EarlyStoppingCallback(early_stopping_patience=2)\n",
        "\n",
        "# Initialize the trainer\n",
        "trainer = Trainer(\n",
        "    model=model,\n",
        "    args=training_args,\n",
        "    train_dataset=tokenized_datasets['train'],\n",
        "    eval_dataset=tokenized_datasets['test'],\n",
        "    tokenizer=tokenizer,\n",
        "    data_collator=data_collator,\n",
        "    compute_metrics=compute_metrics,\n",
        "    callbacks=[early_stopping_callback]\n",
        ")\n"
      ],
      "metadata": {
        "id": "ChiqrSaVTYmn",
        "outputId": "e5c492c6-da58-49e2-8a19-34e9a92dc400",
        "colab": {
          "base_uri": "https://localhost:8080/"
        }
      },
      "execution_count": null,
      "outputs": [
        {
          "output_type": "stream",
          "name": "stderr",
          "text": [
            "/usr/local/lib/python3.10/dist-packages/transformers/training_args.py:1568: FutureWarning: `evaluation_strategy` is deprecated and will be removed in version 4.46 of 🤗 Transformers. Use `eval_strategy` instead\n",
            "  warnings.warn(\n",
            "<ipython-input-37-7a4fcbee49ab>:28: FutureWarning: `tokenizer` is deprecated and will be removed in version 5.0.0 for `Trainer.__init__`. Use `processing_class` instead.\n",
            "  trainer = Trainer(\n"
          ]
        }
      ]
    },
    {
      "cell_type": "markdown",
      "source": [
        "### Train the Model"
      ],
      "metadata": {
        "id": "P8TJP6znTfp5"
      }
    },
    {
      "cell_type": "code",
      "source": [
        "# Train the model\n",
        "trainer.train()\n"
      ],
      "metadata": {
        "id": "TyNUhAifTiJi",
        "outputId": "f304d3ad-0ef8-4190-b2c7-d6200bf442ce",
        "colab": {
          "base_uri": "https://localhost:8080/",
          "height": 1000
        }
      },
      "execution_count": null,
      "outputs": [
        {
          "output_type": "display_data",
          "data": {
            "text/plain": [
              "<IPython.core.display.HTML object>"
            ],
            "text/html": [
              "\n",
              "    <div>\n",
              "      \n",
              "      <progress value='891' max='891' style='width:300px; height:20px; vertical-align: middle;'></progress>\n",
              "      [891/891 55:44, Epoch 3/3]\n",
              "    </div>\n",
              "    <table border=\"1\" class=\"dataframe\">\n",
              "  <thead>\n",
              " <tr style=\"text-align: left;\">\n",
              "      <th>Epoch</th>\n",
              "      <th>Training Loss</th>\n",
              "      <th>Validation Loss</th>\n",
              "      <th>Precision</th>\n",
              "      <th>Recall</th>\n",
              "      <th>F1</th>\n",
              "      <th>Accuracy</th>\n",
              "    </tr>\n",
              "  </thead>\n",
              "  <tbody>\n",
              "    <tr>\n",
              "      <td>1</td>\n",
              "      <td>0.011200</td>\n",
              "      <td>0.012178</td>\n",
              "      <td>0.997165</td>\n",
              "      <td>0.997490</td>\n",
              "      <td>0.997180</td>\n",
              "      <td>0.994677</td>\n",
              "    </tr>\n",
              "    <tr>\n",
              "      <td>2</td>\n",
              "      <td>0.007300</td>\n",
              "      <td>0.009056</td>\n",
              "      <td>0.997796</td>\n",
              "      <td>0.998019</td>\n",
              "      <td>0.997770</td>\n",
              "      <td>0.995793</td>\n",
              "    </tr>\n",
              "    <tr>\n",
              "      <td>3</td>\n",
              "      <td>0.009000</td>\n",
              "      <td>0.007941</td>\n",
              "      <td>0.997960</td>\n",
              "      <td>0.998153</td>\n",
              "      <td>0.997976</td>\n",
              "      <td>0.996133</td>\n",
              "    </tr>\n",
              "  </tbody>\n",
              "</table><p>"
            ]
          },
          "metadata": {}
        },
        {
          "output_type": "stream",
          "name": "stdout",
          "text": [
            "Classification Report:\n",
            "                   precision    recall  f1-score   support\n",
            "\n",
            "B-STREET_ADDRESS       0.95      1.00      0.97        56\n",
            "     B-PHONE_NUM       0.96      1.00      0.98        90\n",
            "  B-NAME_STUDENT       0.72      0.44      0.55       746\n",
            "I-STREET_ADDRESS       0.92      1.00      0.96       560\n",
            "  I-URL_PERSONAL       1.00      1.00      1.00        24\n",
            "        B-ID_NUM       0.97      0.29      0.44       104\n",
            "  I-NAME_STUDENT       0.68      0.44      0.53       687\n",
            "  B-URL_PERSONAL       0.92      0.96      0.94       140\n",
            "     I-PHONE_NUM       0.93      1.00      0.97       183\n",
            "         B-EMAIL       0.96      0.69      0.80       113\n",
            "               O       1.00      1.00      1.00    475766\n",
            "        I-ID_NUM       1.00      1.00      1.00        26\n",
            "      B-USERNAME       1.00      0.27      0.43        22\n",
            "\n",
            "        accuracy                           1.00    478517\n",
            "       macro avg       0.92      0.78      0.81    478517\n",
            "    weighted avg       1.00      1.00      1.00    478517\n",
            "\n",
            "Classification Report:\n",
            "                   precision    recall  f1-score   support\n",
            "\n",
            "B-STREET_ADDRESS       0.95      1.00      0.97        56\n",
            "     B-PHONE_NUM       0.97      1.00      0.98        90\n",
            "  B-NAME_STUDENT       0.77      0.52      0.62       746\n",
            "I-STREET_ADDRESS       0.99      1.00      1.00       560\n",
            "  I-URL_PERSONAL       1.00      1.00      1.00        24\n",
            "        B-ID_NUM       0.92      0.45      0.61       104\n",
            "  I-NAME_STUDENT       0.84      0.47      0.60       687\n",
            "  B-URL_PERSONAL       0.93      0.97      0.95       140\n",
            "     I-PHONE_NUM       0.97      1.00      0.98       183\n",
            "         B-EMAIL       0.99      0.69      0.81       113\n",
            "               O       1.00      1.00      1.00    475766\n",
            "        I-ID_NUM       1.00      1.00      1.00        26\n",
            "      B-USERNAME       0.96      1.00      0.98        22\n",
            "\n",
            "        accuracy                           1.00    478517\n",
            "       macro avg       0.95      0.85      0.89    478517\n",
            "    weighted avg       1.00      1.00      1.00    478517\n",
            "\n",
            "Classification Report:\n",
            "                   precision    recall  f1-score   support\n",
            "\n",
            "B-STREET_ADDRESS       0.95      1.00      0.97        56\n",
            "     B-PHONE_NUM       0.97      1.00      0.98        90\n",
            "  B-NAME_STUDENT       0.81      0.53      0.64       746\n",
            "I-STREET_ADDRESS       0.97      1.00      0.98       560\n",
            "  I-URL_PERSONAL       1.00      1.00      1.00        24\n",
            "        B-ID_NUM       0.96      0.62      0.75       104\n",
            "  I-NAME_STUDENT       0.77      0.56      0.65       687\n",
            "  B-URL_PERSONAL       0.94      0.97      0.96       140\n",
            "     I-PHONE_NUM       0.97      1.00      0.98       183\n",
            "         B-EMAIL       0.99      0.79      0.88       113\n",
            "               O       1.00      1.00      1.00    475766\n",
            "        I-ID_NUM       1.00      1.00      1.00        26\n",
            "      B-USERNAME       0.96      1.00      0.98        22\n",
            "\n",
            "        accuracy                           1.00    478517\n",
            "       macro avg       0.94      0.88      0.91    478517\n",
            "    weighted avg       1.00      1.00      1.00    478517\n",
            "\n"
          ]
        },
        {
          "output_type": "execute_result",
          "data": {
            "text/plain": [
              "TrainOutput(global_step=891, training_loss=0.023124329400835215, metrics={'train_runtime': 3349.1439, 'train_samples_per_second': 2.128, 'train_steps_per_second': 0.266, 'total_flos': 9313088207486976.0, 'train_loss': 0.023124329400835215, 'epoch': 3.0})"
            ]
          },
          "metadata": {},
          "execution_count": 38
        }
      ]
    },
    {
      "cell_type": "markdown",
      "source": [
        "### Plot Training and Validation Loss"
      ],
      "metadata": {
        "id": "YWHqEBrJTkp_"
      }
    },
    {
      "cell_type": "code",
      "source": [
        "# Extract training and validation loss\n",
        "training_losses = [log['loss'] for log in trainer.state.log_history if 'loss' in log]\n",
        "validation_losses = [log['eval_loss'] for log in trainer.state.log_history if 'eval_loss' in log]\n",
        "\n",
        "# Ensure both lists have the same length\n",
        "if len(validation_losses) < len(training_losses):\n",
        "    training_losses = training_losses[:len(validation_losses)]\n",
        "elif len(validation_losses) > len(training_losses):\n",
        "    validation_losses = validation_losses[:len(training_losses)]\n",
        "\n",
        "# Plot training and validation losses\n",
        "plt.figure(figsize=(10, 6))\n",
        "plt.plot(range(1, len(training_losses) + 1), training_losses, label='Training Loss', marker='o')\n",
        "plt.plot(range(1, len(validation_losses) + 1), validation_losses, label='Validation Loss', marker='x')\n",
        "plt.xlabel('Epoch')\n",
        "plt.ylabel('Loss')\n",
        "plt.title('Training and Validation Loss for Sensitive Data Detection Using Longformer')\n",
        "plt.legend()\n",
        "plt.grid()\n",
        "plt.show()\n"
      ],
      "metadata": {
        "id": "YxXh8FbHTojm",
        "outputId": "95d0bc59-bfc1-41c0-9b52-a4fbfc5a51ea",
        "colab": {
          "base_uri": "https://localhost:8080/",
          "height": 564
        }
      },
      "execution_count": null,
      "outputs": [
        {
          "output_type": "display_data",
          "data": {
            "text/plain": [
              "<Figure size 1000x600 with 1 Axes>"
            ],
            "image/png": "[encoded data removed]"
          },
          "metadata": {}
        }
      ]
    },
    {
      "cell_type": "markdown",
      "source": [
        "### Confusion Matrix for Sensitive Data Detection"
      ],
      "metadata": {
        "id": "CvLp5ZFET7kY"
      }
    },
    {
      "cell_type": "code",
      "source": [
        "from sklearn.metrics import confusion_matrix, ConfusionMatrixDisplay\n",
        "import numpy as np\n",
        "\n",
        "# Step 1: Get predictions from the trainer\n",
        "predictions, labels, _ = trainer.predict(tokenized_datasets['test'])\n",
        "\n",
        "# Step 2: Convert predictions to label IDs\n",
        "predicted_label_ids = np.argmax(predictions, axis=2)\n",
        "\n",
        "# Step 3: Map IDs to actual label names\n",
        "true_labels = [\n",
        "    [id2label[label] for label in doc if label != -100]  # Ignore padding tokens\n",
        "    for doc in labels\n",
        "]\n",
        "pred_labels = [\n",
        "    [id2label[pred] for pred, label in zip(doc, labels[i]) if label != -100]\n",
        "    for i, doc in enumerate(predicted_label_ids)\n",
        "]\n",
        "\n",
        "# Step 4: Flatten the lists for confusion matrix\n",
        "true_labels_flat = [label for sublist in true_labels for label in sublist]\n",
        "pred_labels_flat = [label for sublist in pred_labels for label in sublist]\n",
        "\n",
        "# Step 5: Generate confusion matrix\n",
        "unique_labels = list(set(true_labels_flat + pred_labels_flat))\n",
        "cm = confusion_matrix(true_labels_flat, pred_labels_flat, labels=unique_labels)\n",
        "\n",
        "# Step 6: Plot the confusion matrix\n",
        "plt.figure(figsize=(12, 10))\n",
        "disp = ConfusionMatrixDisplay(confusion_matrix=cm, display_labels=unique_labels)\n",
        "disp.plot(cmap=\"viridis\", xticks_rotation=45)\n",
        "plt.title(\"Confusion Matrix for Sensitive Data Detection Using Longformer\")\n",
        "plt.show()\n"
      ],
      "metadata": {
        "id": "iQG7CqD1T90N",
        "outputId": "58c6be0d-ebae-4e5b-c4c1-01bc02ba4c3b",
        "colab": {
          "base_uri": "https://localhost:8080/",
          "height": 949
        }
      },
      "execution_count": null,
      "outputs": [
        {
          "output_type": "display_data",
          "data": {
            "text/plain": [
              "<IPython.core.display.HTML object>"
            ],
            "text/html": []
          },
          "metadata": {}
        },
        {
          "output_type": "stream",
          "name": "stdout",
          "text": [
            "Classification Report:\n",
            "                   precision    recall  f1-score   support\n",
            "\n",
            "B-STREET_ADDRESS       0.95      1.00      0.97        56\n",
            "     B-PHONE_NUM       0.97      1.00      0.98        90\n",
            "  B-NAME_STUDENT       0.81      0.53      0.64       746\n",
            "I-STREET_ADDRESS       0.97      1.00      0.98       560\n",
            "  I-URL_PERSONAL       1.00      1.00      1.00        24\n",
            "        B-ID_NUM       0.96      0.62      0.75       104\n",
            "  I-NAME_STUDENT       0.77      0.56      0.65       687\n",
            "  B-URL_PERSONAL       0.94      0.97      0.96       140\n",
            "     I-PHONE_NUM       0.97      1.00      0.98       183\n",
            "         B-EMAIL       0.99      0.79      0.88       113\n",
            "               O       1.00      1.00      1.00    475766\n",
            "        I-ID_NUM       1.00      1.00      1.00        26\n",
            "      B-USERNAME       0.96      1.00      0.98        22\n",
            "\n",
            "        accuracy                           1.00    478517\n",
            "       macro avg       0.94      0.88      0.91    478517\n",
            "    weighted avg       1.00      1.00      1.00    478517\n",
            "\n"
          ]
        },
        {
          "output_type": "display_data",
          "data": {
            "text/plain": [
              "<Figure size 1200x1000 with 0 Axes>"
            ]
          },
          "metadata": {}
        },
        {
          "output_type": "display_data",
          "data": {
            "text/plain": [
              "<Figure size 640x480 with 2 Axes>"
            ],
            "image/png": "[encoded data removed]"
          },
          "metadata": {}
        }
      ]
    },
    {
      "cell_type": "markdown",
      "source": [
        "### Save the model\n"
      ],
      "metadata": {
        "id": "2mBF7z5yUFEx"
      }
    },
    {
      "cell_type": "code",
      "source": [
        "import os\n",
        "os.makedirs(\"/content/drive/My Drive/PII_models\", exist_ok=True)\n",
        "\n",
        "# Specify the output directory where the model and tokenizer should be saved\n",
        "save_directory = \"/content/drive/My Drive/PII_models/longformer_sensitive_data_detection_model\"\n",
        "\n",
        "model.save_pretrained(save_directory)\n",
        "tokenizer.save_pretrained(save_directory)\n",
        "\n",
        "print(f\"Model and tokenizer saved to {save_directory}\")"
      ],
      "metadata": {
        "id": "vZkhxyLOUH6D",
        "outputId": "ad49a7b5-c40c-42d4-c907-af06901a1da6",
        "colab": {
          "base_uri": "https://localhost:8080/"
        }
      },
      "execution_count": null,
      "outputs": [
        {
          "output_type": "stream",
          "name": "stdout",
          "text": [
            "Model and tokenizer saved to /content/drive/My Drive/PII_models/longformer_sensitive_data_detection_model\n"
          ]
        }
      ]
    },
    {
      "cell_type": "markdown",
      "source": [
        "### Inference The Model"
      ],
      "metadata": {
        "id": "TUBDnTfrcsMN"
      }
    },
    {
      "cell_type": "code",
      "source": [
        "from google.colab import drive\n",
        "drive.mount('/content/drive')"
      ],
      "metadata": {
        "id": "Mh1eG52UzzHg"
      },
      "execution_count": null,
      "outputs": []
    },
    {
      "cell_type": "code",
      "source": [
        "from transformers import AutoTokenizer, AutoModelForTokenClassification\n",
        "import torch\n",
        "\n",
        "# Specify the saved directory\n",
        "save_directory = \"/content/drive/My Drive/PII_models/longformer_sensitive_data_detection_model\"\n",
        "\n",
        "# Load the tokenizer and model\n",
        "tokenizer = AutoTokenizer.from_pretrained(save_directory)\n",
        "model = AutoModelForTokenClassification.from_pretrained(save_directory)\n",
        "\n",
        "# Move model to the appropriate device (GPU if available)\n",
        "device = torch.device(\"cuda\" if torch.cuda.is_available() else \"cpu\")\n",
        "model.to(device)\n",
        "\n",
        "print(\"Model and tokenizer loaded successfully!\")\n"
      ],
      "metadata": {
        "colab": {
          "base_uri": "https://localhost:8080/"
        },
        "id": "9sJYJZhEdP8u",
        "outputId": "fc8f6569-a710-46cd-c2a2-c7869aecc68c"
      },
      "execution_count": null,
      "outputs": [
        {
          "output_type": "stream",
          "name": "stdout",
          "text": [
            "Model and tokenizer loaded successfully!\n"
          ]
        }
      ]
    },
    {
      "cell_type": "code",
      "source": [
        "# Input text for inference\n",
        "text = \"Sensitive data like credit card numbers, addresses, or personal emails such as john.doe@gmail.com should be protected.\"\n",
        "\n",
        "# Tokenize the input\n",
        "tokens = tokenizer(\n",
        "    text,\n",
        "    return_tensors=\"pt\",\n",
        "    padding=True,\n",
        "    truncation=True,\n",
        "    max_length=512,  # Adjust based on your model's maximum length\n",
        "    is_split_into_words=False\n",
        ")\n",
        "\n",
        "# Move tokens to the same device as the model\n",
        "tokens = {key: val.to(device) for key, val in tokens.items()}\n",
        "\n",
        "# Perform inference\n",
        "with torch.no_grad():\n",
        "    outputs = model(**tokens)\n",
        "    logits = outputs.logits\n",
        "    predictions = torch.argmax(logits, dim=-1)\n",
        "\n",
        "# Map predictions to labels\n",
        "id2label = model.config.id2label  # Ensure this mapping exists in the model configuration\n",
        "predicted_labels = [id2label[label] for label in predictions[0].tolist()]\n",
        "tokens_decoded = tokenizer.convert_ids_to_tokens(tokens[\"input_ids\"][0])\n",
        "\n",
        "# Display results\n",
        "print(\"Tokenized Input and Predictions:\")\n",
        "for token, label in zip(tokens_decoded, predicted_labels):\n",
        "    print(f\"{token}: {label}\")\n"
      ],
      "metadata": {
        "colab": {
          "base_uri": "https://localhost:8080/"
        },
        "id": "Ev74Dnp9dSaU",
        "outputId": "749ae93b-5856-4c24-eaf1-7f3626edf14a"
      },
      "execution_count": null,
      "outputs": [
        {
          "output_type": "stream",
          "name": "stderr",
          "text": [
            "Input ids are automatically padded to be a multiple of `config.attention_window`: 512\n"
          ]
        },
        {
          "output_type": "stream",
          "name": "stdout",
          "text": [
            "Tokenized Input and Predictions:\n",
            "<s>: O\n",
            "S: O\n",
            "ensitive: O\n",
            "Ġdata: O\n",
            "Ġlike: O\n",
            "Ġcredit: O\n",
            "Ġcard: O\n",
            "Ġnumbers: O\n",
            ",: O\n",
            "Ġaddresses: O\n",
            ",: O\n",
            "Ġor: O\n",
            "Ġpersonal: O\n",
            "Ġemails: O\n",
            "Ġsuch: O\n",
            "Ġas: O\n",
            "Ġjohn: B-EMAIL\n",
            ".: O\n",
            "d: O\n",
            "oe: O\n",
            "@: O\n",
            "gmail: O\n",
            ".: O\n",
            "com: O\n",
            "Ġshould: O\n",
            "Ġbe: O\n",
            "Ġprotected: O\n",
            ".: O\n",
            "</s>: O\n"
          ]
        }
      ]
    },
    {
      "cell_type": "code",
      "source": [],
      "metadata": {
        "id": "PolLK-H_dWDO"
      },
      "execution_count": null,
      "outputs": []
    }
  ],
  "metadata": {
    "kernelspec": {
      "display_name": "Python 3",
      "name": "python3"
    },
    "language_info": {
      "codemirror_mode": {
        "name": "ipython",
        "version": 3
      },
      "file_extension": ".py",
      "mimetype": "text/x-python",
      "name": "python",
      "nbconvert_exporter": "python",
      "pygments_lexer": "ipython3",
      "version": "3.10.14"
    },
    "colab": {
      "provenance": [],
      "gpuType": "T4",
      "name": "pii_detection_with_longformer_b.ipynb",
      "include_colab_link": true
    },
    "widgets": {
      "application/vnd.jupyter.widget-state+json": {
        "53759f5b1ffb4e7b9e8c161a5d8a5403": {
          "model_module": "@jupyter-widgets/controls",
          "model_name": "HBoxModel",
          "model_module_version": "1.5.0",
          "state": {
            "_dom_classes": [],
            "_model_module": "@jupyter-widgets/controls",
            "_model_module_version": "1.5.0",
            "_model_name": "HBoxModel",
            "_view_count": null,
            "_view_module": "@jupyter-widgets/controls",
            "_view_module_version": "1.5.0",
            "_view_name": "HBoxView",
            "box_style": "",
            "children": [
              "IPY_MODEL_9ca9c37853ec449cbec21e6a2707aeea",
              "IPY_MODEL_715268dfd6324279aefd4d9e20d0e2dd",
              "IPY_MODEL_6b8606024052434b9ddbb76f9131605c"
            ],
            "layout": "IPY_MODEL_fd6804128c404b9ca9f811f90e312517"
          }
        },
        "9ca9c37853ec449cbec21e6a2707aeea": {
          "model_module": "@jupyter-widgets/controls",
          "model_name": "HTMLModel",
          "model_module_version": "1.5.0",
          "state": {
            "_dom_classes": [],
            "_model_module": "@jupyter-widgets/controls",
            "_model_module_version": "1.5.0",
            "_model_name": "HTMLModel",
            "_view_count": null,
            "_view_module": "@jupyter-widgets/controls",
            "_view_module_version": "1.5.0",
            "_view_name": "HTMLView",
            "description": "",
            "description_tooltip": null,
            "layout": "IPY_MODEL_06c34f8aff5e45fc9e317e8337f09448",
            "placeholder": "​",
            "style": "IPY_MODEL_d1dc080de83c479ba07325b092b84d2f",
            "value": "Map: 100%"
          }
        },
        "715268dfd6324279aefd4d9e20d0e2dd": {
          "model_module": "@jupyter-widgets/controls",
          "model_name": "FloatProgressModel",
          "model_module_version": "1.5.0",
          "state": {
            "_dom_classes": [],
            "_model_module": "@jupyter-widgets/controls",
            "_model_module_version": "1.5.0",
            "_model_name": "FloatProgressModel",
            "_view_count": null,
            "_view_module": "@jupyter-widgets/controls",
            "_view_module_version": "1.5.0",
            "_view_name": "ProgressView",
            "bar_style": "success",
            "description": "",
            "description_tooltip": null,
            "layout": "IPY_MODEL_38e82597fa6e4576bb8bee74e5b68be9",
            "max": 2376,
            "min": 0,
            "orientation": "horizontal",
            "style": "IPY_MODEL_4c7ebcf4a20f4203a62d2c25ce9a7cc2",
            "value": 2376
          }
        },
        "6b8606024052434b9ddbb76f9131605c": {
          "model_module": "@jupyter-widgets/controls",
          "model_name": "HTMLModel",
          "model_module_version": "1.5.0",
          "state": {
            "_dom_classes": [],
            "_model_module": "@jupyter-widgets/controls",
            "_model_module_version": "1.5.0",
            "_model_name": "HTMLModel",
            "_view_count": null,
            "_view_module": "@jupyter-widgets/controls",
            "_view_module_version": "1.5.0",
            "_view_name": "HTMLView",
            "description": "",
            "description_tooltip": null,
            "layout": "IPY_MODEL_a2fe89190b21431988213ee784de4b57",
            "placeholder": "​",
            "style": "IPY_MODEL_c564eb918ee04df6a6e106dac400af7e",
            "value": " 2376/2376 [00:29&lt;00:00, 81.66 examples/s]"
          }
        },
        "fd6804128c404b9ca9f811f90e312517": {
          "model_module": "@jupyter-widgets/base",
          "model_name": "LayoutModel",
          "model_module_version": "1.2.0",
          "state": {
            "_model_module": "@jupyter-widgets/base",
            "_model_module_version": "1.2.0",
            "_model_name": "LayoutModel",
            "_view_count": null,
            "_view_module": "@jupyter-widgets/base",
            "_view_module_version": "1.2.0",
            "_view_name": "LayoutView",
            "align_content": null,
            "align_items": null,
            "align_self": null,
            "border": null,
            "bottom": null,
            "display": null,
            "flex": null,
            "flex_flow": null,
            "grid_area": null,
            "grid_auto_columns": null,
            "grid_auto_flow": null,
            "grid_auto_rows": null,
            "grid_column": null,
            "grid_gap": null,
            "grid_row": null,
            "grid_template_areas": null,
            "grid_template_columns": null,
            "grid_template_rows": null,
            "height": null,
            "justify_content": null,
            "justify_items": null,
            "left": null,
            "margin": null,
            "max_height": null,
            "max_width": null,
            "min_height": null,
            "min_width": null,
            "object_fit": null,
            "object_position": null,
            "order": null,
            "overflow": null,
            "overflow_x": null,
            "overflow_y": null,
            "padding": null,
            "right": null,
            "top": null,
            "visibility": null,
            "width": null
          }
        },
        "06c34f8aff5e45fc9e317e8337f09448": {
          "model_module": "@jupyter-widgets/base",
          "model_name": "LayoutModel",
          "model_module_version": "1.2.0",
          "state": {
            "_model_module": "@jupyter-widgets/base",
            "_model_module_version": "1.2.0",
            "_model_name": "LayoutModel",
            "_view_count": null,
            "_view_module": "@jupyter-widgets/base",
            "_view_module_version": "1.2.0",
            "_view_name": "LayoutView",
            "align_content": null,
            "align_items": null,
            "align_self": null,
            "border": null,
            "bottom": null,
            "display": null,
            "flex": null,
            "flex_flow": null,
            "grid_area": null,
            "grid_auto_columns": null,
            "grid_auto_flow": null,
            "grid_auto_rows": null,
            "grid_column": null,
            "grid_gap": null,
            "grid_row": null,
            "grid_template_areas": null,
            "grid_template_columns": null,
            "grid_template_rows": null,
            "height": null,
            "justify_content": null,
            "justify_items": null,
            "left": null,
            "margin": null,
            "max_height": null,
            "max_width": null,
            "min_height": null,
            "min_width": null,
            "object_fit": null,
            "object_position": null,
            "order": null,
            "overflow": null,
            "overflow_x": null,
            "overflow_y": null,
            "padding": null,
            "right": null,
            "top": null,
            "visibility": null,
            "width": null
          }
        },
        "d1dc080de83c479ba07325b092b84d2f": {
          "model_module": "@jupyter-widgets/controls",
          "model_name": "DescriptionStyleModel",
          "model_module_version": "1.5.0",
          "state": {
            "_model_module": "@jupyter-widgets/controls",
            "_model_module_version": "1.5.0",
            "_model_name": "DescriptionStyleModel",
            "_view_count": null,
            "_view_module": "@jupyter-widgets/base",
            "_view_module_version": "1.2.0",
            "_view_name": "StyleView",
            "description_width": ""
          }
        },
        "38e82597fa6e4576bb8bee74e5b68be9": {
          "model_module": "@jupyter-widgets/base",
          "model_name": "LayoutModel",
          "model_module_version": "1.2.0",
          "state": {
            "_model_module": "@jupyter-widgets/base",
            "_model_module_version": "1.2.0",
            "_model_name": "LayoutModel",
            "_view_count": null,
            "_view_module": "@jupyter-widgets/base",
            "_view_module_version": "1.2.0",
            "_view_name": "LayoutView",
            "align_content": null,
            "align_items": null,
            "align_self": null,
            "border": null,
            "bottom": null,
            "display": null,
            "flex": null,
            "flex_flow": null,
            "grid_area": null,
            "grid_auto_columns": null,
            "grid_auto_flow": null,
            "grid_auto_rows": null,
            "grid_column": null,
            "grid_gap": null,
            "grid_row": null,
            "grid_template_areas": null,
            "grid_template_columns": null,
            "grid_template_rows": null,
            "height": null,
            "justify_content": null,
            "justify_items": null,
            "left": null,
            "margin": null,
            "max_height": null,
            "max_width": null,
            "min_height": null,
            "min_width": null,
            "object_fit": null,
            "object_position": null,
            "order": null,
            "overflow": null,
            "overflow_x": null,
            "overflow_y": null,
            "padding": null,
            "right": null,
            "top": null,
            "visibility": null,
            "width": null
          }
        },
        "4c7ebcf4a20f4203a62d2c25ce9a7cc2": {
          "model_module": "@jupyter-widgets/controls",
          "model_name": "ProgressStyleModel",
          "model_module_version": "1.5.0",
          "state": {
            "_model_module": "@jupyter-widgets/controls",
            "_model_module_version": "1.5.0",
            "_model_name": "ProgressStyleModel",
            "_view_count": null,
            "_view_module": "@jupyter-widgets/base",
            "_view_module_version": "1.2.0",
            "_view_name": "StyleView",
            "bar_color": null,
            "description_width": ""
          }
        },
        "a2fe89190b21431988213ee784de4b57": {
          "model_module": "@jupyter-widgets/base",
          "model_name": "LayoutModel",
          "model_module_version": "1.2.0",
          "state": {
            "_model_module": "@jupyter-widgets/base",
            "_model_module_version": "1.2.0",
            "_model_name": "LayoutModel",
            "_view_count": null,
            "_view_module": "@jupyter-widgets/base",
            "_view_module_version": "1.2.0",
            "_view_name": "LayoutView",
            "align_content": null,
            "align_items": null,
            "align_self": null,
            "border": null,
            "bottom": null,
            "display": null,
            "flex": null,
            "flex_flow": null,
            "grid_area": null,
            "grid_auto_columns": null,
            "grid_auto_flow": null,
            "grid_auto_rows": null,
            "grid_column": null,
            "grid_gap": null,
            "grid_row": null,
            "grid_template_areas": null,
            "grid_template_columns": null,
            "grid_template_rows": null,
            "height": null,
            "justify_content": null,
            "justify_items": null,
            "left": null,
            "margin": null,
            "max_height": null,
            "max_width": null,
            "min_height": null,
            "min_width": null,
            "object_fit": null,
            "object_position": null,
            "order": null,
            "overflow": null,
            "overflow_x": null,
            "overflow_y": null,
            "padding": null,
            "right": null,
            "top": null,
            "visibility": null,
            "width": null
          }
        },
        "c564eb918ee04df6a6e106dac400af7e": {
          "model_module": "@jupyter-widgets/controls",
          "model_name": "DescriptionStyleModel",
          "model_module_version": "1.5.0",
          "state": {
            "_model_module": "@jupyter-widgets/controls",
            "_model_module_version": "1.5.0",
            "_model_name": "DescriptionStyleModel",
            "_view_count": null,
            "_view_module": "@jupyter-widgets/base",
            "_view_module_version": "1.2.0",
            "_view_name": "StyleView",
            "description_width": ""
          }
        },
        "892b6b4545114e75b34bda2e9418b892": {
          "model_module": "@jupyter-widgets/controls",
          "model_name": "HBoxModel",
          "model_module_version": "1.5.0",
          "state": {
            "_dom_classes": [],
            "_model_module": "@jupyter-widgets/controls",
            "_model_module_version": "1.5.0",
            "_model_name": "HBoxModel",
            "_view_count": null,
            "_view_module": "@jupyter-widgets/controls",
            "_view_module_version": "1.5.0",
            "_view_name": "HBoxView",
            "box_style": "",
            "children": [
              "IPY_MODEL_71a4919fa04d46fe9178119b14dc495a",
              "IPY_MODEL_0ee69cc64017477abaccc01cafaa50fc",
              "IPY_MODEL_c1d71776b040453491b83613c3748024"
            ],
            "layout": "IPY_MODEL_64fb7eae9f584fa1a20cf7fa9a98ccd3"
          }
        },
        "71a4919fa04d46fe9178119b14dc495a": {
          "model_module": "@jupyter-widgets/controls",
          "model_name": "HTMLModel",
          "model_module_version": "1.5.0",
          "state": {
            "_dom_classes": [],
            "_model_module": "@jupyter-widgets/controls",
            "_model_module_version": "1.5.0",
            "_model_name": "HTMLModel",
            "_view_count": null,
            "_view_module": "@jupyter-widgets/controls",
            "_view_module_version": "1.5.0",
            "_view_name": "HTMLView",
            "description": "",
            "description_tooltip": null,
            "layout": "IPY_MODEL_9dbf678e6e5347cf9eb4141b6b21195d",
            "placeholder": "​",
            "style": "IPY_MODEL_011f11211cbc4e099dfd5a5383ad835f",
            "value": "Map: 100%"
          }
        },
        "0ee69cc64017477abaccc01cafaa50fc": {
          "model_module": "@jupyter-widgets/controls",
          "model_name": "FloatProgressModel",
          "model_module_version": "1.5.0",
          "state": {
            "_dom_classes": [],
            "_model_module": "@jupyter-widgets/controls",
            "_model_module_version": "1.5.0",
            "_model_name": "FloatProgressModel",
            "_view_count": null,
            "_view_module": "@jupyter-widgets/controls",
            "_view_module_version": "1.5.0",
            "_view_name": "ProgressView",
            "bar_style": "success",
            "description": "",
            "description_tooltip": null,
            "layout": "IPY_MODEL_488d3797aebf400ea6d279fa3326a70f",
            "max": 594,
            "min": 0,
            "orientation": "horizontal",
            "style": "IPY_MODEL_951843d735724eeabec6e0c05c37dd08",
            "value": 594
          }
        },
        "c1d71776b040453491b83613c3748024": {
          "model_module": "@jupyter-widgets/controls",
          "model_name": "HTMLModel",
          "model_module_version": "1.5.0",
          "state": {
            "_dom_classes": [],
            "_model_module": "@jupyter-widgets/controls",
            "_model_module_version": "1.5.0",
            "_model_name": "HTMLModel",
            "_view_count": null,
            "_view_module": "@jupyter-widgets/controls",
            "_view_module_version": "1.5.0",
            "_view_name": "HTMLView",
            "description": "",
            "description_tooltip": null,
            "layout": "IPY_MODEL_7c44ff8aa73f465dafb8670eae28a193",
            "placeholder": "​",
            "style": "IPY_MODEL_0266706d6b564ced93c554a9b6fe628f",
            "value": " 594/594 [00:08&lt;00:00, 69.82 examples/s]"
          }
        },
        "64fb7eae9f584fa1a20cf7fa9a98ccd3": {
          "model_module": "@jupyter-widgets/base",
          "model_name": "LayoutModel",
          "model_module_version": "1.2.0",
          "state": {
            "_model_module": "@jupyter-widgets/base",
            "_model_module_version": "1.2.0",
            "_model_name": "LayoutModel",
            "_view_count": null,
            "_view_module": "@jupyter-widgets/base",
            "_view_module_version": "1.2.0",
            "_view_name": "LayoutView",
            "align_content": null,
            "align_items": null,
            "align_self": null,
            "border": null,
            "bottom": null,
            "display": null,
            "flex": null,
            "flex_flow": null,
            "grid_area": null,
            "grid_auto_columns": null,
            "grid_auto_flow": null,
            "grid_auto_rows": null,
            "grid_column": null,
            "grid_gap": null,
            "grid_row": null,
            "grid_template_areas": null,
            "grid_template_columns": null,
            "grid_template_rows": null,
            "height": null,
            "justify_content": null,
            "justify_items": null,
            "left": null,
            "margin": null,
            "max_height": null,
            "max_width": null,
            "min_height": null,
            "min_width": null,
            "object_fit": null,
            "object_position": null,
            "order": null,
            "overflow": null,
            "overflow_x": null,
            "overflow_y": null,
            "padding": null,
            "right": null,
            "top": null,
            "visibility": null,
            "width": null
          }
        },
        "9dbf678e6e5347cf9eb4141b6b21195d": {
          "model_module": "@jupyter-widgets/base",
          "model_name": "LayoutModel",
          "model_module_version": "1.2.0",
          "state": {
            "_model_module": "@jupyter-widgets/base",
            "_model_module_version": "1.2.0",
            "_model_name": "LayoutModel",
            "_view_count": null,
            "_view_module": "@jupyter-widgets/base",
            "_view_module_version": "1.2.0",
            "_view_name": "LayoutView",
            "align_content": null,
            "align_items": null,
            "align_self": null,
            "border": null,
            "bottom": null,
            "display": null,
            "flex": null,
            "flex_flow": null,
            "grid_area": null,
            "grid_auto_columns": null,
            "grid_auto_flow": null,
            "grid_auto_rows": null,
            "grid_column": null,
            "grid_gap": null,
            "grid_row": null,
            "grid_template_areas": null,
            "grid_template_columns": null,
            "grid_template_rows": null,
            "height": null,
            "justify_content": null,
            "justify_items": null,
            "left": null,
            "margin": null,
            "max_height": null,
            "max_width": null,
            "min_height": null,
            "min_width": null,
            "object_fit": null,
            "object_position": null,
            "order": null,
            "overflow": null,
            "overflow_x": null,
            "overflow_y": null,
            "padding": null,
            "right": null,
            "top": null,
            "visibility": null,
            "width": null
          }
        },
        "011f11211cbc4e099dfd5a5383ad835f": {
          "model_module": "@jupyter-widgets/controls",
          "model_name": "DescriptionStyleModel",
          "model_module_version": "1.5.0",
          "state": {
            "_model_module": "@jupyter-widgets/controls",
            "_model_module_version": "1.5.0",
            "_model_name": "DescriptionStyleModel",
            "_view_count": null,
            "_view_module": "@jupyter-widgets/base",
            "_view_module_version": "1.2.0",
            "_view_name": "StyleView",
            "description_width": ""
          }
        },
        "488d3797aebf400ea6d279fa3326a70f": {
          "model_module": "@jupyter-widgets/base",
          "model_name": "LayoutModel",
          "model_module_version": "1.2.0",
          "state": {
            "_model_module": "@jupyter-widgets/base",
            "_model_module_version": "1.2.0",
            "_model_name": "LayoutModel",
            "_view_count": null,
            "_view_module": "@jupyter-widgets/base",
            "_view_module_version": "1.2.0",
            "_view_name": "LayoutView",
            "align_content": null,
            "align_items": null,
            "align_self": null,
            "border": null,
            "bottom": null,
            "display": null,
            "flex": null,
            "flex_flow": null,
            "grid_area": null,
            "grid_auto_columns": null,
            "grid_auto_flow": null,
            "grid_auto_rows": null,
            "grid_column": null,
            "grid_gap": null,
            "grid_row": null,
            "grid_template_areas": null,
            "grid_template_columns": null,
            "grid_template_rows": null,
            "height": null,
            "justify_content": null,
            "justify_items": null,
            "left": null,
            "margin": null,
            "max_height": null,
            "max_width": null,
            "min_height": null,
            "min_width": null,
            "object_fit": null,
            "object_position": null,
            "order": null,
            "overflow": null,
            "overflow_x": null,
            "overflow_y": null,
            "padding": null,
            "right": null,
            "top": null,
            "visibility": null,
            "width": null
          }
        },
        "951843d735724eeabec6e0c05c37dd08": {
          "model_module": "@jupyter-widgets/controls",
          "model_name": "ProgressStyleModel",
          "model_module_version": "1.5.0",
          "state": {
            "_model_module": "@jupyter-widgets/controls",
            "_model_module_version": "1.5.0",
            "_model_name": "ProgressStyleModel",
            "_view_count": null,
            "_view_module": "@jupyter-widgets/base",
            "_view_module_version": "1.2.0",
            "_view_name": "StyleView",
            "bar_color": null,
            "description_width": ""
          }
        },
        "7c44ff8aa73f465dafb8670eae28a193": {
          "model_module": "@jupyter-widgets/base",
          "model_name": "LayoutModel",
          "model_module_version": "1.2.0",
          "state": {
            "_model_module": "@jupyter-widgets/base",
            "_model_module_version": "1.2.0",
            "_model_name": "LayoutModel",
            "_view_count": null,
            "_view_module": "@jupyter-widgets/base",
            "_view_module_version": "1.2.0",
            "_view_name": "LayoutView",
            "align_content": null,
            "align_items": null,
            "align_self": null,
            "border": null,
            "bottom": null,
            "display": null,
            "flex": null,
            "flex_flow": null,
            "grid_area": null,
            "grid_auto_columns": null,
            "grid_auto_flow": null,
            "grid_auto_rows": null,
            "grid_column": null,
            "grid_gap": null,
            "grid_row": null,
            "grid_template_areas": null,
            "grid_template_columns": null,
            "grid_template_rows": null,
            "height": null,
            "justify_content": null,
            "justify_items": null,
            "left": null,
            "margin": null,
            "max_height": null,
            "max_width": null,
            "min_height": null,
            "min_width": null,
            "object_fit": null,
            "object_position": null,
            "order": null,
            "overflow": null,
            "overflow_x": null,
            "overflow_y": null,
            "padding": null,
            "right": null,
            "top": null,
            "visibility": null,
            "width": null
          }
        },
        "0266706d6b564ced93c554a9b6fe628f": {
          "model_module": "@jupyter-widgets/controls",
          "model_name": "DescriptionStyleModel",
          "model_module_version": "1.5.0",
          "state": {
            "_model_module": "@jupyter-widgets/controls",
            "_model_module_version": "1.5.0",
            "_model_name": "DescriptionStyleModel",
            "_view_count": null,
            "_view_module": "@jupyter-widgets/base",
            "_view_module_version": "1.2.0",
            "_view_name": "StyleView",
            "description_width": ""
          }
        }
      }
    },
    "accelerator": "GPU"
  },
  "nbformat": 4,
  "nbformat_minor": 0
}