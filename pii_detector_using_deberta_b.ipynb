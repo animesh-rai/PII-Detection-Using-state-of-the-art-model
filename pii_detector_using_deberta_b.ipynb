{
  "cells": [
    {
      "cell_type": "markdown",
      "metadata": {
        "id": "view-in-github",
        "colab_type": "text"
      },
      "source": [
        "<a href=\"https://colab.research.google.com/github/animesh-rai/x23194545_Sensitive_data_detection/blob/main/pii_detector_using_deberta_b.ipynb\" target=\"_parent\"><img src=\"https://colab.research.google.com/assets/colab-badge.svg\" alt=\"Open In Colab\"/></a>"
      ]
    },
    {
      "cell_type": "markdown",
      "source": [
        "Installing the datasets library, essential for loading, managing, and processing datasets, especially in NLP tasks."
      ],
      "metadata": {
        "id": "Q6DuDt8grfrl"
      }
    },
    {
      "cell_type": "code",
      "source": [
        "!pip install datasets"
      ],
      "metadata": {
        "colab": {
          "base_uri": "https://localhost:8080/"
        },
        "id": "laJwWReQ7Eqz",
        "outputId": "b789f43a-2eb9-4907-b64a-9edf8b5c8342"
      },
      "execution_count": null,
      "outputs": [
        {
          "output_type": "stream",
          "name": "stdout",
          "text": [
            "Collecting datasets\n",
            "  Downloading datasets-3.1.0-py3-none-any.whl.metadata (20 kB)\n",
            "Requirement already satisfied: filelock in /usr/local/lib/python3.10/dist-packages (from datasets) (3.16.1)\n",
            "Requirement already satisfied: numpy>=1.17 in /usr/local/lib/python3.10/dist-packages (from datasets) (1.26.4)\n",
            "Requirement already satisfied: pyarrow>=15.0.0 in /usr/local/lib/python3.10/dist-packages (from datasets) (17.0.0)\n",
            "Collecting dill<0.3.9,>=0.3.0 (from datasets)\n",
            "  Downloading dill-0.3.8-py3-none-any.whl.metadata (10 kB)\n",
            "Requirement already satisfied: pandas in /usr/local/lib/python3.10/dist-packages (from datasets) (2.2.2)\n",
            "Requirement already satisfied: requests>=2.32.2 in /usr/local/lib/python3.10/dist-packages (from datasets) (2.32.3)\n",
            "Requirement already satisfied: tqdm>=4.66.3 in /usr/local/lib/python3.10/dist-packages (from datasets) (4.66.6)\n",
            "Collecting xxhash (from datasets)\n",
            "  Downloading xxhash-3.5.0-cp310-cp310-manylinux_2_17_x86_64.manylinux2014_x86_64.whl.metadata (12 kB)\n",
            "Collecting multiprocess<0.70.17 (from datasets)\n",
            "  Downloading multiprocess-0.70.16-py310-none-any.whl.metadata (7.2 kB)\n",
            "Collecting fsspec<=2024.9.0,>=2023.1.0 (from fsspec[http]<=2024.9.0,>=2023.1.0->datasets)\n",
            "  Downloading fsspec-2024.9.0-py3-none-any.whl.metadata (11 kB)\n",
            "Requirement already satisfied: aiohttp in /usr/local/lib/python3.10/dist-packages (from datasets) (3.11.9)\n",
            "Requirement already satisfied: huggingface-hub>=0.23.0 in /usr/local/lib/python3.10/dist-packages (from datasets) (0.26.3)\n",
            "Requirement already satisfied: packaging in /usr/local/lib/python3.10/dist-packages (from datasets) (24.2)\n",
            "Requirement already satisfied: pyyaml>=5.1 in /usr/local/lib/python3.10/dist-packages (from datasets) (6.0.2)\n",
            "Requirement already satisfied: aiohappyeyeballs>=2.3.0 in /usr/local/lib/python3.10/dist-packages (from aiohttp->datasets) (2.4.4)\n",
            "Requirement already satisfied: aiosignal>=1.1.2 in /usr/local/lib/python3.10/dist-packages (from aiohttp->datasets) (1.3.1)\n",
            "Requirement already satisfied: async-timeout<6.0,>=4.0 in /usr/local/lib/python3.10/dist-packages (from aiohttp->datasets) (4.0.3)\n",
            "Requirement already satisfied: attrs>=17.3.0 in /usr/local/lib/python3.10/dist-packages (from aiohttp->datasets) (24.2.0)\n",
            "Requirement already satisfied: frozenlist>=1.1.1 in /usr/local/lib/python3.10/dist-packages (from aiohttp->datasets) (1.5.0)\n",
            "Requirement already satisfied: multidict<7.0,>=4.5 in /usr/local/lib/python3.10/dist-packages (from aiohttp->datasets) (6.1.0)\n",
            "Requirement already satisfied: propcache>=0.2.0 in /usr/local/lib/python3.10/dist-packages (from aiohttp->datasets) (0.2.1)\n",
            "Requirement already satisfied: yarl<2.0,>=1.17.0 in /usr/local/lib/python3.10/dist-packages (from aiohttp->datasets) (1.18.3)\n",
            "Requirement already satisfied: typing-extensions>=3.7.4.3 in /usr/local/lib/python3.10/dist-packages (from huggingface-hub>=0.23.0->datasets) (4.12.2)\n",
            "Requirement already satisfied: charset-normalizer<4,>=2 in /usr/local/lib/python3.10/dist-packages (from requests>=2.32.2->datasets) (3.4.0)\n",
            "Requirement already satisfied: idna<4,>=2.5 in /usr/local/lib/python3.10/dist-packages (from requests>=2.32.2->datasets) (3.10)\n",
            "Requirement already satisfied: urllib3<3,>=1.21.1 in /usr/local/lib/python3.10/dist-packages (from requests>=2.32.2->datasets) (2.2.3)\n",
            "Requirement already satisfied: certifi>=2017.4.17 in /usr/local/lib/python3.10/dist-packages (from requests>=2.32.2->datasets) (2024.8.30)\n",
            "Requirement already satisfied: python-dateutil>=2.8.2 in /usr/local/lib/python3.10/dist-packages (from pandas->datasets) (2.8.2)\n",
            "Requirement already satisfied: pytz>=2020.1 in /usr/local/lib/python3.10/dist-packages (from pandas->datasets) (2024.2)\n",
            "Requirement already satisfied: tzdata>=2022.7 in /usr/local/lib/python3.10/dist-packages (from pandas->datasets) (2024.2)\n",
            "Requirement already satisfied: six>=1.5 in /usr/local/lib/python3.10/dist-packages (from python-dateutil>=2.8.2->pandas->datasets) (1.16.0)\n",
            "Downloading datasets-3.1.0-py3-none-any.whl (480 kB)\n",
            "\u001b[2K   \u001b[90m━━━━━━━━━━━━━━━━━━━━━━━━━━━━━━━━━━━━━━━━\u001b[0m \u001b[32m480.6/480.6 kB\u001b[0m \u001b[31m25.8 MB/s\u001b[0m eta \u001b[36m0:00:00\u001b[0m\n",
            "\u001b[?25hDownloading dill-0.3.8-py3-none-any.whl (116 kB)\n",
            "\u001b[2K   \u001b[90m━━━━━━━━━━━━━━━━━━━━━━━━━━━━━━━━━━━━━━━━\u001b[0m \u001b[32m116.3/116.3 kB\u001b[0m \u001b[31m8.9 MB/s\u001b[0m eta \u001b[36m0:00:00\u001b[0m\n",
            "\u001b[?25hDownloading fsspec-2024.9.0-py3-none-any.whl (179 kB)\n",
            "\u001b[2K   \u001b[90m━━━━━━━━━━━━━━━━━━━━━━━━━━━━━━━━━━━━━━━━\u001b[0m \u001b[32m179.3/179.3 kB\u001b[0m \u001b[31m13.8 MB/s\u001b[0m eta \u001b[36m0:00:00\u001b[0m\n",
            "\u001b[?25hDownloading multiprocess-0.70.16-py310-none-any.whl (134 kB)\n",
            "\u001b[2K   \u001b[90m━━━━━━━━━━━━━━━━━━━━━━━━━━━━━━━━━━━━━━━━\u001b[0m \u001b[32m134.8/134.8 kB\u001b[0m \u001b[31m12.3 MB/s\u001b[0m eta \u001b[36m0:00:00\u001b[0m\n",
            "\u001b[?25hDownloading xxhash-3.5.0-cp310-cp310-manylinux_2_17_x86_64.manylinux2014_x86_64.whl (194 kB)\n",
            "\u001b[2K   \u001b[90m━━━━━━━━━━━━━━━━━━━━━━━━━━━━━━━━━━━━━━━━\u001b[0m \u001b[32m194.1/194.1 kB\u001b[0m \u001b[31m15.2 MB/s\u001b[0m eta \u001b[36m0:00:00\u001b[0m\n",
            "\u001b[?25hInstalling collected packages: xxhash, fsspec, dill, multiprocess, datasets\n",
            "  Attempting uninstall: fsspec\n",
            "    Found existing installation: fsspec 2024.10.0\n",
            "    Uninstalling fsspec-2024.10.0:\n",
            "      Successfully uninstalled fsspec-2024.10.0\n",
            "\u001b[31mERROR: pip's dependency resolver does not currently take into account all the packages that are installed. This behaviour is the source of the following dependency conflicts.\n",
            "gcsfs 2024.10.0 requires fsspec==2024.10.0, but you have fsspec 2024.9.0 which is incompatible.\u001b[0m\u001b[31m\n",
            "\u001b[0mSuccessfully installed datasets-3.1.0 dill-0.3.8 fsspec-2024.9.0 multiprocess-0.70.16 xxhash-3.5.0\n"
          ]
        }
      ]
    },
    {
      "cell_type": "markdown",
      "source": [
        "Lets import libraries required for data processing, training, and evaluation of the PII detection model. Also, define a utility function to set random seeds for reproducibility.\n",
        "\n",
        "Key Points here in below code block:\n",
        "\n",
        "1. Uses transformers for token classification tasks.\n",
        "\n",
        "2. Includes sklearn for metrics and class weighting.\n",
        "\n",
        "3. Captures the script's start time for execution tracking."
      ],
      "metadata": {
        "id": "hNggyM6WrnKB"
      }
    },
    {
      "cell_type": "code",
      "execution_count": null,
      "metadata": {
        "colab": {
          "base_uri": "https://localhost:8080/"
        },
        "id": "9abyRb226kyb",
        "outputId": "60708cc7-b667-4dd1-dd81-9159dc92f7f4"
      },
      "outputs": [
        {
          "output_type": "stream",
          "name": "stdout",
          "text": [
            "Start Time:  2024-12-10 09:54:34\n"
          ]
        }
      ],
      "source": [
        "#Import packages\n",
        "import torch\n",
        "from torch.utils.data import DataLoader\n",
        "from transformers import AutoTokenizer, AutoModelForTokenClassification, TrainingArguments, Trainer, DataCollatorForTokenClassification\n",
        "from sklearn.metrics import classification_report, precision_recall_fscore_support\n",
        "from collections import Counter\n",
        "import datasets\n",
        "from sklearn.model_selection import train_test_split\n",
        "from sklearn.utils.class_weight import compute_class_weight\n",
        "import pandas as pd\n",
        "import numpy as np\n",
        "import torch.nn as nn\n",
        "import torch.nn.functional as F\n",
        "import gc\n",
        "import re\n",
        "import random\n",
        "from itertools import chain\n",
        "\n",
        "#import wandb\n",
        "# Initialize wandb\n",
        "#wandb.init(project=\"pii-detection\")\n",
        "\n",
        "#Set random seeds for reproducibility\n",
        "def set_seed(seed):\n",
        "    random.seed(seed)\n",
        "    np.random.seed(seed)\n",
        "    torch.manual_seed(seed)\n",
        "    if torch.cuda.is_available():\n",
        "        torch.cuda.manual_seed_all(seed)\n",
        "        torch.backends.cudnn.deterministic = True\n",
        "        torch.backends.cudnn.benchmark = False\n",
        "\n",
        "seed_value = 42\n",
        "set_seed(seed_value)\n",
        "\n",
        "import time\n",
        "# Capture the start time\n",
        "start_time = time.time()\n",
        "print(\"Start Time: \", time.strftime(\"%Y-%m-%d %H:%M:%S\", time.localtime(start_time)))"
      ]
    },
    {
      "cell_type": "markdown",
      "source": [
        "Below code will check for the availability of a GPU and prints its name. If unavailable, the code defaults to using the CPU.\n",
        "* Ensures that the script adapts to the hardware setup."
      ],
      "metadata": {
        "id": "9jcORTBmrxQt"
      }
    },
    {
      "cell_type": "code",
      "execution_count": null,
      "metadata": {
        "colab": {
          "base_uri": "https://localhost:8080/"
        },
        "id": "UXTYPint6kyb",
        "outputId": "a4f67ab8-8097-4a71-802d-7c1996b15771"
      },
      "outputs": [
        {
          "output_type": "stream",
          "name": "stdout",
          "text": [
            "GPU: Tesla T4 is available.\n"
          ]
        }
      ],
      "source": [
        "import torch\n",
        "if torch.cuda.is_available():\n",
        "    print(f\"GPU: {torch.cuda.get_device_name(0)} is available.\")\n",
        "else:\n",
        "    print(\"No GPU available. Training will run on CPU.\")"
      ]
    },
    {
      "cell_type": "markdown",
      "source": [
        "Mounting Google Drive to the Colab environment to access external files and datasets.\n",
        "* Facilitates access to external datasets and the saving of models."
      ],
      "metadata": {
        "id": "9ZDnGHO7r3b-"
      }
    },
    {
      "cell_type": "code",
      "source": [
        "from google.colab import drive\n",
        "drive.mount('/content/drive')"
      ],
      "metadata": {
        "colab": {
          "base_uri": "https://localhost:8080/"
        },
        "id": "wq0FqMI_wdkS",
        "outputId": "eb4202b4-0728-48ec-cf79-73087ac299fd"
      },
      "execution_count": null,
      "outputs": [
        {
          "output_type": "stream",
          "name": "stdout",
          "text": [
            "Mounted at /content/drive\n"
          ]
        }
      ]
    },
    {
      "cell_type": "markdown",
      "metadata": {
        "id": "5BSJOzS-6kyb"
      },
      "source": [
        "### Load and preprocess Dataset\n",
        "Loads and preprocesses the dataset for PII detection, initializes the tokenizer and model, and splits the data into training and testing sets.\n",
        "\n",
        "1. Reads a JSON dataset from Google Drive.\n",
        "2. The dataset is loaded in JSON format, converted into a Pandas DataFrame, and truncated to 1500 rows for easier handling.\n",
        "3. Maps unique labels to IDs and vice versa.\n"
      ]
    },
    {
      "cell_type": "code",
      "execution_count": null,
      "metadata": {
        "id": "-KJK375F6kyc",
        "outputId": "afc8da5f-4ce1-4ceb-cac8-488cb00760e8",
        "colab": {
          "base_uri": "https://localhost:8080/",
          "height": 49,
          "referenced_widgets": [
            "e346c1915c584d759da706dce0572d51",
            "374b0b5ad9fa4ce88599f57813654a77",
            "f4107b5b329441138d77a322a8c431ee",
            "dccf77b3c2a742dc9fbce2ca2436c6b0",
            "d34a32ba5f814f1ea94a58cc737948a7",
            "a5efda0d64a546508788df3823697de6",
            "43ca2c3f22bf4f26aa62b160295d6e71",
            "8081498ecbb14ac28f163a15a7fc71c6",
            "2583ec688f684950b8ea117c4bc006ac",
            "af4470768db44c4698850e307ba912ef",
            "4295280418544eaba08588b2b6e5766c"
          ]
        }
      },
      "outputs": [
        {
          "output_type": "display_data",
          "data": {
            "text/plain": [
              "Generating train split: 0 examples [00:00, ? examples/s]"
            ],
            "application/vnd.jupyter.widget-view+json": {
              "version_major": 2,
              "version_minor": 0,
              "model_id": "e346c1915c584d759da706dce0572d51"
            }
          },
          "metadata": {}
        }
      ],
      "source": [
        "from transformers import AutoModel, pipeline\n",
        "# Load dataset\n",
        "dataset = datasets.load_dataset('json', data_files='/content/drive/MyDrive/Dataset/pii-detection-removal-from-educational-data/train.json')\n",
        "# Convert to DataFrame and preprocess\n",
        "df = dataset['train'].to_pandas()\n",
        "# Take the first 1500 rows\n",
        "#df = df.iloc[:1500]\n",
        "all_labels = [label for sublist in df['labels'] for label in sublist]\n",
        "unique_labels = list(set(all_labels))\n",
        "id2label = {i: label for i, label in enumerate(unique_labels)}\n",
        "label2id = {label: i for i, label in enumerate(unique_labels)}\n",
        "all_labels = list(label2id.keys())  # Get all unique labels from mapping\n",
        "num_labels = len(all_labels)  # Update the num_labels\n",
        "\n"
      ]
    },
    {
      "cell_type": "markdown",
      "source": [
        "### Initialize Tokenizer and Model\n",
        " Below code will Initialize the tokenizer and model for token classification tasks.\n",
        "\n",
        "1. Loads the deberta-v3-base tokenizer and model pre-trained on generic tasks.\n",
        "2. Configures the model with num_labels and label mappings to enable token classification.\n",
        "3. Moves the model to the available device (GPU or CPU)."
      ],
      "metadata": {
        "id": "bmo0bLUdsKxh"
      }
    },
    {
      "cell_type": "code",
      "source": [
        "# Tokenizer and Model\n",
        "tokenizer = AutoTokenizer.from_pretrained(\"microsoft/deberta-v3-base\")\n",
        "model = AutoModelForTokenClassification.from_pretrained(\"microsoft/deberta-v3-base\", num_labels=num_labels, id2label=id2label, label2id=label2id)\n",
        "device = torch.device(\"cuda\" if torch.cuda.is_available() else \"cpu\")\n",
        "print(device)\n",
        "model.to(device)\n"
      ],
      "metadata": {
        "colab": {
          "base_uri": "https://localhost:8080/",
          "height": 1000,
          "referenced_widgets": [
            "c3544b696b8f4444bfc733b0c5c205eb",
            "82f3b493079f459a91f8388591361250",
            "c90ac5f87c9a48a480ebf11b94e8b8b3",
            "29fbd551e66243e396e87e094e044063",
            "27f6e9d3d56644499796260ffa2f5fb2",
            "3654f858c48e4420b33652eb5b4f5f50",
            "82c1d9f18a174a0693912e32c09790e9",
            "b10143871dca4e03a1e67d40318e93d2",
            "cc1dab40429e48e99bd81a41701d20f5",
            "97ed37e8cbc24aeca2de3f96b7de4c8b",
            "8b09c2a6ad3a43bd9415964815c95b6c",
            "f783b4d8297649a1bd40f694575861bc",
            "98183480fdd2411bb8ab43fe5a2a1686",
            "8c5e889ec9354937b6cfe544fb85e699",
            "dd6534aa0fa044cab0f42d65be28781f",
            "da3da6ac3ae347d69c1dfc0007090fe3",
            "6c92f9e5ac6b42cea9324b221de47546",
            "8c96820a1e1f4fbf8f5a6d840418050d",
            "002333c9203942c0ab8bac935ffa213e",
            "817204122c09405ba80961b546de6b0b",
            "e6fcca39122c4f16afec0511429a4232",
            "98678d45d1c54af596af4178c33087d7",
            "4494b410d71c4148b6e7a321374a92ab",
            "228ff0f5af974cada2fa8b3a6dc59c6b",
            "c91e4f0156e94d0fa381a83dc915c8a6",
            "2a5de45941034025aa9685ee930cd299",
            "6ed9d11ae3544b6b969c60e6faf6e252",
            "994039be814a4054a1e4618175aa1e96",
            "9f7fab2dc3aa4626a5cc703705474011",
            "517d4abcf60e446297861f076bc9ad5f",
            "2fa11b10612843a79d8572eadeca1dd2",
            "99e5532ed03a4711a91e68d619097ed8",
            "865a68b1b86149b99ddb02b8246cd490",
            "7dfa36486e4e40178439b4f77cccf64e",
            "0996cfed972a48c1a93193f80e82ba98",
            "ce5c708bfb634e049a1145c68f960354",
            "d080e502db224a6299eb7a98ef96ab07",
            "ef20a4d1dcbe470e8ecd74979ff46bf1",
            "b0da22a2ff7c472ab409f8c4e271e39a",
            "c7a82af884b343d9856fee6c96313db8",
            "75532fde15e6427f80d5aa7bf56f32fb",
            "4495b651cb9645d49771ac318f507a7c",
            "1485396eab124cc7a8908bdf24b7b9a6",
            "eb173eb96f4749c6a2ddabebe844058c"
          ]
        },
        "id": "SqHP_zh3sHuB",
        "outputId": "b24decd1-648f-4569-ad34-b98e2a66ce1b"
      },
      "execution_count": null,
      "outputs": [
        {
          "output_type": "stream",
          "name": "stderr",
          "text": [
            "/usr/local/lib/python3.10/dist-packages/huggingface_hub/utils/_auth.py:94: UserWarning: \n",
            "The secret `HF_TOKEN` does not exist in your Colab secrets.\n",
            "To authenticate with the Hugging Face Hub, create a token in your settings tab (https://huggingface.co/settings/tokens), set it as secret in your Google Colab and restart your session.\n",
            "You will be able to reuse this secret in all of your notebooks.\n",
            "Please note that authentication is recommended but still optional to access public models or datasets.\n",
            "  warnings.warn(\n"
          ]
        },
        {
          "output_type": "display_data",
          "data": {
            "text/plain": [
              "tokenizer_config.json:   0%|          | 0.00/52.0 [00:00<?, ?B/s]"
            ],
            "application/vnd.jupyter.widget-view+json": {
              "version_major": 2,
              "version_minor": 0,
              "model_id": "c3544b696b8f4444bfc733b0c5c205eb"
            }
          },
          "metadata": {}
        },
        {
          "output_type": "display_data",
          "data": {
            "text/plain": [
              "config.json:   0%|          | 0.00/579 [00:00<?, ?B/s]"
            ],
            "application/vnd.jupyter.widget-view+json": {
              "version_major": 2,
              "version_minor": 0,
              "model_id": "f783b4d8297649a1bd40f694575861bc"
            }
          },
          "metadata": {}
        },
        {
          "output_type": "display_data",
          "data": {
            "text/plain": [
              "spm.model:   0%|          | 0.00/2.46M [00:00<?, ?B/s]"
            ],
            "application/vnd.jupyter.widget-view+json": {
              "version_major": 2,
              "version_minor": 0,
              "model_id": "4494b410d71c4148b6e7a321374a92ab"
            }
          },
          "metadata": {}
        },
        {
          "output_type": "stream",
          "name": "stderr",
          "text": [
            "/usr/local/lib/python3.10/dist-packages/transformers/convert_slow_tokenizer.py:561: UserWarning: The sentencepiece tokenizer that you are converting to a fast tokenizer uses the byte fallback option which is not implemented in the fast tokenizers. In practice this means that the fast version of the tokenizer can produce unknown tokens whereas the sentencepiece version would have converted these unknown tokens into a sequence of byte tokens matching the original piece of text.\n",
            "  warnings.warn(\n"
          ]
        },
        {
          "output_type": "display_data",
          "data": {
            "text/plain": [
              "pytorch_model.bin:   0%|          | 0.00/371M [00:00<?, ?B/s]"
            ],
            "application/vnd.jupyter.widget-view+json": {
              "version_major": 2,
              "version_minor": 0,
              "model_id": "7dfa36486e4e40178439b4f77cccf64e"
            }
          },
          "metadata": {}
        },
        {
          "output_type": "stream",
          "name": "stderr",
          "text": [
            "Some weights of DebertaV2ForTokenClassification were not initialized from the model checkpoint at microsoft/deberta-v3-base and are newly initialized: ['classifier.bias', 'classifier.weight']\n",
            "You should probably TRAIN this model on a down-stream task to be able to use it for predictions and inference.\n"
          ]
        },
        {
          "output_type": "stream",
          "name": "stdout",
          "text": [
            "cuda\n"
          ]
        },
        {
          "output_type": "execute_result",
          "data": {
            "text/plain": [
              "DebertaV2ForTokenClassification(\n",
              "  (deberta): DebertaV2Model(\n",
              "    (embeddings): DebertaV2Embeddings(\n",
              "      (word_embeddings): Embedding(128100, 768, padding_idx=0)\n",
              "      (LayerNorm): LayerNorm((768,), eps=1e-07, elementwise_affine=True)\n",
              "      (dropout): StableDropout()\n",
              "    )\n",
              "    (encoder): DebertaV2Encoder(\n",
              "      (layer): ModuleList(\n",
              "        (0-11): 12 x DebertaV2Layer(\n",
              "          (attention): DebertaV2Attention(\n",
              "            (self): DisentangledSelfAttention(\n",
              "              (query_proj): Linear(in_features=768, out_features=768, bias=True)\n",
              "              (key_proj): Linear(in_features=768, out_features=768, bias=True)\n",
              "              (value_proj): Linear(in_features=768, out_features=768, bias=True)\n",
              "              (pos_dropout): StableDropout()\n",
              "              (dropout): StableDropout()\n",
              "            )\n",
              "            (output): DebertaV2SelfOutput(\n",
              "              (dense): Linear(in_features=768, out_features=768, bias=True)\n",
              "              (LayerNorm): LayerNorm((768,), eps=1e-07, elementwise_affine=True)\n",
              "              (dropout): StableDropout()\n",
              "            )\n",
              "          )\n",
              "          (intermediate): DebertaV2Intermediate(\n",
              "            (dense): Linear(in_features=768, out_features=3072, bias=True)\n",
              "            (intermediate_act_fn): GELUActivation()\n",
              "          )\n",
              "          (output): DebertaV2Output(\n",
              "            (dense): Linear(in_features=3072, out_features=768, bias=True)\n",
              "            (LayerNorm): LayerNorm((768,), eps=1e-07, elementwise_affine=True)\n",
              "            (dropout): StableDropout()\n",
              "          )\n",
              "        )\n",
              "      )\n",
              "      (rel_embeddings): Embedding(512, 768)\n",
              "      (LayerNorm): LayerNorm((768,), eps=1e-07, elementwise_affine=True)\n",
              "    )\n",
              "  )\n",
              "  (dropout): Dropout(p=0.1, inplace=False)\n",
              "  (classifier): Linear(in_features=768, out_features=13, bias=True)\n",
              ")"
            ]
          },
          "metadata": {},
          "execution_count": 6
        }
      ]
    },
    {
      "cell_type": "markdown",
      "source": [
        "### Dataset Splitting\n",
        "Lets Split the dataset into training and testing subsets.\n",
        "\n",
        "1. Performs an 80-20 split to separate training and testing data.\n",
        "2. Converts Pandas DataFrames back into Hugging Face's Dataset format for compatibility with the tokenizer and model."
      ],
      "metadata": {
        "id": "SSgLGXbtsgFL"
      }
    },
    {
      "cell_type": "code",
      "source": [
        "# Split Dataset\n",
        "train_df, test_df = train_test_split(df, test_size=0.2, random_state=42)\n",
        "train_dataset = datasets.Dataset.from_pandas(train_df)\n",
        "test_dataset = datasets.Dataset.from_pandas(test_df)\n",
        "dataset_dict = datasets.DatasetDict({'train': train_dataset, 'test': test_dataset})"
      ],
      "metadata": {
        "id": "O2ia5SmosYSp"
      },
      "execution_count": null,
      "outputs": []
    },
    {
      "cell_type": "markdown",
      "metadata": {
        "id": "2Vtm3u5I6kyd"
      },
      "source": [
        "### Data Exploration\n",
        "\n",
        "The dataset has four columns, 'document', 'tokens', 'labels', and 'trailing_whitespace'. Pandas can be used to visualize the dataset and get a better understanding of the structure."
      ]
    },
    {
      "cell_type": "code",
      "execution_count": null,
      "metadata": {
        "id": "AYE5ULzK6kyd",
        "outputId": "cf19398b-5bcb-449b-f967-fd3b03ca1631",
        "colab": {
          "base_uri": "https://localhost:8080/"
        }
      },
      "outputs": [
        {
          "output_type": "stream",
          "name": "stdout",
          "text": [
            "Dataset length 1\n"
          ]
        },
        {
          "output_type": "execute_result",
          "data": {
            "text/plain": [
              "DatasetDict({\n",
              "    train: Dataset({\n",
              "        features: ['document', 'full_text', 'tokens', 'trailing_whitespace', 'labels'],\n",
              "        num_rows: 6807\n",
              "    })\n",
              "})"
            ]
          },
          "metadata": {},
          "execution_count": 8
        }
      ],
      "source": [
        "print('Dataset length', len(dataset))\n",
        "dataset"
      ]
    },
    {
      "cell_type": "code",
      "execution_count": null,
      "metadata": {
        "id": "j4l4iess6kyd",
        "outputId": "bfc8350b-687c-42ee-f975-62030c6e15ff",
        "colab": {
          "base_uri": "https://localhost:8080/",
          "height": 325,
          "referenced_widgets": [
            "22da56d8bb20487998ccc082bac5632d",
            "1d49bcea49834765878f507080d81a7e",
            "30689e100ed6449a8a2418c141b154cb",
            "4ab22ea4a5c94b608a9861adb1b9aba9",
            "7db63a7f43f74d94abd11fb74f3c89a9",
            "c54adbff506848918871995b2f440bcd",
            "e5e2bde4b28e422fa7c91cad96fa5f6a",
            "08fd3b4be7bf4f4fa6e7d022ad3abcd2",
            "26b650e10c8c485aa3c6f19575ca4259",
            "eaa1ce53b39241269fd5cc019db27980",
            "b8c5f8bba9c04bbfb079b533da344c36"
          ]
        }
      },
      "outputs": [
        {
          "output_type": "display_data",
          "data": {
            "text/plain": [
              "model.safetensors:   0%|          | 0.00/371M [00:00<?, ?B/s]"
            ],
            "application/vnd.jupyter.widget-view+json": {
              "version_major": 2,
              "version_minor": 0,
              "model_id": "22da56d8bb20487998ccc082bac5632d"
            }
          },
          "metadata": {}
        },
        {
          "output_type": "execute_result",
          "data": {
            "text/plain": [
              "   document                                          full_text  \\\n",
              "0         7  Design Thinking for innovation reflexion-Avril...   \n",
              "1        10  Diego Estrada\\n\\nDesign Thinking Assignment\\n\\...   \n",
              "2        16  Reporting process\\n\\nby Gilberto Gamboa\\n\\nCha...   \n",
              "3        20  Design Thinking for Innovation\\n\\nSindy Samaca...   \n",
              "4        56  Assignment:  Visualization Reflection  Submitt...   \n",
              "\n",
              "                                              tokens  \\\n",
              "0  [Design, Thinking, for, innovation, reflexion,...   \n",
              "1  [Diego, Estrada, \\n\\n, Design, Thinking, Assig...   \n",
              "2  [Reporting, process, \\n\\n, by, Gilberto, Gambo...   \n",
              "3  [Design, Thinking, for, Innovation, \\n\\n, Sind...   \n",
              "4  [Assignment, :,   , Visualization,  , Reflecti...   \n",
              "\n",
              "                                 trailing_whitespace  \\\n",
              "0  [True, True, True, True, False, False, True, F...   \n",
              "1  [True, False, False, True, True, False, False,...   \n",
              "2  [True, False, False, True, True, False, False,...   \n",
              "3  [True, True, True, False, False, True, False, ...   \n",
              "4  [False, False, False, False, False, False, Fal...   \n",
              "\n",
              "                                              labels  \n",
              "0  [O, O, O, O, O, O, O, O, O, B-NAME_STUDENT, I-...  \n",
              "1  [B-NAME_STUDENT, I-NAME_STUDENT, O, O, O, O, O...  \n",
              "2  [O, O, O, O, B-NAME_STUDENT, I-NAME_STUDENT, O...  \n",
              "3  [O, O, O, O, O, B-NAME_STUDENT, I-NAME_STUDENT...  \n",
              "4  [O, O, O, O, O, O, O, O, O, O, O, O, B-NAME_ST...  "
            ],
            "text/html": [
              "\n",
              "  <div id=\"df-ca049013-d6e3-4f38-bcc7-9241f2ad50f4\" class=\"colab-df-container\">\n",
              "    <div>\n",
              "<style scoped>\n",
              "    .dataframe tbody tr th:only-of-type {\n",
              "        vertical-align: middle;\n",
              "    }\n",
              "\n",
              "    .dataframe tbody tr th {\n",
              "        vertical-align: top;\n",
              "    }\n",
              "\n",
              "    .dataframe thead th {\n",
              "        text-align: right;\n",
              "    }\n",
              "</style>\n",
              "<table border=\"1\" class=\"dataframe\">\n",
              "  <thead>\n",
              "    <tr style=\"text-align: right;\">\n",
              "      <th></th>\n",
              "      <th>document</th>\n",
              "      <th>full_text</th>\n",
              "      <th>tokens</th>\n",
              "      <th>trailing_whitespace</th>\n",
              "      <th>labels</th>\n",
              "    </tr>\n",
              "  </thead>\n",
              "  <tbody>\n",
              "    <tr>\n",
              "      <th>0</th>\n",
              "      <td>7</td>\n",
              "      <td>Design Thinking for innovation reflexion-Avril...</td>\n",
              "      <td>[Design, Thinking, for, innovation, reflexion,...</td>\n",
              "      <td>[True, True, True, True, False, False, True, F...</td>\n",
              "      <td>[O, O, O, O, O, O, O, O, O, B-NAME_STUDENT, I-...</td>\n",
              "    </tr>\n",
              "    <tr>\n",
              "      <th>1</th>\n",
              "      <td>10</td>\n",
              "      <td>Diego Estrada\\n\\nDesign Thinking Assignment\\n\\...</td>\n",
              "      <td>[Diego, Estrada, \\n\\n, Design, Thinking, Assig...</td>\n",
              "      <td>[True, False, False, True, True, False, False,...</td>\n",
              "      <td>[B-NAME_STUDENT, I-NAME_STUDENT, O, O, O, O, O...</td>\n",
              "    </tr>\n",
              "    <tr>\n",
              "      <th>2</th>\n",
              "      <td>16</td>\n",
              "      <td>Reporting process\\n\\nby Gilberto Gamboa\\n\\nCha...</td>\n",
              "      <td>[Reporting, process, \\n\\n, by, Gilberto, Gambo...</td>\n",
              "      <td>[True, False, False, True, True, False, False,...</td>\n",
              "      <td>[O, O, O, O, B-NAME_STUDENT, I-NAME_STUDENT, O...</td>\n",
              "    </tr>\n",
              "    <tr>\n",
              "      <th>3</th>\n",
              "      <td>20</td>\n",
              "      <td>Design Thinking for Innovation\\n\\nSindy Samaca...</td>\n",
              "      <td>[Design, Thinking, for, Innovation, \\n\\n, Sind...</td>\n",
              "      <td>[True, True, True, False, False, True, False, ...</td>\n",
              "      <td>[O, O, O, O, O, B-NAME_STUDENT, I-NAME_STUDENT...</td>\n",
              "    </tr>\n",
              "    <tr>\n",
              "      <th>4</th>\n",
              "      <td>56</td>\n",
              "      <td>Assignment:  Visualization Reflection  Submitt...</td>\n",
              "      <td>[Assignment, :,   , Visualization,  , Reflecti...</td>\n",
              "      <td>[False, False, False, False, False, False, Fal...</td>\n",
              "      <td>[O, O, O, O, O, O, O, O, O, O, O, O, B-NAME_ST...</td>\n",
              "    </tr>\n",
              "  </tbody>\n",
              "</table>\n",
              "</div>\n",
              "    <div class=\"colab-df-buttons\">\n",
              "\n",
              "  <div class=\"colab-df-container\">\n",
              "    <button class=\"colab-df-convert\" onclick=\"convertToInteractive('df-ca049013-d6e3-4f38-bcc7-9241f2ad50f4')\"\n",
              "            title=\"Convert this dataframe to an interactive table.\"\n",
              "            style=\"display:none;\">\n",
              "\n",
              "  <svg xmlns=\"http://www.w3.org/2000/svg\" height=\"24px\" viewBox=\"0 -960 960 960\">\n",
              "    <path d=\"M120-120v-720h720v720H120Zm60-500h600v-160H180v160Zm220 220h160v-160H400v160Zm0 220h160v-160H400v160ZM180-400h160v-160H180v160Zm440 0h160v-160H620v160ZM180-180h160v-160H180v160Zm440 0h160v-160H620v160Z\"/>\n",
              "  </svg>\n",
              "    </button>\n",
              "\n",
              "  <style>\n",
              "    .colab-df-container {\n",
              "      display:flex;\n",
              "      gap: 12px;\n",
              "    }\n",
              "\n",
              "    .colab-df-convert {\n",
              "      background-color: #E8F0FE;\n",
              "      border: none;\n",
              "      border-radius: 50%;\n",
              "      cursor: pointer;\n",
              "      display: none;\n",
              "      fill: #1967D2;\n",
              "      height: 32px;\n",
              "      padding: 0 0 0 0;\n",
              "      width: 32px;\n",
              "    }\n",
              "\n",
              "    .colab-df-convert:hover {\n",
              "      background-color: #E2EBFA;\n",
              "      box-shadow: 0px 1px 2px rgba(60, 64, 67, 0.3), 0px 1px 3px 1px rgba(60, 64, 67, 0.15);\n",
              "      fill: #174EA6;\n",
              "    }\n",
              "\n",
              "    .colab-df-buttons div {\n",
              "      margin-bottom: 4px;\n",
              "    }\n",
              "\n",
              "    [theme=dark] .colab-df-convert {\n",
              "      background-color: #3B4455;\n",
              "      fill: #D2E3FC;\n",
              "    }\n",
              "\n",
              "    [theme=dark] .colab-df-convert:hover {\n",
              "      background-color: #434B5C;\n",
              "      box-shadow: 0px 1px 3px 1px rgba(0, 0, 0, 0.15);\n",
              "      filter: drop-shadow(0px 1px 2px rgba(0, 0, 0, 0.3));\n",
              "      fill: #FFFFFF;\n",
              "    }\n",
              "  </style>\n",
              "\n",
              "    <script>\n",
              "      const buttonEl =\n",
              "        document.querySelector('#df-ca049013-d6e3-4f38-bcc7-9241f2ad50f4 button.colab-df-convert');\n",
              "      buttonEl.style.display =\n",
              "        google.colab.kernel.accessAllowed ? 'block' : 'none';\n",
              "\n",
              "      async function convertToInteractive(key) {\n",
              "        const element = document.querySelector('#df-ca049013-d6e3-4f38-bcc7-9241f2ad50f4');\n",
              "        const dataTable =\n",
              "          await google.colab.kernel.invokeFunction('convertToInteractive',\n",
              "                                                    [key], {});\n",
              "        if (!dataTable) return;\n",
              "\n",
              "        const docLinkHtml = 'Like what you see? Visit the ' +\n",
              "          '<a target=\"_blank\" href=https://colab.research.google.com/notebooks/data_table.ipynb>data table notebook</a>'\n",
              "          + ' to learn more about interactive tables.';\n",
              "        element.innerHTML = '';\n",
              "        dataTable['output_type'] = 'display_data';\n",
              "        await google.colab.output.renderOutput(dataTable, element);\n",
              "        const docLink = document.createElement('div');\n",
              "        docLink.innerHTML = docLinkHtml;\n",
              "        element.appendChild(docLink);\n",
              "      }\n",
              "    </script>\n",
              "  </div>\n",
              "\n",
              "\n",
              "<div id=\"df-0c456d30-6e7f-420f-8ff8-bde39902efb6\">\n",
              "  <button class=\"colab-df-quickchart\" onclick=\"quickchart('df-0c456d30-6e7f-420f-8ff8-bde39902efb6')\"\n",
              "            title=\"Suggest charts\"\n",
              "            style=\"display:none;\">\n",
              "\n",
              "<svg xmlns=\"http://www.w3.org/2000/svg\" height=\"24px\"viewBox=\"0 0 24 24\"\n",
              "     width=\"24px\">\n",
              "    <g>\n",
              "        <path d=\"M19 3H5c-1.1 0-2 .9-2 2v14c0 1.1.9 2 2 2h14c1.1 0 2-.9 2-2V5c0-1.1-.9-2-2-2zM9 17H7v-7h2v7zm4 0h-2V7h2v10zm4 0h-2v-4h2v4z\"/>\n",
              "    </g>\n",
              "</svg>\n",
              "  </button>\n",
              "\n",
              "<style>\n",
              "  .colab-df-quickchart {\n",
              "      --bg-color: #E8F0FE;\n",
              "      --fill-color: #1967D2;\n",
              "      --hover-bg-color: #E2EBFA;\n",
              "      --hover-fill-color: #174EA6;\n",
              "      --disabled-fill-color: #AAA;\n",
              "      --disabled-bg-color: #DDD;\n",
              "  }\n",
              "\n",
              "  [theme=dark] .colab-df-quickchart {\n",
              "      --bg-color: #3B4455;\n",
              "      --fill-color: #D2E3FC;\n",
              "      --hover-bg-color: #434B5C;\n",
              "      --hover-fill-color: #FFFFFF;\n",
              "      --disabled-bg-color: #3B4455;\n",
              "      --disabled-fill-color: #666;\n",
              "  }\n",
              "\n",
              "  .colab-df-quickchart {\n",
              "    background-color: var(--bg-color);\n",
              "    border: none;\n",
              "    border-radius: 50%;\n",
              "    cursor: pointer;\n",
              "    display: none;\n",
              "    fill: var(--fill-color);\n",
              "    height: 32px;\n",
              "    padding: 0;\n",
              "    width: 32px;\n",
              "  }\n",
              "\n",
              "  .colab-df-quickchart:hover {\n",
              "    background-color: var(--hover-bg-color);\n",
              "    box-shadow: 0 1px 2px rgba(60, 64, 67, 0.3), 0 1px 3px 1px rgba(60, 64, 67, 0.15);\n",
              "    fill: var(--button-hover-fill-color);\n",
              "  }\n",
              "\n",
              "  .colab-df-quickchart-complete:disabled,\n",
              "  .colab-df-quickchart-complete:disabled:hover {\n",
              "    background-color: var(--disabled-bg-color);\n",
              "    fill: var(--disabled-fill-color);\n",
              "    box-shadow: none;\n",
              "  }\n",
              "\n",
              "  .colab-df-spinner {\n",
              "    border: 2px solid var(--fill-color);\n",
              "    border-color: transparent;\n",
              "    border-bottom-color: var(--fill-color);\n",
              "    animation:\n",
              "      spin 1s steps(1) infinite;\n",
              "  }\n",
              "\n",
              "  @keyframes spin {\n",
              "    0% {\n",
              "      border-color: transparent;\n",
              "      border-bottom-color: var(--fill-color);\n",
              "      border-left-color: var(--fill-color);\n",
              "    }\n",
              "    20% {\n",
              "      border-color: transparent;\n",
              "      border-left-color: var(--fill-color);\n",
              "      border-top-color: var(--fill-color);\n",
              "    }\n",
              "    30% {\n",
              "      border-color: transparent;\n",
              "      border-left-color: var(--fill-color);\n",
              "      border-top-color: var(--fill-color);\n",
              "      border-right-color: var(--fill-color);\n",
              "    }\n",
              "    40% {\n",
              "      border-color: transparent;\n",
              "      border-right-color: var(--fill-color);\n",
              "      border-top-color: var(--fill-color);\n",
              "    }\n",
              "    60% {\n",
              "      border-color: transparent;\n",
              "      border-right-color: var(--fill-color);\n",
              "    }\n",
              "    80% {\n",
              "      border-color: transparent;\n",
              "      border-right-color: var(--fill-color);\n",
              "      border-bottom-color: var(--fill-color);\n",
              "    }\n",
              "    90% {\n",
              "      border-color: transparent;\n",
              "      border-bottom-color: var(--fill-color);\n",
              "    }\n",
              "  }\n",
              "</style>\n",
              "\n",
              "  <script>\n",
              "    async function quickchart(key) {\n",
              "      const quickchartButtonEl =\n",
              "        document.querySelector('#' + key + ' button');\n",
              "      quickchartButtonEl.disabled = true;  // To prevent multiple clicks.\n",
              "      quickchartButtonEl.classList.add('colab-df-spinner');\n",
              "      try {\n",
              "        const charts = await google.colab.kernel.invokeFunction(\n",
              "            'suggestCharts', [key], {});\n",
              "      } catch (error) {\n",
              "        console.error('Error during call to suggestCharts:', error);\n",
              "      }\n",
              "      quickchartButtonEl.classList.remove('colab-df-spinner');\n",
              "      quickchartButtonEl.classList.add('colab-df-quickchart-complete');\n",
              "    }\n",
              "    (() => {\n",
              "      let quickchartButtonEl =\n",
              "        document.querySelector('#df-0c456d30-6e7f-420f-8ff8-bde39902efb6 button');\n",
              "      quickchartButtonEl.style.display =\n",
              "        google.colab.kernel.accessAllowed ? 'block' : 'none';\n",
              "    })();\n",
              "  </script>\n",
              "</div>\n",
              "\n",
              "    </div>\n",
              "  </div>\n"
            ],
            "application/vnd.google.colaboratory.intrinsic+json": {
              "type": "dataframe",
              "variable_name": "df",
              "summary": "{\n  \"name\": \"df\",\n  \"rows\": 6807,\n  \"fields\": [\n    {\n      \"column\": \"document\",\n      \"properties\": {\n        \"dtype\": \"number\",\n        \"std\": 4920,\n        \"min\": 7,\n        \"max\": 22687,\n        \"num_unique_values\": 6807,\n        \"samples\": [\n          17809,\n          11144,\n          16158\n        ],\n        \"semantic_type\": \"\",\n        \"description\": \"\"\n      }\n    },\n    {\n      \"column\": \"full_text\",\n      \"properties\": {\n        \"dtype\": \"string\",\n        \"num_unique_values\": 6807,\n        \"samples\": [\n          \"Assignment: Mindmapping\\n\\nChallenge\\n\\nThe challenge was to develop a three-view mechanism for my class this semester, it was\\n\\ntogether with my team to find a solution to this problem, which was intended to transmit\\n\\nthree messages in an advertisement.\\n\\nSelection\\n\\nI chose the Mindmapping tool because that tool was taught to me in my class this semester\\n\\nand it was very useful to apply it to this problem since Mindmapping gives you the\\n\\nopportunity to be more organized in terms of your ideas and fundamentals that are\\n\\nconnected between yes. Also, it is important to say that this tool is developed throughout\\n\\nthe project, in the beginning, in the development and when we had everything clearer and\\n\\nat the end to know the organization that should be carried out and the order.\\n\\nApplication\\n\\nAs I mentioned before, I applied this tool in my project due to the order that it takes, at the\\n\\ntime of making the prototype of the project, a mindmap was made about what materials\\n\\nwas going to be used, how it was going to work, all that brainstorming was useful organize\\n\\nit in a mindmap to carry out the project. Also at the time of developing the poster, a\\n\\nmindmap was made of how each section should be organized and what information each\\n\\none should carry, in this way the mindmap tool was applied and it was possible to have a\\n\\nvery striking poster.\\n\\nInsight\\n\\nThe insight that I gained was very great, since in my other projects I had not used the\\n\\nmindmapping tool because I did not consider it useful, but at the time of applying the design\\n\\nthinking with the mindmapping tool and the knowledge acquired it was possible to carry\\n\\nout the project and obtain a perfect grade, appropriate to what the problem presented\\n\\nApproach\\n\\nNow that I have discovered the benefit of using the mindmapping tool, I think that what I\\n\\nwould do differently would be to make the most striking mindmaps because some\\n\\ncontained too much information that it was difficult to synthesize what the problem of the\\n\\nproject asked me to do.\\n\\n\",\n          \"Reflection \\u2013 Learning Launch\\n\\nPaola Garcia\\n\\nChallenge\\n\\nIn the financial services industry, the strategies developed to manage lending portfolios are developed  through data analysis of past performance.  In the collections environment, analytics and traditional  methods to contact customers (phone, letters and email) are the norm.  As the number of missed  payments on an account increases, the ability to reach customers decreases.   The result is higher  delinquency rates, increase expense and customer complaints.\\n\\nA project was launched to determine how these measures could be improved.  A small team was formed  which included people from various departments including Analytics, Operations, Finance, Marketing to  name a few.   A recommendation was made to utilize design thinking.  Working with our Marketing  Research team several tools were utilized to understand our customer needs and develop some ideas to  test.  To address the needs of a specific persona, Customers who felt uncomfortable discussing their  situation and felt the people they spoke to on the phone lacked empathy, the idea of a collections  website was developed.\\n\\nSelection\\n\\nThe team chose the learning launch to test a collections website.   The learning launch allows for a fast  and inexpensive way to run an experiment to learn.   This was facilitated by the ability to utilize an  outsourced model.  The website functionality was already developed by a vendor and provided the  minimum viable product which met the design criteria.     The learning launch provided the data needed  to determine whether the idea was good or bad.\\n\\nApplication\\n\\nThe team developed a detailed plan to launch the experiment including customer segments,  communication methods, measurements, and customer feedback surveys.  The website launched on  time and tested for 90 days.   The results provided significant data that the idea worked as well as new  insights to improve the website and other internal processes.\\n\\nInsight\\n\\nThe learning launch enabled the team to develop and test quickly where there was not past data and  could potentially be a better approach that the traditional methods used.  In addition, it provided a lot  of customer feedback that changed the existing strategies (phone, letters, email) and enhancements to  the company website.  Ongoing use of the website has Increased  collection rates and decreased   expenses and complaints.\\n\\nApproach\\n\\nThe learning launch was the best approach since we had the ability to launch quickly.  Had there not  been an existing vendor with the necessary tool, another approach would have been necessary as  prioritization of technology builds can often take significant time.\\n\\n\",\n          \"Visualisation\\n\\nChallenge & Selection\\n\\nThe challenge I've chosen to work on is women's safety. I'd be doing a design intervention to design a  product/ system that makes women feel and be safe, especially at dark, isolated places.\\n\\nI chose the Visualisation tool to help me go through the steps of user research, empathy mapping,  ideation, and prototyping because it helps me to convey my vision as well as decipher more accurately  what the other person(user) is actually conveying- their pain points, fears, needs, desires, etc.\\n\\nApplication\\n\\nI made a compilation of several images, some from the internet, some from horror or crime movie  scenes, and tried to pinpoint the exact type and level of fear women face while roaming isolated places  alone. I prepared a questionnaire in which I included these photos.\\n\\nLater I did Ideation Sketches, made some rendered concepts, and at a later stage even 3D prototype and  did a survey where these sketches and images were shared. It helped me gain a proper understanding  whether the users thought it'd be helpful or not.\\n\\nFinally, my product poster was designed more visually with more pictures than text, to illicit the emotion  of safety against usual uncertainty and fear, when one uses the service I designed.\\n\\nInsight and Approach\\n\\nWhile I used the Visualisation tool earlier, I used to restrict it to convey my ideas only in the Concept and  Prototyping phases. But this time, I used it even in my initial User Research and Poster Design of the  Final concept. I gained some very precise understanding of what emotions would the users feel in a real  situation and of what types and also to what levels. All this was possible due to the accuracy of the  visual element.\\n\\nMore importantly, I noticed that after the Final Design was made and piloted, it was much more  convenient and efficient conveying it's usage and purpose to the users when I used visuals like  photographs, sketches along with storyboards as to how to use the service.\\n\\nI'd definitely use this Visualisation tool more extensively and creatively in my future projects as its very  efficient and effective. It removes the chance of any ambiguity in communication between me and all  stakeholders, namely users, design heads, design team, investors and sales and marketing team.\\n\\n\"\n        ],\n        \"semantic_type\": \"\",\n        \"description\": \"\"\n      }\n    },\n    {\n      \"column\": \"tokens\",\n      \"properties\": {\n        \"dtype\": \"object\",\n        \"semantic_type\": \"\",\n        \"description\": \"\"\n      }\n    },\n    {\n      \"column\": \"trailing_whitespace\",\n      \"properties\": {\n        \"dtype\": \"object\",\n        \"semantic_type\": \"\",\n        \"description\": \"\"\n      }\n    },\n    {\n      \"column\": \"labels\",\n      \"properties\": {\n        \"dtype\": \"object\",\n        \"semantic_type\": \"\",\n        \"description\": \"\"\n      }\n    }\n  ]\n}"
            }
          },
          "metadata": {},
          "execution_count": 9
        }
      ],
      "source": [
        "df = pd.read_json('/content/drive/MyDrive/Dataset/pii-detection-removal-from-educational-data/train.json')\n",
        "df.head()"
      ]
    },
    {
      "cell_type": "markdown",
      "metadata": {
        "id": "XYYYFhak6kye"
      },
      "source": [
        "The pandas data frame produces a better visualization of the structure of the JSON file. Each row represents an essay written by a student. There are 6807 Rows in the data frame, each row representing a student essay. The column 'full text' contains the full essay. The 'Tokens' column contains the text separated by tokens. The trailing white space column is a list of placeholders indicating if a token contains a trailing white space. Finally, the labels column represents a label for each token. Each token is as one of our desired categories of PII, or 'O' if the token does not belong to PII a category.\n",
        "\n",
        "We can view the first full essay as an example. A function 'format_text' is used to make the document more readable for humans."
      ]
    },
    {
      "cell_type": "code",
      "execution_count": null,
      "metadata": {
        "id": "oPaxFF5O6kye",
        "outputId": "ae59c7dd-0e39-44a7-ee03-5e0413a4d9ce",
        "colab": {
          "base_uri": "https://localhost:8080/"
        }
      },
      "outputs": [
        {
          "output_type": "stream",
          "name": "stdout",
          "text": [
            "Design Thinking for innovation reflexion-Avril 2021-Nathalie Sylla\n",
            "<p>\n",
            "Challenge & selection\n",
            "<p>\n",
            "The tool I use to help all stakeholders finding their way through the complexity of a project is the  mind map.\n",
            "<p>\n",
            "What exactly is a mind map? According to the definition of Buzan T. and Buzan B. (1999, Dessine-moi  l'intelligence. Paris: Les Éditions d'Organisation.), the mind map (or heuristic diagram) is a graphic  representation technique that follows the natural functioning of the mind and allows the brain's  potential to be released. Cf Annex1\n",
            "<p>\n",
            "This tool has many advantages:\n",
            "<p>\n",
            "-  It is accessible to all and does not require significant material investment and can be done  quickly\n",
            "<p>\n",
            "-  It is scalable\n",
            "<p>\n",
            "-  It allows categorization and linking of information\n",
            "<p>\n",
            "-  It can be applied to any type of situation: notetaking, problem solving, analysis, creation of  new ideas\n",
            "<p>\n",
            "-  It is suitable for all people and is easy to learn\n",
            "<p>\n",
            "-  It is fun and encourages exchanges\n",
            "<p>\n",
            "-  It makes visible the dimension of projects, opportunities, interconnections\n",
            "<p>\n",
            "-  It synthesizes\n",
            "<p>\n",
            "-  It makes the project understandable\n",
            "<p>\n",
            "-  It allows you to explore ideas\n",
            "<p>\n",
            "The creation of a mind map starts with an idea/problem located at its center. This starting point  generates ideas/work areas, incremented around this center in a radial structure, which in turn is  completed with as many branches as new ideas.\n",
            "<p>\n",
            "This tool enables creativity and logic to be mobilized, it is a map of the thoughts.\n",
            "<p>\n",
            "Creativity is enhanced because participants feel comfortable with the method.\n",
            "<p>\n",
            "Application & Insight\n",
            "<p>\n",
            "I start the process of the mind map creation with the stakeholders standing around a large board  (white or paper board). In the center of the board, I write and highlight the topic to design.\n",
            "<p>\n",
            "Through a series of questions, I guide the stakeholders in modelling the mind map. I adapt the series  of questions according to the topic to be addressed. In the type of questions, we can use: who, what,  when, where, why, how, how much.\n",
            "<p>\n",
            "The use of the “why” is very interesting to understand the origin. By this way, the interviewed person  frees itself from paradigms and thus dares to propose new ideas / ways of functioning. I plan two  hours for a workshop.\n",
            "<p>\n",
            "Design Thinking for innovation reflexion-Avril 2021-Nathalie Sylla\n",
            "<p>\n",
            "After modelling the mind map on paper, I propose to the participants a digital visualization of their  work with the addition of color codes, images and interconnections. This second workshop also lasts  two hours and allows the mind map to evolve. Once familiarized with it, the stakeholders discover  the power of the tool. Then, the second workshop brings out even more ideas and constructive  exchanges between the stakeholders. Around this new mind map, they have learned to work  together and want to make visible the untold ideas.\n",
            "<p>\n",
            "I now present all the projects I manage in this type of format in order to ease rapid understanding for  decision-makers. These presentations are the core of my business models. The decision-makers are  thus able to identify the opportunities of the projects and can take quick decisions to validate them.  They find answers to their questions thank to a schematic representation.\n",
            "<p>\n",
            "Approach\n",
            "<p>\n",
            "What I find amazing with the facilitation of this type of workshop is the participants commitment for  the project. This tool helps to give meaning. The participants appropriate the story and want to keep  writing it. Then, they easily become actors or sponsors of the project. A trust relationship is built,  thus facilitating the implementation of related actions.\n",
            "<p>\n",
            "Design Thinking for innovation reflexion-Avril 2021-Nathalie Sylla\n",
            "<p>\n",
            "Annex 1: Mind Map Shared facilities project\n",
            "<p>\n",
            "\n"
          ]
        }
      ],
      "source": [
        "def format_text(text):\n",
        "    # Add paragraph breaks\n",
        "    formatted_text = text.replace('\\n\\n', '\\n\\n<p>\\n\\n')\n",
        "\n",
        "    # Add bullet points to list items\n",
        "    formatted_text = re.sub(r'•\\s', '\\n- ', formatted_text)\n",
        "\n",
        "    # Handle remaining single newlines\n",
        "    formatted_text = re.sub(r'(?<!\\n)\\n(?!\\n)', ' ', formatted_text)\n",
        "\n",
        "    # Remove leading and trailing spaces\n",
        "    formatted_text = re.sub(r'\\s+\\n', '\\n', formatted_text)\n",
        "    formatted_text = re.sub(r'\\n\\s+', '\\n', formatted_text)\n",
        "\n",
        "    return formatted_text\n",
        "\n",
        "# Example usage\n",
        "raw_text = df['full_text'][0]\n",
        "\n",
        "print(format_text(raw_text))"
      ]
    },
    {
      "cell_type": "markdown",
      "metadata": {
        "id": "DdOsQHUO6kyf"
      },
      "source": [
        "#### Distribution of the unique labels."
      ]
    },
    {
      "cell_type": "code",
      "execution_count": null,
      "metadata": {
        "id": "nfVxezsi6kyf",
        "outputId": "d206e6b5-b421-489a-d718-abf2dac913a7",
        "colab": {
          "base_uri": "https://localhost:8080/",
          "height": 243
        }
      },
      "outputs": [
        {
          "output_type": "stream",
          "name": "stdout",
          "text": [
            "Label: O, Frequency: 3984659\n",
            "Label: B-NAME_STUDENT, Frequency: 1102\n",
            "Label: I-NAME_STUDENT, Frequency: 852\n",
            "Label: B-ID_NUM, Frequency: 68\n",
            "Label: B-URL_PERSONAL, Frequency: 82\n",
            "Label: B-EMAIL, Frequency: 36\n",
            "Label: B-USERNAME, Frequency: 6\n",
            "Label: B-PHONE_NUM, Frequency: 4\n",
            "Label: I-PHONE_NUM, Frequency: 12\n",
            "Label: I-URL_PERSONAL, Frequency: 1\n",
            "Label: I-ID_NUM, Frequency: 1\n",
            "Label: B-STREET_ADDRESS, Frequency: 1\n",
            "Label: I-STREET_ADDRESS, Frequency: 10\n"
          ]
        }
      ],
      "source": [
        "# Count the frequency of each label in the 'train' dataset\n",
        "label_freq = Counter(chain(*train_dataset['labels']))\n",
        "\n",
        "# Display the frequency of each label\n",
        "for label, freq in label_freq.items():\n",
        "    print(f\"Label: {label}, Frequency: {freq}\")"
      ]
    },
    {
      "cell_type": "code",
      "source": [
        "import matplotlib.pyplot as plt\n",
        "from collections import Counter\n",
        "from itertools import chain\n",
        "\n",
        "# Assume train_dataset is already loaded with a 'labels' field\n",
        "# Count the frequency of each label in the 'train' dataset\n",
        "label_freq = Counter(chain(*train_dataset['labels']))\n",
        "\n",
        "# Display the frequency of each label\n",
        "for label, freq in label_freq.items():\n",
        "    print(f\"Label: {label}, Frequency: {freq}\")\n",
        "\n",
        "# Extract labels and frequencies for the chart\n",
        "labels = list(label_freq.keys())\n",
        "frequencies = list(label_freq.values())\n",
        "\n",
        "# Create a bar chart\n",
        "plt.figure(figsize=(12, 6))\n",
        "plt.bar(labels, frequencies, color='skyblue')\n",
        "\n",
        "# Add labels and title\n",
        "plt.xlabel('Labels', fontsize=12)\n",
        "plt.ylabel('Frequency', fontsize=12)\n",
        "plt.title('Distribution of Unique Labels in the Dataset', fontsize=14)\n",
        "plt.xticks(rotation=45, ha='right', fontsize=10)\n",
        "\n",
        "# Adjust layout for better display\n",
        "plt.tight_layout()\n",
        "\n",
        "# Display the chart\n",
        "plt.show()\n"
      ],
      "metadata": {
        "id": "9V1aYRsFA2Im",
        "outputId": "b09143e5-0414-4d90-bbe6-52c28d15f72f",
        "colab": {
          "base_uri": "https://localhost:8080/",
          "height": 784
        }
      },
      "execution_count": null,
      "outputs": [
        {
          "output_type": "stream",
          "name": "stdout",
          "text": [
            "Label: O, Frequency: 3984659\n",
            "Label: B-NAME_STUDENT, Frequency: 1102\n",
            "Label: I-NAME_STUDENT, Frequency: 852\n",
            "Label: B-ID_NUM, Frequency: 68\n",
            "Label: B-URL_PERSONAL, Frequency: 82\n",
            "Label: B-EMAIL, Frequency: 36\n",
            "Label: B-USERNAME, Frequency: 6\n",
            "Label: B-PHONE_NUM, Frequency: 4\n",
            "Label: I-PHONE_NUM, Frequency: 12\n",
            "Label: I-URL_PERSONAL, Frequency: 1\n",
            "Label: I-ID_NUM, Frequency: 1\n",
            "Label: B-STREET_ADDRESS, Frequency: 1\n",
            "Label: I-STREET_ADDRESS, Frequency: 10\n"
          ]
        },
        {
          "output_type": "display_data",
          "data": {
            "text/plain": [
              "<Figure size 1200x600 with 1 Axes>"
            ],
            "image/png": "[encoded data removed]"
          },
          "metadata": {}
        }
      ]
    },
    {
      "cell_type": "code",
      "source": [
        "import pandas as pd\n",
        "from sklearn.utils import resample\n",
        "\n",
        "# Flatten labels to calculate class distribution\n",
        "all_labels = [label for labels in df['labels'] for label in labels]\n",
        "label_counts = pd.Series(all_labels).value_counts()\n",
        "print(\"Original Label Distribution:\\n\", label_counts)\n",
        "\n",
        "# Define the target number of rows\n",
        "total_rows = 1500\n",
        "target_per_class = total_rows // len(label_counts)\n",
        "\n",
        "# Separate majority and minority class data\n",
        "majority_class = df[df['labels'].apply(lambda x: 'O' in x)]\n",
        "minority_classes = df[df['labels'].apply(lambda x: any(label != 'O' for label in x))]\n",
        "\n",
        "# Downsample the majority class ('O' label)\n",
        "downsampled_majority = resample(\n",
        "    majority_class,\n",
        "    replace=False,\n",
        "    n_samples=target_per_class,\n",
        "    random_state=42\n",
        ")\n",
        "\n",
        "# Upsample the minority classes\n",
        "balanced_data = [downsampled_majority]\n",
        "for label in label_counts.index:\n",
        "    if label != 'O':\n",
        "        class_data = df[df['labels'].apply(lambda x: label in x)]\n",
        "        if len(class_data) > 0:\n",
        "            upsampled_data = resample(\n",
        "                class_data,\n",
        "                replace=True,\n",
        "                n_samples=target_per_class if len(class_data) < target_per_class else len(class_data),\n",
        "                random_state=42\n",
        "            )\n",
        "            balanced_data.append(upsampled_data)\n",
        "\n",
        "# Combine the balanced data\n",
        "balanced_df = pd.concat(balanced_data).sample(frac=1, random_state=42).reset_index(drop=True)\n",
        "\n",
        "# Save the balanced dataset\n",
        "#balanced_df.to_csv('balanced_PII_dataset.csv', index=False)\n",
        "\n",
        "# Verify the new class distribution\n",
        "balanced_all_labels = [label for labels in balanced_df['labels'] for label in labels]\n",
        "balanced_label_counts = pd.Series(balanced_all_labels).value_counts()\n",
        "print(\"Balanced Label Distribution:\\n\", balanced_label_counts)\n",
        "df = balanced_df\n"
      ],
      "metadata": {
        "id": "2Wr1fKu4Ce_J",
        "outputId": "667b1f01-a8dc-4873-998e-e816fc8e50b6",
        "colab": {
          "base_uri": "https://localhost:8080/"
        }
      },
      "execution_count": null,
      "outputs": [
        {
          "output_type": "stream",
          "name": "stdout",
          "text": [
            "Original Label Distribution:\n",
            " O                   4989794\n",
            "B-NAME_STUDENT         1365\n",
            "I-NAME_STUDENT         1096\n",
            "B-URL_PERSONAL          110\n",
            "B-ID_NUM                 78\n",
            "B-EMAIL                  39\n",
            "I-STREET_ADDRESS         20\n",
            "I-PHONE_NUM              15\n",
            "B-USERNAME                6\n",
            "B-PHONE_NUM               6\n",
            "B-STREET_ADDRESS          2\n",
            "I-URL_PERSONAL            1\n",
            "I-ID_NUM                  1\n",
            "Name: count, dtype: int64\n",
            "Balanced Label Distribution:\n",
            " O                   2390247\n",
            "B-NAME_STUDENT         3764\n",
            "I-NAME_STUDENT         3451\n",
            "I-STREET_ADDRESS       2680\n",
            "I-PHONE_NUM            1059\n",
            "B-URL_PERSONAL          669\n",
            "B-EMAIL                 614\n",
            "B-ID_NUM                531\n",
            "B-PHONE_NUM             487\n",
            "B-STREET_ADDRESS        268\n",
            "B-USERNAME              142\n",
            "I-URL_PERSONAL          119\n",
            "I-ID_NUM                118\n",
            "Name: count, dtype: int64\n"
          ]
        }
      ]
    },
    {
      "cell_type": "code",
      "source": [
        "len(df)"
      ],
      "metadata": {
        "id": "EfHpKw1LDwlH",
        "outputId": "d9ce914b-640d-4b40-f8f0-e4ca8244039c",
        "colab": {
          "base_uri": "https://localhost:8080/"
        }
      },
      "execution_count": null,
      "outputs": [
        {
          "output_type": "execute_result",
          "data": {
            "text/plain": [
              "2970"
            ]
          },
          "metadata": {},
          "execution_count": 19
        }
      ]
    },
    {
      "cell_type": "markdown",
      "metadata": {
        "id": "ZnVXLUI-6kyf"
      },
      "source": [
        "The data set is heavily distributed with tokens that do not belong to a PII category (ie 'O' labels). We will use a focal loss and class weights with our model to help with this class imbalance. This will help ensure our model does not simply predict all 'O's' given the large distribution of those labels."
      ]
    },
    {
      "cell_type": "code",
      "source": [
        "all_labels = [label for sublist in df['labels'] for label in sublist]\n",
        "unique_labels = list(set(all_labels))\n",
        "id2label = {i: label for i, label in enumerate(unique_labels)}\n",
        "label2id = {label: i for i, label in enumerate(unique_labels)}\n",
        "all_labels = list(label2id.keys())  # Get all unique labels from mapping\n",
        "num_labels = len(all_labels)  # Update the num_labels"
      ],
      "metadata": {
        "id": "FrajZRGyDXVx"
      },
      "execution_count": null,
      "outputs": []
    },
    {
      "cell_type": "code",
      "source": [
        "# Split Dataset\n",
        "train_df, test_df = train_test_split(df, test_size=0.2, random_state=42)\n",
        "train_dataset = datasets.Dataset.from_pandas(train_df)\n",
        "test_dataset = datasets.Dataset.from_pandas(test_df)\n",
        "dataset_dict = datasets.DatasetDict({'train': train_dataset, 'test': test_dataset})"
      ],
      "metadata": {
        "id": "BAH5ZLawDmGg"
      },
      "execution_count": null,
      "outputs": []
    },
    {
      "cell_type": "markdown",
      "metadata": {
        "id": "u8bQgIJT6kyf"
      },
      "source": [
        "\n",
        "\n",
        "#### Tokenization and Alignment of Labels\n",
        "Explanations of the unique labels in the data set are below. These are the desired PII categories we seek to identify in the student essays. Note the tokens are split using a 'piece wise' tokenizer format.\n",
        "\n",
        "##### Explanation of Labels:\n",
        "\n",
        "B-EMAIL: Beginning of an email address.\n",
        "B-ID_NUM: Beginning of an identification number.\n",
        "B-NAME_STUDENT: Beginning of a student's name.\n",
        "B-PHONE_NUM: Beginning of a phone number.\n",
        "B-STREET_ADDRESS: Beginning of a street address.\n",
        "B-URL_PERSONAL: Beginning of a personal URL.\n",
        "B-USERNAME: Beginning of a username.\n",
        "I-ID_NUM: Inside an identification number.\n",
        "I-NAME_STUDENT: Inside a student's name.\n",
        "I-PHONE_NUM: Inside a phone number.\n",
        "I-STREET_ADDRESS: Inside a street address.\n",
        "I-URL_PERSONAL: Inside a personal URL.\n",
        "O: Outside of any named entity.\n",
        "\n",
        "DeBERTa (Decoding-enhanced BERT with disentangled attention) improves the BERT and RoBERTa models using two novel techniques. The first is the disentangled attention mechanism, where each word is represented using two vectors that encode its content and position, respectively, and the attention weights among words are computed using disentangled matrices on their contents and relative positions. Second, an enhanced mask decoder is used to replace the output softmax layer to predict the masked tokens for model pretraining. We show that these two techniques significantly improve the efficiency of model pre-training and performance of downstream tasks.\n",
        "\n",
        "##### Piecewise Tokenization:\n",
        "\n",
        "The DeBERTa model uses a 'piecewise' tokenizer. This type of tokenizer breaks down text into smaller subword units, which is useful for handling rare words and morphological variations. It ensures that even if a word is not in the vocabulary, the tokenizer can still represent it using smaller known subword units.\n",
        "\n",
        "##### Tokenization Process:\n",
        "\n",
        "Token Splitting: The text is split into tokens based on whitespace and punctuation.\n",
        "\n",
        "Subword Tokenization: Each token is further split into subwords. For example, the word \"unhappiness\" might be split into \"un\", \"happi\", and \"ness\".\n",
        "\n",
        "Label Alignment: Labels are aligned with the subword tokens. If a token is split into multiple subwords, the label for the original token is assigned to the first subword, and a special label (typically -100) is assigned to the subsequent subwords.\n",
        "Here's an example of how a token and its label might be split and aligned:\n",
        "\n",
        "Original token: \"unhappiness\" (Label: B-EMOTION) Subword tokens: [\"un\", \"happi\", \"ness\"] Aligned labels: [B-EMOTION, -100, -100]\n",
        "\n",
        "The alignment ensures that the model learns to identify entities correctly even when tokens are split into subwords.\n",
        "\n",
        "</font>\n",
        "\n",
        "A function to tokenize the input data and align the labels with the tokenized inputs s also defined. his function handles the trailing whitespace correctly. The map function, which is included in the datasets library, is used to map the function to all of the documents in the data set. This will create the tokenized dataset required for the Hugging Face Deberta model.\n"
      ]
    },
    {
      "cell_type": "markdown",
      "source": [
        "### Tokenization and Detailed Label Alignment\n",
        "Below code converts input tokens and their associated labels into a format suitable for the deBERTa model.\n",
        "* How it Works:\n",
        "1. The tokenizer processes tokens, splitting words and assigning token IDs.\n",
        "2. The word_ids function maps tokens to their original words.\n",
        "3. Labels are aligned with tokens:\n",
        "  * Special tokens (e.g., [CLS], [PAD]) are assigned a label of -100 so they are ignored during training.\n",
        " * Normal tokens are mapped to their corresponding label IDs using the label2id dictionary.\n",
        "* Key Details:\n",
        "  * Truncation and Padding: Ensures that inputs fit the model's maximum length while maintaining alignment.\n",
        " * Output Format: A dictionary with tokenized inputs and aligned labels, ready for training."
      ],
      "metadata": {
        "id": "AHw9yI88syb8"
      }
    },
    {
      "cell_type": "code",
      "execution_count": null,
      "metadata": {
        "id": "Tau0TIz-6kyg",
        "outputId": "5c9f555f-ad5a-49a7-8cb9-f2f26b2f402e",
        "colab": {
          "base_uri": "https://localhost:8080/",
          "height": 98,
          "referenced_widgets": [
            "7df1ca097dc448b2bdd0bc18c7a8fff3",
            "93a5a7ece3784bffa3474ca65f08a7c1",
            "b6340006b9d9428590402823e775c4ee",
            "842a757cb39f4014b631ac2d856373d4",
            "c408d6fe0f074e069fdd5ec9627be9e8",
            "37a82ee1b6c04994a1313abd7860340f",
            "d9a55401f1c14b82a1ce8b738c7f7f7c",
            "8624c1014f174abf900f9e3d51af8420",
            "8101b61811a64a6689fbcc266c71fe7a",
            "3aa684ccac7e48408ce862cff00c30c7",
            "7fb0d3e9a0a44670afdb4b4ae3f95fe6",
            "0a56a48fa34b4ba9b36419616c756357",
            "e96b5be128df4c7ca8d0705d1a847554",
            "3308dfc599464506845291c06e226aa7",
            "0405379399dd4aadbb3a7e9c68afb80b",
            "6f07aac8c7c444948376059b71b06bd5",
            "2a951f2472e540cd9250a754b97735c4",
            "9e48ab491e2042d496d6fa5796e058d5",
            "0903f4bb32f54884a3674d09ba7a2b9e",
            "d622f48ea75645c58f2dbb485747b513",
            "1f2d94bf765546259bead24ae3ba093f",
            "bd73b0d2b3f24a67af219990a9b3c6c7"
          ]
        }
      },
      "outputs": [
        {
          "output_type": "display_data",
          "data": {
            "text/plain": [
              "Map:   0%|          | 0/2376 [00:00<?, ? examples/s]"
            ],
            "application/vnd.jupyter.widget-view+json": {
              "version_major": 2,
              "version_minor": 0,
              "model_id": "7df1ca097dc448b2bdd0bc18c7a8fff3"
            }
          },
          "metadata": {}
        },
        {
          "output_type": "display_data",
          "data": {
            "text/plain": [
              "Map:   0%|          | 0/594 [00:00<?, ? examples/s]"
            ],
            "application/vnd.jupyter.widget-view+json": {
              "version_major": 2,
              "version_minor": 0,
              "model_id": "0a56a48fa34b4ba9b36419616c756357"
            }
          },
          "metadata": {}
        },
        {
          "output_type": "execute_result",
          "data": {
            "text/plain": [
              "77"
            ]
          },
          "metadata": {},
          "execution_count": 22
        }
      ],
      "source": [
        "#Define function to tokenize and align labels\n",
        "def tokenize_and_align_labels(examples):\n",
        "    tokenized_inputs = tokenizer(\n",
        "        examples[\"tokens\"],\n",
        "        is_split_into_words=True,\n",
        "        truncation=True,\n",
        "        padding='max_length',\n",
        "        max_length=1024,\n",
        "        return_offsets_mapping=True\n",
        "    )\n",
        "\n",
        "    batch_original_tokens = []\n",
        "    batch_tokenized_tokens = []\n",
        "    batch_label_ids = []\n",
        "    batch_input_ids = []\n",
        "    batch_attention_masks = []\n",
        "    batch_token_type_ids = []\n",
        "\n",
        "    for i, label in enumerate(examples[\"labels\"]):\n",
        "        word_ids = tokenized_inputs.word_ids(batch_index=i)\n",
        "        original_tokens = examples[\"tokens\"][i]\n",
        "        tokenized_tokens = tokenizer.convert_ids_to_tokens(tokenized_inputs[\"input_ids\"][i])\n",
        "\n",
        "        previous_word_idx = None\n",
        "        label_ids = []\n",
        "        original_token_list = []\n",
        "        tokenized_token_list = []\n",
        "        input_id_list = []\n",
        "        attention_mask_list = []\n",
        "        token_type_id_list = []\n",
        "\n",
        "        for j, word_idx in enumerate(word_ids):\n",
        "            if word_idx is None:\n",
        "                label_ids.append(-100)\n",
        "                current_original_token = ''  # Special token\n",
        "            elif word_idx == previous_word_idx:\n",
        "                label_ids.append(-100)\n",
        "                current_original_token = ''  # Subword token\n",
        "            else:\n",
        "                label_ids.append(label2id[label[word_idx]])\n",
        "                current_original_token = original_tokens[word_idx]\n",
        "\n",
        "            original_token_list.append(current_original_token)\n",
        "            tokenized_token_list.append(tokenized_tokens[j])\n",
        "            input_id_list.append(tokenized_inputs[\"input_ids\"][i][j])\n",
        "            attention_mask_list.append(tokenized_inputs[\"attention_mask\"][i][j])\n",
        "            if \"token_type_ids\" in tokenized_inputs:\n",
        "                token_type_id_list.append(tokenized_inputs[\"token_type_ids\"][i][j])\n",
        "            else:\n",
        "                token_type_id_list.append(0)\n",
        "            previous_word_idx = word_idx  # Update for the next iteration\n",
        "\n",
        "        batch_original_tokens.append(original_token_list)\n",
        "        batch_tokenized_tokens.append(tokenized_token_list)\n",
        "        batch_label_ids.append(label_ids)\n",
        "        batch_input_ids.append(input_id_list)\n",
        "        batch_attention_masks.append(attention_mask_list)\n",
        "        batch_token_type_ids.append(token_type_id_list)\n",
        "\n",
        "    # Include BERT-required columns\n",
        "    return {\n",
        "        \"original_tokens\": batch_original_tokens,\n",
        "        \"tokenized_tokens\": batch_tokenized_tokens,\n",
        "        \"labels\": batch_label_ids,\n",
        "        \"input_ids\": batch_input_ids,\n",
        "        \"attention_mask\": batch_attention_masks,\n",
        "        \"token_type_ids\": batch_token_type_ids\n",
        "    }\n",
        "\n",
        "# Tokenize\n",
        "tokenized_datasets = dataset_dict.map(tokenize_and_align_labels, batched=True)\n",
        "\n",
        "gc.collect()"
      ]
    },
    {
      "cell_type": "markdown",
      "metadata": {
        "id": "EdiWDb2M6kyg"
      },
      "source": [
        "It is important to ensure the tokenizer works correctly. The function below displays a comparison of the original tokens to the processed tokens."
      ]
    },
    {
      "cell_type": "markdown",
      "source": [
        "### Visualize Tokenization and Label Alignment\n",
        "It is important to ensure the tokenizer works correctly. The function below displays a comparison of the original tokens to the processed tokens.\n",
        "\n",
        "Description:\n",
        "\n",
        "Purpose: Validates the tokenization and label alignment process by printing a side-by-side comparison of:\n",
        "* Original tokens\n",
        "* Tokenized outputs\n",
        "* Aligned labels\n",
        "How it Works: Extracts and displays the first num_elements tokens and labels for easy debugging.\n",
        "\n",
        "Key Details: Useful for troubleshooting and ensuring the data preprocessing is correct."
      ],
      "metadata": {
        "id": "sFBbZZp9tAtf"
      }
    },
    {
      "cell_type": "code",
      "execution_count": null,
      "metadata": {
        "id": "qcNZNLyV6kyg",
        "outputId": "e8019bfe-04f4-4b02-be25-108c6ebabd01",
        "colab": {
          "base_uri": "https://localhost:8080/"
        }
      },
      "outputs": [
        {
          "output_type": "stream",
          "name": "stdout",
          "text": [
            "Comparison of first 20 elements for the first document in the train dataset:\n",
            "Original Token:                 | Tokenized Token: [CLS]                | Label: -100  | Input ID: 1          | Attention Mask: 1     | Token Type ID: 0\n",
            "Original Token: Waseem          | Tokenized Token: ▁Was                 | Label: 4     | Input ID: 4045       | Attention Mask: 1     | Token Type ID: 0\n",
            "Original Token:                 | Tokenized Token: eem                  | Label: -100  | Input ID: 33829      | Attention Mask: 1     | Token Type ID: 0\n",
            "Original Token: Hamad           | Tokenized Token: ▁Hamad               | Label: 12    | Input ID: 60733      | Attention Mask: 1     | Token Type ID: 0\n",
            "Original Token: ,               | Tokenized Token: ▁,                   | Label: 6     | Input ID: 366        | Attention Mask: 1     | Token Type ID: 0\n",
            "Original Token: MBA             | Tokenized Token: ▁MBA                 | Label: 6     | Input ID: 10776      | Attention Mask: 1     | Token Type ID: 0\n",
            "Original Token: Learning        | Tokenized Token: ▁Learning            | Label: 6     | Input ID: 4735       | Attention Mask: 1     | Token Type ID: 0\n",
            "Original Token: Launch          | Tokenized Token: ▁Launch              | Label: 6     | Input ID: 16508      | Attention Mask: 1     | Token Type ID: 0\n",
            "Original Token: –               | Tokenized Token: ▁–                   | Label: 6     | Input ID: 377        | Attention Mask: 1     | Token Type ID: 0\n",
            "Original Token: Designing       | Tokenized Token: ▁Designing           | Label: 6     | Input ID: 24767      | Attention Mask: 1     | Token Type ID: 0\n",
            "Original Token: for             | Tokenized Token: ▁for                 | Label: 6     | Input ID: 270        | Attention Mask: 1     | Token Type ID: 0\n",
            "Original Token: Growth          | Tokenized Token: ▁Growth              | Label: 6     | Input ID: 9936       | Attention Mask: 1     | Token Type ID: 0\n",
            "Original Token: 1               | Tokenized Token: ▁1                   | Label: 6     | Input ID: 376        | Attention Mask: 1     | Token Type ID: 0\n",
            "Original Token: .               | Tokenized Token: ▁.                   | Label: 6     | Input ID: 323        | Attention Mask: 1     | Token Type ID: 0\n",
            "Original Token: Challenge       | Tokenized Token: ▁Challenge           | Label: 6     | Input ID: 6738       | Attention Mask: 1     | Token Type ID: 0\n",
            "Original Token: :               | Tokenized Token: ▁:                   | Label: 6     | Input ID: 877        | Attention Mask: 1     | Token Type ID: 0\n",
            "Original Token: My              | Tokenized Token: ▁My                  | Label: 6     | Input ID: 573        | Attention Mask: 1     | Token Type ID: 0\n",
            "Original Token: great           | Tokenized Token: ▁great               | Label: 6     | Input ID: 426        | Attention Mask: 1     | Token Type ID: 0\n",
            "Original Token: challenge       | Tokenized Token: ▁challenge           | Label: 6     | Input ID: 1719       | Attention Mask: 1     | Token Type ID: 0\n",
            "Original Token: would           | Tokenized Token: ▁would               | Label: 6     | Input ID: 338        | Attention Mask: 1     | Token Type ID: 0\n"
          ]
        }
      ],
      "source": [
        "import datasets\n",
        "\n",
        "# Function to print the first few elements of each relevant column\n",
        "def print_comparison(dataset, num_elements=20):\n",
        "    first_document = dataset[0]\n",
        "    original_tokens = first_document['original_tokens'][:num_elements]\n",
        "    tokenized_tokens = first_document['tokenized_tokens'][:num_elements]\n",
        "    labels = first_document['labels'][:num_elements]\n",
        "    input_ids = first_document['input_ids'][:num_elements]\n",
        "    attention_mask = first_document['attention_mask'][:num_elements]\n",
        "    token_type_ids = first_document['token_type_ids'][:num_elements]\n",
        "\n",
        "    # Print the columns in a readable format\n",
        "    for i in range(num_elements):\n",
        "        print(f\"Original Token: {original_tokens[i]:<15} | \"\n",
        "              f\"Tokenized Token: {tokenized_tokens[i]:<20} | \"\n",
        "              f\"Label: {labels[i]:<5} | \"\n",
        "              f\"Input ID: {input_ids[i]:<10} | \"\n",
        "              f\"Attention Mask: {attention_mask[i]:<5} | \"\n",
        "              f\"Token Type ID: {token_type_ids[i]}\")\n",
        "\n",
        "# Example usage with the train dataset\n",
        "print(\"Comparison of first 20 elements for the first document in the train dataset:\")\n",
        "print_comparison(tokenized_datasets['train'], num_elements=20)"
      ]
    },
    {
      "cell_type": "markdown",
      "metadata": {
        "id": "7uaXimE06kyg"
      },
      "source": [
        "### Cleaning Up Dataset Columns\n",
        "The tokenizer appears to have processed the original tokens correctly. We can remove the unnecessary column from the tokenized data set and only keep the columns required for training.\n",
        "\n",
        "\n",
        "Purpose: Removes extraneous columns from the dataset, retaining only those required for training and evaluation.\n",
        "\n",
        "How it Works:\n",
        "* Identifies and removes all columns not listed in columns_to_keep.\n",
        "\n",
        "Key Details: Simplifies the dataset structure, reducing memory usage and processing overhead."
      ]
    },
    {
      "cell_type": "code",
      "execution_count": null,
      "metadata": {
        "id": "h5z15CRp6kyh"
      },
      "outputs": [],
      "source": [
        "# List of columns to keep\n",
        "columns_to_keep = ['labels', 'input_ids', 'attention_mask', 'token_type_ids']\n",
        "\n",
        "# Function to remove unnecessary columns\n",
        "def remove_unnecessary_columns(dataset, columns_to_keep):\n",
        "    return dataset.remove_columns([column for column in dataset.column_names if column not in columns_to_keep])\n",
        "\n",
        "# Apply the function to both train and test datasets\n",
        "tokenized_datasets['train'] = remove_unnecessary_columns(tokenized_datasets['train'], columns_to_keep)\n",
        "tokenized_datasets['test'] = remove_unnecessary_columns(tokenized_datasets['test'], columns_to_keep)"
      ]
    },
    {
      "cell_type": "markdown",
      "metadata": {
        "id": "wwU_fZYT6kyh"
      },
      "source": [
        "##### Deberta Model Training\n",
        "Recall the data set is imbalanced, with the vast majority of labels belonging to a non-PII category 'O.' Class weights with a weighted loss function will be used to help with this imbalance. This means the model will put more focus on the minority classes and will put less weight on the majority classes when training. Also, a custom compute metrics function with a classification report is defined for evaluation.\n",
        "\n",
        "### Compute Class Weights\n",
        "Computes weights for each class to handle label imbalance during training.\n",
        "\n",
        "* The compute_class_weight function calculates weights inversely proportional to class frequencies.\n",
        "* Converts weights into a PyTorch tensor for use in the loss function.\n",
        "\n",
        "Key Details: Helps mitigate the impact of overrepresented or underrepresented labels."
      ]
    },
    {
      "cell_type": "code",
      "execution_count": null,
      "metadata": {
        "id": "EIIeyc6f6kyh"
      },
      "outputs": [],
      "source": [
        "# Calculate class weights\n",
        "class_weights = compute_class_weight('balanced', classes=np.unique(all_labels), y=all_labels)\n",
        "class_weights = torch.tensor(class_weights, dtype=torch.float).to(device)"
      ]
    },
    {
      "cell_type": "markdown",
      "source": [
        "### Custom Logging for visualization\n",
        "Creating a custom callback to track the loss at each epoch's end and log it for later plotting.\n",
        "\n",
        "1. The Hugging Face Trainer already provides built-in logging, but this callback focuses specifically on tracking loss values at the end of each epoch.\n",
        "2. It allows to monitor and visualize the loss trends during training, helping to identify overfitting or underfitting.\n",
        "\n",
        "* This callback is particularly useful when fine-tuning a RoBERTa model for token classification tasks like Named Entity Recognition (NER) or PII detection.\n",
        "* Loss values can be visualized to ensure the model is learning effectively over epochs."
      ],
      "metadata": {
        "id": "o34ePXNdGZ9T"
      }
    },
    {
      "cell_type": "code",
      "source": [
        "from transformers import TrainerCallback\n",
        "import matplotlib.pyplot as plt\n",
        "\n",
        "# Custom callback to log loss at the end of each epoch\n",
        "class LossLoggerCallback(TrainerCallback):\n",
        "    def __init__(self):\n",
        "        self.epoch_losses = []\n",
        "\n",
        "    def on_epoch_end(self, args, state, control, **kwargs):\n",
        "        # Check if log_history has entries\n",
        "        if state.log_history and 'loss' in state.log_history[-1]:\n",
        "            # Store the loss of the current epoch\n",
        "            self.epoch_losses.append(state.log_history[-1]['loss'])\n",
        "        else:\n",
        "            print(\"Warning: No loss logged for this epoch.\")\n",
        "\n",
        "# Initialize the callback\n",
        "loss_logger = LossLoggerCallback()\n"
      ],
      "metadata": {
        "id": "4fDt-MtZGSmV"
      },
      "execution_count": null,
      "outputs": []
    },
    {
      "cell_type": "markdown",
      "source": [
        "### Data Collator for Token Classification\n",
        "Automatically pads and batches the tokenized inputs for token classification tasks.\n",
        "\n",
        "1. Uses the tokenizer to handle dynamic padding and ensures all inputs in a batch are the same length.\n",
        "2. Prepares batches efficiently for tasks like Named Entity Recognition (NER)."
      ],
      "metadata": {
        "id": "TkeoH5F4tpZw"
      }
    },
    {
      "cell_type": "code",
      "source": [
        "# Define data collator\n",
        "data_collator = DataCollatorForTokenClassification(tokenizer)"
      ],
      "metadata": {
        "id": "Cw7R_Q5XtrN-"
      },
      "execution_count": null,
      "outputs": []
    },
    {
      "cell_type": "markdown",
      "source": [
        "### Focal Loss Definition and initialization\n",
        "Implements Focal Loss, which down-weights well-classified examples and focuses more on difficult examples.\n",
        "then instantiates the Focal Loss function with gamma=2 and uniform class weights.\n",
        "\n",
        "Key Parameters:\n",
        "* gamma: Controls the strength of down-weighting for well-classified examples.\n",
        "* alpha: Class weights to address class imbalance.\n",
        "\n",
        "Working:\n",
        "1. Calculates the standard Cross-Entropy Loss.\n",
        "2. Adjusts the loss for each example using a weighting factor ((1 - pt) ** gamma), where pt represents the predicted probability for the true class.\n",
        "\n",
        "3. class_weights: Can be replaced with computed weights if class imbalance exists."
      ],
      "metadata": {
        "id": "N4kczGGatzey"
      }
    },
    {
      "cell_type": "code",
      "execution_count": null,
      "metadata": {
        "id": "4MtK4ltg6kyh"
      },
      "outputs": [],
      "source": [
        "\n",
        "# Define Focal Loss\n",
        "class FocalLoss(nn.Module):\n",
        "    def __init__(self, gamma=2, alpha=None):\n",
        "        super(FocalLoss, self).__init__()\n",
        "        self.gamma = gamma\n",
        "        self.alpha = alpha\n",
        "        if isinstance(alpha, (float, int)):\n",
        "            self.alpha = torch.Tensor([alpha, 1 - alpha])\n",
        "        if isinstance(alpha, list):\n",
        "            self.alpha = torch.Tensor(alpha)\n",
        "\n",
        "    def forward(self, inputs, targets):\n",
        "        BCE_loss = F.cross_entropy(inputs, targets, reduction='none', weight=self.alpha)\n",
        "        pt = torch.exp(-BCE_loss)\n",
        "        F_loss = ((1 - pt) ** self.gamma) * BCE_loss\n",
        "        return F_loss.mean()\n",
        "\n",
        "\n"
      ]
    },
    {
      "cell_type": "markdown",
      "source": [
        "### Custom Compute Metrics Function\n",
        "Defines a function to evaluate the model's token classification performance by aligning predictions and true labels, calculating weighted metrics, and generating a classification report.\n",
        "\n",
        "Key Outputs:\n",
        "* Precision: Proportion of correctly predicted tokens out of all tokens predicted for a specific class.\n",
        "* Recall: Proportion of correctly predicted tokens out of all true tokens for a class.\n",
        "* F1 Score: Balances precision and recall.\n",
        "* Classification Report: Detailed per-class metrics.\n",
        "\n",
        "Working:\n",
        "1. Aligns Tokens: Ignores special tokens (-100) and aligns predictions with true labels using id2label.\n",
        "2. Flattens Labels: Converts nested token-level predictions and true labels into flat lists.\n",
        "3. Computes Metrics:\n",
        " * Uses precision_recall_fscore_support for weighted metrics.\n",
        " * Generates a detailed classification_report for per-class analysis.\n",
        "4. Returns Metrics: Outputs precision, recall, F1 score, and accuracy-like metrics in a dictionary."
      ],
      "metadata": {
        "id": "A33FKZhcuD60"
      }
    },
    {
      "cell_type": "code",
      "source": [
        "def compute_metrics(p):\n",
        "    predictions, labels = p\n",
        "    predictions = np.argmax(predictions, axis=2)\n",
        "\n",
        "    true_labels = [[id2label[label] for label in doc if label != -100] for doc in labels]\n",
        "    true_predictions = [\n",
        "        [id2label[pred] for pred, label in zip(doc, labels[i]) if label != -100]\n",
        "        for i, doc in enumerate(predictions)\n",
        "    ]\n",
        "\n",
        "    # Flatten the lists\n",
        "    true_labels_flat = [item for sublist in true_labels for item in sublist]\n",
        "    true_predictions_flat = [item for sublist in true_predictions for item in sublist]\n",
        "\n",
        "    # Calculate metrics\n",
        "    results = precision_recall_fscore_support(true_labels_flat, true_predictions_flat, average='weighted')\n",
        "\n",
        "    # Compute classification report\n",
        "    class_report = classification_report(\n",
        "        true_labels_flat, true_predictions_flat, labels=all_labels, zero_division=0  # Explicitly set labels and handle zero division\n",
        "    )\n",
        "\n",
        "    print(\"Classification Report:\\n\", class_report)\n",
        "    return {\n",
        "        \"precision\": results[0],\n",
        "        \"recall\": results[1],\n",
        "        \"f1\": results[2],\n",
        "        \"accuracy\": (results[2] * results[1])\n",
        "    }\n",
        "\n"
      ],
      "metadata": {
        "id": "BayvgXJauMf1"
      },
      "execution_count": null,
      "outputs": []
    },
    {
      "cell_type": "markdown",
      "source": [
        "### Custom Trainer with Custom Loss Function\n",
        "Defines a custom Trainer class to integrate a custom loss function (e.g., Focal Loss) for fine-tuning the model, along with tailored training arguments.\n",
        "\n",
        "Custom Trainer Class:\n",
        "* Purpose: Overrides the default loss computation in Hugging Face's Trainer to use the provided custom loss function.\n",
        "* Working:\n",
        "  1. Moves inputs and labels to the appropriate device (CPU/GPU).\n",
        "  2. Passes inputs through the model to compute logits.\n",
        "  3. Applies the custom loss function to logits and labels.\n",
        "  4. Logs the calculated loss explicitly for monitoring.\n",
        "\n",
        "Training Arguments:\n",
        "* Purpose: Configures the fine-tuning process with hyperparameters and training strategies.\n",
        "* Key Parameters:\n",
        "  1. eval_strategy=\"epoch\": Evaluates the model at the end of each epoch.\n",
        "  2. gradient_accumulation_steps=2: Simulates a larger batch size by accumulating gradients over multiple steps.\n",
        "  3. fp16=True: Enables mixed-precision training for faster computations.\n",
        "\n",
        "Custom Trainer Initialization:\n",
        "* Combines all components into a CustomTrainer instance:\n",
        "  1. Custom Loss Function: Integrates Focal Loss for better handling of class imbalance.\n",
        "  2. Datasets: Uses tokenized training and testing datasets.\n",
        "  3. Callbacks: Includes a loss_logger to track epoch-wise loss.\n",
        "  4. Metrics: Evaluates model predictions using custom metrics like precision, recall, and F1 score."
      ],
      "metadata": {
        "id": "rBeak3MYuTov"
      }
    },
    {
      "cell_type": "code",
      "source": [
        "# Custom Trainer with custom loss function\n",
        "class CustomTrainer(Trainer):\n",
        "    def __init__(self, loss_fn, *args, **kwargs):\n",
        "        super().__init__(*args, **kwargs)\n",
        "        self.loss_fn = loss_fn\n",
        "\n",
        "    def compute_loss(self, model, inputs, return_outputs=False, **kwargs):\n",
        "        labels = inputs.pop(\"labels\")\n",
        "        outputs = model(**inputs)\n",
        "        logits = outputs.logits\n",
        "        loss = self.loss_fn(logits.view(-1, logits.shape[-1]), labels.view(-1))\n",
        "\n",
        "        return (loss, outputs) if return_outputs else loss\n",
        "\n",
        "# Choose the loss function (WeightedLoss or FocalLoss)\n",
        "loss_fn = FocalLoss(gamma=2, alpha=class_weights)\n",
        "\n",
        "# Training arguments\n",
        "training_args = TrainingArguments(\n",
        "    output_dir='./results',\n",
        "    evaluation_strategy=\"epoch\",\n",
        "    logging_strategy=\"steps\",       # Log training loss at each step\n",
        "    logging_steps=10,               # Adjust based on frequency needed\n",
        "    learning_rate=2e-5,\n",
        "    per_device_train_batch_size=2,\n",
        "    per_device_eval_batch_size=2,\n",
        "    gradient_accumulation_steps=4,\n",
        "    num_train_epochs=5,\n",
        "    weight_decay=0.01,\n",
        "    fp16=True,\n",
        "    report_to='none'\n",
        ")\n",
        "\n",
        "# Trainer\n",
        "trainer = CustomTrainer(\n",
        "    loss_fn=loss_fn,\n",
        "    model=model,\n",
        "    args=training_args,\n",
        "    train_dataset=tokenized_datasets['train'],\n",
        "    eval_dataset=tokenized_datasets['test'],\n",
        "    tokenizer=tokenizer,\n",
        "    data_collator=data_collator,\n",
        "    compute_metrics=compute_metrics,\n",
        "    callbacks=[loss_logger]  # Including the custom callback\n",
        ")"
      ],
      "metadata": {
        "id": "AfR1CoEwuaNV",
        "colab": {
          "base_uri": "https://localhost:8080/"
        },
        "outputId": "3765563c-55f9-4ad7-c029-9329d784b7ab"
      },
      "execution_count": null,
      "outputs": [
        {
          "output_type": "stream",
          "name": "stderr",
          "text": [
            "/usr/local/lib/python3.10/dist-packages/transformers/training_args.py:1568: FutureWarning: `evaluation_strategy` is deprecated and will be removed in version 4.46 of 🤗 Transformers. Use `eval_strategy` instead\n",
            "  warnings.warn(\n",
            "<ipython-input-21-b4231d5a5ab3>:4: FutureWarning: `tokenizer` is deprecated and will be removed in version 5.0.0 for `CustomTrainer.__init__`. Use `processing_class` instead.\n",
            "  super().__init__(*args, **kwargs)\n"
          ]
        }
      ]
    },
    {
      "cell_type": "code",
      "source": [
        "# Configures the PyTorch CUDA environment to enable efficient memory management using expandable memory segments.\n",
        "import os\n",
        "os.environ[\"PYTORCH_CUDA_ALLOC_CONF\"] = \"expandable_segments:True\""
      ],
      "metadata": {
        "id": "Vlkqlx7_C7Id"
      },
      "execution_count": null,
      "outputs": []
    },
    {
      "cell_type": "code",
      "source": [
        "import torch\n",
        "torch.cuda.empty_cache()  # Clear cached memory"
      ],
      "metadata": {
        "id": "YGbuFNANup0g"
      },
      "execution_count": null,
      "outputs": []
    },
    {
      "cell_type": "markdown",
      "source": [
        "### Model Training and Evaluation\n",
        "* Purpose: Fine-tunes the model using the provided training dataset and configurations. then assesses the model's performance on the evaluation dataset.\n",
        "* Working:\n",
        "  1. Executes the training loop, handling gradient updates, logging, and checkpointing (if enabled).\n",
        "  2. Optimizes the model weights using the custom loss function.\n",
        "  3. Computes evaluation metrics (e.g., precision, recall, F1 score) defined in the compute_metrics function.\n",
        "  4. Outputs a dictionary containing the evaluation results for further analysis."
      ],
      "metadata": {
        "id": "M9UAoPQ3usr8"
      }
    },
    {
      "cell_type": "code",
      "execution_count": null,
      "metadata": {
        "id": "NUZ8dBrq6kyi",
        "outputId": "6167ca88-5adc-4555-a1bf-03bdca826685",
        "colab": {
          "base_uri": "https://localhost:8080/",
          "height": 1000
        }
      },
      "outputs": [
        {
          "output_type": "display_data",
          "data": {
            "text/plain": [
              "<IPython.core.display.HTML object>"
            ],
            "text/html": [
              "\n",
              "    <div>\n",
              "      \n",
              "      <progress value='750' max='750' style='width:300px; height:20px; vertical-align: middle;'></progress>\n",
              "      [750/750 26:03, Epoch 5/5]\n",
              "    </div>\n",
              "    <table border=\"1\" class=\"dataframe\">\n",
              "  <thead>\n",
              " <tr style=\"text-align: left;\">\n",
              "      <th>Epoch</th>\n",
              "      <th>Training Loss</th>\n",
              "      <th>Validation Loss</th>\n",
              "      <th>Precision</th>\n",
              "      <th>Recall</th>\n",
              "      <th>F1</th>\n",
              "      <th>Accuracy</th>\n",
              "    </tr>\n",
              "  </thead>\n",
              "  <tbody>\n",
              "    <tr>\n",
              "      <td>1</td>\n",
              "      <td>0.000400</td>\n",
              "      <td>0.000753</td>\n",
              "      <td>0.999336</td>\n",
              "      <td>0.999425</td>\n",
              "      <td>0.999365</td>\n",
              "      <td>0.998790</td>\n",
              "    </tr>\n",
              "    <tr>\n",
              "      <td>2</td>\n",
              "      <td>0.000300</td>\n",
              "      <td>0.000617</td>\n",
              "      <td>0.999444</td>\n",
              "      <td>0.999361</td>\n",
              "      <td>0.999368</td>\n",
              "      <td>0.998729</td>\n",
              "    </tr>\n",
              "    <tr>\n",
              "      <td>3</td>\n",
              "      <td>0.000200</td>\n",
              "      <td>0.000390</td>\n",
              "      <td>0.999540</td>\n",
              "      <td>0.999566</td>\n",
              "      <td>0.999549</td>\n",
              "      <td>0.999115</td>\n",
              "    </tr>\n",
              "    <tr>\n",
              "      <td>4</td>\n",
              "      <td>0.000000</td>\n",
              "      <td>0.000420</td>\n",
              "      <td>0.999565</td>\n",
              "      <td>0.999586</td>\n",
              "      <td>0.999569</td>\n",
              "      <td>0.999155</td>\n",
              "    </tr>\n",
              "    <tr>\n",
              "      <td>5</td>\n",
              "      <td>0.000200</td>\n",
              "      <td>0.000436</td>\n",
              "      <td>0.999562</td>\n",
              "      <td>0.999581</td>\n",
              "      <td>0.999565</td>\n",
              "      <td>0.999146</td>\n",
              "    </tr>\n",
              "  </tbody>\n",
              "</table><p>"
            ]
          },
          "metadata": {}
        },
        {
          "output_type": "stream",
          "name": "stderr",
          "text": [
            "/usr/local/lib/python3.10/dist-packages/sklearn/metrics/_classification.py:1531: UndefinedMetricWarning: Precision is ill-defined and being set to 0.0 in labels with no predicted samples. Use `zero_division` parameter to control this behavior.\n",
            "  _warn_prf(average, modifier, f\"{metric.capitalize()} is\", len(result))\n"
          ]
        },
        {
          "output_type": "stream",
          "name": "stdout",
          "text": [
            "Classification Report:\n",
            "                   precision    recall  f1-score   support\n",
            "\n",
            "      B-USERNAME       0.00      0.00      0.00         0\n",
            "         B-EMAIL       0.00      0.00      0.00         7\n",
            "               O       1.00      1.00      1.00    204733\n",
            "        B-ID_NUM       1.00      0.53      0.69        34\n",
            "     I-PHONE_NUM       0.00      0.00      0.00         9\n",
            "     B-PHONE_NUM       0.00      0.00      0.00         3\n",
            "  B-NAME_STUDENT       0.88      0.83      0.85       190\n",
            "I-STREET_ADDRESS       0.00      0.00      0.00         0\n",
            "B-STREET_ADDRESS       0.00      0.00      0.00         0\n",
            "  B-URL_PERSONAL       0.73      0.69      0.71        16\n",
            "  I-NAME_STUDENT       0.88      0.99      0.93       151\n",
            "  I-URL_PERSONAL       0.00      0.00      0.00         0\n",
            "\n",
            "        accuracy                           1.00    205143\n",
            "       macro avg       0.37      0.34      0.35    205143\n",
            "    weighted avg       1.00      1.00      1.00    205143\n",
            "\n"
          ]
        },
        {
          "output_type": "stream",
          "name": "stderr",
          "text": [
            "/usr/local/lib/python3.10/dist-packages/sklearn/metrics/_classification.py:1531: UndefinedMetricWarning: Precision is ill-defined and being set to 0.0 in labels with no predicted samples. Use `zero_division` parameter to control this behavior.\n",
            "  _warn_prf(average, modifier, f\"{metric.capitalize()} is\", len(result))\n"
          ]
        },
        {
          "output_type": "stream",
          "name": "stdout",
          "text": [
            "Classification Report:\n",
            "                   precision    recall  f1-score   support\n",
            "\n",
            "      B-USERNAME       0.00      0.00      0.00         0\n",
            "         B-EMAIL       0.88      1.00      0.93         7\n",
            "               O       1.00      1.00      1.00    204733\n",
            "        B-ID_NUM       1.00      0.65      0.79        34\n",
            "     I-PHONE_NUM       0.00      0.00      0.00         9\n",
            "     B-PHONE_NUM       0.00      0.00      0.00         3\n",
            "  B-NAME_STUDENT       0.70      0.99      0.82       190\n",
            "I-STREET_ADDRESS       0.00      0.00      0.00         0\n",
            "B-STREET_ADDRESS       0.00      0.00      0.00         0\n",
            "  B-URL_PERSONAL       0.64      1.00      0.78        16\n",
            "  I-NAME_STUDENT       0.90      1.00      0.95       151\n",
            "  I-URL_PERSONAL       0.00      0.00      0.00         0\n",
            "\n",
            "        accuracy                           1.00    205143\n",
            "       macro avg       0.43      0.47      0.44    205143\n",
            "    weighted avg       1.00      1.00      1.00    205143\n",
            "\n"
          ]
        },
        {
          "output_type": "stream",
          "name": "stderr",
          "text": [
            "/usr/local/lib/python3.10/dist-packages/sklearn/metrics/_classification.py:1531: UndefinedMetricWarning: Precision is ill-defined and being set to 0.0 in labels with no predicted samples. Use `zero_division` parameter to control this behavior.\n",
            "  _warn_prf(average, modifier, f\"{metric.capitalize()} is\", len(result))\n",
            "/usr/local/lib/python3.10/dist-packages/sklearn/metrics/_classification.py:1531: UndefinedMetricWarning: Recall is ill-defined and being set to 0.0 in labels with no true samples. Use `zero_division` parameter to control this behavior.\n",
            "  _warn_prf(average, modifier, f\"{metric.capitalize()} is\", len(result))\n"
          ]
        },
        {
          "output_type": "stream",
          "name": "stdout",
          "text": [
            "Classification Report:\n",
            "                   precision    recall  f1-score   support\n",
            "\n",
            "      B-USERNAME       0.00      0.00      0.00         0\n",
            "         B-EMAIL       1.00      1.00      1.00         7\n",
            "               O       1.00      1.00      1.00    204733\n",
            "        B-ID_NUM       0.97      0.91      0.94        34\n",
            "     I-PHONE_NUM       0.00      0.00      0.00         9\n",
            "     B-PHONE_NUM       0.00      0.00      0.00         3\n",
            "  B-NAME_STUDENT       0.82      0.89      0.86       190\n",
            "I-STREET_ADDRESS       0.00      0.00      0.00         0\n",
            "B-STREET_ADDRESS       0.00      0.00      0.00         0\n",
            "  B-URL_PERSONAL       0.70      1.00      0.82        16\n",
            "  I-NAME_STUDENT       0.94      0.99      0.97       151\n",
            "  I-URL_PERSONAL       0.00      0.00      0.00         0\n",
            "\n",
            "        accuracy                           1.00    205143\n",
            "       macro avg       0.45      0.48      0.47    205143\n",
            "    weighted avg       1.00      1.00      1.00    205143\n",
            "\n"
          ]
        },
        {
          "output_type": "stream",
          "name": "stderr",
          "text": [
            "/usr/local/lib/python3.10/dist-packages/sklearn/metrics/_classification.py:1531: UndefinedMetricWarning: Precision is ill-defined and being set to 0.0 in labels with no predicted samples. Use `zero_division` parameter to control this behavior.\n",
            "  _warn_prf(average, modifier, f\"{metric.capitalize()} is\", len(result))\n"
          ]
        },
        {
          "output_type": "stream",
          "name": "stdout",
          "text": [
            "Classification Report:\n",
            "                   precision    recall  f1-score   support\n",
            "\n",
            "      B-USERNAME       0.00      0.00      0.00         0\n",
            "         B-EMAIL       1.00      1.00      1.00         7\n",
            "               O       1.00      1.00      1.00    204733\n",
            "        B-ID_NUM       1.00      0.97      0.99        34\n",
            "     I-PHONE_NUM       0.00      0.00      0.00         9\n",
            "     B-PHONE_NUM       0.00      0.00      0.00         3\n",
            "  B-NAME_STUDENT       0.79      0.93      0.86       190\n",
            "I-STREET_ADDRESS       0.00      0.00      0.00         0\n",
            "B-STREET_ADDRESS       0.00      0.00      0.00         0\n",
            "  B-URL_PERSONAL       0.89      1.00      0.94        16\n",
            "  I-NAME_STUDENT       0.93      1.00      0.96       151\n",
            "  I-URL_PERSONAL       0.00      0.00      0.00         0\n",
            "\n",
            "        accuracy                           1.00    205143\n",
            "       macro avg       0.47      0.49      0.48    205143\n",
            "    weighted avg       1.00      1.00      1.00    205143\n",
            "\n"
          ]
        },
        {
          "output_type": "stream",
          "name": "stderr",
          "text": [
            "/usr/local/lib/python3.10/dist-packages/sklearn/metrics/_classification.py:1531: UndefinedMetricWarning: Precision is ill-defined and being set to 0.0 in labels with no predicted samples. Use `zero_division` parameter to control this behavior.\n",
            "  _warn_prf(average, modifier, f\"{metric.capitalize()} is\", len(result))\n"
          ]
        },
        {
          "output_type": "stream",
          "name": "stdout",
          "text": [
            "Classification Report:\n",
            "                   precision    recall  f1-score   support\n",
            "\n",
            "      B-USERNAME       0.00      0.00      0.00         0\n",
            "         B-EMAIL       1.00      1.00      1.00         7\n",
            "               O       1.00      1.00      1.00    204733\n",
            "        B-ID_NUM       1.00      0.97      0.99        34\n",
            "     I-PHONE_NUM       0.00      0.00      0.00         9\n",
            "     B-PHONE_NUM       0.00      0.00      0.00         3\n",
            "  B-NAME_STUDENT       0.79      0.93      0.86       190\n",
            "I-STREET_ADDRESS       0.00      0.00      0.00         0\n",
            "B-STREET_ADDRESS       0.00      0.00      0.00         0\n",
            "  B-URL_PERSONAL       0.84      1.00      0.91        16\n",
            "  I-NAME_STUDENT       0.94      1.00      0.97       151\n",
            "  I-URL_PERSONAL       0.00      0.00      0.00         0\n",
            "\n",
            "        accuracy                           1.00    205143\n",
            "       macro avg       0.46      0.49      0.48    205143\n",
            "    weighted avg       1.00      1.00      1.00    205143\n",
            "\n"
          ]
        },
        {
          "output_type": "display_data",
          "data": {
            "text/plain": [
              "<IPython.core.display.HTML object>"
            ],
            "text/html": [
              "\n",
              "    <div>\n",
              "      \n",
              "      <progress value='150' max='150' style='width:300px; height:20px; vertical-align: middle;'></progress>\n",
              "      [150/150 00:24]\n",
              "    </div>\n",
              "    "
            ]
          },
          "metadata": {}
        },
        {
          "output_type": "stream",
          "name": "stderr",
          "text": [
            "/usr/local/lib/python3.10/dist-packages/sklearn/metrics/_classification.py:1531: UndefinedMetricWarning: Precision is ill-defined and being set to 0.0 in labels with no predicted samples. Use `zero_division` parameter to control this behavior.\n",
            "  _warn_prf(average, modifier, f\"{metric.capitalize()} is\", len(result))\n"
          ]
        },
        {
          "output_type": "stream",
          "name": "stdout",
          "text": [
            "Classification Report:\n",
            "                   precision    recall  f1-score   support\n",
            "\n",
            "      B-USERNAME       0.00      0.00      0.00         0\n",
            "         B-EMAIL       1.00      1.00      1.00         7\n",
            "               O       1.00      1.00      1.00    204733\n",
            "        B-ID_NUM       1.00      0.97      0.99        34\n",
            "     I-PHONE_NUM       0.00      0.00      0.00         9\n",
            "     B-PHONE_NUM       0.00      0.00      0.00         3\n",
            "  B-NAME_STUDENT       0.79      0.93      0.86       190\n",
            "I-STREET_ADDRESS       0.00      0.00      0.00         0\n",
            "B-STREET_ADDRESS       0.00      0.00      0.00         0\n",
            "  B-URL_PERSONAL       0.84      1.00      0.91        16\n",
            "  I-NAME_STUDENT       0.94      1.00      0.97       151\n",
            "  I-URL_PERSONAL       0.00      0.00      0.00         0\n",
            "\n",
            "        accuracy                           1.00    205143\n",
            "       macro avg       0.46      0.49      0.48    205143\n",
            "    weighted avg       1.00      1.00      1.00    205143\n",
            "\n",
            "{'eval_loss': 0.00043615116737782955, 'eval_precision': 0.9995623755734213, 'eval_recall': 0.9995807802362254, 'eval_f1': 0.9995648964988699, 'eval_accuracy': 0.9991458591390823, 'eval_runtime': 29.443, 'eval_samples_per_second': 10.189, 'eval_steps_per_second': 5.095, 'epoch': 5.0}\n"
          ]
        },
        {
          "output_type": "display_data",
          "data": {
            "text/plain": [
              "<Figure size 1000x500 with 1 Axes>"
            ],
            "image/png": "[encoded data removed]"
          },
          "metadata": {}
        }
      ],
      "source": [
        "# Train the model\n",
        "trainer.train()\n",
        "\n",
        "# Evaluate the model\n",
        "eval_results = trainer.evaluate()\n",
        "print(eval_results)\n",
        "\n",
        "\n",
        "# Plot the loss per epoch\n",
        "plt.figure(figsize=(10, 5))\n",
        "plt.plot(loss_logger.epoch_losses, marker='o')\n",
        "plt.xlabel('Epoch')\n",
        "plt.ylabel('Loss')\n",
        "plt.title('Training Loss per Epoch')\n",
        "plt.show()\n"
      ]
    },
    {
      "cell_type": "code",
      "source": [
        "from transformers import TrainingArguments, Trainer, EarlyStoppingCallback, TrainerCallback\n",
        "import matplotlib.pyplot as plt\n",
        "\n",
        "# Custom callback to log loss at the end of each epoch\n",
        "class LossLoggerCallback(TrainerCallback):\n",
        "    def __init__(self):\n",
        "        self.epoch_losses = []\n",
        "\n",
        "    def on_epoch_end(self, args, state, control, **kwargs):\n",
        "        # Check if log_history has entries and 'loss' key exists\n",
        "        if state.log_history and 'loss' in state.log_history[-1]:\n",
        "            # Store the loss of the current epoch\n",
        "            self.epoch_losses.append(state.log_history[-1]['loss'])\n",
        "        else:\n",
        "            print(\"Warning: No loss logged for this epoch.\")\n",
        "\n",
        "# Initialize the loss logger callback\n",
        "loss_logger = LossLoggerCallback()\n",
        "\n",
        "# Define training arguments with optimizations\n",
        "training_args = TrainingArguments(\n",
        "    output_dir='./results',\n",
        "    eval_strategy=\"epoch\",               # Use eval_strategy to avoid deprecation warning\n",
        "    save_strategy=\"epoch\",               # Save model at each epoch\n",
        "    load_best_model_at_end=True,         # Load the best model after training\n",
        "    metric_for_best_model=\"loss\",        # Use loss to identify the best model\n",
        "    greater_is_better=False,             # Lower loss is better\n",
        "    learning_rate=1e-5,                  # Reduced learning rate for smoother convergence\n",
        "    per_device_train_batch_size=2,       # Adjust batch size as needed\n",
        "    per_device_eval_batch_size=2,\n",
        "    gradient_accumulation_steps=4,       # Simulate larger batch size\n",
        "    num_train_epochs=5,                  # Set the desired number of epochs\n",
        "    weight_decay=0.01,                   # Regularization to avoid overfitting\n",
        "    fp16=True,                           # Mixed precision for memory optimization\n",
        "    max_grad_norm=1.0,                   # Gradient clipping to stabilize training\n",
        "    logging_strategy=\"steps\",            # Log at each step\n",
        "    logging_steps=10,                    # Adjust logging frequency as needed\n",
        ")\n",
        "\n",
        "# Add an early stopping callback\n",
        "early_stopping_callback = EarlyStoppingCallback(early_stopping_patience=2)\n",
        "\n",
        "# Initialize the trainer with the callback\n",
        "trainer = Trainer(\n",
        "    model=model,\n",
        "    args=training_args,\n",
        "    train_dataset=tokenized_datasets['train'],\n",
        "    eval_dataset=tokenized_datasets['test'],\n",
        "    tokenizer=tokenizer,\n",
        "    data_collator=data_collator,\n",
        "    compute_metrics=compute_metrics,\n",
        "    callbacks=[early_stopping_callback, loss_logger]  # Include early stopping and loss logger\n",
        ")\n",
        "\n",
        "# Start training\n",
        "trainer.train()\n",
        "\n",
        "# Plot the epoch losses after training, with epochs starting from 1\n",
        "plt.figure(figsize=(10, 5))\n",
        "plt.plot(range(1, len(loss_logger.epoch_losses) + 1), loss_logger.epoch_losses, marker='o')\n",
        "plt.xlabel('Epoch')\n",
        "plt.ylabel('Loss')\n",
        "plt.title('Training Loss per Epoch')\n",
        "plt.xticks(range(1, len(loss_logger.epoch_losses) + 1))  # Set x-axis ticks to match epoch numbers\n",
        "plt.show()\n"
      ],
      "metadata": {
        "colab": {
          "base_uri": "https://localhost:8080/",
          "height": 1000
        },
        "id": "ZRmQlAXTeYzZ",
        "outputId": "bbef55b0-2af7-4c04-a4d1-dd4d8482ce10"
      },
      "execution_count": null,
      "outputs": [
        {
          "output_type": "stream",
          "name": "stderr",
          "text": [
            "<ipython-input-25-1db2e36cdd4b>:44: FutureWarning: `tokenizer` is deprecated and will be removed in version 5.0.0 for `Trainer.__init__`. Use `processing_class` instead.\n",
            "  trainer = Trainer(\n"
          ]
        },
        {
          "output_type": "display_data",
          "data": {
            "text/plain": [
              "<IPython.core.display.HTML object>"
            ],
            "text/html": [
              "\n",
              "    <div>\n",
              "      \n",
              "      <progress value='750' max='750' style='width:300px; height:20px; vertical-align: middle;'></progress>\n",
              "      [750/750 28:16, Epoch 5/5]\n",
              "    </div>\n",
              "    <table border=\"1\" class=\"dataframe\">\n",
              "  <thead>\n",
              " <tr style=\"text-align: left;\">\n",
              "      <th>Epoch</th>\n",
              "      <th>Training Loss</th>\n",
              "      <th>Validation Loss</th>\n",
              "      <th>Precision</th>\n",
              "      <th>Recall</th>\n",
              "      <th>F1</th>\n",
              "      <th>Accuracy</th>\n",
              "    </tr>\n",
              "  </thead>\n",
              "  <tbody>\n",
              "    <tr>\n",
              "      <td>1</td>\n",
              "      <td>0.000100</td>\n",
              "      <td>0.001975</td>\n",
              "      <td>0.999516</td>\n",
              "      <td>0.999503</td>\n",
              "      <td>0.999492</td>\n",
              "      <td>0.998995</td>\n",
              "    </tr>\n",
              "    <tr>\n",
              "      <td>2</td>\n",
              "      <td>0.000100</td>\n",
              "      <td>0.001929</td>\n",
              "      <td>0.999523</td>\n",
              "      <td>0.999532</td>\n",
              "      <td>0.999519</td>\n",
              "      <td>0.999051</td>\n",
              "    </tr>\n",
              "    <tr>\n",
              "      <td>3</td>\n",
              "      <td>0.000100</td>\n",
              "      <td>0.001777</td>\n",
              "      <td>0.999558</td>\n",
              "      <td>0.999591</td>\n",
              "      <td>0.999570</td>\n",
              "      <td>0.999161</td>\n",
              "    </tr>\n",
              "    <tr>\n",
              "      <td>4</td>\n",
              "      <td>0.000000</td>\n",
              "      <td>0.001724</td>\n",
              "      <td>0.999624</td>\n",
              "      <td>0.999615</td>\n",
              "      <td>0.999600</td>\n",
              "      <td>0.999215</td>\n",
              "    </tr>\n",
              "    <tr>\n",
              "      <td>5</td>\n",
              "      <td>0.000200</td>\n",
              "      <td>0.001768</td>\n",
              "      <td>0.999616</td>\n",
              "      <td>0.999605</td>\n",
              "      <td>0.999591</td>\n",
              "      <td>0.999196</td>\n",
              "    </tr>\n",
              "  </tbody>\n",
              "</table><p>"
            ]
          },
          "metadata": {}
        },
        {
          "output_type": "stream",
          "name": "stderr",
          "text": [
            "/usr/local/lib/python3.10/dist-packages/sklearn/metrics/_classification.py:1531: UndefinedMetricWarning: Precision is ill-defined and being set to 0.0 in labels with no predicted samples. Use `zero_division` parameter to control this behavior.\n",
            "  _warn_prf(average, modifier, f\"{metric.capitalize()} is\", len(result))\n"
          ]
        },
        {
          "output_type": "stream",
          "name": "stdout",
          "text": [
            "Classification Report:\n",
            "                   precision    recall  f1-score   support\n",
            "\n",
            "      B-USERNAME       0.00      0.00      0.00         0\n",
            "         B-EMAIL       1.00      1.00      1.00         7\n",
            "               O       1.00      1.00      1.00    204733\n",
            "        B-ID_NUM       1.00      0.74      0.85        34\n",
            "     I-PHONE_NUM       0.00      0.00      0.00         9\n",
            "     B-PHONE_NUM       0.00      0.00      0.00         3\n",
            "  B-NAME_STUDENT       0.76      0.97      0.85       190\n",
            "I-STREET_ADDRESS       0.00      0.00      0.00         0\n",
            "B-STREET_ADDRESS       0.00      0.00      0.00         0\n",
            "  B-URL_PERSONAL       0.88      0.94      0.91        16\n",
            "  I-NAME_STUDENT       0.92      1.00      0.96       151\n",
            "  I-URL_PERSONAL       0.00      0.00      0.00         0\n",
            "\n",
            "        accuracy                           1.00    205143\n",
            "       macro avg       0.46      0.47      0.46    205143\n",
            "    weighted avg       1.00      1.00      1.00    205143\n",
            "\n"
          ]
        },
        {
          "output_type": "stream",
          "name": "stderr",
          "text": [
            "/usr/local/lib/python3.10/dist-packages/sklearn/metrics/_classification.py:1531: UndefinedMetricWarning: Precision is ill-defined and being set to 0.0 in labels with no predicted samples. Use `zero_division` parameter to control this behavior.\n",
            "  _warn_prf(average, modifier, f\"{metric.capitalize()} is\", len(result))\n"
          ]
        },
        {
          "output_type": "stream",
          "name": "stdout",
          "text": [
            "Classification Report:\n",
            "                   precision    recall  f1-score   support\n",
            "\n",
            "      B-USERNAME       0.00      0.00      0.00         0\n",
            "         B-EMAIL       1.00      1.00      1.00         7\n",
            "               O       1.00      1.00      1.00    204733\n",
            "        B-ID_NUM       0.89      0.94      0.91        34\n",
            "     I-PHONE_NUM       0.00      0.00      0.00         9\n",
            "     B-PHONE_NUM       0.00      0.00      0.00         3\n",
            "  B-NAME_STUDENT       0.78      0.94      0.85       190\n",
            "I-STREET_ADDRESS       0.00      0.00      0.00         0\n",
            "B-STREET_ADDRESS       0.00      0.00      0.00         0\n",
            "  B-URL_PERSONAL       0.84      1.00      0.91        16\n",
            "  I-NAME_STUDENT       0.90      1.00      0.95       151\n",
            "  I-URL_PERSONAL       0.00      0.00      0.00         0\n",
            "\n",
            "        accuracy                           1.00    205143\n",
            "       macro avg       0.45      0.49      0.47    205143\n",
            "    weighted avg       1.00      1.00      1.00    205143\n",
            "\n"
          ]
        },
        {
          "output_type": "stream",
          "name": "stderr",
          "text": [
            "/usr/local/lib/python3.10/dist-packages/sklearn/metrics/_classification.py:1531: UndefinedMetricWarning: Precision is ill-defined and being set to 0.0 in labels with no predicted samples. Use `zero_division` parameter to control this behavior.\n",
            "  _warn_prf(average, modifier, f\"{metric.capitalize()} is\", len(result))\n"
          ]
        },
        {
          "output_type": "stream",
          "name": "stdout",
          "text": [
            "Classification Report:\n",
            "                   precision    recall  f1-score   support\n",
            "\n",
            "      B-USERNAME       0.00      0.00      0.00         0\n",
            "         B-EMAIL       1.00      1.00      1.00         7\n",
            "               O       1.00      1.00      1.00    204733\n",
            "        B-ID_NUM       0.97      0.88      0.92        34\n",
            "     I-PHONE_NUM       0.00      0.00      0.00         9\n",
            "     B-PHONE_NUM       0.00      0.00      0.00         3\n",
            "  B-NAME_STUDENT       0.81      0.92      0.86       190\n",
            "I-STREET_ADDRESS       0.00      0.00      0.00         0\n",
            "B-STREET_ADDRESS       0.00      0.00      0.00         0\n",
            "  B-URL_PERSONAL       0.84      1.00      0.91        16\n",
            "  I-NAME_STUDENT       0.94      1.00      0.97       151\n",
            "  I-URL_PERSONAL       0.00      0.00      0.00         0\n",
            "\n",
            "        accuracy                           1.00    205143\n",
            "       macro avg       0.46      0.48      0.47    205143\n",
            "    weighted avg       1.00      1.00      1.00    205143\n",
            "\n"
          ]
        },
        {
          "output_type": "stream",
          "name": "stderr",
          "text": [
            "/usr/local/lib/python3.10/dist-packages/sklearn/metrics/_classification.py:1531: UndefinedMetricWarning: Precision is ill-defined and being set to 0.0 in labels with no predicted samples. Use `zero_division` parameter to control this behavior.\n",
            "  _warn_prf(average, modifier, f\"{metric.capitalize()} is\", len(result))\n"
          ]
        },
        {
          "output_type": "stream",
          "name": "stdout",
          "text": [
            "Classification Report:\n",
            "                   precision    recall  f1-score   support\n",
            "\n",
            "      B-USERNAME       0.00      0.00      0.00         0\n",
            "         B-EMAIL       1.00      1.00      1.00         7\n",
            "               O       1.00      1.00      1.00    204733\n",
            "        B-ID_NUM       1.00      0.91      0.95        34\n",
            "     I-PHONE_NUM       1.00      0.11      0.20         9\n",
            "     B-PHONE_NUM       0.00      0.00      0.00         3\n",
            "  B-NAME_STUDENT       0.82      0.92      0.87       190\n",
            "I-STREET_ADDRESS       0.00      0.00      0.00         0\n",
            "B-STREET_ADDRESS       0.00      0.00      0.00         0\n",
            "  B-URL_PERSONAL       0.89      1.00      0.94        16\n",
            "  I-NAME_STUDENT       0.94      1.00      0.97       151\n",
            "  I-URL_PERSONAL       0.00      0.00      0.00         0\n",
            "\n",
            "        accuracy                           1.00    205143\n",
            "       macro avg       0.55      0.50      0.49    205143\n",
            "    weighted avg       1.00      1.00      1.00    205143\n",
            "\n"
          ]
        },
        {
          "output_type": "stream",
          "name": "stderr",
          "text": [
            "/usr/local/lib/python3.10/dist-packages/sklearn/metrics/_classification.py:1531: UndefinedMetricWarning: Precision is ill-defined and being set to 0.0 in labels with no predicted samples. Use `zero_division` parameter to control this behavior.\n",
            "  _warn_prf(average, modifier, f\"{metric.capitalize()} is\", len(result))\n"
          ]
        },
        {
          "output_type": "stream",
          "name": "stdout",
          "text": [
            "Classification Report:\n",
            "                   precision    recall  f1-score   support\n",
            "\n",
            "      B-USERNAME       0.00      0.00      0.00         0\n",
            "         B-EMAIL       1.00      1.00      1.00         7\n",
            "               O       1.00      1.00      1.00    204733\n",
            "        B-ID_NUM       1.00      0.88      0.94        34\n",
            "     I-PHONE_NUM       1.00      0.11      0.20         9\n",
            "     B-PHONE_NUM       0.00      0.00      0.00         3\n",
            "  B-NAME_STUDENT       0.82      0.93      0.87       190\n",
            "I-STREET_ADDRESS       0.00      0.00      0.00         0\n",
            "B-STREET_ADDRESS       0.00      0.00      0.00         0\n",
            "  B-URL_PERSONAL       0.88      0.94      0.91        16\n",
            "  I-NAME_STUDENT       0.94      1.00      0.97       151\n",
            "  I-URL_PERSONAL       0.00      0.00      0.00         0\n",
            "\n",
            "        accuracy                           1.00    205143\n",
            "       macro avg       0.55      0.49      0.49    205143\n",
            "    weighted avg       1.00      1.00      1.00    205143\n",
            "\n"
          ]
        },
        {
          "output_type": "display_data",
          "data": {
            "text/plain": [
              "<Figure size 1000x500 with 1 Axes>"
            ],
            "image/png": "[encoded data removed]"
          },
          "metadata": {}
        }
      ]
    },
    {
      "cell_type": "markdown",
      "source": [
        "### Create a Custom DeBERTa Model with Dropout"
      ],
      "metadata": {
        "id": "OD9TVj4az_AA"
      }
    },
    {
      "cell_type": "code",
      "source": [
        "from transformers import DebertaForTokenClassification\n",
        "import torch.nn as nn\n",
        "\n",
        "# Custom DeBERTa Model with Dropout\n",
        "class CustomDebertaForTokenClassification(DebertaForTokenClassification):\n",
        "    def __init__(self, config, dropout_rate=0.1):\n",
        "        super().__init__(config)\n",
        "        self.deberta = self.deberta  # Base DeBERTa model\n",
        "        self.dropout = nn.Dropout(p=dropout_rate)  # Custom dropout rate\n",
        "        self.classifier = nn.Linear(config.hidden_size, config.num_labels)  # Classification layer\n",
        "\n",
        "    def forward(self, input_ids, attention_mask=None, token_type_ids=None, labels=None):\n",
        "        # Pass inputs through the DeBERTa model\n",
        "        outputs = self.deberta(\n",
        "            input_ids=input_ids,\n",
        "            attention_mask=attention_mask,\n",
        "            token_type_ids=token_type_ids,\n",
        "        )\n",
        "\n",
        "        # Apply dropout and pass through classifier\n",
        "        sequence_output = self.dropout(outputs[0])\n",
        "        logits = self.classifier(sequence_output)\n",
        "\n",
        "        # Compute loss if labels are provided\n",
        "        loss = None\n",
        "        if labels is not None:\n",
        "            loss_fn = nn.CrossEntropyLoss()\n",
        "            loss = loss_fn(logits.view(-1, self.config.num_labels), labels.view(-1))\n",
        "            return (loss, logits)\n",
        "\n",
        "        return logits\n"
      ],
      "metadata": {
        "id": "DMlktewB0BTz"
      },
      "execution_count": null,
      "outputs": []
    },
    {
      "cell_type": "markdown",
      "source": [
        "### Model Initialization"
      ],
      "metadata": {
        "id": "GiLRu1Tt0M_0"
      }
    },
    {
      "cell_type": "code",
      "source": [
        "from transformers import AutoConfig, DebertaTokenizerFast\n",
        "\n",
        "# Load tokenizer\n",
        "tokenizer = AutoTokenizer.from_pretrained(\"microsoft/deberta-v3-base\")\n",
        "\n",
        "# Load configuration\n",
        "config = AutoConfig.from_pretrained(\n",
        "    \"microsoft/deberta-v3-base\",\n",
        "    num_labels=num_labels,\n",
        "    id2label=id2label,\n",
        "    label2id=label2id\n",
        ")\n",
        "\n",
        "# Initialize the custom model with dropout\n",
        "model = CustomDebertaForTokenClassification(config, dropout_rate=0.1)\n",
        "model.to(device)  # Move to GPU/CPU\n"
      ],
      "metadata": {
        "colab": {
          "base_uri": "https://localhost:8080/"
        },
        "id": "c16WLlse0Ppe",
        "outputId": "c658d02a-5b62-45ef-d6d9-5233835548ec"
      },
      "execution_count": null,
      "outputs": [
        {
          "output_type": "stream",
          "name": "stderr",
          "text": [
            "/usr/local/lib/python3.10/dist-packages/transformers/convert_slow_tokenizer.py:561: UserWarning: The sentencepiece tokenizer that you are converting to a fast tokenizer uses the byte fallback option which is not implemented in the fast tokenizers. In practice this means that the fast version of the tokenizer can produce unknown tokens whereas the sentencepiece version would have converted these unknown tokens into a sequence of byte tokens matching the original piece of text.\n",
            "  warnings.warn(\n"
          ]
        },
        {
          "output_type": "execute_result",
          "data": {
            "text/plain": [
              "CustomDebertaForTokenClassification(\n",
              "  (deberta): DebertaModel(\n",
              "    (embeddings): DebertaEmbeddings(\n",
              "      (word_embeddings): Embedding(128100, 768, padding_idx=0)\n",
              "      (LayerNorm): DebertaLayerNorm()\n",
              "      (dropout): StableDropout()\n",
              "    )\n",
              "    (encoder): DebertaEncoder(\n",
              "      (layer): ModuleList(\n",
              "        (0-11): 12 x DebertaLayer(\n",
              "          (attention): DebertaAttention(\n",
              "            (self): DisentangledSelfAttention(\n",
              "              (in_proj): Linear(in_features=768, out_features=2304, bias=False)\n",
              "              (pos_dropout): StableDropout()\n",
              "              (pos_proj): Linear(in_features=768, out_features=768, bias=False)\n",
              "              (pos_q_proj): Linear(in_features=768, out_features=768, bias=True)\n",
              "              (dropout): StableDropout()\n",
              "            )\n",
              "            (output): DebertaSelfOutput(\n",
              "              (dense): Linear(in_features=768, out_features=768, bias=True)\n",
              "              (LayerNorm): DebertaLayerNorm()\n",
              "              (dropout): StableDropout()\n",
              "            )\n",
              "          )\n",
              "          (intermediate): DebertaIntermediate(\n",
              "            (dense): Linear(in_features=768, out_features=3072, bias=True)\n",
              "            (intermediate_act_fn): GELUActivation()\n",
              "          )\n",
              "          (output): DebertaOutput(\n",
              "            (dense): Linear(in_features=3072, out_features=768, bias=True)\n",
              "            (LayerNorm): DebertaLayerNorm()\n",
              "            (dropout): StableDropout()\n",
              "          )\n",
              "        )\n",
              "      )\n",
              "      (rel_embeddings): Embedding(1024, 768)\n",
              "    )\n",
              "  )\n",
              "  (dropout): Dropout(p=0.1, inplace=False)\n",
              "  (classifier): Linear(in_features=768, out_features=13, bias=True)\n",
              ")"
            ]
          },
          "metadata": {},
          "execution_count": 27
        }
      ]
    },
    {
      "cell_type": "code",
      "source": [
        "# Define data collator\n",
        "data_collator = DataCollatorForTokenClassification(tokenizer)"
      ],
      "metadata": {
        "id": "pdbHHZt_7VSF"
      },
      "execution_count": null,
      "outputs": []
    },
    {
      "cell_type": "code",
      "source": [
        "# Define Focal Loss\n",
        "class FocalLoss(nn.Module):\n",
        "    def __init__(self, gamma=2, alpha=None):\n",
        "        super(FocalLoss, self).__init__()\n",
        "        self.gamma = gamma\n",
        "        self.alpha = alpha\n",
        "        if isinstance(alpha, (float, int)):\n",
        "            self.alpha = torch.Tensor([alpha, 1 - alpha])\n",
        "        if isinstance(alpha, list):\n",
        "            self.alpha = torch.Tensor(alpha)\n",
        "\n",
        "    def forward(self, inputs, targets):\n",
        "        BCE_loss = F.cross_entropy(inputs, targets, reduction='none', weight=self.alpha)\n",
        "        pt = torch.exp(-BCE_loss)\n",
        "        F_loss = ((1 - pt) ** self.gamma) * BCE_loss\n",
        "        return F_loss.mean()"
      ],
      "metadata": {
        "id": "RGhWFYjm7fWx"
      },
      "execution_count": null,
      "outputs": []
    },
    {
      "cell_type": "code",
      "source": [
        "def compute_metrics(p):\n",
        "    predictions, labels = p\n",
        "    predictions = np.argmax(predictions, axis=2)\n",
        "\n",
        "    true_labels = [[id2label[label] for label in doc if label != -100] for doc in labels]\n",
        "    true_predictions = [\n",
        "        [id2label[pred] for pred, label in zip(doc, labels[i]) if label != -100]\n",
        "        for i, doc in enumerate(predictions)\n",
        "    ]\n",
        "\n",
        "    # Flatten the lists\n",
        "    true_labels_flat = [item for sublist in true_labels for item in sublist]\n",
        "    true_predictions_flat = [item for sublist in true_predictions for item in sublist]\n",
        "\n",
        "    # Calculate metrics\n",
        "    results = precision_recall_fscore_support(true_labels_flat, true_predictions_flat, average='weighted')\n",
        "\n",
        "    # Compute classification report\n",
        "    class_report = classification_report(\n",
        "        true_labels_flat, true_predictions_flat, labels=all_labels, zero_division=0  # Explicitly set labels and handle zero division\n",
        "    )\n",
        "\n",
        "    print(\"Classification Report:\\n\", class_report)\n",
        "    return {\n",
        "        \"precision\": results[0],\n",
        "        \"recall\": results[1],\n",
        "        \"f1\": results[2],\n",
        "        \"accuracy\": (results[2] * results[1])\n",
        "    }\n",
        "\n"
      ],
      "metadata": {
        "id": "Cbmv74oo7lxC"
      },
      "execution_count": null,
      "outputs": []
    },
    {
      "cell_type": "code",
      "source": [
        "from transformers import TrainerCallback\n",
        "import matplotlib.pyplot as plt\n",
        "\n",
        "# Custom callback to log loss at the end of each epoch\n",
        "class LossLoggerCallback(TrainerCallback):\n",
        "    def __init__(self):\n",
        "        self.epoch_losses = []\n",
        "\n",
        "    def on_epoch_end(self, args, state, control, **kwargs):\n",
        "        # Check if log_history has entries\n",
        "        if state.log_history and 'loss' in state.log_history[-1]:\n",
        "            # Store the loss of the current epoch\n",
        "            self.epoch_losses.append(state.log_history[-1]['loss'])\n",
        "        else:\n",
        "            print(\"Warning: No loss logged for this epoch.\")\n",
        "\n",
        "# Initialize the callback\n",
        "loss_logger = LossLoggerCallback()"
      ],
      "metadata": {
        "id": "Jy0FpiDe3E_-"
      },
      "execution_count": null,
      "outputs": []
    },
    {
      "cell_type": "markdown",
      "source": [
        "### Custom Model in the Trainer"
      ],
      "metadata": {
        "id": "R597oM2k0WCr"
      }
    },
    {
      "cell_type": "code",
      "source": [
        "from transformers import TrainingArguments, Trainer, EarlyStoppingCallback, TrainerCallback\n",
        "import matplotlib.pyplot as plt\n",
        "\n",
        "# Custom callback to log loss at the end of each epoch\n",
        "class LossLoggerCallback(TrainerCallback):\n",
        "    def __init__(self):\n",
        "        self.epoch_losses = []\n",
        "\n",
        "    def on_epoch_end(self, args, state, control, **kwargs):\n",
        "        # Check if log_history has entries and 'loss' key exists\n",
        "        if state.log_history and 'loss' in state.log_history[-1]:\n",
        "            # Store the loss of the current epoch\n",
        "            self.epoch_losses.append(state.log_history[-1]['loss'])\n",
        "        else:\n",
        "            print(\"Warning: No loss logged for this epoch.\")\n",
        "\n",
        "# Initialize the loss logger callback\n",
        "loss_logger = LossLoggerCallback()\n",
        "\n",
        "# Define training arguments with optimizations\n",
        "training_args = TrainingArguments(\n",
        "    output_dir='./results',\n",
        "    eval_strategy=\"epoch\",               # Use eval_strategy to avoid deprecation warning\n",
        "    save_strategy=\"epoch\",               # Save model at each epoch\n",
        "    load_best_model_at_end=True,         # Load the best model after training\n",
        "    metric_for_best_model=\"loss\",        # Use loss to identify the best model\n",
        "    greater_is_better=False,             # Lower loss is better\n",
        "    learning_rate=1e-5,                  # Reduced learning rate for smoother convergence\n",
        "    per_device_train_batch_size=2,       # Adjust batch size as needed\n",
        "    per_device_eval_batch_size=2,\n",
        "    gradient_accumulation_steps=4,       # Simulate larger batch size\n",
        "    num_train_epochs=3,                  # Set the desired number of epochs\n",
        "    weight_decay=0.01,                   # Regularization to avoid overfitting\n",
        "    fp16=True,                           # Mixed precision for memory optimization\n",
        "    max_grad_norm=1.0,                   # Gradient clipping to stabilize training\n",
        "    logging_strategy=\"steps\",            # Log at each step\n",
        "    logging_dir='./logs',                   # Directory for logging (optional)\n",
        "    logging_steps=10,                    # Adjust logging frequency as needed\n",
        "    report_to='none',                       # Disable external logging tools\n",
        ")\n",
        "\n",
        "# Add an early stopping callback\n",
        "early_stopping_callback = EarlyStoppingCallback(early_stopping_patience=2)\n",
        "\n",
        "# Initialize the trainer with the callback\n",
        "trainer = Trainer(\n",
        "    model=model,\n",
        "    args=training_args,\n",
        "    train_dataset=tokenized_datasets['train'],\n",
        "    eval_dataset=tokenized_datasets['test'],\n",
        "    tokenizer=tokenizer,\n",
        "    data_collator=data_collator,\n",
        "    compute_metrics=compute_metrics,\n",
        "    callbacks=[early_stopping_callback, loss_logger]  # Include early stopping and loss logger\n",
        ")\n",
        "model = CustomDebertaForTokenClassification(config, dropout_rate=0.1)\n",
        "\n",
        "# Start training\n",
        "trainer.train()"
      ],
      "metadata": {
        "colab": {
          "base_uri": "https://localhost:8080/",
          "height": 1000
        },
        "id": "tsbM4Qsa2KnD",
        "outputId": "aefa4d31-3f9f-42c0-878d-80d7524188af"
      },
      "execution_count": null,
      "outputs": [
        {
          "output_type": "stream",
          "name": "stderr",
          "text": [
            "<ipython-input-33-f4094609658a>:46: FutureWarning: `tokenizer` is deprecated and will be removed in version 5.0.0 for `Trainer.__init__`. Use `processing_class` instead.\n",
            "  trainer = Trainer(\n"
          ]
        },
        {
          "output_type": "display_data",
          "data": {
            "text/plain": [
              "<IPython.core.display.HTML object>"
            ],
            "text/html": [
              "\n",
              "    <div>\n",
              "      \n",
              "      <progress value='891' max='891' style='width:300px; height:20px; vertical-align: middle;'></progress>\n",
              "      [891/891 34:56, Epoch 3/3]\n",
              "    </div>\n",
              "    <table border=\"1\" class=\"dataframe\">\n",
              "  <thead>\n",
              " <tr style=\"text-align: left;\">\n",
              "      <th>Epoch</th>\n",
              "      <th>Training Loss</th>\n",
              "      <th>Validation Loss</th>\n",
              "      <th>Precision</th>\n",
              "      <th>Recall</th>\n",
              "      <th>F1</th>\n",
              "      <th>Accuracy</th>\n",
              "    </tr>\n",
              "  </thead>\n",
              "  <tbody>\n",
              "    <tr>\n",
              "      <td>1</td>\n",
              "      <td>0.016600</td>\n",
              "      <td>0.016780</td>\n",
              "      <td>0.996210</td>\n",
              "      <td>0.996592</td>\n",
              "      <td>0.995995</td>\n",
              "      <td>0.992601</td>\n",
              "    </tr>\n",
              "    <tr>\n",
              "      <td>2</td>\n",
              "      <td>0.011500</td>\n",
              "      <td>0.012785</td>\n",
              "      <td>0.996900</td>\n",
              "      <td>0.997095</td>\n",
              "      <td>0.996812</td>\n",
              "      <td>0.993917</td>\n",
              "    </tr>\n",
              "    <tr>\n",
              "      <td>3</td>\n",
              "      <td>0.011700</td>\n",
              "      <td>0.011635</td>\n",
              "      <td>0.997066</td>\n",
              "      <td>0.997258</td>\n",
              "      <td>0.997062</td>\n",
              "      <td>0.994328</td>\n",
              "    </tr>\n",
              "  </tbody>\n",
              "</table><p>"
            ]
          },
          "metadata": {}
        },
        {
          "output_type": "stream",
          "name": "stderr",
          "text": [
            "/usr/local/lib/python3.10/dist-packages/sklearn/metrics/_classification.py:1531: UndefinedMetricWarning: Precision is ill-defined and being set to 0.0 in labels with no predicted samples. Use `zero_division` parameter to control this behavior.\n",
            "  _warn_prf(average, modifier, f\"{metric.capitalize()} is\", len(result))\n"
          ]
        },
        {
          "output_type": "stream",
          "name": "stdout",
          "text": [
            "Classification Report:\n",
            "                   precision    recall  f1-score   support\n",
            "\n",
            "        B-ID_NUM       0.95      0.34      0.50       104\n",
            "     I-PHONE_NUM       0.73      0.67      0.70       183\n",
            "        I-ID_NUM       0.00      0.00      0.00        26\n",
            "B-STREET_ADDRESS       1.00      1.00      1.00        56\n",
            "  B-NAME_STUDENT       0.77      0.36      0.49       720\n",
            "I-STREET_ADDRESS       0.98      0.78      0.87       504\n",
            "               O       1.00      1.00      1.00    414621\n",
            "  B-URL_PERSONAL       0.90      1.00      0.95       135\n",
            "     B-PHONE_NUM       0.62      0.82      0.71        90\n",
            "      B-USERNAME       1.00      0.05      0.09        22\n",
            "         B-EMAIL       0.99      0.64      0.77       113\n",
            "  I-URL_PERSONAL       1.00      1.00      1.00        24\n",
            "  I-NAME_STUDENT       0.88      0.34      0.49       666\n",
            "\n",
            "        accuracy                           1.00    417264\n",
            "       macro avg       0.83      0.61      0.66    417264\n",
            "    weighted avg       1.00      1.00      1.00    417264\n",
            "\n",
            "Classification Report:\n",
            "                   precision    recall  f1-score   support\n",
            "\n",
            "        B-ID_NUM       0.95      0.55      0.70       104\n",
            "     I-PHONE_NUM       0.77      0.72      0.74       183\n",
            "        I-ID_NUM       0.51      1.00      0.68        26\n",
            "B-STREET_ADDRESS       1.00      1.00      1.00        56\n",
            "  B-NAME_STUDENT       0.78      0.51      0.62       720\n",
            "I-STREET_ADDRESS       0.98      0.78      0.87       504\n",
            "               O       1.00      1.00      1.00    414621\n",
            "  B-URL_PERSONAL       0.90      1.00      0.95       135\n",
            "     B-PHONE_NUM       0.65      0.92      0.76        90\n",
            "      B-USERNAME       0.68      0.86      0.76        22\n",
            "         B-EMAIL       0.98      0.72      0.83       113\n",
            "  I-URL_PERSONAL       1.00      1.00      1.00        24\n",
            "  I-NAME_STUDENT       0.84      0.45      0.59       666\n",
            "\n",
            "        accuracy                           1.00    417264\n",
            "       macro avg       0.85      0.81      0.81    417264\n",
            "    weighted avg       1.00      1.00      1.00    417264\n",
            "\n",
            "Classification Report:\n",
            "                   precision    recall  f1-score   support\n",
            "\n",
            "        B-ID_NUM       0.92      0.57      0.70       104\n",
            "     I-PHONE_NUM       0.80      0.72      0.76       183\n",
            "        I-ID_NUM       0.87      1.00      0.93        26\n",
            "B-STREET_ADDRESS       1.00      1.00      1.00        56\n",
            "  B-NAME_STUDENT       0.74      0.57      0.65       720\n",
            "I-STREET_ADDRESS       0.99      0.78      0.87       504\n",
            "               O       1.00      1.00      1.00    414621\n",
            "  B-URL_PERSONAL       0.90      1.00      0.95       135\n",
            "     B-PHONE_NUM       0.67      1.00      0.80        90\n",
            "      B-USERNAME       0.68      0.86      0.76        22\n",
            "         B-EMAIL       0.98      0.72      0.83       113\n",
            "  I-URL_PERSONAL       1.00      1.00      1.00        24\n",
            "  I-NAME_STUDENT       0.78      0.52      0.63       666\n",
            "\n",
            "        accuracy                           1.00    417264\n",
            "       macro avg       0.87      0.83      0.84    417264\n",
            "    weighted avg       1.00      1.00      1.00    417264\n",
            "\n"
          ]
        },
        {
          "output_type": "execute_result",
          "data": {
            "text/plain": [
              "TrainOutput(global_step=891, training_loss=0.02934260594979447, metrics={'train_runtime': 2099.6664, 'train_samples_per_second': 3.395, 'train_steps_per_second': 0.424, 'total_flos': 4345361190567936.0, 'train_loss': 0.02934260594979447, 'epoch': 3.0})"
            ]
          },
          "metadata": {},
          "execution_count": 33
        }
      ]
    },
    {
      "cell_type": "code",
      "source": [
        "# Extract training and validation loss\n",
        "training_losses = [log['loss'] for log in trainer.state.log_history if 'loss' in log]\n",
        "validation_losses = [log['eval_loss'] for log in trainer.state.log_history if 'eval_loss' in log]\n",
        "\n",
        "# Ensure both lists have the same length\n",
        "if len(validation_losses) < len(training_losses):\n",
        "    training_losses = training_losses[:len(validation_losses)]  # Trim training losses to match validation losses\n",
        "elif len(validation_losses) > len(training_losses):\n",
        "    validation_losses = validation_losses[:len(training_losses)]  # Trim validation losses to match training losses\n"
      ],
      "metadata": {
        "id": "7NCrvgZi058D"
      },
      "execution_count": null,
      "outputs": []
    },
    {
      "cell_type": "code",
      "source": [
        "print(\"Training Losses:\", len(training_losses))\n",
        "print(\"Validation Losses:\", len(validation_losses))"
      ],
      "metadata": {
        "colab": {
          "base_uri": "https://localhost:8080/"
        },
        "id": "CqqvPgyd3OeP",
        "outputId": "029318be-7d3d-4f8a-cece-e59a464bd43e"
      },
      "execution_count": null,
      "outputs": [
        {
          "output_type": "stream",
          "name": "stdout",
          "text": [
            "Training Losses: 3\n",
            "Validation Losses: 3\n"
          ]
        }
      ]
    },
    {
      "cell_type": "code",
      "source": [
        "import matplotlib.pyplot as plt\n",
        "\n",
        "# Plot training and validation losses\n",
        "plt.figure(figsize=(10, 6))\n",
        "plt.plot(range(1, len(training_losses) + 1), training_losses, label='Training Loss', marker='o')\n",
        "plt.plot(range(1, len(validation_losses) + 1), validation_losses, label='Validation Loss', marker='x')\n",
        "plt.xlabel('Epoch')\n",
        "plt.ylabel('Loss')\n",
        "plt.title('Training and Validation Loss (DeBERTa)')\n",
        "plt.legend()\n",
        "plt.grid()\n",
        "plt.show()"
      ],
      "metadata": {
        "colab": {
          "base_uri": "https://localhost:8080/",
          "height": 564
        },
        "id": "67psBF7U3SzA",
        "outputId": "2e307ffb-9b01-41b4-e65c-13ad2599e2b1"
      },
      "execution_count": null,
      "outputs": [
        {
          "output_type": "display_data",
          "data": {
            "text/plain": [
              "<Figure size 1000x600 with 1 Axes>"
            ],
            "image/png": "[encoded data removed]"
          },
          "metadata": {}
        }
      ]
    },
    {
      "cell_type": "markdown",
      "source": [
        "Steps to Build and Display Confusion Matrix\n",
        "1. Obtain Predictions from the Model:\n",
        "\n",
        "  Use trainer.predict() on the test dataset to get the predictions and true labels.\n",
        "\n",
        "2. Process Predictions and Labels:\n",
        "\n",
        "  Map the predictions and labels to their human-readable string forms (e.g., \"B-PER\", \"I-LOC\").\n",
        "  \n",
        "  Remove padding tokens and special tokens (e.g., -100).\n",
        "Generate and Plot Confusion Matrix:\n",
        "\n",
        "3. Use sklearn's confusion_matrix and ConfusionMatrixDisplay to plot the confusion matrix."
      ],
      "metadata": {
        "id": "PBTz4qeyNY-y"
      }
    },
    {
      "cell_type": "code",
      "source": [
        "from sklearn.metrics import confusion_matrix, ConfusionMatrixDisplay\n",
        "import numpy as np\n",
        "import matplotlib.pyplot as plt\n",
        "\n",
        "# Step 1: Get predictions from the trainer\n",
        "predictions, labels, _ = trainer.predict(tokenized_datasets['test'])\n",
        "\n",
        "# Step 2: Convert predictions to label IDs\n",
        "predicted_label_ids = np.argmax(predictions, axis=2)\n",
        "\n",
        "# Step 3: Map IDs to actual label names\n",
        "true_labels = [\n",
        "    [id2label[label] for label in doc if label != -100]  # Ignore padding tokens\n",
        "    for doc in labels\n",
        "]\n",
        "pred_labels = [\n",
        "    [id2label[pred] for pred, label in zip(doc, labels[i]) if label != -100]\n",
        "    for i, doc in enumerate(predicted_label_ids)\n",
        "]\n",
        "\n",
        "# Step 4: Flatten the lists for confusion matrix\n",
        "true_labels_flat = [label for sublist in true_labels for label in sublist]\n",
        "pred_labels_flat = [label for sublist in pred_labels for label in sublist]\n",
        "\n",
        "# Step 5: Generate confusion matrix\n",
        "unique_labels = list(set(true_labels_flat + pred_labels_flat))  # Get all unique labels\n",
        "cm = confusion_matrix(true_labels_flat, pred_labels_flat, labels=unique_labels)\n",
        "\n",
        "# Step 6: Plot the confusion matrix\n",
        "plt.figure(figsize=(12, 10))\n",
        "disp = ConfusionMatrixDisplay(confusion_matrix=cm, display_labels=unique_labels)\n",
        "disp.plot(cmap=\"viridis\", xticks_rotation=45)\n",
        "plt.title(\"Confusion Matrix for NER (DeBERTa)\")\n",
        "plt.show()\n"
      ],
      "metadata": {
        "colab": {
          "base_uri": "https://localhost:8080/",
          "height": 949
        },
        "id": "y1rGmw9PFfwD",
        "outputId": "8537233b-41c0-4d7d-9ebd-19d23544eb56"
      },
      "execution_count": null,
      "outputs": [
        {
          "output_type": "display_data",
          "data": {
            "text/plain": [
              "<IPython.core.display.HTML object>"
            ],
            "text/html": []
          },
          "metadata": {}
        },
        {
          "output_type": "stream",
          "name": "stdout",
          "text": [
            "Classification Report:\n",
            "                   precision    recall  f1-score   support\n",
            "\n",
            "        B-ID_NUM       0.92      0.57      0.70       104\n",
            "     I-PHONE_NUM       0.80      0.72      0.76       183\n",
            "        I-ID_NUM       0.87      1.00      0.93        26\n",
            "B-STREET_ADDRESS       1.00      1.00      1.00        56\n",
            "  B-NAME_STUDENT       0.74      0.57      0.65       720\n",
            "I-STREET_ADDRESS       0.99      0.78      0.87       504\n",
            "               O       1.00      1.00      1.00    414621\n",
            "  B-URL_PERSONAL       0.90      1.00      0.95       135\n",
            "     B-PHONE_NUM       0.67      1.00      0.80        90\n",
            "      B-USERNAME       0.68      0.86      0.76        22\n",
            "         B-EMAIL       0.98      0.72      0.83       113\n",
            "  I-URL_PERSONAL       1.00      1.00      1.00        24\n",
            "  I-NAME_STUDENT       0.78      0.52      0.63       666\n",
            "\n",
            "        accuracy                           1.00    417264\n",
            "       macro avg       0.87      0.83      0.84    417264\n",
            "    weighted avg       1.00      1.00      1.00    417264\n",
            "\n"
          ]
        },
        {
          "output_type": "display_data",
          "data": {
            "text/plain": [
              "<Figure size 1200x1000 with 0 Axes>"
            ]
          },
          "metadata": {}
        },
        {
          "output_type": "display_data",
          "data": {
            "text/plain": [
              "<Figure size 640x480 with 2 Axes>"
            ],
            "image/png": "[encoded data removed]"
          },
          "metadata": {}
        }
      ]
    },
    {
      "cell_type": "markdown",
      "source": [
        "### Save the model"
      ],
      "metadata": {
        "id": "9AnvoLMGywSj"
      }
    },
    {
      "cell_type": "code",
      "source": [
        "import os\n",
        "os.makedirs(\"/content/drive/My Drive/PII_models\", exist_ok=True)\n",
        "\n",
        "\n",
        "# Specify the output directory where the model and tokenizer should be saved\n",
        "save_directory = \"/content/drive/My Drive/PII_models/deberta_b_sensitive_data_detection_model\"\n",
        "\n",
        "# Save the trained model\n",
        "model.save_pretrained(save_directory)\n",
        "\n",
        "# Save the tokenizer\n",
        "tokenizer.save_pretrained(save_directory)\n",
        "\n",
        "print(f\"Model and tokenizer saved to {save_directory}\")\n"
      ],
      "metadata": {
        "colab": {
          "base_uri": "https://localhost:8080/"
        },
        "id": "njKBVxAeOZWe",
        "outputId": "45aa0379-ab7b-4402-fa99-aebb90a08f30"
      },
      "execution_count": null,
      "outputs": [
        {
          "output_type": "stream",
          "name": "stdout",
          "text": [
            "Model and tokenizer saved to /content/drive/My Drive/PII_models/deberta_b_sensitive_data_detection_model\n"
          ]
        }
      ]
    },
    {
      "cell_type": "code",
      "source": [
        "# from google.colab import drive\n",
        "# drive.mount('/content/drive')"
      ],
      "metadata": {
        "id": "u-MSy725ODIM"
      },
      "execution_count": null,
      "outputs": []
    },
    {
      "cell_type": "code",
      "source": [
        "from transformers import AutoTokenizer, AutoModelForTokenClassification\n",
        "\n",
        "\n",
        "\n",
        "# Load the saved model and tokenizer\n",
        "model = AutoModelForTokenClassification.from_pretrained(\n",
        "    save_directory,\n",
        "    ignore_mismatched_sizes=True  # Ignore size mismatches\n",
        ")\n",
        "tokenizer = AutoTokenizer.from_pretrained(save_directory)\n",
        "\n",
        "print(\"Model and tokenizer loaded successfully!\")\n"
      ],
      "metadata": {
        "colab": {
          "base_uri": "https://localhost:8080/"
        },
        "id": "irmu2WfsPkYz",
        "outputId": "17e13f69-e55b-459f-c548-32ee4762512b"
      },
      "execution_count": null,
      "outputs": [
        {
          "output_type": "stream",
          "name": "stderr",
          "text": [
            "Some weights of DebertaV2ForTokenClassification were not initialized from the model checkpoint at /content/drive/My Drive/PII_models/deberta_b_sensitive_data_detection_model and are newly initialized: ['deberta.encoder.LayerNorm.bias', 'deberta.encoder.LayerNorm.weight', 'deberta.encoder.layer.0.attention.self.key_proj.bias', 'deberta.encoder.layer.0.attention.self.key_proj.weight', 'deberta.encoder.layer.0.attention.self.query_proj.bias', 'deberta.encoder.layer.0.attention.self.query_proj.weight', 'deberta.encoder.layer.0.attention.self.value_proj.bias', 'deberta.encoder.layer.0.attention.self.value_proj.weight', 'deberta.encoder.layer.1.attention.self.key_proj.bias', 'deberta.encoder.layer.1.attention.self.key_proj.weight', 'deberta.encoder.layer.1.attention.self.query_proj.bias', 'deberta.encoder.layer.1.attention.self.query_proj.weight', 'deberta.encoder.layer.1.attention.self.value_proj.bias', 'deberta.encoder.layer.1.attention.self.value_proj.weight', 'deberta.encoder.layer.10.attention.self.key_proj.bias', 'deberta.encoder.layer.10.attention.self.key_proj.weight', 'deberta.encoder.layer.10.attention.self.query_proj.bias', 'deberta.encoder.layer.10.attention.self.query_proj.weight', 'deberta.encoder.layer.10.attention.self.value_proj.bias', 'deberta.encoder.layer.10.attention.self.value_proj.weight', 'deberta.encoder.layer.11.attention.self.key_proj.bias', 'deberta.encoder.layer.11.attention.self.key_proj.weight', 'deberta.encoder.layer.11.attention.self.query_proj.bias', 'deberta.encoder.layer.11.attention.self.query_proj.weight', 'deberta.encoder.layer.11.attention.self.value_proj.bias', 'deberta.encoder.layer.11.attention.self.value_proj.weight', 'deberta.encoder.layer.2.attention.self.key_proj.bias', 'deberta.encoder.layer.2.attention.self.key_proj.weight', 'deberta.encoder.layer.2.attention.self.query_proj.bias', 'deberta.encoder.layer.2.attention.self.query_proj.weight', 'deberta.encoder.layer.2.attention.self.value_proj.bias', 'deberta.encoder.layer.2.attention.self.value_proj.weight', 'deberta.encoder.layer.3.attention.self.key_proj.bias', 'deberta.encoder.layer.3.attention.self.key_proj.weight', 'deberta.encoder.layer.3.attention.self.query_proj.bias', 'deberta.encoder.layer.3.attention.self.query_proj.weight', 'deberta.encoder.layer.3.attention.self.value_proj.bias', 'deberta.encoder.layer.3.attention.self.value_proj.weight', 'deberta.encoder.layer.4.attention.self.key_proj.bias', 'deberta.encoder.layer.4.attention.self.key_proj.weight', 'deberta.encoder.layer.4.attention.self.query_proj.bias', 'deberta.encoder.layer.4.attention.self.query_proj.weight', 'deberta.encoder.layer.4.attention.self.value_proj.bias', 'deberta.encoder.layer.4.attention.self.value_proj.weight', 'deberta.encoder.layer.5.attention.self.key_proj.bias', 'deberta.encoder.layer.5.attention.self.key_proj.weight', 'deberta.encoder.layer.5.attention.self.query_proj.bias', 'deberta.encoder.layer.5.attention.self.query_proj.weight', 'deberta.encoder.layer.5.attention.self.value_proj.bias', 'deberta.encoder.layer.5.attention.self.value_proj.weight', 'deberta.encoder.layer.6.attention.self.key_proj.bias', 'deberta.encoder.layer.6.attention.self.key_proj.weight', 'deberta.encoder.layer.6.attention.self.query_proj.bias', 'deberta.encoder.layer.6.attention.self.query_proj.weight', 'deberta.encoder.layer.6.attention.self.value_proj.bias', 'deberta.encoder.layer.6.attention.self.value_proj.weight', 'deberta.encoder.layer.7.attention.self.key_proj.bias', 'deberta.encoder.layer.7.attention.self.key_proj.weight', 'deberta.encoder.layer.7.attention.self.query_proj.bias', 'deberta.encoder.layer.7.attention.self.query_proj.weight', 'deberta.encoder.layer.7.attention.self.value_proj.bias', 'deberta.encoder.layer.7.attention.self.value_proj.weight', 'deberta.encoder.layer.8.attention.self.key_proj.bias', 'deberta.encoder.layer.8.attention.self.key_proj.weight', 'deberta.encoder.layer.8.attention.self.query_proj.bias', 'deberta.encoder.layer.8.attention.self.query_proj.weight', 'deberta.encoder.layer.8.attention.self.value_proj.bias', 'deberta.encoder.layer.8.attention.self.value_proj.weight', 'deberta.encoder.layer.9.attention.self.key_proj.bias', 'deberta.encoder.layer.9.attention.self.key_proj.weight', 'deberta.encoder.layer.9.attention.self.query_proj.bias', 'deberta.encoder.layer.9.attention.self.query_proj.weight', 'deberta.encoder.layer.9.attention.self.value_proj.bias', 'deberta.encoder.layer.9.attention.self.value_proj.weight']\n",
            "You should probably TRAIN this model on a down-stream task to be able to use it for predictions and inference.\n",
            "Some weights of DebertaV2ForTokenClassification were not initialized from the model checkpoint at /content/drive/My Drive/PII_models/deberta_b_sensitive_data_detection_model and are newly initialized because the shapes did not match:\n",
            "- deberta.encoder.rel_embeddings.weight: found shape torch.Size([1024, 768]) in the checkpoint and torch.Size([512, 768]) in the model instantiated\n",
            "You should probably TRAIN this model on a down-stream task to be able to use it for predictions and inference.\n"
          ]
        },
        {
          "output_type": "stream",
          "name": "stdout",
          "text": [
            "Model and tokenizer loaded successfully!\n"
          ]
        }
      ]
    },
    {
      "cell_type": "code",
      "source": [
        "from google.colab import drive\n",
        "drive.mount('/content/drive')\n"
      ],
      "metadata": {
        "id": "_fQmBPZJ2btS",
        "outputId": "b8e13b1d-a629-404f-8083-fcb977b2857e",
        "colab": {
          "base_uri": "https://localhost:8080/"
        }
      },
      "execution_count": null,
      "outputs": [
        {
          "output_type": "stream",
          "name": "stdout",
          "text": [
            "Mounted at /content/drive\n"
          ]
        }
      ]
    },
    {
      "cell_type": "code",
      "source": [
        "from transformers import AutoTokenizer, AutoModelForTokenClassification\n",
        "import torch\n",
        "\n",
        "# Load the saved model and tokenizer\n",
        "save_directory = \"/content/drive/My Drive/PII_models/deberta_b_sensitive_data_detection_model\"\n",
        "model = AutoModelForTokenClassification.from_pretrained(\n",
        "    save_directory,\n",
        "    ignore_mismatched_sizes=True  # Ignore size mismatches if any\n",
        ")\n",
        "tokenizer = AutoTokenizer.from_pretrained(save_directory)\n",
        "\n",
        "# Input text for inference\n",
        "text = \"The@ is the mastermind in a criminal.com case loudge on student portal. \"\n",
        "\n",
        "# Tokenize the input\n",
        "tokens = tokenizer(\n",
        "    text,\n",
        "    return_tensors=\"pt\",\n",
        "    truncation=True,\n",
        "    padding=True,\n",
        "    max_length=512,\n",
        "    is_split_into_words=False\n",
        ")\n",
        "\n",
        "# Move the model and input tokens to the same device\n",
        "device = torch.device(\"cuda\" if torch.cuda.is_available() else \"cpu\")\n",
        "model.to(device)\n",
        "tokens = {key: val.to(device) for key, val in tokens.items()}\n",
        "\n",
        "# Perform inference\n",
        "with torch.no_grad():\n",
        "    outputs = model(**tokens)\n",
        "    logits = outputs.logits\n",
        "    predictions = torch.argmax(logits, dim=-1)\n",
        "\n",
        "# Map predictions to labels\n",
        "id2label = model.config.id2label  # Ensure this is correctly set in your config\n",
        "predicted_labels = [id2label[label] for label in predictions[0].tolist()]\n",
        "tokens_decoded = tokenizer.convert_ids_to_tokens(tokens[\"input_ids\"][0])\n",
        "\n",
        "# Display the results\n",
        "print(\"Tokenized Input and Predictions:\")\n",
        "for token, label in zip(tokens_decoded, predicted_labels):\n",
        "    print(f\"{token}: {label}\")\n"
      ],
      "metadata": {
        "colab": {
          "base_uri": "https://localhost:8080/"
        },
        "id": "ooGGmntVzLiM",
        "outputId": "116b658d-40c9-4abd-a801-c7fbd61721d2"
      },
      "execution_count": null,
      "outputs": [
        {
          "output_type": "stream",
          "name": "stderr",
          "text": [
            "Some weights of DebertaV2ForTokenClassification were not initialized from the model checkpoint at /content/drive/My Drive/PII_models/deberta_b_sensitive_data_detection_model and are newly initialized: ['deberta.encoder.LayerNorm.bias', 'deberta.encoder.LayerNorm.weight', 'deberta.encoder.layer.0.attention.self.key_proj.bias', 'deberta.encoder.layer.0.attention.self.key_proj.weight', 'deberta.encoder.layer.0.attention.self.query_proj.bias', 'deberta.encoder.layer.0.attention.self.query_proj.weight', 'deberta.encoder.layer.0.attention.self.value_proj.bias', 'deberta.encoder.layer.0.attention.self.value_proj.weight', 'deberta.encoder.layer.1.attention.self.key_proj.bias', 'deberta.encoder.layer.1.attention.self.key_proj.weight', 'deberta.encoder.layer.1.attention.self.query_proj.bias', 'deberta.encoder.layer.1.attention.self.query_proj.weight', 'deberta.encoder.layer.1.attention.self.value_proj.bias', 'deberta.encoder.layer.1.attention.self.value_proj.weight', 'deberta.encoder.layer.10.attention.self.key_proj.bias', 'deberta.encoder.layer.10.attention.self.key_proj.weight', 'deberta.encoder.layer.10.attention.self.query_proj.bias', 'deberta.encoder.layer.10.attention.self.query_proj.weight', 'deberta.encoder.layer.10.attention.self.value_proj.bias', 'deberta.encoder.layer.10.attention.self.value_proj.weight', 'deberta.encoder.layer.11.attention.self.key_proj.bias', 'deberta.encoder.layer.11.attention.self.key_proj.weight', 'deberta.encoder.layer.11.attention.self.query_proj.bias', 'deberta.encoder.layer.11.attention.self.query_proj.weight', 'deberta.encoder.layer.11.attention.self.value_proj.bias', 'deberta.encoder.layer.11.attention.self.value_proj.weight', 'deberta.encoder.layer.2.attention.self.key_proj.bias', 'deberta.encoder.layer.2.attention.self.key_proj.weight', 'deberta.encoder.layer.2.attention.self.query_proj.bias', 'deberta.encoder.layer.2.attention.self.query_proj.weight', 'deberta.encoder.layer.2.attention.self.value_proj.bias', 'deberta.encoder.layer.2.attention.self.value_proj.weight', 'deberta.encoder.layer.3.attention.self.key_proj.bias', 'deberta.encoder.layer.3.attention.self.key_proj.weight', 'deberta.encoder.layer.3.attention.self.query_proj.bias', 'deberta.encoder.layer.3.attention.self.query_proj.weight', 'deberta.encoder.layer.3.attention.self.value_proj.bias', 'deberta.encoder.layer.3.attention.self.value_proj.weight', 'deberta.encoder.layer.4.attention.self.key_proj.bias', 'deberta.encoder.layer.4.attention.self.key_proj.weight', 'deberta.encoder.layer.4.attention.self.query_proj.bias', 'deberta.encoder.layer.4.attention.self.query_proj.weight', 'deberta.encoder.layer.4.attention.self.value_proj.bias', 'deberta.encoder.layer.4.attention.self.value_proj.weight', 'deberta.encoder.layer.5.attention.self.key_proj.bias', 'deberta.encoder.layer.5.attention.self.key_proj.weight', 'deberta.encoder.layer.5.attention.self.query_proj.bias', 'deberta.encoder.layer.5.attention.self.query_proj.weight', 'deberta.encoder.layer.5.attention.self.value_proj.bias', 'deberta.encoder.layer.5.attention.self.value_proj.weight', 'deberta.encoder.layer.6.attention.self.key_proj.bias', 'deberta.encoder.layer.6.attention.self.key_proj.weight', 'deberta.encoder.layer.6.attention.self.query_proj.bias', 'deberta.encoder.layer.6.attention.self.query_proj.weight', 'deberta.encoder.layer.6.attention.self.value_proj.bias', 'deberta.encoder.layer.6.attention.self.value_proj.weight', 'deberta.encoder.layer.7.attention.self.key_proj.bias', 'deberta.encoder.layer.7.attention.self.key_proj.weight', 'deberta.encoder.layer.7.attention.self.query_proj.bias', 'deberta.encoder.layer.7.attention.self.query_proj.weight', 'deberta.encoder.layer.7.attention.self.value_proj.bias', 'deberta.encoder.layer.7.attention.self.value_proj.weight', 'deberta.encoder.layer.8.attention.self.key_proj.bias', 'deberta.encoder.layer.8.attention.self.key_proj.weight', 'deberta.encoder.layer.8.attention.self.query_proj.bias', 'deberta.encoder.layer.8.attention.self.query_proj.weight', 'deberta.encoder.layer.8.attention.self.value_proj.bias', 'deberta.encoder.layer.8.attention.self.value_proj.weight', 'deberta.encoder.layer.9.attention.self.key_proj.bias', 'deberta.encoder.layer.9.attention.self.key_proj.weight', 'deberta.encoder.layer.9.attention.self.query_proj.bias', 'deberta.encoder.layer.9.attention.self.query_proj.weight', 'deberta.encoder.layer.9.attention.self.value_proj.bias', 'deberta.encoder.layer.9.attention.self.value_proj.weight']\n",
            "You should probably TRAIN this model on a down-stream task to be able to use it for predictions and inference.\n",
            "Some weights of DebertaV2ForTokenClassification were not initialized from the model checkpoint at /content/drive/My Drive/PII_models/deberta_b_sensitive_data_detection_model and are newly initialized because the shapes did not match:\n",
            "- deberta.encoder.rel_embeddings.weight: found shape torch.Size([1024, 768]) in the checkpoint and torch.Size([512, 768]) in the model instantiated\n",
            "You should probably TRAIN this model on a down-stream task to be able to use it for predictions and inference.\n"
          ]
        },
        {
          "output_type": "stream",
          "name": "stdout",
          "text": [
            "Tokenized Input and Predictions:\n",
            "[CLS]: B-NAME_STUDENT\n",
            "▁The: B-EMAIL\n",
            "@: I-NAME_STUDENT\n",
            "▁is: B-STREET_ADDRESS\n",
            "▁the: B-EMAIL\n",
            "▁mastermind: B-EMAIL\n",
            "▁in: B-STREET_ADDRESS\n",
            "▁a: B-EMAIL\n",
            "▁criminal: B-URL_PERSONAL\n",
            ".: B-STREET_ADDRESS\n",
            "com: O\n",
            "▁case: O\n",
            "▁loud: O\n",
            "ge: B-USERNAME\n",
            "▁on: B-NAME_STUDENT\n",
            "▁student: I-URL_PERSONAL\n",
            "▁portal: B-EMAIL\n",
            ".: B-STREET_ADDRESS\n",
            "[SEP]: I-ID_NUM\n"
          ]
        }
      ]
    },
    {
      "cell_type": "code",
      "source": [
        "# Filter out special tokens and merge subwords\n",
        "special_tokens = tokenizer.all_special_tokens\n",
        "word_labels = []\n",
        "current_word = \"\"\n",
        "current_label = None\n",
        "\n",
        "for token, label in zip(tokens_decoded, predicted_labels):\n",
        "    if token in special_tokens:\n",
        "        continue  # Skip special tokens\n",
        "\n",
        "    if token.startswith(\"▁\"):  # New word\n",
        "        if current_word:  # Append the last word and label\n",
        "            word_labels.append((current_word, current_label))\n",
        "        current_word = token.lstrip(\"▁\")  # Remove prefix\n",
        "        current_label = label\n",
        "    else:  # Continuation of the previous word\n",
        "        current_word += token\n",
        "\n",
        "# Append the last word\n",
        "if current_word:\n",
        "    word_labels.append((current_word, current_label))\n",
        "\n",
        "# Display results\n",
        "print(\"Cleaned Output:\")\n",
        "for word, label in word_labels:\n",
        "    print(f\"{word}: {label}\")\n"
      ],
      "metadata": {
        "colab": {
          "base_uri": "https://localhost:8080/"
        },
        "id": "6CbkLgSgzkgz",
        "outputId": "3cd79415-8136-4b82-d18f-b9876734de50"
      },
      "execution_count": null,
      "outputs": [
        {
          "output_type": "stream",
          "name": "stdout",
          "text": [
            "Cleaned Output:\n",
            "The@: B-EMAIL\n",
            "is: B-STREET_ADDRESS\n",
            "the: B-EMAIL\n",
            "mastermind: B-EMAIL\n",
            "in: B-STREET_ADDRESS\n",
            "a: B-EMAIL\n",
            "criminal.com: B-URL_PERSONAL\n",
            "case: O\n",
            "loudge: O\n",
            "on: B-NAME_STUDENT\n",
            "student: I-URL_PERSONAL\n",
            "portal.: B-EMAIL\n"
          ]
        }
      ]
    },
    {
      "cell_type": "code",
      "source": [],
      "metadata": {
        "id": "KkPt-GwqOaQb"
      },
      "execution_count": null,
      "outputs": []
    }
  ],
  "metadata": {
    "kernelspec": {
      "display_name": "Python 3",
      "name": "python3"
    },
    "language_info": {
      "codemirror_mode": {
        "name": "ipython",
        "version": 3
      },
      "file_extension": ".py",
      "mimetype": "text/x-python",
      "name": "python",
      "nbconvert_exporter": "python",
      "pygments_lexer": "ipython3",
      "version": "3.10.14"
    },
    "colab": {
      "provenance": [],
      "gpuType": "T4",
      "include_colab_link": true
    },
    "widgets": {
      "application/vnd.jupyter.widget-state+json": {
        "e346c1915c584d759da706dce0572d51": {
          "model_module": "@jupyter-widgets/controls",
          "model_name": "HBoxModel",
          "model_module_version": "1.5.0",
          "state": {
            "_dom_classes": [],
            "_model_module": "@jupyter-widgets/controls",
            "_model_module_version": "1.5.0",
            "_model_name": "HBoxModel",
            "_view_count": null,
            "_view_module": "@jupyter-widgets/controls",
            "_view_module_version": "1.5.0",
            "_view_name": "HBoxView",
            "box_style": "",
            "children": [
              "IPY_MODEL_374b0b5ad9fa4ce88599f57813654a77",
              "IPY_MODEL_f4107b5b329441138d77a322a8c431ee",
              "IPY_MODEL_dccf77b3c2a742dc9fbce2ca2436c6b0"
            ],
            "layout": "IPY_MODEL_d34a32ba5f814f1ea94a58cc737948a7"
          }
        },
        "374b0b5ad9fa4ce88599f57813654a77": {
          "model_module": "@jupyter-widgets/controls",
          "model_name": "HTMLModel",
          "model_module_version": "1.5.0",
          "state": {
            "_dom_classes": [],
            "_model_module": "@jupyter-widgets/controls",
            "_model_module_version": "1.5.0",
            "_model_name": "HTMLModel",
            "_view_count": null,
            "_view_module": "@jupyter-widgets/controls",
            "_view_module_version": "1.5.0",
            "_view_name": "HTMLView",
            "description": "",
            "description_tooltip": null,
            "layout": "IPY_MODEL_a5efda0d64a546508788df3823697de6",
            "placeholder": "​",
            "style": "IPY_MODEL_43ca2c3f22bf4f26aa62b160295d6e71",
            "value": "Generating train split: "
          }
        },
        "f4107b5b329441138d77a322a8c431ee": {
          "model_module": "@jupyter-widgets/controls",
          "model_name": "FloatProgressModel",
          "model_module_version": "1.5.0",
          "state": {
            "_dom_classes": [],
            "_model_module": "@jupyter-widgets/controls",
            "_model_module_version": "1.5.0",
            "_model_name": "FloatProgressModel",
            "_view_count": null,
            "_view_module": "@jupyter-widgets/controls",
            "_view_module_version": "1.5.0",
            "_view_name": "ProgressView",
            "bar_style": "success",
            "description": "",
            "description_tooltip": null,
            "layout": "IPY_MODEL_8081498ecbb14ac28f163a15a7fc71c6",
            "max": 1,
            "min": 0,
            "orientation": "horizontal",
            "style": "IPY_MODEL_2583ec688f684950b8ea117c4bc006ac",
            "value": 1
          }
        },
        "dccf77b3c2a742dc9fbce2ca2436c6b0": {
          "model_module": "@jupyter-widgets/controls",
          "model_name": "HTMLModel",
          "model_module_version": "1.5.0",
          "state": {
            "_dom_classes": [],
            "_model_module": "@jupyter-widgets/controls",
            "_model_module_version": "1.5.0",
            "_model_name": "HTMLModel",
            "_view_count": null,
            "_view_module": "@jupyter-widgets/controls",
            "_view_module_version": "1.5.0",
            "_view_name": "HTMLView",
            "description": "",
            "description_tooltip": null,
            "layout": "IPY_MODEL_af4470768db44c4698850e307ba912ef",
            "placeholder": "​",
            "style": "IPY_MODEL_4295280418544eaba08588b2b6e5766c",
            "value": " 6807/0 [00:12&lt;00:00, 561.29 examples/s]"
          }
        },
        "d34a32ba5f814f1ea94a58cc737948a7": {
          "model_module": "@jupyter-widgets/base",
          "model_name": "LayoutModel",
          "model_module_version": "1.2.0",
          "state": {
            "_model_module": "@jupyter-widgets/base",
            "_model_module_version": "1.2.0",
            "_model_name": "LayoutModel",
            "_view_count": null,
            "_view_module": "@jupyter-widgets/base",
            "_view_module_version": "1.2.0",
            "_view_name": "LayoutView",
            "align_content": null,
            "align_items": null,
            "align_self": null,
            "border": null,
            "bottom": null,
            "display": null,
            "flex": null,
            "flex_flow": null,
            "grid_area": null,
            "grid_auto_columns": null,
            "grid_auto_flow": null,
            "grid_auto_rows": null,
            "grid_column": null,
            "grid_gap": null,
            "grid_row": null,
            "grid_template_areas": null,
            "grid_template_columns": null,
            "grid_template_rows": null,
            "height": null,
            "justify_content": null,
            "justify_items": null,
            "left": null,
            "margin": null,
            "max_height": null,
            "max_width": null,
            "min_height": null,
            "min_width": null,
            "object_fit": null,
            "object_position": null,
            "order": null,
            "overflow": null,
            "overflow_x": null,
            "overflow_y": null,
            "padding": null,
            "right": null,
            "top": null,
            "visibility": null,
            "width": null
          }
        },
        "a5efda0d64a546508788df3823697de6": {
          "model_module": "@jupyter-widgets/base",
          "model_name": "LayoutModel",
          "model_module_version": "1.2.0",
          "state": {
            "_model_module": "@jupyter-widgets/base",
            "_model_module_version": "1.2.0",
            "_model_name": "LayoutModel",
            "_view_count": null,
            "_view_module": "@jupyter-widgets/base",
            "_view_module_version": "1.2.0",
            "_view_name": "LayoutView",
            "align_content": null,
            "align_items": null,
            "align_self": null,
            "border": null,
            "bottom": null,
            "display": null,
            "flex": null,
            "flex_flow": null,
            "grid_area": null,
            "grid_auto_columns": null,
            "grid_auto_flow": null,
            "grid_auto_rows": null,
            "grid_column": null,
            "grid_gap": null,
            "grid_row": null,
            "grid_template_areas": null,
            "grid_template_columns": null,
            "grid_template_rows": null,
            "height": null,
            "justify_content": null,
            "justify_items": null,
            "left": null,
            "margin": null,
            "max_height": null,
            "max_width": null,
            "min_height": null,
            "min_width": null,
            "object_fit": null,
            "object_position": null,
            "order": null,
            "overflow": null,
            "overflow_x": null,
            "overflow_y": null,
            "padding": null,
            "right": null,
            "top": null,
            "visibility": null,
            "width": null
          }
        },
        "43ca2c3f22bf4f26aa62b160295d6e71": {
          "model_module": "@jupyter-widgets/controls",
          "model_name": "DescriptionStyleModel",
          "model_module_version": "1.5.0",
          "state": {
            "_model_module": "@jupyter-widgets/controls",
            "_model_module_version": "1.5.0",
            "_model_name": "DescriptionStyleModel",
            "_view_count": null,
            "_view_module": "@jupyter-widgets/base",
            "_view_module_version": "1.2.0",
            "_view_name": "StyleView",
            "description_width": ""
          }
        },
        "8081498ecbb14ac28f163a15a7fc71c6": {
          "model_module": "@jupyter-widgets/base",
          "model_name": "LayoutModel",
          "model_module_version": "1.2.0",
          "state": {
            "_model_module": "@jupyter-widgets/base",
            "_model_module_version": "1.2.0",
            "_model_name": "LayoutModel",
            "_view_count": null,
            "_view_module": "@jupyter-widgets/base",
            "_view_module_version": "1.2.0",
            "_view_name": "LayoutView",
            "align_content": null,
            "align_items": null,
            "align_self": null,
            "border": null,
            "bottom": null,
            "display": null,
            "flex": null,
            "flex_flow": null,
            "grid_area": null,
            "grid_auto_columns": null,
            "grid_auto_flow": null,
            "grid_auto_rows": null,
            "grid_column": null,
            "grid_gap": null,
            "grid_row": null,
            "grid_template_areas": null,
            "grid_template_columns": null,
            "grid_template_rows": null,
            "height": null,
            "justify_content": null,
            "justify_items": null,
            "left": null,
            "margin": null,
            "max_height": null,
            "max_width": null,
            "min_height": null,
            "min_width": null,
            "object_fit": null,
            "object_position": null,
            "order": null,
            "overflow": null,
            "overflow_x": null,
            "overflow_y": null,
            "padding": null,
            "right": null,
            "top": null,
            "visibility": null,
            "width": "20px"
          }
        },
        "2583ec688f684950b8ea117c4bc006ac": {
          "model_module": "@jupyter-widgets/controls",
          "model_name": "ProgressStyleModel",
          "model_module_version": "1.5.0",
          "state": {
            "_model_module": "@jupyter-widgets/controls",
            "_model_module_version": "1.5.0",
            "_model_name": "ProgressStyleModel",
            "_view_count": null,
            "_view_module": "@jupyter-widgets/base",
            "_view_module_version": "1.2.0",
            "_view_name": "StyleView",
            "bar_color": null,
            "description_width": ""
          }
        },
        "af4470768db44c4698850e307ba912ef": {
          "model_module": "@jupyter-widgets/base",
          "model_name": "LayoutModel",
          "model_module_version": "1.2.0",
          "state": {
            "_model_module": "@jupyter-widgets/base",
            "_model_module_version": "1.2.0",
            "_model_name": "LayoutModel",
            "_view_count": null,
            "_view_module": "@jupyter-widgets/base",
            "_view_module_version": "1.2.0",
            "_view_name": "LayoutView",
            "align_content": null,
            "align_items": null,
            "align_self": null,
            "border": null,
            "bottom": null,
            "display": null,
            "flex": null,
            "flex_flow": null,
            "grid_area": null,
            "grid_auto_columns": null,
            "grid_auto_flow": null,
            "grid_auto_rows": null,
            "grid_column": null,
            "grid_gap": null,
            "grid_row": null,
            "grid_template_areas": null,
            "grid_template_columns": null,
            "grid_template_rows": null,
            "height": null,
            "justify_content": null,
            "justify_items": null,
            "left": null,
            "margin": null,
            "max_height": null,
            "max_width": null,
            "min_height": null,
            "min_width": null,
            "object_fit": null,
            "object_position": null,
            "order": null,
            "overflow": null,
            "overflow_x": null,
            "overflow_y": null,
            "padding": null,
            "right": null,
            "top": null,
            "visibility": null,
            "width": null
          }
        },
        "4295280418544eaba08588b2b6e5766c": {
          "model_module": "@jupyter-widgets/controls",
          "model_name": "DescriptionStyleModel",
          "model_module_version": "1.5.0",
          "state": {
            "_model_module": "@jupyter-widgets/controls",
            "_model_module_version": "1.5.0",
            "_model_name": "DescriptionStyleModel",
            "_view_count": null,
            "_view_module": "@jupyter-widgets/base",
            "_view_module_version": "1.2.0",
            "_view_name": "StyleView",
            "description_width": ""
          }
        },
        "c3544b696b8f4444bfc733b0c5c205eb": {
          "model_module": "@jupyter-widgets/controls",
          "model_name": "HBoxModel",
          "model_module_version": "1.5.0",
          "state": {
            "_dom_classes": [],
            "_model_module": "@jupyter-widgets/controls",
            "_model_module_version": "1.5.0",
            "_model_name": "HBoxModel",
            "_view_count": null,
            "_view_module": "@jupyter-widgets/controls",
            "_view_module_version": "1.5.0",
            "_view_name": "HBoxView",
            "box_style": "",
            "children": [
              "IPY_MODEL_82f3b493079f459a91f8388591361250",
              "IPY_MODEL_c90ac5f87c9a48a480ebf11b94e8b8b3",
              "IPY_MODEL_29fbd551e66243e396e87e094e044063"
            ],
            "layout": "IPY_MODEL_27f6e9d3d56644499796260ffa2f5fb2"
          }
        },
        "82f3b493079f459a91f8388591361250": {
          "model_module": "@jupyter-widgets/controls",
          "model_name": "HTMLModel",
          "model_module_version": "1.5.0",
          "state": {
            "_dom_classes": [],
            "_model_module": "@jupyter-widgets/controls",
            "_model_module_version": "1.5.0",
            "_model_name": "HTMLModel",
            "_view_count": null,
            "_view_module": "@jupyter-widgets/controls",
            "_view_module_version": "1.5.0",
            "_view_name": "HTMLView",
            "description": "",
            "description_tooltip": null,
            "layout": "IPY_MODEL_3654f858c48e4420b33652eb5b4f5f50",
            "placeholder": "​",
            "style": "IPY_MODEL_82c1d9f18a174a0693912e32c09790e9",
            "value": "tokenizer_config.json: 100%"
          }
        },
        "c90ac5f87c9a48a480ebf11b94e8b8b3": {
          "model_module": "@jupyter-widgets/controls",
          "model_name": "FloatProgressModel",
          "model_module_version": "1.5.0",
          "state": {
            "_dom_classes": [],
            "_model_module": "@jupyter-widgets/controls",
            "_model_module_version": "1.5.0",
            "_model_name": "FloatProgressModel",
            "_view_count": null,
            "_view_module": "@jupyter-widgets/controls",
            "_view_module_version": "1.5.0",
            "_view_name": "ProgressView",
            "bar_style": "success",
            "description": "",
            "description_tooltip": null,
            "layout": "IPY_MODEL_b10143871dca4e03a1e67d40318e93d2",
            "max": 52,
            "min": 0,
            "orientation": "horizontal",
            "style": "IPY_MODEL_cc1dab40429e48e99bd81a41701d20f5",
            "value": 52
          }
        },
        "29fbd551e66243e396e87e094e044063": {
          "model_module": "@jupyter-widgets/controls",
          "model_name": "HTMLModel",
          "model_module_version": "1.5.0",
          "state": {
            "_dom_classes": [],
            "_model_module": "@jupyter-widgets/controls",
            "_model_module_version": "1.5.0",
            "_model_name": "HTMLModel",
            "_view_count": null,
            "_view_module": "@jupyter-widgets/controls",
            "_view_module_version": "1.5.0",
            "_view_name": "HTMLView",
            "description": "",
            "description_tooltip": null,
            "layout": "IPY_MODEL_97ed37e8cbc24aeca2de3f96b7de4c8b",
            "placeholder": "​",
            "style": "IPY_MODEL_8b09c2a6ad3a43bd9415964815c95b6c",
            "value": " 52.0/52.0 [00:00&lt;00:00, 1.56kB/s]"
          }
        },
        "27f6e9d3d56644499796260ffa2f5fb2": {
          "model_module": "@jupyter-widgets/base",
          "model_name": "LayoutModel",
          "model_module_version": "1.2.0",
          "state": {
            "_model_module": "@jupyter-widgets/base",
            "_model_module_version": "1.2.0",
            "_model_name": "LayoutModel",
            "_view_count": null,
            "_view_module": "@jupyter-widgets/base",
            "_view_module_version": "1.2.0",
            "_view_name": "LayoutView",
            "align_content": null,
            "align_items": null,
            "align_self": null,
            "border": null,
            "bottom": null,
            "display": null,
            "flex": null,
            "flex_flow": null,
            "grid_area": null,
            "grid_auto_columns": null,
            "grid_auto_flow": null,
            "grid_auto_rows": null,
            "grid_column": null,
            "grid_gap": null,
            "grid_row": null,
            "grid_template_areas": null,
            "grid_template_columns": null,
            "grid_template_rows": null,
            "height": null,
            "justify_content": null,
            "justify_items": null,
            "left": null,
            "margin": null,
            "max_height": null,
            "max_width": null,
            "min_height": null,
            "min_width": null,
            "object_fit": null,
            "object_position": null,
            "order": null,
            "overflow": null,
            "overflow_x": null,
            "overflow_y": null,
            "padding": null,
            "right": null,
            "top": null,
            "visibility": null,
            "width": null
          }
        },
        "3654f858c48e4420b33652eb5b4f5f50": {
          "model_module": "@jupyter-widgets/base",
          "model_name": "LayoutModel",
          "model_module_version": "1.2.0",
          "state": {
            "_model_module": "@jupyter-widgets/base",
            "_model_module_version": "1.2.0",
            "_model_name": "LayoutModel",
            "_view_count": null,
            "_view_module": "@jupyter-widgets/base",
            "_view_module_version": "1.2.0",
            "_view_name": "LayoutView",
            "align_content": null,
            "align_items": null,
            "align_self": null,
            "border": null,
            "bottom": null,
            "display": null,
            "flex": null,
            "flex_flow": null,
            "grid_area": null,
            "grid_auto_columns": null,
            "grid_auto_flow": null,
            "grid_auto_rows": null,
            "grid_column": null,
            "grid_gap": null,
            "grid_row": null,
            "grid_template_areas": null,
            "grid_template_columns": null,
            "grid_template_rows": null,
            "height": null,
            "justify_content": null,
            "justify_items": null,
            "left": null,
            "margin": null,
            "max_height": null,
            "max_width": null,
            "min_height": null,
            "min_width": null,
            "object_fit": null,
            "object_position": null,
            "order": null,
            "overflow": null,
            "overflow_x": null,
            "overflow_y": null,
            "padding": null,
            "right": null,
            "top": null,
            "visibility": null,
            "width": null
          }
        },
        "82c1d9f18a174a0693912e32c09790e9": {
          "model_module": "@jupyter-widgets/controls",
          "model_name": "DescriptionStyleModel",
          "model_module_version": "1.5.0",
          "state": {
            "_model_module": "@jupyter-widgets/controls",
            "_model_module_version": "1.5.0",
            "_model_name": "DescriptionStyleModel",
            "_view_count": null,
            "_view_module": "@jupyter-widgets/base",
            "_view_module_version": "1.2.0",
            "_view_name": "StyleView",
            "description_width": ""
          }
        },
        "b10143871dca4e03a1e67d40318e93d2": {
          "model_module": "@jupyter-widgets/base",
          "model_name": "LayoutModel",
          "model_module_version": "1.2.0",
          "state": {
            "_model_module": "@jupyter-widgets/base",
            "_model_module_version": "1.2.0",
            "_model_name": "LayoutModel",
            "_view_count": null,
            "_view_module": "@jupyter-widgets/base",
            "_view_module_version": "1.2.0",
            "_view_name": "LayoutView",
            "align_content": null,
            "align_items": null,
            "align_self": null,
            "border": null,
            "bottom": null,
            "display": null,
            "flex": null,
            "flex_flow": null,
            "grid_area": null,
            "grid_auto_columns": null,
            "grid_auto_flow": null,
            "grid_auto_rows": null,
            "grid_column": null,
            "grid_gap": null,
            "grid_row": null,
            "grid_template_areas": null,
            "grid_template_columns": null,
            "grid_template_rows": null,
            "height": null,
            "justify_content": null,
            "justify_items": null,
            "left": null,
            "margin": null,
            "max_height": null,
            "max_width": null,
            "min_height": null,
            "min_width": null,
            "object_fit": null,
            "object_position": null,
            "order": null,
            "overflow": null,
            "overflow_x": null,
            "overflow_y": null,
            "padding": null,
            "right": null,
            "top": null,
            "visibility": null,
            "width": null
          }
        },
        "cc1dab40429e48e99bd81a41701d20f5": {
          "model_module": "@jupyter-widgets/controls",
          "model_name": "ProgressStyleModel",
          "model_module_version": "1.5.0",
          "state": {
            "_model_module": "@jupyter-widgets/controls",
            "_model_module_version": "1.5.0",
            "_model_name": "ProgressStyleModel",
            "_view_count": null,
            "_view_module": "@jupyter-widgets/base",
            "_view_module_version": "1.2.0",
            "_view_name": "StyleView",
            "bar_color": null,
            "description_width": ""
          }
        },
        "97ed37e8cbc24aeca2de3f96b7de4c8b": {
          "model_module": "@jupyter-widgets/base",
          "model_name": "LayoutModel",
          "model_module_version": "1.2.0",
          "state": {
            "_model_module": "@jupyter-widgets/base",
            "_model_module_version": "1.2.0",
            "_model_name": "LayoutModel",
            "_view_count": null,
            "_view_module": "@jupyter-widgets/base",
            "_view_module_version": "1.2.0",
            "_view_name": "LayoutView",
            "align_content": null,
            "align_items": null,
            "align_self": null,
            "border": null,
            "bottom": null,
            "display": null,
            "flex": null,
            "flex_flow": null,
            "grid_area": null,
            "grid_auto_columns": null,
            "grid_auto_flow": null,
            "grid_auto_rows": null,
            "grid_column": null,
            "grid_gap": null,
            "grid_row": null,
            "grid_template_areas": null,
            "grid_template_columns": null,
            "grid_template_rows": null,
            "height": null,
            "justify_content": null,
            "justify_items": null,
            "left": null,
            "margin": null,
            "max_height": null,
            "max_width": null,
            "min_height": null,
            "min_width": null,
            "object_fit": null,
            "object_position": null,
            "order": null,
            "overflow": null,
            "overflow_x": null,
            "overflow_y": null,
            "padding": null,
            "right": null,
            "top": null,
            "visibility": null,
            "width": null
          }
        },
        "8b09c2a6ad3a43bd9415964815c95b6c": {
          "model_module": "@jupyter-widgets/controls",
          "model_name": "DescriptionStyleModel",
          "model_module_version": "1.5.0",
          "state": {
            "_model_module": "@jupyter-widgets/controls",
            "_model_module_version": "1.5.0",
            "_model_name": "DescriptionStyleModel",
            "_view_count": null,
            "_view_module": "@jupyter-widgets/base",
            "_view_module_version": "1.2.0",
            "_view_name": "StyleView",
            "description_width": ""
          }
        },
        "f783b4d8297649a1bd40f694575861bc": {
          "model_module": "@jupyter-widgets/controls",
          "model_name": "HBoxModel",
          "model_module_version": "1.5.0",
          "state": {
            "_dom_classes": [],
            "_model_module": "@jupyter-widgets/controls",
            "_model_module_version": "1.5.0",
            "_model_name": "HBoxModel",
            "_view_count": null,
            "_view_module": "@jupyter-widgets/controls",
            "_view_module_version": "1.5.0",
            "_view_name": "HBoxView",
            "box_style": "",
            "children": [
              "IPY_MODEL_98183480fdd2411bb8ab43fe5a2a1686",
              "IPY_MODEL_8c5e889ec9354937b6cfe544fb85e699",
              "IPY_MODEL_dd6534aa0fa044cab0f42d65be28781f"
            ],
            "layout": "IPY_MODEL_da3da6ac3ae347d69c1dfc0007090fe3"
          }
        },
        "98183480fdd2411bb8ab43fe5a2a1686": {
          "model_module": "@jupyter-widgets/controls",
          "model_name": "HTMLModel",
          "model_module_version": "1.5.0",
          "state": {
            "_dom_classes": [],
            "_model_module": "@jupyter-widgets/controls",
            "_model_module_version": "1.5.0",
            "_model_name": "HTMLModel",
            "_view_count": null,
            "_view_module": "@jupyter-widgets/controls",
            "_view_module_version": "1.5.0",
            "_view_name": "HTMLView",
            "description": "",
            "description_tooltip": null,
            "layout": "IPY_MODEL_6c92f9e5ac6b42cea9324b221de47546",
            "placeholder": "​",
            "style": "IPY_MODEL_8c96820a1e1f4fbf8f5a6d840418050d",
            "value": "config.json: 100%"
          }
        },
        "8c5e889ec9354937b6cfe544fb85e699": {
          "model_module": "@jupyter-widgets/controls",
          "model_name": "FloatProgressModel",
          "model_module_version": "1.5.0",
          "state": {
            "_dom_classes": [],
            "_model_module": "@jupyter-widgets/controls",
            "_model_module_version": "1.5.0",
            "_model_name": "FloatProgressModel",
            "_view_count": null,
            "_view_module": "@jupyter-widgets/controls",
            "_view_module_version": "1.5.0",
            "_view_name": "ProgressView",
            "bar_style": "success",
            "description": "",
            "description_tooltip": null,
            "layout": "IPY_MODEL_002333c9203942c0ab8bac935ffa213e",
            "max": 579,
            "min": 0,
            "orientation": "horizontal",
            "style": "IPY_MODEL_817204122c09405ba80961b546de6b0b",
            "value": 579
          }
        },
        "dd6534aa0fa044cab0f42d65be28781f": {
          "model_module": "@jupyter-widgets/controls",
          "model_name": "HTMLModel",
          "model_module_version": "1.5.0",
          "state": {
            "_dom_classes": [],
            "_model_module": "@jupyter-widgets/controls",
            "_model_module_version": "1.5.0",
            "_model_name": "HTMLModel",
            "_view_count": null,
            "_view_module": "@jupyter-widgets/controls",
            "_view_module_version": "1.5.0",
            "_view_name": "HTMLView",
            "description": "",
            "description_tooltip": null,
            "layout": "IPY_MODEL_e6fcca39122c4f16afec0511429a4232",
            "placeholder": "​",
            "style": "IPY_MODEL_98678d45d1c54af596af4178c33087d7",
            "value": " 579/579 [00:00&lt;00:00, 13.5kB/s]"
          }
        },
        "da3da6ac3ae347d69c1dfc0007090fe3": {
          "model_module": "@jupyter-widgets/base",
          "model_name": "LayoutModel",
          "model_module_version": "1.2.0",
          "state": {
            "_model_module": "@jupyter-widgets/base",
            "_model_module_version": "1.2.0",
            "_model_name": "LayoutModel",
            "_view_count": null,
            "_view_module": "@jupyter-widgets/base",
            "_view_module_version": "1.2.0",
            "_view_name": "LayoutView",
            "align_content": null,
            "align_items": null,
            "align_self": null,
            "border": null,
            "bottom": null,
            "display": null,
            "flex": null,
            "flex_flow": null,
            "grid_area": null,
            "grid_auto_columns": null,
            "grid_auto_flow": null,
            "grid_auto_rows": null,
            "grid_column": null,
            "grid_gap": null,
            "grid_row": null,
            "grid_template_areas": null,
            "grid_template_columns": null,
            "grid_template_rows": null,
            "height": null,
            "justify_content": null,
            "justify_items": null,
            "left": null,
            "margin": null,
            "max_height": null,
            "max_width": null,
            "min_height": null,
            "min_width": null,
            "object_fit": null,
            "object_position": null,
            "order": null,
            "overflow": null,
            "overflow_x": null,
            "overflow_y": null,
            "padding": null,
            "right": null,
            "top": null,
            "visibility": null,
            "width": null
          }
        },
        "6c92f9e5ac6b42cea9324b221de47546": {
          "model_module": "@jupyter-widgets/base",
          "model_name": "LayoutModel",
          "model_module_version": "1.2.0",
          "state": {
            "_model_module": "@jupyter-widgets/base",
            "_model_module_version": "1.2.0",
            "_model_name": "LayoutModel",
            "_view_count": null,
            "_view_module": "@jupyter-widgets/base",
            "_view_module_version": "1.2.0",
            "_view_name": "LayoutView",
            "align_content": null,
            "align_items": null,
            "align_self": null,
            "border": null,
            "bottom": null,
            "display": null,
            "flex": null,
            "flex_flow": null,
            "grid_area": null,
            "grid_auto_columns": null,
            "grid_auto_flow": null,
            "grid_auto_rows": null,
            "grid_column": null,
            "grid_gap": null,
            "grid_row": null,
            "grid_template_areas": null,
            "grid_template_columns": null,
            "grid_template_rows": null,
            "height": null,
            "justify_content": null,
            "justify_items": null,
            "left": null,
            "margin": null,
            "max_height": null,
            "max_width": null,
            "min_height": null,
            "min_width": null,
            "object_fit": null,
            "object_position": null,
            "order": null,
            "overflow": null,
            "overflow_x": null,
            "overflow_y": null,
            "padding": null,
            "right": null,
            "top": null,
            "visibility": null,
            "width": null
          }
        },
        "8c96820a1e1f4fbf8f5a6d840418050d": {
          "model_module": "@jupyter-widgets/controls",
          "model_name": "DescriptionStyleModel",
          "model_module_version": "1.5.0",
          "state": {
            "_model_module": "@jupyter-widgets/controls",
            "_model_module_version": "1.5.0",
            "_model_name": "DescriptionStyleModel",
            "_view_count": null,
            "_view_module": "@jupyter-widgets/base",
            "_view_module_version": "1.2.0",
            "_view_name": "StyleView",
            "description_width": ""
          }
        },
        "002333c9203942c0ab8bac935ffa213e": {
          "model_module": "@jupyter-widgets/base",
          "model_name": "LayoutModel",
          "model_module_version": "1.2.0",
          "state": {
            "_model_module": "@jupyter-widgets/base",
            "_model_module_version": "1.2.0",
            "_model_name": "LayoutModel",
            "_view_count": null,
            "_view_module": "@jupyter-widgets/base",
            "_view_module_version": "1.2.0",
            "_view_name": "LayoutView",
            "align_content": null,
            "align_items": null,
            "align_self": null,
            "border": null,
            "bottom": null,
            "display": null,
            "flex": null,
            "flex_flow": null,
            "grid_area": null,
            "grid_auto_columns": null,
            "grid_auto_flow": null,
            "grid_auto_rows": null,
            "grid_column": null,
            "grid_gap": null,
            "grid_row": null,
            "grid_template_areas": null,
            "grid_template_columns": null,
            "grid_template_rows": null,
            "height": null,
            "justify_content": null,
            "justify_items": null,
            "left": null,
            "margin": null,
            "max_height": null,
            "max_width": null,
            "min_height": null,
            "min_width": null,
            "object_fit": null,
            "object_position": null,
            "order": null,
            "overflow": null,
            "overflow_x": null,
            "overflow_y": null,
            "padding": null,
            "right": null,
            "top": null,
            "visibility": null,
            "width": null
          }
        },
        "817204122c09405ba80961b546de6b0b": {
          "model_module": "@jupyter-widgets/controls",
          "model_name": "ProgressStyleModel",
          "model_module_version": "1.5.0",
          "state": {
            "_model_module": "@jupyter-widgets/controls",
            "_model_module_version": "1.5.0",
            "_model_name": "ProgressStyleModel",
            "_view_count": null,
            "_view_module": "@jupyter-widgets/base",
            "_view_module_version": "1.2.0",
            "_view_name": "StyleView",
            "bar_color": null,
            "description_width": ""
          }
        },
        "e6fcca39122c4f16afec0511429a4232": {
          "model_module": "@jupyter-widgets/base",
          "model_name": "LayoutModel",
          "model_module_version": "1.2.0",
          "state": {
            "_model_module": "@jupyter-widgets/base",
            "_model_module_version": "1.2.0",
            "_model_name": "LayoutModel",
            "_view_count": null,
            "_view_module": "@jupyter-widgets/base",
            "_view_module_version": "1.2.0",
            "_view_name": "LayoutView",
            "align_content": null,
            "align_items": null,
            "align_self": null,
            "border": null,
            "bottom": null,
            "display": null,
            "flex": null,
            "flex_flow": null,
            "grid_area": null,
            "grid_auto_columns": null,
            "grid_auto_flow": null,
            "grid_auto_rows": null,
            "grid_column": null,
            "grid_gap": null,
            "grid_row": null,
            "grid_template_areas": null,
            "grid_template_columns": null,
            "grid_template_rows": null,
            "height": null,
            "justify_content": null,
            "justify_items": null,
            "left": null,
            "margin": null,
            "max_height": null,
            "max_width": null,
            "min_height": null,
            "min_width": null,
            "object_fit": null,
            "object_position": null,
            "order": null,
            "overflow": null,
            "overflow_x": null,
            "overflow_y": null,
            "padding": null,
            "right": null,
            "top": null,
            "visibility": null,
            "width": null
          }
        },
        "98678d45d1c54af596af4178c33087d7": {
          "model_module": "@jupyter-widgets/controls",
          "model_name": "DescriptionStyleModel",
          "model_module_version": "1.5.0",
          "state": {
            "_model_module": "@jupyter-widgets/controls",
            "_model_module_version": "1.5.0",
            "_model_name": "DescriptionStyleModel",
            "_view_count": null,
            "_view_module": "@jupyter-widgets/base",
            "_view_module_version": "1.2.0",
            "_view_name": "StyleView",
            "description_width": ""
          }
        },
        "4494b410d71c4148b6e7a321374a92ab": {
          "model_module": "@jupyter-widgets/controls",
          "model_name": "HBoxModel",
          "model_module_version": "1.5.0",
          "state": {
            "_dom_classes": [],
            "_model_module": "@jupyter-widgets/controls",
            "_model_module_version": "1.5.0",
            "_model_name": "HBoxModel",
            "_view_count": null,
            "_view_module": "@jupyter-widgets/controls",
            "_view_module_version": "1.5.0",
            "_view_name": "HBoxView",
            "box_style": "",
            "children": [
              "IPY_MODEL_228ff0f5af974cada2fa8b3a6dc59c6b",
              "IPY_MODEL_c91e4f0156e94d0fa381a83dc915c8a6",
              "IPY_MODEL_2a5de45941034025aa9685ee930cd299"
            ],
            "layout": "IPY_MODEL_6ed9d11ae3544b6b969c60e6faf6e252"
          }
        },
        "228ff0f5af974cada2fa8b3a6dc59c6b": {
          "model_module": "@jupyter-widgets/controls",
          "model_name": "HTMLModel",
          "model_module_version": "1.5.0",
          "state": {
            "_dom_classes": [],
            "_model_module": "@jupyter-widgets/controls",
            "_model_module_version": "1.5.0",
            "_model_name": "HTMLModel",
            "_view_count": null,
            "_view_module": "@jupyter-widgets/controls",
            "_view_module_version": "1.5.0",
            "_view_name": "HTMLView",
            "description": "",
            "description_tooltip": null,
            "layout": "IPY_MODEL_994039be814a4054a1e4618175aa1e96",
            "placeholder": "​",
            "style": "IPY_MODEL_9f7fab2dc3aa4626a5cc703705474011",
            "value": "spm.model: 100%"
          }
        },
        "c91e4f0156e94d0fa381a83dc915c8a6": {
          "model_module": "@jupyter-widgets/controls",
          "model_name": "FloatProgressModel",
          "model_module_version": "1.5.0",
          "state": {
            "_dom_classes": [],
            "_model_module": "@jupyter-widgets/controls",
            "_model_module_version": "1.5.0",
            "_model_name": "FloatProgressModel",
            "_view_count": null,
            "_view_module": "@jupyter-widgets/controls",
            "_view_module_version": "1.5.0",
            "_view_name": "ProgressView",
            "bar_style": "success",
            "description": "",
            "description_tooltip": null,
            "layout": "IPY_MODEL_517d4abcf60e446297861f076bc9ad5f",
            "max": 2464616,
            "min": 0,
            "orientation": "horizontal",
            "style": "IPY_MODEL_2fa11b10612843a79d8572eadeca1dd2",
            "value": 2464616
          }
        },
        "2a5de45941034025aa9685ee930cd299": {
          "model_module": "@jupyter-widgets/controls",
          "model_name": "HTMLModel",
          "model_module_version": "1.5.0",
          "state": {
            "_dom_classes": [],
            "_model_module": "@jupyter-widgets/controls",
            "_model_module_version": "1.5.0",
            "_model_name": "HTMLModel",
            "_view_count": null,
            "_view_module": "@jupyter-widgets/controls",
            "_view_module_version": "1.5.0",
            "_view_name": "HTMLView",
            "description": "",
            "description_tooltip": null,
            "layout": "IPY_MODEL_99e5532ed03a4711a91e68d619097ed8",
            "placeholder": "​",
            "style": "IPY_MODEL_865a68b1b86149b99ddb02b8246cd490",
            "value": " 2.46M/2.46M [00:00&lt;00:00, 25.9MB/s]"
          }
        },
        "6ed9d11ae3544b6b969c60e6faf6e252": {
          "model_module": "@jupyter-widgets/base",
          "model_name": "LayoutModel",
          "model_module_version": "1.2.0",
          "state": {
            "_model_module": "@jupyter-widgets/base",
            "_model_module_version": "1.2.0",
            "_model_name": "LayoutModel",
            "_view_count": null,
            "_view_module": "@jupyter-widgets/base",
            "_view_module_version": "1.2.0",
            "_view_name": "LayoutView",
            "align_content": null,
            "align_items": null,
            "align_self": null,
            "border": null,
            "bottom": null,
            "display": null,
            "flex": null,
            "flex_flow": null,
            "grid_area": null,
            "grid_auto_columns": null,
            "grid_auto_flow": null,
            "grid_auto_rows": null,
            "grid_column": null,
            "grid_gap": null,
            "grid_row": null,
            "grid_template_areas": null,
            "grid_template_columns": null,
            "grid_template_rows": null,
            "height": null,
            "justify_content": null,
            "justify_items": null,
            "left": null,
            "margin": null,
            "max_height": null,
            "max_width": null,
            "min_height": null,
            "min_width": null,
            "object_fit": null,
            "object_position": null,
            "order": null,
            "overflow": null,
            "overflow_x": null,
            "overflow_y": null,
            "padding": null,
            "right": null,
            "top": null,
            "visibility": null,
            "width": null
          }
        },
        "994039be814a4054a1e4618175aa1e96": {
          "model_module": "@jupyter-widgets/base",
          "model_name": "LayoutModel",
          "model_module_version": "1.2.0",
          "state": {
            "_model_module": "@jupyter-widgets/base",
            "_model_module_version": "1.2.0",
            "_model_name": "LayoutModel",
            "_view_count": null,
            "_view_module": "@jupyter-widgets/base",
            "_view_module_version": "1.2.0",
            "_view_name": "LayoutView",
            "align_content": null,
            "align_items": null,
            "align_self": null,
            "border": null,
            "bottom": null,
            "display": null,
            "flex": null,
            "flex_flow": null,
            "grid_area": null,
            "grid_auto_columns": null,
            "grid_auto_flow": null,
            "grid_auto_rows": null,
            "grid_column": null,
            "grid_gap": null,
            "grid_row": null,
            "grid_template_areas": null,
            "grid_template_columns": null,
            "grid_template_rows": null,
            "height": null,
            "justify_content": null,
            "justify_items": null,
            "left": null,
            "margin": null,
            "max_height": null,
            "max_width": null,
            "min_height": null,
            "min_width": null,
            "object_fit": null,
            "object_position": null,
            "order": null,
            "overflow": null,
            "overflow_x": null,
            "overflow_y": null,
            "padding": null,
            "right": null,
            "top": null,
            "visibility": null,
            "width": null
          }
        },
        "9f7fab2dc3aa4626a5cc703705474011": {
          "model_module": "@jupyter-widgets/controls",
          "model_name": "DescriptionStyleModel",
          "model_module_version": "1.5.0",
          "state": {
            "_model_module": "@jupyter-widgets/controls",
            "_model_module_version": "1.5.0",
            "_model_name": "DescriptionStyleModel",
            "_view_count": null,
            "_view_module": "@jupyter-widgets/base",
            "_view_module_version": "1.2.0",
            "_view_name": "StyleView",
            "description_width": ""
          }
        },
        "517d4abcf60e446297861f076bc9ad5f": {
          "model_module": "@jupyter-widgets/base",
          "model_name": "LayoutModel",
          "model_module_version": "1.2.0",
          "state": {
            "_model_module": "@jupyter-widgets/base",
            "_model_module_version": "1.2.0",
            "_model_name": "LayoutModel",
            "_view_count": null,
            "_view_module": "@jupyter-widgets/base",
            "_view_module_version": "1.2.0",
            "_view_name": "LayoutView",
            "align_content": null,
            "align_items": null,
            "align_self": null,
            "border": null,
            "bottom": null,
            "display": null,
            "flex": null,
            "flex_flow": null,
            "grid_area": null,
            "grid_auto_columns": null,
            "grid_auto_flow": null,
            "grid_auto_rows": null,
            "grid_column": null,
            "grid_gap": null,
            "grid_row": null,
            "grid_template_areas": null,
            "grid_template_columns": null,
            "grid_template_rows": null,
            "height": null,
            "justify_content": null,
            "justify_items": null,
            "left": null,
            "margin": null,
            "max_height": null,
            "max_width": null,
            "min_height": null,
            "min_width": null,
            "object_fit": null,
            "object_position": null,
            "order": null,
            "overflow": null,
            "overflow_x": null,
            "overflow_y": null,
            "padding": null,
            "right": null,
            "top": null,
            "visibility": null,
            "width": null
          }
        },
        "2fa11b10612843a79d8572eadeca1dd2": {
          "model_module": "@jupyter-widgets/controls",
          "model_name": "ProgressStyleModel",
          "model_module_version": "1.5.0",
          "state": {
            "_model_module": "@jupyter-widgets/controls",
            "_model_module_version": "1.5.0",
            "_model_name": "ProgressStyleModel",
            "_view_count": null,
            "_view_module": "@jupyter-widgets/base",
            "_view_module_version": "1.2.0",
            "_view_name": "StyleView",
            "bar_color": null,
            "description_width": ""
          }
        },
        "99e5532ed03a4711a91e68d619097ed8": {
          "model_module": "@jupyter-widgets/base",
          "model_name": "LayoutModel",
          "model_module_version": "1.2.0",
          "state": {
            "_model_module": "@jupyter-widgets/base",
            "_model_module_version": "1.2.0",
            "_model_name": "LayoutModel",
            "_view_count": null,
            "_view_module": "@jupyter-widgets/base",
            "_view_module_version": "1.2.0",
            "_view_name": "LayoutView",
            "align_content": null,
            "align_items": null,
            "align_self": null,
            "border": null,
            "bottom": null,
            "display": null,
            "flex": null,
            "flex_flow": null,
            "grid_area": null,
            "grid_auto_columns": null,
            "grid_auto_flow": null,
            "grid_auto_rows": null,
            "grid_column": null,
            "grid_gap": null,
            "grid_row": null,
            "grid_template_areas": null,
            "grid_template_columns": null,
            "grid_template_rows": null,
            "height": null,
            "justify_content": null,
            "justify_items": null,
            "left": null,
            "margin": null,
            "max_height": null,
            "max_width": null,
            "min_height": null,
            "min_width": null,
            "object_fit": null,
            "object_position": null,
            "order": null,
            "overflow": null,
            "overflow_x": null,
            "overflow_y": null,
            "padding": null,
            "right": null,
            "top": null,
            "visibility": null,
            "width": null
          }
        },
        "865a68b1b86149b99ddb02b8246cd490": {
          "model_module": "@jupyter-widgets/controls",
          "model_name": "DescriptionStyleModel",
          "model_module_version": "1.5.0",
          "state": {
            "_model_module": "@jupyter-widgets/controls",
            "_model_module_version": "1.5.0",
            "_model_name": "DescriptionStyleModel",
            "_view_count": null,
            "_view_module": "@jupyter-widgets/base",
            "_view_module_version": "1.2.0",
            "_view_name": "StyleView",
            "description_width": ""
          }
        },
        "7dfa36486e4e40178439b4f77cccf64e": {
          "model_module": "@jupyter-widgets/controls",
          "model_name": "HBoxModel",
          "model_module_version": "1.5.0",
          "state": {
            "_dom_classes": [],
            "_model_module": "@jupyter-widgets/controls",
            "_model_module_version": "1.5.0",
            "_model_name": "HBoxModel",
            "_view_count": null,
            "_view_module": "@jupyter-widgets/controls",
            "_view_module_version": "1.5.0",
            "_view_name": "HBoxView",
            "box_style": "",
            "children": [
              "IPY_MODEL_0996cfed972a48c1a93193f80e82ba98",
              "IPY_MODEL_ce5c708bfb634e049a1145c68f960354",
              "IPY_MODEL_d080e502db224a6299eb7a98ef96ab07"
            ],
            "layout": "IPY_MODEL_ef20a4d1dcbe470e8ecd74979ff46bf1"
          }
        },
        "0996cfed972a48c1a93193f80e82ba98": {
          "model_module": "@jupyter-widgets/controls",
          "model_name": "HTMLModel",
          "model_module_version": "1.5.0",
          "state": {
            "_dom_classes": [],
            "_model_module": "@jupyter-widgets/controls",
            "_model_module_version": "1.5.0",
            "_model_name": "HTMLModel",
            "_view_count": null,
            "_view_module": "@jupyter-widgets/controls",
            "_view_module_version": "1.5.0",
            "_view_name": "HTMLView",
            "description": "",
            "description_tooltip": null,
            "layout": "IPY_MODEL_b0da22a2ff7c472ab409f8c4e271e39a",
            "placeholder": "​",
            "style": "IPY_MODEL_c7a82af884b343d9856fee6c96313db8",
            "value": "pytorch_model.bin: 100%"
          }
        },
        "ce5c708bfb634e049a1145c68f960354": {
          "model_module": "@jupyter-widgets/controls",
          "model_name": "FloatProgressModel",
          "model_module_version": "1.5.0",
          "state": {
            "_dom_classes": [],
            "_model_module": "@jupyter-widgets/controls",
            "_model_module_version": "1.5.0",
            "_model_name": "FloatProgressModel",
            "_view_count": null,
            "_view_module": "@jupyter-widgets/controls",
            "_view_module_version": "1.5.0",
            "_view_name": "ProgressView",
            "bar_style": "success",
            "description": "",
            "description_tooltip": null,
            "layout": "IPY_MODEL_75532fde15e6427f80d5aa7bf56f32fb",
            "max": 371146213,
            "min": 0,
            "orientation": "horizontal",
            "style": "IPY_MODEL_4495b651cb9645d49771ac318f507a7c",
            "value": 371146213
          }
        },
        "d080e502db224a6299eb7a98ef96ab07": {
          "model_module": "@jupyter-widgets/controls",
          "model_name": "HTMLModel",
          "model_module_version": "1.5.0",
          "state": {
            "_dom_classes": [],
            "_model_module": "@jupyter-widgets/controls",
            "_model_module_version": "1.5.0",
            "_model_name": "HTMLModel",
            "_view_count": null,
            "_view_module": "@jupyter-widgets/controls",
            "_view_module_version": "1.5.0",
            "_view_name": "HTMLView",
            "description": "",
            "description_tooltip": null,
            "layout": "IPY_MODEL_1485396eab124cc7a8908bdf24b7b9a6",
            "placeholder": "​",
            "style": "IPY_MODEL_eb173eb96f4749c6a2ddabebe844058c",
            "value": " 371M/371M [00:02&lt;00:00, 128MB/s]"
          }
        },
        "ef20a4d1dcbe470e8ecd74979ff46bf1": {
          "model_module": "@jupyter-widgets/base",
          "model_name": "LayoutModel",
          "model_module_version": "1.2.0",
          "state": {
            "_model_module": "@jupyter-widgets/base",
            "_model_module_version": "1.2.0",
            "_model_name": "LayoutModel",
            "_view_count": null,
            "_view_module": "@jupyter-widgets/base",
            "_view_module_version": "1.2.0",
            "_view_name": "LayoutView",
            "align_content": null,
            "align_items": null,
            "align_self": null,
            "border": null,
            "bottom": null,
            "display": null,
            "flex": null,
            "flex_flow": null,
            "grid_area": null,
            "grid_auto_columns": null,
            "grid_auto_flow": null,
            "grid_auto_rows": null,
            "grid_column": null,
            "grid_gap": null,
            "grid_row": null,
            "grid_template_areas": null,
            "grid_template_columns": null,
            "grid_template_rows": null,
            "height": null,
            "justify_content": null,
            "justify_items": null,
            "left": null,
            "margin": null,
            "max_height": null,
            "max_width": null,
            "min_height": null,
            "min_width": null,
            "object_fit": null,
            "object_position": null,
            "order": null,
            "overflow": null,
            "overflow_x": null,
            "overflow_y": null,
            "padding": null,
            "right": null,
            "top": null,
            "visibility": null,
            "width": null
          }
        },
        "b0da22a2ff7c472ab409f8c4e271e39a": {
          "model_module": "@jupyter-widgets/base",
          "model_name": "LayoutModel",
          "model_module_version": "1.2.0",
          "state": {
            "_model_module": "@jupyter-widgets/base",
            "_model_module_version": "1.2.0",
            "_model_name": "LayoutModel",
            "_view_count": null,
            "_view_module": "@jupyter-widgets/base",
            "_view_module_version": "1.2.0",
            "_view_name": "LayoutView",
            "align_content": null,
            "align_items": null,
            "align_self": null,
            "border": null,
            "bottom": null,
            "display": null,
            "flex": null,
            "flex_flow": null,
            "grid_area": null,
            "grid_auto_columns": null,
            "grid_auto_flow": null,
            "grid_auto_rows": null,
            "grid_column": null,
            "grid_gap": null,
            "grid_row": null,
            "grid_template_areas": null,
            "grid_template_columns": null,
            "grid_template_rows": null,
            "height": null,
            "justify_content": null,
            "justify_items": null,
            "left": null,
            "margin": null,
            "max_height": null,
            "max_width": null,
            "min_height": null,
            "min_width": null,
            "object_fit": null,
            "object_position": null,
            "order": null,
            "overflow": null,
            "overflow_x": null,
            "overflow_y": null,
            "padding": null,
            "right": null,
            "top": null,
            "visibility": null,
            "width": null
          }
        },
        "c7a82af884b343d9856fee6c96313db8": {
          "model_module": "@jupyter-widgets/controls",
          "model_name": "DescriptionStyleModel",
          "model_module_version": "1.5.0",
          "state": {
            "_model_module": "@jupyter-widgets/controls",
            "_model_module_version": "1.5.0",
            "_model_name": "DescriptionStyleModel",
            "_view_count": null,
            "_view_module": "@jupyter-widgets/base",
            "_view_module_version": "1.2.0",
            "_view_name": "StyleView",
            "description_width": ""
          }
        },
        "75532fde15e6427f80d5aa7bf56f32fb": {
          "model_module": "@jupyter-widgets/base",
          "model_name": "LayoutModel",
          "model_module_version": "1.2.0",
          "state": {
            "_model_module": "@jupyter-widgets/base",
            "_model_module_version": "1.2.0",
            "_model_name": "LayoutModel",
            "_view_count": null,
            "_view_module": "@jupyter-widgets/base",
            "_view_module_version": "1.2.0",
            "_view_name": "LayoutView",
            "align_content": null,
            "align_items": null,
            "align_self": null,
            "border": null,
            "bottom": null,
            "display": null,
            "flex": null,
            "flex_flow": null,
            "grid_area": null,
            "grid_auto_columns": null,
            "grid_auto_flow": null,
            "grid_auto_rows": null,
            "grid_column": null,
            "grid_gap": null,
            "grid_row": null,
            "grid_template_areas": null,
            "grid_template_columns": null,
            "grid_template_rows": null,
            "height": null,
            "justify_content": null,
            "justify_items": null,
            "left": null,
            "margin": null,
            "max_height": null,
            "max_width": null,
            "min_height": null,
            "min_width": null,
            "object_fit": null,
            "object_position": null,
            "order": null,
            "overflow": null,
            "overflow_x": null,
            "overflow_y": null,
            "padding": null,
            "right": null,
            "top": null,
            "visibility": null,
            "width": null
          }
        },
        "4495b651cb9645d49771ac318f507a7c": {
          "model_module": "@jupyter-widgets/controls",
          "model_name": "ProgressStyleModel",
          "model_module_version": "1.5.0",
          "state": {
            "_model_module": "@jupyter-widgets/controls",
            "_model_module_version": "1.5.0",
            "_model_name": "ProgressStyleModel",
            "_view_count": null,
            "_view_module": "@jupyter-widgets/base",
            "_view_module_version": "1.2.0",
            "_view_name": "StyleView",
            "bar_color": null,
            "description_width": ""
          }
        },
        "1485396eab124cc7a8908bdf24b7b9a6": {
          "model_module": "@jupyter-widgets/base",
          "model_name": "LayoutModel",
          "model_module_version": "1.2.0",
          "state": {
            "_model_module": "@jupyter-widgets/base",
            "_model_module_version": "1.2.0",
            "_model_name": "LayoutModel",
            "_view_count": null,
            "_view_module": "@jupyter-widgets/base",
            "_view_module_version": "1.2.0",
            "_view_name": "LayoutView",
            "align_content": null,
            "align_items": null,
            "align_self": null,
            "border": null,
            "bottom": null,
            "display": null,
            "flex": null,
            "flex_flow": null,
            "grid_area": null,
            "grid_auto_columns": null,
            "grid_auto_flow": null,
            "grid_auto_rows": null,
            "grid_column": null,
            "grid_gap": null,
            "grid_row": null,
            "grid_template_areas": null,
            "grid_template_columns": null,
            "grid_template_rows": null,
            "height": null,
            "justify_content": null,
            "justify_items": null,
            "left": null,
            "margin": null,
            "max_height": null,
            "max_width": null,
            "min_height": null,
            "min_width": null,
            "object_fit": null,
            "object_position": null,
            "order": null,
            "overflow": null,
            "overflow_x": null,
            "overflow_y": null,
            "padding": null,
            "right": null,
            "top": null,
            "visibility": null,
            "width": null
          }
        },
        "eb173eb96f4749c6a2ddabebe844058c": {
          "model_module": "@jupyter-widgets/controls",
          "model_name": "DescriptionStyleModel",
          "model_module_version": "1.5.0",
          "state": {
            "_model_module": "@jupyter-widgets/controls",
            "_model_module_version": "1.5.0",
            "_model_name": "DescriptionStyleModel",
            "_view_count": null,
            "_view_module": "@jupyter-widgets/base",
            "_view_module_version": "1.2.0",
            "_view_name": "StyleView",
            "description_width": ""
          }
        },
        "22da56d8bb20487998ccc082bac5632d": {
          "model_module": "@jupyter-widgets/controls",
          "model_name": "HBoxModel",
          "model_module_version": "1.5.0",
          "state": {
            "_dom_classes": [],
            "_model_module": "@jupyter-widgets/controls",
            "_model_module_version": "1.5.0",
            "_model_name": "HBoxModel",
            "_view_count": null,
            "_view_module": "@jupyter-widgets/controls",
            "_view_module_version": "1.5.0",
            "_view_name": "HBoxView",
            "box_style": "",
            "children": [
              "IPY_MODEL_1d49bcea49834765878f507080d81a7e",
              "IPY_MODEL_30689e100ed6449a8a2418c141b154cb",
              "IPY_MODEL_4ab22ea4a5c94b608a9861adb1b9aba9"
            ],
            "layout": "IPY_MODEL_7db63a7f43f74d94abd11fb74f3c89a9"
          }
        },
        "1d49bcea49834765878f507080d81a7e": {
          "model_module": "@jupyter-widgets/controls",
          "model_name": "HTMLModel",
          "model_module_version": "1.5.0",
          "state": {
            "_dom_classes": [],
            "_model_module": "@jupyter-widgets/controls",
            "_model_module_version": "1.5.0",
            "_model_name": "HTMLModel",
            "_view_count": null,
            "_view_module": "@jupyter-widgets/controls",
            "_view_module_version": "1.5.0",
            "_view_name": "HTMLView",
            "description": "",
            "description_tooltip": null,
            "layout": "IPY_MODEL_c54adbff506848918871995b2f440bcd",
            "placeholder": "​",
            "style": "IPY_MODEL_e5e2bde4b28e422fa7c91cad96fa5f6a",
            "value": "model.safetensors: 100%"
          }
        },
        "30689e100ed6449a8a2418c141b154cb": {
          "model_module": "@jupyter-widgets/controls",
          "model_name": "FloatProgressModel",
          "model_module_version": "1.5.0",
          "state": {
            "_dom_classes": [],
            "_model_module": "@jupyter-widgets/controls",
            "_model_module_version": "1.5.0",
            "_model_name": "FloatProgressModel",
            "_view_count": null,
            "_view_module": "@jupyter-widgets/controls",
            "_view_module_version": "1.5.0",
            "_view_name": "ProgressView",
            "bar_style": "success",
            "description": "",
            "description_tooltip": null,
            "layout": "IPY_MODEL_08fd3b4be7bf4f4fa6e7d022ad3abcd2",
            "max": 371101258,
            "min": 0,
            "orientation": "horizontal",
            "style": "IPY_MODEL_26b650e10c8c485aa3c6f19575ca4259",
            "value": 371101258
          }
        },
        "4ab22ea4a5c94b608a9861adb1b9aba9": {
          "model_module": "@jupyter-widgets/controls",
          "model_name": "HTMLModel",
          "model_module_version": "1.5.0",
          "state": {
            "_dom_classes": [],
            "_model_module": "@jupyter-widgets/controls",
            "_model_module_version": "1.5.0",
            "_model_name": "HTMLModel",
            "_view_count": null,
            "_view_module": "@jupyter-widgets/controls",
            "_view_module_version": "1.5.0",
            "_view_name": "HTMLView",
            "description": "",
            "description_tooltip": null,
            "layout": "IPY_MODEL_eaa1ce53b39241269fd5cc019db27980",
            "placeholder": "​",
            "style": "IPY_MODEL_b8c5f8bba9c04bbfb079b533da344c36",
            "value": " 371M/371M [00:11&lt;00:00, 71.3MB/s]"
          }
        },
        "7db63a7f43f74d94abd11fb74f3c89a9": {
          "model_module": "@jupyter-widgets/base",
          "model_name": "LayoutModel",
          "model_module_version": "1.2.0",
          "state": {
            "_model_module": "@jupyter-widgets/base",
            "_model_module_version": "1.2.0",
            "_model_name": "LayoutModel",
            "_view_count": null,
            "_view_module": "@jupyter-widgets/base",
            "_view_module_version": "1.2.0",
            "_view_name": "LayoutView",
            "align_content": null,
            "align_items": null,
            "align_self": null,
            "border": null,
            "bottom": null,
            "display": null,
            "flex": null,
            "flex_flow": null,
            "grid_area": null,
            "grid_auto_columns": null,
            "grid_auto_flow": null,
            "grid_auto_rows": null,
            "grid_column": null,
            "grid_gap": null,
            "grid_row": null,
            "grid_template_areas": null,
            "grid_template_columns": null,
            "grid_template_rows": null,
            "height": null,
            "justify_content": null,
            "justify_items": null,
            "left": null,
            "margin": null,
            "max_height": null,
            "max_width": null,
            "min_height": null,
            "min_width": null,
            "object_fit": null,
            "object_position": null,
            "order": null,
            "overflow": null,
            "overflow_x": null,
            "overflow_y": null,
            "padding": null,
            "right": null,
            "top": null,
            "visibility": null,
            "width": null
          }
        },
        "c54adbff506848918871995b2f440bcd": {
          "model_module": "@jupyter-widgets/base",
          "model_name": "LayoutModel",
          "model_module_version": "1.2.0",
          "state": {
            "_model_module": "@jupyter-widgets/base",
            "_model_module_version": "1.2.0",
            "_model_name": "LayoutModel",
            "_view_count": null,
            "_view_module": "@jupyter-widgets/base",
            "_view_module_version": "1.2.0",
            "_view_name": "LayoutView",
            "align_content": null,
            "align_items": null,
            "align_self": null,
            "border": null,
            "bottom": null,
            "display": null,
            "flex": null,
            "flex_flow": null,
            "grid_area": null,
            "grid_auto_columns": null,
            "grid_auto_flow": null,
            "grid_auto_rows": null,
            "grid_column": null,
            "grid_gap": null,
            "grid_row": null,
            "grid_template_areas": null,
            "grid_template_columns": null,
            "grid_template_rows": null,
            "height": null,
            "justify_content": null,
            "justify_items": null,
            "left": null,
            "margin": null,
            "max_height": null,
            "max_width": null,
            "min_height": null,
            "min_width": null,
            "object_fit": null,
            "object_position": null,
            "order": null,
            "overflow": null,
            "overflow_x": null,
            "overflow_y": null,
            "padding": null,
            "right": null,
            "top": null,
            "visibility": null,
            "width": null
          }
        },
        "e5e2bde4b28e422fa7c91cad96fa5f6a": {
          "model_module": "@jupyter-widgets/controls",
          "model_name": "DescriptionStyleModel",
          "model_module_version": "1.5.0",
          "state": {
            "_model_module": "@jupyter-widgets/controls",
            "_model_module_version": "1.5.0",
            "_model_name": "DescriptionStyleModel",
            "_view_count": null,
            "_view_module": "@jupyter-widgets/base",
            "_view_module_version": "1.2.0",
            "_view_name": "StyleView",
            "description_width": ""
          }
        },
        "08fd3b4be7bf4f4fa6e7d022ad3abcd2": {
          "model_module": "@jupyter-widgets/base",
          "model_name": "LayoutModel",
          "model_module_version": "1.2.0",
          "state": {
            "_model_module": "@jupyter-widgets/base",
            "_model_module_version": "1.2.0",
            "_model_name": "LayoutModel",
            "_view_count": null,
            "_view_module": "@jupyter-widgets/base",
            "_view_module_version": "1.2.0",
            "_view_name": "LayoutView",
            "align_content": null,
            "align_items": null,
            "align_self": null,
            "border": null,
            "bottom": null,
            "display": null,
            "flex": null,
            "flex_flow": null,
            "grid_area": null,
            "grid_auto_columns": null,
            "grid_auto_flow": null,
            "grid_auto_rows": null,
            "grid_column": null,
            "grid_gap": null,
            "grid_row": null,
            "grid_template_areas": null,
            "grid_template_columns": null,
            "grid_template_rows": null,
            "height": null,
            "justify_content": null,
            "justify_items": null,
            "left": null,
            "margin": null,
            "max_height": null,
            "max_width": null,
            "min_height": null,
            "min_width": null,
            "object_fit": null,
            "object_position": null,
            "order": null,
            "overflow": null,
            "overflow_x": null,
            "overflow_y": null,
            "padding": null,
            "right": null,
            "top": null,
            "visibility": null,
            "width": null
          }
        },
        "26b650e10c8c485aa3c6f19575ca4259": {
          "model_module": "@jupyter-widgets/controls",
          "model_name": "ProgressStyleModel",
          "model_module_version": "1.5.0",
          "state": {
            "_model_module": "@jupyter-widgets/controls",
            "_model_module_version": "1.5.0",
            "_model_name": "ProgressStyleModel",
            "_view_count": null,
            "_view_module": "@jupyter-widgets/base",
            "_view_module_version": "1.2.0",
            "_view_name": "StyleView",
            "bar_color": null,
            "description_width": ""
          }
        },
        "eaa1ce53b39241269fd5cc019db27980": {
          "model_module": "@jupyter-widgets/base",
          "model_name": "LayoutModel",
          "model_module_version": "1.2.0",
          "state": {
            "_model_module": "@jupyter-widgets/base",
            "_model_module_version": "1.2.0",
            "_model_name": "LayoutModel",
            "_view_count": null,
            "_view_module": "@jupyter-widgets/base",
            "_view_module_version": "1.2.0",
            "_view_name": "LayoutView",
            "align_content": null,
            "align_items": null,
            "align_self": null,
            "border": null,
            "bottom": null,
            "display": null,
            "flex": null,
            "flex_flow": null,
            "grid_area": null,
            "grid_auto_columns": null,
            "grid_auto_flow": null,
            "grid_auto_rows": null,
            "grid_column": null,
            "grid_gap": null,
            "grid_row": null,
            "grid_template_areas": null,
            "grid_template_columns": null,
            "grid_template_rows": null,
            "height": null,
            "justify_content": null,
            "justify_items": null,
            "left": null,
            "margin": null,
            "max_height": null,
            "max_width": null,
            "min_height": null,
            "min_width": null,
            "object_fit": null,
            "object_position": null,
            "order": null,
            "overflow": null,
            "overflow_x": null,
            "overflow_y": null,
            "padding": null,
            "right": null,
            "top": null,
            "visibility": null,
            "width": null
          }
        },
        "b8c5f8bba9c04bbfb079b533da344c36": {
          "model_module": "@jupyter-widgets/controls",
          "model_name": "DescriptionStyleModel",
          "model_module_version": "1.5.0",
          "state": {
            "_model_module": "@jupyter-widgets/controls",
            "_model_module_version": "1.5.0",
            "_model_name": "DescriptionStyleModel",
            "_view_count": null,
            "_view_module": "@jupyter-widgets/base",
            "_view_module_version": "1.2.0",
            "_view_name": "StyleView",
            "description_width": ""
          }
        },
        "7df1ca097dc448b2bdd0bc18c7a8fff3": {
          "model_module": "@jupyter-widgets/controls",
          "model_name": "HBoxModel",
          "model_module_version": "1.5.0",
          "state": {
            "_dom_classes": [],
            "_model_module": "@jupyter-widgets/controls",
            "_model_module_version": "1.5.0",
            "_model_name": "HBoxModel",
            "_view_count": null,
            "_view_module": "@jupyter-widgets/controls",
            "_view_module_version": "1.5.0",
            "_view_name": "HBoxView",
            "box_style": "",
            "children": [
              "IPY_MODEL_93a5a7ece3784bffa3474ca65f08a7c1",
              "IPY_MODEL_b6340006b9d9428590402823e775c4ee",
              "IPY_MODEL_842a757cb39f4014b631ac2d856373d4"
            ],
            "layout": "IPY_MODEL_c408d6fe0f074e069fdd5ec9627be9e8"
          }
        },
        "93a5a7ece3784bffa3474ca65f08a7c1": {
          "model_module": "@jupyter-widgets/controls",
          "model_name": "HTMLModel",
          "model_module_version": "1.5.0",
          "state": {
            "_dom_classes": [],
            "_model_module": "@jupyter-widgets/controls",
            "_model_module_version": "1.5.0",
            "_model_name": "HTMLModel",
            "_view_count": null,
            "_view_module": "@jupyter-widgets/controls",
            "_view_module_version": "1.5.0",
            "_view_name": "HTMLView",
            "description": "",
            "description_tooltip": null,
            "layout": "IPY_MODEL_37a82ee1b6c04994a1313abd7860340f",
            "placeholder": "​",
            "style": "IPY_MODEL_d9a55401f1c14b82a1ce8b738c7f7f7c",
            "value": "Map: 100%"
          }
        },
        "b6340006b9d9428590402823e775c4ee": {
          "model_module": "@jupyter-widgets/controls",
          "model_name": "FloatProgressModel",
          "model_module_version": "1.5.0",
          "state": {
            "_dom_classes": [],
            "_model_module": "@jupyter-widgets/controls",
            "_model_module_version": "1.5.0",
            "_model_name": "FloatProgressModel",
            "_view_count": null,
            "_view_module": "@jupyter-widgets/controls",
            "_view_module_version": "1.5.0",
            "_view_name": "ProgressView",
            "bar_style": "success",
            "description": "",
            "description_tooltip": null,
            "layout": "IPY_MODEL_8624c1014f174abf900f9e3d51af8420",
            "max": 2376,
            "min": 0,
            "orientation": "horizontal",
            "style": "IPY_MODEL_8101b61811a64a6689fbcc266c71fe7a",
            "value": 2376
          }
        },
        "842a757cb39f4014b631ac2d856373d4": {
          "model_module": "@jupyter-widgets/controls",
          "model_name": "HTMLModel",
          "model_module_version": "1.5.0",
          "state": {
            "_dom_classes": [],
            "_model_module": "@jupyter-widgets/controls",
            "_model_module_version": "1.5.0",
            "_model_name": "HTMLModel",
            "_view_count": null,
            "_view_module": "@jupyter-widgets/controls",
            "_view_module_version": "1.5.0",
            "_view_name": "HTMLView",
            "description": "",
            "description_tooltip": null,
            "layout": "IPY_MODEL_3aa684ccac7e48408ce862cff00c30c7",
            "placeholder": "​",
            "style": "IPY_MODEL_7fb0d3e9a0a44670afdb4b4ae3f95fe6",
            "value": " 2376/2376 [00:21&lt;00:00, 110.96 examples/s]"
          }
        },
        "c408d6fe0f074e069fdd5ec9627be9e8": {
          "model_module": "@jupyter-widgets/base",
          "model_name": "LayoutModel",
          "model_module_version": "1.2.0",
          "state": {
            "_model_module": "@jupyter-widgets/base",
            "_model_module_version": "1.2.0",
            "_model_name": "LayoutModel",
            "_view_count": null,
            "_view_module": "@jupyter-widgets/base",
            "_view_module_version": "1.2.0",
            "_view_name": "LayoutView",
            "align_content": null,
            "align_items": null,
            "align_self": null,
            "border": null,
            "bottom": null,
            "display": null,
            "flex": null,
            "flex_flow": null,
            "grid_area": null,
            "grid_auto_columns": null,
            "grid_auto_flow": null,
            "grid_auto_rows": null,
            "grid_column": null,
            "grid_gap": null,
            "grid_row": null,
            "grid_template_areas": null,
            "grid_template_columns": null,
            "grid_template_rows": null,
            "height": null,
            "justify_content": null,
            "justify_items": null,
            "left": null,
            "margin": null,
            "max_height": null,
            "max_width": null,
            "min_height": null,
            "min_width": null,
            "object_fit": null,
            "object_position": null,
            "order": null,
            "overflow": null,
            "overflow_x": null,
            "overflow_y": null,
            "padding": null,
            "right": null,
            "top": null,
            "visibility": null,
            "width": null
          }
        },
        "37a82ee1b6c04994a1313abd7860340f": {
          "model_module": "@jupyter-widgets/base",
          "model_name": "LayoutModel",
          "model_module_version": "1.2.0",
          "state": {
            "_model_module": "@jupyter-widgets/base",
            "_model_module_version": "1.2.0",
            "_model_name": "LayoutModel",
            "_view_count": null,
            "_view_module": "@jupyter-widgets/base",
            "_view_module_version": "1.2.0",
            "_view_name": "LayoutView",
            "align_content": null,
            "align_items": null,
            "align_self": null,
            "border": null,
            "bottom": null,
            "display": null,
            "flex": null,
            "flex_flow": null,
            "grid_area": null,
            "grid_auto_columns": null,
            "grid_auto_flow": null,
            "grid_auto_rows": null,
            "grid_column": null,
            "grid_gap": null,
            "grid_row": null,
            "grid_template_areas": null,
            "grid_template_columns": null,
            "grid_template_rows": null,
            "height": null,
            "justify_content": null,
            "justify_items": null,
            "left": null,
            "margin": null,
            "max_height": null,
            "max_width": null,
            "min_height": null,
            "min_width": null,
            "object_fit": null,
            "object_position": null,
            "order": null,
            "overflow": null,
            "overflow_x": null,
            "overflow_y": null,
            "padding": null,
            "right": null,
            "top": null,
            "visibility": null,
            "width": null
          }
        },
        "d9a55401f1c14b82a1ce8b738c7f7f7c": {
          "model_module": "@jupyter-widgets/controls",
          "model_name": "DescriptionStyleModel",
          "model_module_version": "1.5.0",
          "state": {
            "_model_module": "@jupyter-widgets/controls",
            "_model_module_version": "1.5.0",
            "_model_name": "DescriptionStyleModel",
            "_view_count": null,
            "_view_module": "@jupyter-widgets/base",
            "_view_module_version": "1.2.0",
            "_view_name": "StyleView",
            "description_width": ""
          }
        },
        "8624c1014f174abf900f9e3d51af8420": {
          "model_module": "@jupyter-widgets/base",
          "model_name": "LayoutModel",
          "model_module_version": "1.2.0",
          "state": {
            "_model_module": "@jupyter-widgets/base",
            "_model_module_version": "1.2.0",
            "_model_name": "LayoutModel",
            "_view_count": null,
            "_view_module": "@jupyter-widgets/base",
            "_view_module_version": "1.2.0",
            "_view_name": "LayoutView",
            "align_content": null,
            "align_items": null,
            "align_self": null,
            "border": null,
            "bottom": null,
            "display": null,
            "flex": null,
            "flex_flow": null,
            "grid_area": null,
            "grid_auto_columns": null,
            "grid_auto_flow": null,
            "grid_auto_rows": null,
            "grid_column": null,
            "grid_gap": null,
            "grid_row": null,
            "grid_template_areas": null,
            "grid_template_columns": null,
            "grid_template_rows": null,
            "height": null,
            "justify_content": null,
            "justify_items": null,
            "left": null,
            "margin": null,
            "max_height": null,
            "max_width": null,
            "min_height": null,
            "min_width": null,
            "object_fit": null,
            "object_position": null,
            "order": null,
            "overflow": null,
            "overflow_x": null,
            "overflow_y": null,
            "padding": null,
            "right": null,
            "top": null,
            "visibility": null,
            "width": null
          }
        },
        "8101b61811a64a6689fbcc266c71fe7a": {
          "model_module": "@jupyter-widgets/controls",
          "model_name": "ProgressStyleModel",
          "model_module_version": "1.5.0",
          "state": {
            "_model_module": "@jupyter-widgets/controls",
            "_model_module_version": "1.5.0",
            "_model_name": "ProgressStyleModel",
            "_view_count": null,
            "_view_module": "@jupyter-widgets/base",
            "_view_module_version": "1.2.0",
            "_view_name": "StyleView",
            "bar_color": null,
            "description_width": ""
          }
        },
        "3aa684ccac7e48408ce862cff00c30c7": {
          "model_module": "@jupyter-widgets/base",
          "model_name": "LayoutModel",
          "model_module_version": "1.2.0",
          "state": {
            "_model_module": "@jupyter-widgets/base",
            "_model_module_version": "1.2.0",
            "_model_name": "LayoutModel",
            "_view_count": null,
            "_view_module": "@jupyter-widgets/base",
            "_view_module_version": "1.2.0",
            "_view_name": "LayoutView",
            "align_content": null,
            "align_items": null,
            "align_self": null,
            "border": null,
            "bottom": null,
            "display": null,
            "flex": null,
            "flex_flow": null,
            "grid_area": null,
            "grid_auto_columns": null,
            "grid_auto_flow": null,
            "grid_auto_rows": null,
            "grid_column": null,
            "grid_gap": null,
            "grid_row": null,
            "grid_template_areas": null,
            "grid_template_columns": null,
            "grid_template_rows": null,
            "height": null,
            "justify_content": null,
            "justify_items": null,
            "left": null,
            "margin": null,
            "max_height": null,
            "max_width": null,
            "min_height": null,
            "min_width": null,
            "object_fit": null,
            "object_position": null,
            "order": null,
            "overflow": null,
            "overflow_x": null,
            "overflow_y": null,
            "padding": null,
            "right": null,
            "top": null,
            "visibility": null,
            "width": null
          }
        },
        "7fb0d3e9a0a44670afdb4b4ae3f95fe6": {
          "model_module": "@jupyter-widgets/controls",
          "model_name": "DescriptionStyleModel",
          "model_module_version": "1.5.0",
          "state": {
            "_model_module": "@jupyter-widgets/controls",
            "_model_module_version": "1.5.0",
            "_model_name": "DescriptionStyleModel",
            "_view_count": null,
            "_view_module": "@jupyter-widgets/base",
            "_view_module_version": "1.2.0",
            "_view_name": "StyleView",
            "description_width": ""
          }
        },
        "0a56a48fa34b4ba9b36419616c756357": {
          "model_module": "@jupyter-widgets/controls",
          "model_name": "HBoxModel",
          "model_module_version": "1.5.0",
          "state": {
            "_dom_classes": [],
            "_model_module": "@jupyter-widgets/controls",
            "_model_module_version": "1.5.0",
            "_model_name": "HBoxModel",
            "_view_count": null,
            "_view_module": "@jupyter-widgets/controls",
            "_view_module_version": "1.5.0",
            "_view_name": "HBoxView",
            "box_style": "",
            "children": [
              "IPY_MODEL_e96b5be128df4c7ca8d0705d1a847554",
              "IPY_MODEL_3308dfc599464506845291c06e226aa7",
              "IPY_MODEL_0405379399dd4aadbb3a7e9c68afb80b"
            ],
            "layout": "IPY_MODEL_6f07aac8c7c444948376059b71b06bd5"
          }
        },
        "e96b5be128df4c7ca8d0705d1a847554": {
          "model_module": "@jupyter-widgets/controls",
          "model_name": "HTMLModel",
          "model_module_version": "1.5.0",
          "state": {
            "_dom_classes": [],
            "_model_module": "@jupyter-widgets/controls",
            "_model_module_version": "1.5.0",
            "_model_name": "HTMLModel",
            "_view_count": null,
            "_view_module": "@jupyter-widgets/controls",
            "_view_module_version": "1.5.0",
            "_view_name": "HTMLView",
            "description": "",
            "description_tooltip": null,
            "layout": "IPY_MODEL_2a951f2472e540cd9250a754b97735c4",
            "placeholder": "​",
            "style": "IPY_MODEL_9e48ab491e2042d496d6fa5796e058d5",
            "value": "Map: 100%"
          }
        },
        "3308dfc599464506845291c06e226aa7": {
          "model_module": "@jupyter-widgets/controls",
          "model_name": "FloatProgressModel",
          "model_module_version": "1.5.0",
          "state": {
            "_dom_classes": [],
            "_model_module": "@jupyter-widgets/controls",
            "_model_module_version": "1.5.0",
            "_model_name": "FloatProgressModel",
            "_view_count": null,
            "_view_module": "@jupyter-widgets/controls",
            "_view_module_version": "1.5.0",
            "_view_name": "ProgressView",
            "bar_style": "success",
            "description": "",
            "description_tooltip": null,
            "layout": "IPY_MODEL_0903f4bb32f54884a3674d09ba7a2b9e",
            "max": 594,
            "min": 0,
            "orientation": "horizontal",
            "style": "IPY_MODEL_d622f48ea75645c58f2dbb485747b513",
            "value": 594
          }
        },
        "0405379399dd4aadbb3a7e9c68afb80b": {
          "model_module": "@jupyter-widgets/controls",
          "model_name": "HTMLModel",
          "model_module_version": "1.5.0",
          "state": {
            "_dom_classes": [],
            "_model_module": "@jupyter-widgets/controls",
            "_model_module_version": "1.5.0",
            "_model_name": "HTMLModel",
            "_view_count": null,
            "_view_module": "@jupyter-widgets/controls",
            "_view_module_version": "1.5.0",
            "_view_name": "HTMLView",
            "description": "",
            "description_tooltip": null,
            "layout": "IPY_MODEL_1f2d94bf765546259bead24ae3ba093f",
            "placeholder": "​",
            "style": "IPY_MODEL_bd73b0d2b3f24a67af219990a9b3c6c7",
            "value": " 594/594 [00:05&lt;00:00, 119.27 examples/s]"
          }
        },
        "6f07aac8c7c444948376059b71b06bd5": {
          "model_module": "@jupyter-widgets/base",
          "model_name": "LayoutModel",
          "model_module_version": "1.2.0",
          "state": {
            "_model_module": "@jupyter-widgets/base",
            "_model_module_version": "1.2.0",
            "_model_name": "LayoutModel",
            "_view_count": null,
            "_view_module": "@jupyter-widgets/base",
            "_view_module_version": "1.2.0",
            "_view_name": "LayoutView",
            "align_content": null,
            "align_items": null,
            "align_self": null,
            "border": null,
            "bottom": null,
            "display": null,
            "flex": null,
            "flex_flow": null,
            "grid_area": null,
            "grid_auto_columns": null,
            "grid_auto_flow": null,
            "grid_auto_rows": null,
            "grid_column": null,
            "grid_gap": null,
            "grid_row": null,
            "grid_template_areas": null,
            "grid_template_columns": null,
            "grid_template_rows": null,
            "height": null,
            "justify_content": null,
            "justify_items": null,
            "left": null,
            "margin": null,
            "max_height": null,
            "max_width": null,
            "min_height": null,
            "min_width": null,
            "object_fit": null,
            "object_position": null,
            "order": null,
            "overflow": null,
            "overflow_x": null,
            "overflow_y": null,
            "padding": null,
            "right": null,
            "top": null,
            "visibility": null,
            "width": null
          }
        },
        "2a951f2472e540cd9250a754b97735c4": {
          "model_module": "@jupyter-widgets/base",
          "model_name": "LayoutModel",
          "model_module_version": "1.2.0",
          "state": {
            "_model_module": "@jupyter-widgets/base",
            "_model_module_version": "1.2.0",
            "_model_name": "LayoutModel",
            "_view_count": null,
            "_view_module": "@jupyter-widgets/base",
            "_view_module_version": "1.2.0",
            "_view_name": "LayoutView",
            "align_content": null,
            "align_items": null,
            "align_self": null,
            "border": null,
            "bottom": null,
            "display": null,
            "flex": null,
            "flex_flow": null,
            "grid_area": null,
            "grid_auto_columns": null,
            "grid_auto_flow": null,
            "grid_auto_rows": null,
            "grid_column": null,
            "grid_gap": null,
            "grid_row": null,
            "grid_template_areas": null,
            "grid_template_columns": null,
            "grid_template_rows": null,
            "height": null,
            "justify_content": null,
            "justify_items": null,
            "left": null,
            "margin": null,
            "max_height": null,
            "max_width": null,
            "min_height": null,
            "min_width": null,
            "object_fit": null,
            "object_position": null,
            "order": null,
            "overflow": null,
            "overflow_x": null,
            "overflow_y": null,
            "padding": null,
            "right": null,
            "top": null,
            "visibility": null,
            "width": null
          }
        },
        "9e48ab491e2042d496d6fa5796e058d5": {
          "model_module": "@jupyter-widgets/controls",
          "model_name": "DescriptionStyleModel",
          "model_module_version": "1.5.0",
          "state": {
            "_model_module": "@jupyter-widgets/controls",
            "_model_module_version": "1.5.0",
            "_model_name": "DescriptionStyleModel",
            "_view_count": null,
            "_view_module": "@jupyter-widgets/base",
            "_view_module_version": "1.2.0",
            "_view_name": "StyleView",
            "description_width": ""
          }
        },
        "0903f4bb32f54884a3674d09ba7a2b9e": {
          "model_module": "@jupyter-widgets/base",
          "model_name": "LayoutModel",
          "model_module_version": "1.2.0",
          "state": {
            "_model_module": "@jupyter-widgets/base",
            "_model_module_version": "1.2.0",
            "_model_name": "LayoutModel",
            "_view_count": null,
            "_view_module": "@jupyter-widgets/base",
            "_view_module_version": "1.2.0",
            "_view_name": "LayoutView",
            "align_content": null,
            "align_items": null,
            "align_self": null,
            "border": null,
            "bottom": null,
            "display": null,
            "flex": null,
            "flex_flow": null,
            "grid_area": null,
            "grid_auto_columns": null,
            "grid_auto_flow": null,
            "grid_auto_rows": null,
            "grid_column": null,
            "grid_gap": null,
            "grid_row": null,
            "grid_template_areas": null,
            "grid_template_columns": null,
            "grid_template_rows": null,
            "height": null,
            "justify_content": null,
            "justify_items": null,
            "left": null,
            "margin": null,
            "max_height": null,
            "max_width": null,
            "min_height": null,
            "min_width": null,
            "object_fit": null,
            "object_position": null,
            "order": null,
            "overflow": null,
            "overflow_x": null,
            "overflow_y": null,
            "padding": null,
            "right": null,
            "top": null,
            "visibility": null,
            "width": null
          }
        },
        "d622f48ea75645c58f2dbb485747b513": {
          "model_module": "@jupyter-widgets/controls",
          "model_name": "ProgressStyleModel",
          "model_module_version": "1.5.0",
          "state": {
            "_model_module": "@jupyter-widgets/controls",
            "_model_module_version": "1.5.0",
            "_model_name": "ProgressStyleModel",
            "_view_count": null,
            "_view_module": "@jupyter-widgets/base",
            "_view_module_version": "1.2.0",
            "_view_name": "StyleView",
            "bar_color": null,
            "description_width": ""
          }
        },
        "1f2d94bf765546259bead24ae3ba093f": {
          "model_module": "@jupyter-widgets/base",
          "model_name": "LayoutModel",
          "model_module_version": "1.2.0",
          "state": {
            "_model_module": "@jupyter-widgets/base",
            "_model_module_version": "1.2.0",
            "_model_name": "LayoutModel",
            "_view_count": null,
            "_view_module": "@jupyter-widgets/base",
            "_view_module_version": "1.2.0",
            "_view_name": "LayoutView",
            "align_content": null,
            "align_items": null,
            "align_self": null,
            "border": null,
            "bottom": null,
            "display": null,
            "flex": null,
            "flex_flow": null,
            "grid_area": null,
            "grid_auto_columns": null,
            "grid_auto_flow": null,
            "grid_auto_rows": null,
            "grid_column": null,
            "grid_gap": null,
            "grid_row": null,
            "grid_template_areas": null,
            "grid_template_columns": null,
            "grid_template_rows": null,
            "height": null,
            "justify_content": null,
            "justify_items": null,
            "left": null,
            "margin": null,
            "max_height": null,
            "max_width": null,
            "min_height": null,
            "min_width": null,
            "object_fit": null,
            "object_position": null,
            "order": null,
            "overflow": null,
            "overflow_x": null,
            "overflow_y": null,
            "padding": null,
            "right": null,
            "top": null,
            "visibility": null,
            "width": null
          }
        },
        "bd73b0d2b3f24a67af219990a9b3c6c7": {
          "model_module": "@jupyter-widgets/controls",
          "model_name": "DescriptionStyleModel",
          "model_module_version": "1.5.0",
          "state": {
            "_model_module": "@jupyter-widgets/controls",
            "_model_module_version": "1.5.0",
            "_model_name": "DescriptionStyleModel",
            "_view_count": null,
            "_view_module": "@jupyter-widgets/base",
            "_view_module_version": "1.2.0",
            "_view_name": "StyleView",
            "description_width": ""
          }
        }
      }
    },
    "accelerator": "GPU"
  },
  "nbformat": 4,
  "nbformat_minor": 0
}