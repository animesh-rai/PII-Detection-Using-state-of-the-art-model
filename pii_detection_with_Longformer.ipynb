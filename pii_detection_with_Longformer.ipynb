{
  "cells": [
    {
      "cell_type": "markdown",
      "metadata": {
        "id": "view-in-github",
        "colab_type": "text"
      },
      "source": [
        "<a href=\"https://colab.research.google.com/github/animesh-rai/PII-Detection-Using-state-of-the-art-model/blob/main/pii_detection_with_Longformer.ipynb\" target=\"_parent\"><img src=\"https://colab.research.google.com/assets/colab-badge.svg\" alt=\"Open In Colab\"/></a>"
      ]
    },
    {
      "cell_type": "code",
      "source": [
        "!pip install datasets"
      ],
      "metadata": {
        "colab": {
          "base_uri": "https://localhost:8080/"
        },
        "id": "laJwWReQ7Eqz",
        "outputId": "bdad752f-b3e8-4f37-c7da-d28055eb425d"
      },
      "execution_count": 1,
      "outputs": [
        {
          "output_type": "stream",
          "name": "stdout",
          "text": [
            "Collecting datasets\n",
            "  Downloading datasets-3.1.0-py3-none-any.whl.metadata (20 kB)\n",
            "Requirement already satisfied: filelock in /usr/local/lib/python3.10/dist-packages (from datasets) (3.16.1)\n",
            "Requirement already satisfied: numpy>=1.17 in /usr/local/lib/python3.10/dist-packages (from datasets) (1.26.4)\n",
            "Requirement already satisfied: pyarrow>=15.0.0 in /usr/local/lib/python3.10/dist-packages (from datasets) (17.0.0)\n",
            "Collecting dill<0.3.9,>=0.3.0 (from datasets)\n",
            "  Downloading dill-0.3.8-py3-none-any.whl.metadata (10 kB)\n",
            "Requirement already satisfied: pandas in /usr/local/lib/python3.10/dist-packages (from datasets) (2.2.2)\n",
            "Requirement already satisfied: requests>=2.32.2 in /usr/local/lib/python3.10/dist-packages (from datasets) (2.32.3)\n",
            "Requirement already satisfied: tqdm>=4.66.3 in /usr/local/lib/python3.10/dist-packages (from datasets) (4.66.6)\n",
            "Collecting xxhash (from datasets)\n",
            "  Downloading xxhash-3.5.0-cp310-cp310-manylinux_2_17_x86_64.manylinux2014_x86_64.whl.metadata (12 kB)\n",
            "Collecting multiprocess<0.70.17 (from datasets)\n",
            "  Downloading multiprocess-0.70.16-py310-none-any.whl.metadata (7.2 kB)\n",
            "Collecting fsspec<=2024.9.0,>=2023.1.0 (from fsspec[http]<=2024.9.0,>=2023.1.0->datasets)\n",
            "  Downloading fsspec-2024.9.0-py3-none-any.whl.metadata (11 kB)\n",
            "Requirement already satisfied: aiohttp in /usr/local/lib/python3.10/dist-packages (from datasets) (3.11.2)\n",
            "Requirement already satisfied: huggingface-hub>=0.23.0 in /usr/local/lib/python3.10/dist-packages (from datasets) (0.26.2)\n",
            "Requirement already satisfied: packaging in /usr/local/lib/python3.10/dist-packages (from datasets) (24.2)\n",
            "Requirement already satisfied: pyyaml>=5.1 in /usr/local/lib/python3.10/dist-packages (from datasets) (6.0.2)\n",
            "Requirement already satisfied: aiohappyeyeballs>=2.3.0 in /usr/local/lib/python3.10/dist-packages (from aiohttp->datasets) (2.4.3)\n",
            "Requirement already satisfied: aiosignal>=1.1.2 in /usr/local/lib/python3.10/dist-packages (from aiohttp->datasets) (1.3.1)\n",
            "Requirement already satisfied: attrs>=17.3.0 in /usr/local/lib/python3.10/dist-packages (from aiohttp->datasets) (24.2.0)\n",
            "Requirement already satisfied: frozenlist>=1.1.1 in /usr/local/lib/python3.10/dist-packages (from aiohttp->datasets) (1.5.0)\n",
            "Requirement already satisfied: multidict<7.0,>=4.5 in /usr/local/lib/python3.10/dist-packages (from aiohttp->datasets) (6.1.0)\n",
            "Requirement already satisfied: propcache>=0.2.0 in /usr/local/lib/python3.10/dist-packages (from aiohttp->datasets) (0.2.0)\n",
            "Requirement already satisfied: yarl<2.0,>=1.17.0 in /usr/local/lib/python3.10/dist-packages (from aiohttp->datasets) (1.17.2)\n",
            "Requirement already satisfied: async-timeout<6.0,>=4.0 in /usr/local/lib/python3.10/dist-packages (from aiohttp->datasets) (4.0.3)\n",
            "Requirement already satisfied: typing-extensions>=3.7.4.3 in /usr/local/lib/python3.10/dist-packages (from huggingface-hub>=0.23.0->datasets) (4.12.2)\n",
            "Requirement already satisfied: charset-normalizer<4,>=2 in /usr/local/lib/python3.10/dist-packages (from requests>=2.32.2->datasets) (3.4.0)\n",
            "Requirement already satisfied: idna<4,>=2.5 in /usr/local/lib/python3.10/dist-packages (from requests>=2.32.2->datasets) (3.10)\n",
            "Requirement already satisfied: urllib3<3,>=1.21.1 in /usr/local/lib/python3.10/dist-packages (from requests>=2.32.2->datasets) (2.2.3)\n",
            "Requirement already satisfied: certifi>=2017.4.17 in /usr/local/lib/python3.10/dist-packages (from requests>=2.32.2->datasets) (2024.8.30)\n",
            "Requirement already satisfied: python-dateutil>=2.8.2 in /usr/local/lib/python3.10/dist-packages (from pandas->datasets) (2.8.2)\n",
            "Requirement already satisfied: pytz>=2020.1 in /usr/local/lib/python3.10/dist-packages (from pandas->datasets) (2024.2)\n",
            "Requirement already satisfied: tzdata>=2022.7 in /usr/local/lib/python3.10/dist-packages (from pandas->datasets) (2024.2)\n",
            "Requirement already satisfied: six>=1.5 in /usr/local/lib/python3.10/dist-packages (from python-dateutil>=2.8.2->pandas->datasets) (1.16.0)\n",
            "Downloading datasets-3.1.0-py3-none-any.whl (480 kB)\n",
            "\u001b[2K   \u001b[90m━━━━━━━━━━━━━━━━━━━━━━━━━━━━━━━━━━━━━━━━\u001b[0m \u001b[32m480.6/480.6 kB\u001b[0m \u001b[31m29.4 MB/s\u001b[0m eta \u001b[36m0:00:00\u001b[0m\n",
            "\u001b[?25hDownloading dill-0.3.8-py3-none-any.whl (116 kB)\n",
            "\u001b[2K   \u001b[90m━━━━━━━━━━━━━━━━━━━━━━━━━━━━━━━━━━━━━━━━\u001b[0m \u001b[32m116.3/116.3 kB\u001b[0m \u001b[31m10.9 MB/s\u001b[0m eta \u001b[36m0:00:00\u001b[0m\n",
            "\u001b[?25hDownloading fsspec-2024.9.0-py3-none-any.whl (179 kB)\n",
            "\u001b[2K   \u001b[90m━━━━━━━━━━━━━━━━━━━━━━━━━━━━━━━━━━━━━━━━\u001b[0m \u001b[32m179.3/179.3 kB\u001b[0m \u001b[31m18.1 MB/s\u001b[0m eta \u001b[36m0:00:00\u001b[0m\n",
            "\u001b[?25hDownloading multiprocess-0.70.16-py310-none-any.whl (134 kB)\n",
            "\u001b[2K   \u001b[90m━━━━━━━━━━━━━━━━━━━━━━━━━━━━━━━━━━━━━━━━\u001b[0m \u001b[32m134.8/134.8 kB\u001b[0m \u001b[31m14.3 MB/s\u001b[0m eta \u001b[36m0:00:00\u001b[0m\n",
            "\u001b[?25hDownloading xxhash-3.5.0-cp310-cp310-manylinux_2_17_x86_64.manylinux2014_x86_64.whl (194 kB)\n",
            "\u001b[2K   \u001b[90m━━━━━━━━━━━━━━━━━━━━━━━━━━━━━━━━━━━━━━━━\u001b[0m \u001b[32m194.1/194.1 kB\u001b[0m \u001b[31m18.7 MB/s\u001b[0m eta \u001b[36m0:00:00\u001b[0m\n",
            "\u001b[?25hInstalling collected packages: xxhash, fsspec, dill, multiprocess, datasets\n",
            "  Attempting uninstall: fsspec\n",
            "    Found existing installation: fsspec 2024.10.0\n",
            "    Uninstalling fsspec-2024.10.0:\n",
            "      Successfully uninstalled fsspec-2024.10.0\n",
            "\u001b[31mERROR: pip's dependency resolver does not currently take into account all the packages that are installed. This behaviour is the source of the following dependency conflicts.\n",
            "gcsfs 2024.10.0 requires fsspec==2024.10.0, but you have fsspec 2024.9.0 which is incompatible.\u001b[0m\u001b[31m\n",
            "\u001b[0mSuccessfully installed datasets-3.1.0 dill-0.3.8 fsspec-2024.9.0 multiprocess-0.70.16 xxhash-3.5.0\n"
          ]
        }
      ]
    },
    {
      "cell_type": "code",
      "execution_count": 2,
      "metadata": {
        "colab": {
          "base_uri": "https://localhost:8080/"
        },
        "id": "9abyRb226kyb",
        "outputId": "45b301bb-f6e9-4e49-ba15-201519bce89a"
      },
      "outputs": [
        {
          "output_type": "stream",
          "name": "stdout",
          "text": [
            "Start Time:  2024-12-03 16:20:56\n"
          ]
        }
      ],
      "source": [
        "#Import packages\n",
        "import torch\n",
        "from torch.utils.data import DataLoader\n",
        "from transformers import AutoTokenizer, AutoModelForTokenClassification, TrainingArguments, Trainer, DataCollatorForTokenClassification\n",
        "from sklearn.metrics import classification_report, precision_recall_fscore_support\n",
        "from collections import Counter\n",
        "import datasets\n",
        "from sklearn.model_selection import train_test_split\n",
        "from sklearn.utils.class_weight import compute_class_weight\n",
        "import pandas as pd\n",
        "import numpy as np\n",
        "import torch.nn as nn\n",
        "import torch.nn.functional as F\n",
        "import gc\n",
        "import re\n",
        "import random\n",
        "from itertools import chain\n",
        "\n",
        "#import wandb\n",
        "# Initialize wandb\n",
        "#wandb.init(project=\"pii-detection\")\n",
        "\n",
        "#Set random seeds for reproducibility\n",
        "def set_seed(seed):\n",
        "    random.seed(seed)\n",
        "    np.random.seed(seed)\n",
        "    torch.manual_seed(seed)\n",
        "    if torch.cuda.is_available():\n",
        "        torch.cuda.manual_seed_all(seed)\n",
        "        torch.backends.cudnn.deterministic = True\n",
        "        torch.backends.cudnn.benchmark = False\n",
        "\n",
        "seed_value = 42\n",
        "set_seed(seed_value)\n",
        "\n",
        "import time\n",
        "# Capture the start time\n",
        "start_time = time.time()\n",
        "print(\"Start Time: \", time.strftime(\"%Y-%m-%d %H:%M:%S\", time.localtime(start_time)))"
      ]
    },
    {
      "cell_type": "code",
      "execution_count": 4,
      "metadata": {
        "colab": {
          "base_uri": "https://localhost:8080/"
        },
        "id": "UXTYPint6kyb",
        "outputId": "6c1ac230-588a-4dfb-ff50-32bfce94e56b"
      },
      "outputs": [
        {
          "output_type": "stream",
          "name": "stdout",
          "text": [
            "GPU: Tesla T4 is available.\n"
          ]
        }
      ],
      "source": [
        "import torch\n",
        "if torch.cuda.is_available():\n",
        "    print(f\"GPU: {torch.cuda.get_device_name(0)} is available.\")\n",
        "else:\n",
        "    print(\"No GPU available. Training will run on CPU.\")"
      ]
    },
    {
      "cell_type": "code",
      "source": [
        "from google.colab import drive\n",
        "drive.mount('/content/drive')"
      ],
      "metadata": {
        "colab": {
          "base_uri": "https://localhost:8080/"
        },
        "id": "wq0FqMI_wdkS",
        "outputId": "e1f67bb6-e244-4a59-aaf6-36e216639415"
      },
      "execution_count": 5,
      "outputs": [
        {
          "output_type": "stream",
          "name": "stdout",
          "text": [
            "Mounted at /content/drive\n"
          ]
        }
      ]
    },
    {
      "cell_type": "markdown",
      "metadata": {
        "id": "5BSJOzS-6kyb"
      },
      "source": [
        "### Load Data\n",
        "Load the training data from the provided JSON file and create a Hugging Face Dataset object. The data is split into training and evaluation sets."
      ]
    },
    {
      "cell_type": "code",
      "source": [
        "from transformers import AutoModel, pipeline\n",
        "from transformers import LongformerTokenizerFast, LongformerForTokenClassification, Trainer, TrainingArguments\n",
        "\n",
        "# Load dataset\n",
        "dataset = datasets.load_dataset('json', data_files='/content/drive/MyDrive/Dataset/pii-detection-removal-from-educational-data/train.json')\n",
        "# Convert to DataFrame and preprocess\n",
        "df = dataset['train'].to_pandas()"
      ],
      "metadata": {
        "id": "jjpDkzw2mIJ7",
        "outputId": "8c5d8114-e746-4898-d0ce-9aa701ac03e3",
        "colab": {
          "base_uri": "https://localhost:8080/",
          "height": 49,
          "referenced_widgets": [
            "93e92bf3e933432d86ae3fc04065ea22",
            "2edd9e027b014aea8c6b58658df1dc73",
            "94376c3a285844dda33a86126dd1f5aa",
            "75d3da19a5184020b11e01e62048f890",
            "e9a87df2325c4c689372900c9dc4f46f",
            "47213a60c23947f0b054c0d23a310a29",
            "706c65f62a3a4ee6815f5fe8706b1955",
            "71886ad6202049dfa5316e0c29328d13",
            "85845254087a4030812a0cf29c7cec10",
            "e39525e32fba4ec8bfa0343bddbf7662",
            "79ec2e0c491240babbb3afd9fdd2170e"
          ]
        }
      },
      "execution_count": 6,
      "outputs": [
        {
          "output_type": "display_data",
          "data": {
            "text/plain": [
              "Generating train split: 0 examples [00:00, ? examples/s]"
            ],
            "application/vnd.jupyter.widget-view+json": {
              "version_major": 2,
              "version_minor": 0,
              "model_id": "93e92bf3e933432d86ae3fc04065ea22"
            }
          },
          "metadata": {}
        }
      ]
    },
    {
      "cell_type": "code",
      "source": [
        "import pandas as pd\n",
        "from sklearn.utils import resample\n",
        "\n",
        "# Flatten labels to calculate class distribution\n",
        "all_labels = [label for labels in df['labels'] for label in labels]\n",
        "label_counts = pd.Series(all_labels).value_counts()\n",
        "print(\"Original Label Distribution:\\n\", label_counts)\n",
        "\n",
        "# Define unique labels\n",
        "unique_labels = set(all_labels)\n",
        "\n",
        "# Define the target number of rows\n",
        "total_rows = 1500\n",
        "target_per_class = total_rows // len(label_counts)\n",
        "\n",
        "# Downsample the 'O' label to reduce dominance\n",
        "majority_class = df[df['labels'].apply(lambda x: 'O' in x)]\n",
        "downsampled_majority = resample(\n",
        "    majority_class,\n",
        "    replace=False,\n",
        "    n_samples=200,  # Limit the 'O' label to a small count\n",
        "    random_state=42\n",
        ")\n",
        "\n",
        "# Upsample rare PII labels to improve representation\n",
        "balanced_data = [downsampled_majority]\n",
        "for label in unique_labels:\n",
        "    if label != 'O':\n",
        "        class_data = df[df['labels'].apply(lambda x: label in x)]\n",
        "        upsampled_data = resample(\n",
        "            class_data,\n",
        "            replace=True,\n",
        "            n_samples=100 if len(class_data) < 100 else len(class_data),\n",
        "            random_state=42\n",
        "        )\n",
        "        balanced_data.append(upsampled_data)\n",
        "\n",
        "# Combine balanced data\n",
        "balanced_df = pd.concat(balanced_data).sample(frac=1, random_state=42).reset_index(drop=True)\n",
        "\n",
        "# Save and inspect\n",
        "#final_balanced_df.to_csv('balanced_pii_dataset.csv', index=False)\n",
        "print(\"Balanced Label Distribution:\")\n",
        "print(pd.Series([label for labels in balanced_df['labels'] for label in labels]).value_counts())\n",
        "print(f\"Total Rows: {len(balanced_df)}\")"
      ],
      "metadata": {
        "id": "ZlRieebXmL-C",
        "outputId": "799f2f63-dca9-4cfa-8d62-dbfd42bf8b81",
        "colab": {
          "base_uri": "https://localhost:8080/"
        }
      },
      "execution_count": 7,
      "outputs": [
        {
          "output_type": "stream",
          "name": "stdout",
          "text": [
            "Original Label Distribution:\n",
            " O                   4989794\n",
            "B-NAME_STUDENT         1365\n",
            "I-NAME_STUDENT         1096\n",
            "B-URL_PERSONAL          110\n",
            "B-ID_NUM                 78\n",
            "B-EMAIL                  39\n",
            "I-STREET_ADDRESS         20\n",
            "I-PHONE_NUM              15\n",
            "B-USERNAME                6\n",
            "B-PHONE_NUM               6\n",
            "B-STREET_ADDRESS          2\n",
            "I-URL_PERSONAL            1\n",
            "I-ID_NUM                  1\n",
            "Name: count, dtype: int64\n",
            "Balanced Label Distribution:\n",
            "O                   2336047\n",
            "B-NAME_STUDENT         3616\n",
            "I-NAME_STUDENT         3306\n",
            "I-STREET_ADDRESS       2340\n",
            "I-PHONE_NUM             891\n",
            "B-URL_PERSONAL          597\n",
            "B-EMAIL                 542\n",
            "B-ID_NUM                486\n",
            "B-PHONE_NUM             419\n",
            "B-STREET_ADDRESS        234\n",
            "B-USERNAME              125\n",
            "I-URL_PERSONAL          104\n",
            "I-ID_NUM                100\n",
            "Name: count, dtype: int64\n",
            "Total Rows: 2905\n"
          ]
        }
      ]
    },
    {
      "cell_type": "code",
      "source": [
        "all_labels = [label for sublist in df['labels'] for label in sublist]\n",
        "unique_labels = list(set(all_labels))\n",
        "id2label = {i: label for i, label in enumerate(unique_labels)}\n",
        "label2id = {label: i for i, label in enumerate(unique_labels)}\n",
        "all_labels = list(label2id.keys())  # Get all unique labels from mapping\n",
        "num_labels = len(all_labels)  # Update the num_labels\n",
        "\n"
      ],
      "metadata": {
        "id": "3yB74SEOmQI6"
      },
      "execution_count": 8,
      "outputs": []
    },
    {
      "cell_type": "code",
      "execution_count": 10,
      "metadata": {
        "id": "-KJK375F6kyc",
        "outputId": "97cec4ed-f652-4ded-c27a-bf627608e0a5",
        "colab": {
          "base_uri": "https://localhost:8080/"
        }
      },
      "outputs": [
        {
          "output_type": "stream",
          "name": "stderr",
          "text": [
            "All TF 2.0 model weights were used when initializing LongformerForTokenClassification.\n",
            "\n",
            "All the weights of LongformerForTokenClassification were initialized from the TF 2.0 model.\n",
            "If your task is similar to the task the model of the checkpoint was trained on, you can already use LongformerForTokenClassification for predictions without further training.\n"
          ]
        },
        {
          "output_type": "stream",
          "name": "stdout",
          "text": [
            "cuda\n"
          ]
        }
      ],
      "source": [
        "\n",
        "# Tokenizer and Model\n",
        "tokenizer = LongformerTokenizerFast.from_pretrained(\"allenai/longformer-base-4096\", add_prefix_space=True)\n",
        "model = LongformerForTokenClassification.from_pretrained(\"allenai/longformer-base-4096\",from_flax=True,from_tf=True, num_labels=num_labels, id2label=id2label, label2id=label2id)\n",
        "device = torch.device(\"cuda\" if torch.cuda.is_available() else \"cpu\")\n",
        "print(device)\n",
        "model.to(device)\n",
        "\n",
        "# Take the first 1500 rows\n",
        "df = df.iloc[:1500]\n",
        "\n",
        "# Split Dataset\n",
        "train_df, test_df = train_test_split(df, test_size=0.2, random_state=42)\n",
        "train_dataset = datasets.Dataset.from_pandas(train_df)\n",
        "test_dataset = datasets.Dataset.from_pandas(test_df)\n",
        "dataset_dict = datasets.DatasetDict({'train': train_dataset, 'test': test_dataset})"
      ]
    },
    {
      "cell_type": "markdown",
      "metadata": {
        "id": "2Vtm3u5I6kyd"
      },
      "source": [
        "### Data Exploration\n",
        "\n",
        "The dataset has four columns, 'document', 'tokens', 'labels', and 'trailing_whitespace'. Pandas can be used to visualize the dataset and get a better understanding of the structure."
      ]
    },
    {
      "cell_type": "code",
      "execution_count": 11,
      "metadata": {
        "id": "AYE5ULzK6kyd",
        "outputId": "6b004bae-33e7-432b-efb0-ba336ac8257b",
        "colab": {
          "base_uri": "https://localhost:8080/"
        }
      },
      "outputs": [
        {
          "output_type": "stream",
          "name": "stdout",
          "text": [
            "Dataset length 1\n"
          ]
        },
        {
          "output_type": "execute_result",
          "data": {
            "text/plain": [
              "DatasetDict({\n",
              "    train: Dataset({\n",
              "        features: ['document', 'full_text', 'tokens', 'trailing_whitespace', 'labels'],\n",
              "        num_rows: 6807\n",
              "    })\n",
              "})"
            ]
          },
          "metadata": {},
          "execution_count": 11
        }
      ],
      "source": [
        "print('Dataset length', len(dataset))\n",
        "dataset"
      ]
    },
    {
      "cell_type": "code",
      "execution_count": 12,
      "metadata": {
        "id": "j4l4iess6kyd",
        "outputId": "9eb2cd88-2b63-4ee4-e5c6-5241061dd407",
        "colab": {
          "base_uri": "https://localhost:8080/",
          "height": 293
        }
      },
      "outputs": [
        {
          "output_type": "execute_result",
          "data": {
            "text/plain": [
              "   document                                          full_text  \\\n",
              "0         7  Design Thinking for innovation reflexion-Avril...   \n",
              "1        10  Diego Estrada\\n\\nDesign Thinking Assignment\\n\\...   \n",
              "2        16  Reporting process\\n\\nby Gilberto Gamboa\\n\\nCha...   \n",
              "3        20  Design Thinking for Innovation\\n\\nSindy Samaca...   \n",
              "4        56  Assignment:  Visualization Reflection  Submitt...   \n",
              "\n",
              "                                              tokens  \\\n",
              "0  [Design, Thinking, for, innovation, reflexion,...   \n",
              "1  [Diego, Estrada, \\n\\n, Design, Thinking, Assig...   \n",
              "2  [Reporting, process, \\n\\n, by, Gilberto, Gambo...   \n",
              "3  [Design, Thinking, for, Innovation, \\n\\n, Sind...   \n",
              "4  [Assignment, :,   , Visualization,  , Reflecti...   \n",
              "\n",
              "                                 trailing_whitespace  \\\n",
              "0  [True, True, True, True, False, False, True, F...   \n",
              "1  [True, False, False, True, True, False, False,...   \n",
              "2  [True, False, False, True, True, False, False,...   \n",
              "3  [True, True, True, False, False, True, False, ...   \n",
              "4  [False, False, False, False, False, False, Fal...   \n",
              "\n",
              "                                              labels  \n",
              "0  [O, O, O, O, O, O, O, O, O, B-NAME_STUDENT, I-...  \n",
              "1  [B-NAME_STUDENT, I-NAME_STUDENT, O, O, O, O, O...  \n",
              "2  [O, O, O, O, B-NAME_STUDENT, I-NAME_STUDENT, O...  \n",
              "3  [O, O, O, O, O, B-NAME_STUDENT, I-NAME_STUDENT...  \n",
              "4  [O, O, O, O, O, O, O, O, O, O, O, O, B-NAME_ST...  "
            ],
            "text/html": [
              "\n",
              "  <div id=\"df-7a24caf8-c6cc-40c2-bf94-6a1974c638e3\" class=\"colab-df-container\">\n",
              "    <div>\n",
              "<style scoped>\n",
              "    .dataframe tbody tr th:only-of-type {\n",
              "        vertical-align: middle;\n",
              "    }\n",
              "\n",
              "    .dataframe tbody tr th {\n",
              "        vertical-align: top;\n",
              "    }\n",
              "\n",
              "    .dataframe thead th {\n",
              "        text-align: right;\n",
              "    }\n",
              "</style>\n",
              "<table border=\"1\" class=\"dataframe\">\n",
              "  <thead>\n",
              "    <tr style=\"text-align: right;\">\n",
              "      <th></th>\n",
              "      <th>document</th>\n",
              "      <th>full_text</th>\n",
              "      <th>tokens</th>\n",
              "      <th>trailing_whitespace</th>\n",
              "      <th>labels</th>\n",
              "    </tr>\n",
              "  </thead>\n",
              "  <tbody>\n",
              "    <tr>\n",
              "      <th>0</th>\n",
              "      <td>7</td>\n",
              "      <td>Design Thinking for innovation reflexion-Avril...</td>\n",
              "      <td>[Design, Thinking, for, innovation, reflexion,...</td>\n",
              "      <td>[True, True, True, True, False, False, True, F...</td>\n",
              "      <td>[O, O, O, O, O, O, O, O, O, B-NAME_STUDENT, I-...</td>\n",
              "    </tr>\n",
              "    <tr>\n",
              "      <th>1</th>\n",
              "      <td>10</td>\n",
              "      <td>Diego Estrada\\n\\nDesign Thinking Assignment\\n\\...</td>\n",
              "      <td>[Diego, Estrada, \\n\\n, Design, Thinking, Assig...</td>\n",
              "      <td>[True, False, False, True, True, False, False,...</td>\n",
              "      <td>[B-NAME_STUDENT, I-NAME_STUDENT, O, O, O, O, O...</td>\n",
              "    </tr>\n",
              "    <tr>\n",
              "      <th>2</th>\n",
              "      <td>16</td>\n",
              "      <td>Reporting process\\n\\nby Gilberto Gamboa\\n\\nCha...</td>\n",
              "      <td>[Reporting, process, \\n\\n, by, Gilberto, Gambo...</td>\n",
              "      <td>[True, False, False, True, True, False, False,...</td>\n",
              "      <td>[O, O, O, O, B-NAME_STUDENT, I-NAME_STUDENT, O...</td>\n",
              "    </tr>\n",
              "    <tr>\n",
              "      <th>3</th>\n",
              "      <td>20</td>\n",
              "      <td>Design Thinking for Innovation\\n\\nSindy Samaca...</td>\n",
              "      <td>[Design, Thinking, for, Innovation, \\n\\n, Sind...</td>\n",
              "      <td>[True, True, True, False, False, True, False, ...</td>\n",
              "      <td>[O, O, O, O, O, B-NAME_STUDENT, I-NAME_STUDENT...</td>\n",
              "    </tr>\n",
              "    <tr>\n",
              "      <th>4</th>\n",
              "      <td>56</td>\n",
              "      <td>Assignment:  Visualization Reflection  Submitt...</td>\n",
              "      <td>[Assignment, :,   , Visualization,  , Reflecti...</td>\n",
              "      <td>[False, False, False, False, False, False, Fal...</td>\n",
              "      <td>[O, O, O, O, O, O, O, O, O, O, O, O, B-NAME_ST...</td>\n",
              "    </tr>\n",
              "  </tbody>\n",
              "</table>\n",
              "</div>\n",
              "    <div class=\"colab-df-buttons\">\n",
              "\n",
              "  <div class=\"colab-df-container\">\n",
              "    <button class=\"colab-df-convert\" onclick=\"convertToInteractive('df-7a24caf8-c6cc-40c2-bf94-6a1974c638e3')\"\n",
              "            title=\"Convert this dataframe to an interactive table.\"\n",
              "            style=\"display:none;\">\n",
              "\n",
              "  <svg xmlns=\"http://www.w3.org/2000/svg\" height=\"24px\" viewBox=\"0 -960 960 960\">\n",
              "    <path d=\"M120-120v-720h720v720H120Zm60-500h600v-160H180v160Zm220 220h160v-160H400v160Zm0 220h160v-160H400v160ZM180-400h160v-160H180v160Zm440 0h160v-160H620v160ZM180-180h160v-160H180v160Zm440 0h160v-160H620v160Z\"/>\n",
              "  </svg>\n",
              "    </button>\n",
              "\n",
              "  <style>\n",
              "    .colab-df-container {\n",
              "      display:flex;\n",
              "      gap: 12px;\n",
              "    }\n",
              "\n",
              "    .colab-df-convert {\n",
              "      background-color: #E8F0FE;\n",
              "      border: none;\n",
              "      border-radius: 50%;\n",
              "      cursor: pointer;\n",
              "      display: none;\n",
              "      fill: #1967D2;\n",
              "      height: 32px;\n",
              "      padding: 0 0 0 0;\n",
              "      width: 32px;\n",
              "    }\n",
              "\n",
              "    .colab-df-convert:hover {\n",
              "      background-color: #E2EBFA;\n",
              "      box-shadow: 0px 1px 2px rgba(60, 64, 67, 0.3), 0px 1px 3px 1px rgba(60, 64, 67, 0.15);\n",
              "      fill: #174EA6;\n",
              "    }\n",
              "\n",
              "    .colab-df-buttons div {\n",
              "      margin-bottom: 4px;\n",
              "    }\n",
              "\n",
              "    [theme=dark] .colab-df-convert {\n",
              "      background-color: #3B4455;\n",
              "      fill: #D2E3FC;\n",
              "    }\n",
              "\n",
              "    [theme=dark] .colab-df-convert:hover {\n",
              "      background-color: #434B5C;\n",
              "      box-shadow: 0px 1px 3px 1px rgba(0, 0, 0, 0.15);\n",
              "      filter: drop-shadow(0px 1px 2px rgba(0, 0, 0, 0.3));\n",
              "      fill: #FFFFFF;\n",
              "    }\n",
              "  </style>\n",
              "\n",
              "    <script>\n",
              "      const buttonEl =\n",
              "        document.querySelector('#df-7a24caf8-c6cc-40c2-bf94-6a1974c638e3 button.colab-df-convert');\n",
              "      buttonEl.style.display =\n",
              "        google.colab.kernel.accessAllowed ? 'block' : 'none';\n",
              "\n",
              "      async function convertToInteractive(key) {\n",
              "        const element = document.querySelector('#df-7a24caf8-c6cc-40c2-bf94-6a1974c638e3');\n",
              "        const dataTable =\n",
              "          await google.colab.kernel.invokeFunction('convertToInteractive',\n",
              "                                                    [key], {});\n",
              "        if (!dataTable) return;\n",
              "\n",
              "        const docLinkHtml = 'Like what you see? Visit the ' +\n",
              "          '<a target=\"_blank\" href=https://colab.research.google.com/notebooks/data_table.ipynb>data table notebook</a>'\n",
              "          + ' to learn more about interactive tables.';\n",
              "        element.innerHTML = '';\n",
              "        dataTable['output_type'] = 'display_data';\n",
              "        await google.colab.output.renderOutput(dataTable, element);\n",
              "        const docLink = document.createElement('div');\n",
              "        docLink.innerHTML = docLinkHtml;\n",
              "        element.appendChild(docLink);\n",
              "      }\n",
              "    </script>\n",
              "  </div>\n",
              "\n",
              "\n",
              "<div id=\"df-ca540b88-f5ab-49ff-9828-1bc5bd2725ed\">\n",
              "  <button class=\"colab-df-quickchart\" onclick=\"quickchart('df-ca540b88-f5ab-49ff-9828-1bc5bd2725ed')\"\n",
              "            title=\"Suggest charts\"\n",
              "            style=\"display:none;\">\n",
              "\n",
              "<svg xmlns=\"http://www.w3.org/2000/svg\" height=\"24px\"viewBox=\"0 0 24 24\"\n",
              "     width=\"24px\">\n",
              "    <g>\n",
              "        <path d=\"M19 3H5c-1.1 0-2 .9-2 2v14c0 1.1.9 2 2 2h14c1.1 0 2-.9 2-2V5c0-1.1-.9-2-2-2zM9 17H7v-7h2v7zm4 0h-2V7h2v10zm4 0h-2v-4h2v4z\"/>\n",
              "    </g>\n",
              "</svg>\n",
              "  </button>\n",
              "\n",
              "<style>\n",
              "  .colab-df-quickchart {\n",
              "      --bg-color: #E8F0FE;\n",
              "      --fill-color: #1967D2;\n",
              "      --hover-bg-color: #E2EBFA;\n",
              "      --hover-fill-color: #174EA6;\n",
              "      --disabled-fill-color: #AAA;\n",
              "      --disabled-bg-color: #DDD;\n",
              "  }\n",
              "\n",
              "  [theme=dark] .colab-df-quickchart {\n",
              "      --bg-color: #3B4455;\n",
              "      --fill-color: #D2E3FC;\n",
              "      --hover-bg-color: #434B5C;\n",
              "      --hover-fill-color: #FFFFFF;\n",
              "      --disabled-bg-color: #3B4455;\n",
              "      --disabled-fill-color: #666;\n",
              "  }\n",
              "\n",
              "  .colab-df-quickchart {\n",
              "    background-color: var(--bg-color);\n",
              "    border: none;\n",
              "    border-radius: 50%;\n",
              "    cursor: pointer;\n",
              "    display: none;\n",
              "    fill: var(--fill-color);\n",
              "    height: 32px;\n",
              "    padding: 0;\n",
              "    width: 32px;\n",
              "  }\n",
              "\n",
              "  .colab-df-quickchart:hover {\n",
              "    background-color: var(--hover-bg-color);\n",
              "    box-shadow: 0 1px 2px rgba(60, 64, 67, 0.3), 0 1px 3px 1px rgba(60, 64, 67, 0.15);\n",
              "    fill: var(--button-hover-fill-color);\n",
              "  }\n",
              "\n",
              "  .colab-df-quickchart-complete:disabled,\n",
              "  .colab-df-quickchart-complete:disabled:hover {\n",
              "    background-color: var(--disabled-bg-color);\n",
              "    fill: var(--disabled-fill-color);\n",
              "    box-shadow: none;\n",
              "  }\n",
              "\n",
              "  .colab-df-spinner {\n",
              "    border: 2px solid var(--fill-color);\n",
              "    border-color: transparent;\n",
              "    border-bottom-color: var(--fill-color);\n",
              "    animation:\n",
              "      spin 1s steps(1) infinite;\n",
              "  }\n",
              "\n",
              "  @keyframes spin {\n",
              "    0% {\n",
              "      border-color: transparent;\n",
              "      border-bottom-color: var(--fill-color);\n",
              "      border-left-color: var(--fill-color);\n",
              "    }\n",
              "    20% {\n",
              "      border-color: transparent;\n",
              "      border-left-color: var(--fill-color);\n",
              "      border-top-color: var(--fill-color);\n",
              "    }\n",
              "    30% {\n",
              "      border-color: transparent;\n",
              "      border-left-color: var(--fill-color);\n",
              "      border-top-color: var(--fill-color);\n",
              "      border-right-color: var(--fill-color);\n",
              "    }\n",
              "    40% {\n",
              "      border-color: transparent;\n",
              "      border-right-color: var(--fill-color);\n",
              "      border-top-color: var(--fill-color);\n",
              "    }\n",
              "    60% {\n",
              "      border-color: transparent;\n",
              "      border-right-color: var(--fill-color);\n",
              "    }\n",
              "    80% {\n",
              "      border-color: transparent;\n",
              "      border-right-color: var(--fill-color);\n",
              "      border-bottom-color: var(--fill-color);\n",
              "    }\n",
              "    90% {\n",
              "      border-color: transparent;\n",
              "      border-bottom-color: var(--fill-color);\n",
              "    }\n",
              "  }\n",
              "</style>\n",
              "\n",
              "  <script>\n",
              "    async function quickchart(key) {\n",
              "      const quickchartButtonEl =\n",
              "        document.querySelector('#' + key + ' button');\n",
              "      quickchartButtonEl.disabled = true;  // To prevent multiple clicks.\n",
              "      quickchartButtonEl.classList.add('colab-df-spinner');\n",
              "      try {\n",
              "        const charts = await google.colab.kernel.invokeFunction(\n",
              "            'suggestCharts', [key], {});\n",
              "      } catch (error) {\n",
              "        console.error('Error during call to suggestCharts:', error);\n",
              "      }\n",
              "      quickchartButtonEl.classList.remove('colab-df-spinner');\n",
              "      quickchartButtonEl.classList.add('colab-df-quickchart-complete');\n",
              "    }\n",
              "    (() => {\n",
              "      let quickchartButtonEl =\n",
              "        document.querySelector('#df-ca540b88-f5ab-49ff-9828-1bc5bd2725ed button');\n",
              "      quickchartButtonEl.style.display =\n",
              "        google.colab.kernel.accessAllowed ? 'block' : 'none';\n",
              "    })();\n",
              "  </script>\n",
              "</div>\n",
              "\n",
              "    </div>\n",
              "  </div>\n"
            ],
            "application/vnd.google.colaboratory.intrinsic+json": {
              "type": "dataframe",
              "variable_name": "df",
              "summary": "{\n  \"name\": \"df\",\n  \"rows\": 6807,\n  \"fields\": [\n    {\n      \"column\": \"document\",\n      \"properties\": {\n        \"dtype\": \"number\",\n        \"std\": 4920,\n        \"min\": 7,\n        \"max\": 22687,\n        \"num_unique_values\": 6807,\n        \"samples\": [\n          17809,\n          11144,\n          16158\n        ],\n        \"semantic_type\": \"\",\n        \"description\": \"\"\n      }\n    },\n    {\n      \"column\": \"full_text\",\n      \"properties\": {\n        \"dtype\": \"string\",\n        \"num_unique_values\": 6807,\n        \"samples\": [\n          \"Assignment: Mindmapping\\n\\nChallenge\\n\\nThe challenge was to develop a three-view mechanism for my class this semester, it was\\n\\ntogether with my team to find a solution to this problem, which was intended to transmit\\n\\nthree messages in an advertisement.\\n\\nSelection\\n\\nI chose the Mindmapping tool because that tool was taught to me in my class this semester\\n\\nand it was very useful to apply it to this problem since Mindmapping gives you the\\n\\nopportunity to be more organized in terms of your ideas and fundamentals that are\\n\\nconnected between yes. Also, it is important to say that this tool is developed throughout\\n\\nthe project, in the beginning, in the development and when we had everything clearer and\\n\\nat the end to know the organization that should be carried out and the order.\\n\\nApplication\\n\\nAs I mentioned before, I applied this tool in my project due to the order that it takes, at the\\n\\ntime of making the prototype of the project, a mindmap was made about what materials\\n\\nwas going to be used, how it was going to work, all that brainstorming was useful organize\\n\\nit in a mindmap to carry out the project. Also at the time of developing the poster, a\\n\\nmindmap was made of how each section should be organized and what information each\\n\\none should carry, in this way the mindmap tool was applied and it was possible to have a\\n\\nvery striking poster.\\n\\nInsight\\n\\nThe insight that I gained was very great, since in my other projects I had not used the\\n\\nmindmapping tool because I did not consider it useful, but at the time of applying the design\\n\\nthinking with the mindmapping tool and the knowledge acquired it was possible to carry\\n\\nout the project and obtain a perfect grade, appropriate to what the problem presented\\n\\nApproach\\n\\nNow that I have discovered the benefit of using the mindmapping tool, I think that what I\\n\\nwould do differently would be to make the most striking mindmaps because some\\n\\ncontained too much information that it was difficult to synthesize what the problem of the\\n\\nproject asked me to do.\\n\\n\",\n          \"Reflection \\u2013 Learning Launch\\n\\nPaola Garcia\\n\\nChallenge\\n\\nIn the financial services industry, the strategies developed to manage lending portfolios are developed  through data analysis of past performance.  In the collections environment, analytics and traditional  methods to contact customers (phone, letters and email) are the norm.  As the number of missed  payments on an account increases, the ability to reach customers decreases.   The result is higher  delinquency rates, increase expense and customer complaints.\\n\\nA project was launched to determine how these measures could be improved.  A small team was formed  which included people from various departments including Analytics, Operations, Finance, Marketing to  name a few.   A recommendation was made to utilize design thinking.  Working with our Marketing  Research team several tools were utilized to understand our customer needs and develop some ideas to  test.  To address the needs of a specific persona, Customers who felt uncomfortable discussing their  situation and felt the people they spoke to on the phone lacked empathy, the idea of a collections  website was developed.\\n\\nSelection\\n\\nThe team chose the learning launch to test a collections website.   The learning launch allows for a fast  and inexpensive way to run an experiment to learn.   This was facilitated by the ability to utilize an  outsourced model.  The website functionality was already developed by a vendor and provided the  minimum viable product which met the design criteria.     The learning launch provided the data needed  to determine whether the idea was good or bad.\\n\\nApplication\\n\\nThe team developed a detailed plan to launch the experiment including customer segments,  communication methods, measurements, and customer feedback surveys.  The website launched on  time and tested for 90 days.   The results provided significant data that the idea worked as well as new  insights to improve the website and other internal processes.\\n\\nInsight\\n\\nThe learning launch enabled the team to develop and test quickly where there was not past data and  could potentially be a better approach that the traditional methods used.  In addition, it provided a lot  of customer feedback that changed the existing strategies (phone, letters, email) and enhancements to  the company website.  Ongoing use of the website has Increased  collection rates and decreased   expenses and complaints.\\n\\nApproach\\n\\nThe learning launch was the best approach since we had the ability to launch quickly.  Had there not  been an existing vendor with the necessary tool, another approach would have been necessary as  prioritization of technology builds can often take significant time.\\n\\n\",\n          \"Visualisation\\n\\nChallenge & Selection\\n\\nThe challenge I've chosen to work on is women's safety. I'd be doing a design intervention to design a  product/ system that makes women feel and be safe, especially at dark, isolated places.\\n\\nI chose the Visualisation tool to help me go through the steps of user research, empathy mapping,  ideation, and prototyping because it helps me to convey my vision as well as decipher more accurately  what the other person(user) is actually conveying- their pain points, fears, needs, desires, etc.\\n\\nApplication\\n\\nI made a compilation of several images, some from the internet, some from horror or crime movie  scenes, and tried to pinpoint the exact type and level of fear women face while roaming isolated places  alone. I prepared a questionnaire in which I included these photos.\\n\\nLater I did Ideation Sketches, made some rendered concepts, and at a later stage even 3D prototype and  did a survey where these sketches and images were shared. It helped me gain a proper understanding  whether the users thought it'd be helpful or not.\\n\\nFinally, my product poster was designed more visually with more pictures than text, to illicit the emotion  of safety against usual uncertainty and fear, when one uses the service I designed.\\n\\nInsight and Approach\\n\\nWhile I used the Visualisation tool earlier, I used to restrict it to convey my ideas only in the Concept and  Prototyping phases. But this time, I used it even in my initial User Research and Poster Design of the  Final concept. I gained some very precise understanding of what emotions would the users feel in a real  situation and of what types and also to what levels. All this was possible due to the accuracy of the  visual element.\\n\\nMore importantly, I noticed that after the Final Design was made and piloted, it was much more  convenient and efficient conveying it's usage and purpose to the users when I used visuals like  photographs, sketches along with storyboards as to how to use the service.\\n\\nI'd definitely use this Visualisation tool more extensively and creatively in my future projects as its very  efficient and effective. It removes the chance of any ambiguity in communication between me and all  stakeholders, namely users, design heads, design team, investors and sales and marketing team.\\n\\n\"\n        ],\n        \"semantic_type\": \"\",\n        \"description\": \"\"\n      }\n    },\n    {\n      \"column\": \"tokens\",\n      \"properties\": {\n        \"dtype\": \"object\",\n        \"semantic_type\": \"\",\n        \"description\": \"\"\n      }\n    },\n    {\n      \"column\": \"trailing_whitespace\",\n      \"properties\": {\n        \"dtype\": \"object\",\n        \"semantic_type\": \"\",\n        \"description\": \"\"\n      }\n    },\n    {\n      \"column\": \"labels\",\n      \"properties\": {\n        \"dtype\": \"object\",\n        \"semantic_type\": \"\",\n        \"description\": \"\"\n      }\n    }\n  ]\n}"
            }
          },
          "metadata": {},
          "execution_count": 12
        }
      ],
      "source": [
        "df = pd.read_json('/content/drive/MyDrive/Dataset/pii-detection-removal-from-educational-data/train.json')\n",
        "df.head()"
      ]
    },
    {
      "cell_type": "markdown",
      "metadata": {
        "id": "XYYYFhak6kye"
      },
      "source": [
        "The pandas data frame produces a better visualization of the structure of the JSON file. Each row represents an essay written by a student. There are 6807 Rows in the data frame, each row representing a student essay. The column 'full text' contains the full essay. The 'Tokens' column contains the text separated by tokens. The trailing white space column is a list of placeholders indicating if a token contains a trailing white space. Finally, the labels column represents a label for each token. Each token is as one of our desired categories of PII, or 'O' if the token does not belong to PII a category.\n",
        "\n",
        "We can view the first full essay as an example. A function 'format_text' is used to make the document more readable for humans."
      ]
    },
    {
      "cell_type": "code",
      "execution_count": 13,
      "metadata": {
        "id": "oPaxFF5O6kye",
        "outputId": "83e65b8e-8a43-463d-86ea-50ab62406323",
        "colab": {
          "base_uri": "https://localhost:8080/"
        }
      },
      "outputs": [
        {
          "output_type": "stream",
          "name": "stdout",
          "text": [
            "Design Thinking for innovation reflexion-Avril 2021-Nathalie Sylla\n",
            "<p>\n",
            "Challenge & selection\n",
            "<p>\n",
            "The tool I use to help all stakeholders finding their way through the complexity of a project is the  mind map.\n",
            "<p>\n",
            "What exactly is a mind map? According to the definition of Buzan T. and Buzan B. (1999, Dessine-moi  l'intelligence. Paris: Les Éditions d'Organisation.), the mind map (or heuristic diagram) is a graphic  representation technique that follows the natural functioning of the mind and allows the brain's  potential to be released. Cf Annex1\n",
            "<p>\n",
            "This tool has many advantages:\n",
            "<p>\n",
            "-  It is accessible to all and does not require significant material investment and can be done  quickly\n",
            "<p>\n",
            "-  It is scalable\n",
            "<p>\n",
            "-  It allows categorization and linking of information\n",
            "<p>\n",
            "-  It can be applied to any type of situation: notetaking, problem solving, analysis, creation of  new ideas\n",
            "<p>\n",
            "-  It is suitable for all people and is easy to learn\n",
            "<p>\n",
            "-  It is fun and encourages exchanges\n",
            "<p>\n",
            "-  It makes visible the dimension of projects, opportunities, interconnections\n",
            "<p>\n",
            "-  It synthesizes\n",
            "<p>\n",
            "-  It makes the project understandable\n",
            "<p>\n",
            "-  It allows you to explore ideas\n",
            "<p>\n",
            "The creation of a mind map starts with an idea/problem located at its center. This starting point  generates ideas/work areas, incremented around this center in a radial structure, which in turn is  completed with as many branches as new ideas.\n",
            "<p>\n",
            "This tool enables creativity and logic to be mobilized, it is a map of the thoughts.\n",
            "<p>\n",
            "Creativity is enhanced because participants feel comfortable with the method.\n",
            "<p>\n",
            "Application & Insight\n",
            "<p>\n",
            "I start the process of the mind map creation with the stakeholders standing around a large board  (white or paper board). In the center of the board, I write and highlight the topic to design.\n",
            "<p>\n",
            "Through a series of questions, I guide the stakeholders in modelling the mind map. I adapt the series  of questions according to the topic to be addressed. In the type of questions, we can use: who, what,  when, where, why, how, how much.\n",
            "<p>\n",
            "The use of the “why” is very interesting to understand the origin. By this way, the interviewed person  frees itself from paradigms and thus dares to propose new ideas / ways of functioning. I plan two  hours for a workshop.\n",
            "<p>\n",
            "Design Thinking for innovation reflexion-Avril 2021-Nathalie Sylla\n",
            "<p>\n",
            "After modelling the mind map on paper, I propose to the participants a digital visualization of their  work with the addition of color codes, images and interconnections. This second workshop also lasts  two hours and allows the mind map to evolve. Once familiarized with it, the stakeholders discover  the power of the tool. Then, the second workshop brings out even more ideas and constructive  exchanges between the stakeholders. Around this new mind map, they have learned to work  together and want to make visible the untold ideas.\n",
            "<p>\n",
            "I now present all the projects I manage in this type of format in order to ease rapid understanding for  decision-makers. These presentations are the core of my business models. The decision-makers are  thus able to identify the opportunities of the projects and can take quick decisions to validate them.  They find answers to their questions thank to a schematic representation.\n",
            "<p>\n",
            "Approach\n",
            "<p>\n",
            "What I find amazing with the facilitation of this type of workshop is the participants commitment for  the project. This tool helps to give meaning. The participants appropriate the story and want to keep  writing it. Then, they easily become actors or sponsors of the project. A trust relationship is built,  thus facilitating the implementation of related actions.\n",
            "<p>\n",
            "Design Thinking for innovation reflexion-Avril 2021-Nathalie Sylla\n",
            "<p>\n",
            "Annex 1: Mind Map Shared facilities project\n",
            "<p>\n",
            "\n"
          ]
        }
      ],
      "source": [
        "def format_text(text):\n",
        "    # Add paragraph breaks\n",
        "    formatted_text = text.replace('\\n\\n', '\\n\\n<p>\\n\\n')\n",
        "\n",
        "    # Add bullet points to list items\n",
        "    formatted_text = re.sub(r'•\\s', '\\n- ', formatted_text)\n",
        "\n",
        "    # Handle remaining single newlines\n",
        "    formatted_text = re.sub(r'(?<!\\n)\\n(?!\\n)', ' ', formatted_text)\n",
        "\n",
        "    # Remove leading and trailing spaces\n",
        "    formatted_text = re.sub(r'\\s+\\n', '\\n', formatted_text)\n",
        "    formatted_text = re.sub(r'\\n\\s+', '\\n', formatted_text)\n",
        "\n",
        "    return formatted_text\n",
        "\n",
        "# Example usage\n",
        "raw_text = df['full_text'][0]\n",
        "\n",
        "print(format_text(raw_text))"
      ]
    },
    {
      "cell_type": "markdown",
      "metadata": {
        "id": "DdOsQHUO6kyf"
      },
      "source": [
        "#### Distribution of the unique labels."
      ]
    },
    {
      "cell_type": "code",
      "execution_count": 14,
      "metadata": {
        "id": "nfVxezsi6kyf",
        "outputId": "6d8b66f2-6ff4-4ef0-f669-7a00b3b3fbb9",
        "colab": {
          "base_uri": "https://localhost:8080/"
        }
      },
      "outputs": [
        {
          "output_type": "stream",
          "name": "stdout",
          "text": [
            "Label: B-NAME_STUDENT, Frequency: 827\n",
            "Label: I-NAME_STUDENT, Frequency: 685\n",
            "Label: O, Frequency: 916787\n",
            "Label: B-EMAIL, Frequency: 22\n",
            "Label: B-URL_PERSONAL, Frequency: 60\n",
            "Label: B-ID_NUM, Frequency: 29\n",
            "Label: B-USERNAME, Frequency: 6\n",
            "Label: B-STREET_ADDRESS, Frequency: 1\n",
            "Label: I-STREET_ADDRESS, Frequency: 10\n",
            "Label: B-PHONE_NUM, Frequency: 3\n",
            "Label: I-PHONE_NUM, Frequency: 6\n",
            "Label: I-URL_PERSONAL, Frequency: 1\n"
          ]
        }
      ],
      "source": [
        "# Count the frequency of each label in the 'train' dataset\n",
        "label_freq = Counter(chain(*train_dataset['labels']))\n",
        "\n",
        "# Display the frequency of each label\n",
        "for label, freq in label_freq.items():\n",
        "    print(f\"Label: {label}, Frequency: {freq}\")"
      ]
    },
    {
      "cell_type": "markdown",
      "metadata": {
        "id": "ZnVXLUI-6kyf"
      },
      "source": [
        "The data set is heavily distributed with tokens that do not belong to a PII category (ie 'O' labels). We will use a focal loss and class weights with our model to help with this class imbalance. This will help ensure our model does not simply predict all 'O's' given the large distribution of those labels."
      ]
    },
    {
      "cell_type": "markdown",
      "metadata": {
        "id": "u8bQgIJT6kyf"
      },
      "source": [
        "\n",
        "\n",
        "#### Tokenization and Alignment of Labels\n",
        "Explanations of the unique labels in the data set are below. These are the desired PII categories we seek to identify in the student essays. Note the tokens are split using a 'piece wise' tokenizer format.\n",
        "\n",
        "##### Explanation of Labels:\n",
        "\n",
        "B-EMAIL: Beginning of an email address.\n",
        "B-ID_NUM: Beginning of an identification number.\n",
        "B-NAME_STUDENT: Beginning of a student's name.\n",
        "B-PHONE_NUM: Beginning of a phone number.\n",
        "B-STREET_ADDRESS: Beginning of a street address.\n",
        "B-URL_PERSONAL: Beginning of a personal URL.\n",
        "B-USERNAME: Beginning of a username.\n",
        "I-ID_NUM: Inside an identification number.\n",
        "I-NAME_STUDENT: Inside a student's name.\n",
        "I-PHONE_NUM: Inside a phone number.\n",
        "I-STREET_ADDRESS: Inside a street address.\n",
        "I-URL_PERSONAL: Inside a personal URL.\n",
        "O: Outside of any named entity.\n",
        "\n",
        "DeBERTa (Decoding-enhanced BERT with disentangled attention) improves the BERT and RoBERTa models using two novel techniques. The first is the disentangled attention mechanism, where each word is represented using two vectors that encode its content and position, respectively, and the attention weights among words are computed using disentangled matrices on their contents and relative positions. Second, an enhanced mask decoder is used to replace the output softmax layer to predict the masked tokens for model pretraining. We show that these two techniques significantly improve the efficiency of model pre-training and performance of downstream tasks.\n",
        "\n",
        "##### Piecewise Tokenization:\n",
        "\n",
        "The DeBERTa model uses a 'piecewise' tokenizer. This type of tokenizer breaks down text into smaller subword units, which is useful for handling rare words and morphological variations. It ensures that even if a word is not in the vocabulary, the tokenizer can still represent it using smaller known subword units.\n",
        "\n",
        "##### Tokenization Process:\n",
        "\n",
        "Token Splitting: The text is split into tokens based on whitespace and punctuation.\n",
        "\n",
        "Subword Tokenization: Each token is further split into subwords. For example, the word \"unhappiness\" might be split into \"un\", \"happi\", and \"ness\".\n",
        "\n",
        "Label Alignment: Labels are aligned with the subword tokens. If a token is split into multiple subwords, the label for the original token is assigned to the first subword, and a special label (typically -100) is assigned to the subsequent subwords.\n",
        "Here's an example of how a token and its label might be split and aligned:\n",
        "\n",
        "Original token: \"unhappiness\" (Label: B-EMOTION) Subword tokens: [\"un\", \"happi\", \"ness\"] Aligned labels: [B-EMOTION, -100, -100]\n",
        "\n",
        "The alignment ensures that the model learns to identify entities correctly even when tokens are split into subwords.\n",
        "\n",
        "</font>\n",
        "\n",
        "A function to tokenize the input data and align the labels with the tokenized inputs s also defined. his function handles the trailing whitespace correctly. The map function, which is included in the datasets library, is used to map the function to all of the documents in the data set. This will create the tokenized dataset required for the Hugging Face Deberta model.\n"
      ]
    },
    {
      "cell_type": "code",
      "execution_count": 15,
      "metadata": {
        "id": "Tau0TIz-6kyg",
        "outputId": "1cbf1c40-d0d4-4baf-d61c-c8803225ffda",
        "colab": {
          "base_uri": "https://localhost:8080/",
          "height": 98,
          "referenced_widgets": [
            "6800c936214842e1825bda41c1f16fd0",
            "67010d5ef1dc44b7983bfbb84ece9841",
            "a7b9859344804a8ba755c9b35f26a786",
            "a7b35263768a45ee9c1a0a74409eacfc",
            "fc5e1a5f883b4c758cc35245f7972445",
            "eac9cc365acd4adba10fdccb94367ad0",
            "caa365bf989d4c108555a439c37f1286",
            "b6177e6bbd9641dcbd8f316d9c5f3692",
            "e4467fed7a25480e9aa3c01cc8493022",
            "f8faa9b998e347d4a3ac82ab42a9f7a5",
            "c1b0f528da624740afcf705a375be433",
            "5e46f49c80cb4e3d97b42f27101a274f",
            "a42cade591b94f15b4f01afbb665e2a5",
            "f6aadb0c0bc54b02b5bec2e2ba66d673",
            "21bd0f81f1174954b6cbabbddc5500bb",
            "409577d79e9b4c7c9f1a48943f9407d9",
            "0e52e1178345462e9f2f4688f73283a4",
            "4b907cea36324854ba61f94e7d67b719",
            "53aacdd390e44a67805432e0537b5554",
            "a4d507efe88841a7b1907f9976eb64d8",
            "321bcf08882e4a8f9f334c0f1ddcacef",
            "9af8a052f8a341b5aaf0418f9438a793"
          ]
        }
      },
      "outputs": [
        {
          "output_type": "display_data",
          "data": {
            "text/plain": [
              "Map:   0%|          | 0/1200 [00:00<?, ? examples/s]"
            ],
            "application/vnd.jupyter.widget-view+json": {
              "version_major": 2,
              "version_minor": 0,
              "model_id": "6800c936214842e1825bda41c1f16fd0"
            }
          },
          "metadata": {}
        },
        {
          "output_type": "display_data",
          "data": {
            "text/plain": [
              "Map:   0%|          | 0/300 [00:00<?, ? examples/s]"
            ],
            "application/vnd.jupyter.widget-view+json": {
              "version_major": 2,
              "version_minor": 0,
              "model_id": "5e46f49c80cb4e3d97b42f27101a274f"
            }
          },
          "metadata": {}
        },
        {
          "output_type": "execute_result",
          "data": {
            "text/plain": [
              "95"
            ]
          },
          "metadata": {},
          "execution_count": 15
        }
      ],
      "source": [
        "#Define function to tokenize and align labels\n",
        "def tokenize_and_align_labels(examples):\n",
        "    tokenized_inputs = tokenizer(\n",
        "        examples[\"tokens\"],\n",
        "        is_split_into_words=True,\n",
        "        truncation=True,\n",
        "        padding='max_length',\n",
        "        max_length=2048  # Longformer's max length\n",
        "        #,return_offsets_mapping=True\n",
        "    )\n",
        "\n",
        "    batch_original_tokens = []\n",
        "    batch_tokenized_tokens = []\n",
        "    batch_label_ids = []\n",
        "    batch_input_ids = []\n",
        "    batch_attention_masks = []\n",
        "    batch_token_type_ids = []\n",
        "\n",
        "    for i, label in enumerate(examples[\"labels\"]):\n",
        "        word_ids = tokenized_inputs.word_ids(batch_index=i)\n",
        "        original_tokens = examples[\"tokens\"][i]\n",
        "        tokenized_tokens = tokenizer.convert_ids_to_tokens(tokenized_inputs[\"input_ids\"][i])\n",
        "\n",
        "        previous_word_idx = None\n",
        "        label_ids = []\n",
        "        original_token_list = []\n",
        "        tokenized_token_list = []\n",
        "        input_id_list = []\n",
        "        attention_mask_list = []\n",
        "        token_type_id_list = []\n",
        "\n",
        "        for j, word_idx in enumerate(word_ids):\n",
        "            if word_idx is None:\n",
        "                label_ids.append(-100)\n",
        "                current_original_token = ''  # Special token\n",
        "            elif word_idx == previous_word_idx:\n",
        "                label_ids.append(-100)\n",
        "                current_original_token = ''  # Subword token\n",
        "            else:\n",
        "                label_ids.append(label2id[label[word_idx]])\n",
        "                current_original_token = original_tokens[word_idx]\n",
        "\n",
        "            original_token_list.append(current_original_token)\n",
        "            tokenized_token_list.append(tokenized_tokens[j])\n",
        "            input_id_list.append(tokenized_inputs[\"input_ids\"][i][j])\n",
        "            attention_mask_list.append(tokenized_inputs[\"attention_mask\"][i][j])\n",
        "            if \"token_type_ids\" in tokenized_inputs:\n",
        "                token_type_id_list.append(tokenized_inputs[\"token_type_ids\"][i][j])\n",
        "            else:\n",
        "                token_type_id_list.append(0)\n",
        "            previous_word_idx = word_idx  # Update for the next iteration\n",
        "\n",
        "        batch_original_tokens.append(original_token_list)\n",
        "        batch_tokenized_tokens.append(tokenized_token_list)\n",
        "        batch_label_ids.append(label_ids)\n",
        "        batch_input_ids.append(input_id_list)\n",
        "        batch_attention_masks.append(attention_mask_list)\n",
        "        batch_token_type_ids.append(token_type_id_list)\n",
        "\n",
        "    # Include BERT-required columns\n",
        "    return {\n",
        "        \"original_tokens\": batch_original_tokens,\n",
        "        \"tokenized_tokens\": batch_tokenized_tokens,\n",
        "        \"labels\": batch_label_ids,\n",
        "        \"input_ids\": batch_input_ids,\n",
        "        \"attention_mask\": batch_attention_masks,\n",
        "        \"token_type_ids\": batch_token_type_ids\n",
        "    }\n",
        "\n",
        "# Tokenize\n",
        "tokenized_datasets = dataset_dict.map(tokenize_and_align_labels, batched=True)\n",
        "\n",
        "gc.collect()"
      ]
    },
    {
      "cell_type": "markdown",
      "metadata": {
        "id": "EdiWDb2M6kyg"
      },
      "source": [
        "It is important to ensure the tokenizer works correctly. The function below displays a comparison of the original tokens to the processed tokens."
      ]
    },
    {
      "cell_type": "code",
      "execution_count": 16,
      "metadata": {
        "id": "qcNZNLyV6kyg",
        "outputId": "f652c082-c1b5-4109-af6c-e8ae5dd364d5",
        "colab": {
          "base_uri": "https://localhost:8080/"
        }
      },
      "outputs": [
        {
          "output_type": "stream",
          "name": "stdout",
          "text": [
            "Comparison of first 20 elements for the first document in the train dataset:\n",
            "Original Token:                 | Tokenized Token: <s>                  | Label: -100  | Input ID: 0          | Attention Mask: 1     | Token Type ID: 0\n",
            "Original Token: Mauro           | Tokenized Token: ĠMau                 | Label: 0     | Input ID: 14147      | Attention Mask: 1     | Token Type ID: 0\n",
            "Original Token:                 | Tokenized Token: ro                   | Label: -100  | Input ID: 1001       | Attention Mask: 1     | Token Type ID: 0\n",
            "Original Token: Zizza           | Tokenized Token: ĠZ                   | Label: 6     | Input ID: 525        | Attention Mask: 1     | Token Type ID: 0\n",
            "Original Token:                 | Tokenized Token: izza                 | Label: -100  | Input ID: 35280      | Attention Mask: 1     | Token Type ID: 0\n",
            "Original Token: ,               | Tokenized Token: Ġ,                   | Label: 1     | Input ID: 2156       | Attention Mask: 1     | Token Type ID: 0\n",
            "Original Token: DESIGN          | Tokenized Token: ĠDES                 | Label: 1     | Input ID: 24566      | Attention Mask: 1     | Token Type ID: 0\n",
            "Original Token:                 | Tokenized Token: IGN                  | Label: -100  | Input ID: 30596      | Attention Mask: 1     | Token Type ID: 0\n",
            "Original Token: THINKING        | Tokenized Token: ĠTH                  | Label: 1     | Input ID: 8640       | Attention Mask: 1     | Token Type ID: 0\n",
            "Original Token:                 | Tokenized Token: INK                  | Label: -100  | Input ID: 23617      | Attention Mask: 1     | Token Type ID: 0\n",
            "Original Token:                 | Tokenized Token: ING                  | Label: -100  | Input ID: 1862       | Attention Mask: 1     | Token Type ID: 0\n",
            "Original Token: ASSIGNMENT      | Tokenized Token: ĠASS                 | Label: 1     | Input ID: 20860      | Attention Mask: 1     | Token Type ID: 0\n",
            "Original Token:                 | Tokenized Token: IGN                  | Label: -100  | Input ID: 30596      | Attention Mask: 1     | Token Type ID: 0\n",
            "Original Token:                 | Tokenized Token: MENT                 | Label: -100  | Input ID: 12613      | Attention Mask: 1     | Token Type ID: 0\n",
            "Original Token:                 | Tokenized Token: Ġ                    | Label: 1     | Input ID: 1437       | Attention Mask: 1     | Token Type ID: 0\n",
            "Original Token:                 | Tokenized Token: Ġ                    | Label: -100  | Input ID: 1437       | Attention Mask: 1     | Token Type ID: 0\n",
            "Original Token:                 | Tokenized Token: Ġ                    | Label: -100  | Input ID: 1437       | Attention Mask: 1     | Token Type ID: 0\n",
            "Original Token: DT              | Tokenized Token: ĠDT                  | Label: 1     | Input ID: 22603      | Attention Mask: 1     | Token Type ID: 0\n",
            "Original Token: for             | Tokenized Token: Ġfor                 | Label: 1     | Input ID: 13         | Attention Mask: 1     | Token Type ID: 0\n",
            "Original Token: psychotherapy   | Tokenized Token: Ġpsych               | Label: 1     | Input ID: 21968      | Attention Mask: 1     | Token Type ID: 0\n"
          ]
        }
      ],
      "source": [
        "import datasets\n",
        "\n",
        "# Function to print the first few elements of each relevant column\n",
        "def print_comparison(dataset, num_elements=20):\n",
        "    first_document = dataset[0]\n",
        "    original_tokens = first_document['original_tokens'][:num_elements]\n",
        "    tokenized_tokens = first_document['tokenized_tokens'][:num_elements]\n",
        "    labels = first_document['labels'][:num_elements]\n",
        "    input_ids = first_document['input_ids'][:num_elements]\n",
        "    attention_mask = first_document['attention_mask'][:num_elements]\n",
        "    token_type_ids = first_document['token_type_ids'][:num_elements]\n",
        "\n",
        "    # Print the columns in a readable format\n",
        "    for i in range(num_elements):\n",
        "        print(f\"Original Token: {original_tokens[i]:<15} | \"\n",
        "              f\"Tokenized Token: {tokenized_tokens[i]:<20} | \"\n",
        "              f\"Label: {labels[i]:<5} | \"\n",
        "              f\"Input ID: {input_ids[i]:<10} | \"\n",
        "              f\"Attention Mask: {attention_mask[i]:<5} | \"\n",
        "              f\"Token Type ID: {token_type_ids[i]}\")\n",
        "\n",
        "# Example usage with the train dataset\n",
        "print(\"Comparison of first 20 elements for the first document in the train dataset:\")\n",
        "print_comparison(tokenized_datasets['train'], num_elements=20)"
      ]
    },
    {
      "cell_type": "markdown",
      "metadata": {
        "id": "7uaXimE06kyg"
      },
      "source": [
        "The tokenizer appears to have processed the original tokens correctly. We can remove the unnecessary column from the tokenized data set and only keep the columns required for training."
      ]
    },
    {
      "cell_type": "code",
      "execution_count": null,
      "metadata": {
        "id": "h5z15CRp6kyh"
      },
      "outputs": [],
      "source": [
        "# List of columns to keep\n",
        "columns_to_keep = ['labels', 'input_ids', 'attention_mask', 'token_type_ids']\n",
        "\n",
        "# Function to remove unnecessary columns\n",
        "def remove_unnecessary_columns(dataset, columns_to_keep):\n",
        "    return dataset.remove_columns([column for column in dataset.column_names if column not in columns_to_keep])\n",
        "\n",
        "# Apply the function to both train and test datasets\n",
        "tokenized_datasets['train'] = remove_unnecessary_columns(tokenized_datasets['train'], columns_to_keep)\n",
        "tokenized_datasets['test'] = remove_unnecessary_columns(tokenized_datasets['test'], columns_to_keep)"
      ]
    },
    {
      "cell_type": "markdown",
      "metadata": {
        "id": "wwU_fZYT6kyh"
      },
      "source": [
        "### Longformer Model Training\n",
        "Recall the data set is imbalanced, with the vast majority of labels belonging to a non-PII category 'O.' Class weights with a weighted loss function will be used to help with this imbalance. This means the model will put more focus on the minority classes and will put less weight on the majority classes when training. Also, a custom compute metrics function with a classification report is defined for evaluation."
      ]
    },
    {
      "cell_type": "code",
      "execution_count": 17,
      "metadata": {
        "id": "EIIeyc6f6kyh"
      },
      "outputs": [],
      "source": [
        "# Calculate class weights\n",
        "class_weights = compute_class_weight('balanced', classes=np.unique(all_labels), y=all_labels)\n",
        "class_weights = torch.tensor(class_weights, dtype=torch.float).to(device)"
      ]
    },
    {
      "cell_type": "markdown",
      "source": [
        "Creating a custom callback to track the loss at each epoch's end and log it for later plotting"
      ],
      "metadata": {
        "id": "PvTrz4Ya_Kvq"
      }
    },
    {
      "cell_type": "code",
      "source": [
        "from transformers import TrainerCallback\n",
        "import matplotlib.pyplot as plt\n",
        "\n",
        "# Custom callback to log loss at the end of each epoch\n",
        "class LossLoggerCallback(TrainerCallback):\n",
        "    def __init__(self):\n",
        "        self.epoch_losses = []\n",
        "\n",
        "    def on_epoch_end(self, args, state, control, **kwargs):\n",
        "        # Check if log_history has entries\n",
        "        if state.log_history and 'loss' in state.log_history[-1]:\n",
        "            # Store the loss of the current epoch\n",
        "            self.epoch_losses.append(state.log_history[-1]['loss'])\n",
        "        else:\n",
        "            print(\"Warning: No loss logged for this epoch.\")\n",
        "\n",
        "# Initialize the callback\n",
        "loss_logger = LossLoggerCallback()"
      ],
      "metadata": {
        "id": "q_aeGxBk_G5X"
      },
      "execution_count": 18,
      "outputs": []
    },
    {
      "cell_type": "code",
      "execution_count": 19,
      "metadata": {
        "id": "4MtK4ltg6kyh",
        "colab": {
          "base_uri": "https://localhost:8080/"
        },
        "outputId": "e9481d3c-06d4-4a08-eb6e-0d21f4864934"
      },
      "outputs": [
        {
          "output_type": "stream",
          "name": "stderr",
          "text": [
            "<ipython-input-19-e859661ba22b>:57: FutureWarning: `tokenizer` is deprecated and will be removed in version 5.0.0 for `CustomTrainer.__init__`. Use `processing_class` instead.\n",
            "  super().__init__(*args, **kwargs)\n"
          ]
        }
      ],
      "source": [
        "# Define data collator for token classification\n",
        "data_collator = DataCollatorForTokenClassification(tokenizer)\n",
        "\n",
        "# Define Focal Loss for handling class imbalance\n",
        "class FocalLoss(nn.Module):\n",
        "    def __init__(self, gamma=2, alpha=None):\n",
        "        super(FocalLoss, self).__init__()\n",
        "        self.gamma = gamma\n",
        "        self.alpha = alpha\n",
        "        if isinstance(alpha, (float, int)):\n",
        "            self.alpha = torch.Tensor([alpha, 1 - alpha])\n",
        "        if isinstance(alpha, list):\n",
        "            self.alpha = torch.Tensor(alpha)\n",
        "\n",
        "    def forward(self, inputs, targets):\n",
        "        if self.alpha is not None:\n",
        "            self.alpha = self.alpha.to(inputs.device)  # Ensure alpha is on the correct device\n",
        "        BCE_loss = nn.functional.cross_entropy(inputs, targets, reduction='none', weight=self.alpha)\n",
        "        pt = torch.exp(-BCE_loss)\n",
        "        F_loss = ((1 - pt) ** self.gamma) * BCE_loss\n",
        "        return F_loss.mean()\n",
        "\n",
        "# Initialize Focal Loss with class weights\n",
        "class_weights = torch.ones(num_labels).to(\"cuda\")  # Replace with actual class weights if available\n",
        "loss_fn = FocalLoss(gamma=2, alpha=class_weights)\n",
        "\n",
        "# Define custom compute metrics function\n",
        "def compute_metrics(p):\n",
        "    predictions, labels = p\n",
        "    predictions = np.argmax(predictions, axis=2)\n",
        "\n",
        "    true_labels = [[id2label[label] for label in doc if label != -100] for doc in labels]\n",
        "    true_predictions = [\n",
        "        [id2label[pred] for pred, label in zip(doc, labels[i]) if label != -100]\n",
        "        for i, doc in enumerate(predictions)\n",
        "    ]\n",
        "\n",
        "    true_labels_flat = [item for sublist in true_labels for item in sublist]\n",
        "    true_predictions_flat = [item for sublist in true_predictions for item in sublist]\n",
        "\n",
        "    results = precision_recall_fscore_support(true_labels_flat, true_predictions_flat, average='weighted')\n",
        "    class_report = classification_report(\n",
        "        true_labels_flat, true_predictions_flat, labels=all_labels, zero_division=0\n",
        "    )\n",
        "\n",
        "    print(\"Classification Report:\\n\", class_report)\n",
        "    return {\n",
        "        \"precision\": results[0],\n",
        "        \"recall\": results[1],\n",
        "        \"f1\": results[2],\n",
        "        \"accuracy\": (results[2] * results[1])\n",
        "    }\n",
        "\n",
        "# Custom Trainer with custom loss function\n",
        "class CustomTrainer(Trainer):\n",
        "    def __init__(self, loss_fn, *args, **kwargs):\n",
        "        super().__init__(*args, **kwargs)\n",
        "        self.loss_fn = loss_fn\n",
        "\n",
        "    def compute_loss(self, model, inputs, return_outputs=False, **kwargs):\n",
        "        device = next(model.parameters()).device\n",
        "        inputs = {key: value.to(device) for key, value in inputs.items()}  # Ensure inputs are on the same device\n",
        "        labels = inputs.pop(\"labels\").to(device)  # Ensure labels are on the same device\n",
        "\n",
        "        outputs = model(**inputs)\n",
        "        logits = outputs[\"logits\"]\n",
        "        loss = self.loss_fn(logits.view(-1, logits.shape[-1]), labels.view(-1))\n",
        "        # Log the loss explicitly\n",
        "        self.log({\"loss\": loss.item()})\n",
        "        return (loss, outputs) if return_outputs else loss\n",
        "\n",
        "# Training arguments\n",
        "training_args = TrainingArguments(\n",
        "    output_dir='./results',\n",
        "    eval_strategy=\"epoch\",\n",
        "    learning_rate=2e-5,\n",
        "    per_device_train_batch_size=4,  # Keep a low batch size\n",
        "    per_device_eval_batch_size=4,\n",
        "    gradient_accumulation_steps=1,\n",
        "    num_train_epochs=5,\n",
        "    weight_decay=0.01,\n",
        "    logging_steps=10,\n",
        "    save_strategy=\"no\",\n",
        "    report_to='none',\n",
        "    fp16=True  # Enable mixed-precision training\n",
        ")\n",
        "\n",
        "# Initialize Custom Trainer\n",
        "trainer = CustomTrainer(\n",
        "    loss_fn=loss_fn,\n",
        "    model=model,\n",
        "    args=training_args,\n",
        "    train_dataset=tokenized_datasets['train'],\n",
        "    eval_dataset=tokenized_datasets['test'],\n",
        "    tokenizer=tokenizer,\n",
        "    data_collator=data_collator,\n",
        "    compute_metrics=compute_metrics,\n",
        "    callbacks=[loss_logger]  # the loss logger callback\n",
        ")\n"
      ]
    },
    {
      "cell_type": "code",
      "source": [
        "import os\n",
        "os.environ['PYTORCH_CUDA_ALLOC_CONF'] = 'expandable_segments:True'"
      ],
      "metadata": {
        "id": "BL4EcZM1hpTa"
      },
      "execution_count": 20,
      "outputs": []
    },
    {
      "cell_type": "code",
      "source": [
        "import torch\n",
        "torch.cuda.empty_cache()  # Clear cached memory\n"
      ],
      "metadata": {
        "id": "NJhMgtxehsxF"
      },
      "execution_count": 21,
      "outputs": []
    },
    {
      "cell_type": "code",
      "execution_count": null,
      "metadata": {
        "id": "NUZ8dBrq6kyi",
        "outputId": "ae8cf2a0-5dd5-4f4d-b530-02cc8c6cc3d8",
        "colab": {
          "base_uri": "https://localhost:8080/",
          "height": 1000
        }
      },
      "outputs": [
        {
          "output_type": "display_data",
          "data": {
            "text/plain": [
              "<IPython.core.display.HTML object>"
            ],
            "text/html": [
              "\n",
              "    <div>\n",
              "      \n",
              "      <progress value='1500' max='1500' style='width:300px; height:20px; vertical-align: middle;'></progress>\n",
              "      [1500/1500 45:01, Epoch 5/5]\n",
              "    </div>\n",
              "    <table border=\"1\" class=\"dataframe\">\n",
              "  <thead>\n",
              " <tr style=\"text-align: left;\">\n",
              "      <th>Epoch</th>\n",
              "      <th>Training Loss</th>\n",
              "      <th>Validation Loss</th>\n",
              "      <th>Precision</th>\n",
              "      <th>Recall</th>\n",
              "      <th>F1</th>\n",
              "      <th>Accuracy</th>\n",
              "    </tr>\n",
              "  </thead>\n",
              "  <tbody>\n",
              "    <tr>\n",
              "      <td>1</td>\n",
              "      <td>0.000015</td>\n",
              "      <td>0.000276</td>\n",
              "      <td>0.999493</td>\n",
              "      <td>0.999481</td>\n",
              "      <td>0.999475</td>\n",
              "      <td>0.998956</td>\n",
              "    </tr>\n",
              "    <tr>\n",
              "      <td>2</td>\n",
              "      <td>0.000003</td>\n",
              "      <td>0.000199</td>\n",
              "      <td>0.999565</td>\n",
              "      <td>0.999562</td>\n",
              "      <td>0.999554</td>\n",
              "      <td>0.999116</td>\n",
              "    </tr>\n",
              "    <tr>\n",
              "      <td>3</td>\n",
              "      <td>0.000001</td>\n",
              "      <td>0.000198</td>\n",
              "      <td>0.999659</td>\n",
              "      <td>0.999579</td>\n",
              "      <td>0.999601</td>\n",
              "      <td>0.999180</td>\n",
              "    </tr>\n",
              "    <tr>\n",
              "      <td>4</td>\n",
              "      <td>0.000000</td>\n",
              "      <td>0.000177</td>\n",
              "      <td>0.999632</td>\n",
              "      <td>0.999600</td>\n",
              "      <td>0.999604</td>\n",
              "      <td>0.999204</td>\n",
              "    </tr>\n",
              "    <tr>\n",
              "      <td>5</td>\n",
              "      <td>0.000000</td>\n",
              "      <td>0.000183</td>\n",
              "      <td>0.999613</td>\n",
              "      <td>0.999583</td>\n",
              "      <td>0.999586</td>\n",
              "      <td>0.999169</td>\n",
              "    </tr>\n",
              "  </tbody>\n",
              "</table><p>"
            ]
          },
          "metadata": {}
        },
        {
          "output_type": "stream",
          "name": "stderr",
          "text": [
            "/usr/local/lib/python3.10/dist-packages/sklearn/metrics/_classification.py:1531: UndefinedMetricWarning: Precision is ill-defined and being set to 0.0 in labels with no predicted samples. Use `zero_division` parameter to control this behavior.\n",
            "  _warn_prf(average, modifier, f\"{metric.capitalize()} is\", len(result))\n"
          ]
        },
        {
          "output_type": "stream",
          "name": "stdout",
          "text": [
            "Classification Report:\n",
            "                   precision    recall  f1-score   support\n",
            "\n",
            "  B-NAME_STUDENT       0.75      0.94      0.84       195\n",
            "  I-NAME_STUDENT       0.87      1.00      0.93       156\n",
            "        B-ID_NUM       0.81      0.74      0.77        34\n",
            "         B-EMAIL       0.88      1.00      0.93         7\n",
            "     I-PHONE_NUM       0.00      0.00      0.00         9\n",
            "B-STREET_ADDRESS       0.00      0.00      0.00         0\n",
            "      B-USERNAME       0.00      0.00      0.00         0\n",
            "     B-PHONE_NUM       0.00      0.00      0.00         3\n",
            "  I-URL_PERSONAL       0.00      0.00      0.00         0\n",
            "I-STREET_ADDRESS       0.00      0.00      0.00         0\n",
            "  B-URL_PERSONAL       0.82      0.88      0.85        16\n",
            "               O       1.00      1.00      1.00    234524\n",
            "\n",
            "        accuracy                           1.00    234944\n",
            "       macro avg       0.43      0.46      0.44    234944\n",
            "    weighted avg       1.00      1.00      1.00    234944\n",
            "\n"
          ]
        },
        {
          "output_type": "stream",
          "name": "stderr",
          "text": [
            "/usr/local/lib/python3.10/dist-packages/sklearn/metrics/_classification.py:1531: UndefinedMetricWarning: Precision is ill-defined and being set to 0.0 in labels with no predicted samples. Use `zero_division` parameter to control this behavior.\n",
            "  _warn_prf(average, modifier, f\"{metric.capitalize()} is\", len(result))\n"
          ]
        },
        {
          "output_type": "stream",
          "name": "stdout",
          "text": [
            "Classification Report:\n",
            "                   precision    recall  f1-score   support\n",
            "\n",
            "  B-NAME_STUDENT       0.78      0.94      0.86       195\n",
            "  I-NAME_STUDENT       0.92      0.98      0.95       156\n",
            "        B-ID_NUM       0.91      0.94      0.93        34\n",
            "         B-EMAIL       0.88      1.00      0.93         7\n",
            "     I-PHONE_NUM       0.00      0.00      0.00         9\n",
            "B-STREET_ADDRESS       0.00      0.00      0.00         0\n",
            "      B-USERNAME       0.00      0.00      0.00         0\n",
            "     B-PHONE_NUM       0.00      0.00      0.00         3\n",
            "  I-URL_PERSONAL       0.00      0.00      0.00         0\n",
            "I-STREET_ADDRESS       0.00      0.00      0.00         0\n",
            "  B-URL_PERSONAL       0.64      1.00      0.78        16\n",
            "               O       1.00      1.00      1.00    234524\n",
            "\n",
            "        accuracy                           1.00    234944\n",
            "       macro avg       0.43      0.49      0.45    234944\n",
            "    weighted avg       1.00      1.00      1.00    234944\n",
            "\n"
          ]
        },
        {
          "output_type": "stream",
          "name": "stderr",
          "text": [
            "/usr/local/lib/python3.10/dist-packages/sklearn/metrics/_classification.py:1531: UndefinedMetricWarning: Precision is ill-defined and being set to 0.0 in labels with no predicted samples. Use `zero_division` parameter to control this behavior.\n",
            "  _warn_prf(average, modifier, f\"{metric.capitalize()} is\", len(result))\n",
            "/usr/local/lib/python3.10/dist-packages/sklearn/metrics/_classification.py:1531: UndefinedMetricWarning: Recall is ill-defined and being set to 0.0 in labels with no true samples. Use `zero_division` parameter to control this behavior.\n",
            "  _warn_prf(average, modifier, f\"{metric.capitalize()} is\", len(result))\n"
          ]
        },
        {
          "output_type": "stream",
          "name": "stdout",
          "text": [
            "Classification Report:\n",
            "                   precision    recall  f1-score   support\n",
            "\n",
            "  B-NAME_STUDENT       0.73      0.99      0.84       195\n",
            "  I-NAME_STUDENT       0.93      0.99      0.96       156\n",
            "        B-ID_NUM       0.92      0.97      0.94        34\n",
            "         B-EMAIL       0.88      1.00      0.93         7\n",
            "     I-PHONE_NUM       0.62      0.56      0.59         9\n",
            "B-STREET_ADDRESS       0.00      0.00      0.00         0\n",
            "      B-USERNAME       0.00      0.00      0.00         0\n",
            "     B-PHONE_NUM       0.00      0.00      0.00         3\n",
            "  I-URL_PERSONAL       0.00      0.00      0.00         0\n",
            "I-STREET_ADDRESS       0.00      0.00      0.00         0\n",
            "  B-URL_PERSONAL       0.76      1.00      0.86        16\n",
            "               O       1.00      1.00      1.00    234524\n",
            "\n",
            "        accuracy                           1.00    234944\n",
            "       macro avg       0.49      0.54      0.51    234944\n",
            "    weighted avg       1.00      1.00      1.00    234944\n",
            "\n"
          ]
        },
        {
          "output_type": "stream",
          "name": "stderr",
          "text": [
            "/usr/local/lib/python3.10/dist-packages/sklearn/metrics/_classification.py:1531: UndefinedMetricWarning: Precision is ill-defined and being set to 0.0 in labels with no predicted samples. Use `zero_division` parameter to control this behavior.\n",
            "  _warn_prf(average, modifier, f\"{metric.capitalize()} is\", len(result))\n"
          ]
        },
        {
          "output_type": "stream",
          "name": "stdout",
          "text": [
            "Classification Report:\n",
            "                   precision    recall  f1-score   support\n",
            "\n",
            "  B-NAME_STUDENT       0.77      0.95      0.85       195\n",
            "  I-NAME_STUDENT       0.93      0.99      0.96       156\n",
            "        B-ID_NUM       0.89      0.97      0.93        34\n",
            "         B-EMAIL       0.88      1.00      0.93         7\n",
            "     I-PHONE_NUM       0.75      0.33      0.46         9\n",
            "B-STREET_ADDRESS       0.00      0.00      0.00         0\n",
            "      B-USERNAME       0.00      0.00      0.00         0\n",
            "     B-PHONE_NUM       0.00      0.00      0.00         3\n",
            "  I-URL_PERSONAL       0.00      0.00      0.00         0\n",
            "I-STREET_ADDRESS       0.00      0.00      0.00         0\n",
            "  B-URL_PERSONAL       0.82      0.88      0.85        16\n",
            "               O       1.00      1.00      1.00    234524\n",
            "\n",
            "        accuracy                           1.00    234944\n",
            "       macro avg       0.50      0.51      0.50    234944\n",
            "    weighted avg       1.00      1.00      1.00    234944\n",
            "\n"
          ]
        },
        {
          "output_type": "stream",
          "name": "stderr",
          "text": [
            "/usr/local/lib/python3.10/dist-packages/sklearn/metrics/_classification.py:1531: UndefinedMetricWarning: Precision is ill-defined and being set to 0.0 in labels with no predicted samples. Use `zero_division` parameter to control this behavior.\n",
            "  _warn_prf(average, modifier, f\"{metric.capitalize()} is\", len(result))\n"
          ]
        },
        {
          "output_type": "stream",
          "name": "stdout",
          "text": [
            "Classification Report:\n",
            "                   precision    recall  f1-score   support\n",
            "\n",
            "  B-NAME_STUDENT       0.77      0.95      0.85       195\n",
            "  I-NAME_STUDENT       0.93      0.97      0.95       156\n",
            "        B-ID_NUM       1.00      0.91      0.95        34\n",
            "         B-EMAIL       0.88      1.00      0.93         7\n",
            "     I-PHONE_NUM       0.75      0.33      0.46         9\n",
            "B-STREET_ADDRESS       0.00      0.00      0.00         0\n",
            "      B-USERNAME       0.00      0.00      0.00         0\n",
            "     B-PHONE_NUM       0.00      0.00      0.00         3\n",
            "  I-URL_PERSONAL       0.00      0.00      0.00         0\n",
            "I-STREET_ADDRESS       0.00      0.00      0.00         0\n",
            "  B-URL_PERSONAL       0.82      0.88      0.85        16\n",
            "               O       1.00      1.00      1.00    234524\n",
            "\n",
            "        accuracy                           1.00    234944\n",
            "       macro avg       0.51      0.50      0.50    234944\n",
            "    weighted avg       1.00      1.00      1.00    234944\n",
            "\n"
          ]
        },
        {
          "output_type": "display_data",
          "data": {
            "text/plain": [
              "<IPython.core.display.HTML object>"
            ],
            "text/html": [
              "\n",
              "    <div>\n",
              "      \n",
              "      <progress value='75' max='75' style='width:300px; height:20px; vertical-align: middle;'></progress>\n",
              "      [75/75 00:42]\n",
              "    </div>\n",
              "    "
            ]
          },
          "metadata": {}
        },
        {
          "output_type": "stream",
          "name": "stderr",
          "text": [
            "/usr/local/lib/python3.10/dist-packages/sklearn/metrics/_classification.py:1531: UndefinedMetricWarning: Precision is ill-defined and being set to 0.0 in labels with no predicted samples. Use `zero_division` parameter to control this behavior.\n",
            "  _warn_prf(average, modifier, f\"{metric.capitalize()} is\", len(result))\n"
          ]
        },
        {
          "output_type": "stream",
          "name": "stdout",
          "text": [
            "Classification Report:\n",
            "                   precision    recall  f1-score   support\n",
            "\n",
            "  B-NAME_STUDENT       0.77      0.95      0.85       195\n",
            "  I-NAME_STUDENT       0.93      0.97      0.95       156\n",
            "        B-ID_NUM       1.00      0.91      0.95        34\n",
            "         B-EMAIL       0.88      1.00      0.93         7\n",
            "     I-PHONE_NUM       0.75      0.33      0.46         9\n",
            "B-STREET_ADDRESS       0.00      0.00      0.00         0\n",
            "      B-USERNAME       0.00      0.00      0.00         0\n",
            "     B-PHONE_NUM       0.00      0.00      0.00         3\n",
            "  I-URL_PERSONAL       0.00      0.00      0.00         0\n",
            "I-STREET_ADDRESS       0.00      0.00      0.00         0\n",
            "  B-URL_PERSONAL       0.82      0.88      0.85        16\n",
            "               O       1.00      1.00      1.00    234524\n",
            "\n",
            "        accuracy                           1.00    234944\n",
            "       macro avg       0.51      0.50      0.50    234944\n",
            "    weighted avg       1.00      1.00      1.00    234944\n",
            "\n",
            "{'eval_loss': 0.0001832292473409325, 'eval_precision': 0.9996132260111654, 'eval_recall': 0.9995828793244348, 'eval_f1': 0.9995861362690441, 'eval_accuracy': 0.999169188224598, 'eval_runtime': 47.4569, 'eval_samples_per_second': 6.322, 'eval_steps_per_second': 1.58, 'epoch': 5.0}\n"
          ]
        }
      ],
      "source": [
        "# Train the model\n",
        "trainer.train()\n",
        "\n",
        "# Evaluate the model\n",
        "eval_results = trainer.evaluate()\n",
        "print(eval_results)\n"
      ]
    },
    {
      "cell_type": "code",
      "source": [
        "save_directory = \"./longformer_model\"\n",
        "model.save_pretrained(save_directory)\n",
        "tokenizer.save_pretrained(save_directory)\n",
        "\n",
        "# Plot the epoch losses after training\n",
        "plt.figure(figsize=(10, 5))\n",
        "plt.plot(range(1, len(loss_logger.epoch_losses) + 1), loss_logger.epoch_losses, marker='o')\n",
        "plt.xlabel('Epoch')\n",
        "plt.ylabel('Loss')\n",
        "plt.title('Training Loss per Epoch')\n",
        "plt.xticks(range(1, len(loss_logger.epoch_losses) + 1))  # Set x-axis ticks to match epoch numbers\n",
        "plt.show()"
      ],
      "metadata": {
        "colab": {
          "base_uri": "https://localhost:8080/",
          "height": 487
        },
        "id": "dRVp1wxRZFOf",
        "outputId": "183fac2d-cab0-4ad4-e5f0-42f0b5ace0cc"
      },
      "execution_count": null,
      "outputs": [
        {
          "output_type": "display_data",
          "data": {
            "text/plain": [
              "<Figure size 1000x500 with 1 Axes>"
            ],
            "image/png": "[encoded data removed]"
          },
          "metadata": {}
        }
      ]
    },
    {
      "cell_type": "markdown",
      "source": [
        "### Define a Custom Longformer Model with Dropout"
      ],
      "metadata": {
        "id": "r49K3qpySsm7"
      }
    },
    {
      "cell_type": "code",
      "source": [
        "from transformers import LongformerForTokenClassification\n",
        "import torch.nn as nn\n",
        "\n",
        "# Custom Longformer Model with Dropout\n",
        "class CustomLongformerForTokenClassification(LongformerForTokenClassification):\n",
        "    def __init__(self, config, dropout_rate=0.3):\n",
        "        super().__init__(config)\n",
        "        self.longformer = self.longformer  # Base Longformer model\n",
        "        self.dropout = nn.Dropout(p=dropout_rate)  # Custom dropout rate\n",
        "        self.classifier = nn.Linear(config.hidden_size, config.num_labels)  # Classification layer\n",
        "\n",
        "    def forward(self, input_ids, attention_mask=None, global_attention_mask=None, token_type_ids=None, labels=None):\n",
        "        # Pass inputs through the Longformer model\n",
        "        outputs = self.longformer(\n",
        "            input_ids=input_ids,\n",
        "            attention_mask=attention_mask,\n",
        "            global_attention_mask=global_attention_mask,\n",
        "            token_type_ids=token_type_ids,\n",
        "        )\n",
        "\n",
        "        # Apply dropout and pass through classifier\n",
        "        sequence_output = self.dropout(outputs[0])\n",
        "        logits = self.classifier(sequence_output)\n",
        "\n",
        "        # Compute loss if labels are provided\n",
        "        loss = None\n",
        "        if labels is not None:\n",
        "            loss_fn = nn.CrossEntropyLoss()\n",
        "            loss = loss_fn(logits.view(-1, self.config.num_labels), labels.view(-1))\n",
        "            return (loss, logits)\n",
        "\n",
        "        return logits\n"
      ],
      "metadata": {
        "id": "sij5onjASvfq"
      },
      "execution_count": 22,
      "outputs": []
    },
    {
      "cell_type": "markdown",
      "source": [
        "### Initialize Longformer and Tokenizer"
      ],
      "metadata": {
        "id": "RdFMJYlkS6w9"
      }
    },
    {
      "cell_type": "code",
      "source": [
        "from transformers import AutoConfig, AutoTokenizer\n",
        "\n",
        "# Load tokenizer\n",
        "tokenizer = AutoTokenizer.from_pretrained(\"allenai/longformer-base-4096\")\n",
        "\n",
        "# Define the label mappings\n",
        "num_labels = len(label2id)\n",
        "id2label = {v: k for k, v in label2id.items()}\n",
        "\n",
        "# Load configuration\n",
        "config = AutoConfig.from_pretrained(\n",
        "    \"allenai/longformer-base-4096\",\n",
        "    num_labels=num_labels,\n",
        "    id2label=id2label,\n",
        "    label2id=label2id\n",
        ")\n",
        "\n",
        "# Initialize the custom Longformer model with dropout\n",
        "model = CustomLongformerForTokenClassification(config, dropout_rate=0.3)\n",
        "model.to(device)  # Move to GPU/CPU\n"
      ],
      "metadata": {
        "id": "SpTws-s7S9CF",
        "outputId": "1f631d2d-b82a-4ff4-acf2-c29d3023755e",
        "colab": {
          "base_uri": "https://localhost:8080/"
        }
      },
      "execution_count": 23,
      "outputs": [
        {
          "output_type": "execute_result",
          "data": {
            "text/plain": [
              "CustomLongformerForTokenClassification(\n",
              "  (longformer): LongformerModel(\n",
              "    (embeddings): LongformerEmbeddings(\n",
              "      (word_embeddings): Embedding(50265, 768, padding_idx=1)\n",
              "      (token_type_embeddings): Embedding(1, 768)\n",
              "      (LayerNorm): LayerNorm((768,), eps=1e-05, elementwise_affine=True)\n",
              "      (dropout): Dropout(p=0.1, inplace=False)\n",
              "      (position_embeddings): Embedding(4098, 768, padding_idx=1)\n",
              "    )\n",
              "    (encoder): LongformerEncoder(\n",
              "      (layer): ModuleList(\n",
              "        (0-11): 12 x LongformerLayer(\n",
              "          (attention): LongformerAttention(\n",
              "            (self): LongformerSelfAttention(\n",
              "              (query): Linear(in_features=768, out_features=768, bias=True)\n",
              "              (key): Linear(in_features=768, out_features=768, bias=True)\n",
              "              (value): Linear(in_features=768, out_features=768, bias=True)\n",
              "              (query_global): Linear(in_features=768, out_features=768, bias=True)\n",
              "              (key_global): Linear(in_features=768, out_features=768, bias=True)\n",
              "              (value_global): Linear(in_features=768, out_features=768, bias=True)\n",
              "            )\n",
              "            (output): LongformerSelfOutput(\n",
              "              (dense): Linear(in_features=768, out_features=768, bias=True)\n",
              "              (LayerNorm): LayerNorm((768,), eps=1e-05, elementwise_affine=True)\n",
              "              (dropout): Dropout(p=0.1, inplace=False)\n",
              "            )\n",
              "          )\n",
              "          (intermediate): LongformerIntermediate(\n",
              "            (dense): Linear(in_features=768, out_features=3072, bias=True)\n",
              "            (intermediate_act_fn): GELUActivation()\n",
              "          )\n",
              "          (output): LongformerOutput(\n",
              "            (dense): Linear(in_features=3072, out_features=768, bias=True)\n",
              "            (LayerNorm): LayerNorm((768,), eps=1e-05, elementwise_affine=True)\n",
              "            (dropout): Dropout(p=0.1, inplace=False)\n",
              "          )\n",
              "        )\n",
              "      )\n",
              "    )\n",
              "  )\n",
              "  (dropout): Dropout(p=0.3, inplace=False)\n",
              "  (classifier): Linear(in_features=768, out_features=13, bias=True)\n",
              ")"
            ]
          },
          "metadata": {},
          "execution_count": 23
        }
      ]
    },
    {
      "cell_type": "markdown",
      "source": [
        "### Data Collator"
      ],
      "metadata": {
        "id": "XtfX7_PGTPYI"
      }
    },
    {
      "cell_type": "code",
      "source": [
        "from transformers import DataCollatorForTokenClassification\n",
        "\n",
        "# Define data collator\n",
        "data_collator = DataCollatorForTokenClassification(tokenizer)\n"
      ],
      "metadata": {
        "id": "oWxOIL8ZTR6C"
      },
      "execution_count": 24,
      "outputs": []
    },
    {
      "cell_type": "markdown",
      "source": [
        "### Define Training Arguments and Trainer"
      ],
      "metadata": {
        "id": "1Lv_h0ECTUUA"
      }
    },
    {
      "cell_type": "code",
      "source": [
        "from transformers import TrainingArguments, Trainer, EarlyStoppingCallback\n",
        "\n",
        "# Define training arguments\n",
        "training_args = TrainingArguments(\n",
        "    output_dir='./results_longformer',\n",
        "    evaluation_strategy=\"epoch\",\n",
        "    save_strategy=\"epoch\",\n",
        "    load_best_model_at_end=True,\n",
        "    metric_for_best_model=\"loss\",\n",
        "    greater_is_better=False,\n",
        "    learning_rate=1e-5,\n",
        "    per_device_train_batch_size=2,\n",
        "    per_device_eval_batch_size=2,\n",
        "    gradient_accumulation_steps=4,\n",
        "    num_train_epochs=5,\n",
        "    weight_decay=0.01,\n",
        "    fp16=True,\n",
        "    max_grad_norm=1.0,\n",
        "    logging_dir='./logs_longformer',\n",
        "    logging_steps=10,\n",
        "    report_to='none'\n",
        ")\n",
        "\n",
        "# Early stopping callback\n",
        "early_stopping_callback = EarlyStoppingCallback(early_stopping_patience=2)\n",
        "\n",
        "# Initialize the trainer\n",
        "trainer = Trainer(\n",
        "    model=model,\n",
        "    args=training_args,\n",
        "    train_dataset=tokenized_datasets['train'],\n",
        "    eval_dataset=tokenized_datasets['test'],\n",
        "    tokenizer=tokenizer,\n",
        "    data_collator=data_collator,\n",
        "    compute_metrics=compute_metrics,\n",
        "    callbacks=[early_stopping_callback]\n",
        ")\n"
      ],
      "metadata": {
        "id": "ChiqrSaVTYmn",
        "outputId": "d0a510e7-8c9d-4b2b-e255-57f2bccad6da",
        "colab": {
          "base_uri": "https://localhost:8080/"
        }
      },
      "execution_count": 25,
      "outputs": [
        {
          "output_type": "stream",
          "name": "stderr",
          "text": [
            "/usr/local/lib/python3.10/dist-packages/transformers/training_args.py:1568: FutureWarning: `evaluation_strategy` is deprecated and will be removed in version 4.46 of 🤗 Transformers. Use `eval_strategy` instead\n",
            "  warnings.warn(\n",
            "<ipython-input-25-e2f73071e069>:28: FutureWarning: `tokenizer` is deprecated and will be removed in version 5.0.0 for `Trainer.__init__`. Use `processing_class` instead.\n",
            "  trainer = Trainer(\n"
          ]
        }
      ]
    },
    {
      "cell_type": "markdown",
      "source": [
        "### Train the Model"
      ],
      "metadata": {
        "id": "P8TJP6znTfp5"
      }
    },
    {
      "cell_type": "code",
      "source": [
        "# Train the model\n",
        "trainer.train()\n"
      ],
      "metadata": {
        "id": "TyNUhAifTiJi",
        "outputId": "04447a85-3096-4753-f899-14e538e1a5e8",
        "colab": {
          "base_uri": "https://localhost:8080/",
          "height": 1000
        }
      },
      "execution_count": 26,
      "outputs": [
        {
          "output_type": "display_data",
          "data": {
            "text/plain": [
              "<IPython.core.display.HTML object>"
            ],
            "text/html": [
              "\n",
              "    <div>\n",
              "      \n",
              "      <progress value='750' max='750' style='width:300px; height:20px; vertical-align: middle;'></progress>\n",
              "      [750/750 47:14, Epoch 5/5]\n",
              "    </div>\n",
              "    <table border=\"1\" class=\"dataframe\">\n",
              "  <thead>\n",
              " <tr style=\"text-align: left;\">\n",
              "      <th>Epoch</th>\n",
              "      <th>Training Loss</th>\n",
              "      <th>Validation Loss</th>\n",
              "      <th>Precision</th>\n",
              "      <th>Recall</th>\n",
              "      <th>F1</th>\n",
              "      <th>Accuracy</th>\n",
              "    </tr>\n",
              "  </thead>\n",
              "  <tbody>\n",
              "    <tr>\n",
              "      <td>1</td>\n",
              "      <td>0.012000</td>\n",
              "      <td>0.013605</td>\n",
              "      <td>0.996644</td>\n",
              "      <td>0.998195</td>\n",
              "      <td>0.997327</td>\n",
              "      <td>0.995527</td>\n",
              "    </tr>\n",
              "    <tr>\n",
              "      <td>2</td>\n",
              "      <td>0.009700</td>\n",
              "      <td>0.011400</td>\n",
              "      <td>0.997331</td>\n",
              "      <td>0.998251</td>\n",
              "      <td>0.997538</td>\n",
              "      <td>0.995793</td>\n",
              "    </tr>\n",
              "    <tr>\n",
              "      <td>3</td>\n",
              "      <td>0.009600</td>\n",
              "      <td>0.011456</td>\n",
              "      <td>0.997485</td>\n",
              "      <td>0.998280</td>\n",
              "      <td>0.997592</td>\n",
              "      <td>0.995876</td>\n",
              "    </tr>\n",
              "    <tr>\n",
              "      <td>4</td>\n",
              "      <td>0.004600</td>\n",
              "      <td>0.011002</td>\n",
              "      <td>0.997482</td>\n",
              "      <td>0.998276</td>\n",
              "      <td>0.997693</td>\n",
              "      <td>0.995973</td>\n",
              "    </tr>\n",
              "    <tr>\n",
              "      <td>5</td>\n",
              "      <td>0.008400</td>\n",
              "      <td>0.010649</td>\n",
              "      <td>0.997476</td>\n",
              "      <td>0.998259</td>\n",
              "      <td>0.997757</td>\n",
              "      <td>0.996020</td>\n",
              "    </tr>\n",
              "  </tbody>\n",
              "</table><p>"
            ]
          },
          "metadata": {}
        },
        {
          "output_type": "stream",
          "name": "stderr",
          "text": [
            "/usr/local/lib/python3.10/dist-packages/sklearn/metrics/_classification.py:1531: UndefinedMetricWarning: Precision is ill-defined and being set to 0.0 in labels with no predicted samples. Use `zero_division` parameter to control this behavior.\n",
            "  _warn_prf(average, modifier, f\"{metric.capitalize()} is\", len(result))\n"
          ]
        },
        {
          "output_type": "stream",
          "name": "stdout",
          "text": [
            "Classification Report:\n",
            "                   precision    recall  f1-score   support\n",
            "\n",
            "  B-NAME_STUDENT       0.25      0.01      0.02       195\n",
            "               O       1.00      1.00      1.00    234524\n",
            "         B-EMAIL       0.00      0.00      0.00         7\n",
            "  I-URL_PERSONAL       0.00      0.00      0.00         0\n",
            "B-STREET_ADDRESS       0.00      0.00      0.00         0\n",
            "        I-ID_NUM       0.00      0.00      0.00         0\n",
            "  I-NAME_STUDENT       0.00      0.00      0.00       156\n",
            "I-STREET_ADDRESS       0.00      0.00      0.00         0\n",
            "  B-URL_PERSONAL       0.00      0.00      0.00        16\n",
            "        B-ID_NUM       0.00      0.00      0.00        34\n",
            "     B-PHONE_NUM       0.00      0.00      0.00         3\n",
            "      B-USERNAME       0.00      0.00      0.00         0\n",
            "     I-PHONE_NUM       0.00      0.00      0.00         9\n",
            "\n",
            "        accuracy                           1.00    234944\n",
            "       macro avg       0.10      0.08      0.08    234944\n",
            "    weighted avg       1.00      1.00      1.00    234944\n",
            "\n"
          ]
        },
        {
          "output_type": "stream",
          "name": "stderr",
          "text": [
            "/usr/local/lib/python3.10/dist-packages/sklearn/metrics/_classification.py:1531: UndefinedMetricWarning: Precision is ill-defined and being set to 0.0 in labels with no predicted samples. Use `zero_division` parameter to control this behavior.\n",
            "  _warn_prf(average, modifier, f\"{metric.capitalize()} is\", len(result))\n"
          ]
        },
        {
          "output_type": "stream",
          "name": "stdout",
          "text": [
            "Classification Report:\n",
            "                   precision    recall  f1-score   support\n",
            "\n",
            "  B-NAME_STUDENT       0.60      0.09      0.16       195\n",
            "               O       1.00      1.00      1.00    234524\n",
            "         B-EMAIL       0.00      0.00      0.00         7\n",
            "  I-URL_PERSONAL       0.00      0.00      0.00         0\n",
            "B-STREET_ADDRESS       0.00      0.00      0.00         0\n",
            "        I-ID_NUM       0.00      0.00      0.00         0\n",
            "  I-NAME_STUDENT       0.41      0.04      0.08       156\n",
            "I-STREET_ADDRESS       0.00      0.00      0.00         0\n",
            "  B-URL_PERSONAL       0.00      0.00      0.00        16\n",
            "        B-ID_NUM       0.00      0.00      0.00        34\n",
            "     B-PHONE_NUM       0.00      0.00      0.00         3\n",
            "      B-USERNAME       0.00      0.00      0.00         0\n",
            "     I-PHONE_NUM       0.00      0.00      0.00         9\n",
            "\n",
            "        accuracy                           1.00    234944\n",
            "       macro avg       0.15      0.09      0.10    234944\n",
            "    weighted avg       1.00      1.00      1.00    234944\n",
            "\n"
          ]
        },
        {
          "output_type": "stream",
          "name": "stderr",
          "text": [
            "/usr/local/lib/python3.10/dist-packages/sklearn/metrics/_classification.py:1531: UndefinedMetricWarning: Precision is ill-defined and being set to 0.0 in labels with no predicted samples. Use `zero_division` parameter to control this behavior.\n",
            "  _warn_prf(average, modifier, f\"{metric.capitalize()} is\", len(result))\n"
          ]
        },
        {
          "output_type": "stream",
          "name": "stdout",
          "text": [
            "Classification Report:\n",
            "                   precision    recall  f1-score   support\n",
            "\n",
            "  B-NAME_STUDENT       0.60      0.11      0.18       195\n",
            "               O       1.00      1.00      1.00    234524\n",
            "         B-EMAIL       0.00      0.00      0.00         7\n",
            "  I-URL_PERSONAL       0.00      0.00      0.00         0\n",
            "B-STREET_ADDRESS       0.00      0.00      0.00         0\n",
            "        I-ID_NUM       0.00      0.00      0.00         0\n",
            "  I-NAME_STUDENT       0.60      0.06      0.11       156\n",
            "I-STREET_ADDRESS       0.00      0.00      0.00         0\n",
            "  B-URL_PERSONAL       0.00      0.00      0.00        16\n",
            "        B-ID_NUM       0.00      0.00      0.00        34\n",
            "     B-PHONE_NUM       0.00      0.00      0.00         3\n",
            "      B-USERNAME       0.00      0.00      0.00         0\n",
            "     I-PHONE_NUM       0.00      0.00      0.00         9\n",
            "\n",
            "        accuracy                           1.00    234944\n",
            "       macro avg       0.17      0.09      0.10    234944\n",
            "    weighted avg       1.00      1.00      1.00    234944\n",
            "\n"
          ]
        },
        {
          "output_type": "stream",
          "name": "stderr",
          "text": [
            "/usr/local/lib/python3.10/dist-packages/sklearn/metrics/_classification.py:1531: UndefinedMetricWarning: Precision is ill-defined and being set to 0.0 in labels with no predicted samples. Use `zero_division` parameter to control this behavior.\n",
            "  _warn_prf(average, modifier, f\"{metric.capitalize()} is\", len(result))\n"
          ]
        },
        {
          "output_type": "stream",
          "name": "stdout",
          "text": [
            "Classification Report:\n",
            "                   precision    recall  f1-score   support\n",
            "\n",
            "  B-NAME_STUDENT       0.53      0.14      0.22       195\n",
            "               O       1.00      1.00      1.00    234524\n",
            "         B-EMAIL       0.00      0.00      0.00         7\n",
            "  I-URL_PERSONAL       0.00      0.00      0.00         0\n",
            "B-STREET_ADDRESS       0.00      0.00      0.00         0\n",
            "        I-ID_NUM       0.00      0.00      0.00         0\n",
            "  I-NAME_STUDENT       0.52      0.11      0.18       156\n",
            "I-STREET_ADDRESS       0.00      0.00      0.00         0\n",
            "  B-URL_PERSONAL       0.33      0.12      0.18        16\n",
            "        B-ID_NUM       0.00      0.00      0.00        34\n",
            "     B-PHONE_NUM       0.00      0.00      0.00         3\n",
            "      B-USERNAME       0.00      0.00      0.00         0\n",
            "     I-PHONE_NUM       0.00      0.00      0.00         9\n",
            "\n",
            "        accuracy                           1.00    234944\n",
            "       macro avg       0.18      0.11      0.12    234944\n",
            "    weighted avg       1.00      1.00      1.00    234944\n",
            "\n"
          ]
        },
        {
          "output_type": "stream",
          "name": "stderr",
          "text": [
            "/usr/local/lib/python3.10/dist-packages/sklearn/metrics/_classification.py:1531: UndefinedMetricWarning: Precision is ill-defined and being set to 0.0 in labels with no predicted samples. Use `zero_division` parameter to control this behavior.\n",
            "  _warn_prf(average, modifier, f\"{metric.capitalize()} is\", len(result))\n"
          ]
        },
        {
          "output_type": "stream",
          "name": "stdout",
          "text": [
            "Classification Report:\n",
            "                   precision    recall  f1-score   support\n",
            "\n",
            "  B-NAME_STUDENT       0.48      0.16      0.24       195\n",
            "               O       1.00      1.00      1.00    234524\n",
            "         B-EMAIL       0.00      0.00      0.00         7\n",
            "  I-URL_PERSONAL       0.00      0.00      0.00         0\n",
            "B-STREET_ADDRESS       0.00      0.00      0.00         0\n",
            "        I-ID_NUM       0.00      0.00      0.00         0\n",
            "  I-NAME_STUDENT       0.42      0.15      0.22       156\n",
            "I-STREET_ADDRESS       0.00      0.00      0.00         0\n",
            "  B-URL_PERSONAL       0.33      0.19      0.24        16\n",
            "        B-ID_NUM       0.00      0.00      0.00        34\n",
            "     B-PHONE_NUM       0.00      0.00      0.00         3\n",
            "      B-USERNAME       0.00      0.00      0.00         0\n",
            "     I-PHONE_NUM       0.00      0.00      0.00         9\n",
            "\n",
            "        accuracy                           1.00    234944\n",
            "       macro avg       0.17      0.11      0.13    234944\n",
            "    weighted avg       1.00      1.00      1.00    234944\n",
            "\n"
          ]
        },
        {
          "output_type": "execute_result",
          "data": {
            "text/plain": [
              "TrainOutput(global_step=750, training_loss=0.024060762882232665, metrics={'train_runtime': 2838.7418, 'train_samples_per_second': 2.114, 'train_steps_per_second': 0.264, 'total_flos': 7839299837952000.0, 'train_loss': 0.024060762882232665, 'epoch': 5.0})"
            ]
          },
          "metadata": {},
          "execution_count": 26
        }
      ]
    },
    {
      "cell_type": "markdown",
      "source": [
        "### Plot Training and Validation Loss"
      ],
      "metadata": {
        "id": "YWHqEBrJTkp_"
      }
    },
    {
      "cell_type": "code",
      "source": [
        "# Extract training and validation loss\n",
        "training_losses = [log['loss'] for log in trainer.state.log_history if 'loss' in log]\n",
        "validation_losses = [log['eval_loss'] for log in trainer.state.log_history if 'eval_loss' in log]\n",
        "\n",
        "# Ensure both lists have the same length\n",
        "if len(validation_losses) < len(training_losses):\n",
        "    training_losses = training_losses[:len(validation_losses)]\n",
        "elif len(validation_losses) > len(training_losses):\n",
        "    validation_losses = validation_losses[:len(training_losses)]\n",
        "\n",
        "# Plot training and validation losses\n",
        "plt.figure(figsize=(10, 6))\n",
        "plt.plot(range(1, len(training_losses) + 1), training_losses, label='Training Loss', marker='o')\n",
        "plt.plot(range(1, len(validation_losses) + 1), validation_losses, label='Validation Loss', marker='x')\n",
        "plt.xlabel('Epoch')\n",
        "plt.ylabel('Loss')\n",
        "plt.title('Training and Validation Loss for Sensitive Data Detection Using Longformer')\n",
        "plt.legend()\n",
        "plt.grid()\n",
        "plt.show()\n"
      ],
      "metadata": {
        "id": "YxXh8FbHTojm",
        "outputId": "8c4d5f3c-6786-47f2-b387-ceeeb3cb0b3d",
        "colab": {
          "base_uri": "https://localhost:8080/",
          "height": 564
        }
      },
      "execution_count": 28,
      "outputs": [
        {
          "output_type": "display_data",
          "data": {
            "text/plain": [
              "<Figure size 1000x600 with 1 Axes>"
            ],
            "image/png": "[encoded data removed]"
          },
          "metadata": {}
        }
      ]
    },
    {
      "cell_type": "markdown",
      "source": [
        "### Confusion Matrix for Sensitive Data Detection"
      ],
      "metadata": {
        "id": "CvLp5ZFET7kY"
      }
    },
    {
      "cell_type": "code",
      "source": [
        "from sklearn.metrics import confusion_matrix, ConfusionMatrixDisplay\n",
        "import numpy as np\n",
        "\n",
        "# Step 1: Get predictions from the trainer\n",
        "predictions, labels, _ = trainer.predict(tokenized_datasets['test'])\n",
        "\n",
        "# Step 2: Convert predictions to label IDs\n",
        "predicted_label_ids = np.argmax(predictions, axis=2)\n",
        "\n",
        "# Step 3: Map IDs to actual label names\n",
        "true_labels = [\n",
        "    [id2label[label] for label in doc if label != -100]  # Ignore padding tokens\n",
        "    for doc in labels\n",
        "]\n",
        "pred_labels = [\n",
        "    [id2label[pred] for pred, label in zip(doc, labels[i]) if label != -100]\n",
        "    for i, doc in enumerate(predicted_label_ids)\n",
        "]\n",
        "\n",
        "# Step 4: Flatten the lists for confusion matrix\n",
        "true_labels_flat = [label for sublist in true_labels for label in sublist]\n",
        "pred_labels_flat = [label for sublist in pred_labels for label in sublist]\n",
        "\n",
        "# Step 5: Generate confusion matrix\n",
        "unique_labels = list(set(true_labels_flat + pred_labels_flat))\n",
        "cm = confusion_matrix(true_labels_flat, pred_labels_flat, labels=unique_labels)\n",
        "\n",
        "# Step 6: Plot the confusion matrix\n",
        "plt.figure(figsize=(12, 10))\n",
        "disp = ConfusionMatrixDisplay(confusion_matrix=cm, display_labels=unique_labels)\n",
        "disp.plot(cmap=\"viridis\", xticks_rotation=45)\n",
        "plt.title(\"Confusion Matrix for Sensitive Data Detection Using Longformer\")\n",
        "plt.show()\n"
      ],
      "metadata": {
        "id": "iQG7CqD1T90N",
        "outputId": "52ca31e5-a77c-40e5-86d6-0e2dfbb72158",
        "colab": {
          "base_uri": "https://localhost:8080/",
          "height": 994
        }
      },
      "execution_count": 30,
      "outputs": [
        {
          "output_type": "display_data",
          "data": {
            "text/plain": [
              "<IPython.core.display.HTML object>"
            ],
            "text/html": []
          },
          "metadata": {}
        },
        {
          "output_type": "stream",
          "name": "stderr",
          "text": [
            "/usr/local/lib/python3.10/dist-packages/sklearn/metrics/_classification.py:1531: UndefinedMetricWarning: Precision is ill-defined and being set to 0.0 in labels with no predicted samples. Use `zero_division` parameter to control this behavior.\n",
            "  _warn_prf(average, modifier, f\"{metric.capitalize()} is\", len(result))\n"
          ]
        },
        {
          "output_type": "stream",
          "name": "stdout",
          "text": [
            "Classification Report:\n",
            "                   precision    recall  f1-score   support\n",
            "\n",
            "  B-NAME_STUDENT       0.48      0.16      0.24       195\n",
            "               O       1.00      1.00      1.00    234524\n",
            "         B-EMAIL       0.00      0.00      0.00         7\n",
            "  I-URL_PERSONAL       0.00      0.00      0.00         0\n",
            "B-STREET_ADDRESS       0.00      0.00      0.00         0\n",
            "        I-ID_NUM       0.00      0.00      0.00         0\n",
            "  I-NAME_STUDENT       0.42      0.15      0.22       156\n",
            "I-STREET_ADDRESS       0.00      0.00      0.00         0\n",
            "  B-URL_PERSONAL       0.33      0.19      0.24        16\n",
            "        B-ID_NUM       0.00      0.00      0.00        34\n",
            "     B-PHONE_NUM       0.00      0.00      0.00         3\n",
            "      B-USERNAME       0.00      0.00      0.00         0\n",
            "     I-PHONE_NUM       0.00      0.00      0.00         9\n",
            "\n",
            "        accuracy                           1.00    234944\n",
            "       macro avg       0.17      0.11      0.13    234944\n",
            "    weighted avg       1.00      1.00      1.00    234944\n",
            "\n"
          ]
        },
        {
          "output_type": "display_data",
          "data": {
            "text/plain": [
              "<Figure size 1200x1000 with 0 Axes>"
            ]
          },
          "metadata": {}
        },
        {
          "output_type": "display_data",
          "data": {
            "text/plain": [
              "<Figure size 640x480 with 2 Axes>"
            ],
            "image/png": "[encoded data removed]"
          },
          "metadata": {}
        }
      ]
    },
    {
      "cell_type": "markdown",
      "source": [
        "### Save the model\n"
      ],
      "metadata": {
        "id": "2mBF7z5yUFEx"
      }
    },
    {
      "cell_type": "code",
      "source": [
        "# Save the model and tokenizer\n",
        "save_directory = \"./longformer_ner_model\"\n",
        "model.save_pretrained(save_directory)\n",
        "tokenizer.save_pretrained(save_directory)\n",
        "\n",
        "print(f\"Model and tokenizer saved to {save_directory}\")\n"
      ],
      "metadata": {
        "id": "vZkhxyLOUH6D",
        "outputId": "2cd55e09-c60a-4e7e-b69f-d8805f4a3ccf",
        "colab": {
          "base_uri": "https://localhost:8080/"
        }
      },
      "execution_count": 31,
      "outputs": [
        {
          "output_type": "stream",
          "name": "stdout",
          "text": [
            "Model and tokenizer saved to ./longformer_ner_model\n"
          ]
        }
      ]
    },
    {
      "cell_type": "code",
      "source": [],
      "metadata": {
        "id": "Mh1eG52UzzHg"
      },
      "execution_count": 37,
      "outputs": []
    }
  ],
  "metadata": {
    "kernelspec": {
      "display_name": "Python 3",
      "name": "python3"
    },
    "language_info": {
      "codemirror_mode": {
        "name": "ipython",
        "version": 3
      },
      "file_extension": ".py",
      "mimetype": "text/x-python",
      "name": "python",
      "nbconvert_exporter": "python",
      "pygments_lexer": "ipython3",
      "version": "3.10.14"
    },
    "colab": {
      "provenance": [],
      "gpuType": "T4",
      "include_colab_link": true
    },
    "widgets": {
      "application/vnd.jupyter.widget-state+json": {
        "93e92bf3e933432d86ae3fc04065ea22": {
          "model_module": "@jupyter-widgets/controls",
          "model_name": "HBoxModel",
          "model_module_version": "1.5.0",
          "state": {
            "_dom_classes": [],
            "_model_module": "@jupyter-widgets/controls",
            "_model_module_version": "1.5.0",
            "_model_name": "HBoxModel",
            "_view_count": null,
            "_view_module": "@jupyter-widgets/controls",
            "_view_module_version": "1.5.0",
            "_view_name": "HBoxView",
            "box_style": "",
            "children": [
              "IPY_MODEL_2edd9e027b014aea8c6b58658df1dc73",
              "IPY_MODEL_94376c3a285844dda33a86126dd1f5aa",
              "IPY_MODEL_75d3da19a5184020b11e01e62048f890"
            ],
            "layout": "IPY_MODEL_e9a87df2325c4c689372900c9dc4f46f"
          }
        },
        "2edd9e027b014aea8c6b58658df1dc73": {
          "model_module": "@jupyter-widgets/controls",
          "model_name": "HTMLModel",
          "model_module_version": "1.5.0",
          "state": {
            "_dom_classes": [],
            "_model_module": "@jupyter-widgets/controls",
            "_model_module_version": "1.5.0",
            "_model_name": "HTMLModel",
            "_view_count": null,
            "_view_module": "@jupyter-widgets/controls",
            "_view_module_version": "1.5.0",
            "_view_name": "HTMLView",
            "description": "",
            "description_tooltip": null,
            "layout": "IPY_MODEL_47213a60c23947f0b054c0d23a310a29",
            "placeholder": "​",
            "style": "IPY_MODEL_706c65f62a3a4ee6815f5fe8706b1955",
            "value": "Generating train split: "
          }
        },
        "94376c3a285844dda33a86126dd1f5aa": {
          "model_module": "@jupyter-widgets/controls",
          "model_name": "FloatProgressModel",
          "model_module_version": "1.5.0",
          "state": {
            "_dom_classes": [],
            "_model_module": "@jupyter-widgets/controls",
            "_model_module_version": "1.5.0",
            "_model_name": "FloatProgressModel",
            "_view_count": null,
            "_view_module": "@jupyter-widgets/controls",
            "_view_module_version": "1.5.0",
            "_view_name": "ProgressView",
            "bar_style": "success",
            "description": "",
            "description_tooltip": null,
            "layout": "IPY_MODEL_71886ad6202049dfa5316e0c29328d13",
            "max": 1,
            "min": 0,
            "orientation": "horizontal",
            "style": "IPY_MODEL_85845254087a4030812a0cf29c7cec10",
            "value": 1
          }
        },
        "75d3da19a5184020b11e01e62048f890": {
          "model_module": "@jupyter-widgets/controls",
          "model_name": "HTMLModel",
          "model_module_version": "1.5.0",
          "state": {
            "_dom_classes": [],
            "_model_module": "@jupyter-widgets/controls",
            "_model_module_version": "1.5.0",
            "_model_name": "HTMLModel",
            "_view_count": null,
            "_view_module": "@jupyter-widgets/controls",
            "_view_module_version": "1.5.0",
            "_view_name": "HTMLView",
            "description": "",
            "description_tooltip": null,
            "layout": "IPY_MODEL_e39525e32fba4ec8bfa0343bddbf7662",
            "placeholder": "​",
            "style": "IPY_MODEL_79ec2e0c491240babbb3afd9fdd2170e",
            "value": " 6807/0 [00:06&lt;00:00, 1112.29 examples/s]"
          }
        },
        "e9a87df2325c4c689372900c9dc4f46f": {
          "model_module": "@jupyter-widgets/base",
          "model_name": "LayoutModel",
          "model_module_version": "1.2.0",
          "state": {
            "_model_module": "@jupyter-widgets/base",
            "_model_module_version": "1.2.0",
            "_model_name": "LayoutModel",
            "_view_count": null,
            "_view_module": "@jupyter-widgets/base",
            "_view_module_version": "1.2.0",
            "_view_name": "LayoutView",
            "align_content": null,
            "align_items": null,
            "align_self": null,
            "border": null,
            "bottom": null,
            "display": null,
            "flex": null,
            "flex_flow": null,
            "grid_area": null,
            "grid_auto_columns": null,
            "grid_auto_flow": null,
            "grid_auto_rows": null,
            "grid_column": null,
            "grid_gap": null,
            "grid_row": null,
            "grid_template_areas": null,
            "grid_template_columns": null,
            "grid_template_rows": null,
            "height": null,
            "justify_content": null,
            "justify_items": null,
            "left": null,
            "margin": null,
            "max_height": null,
            "max_width": null,
            "min_height": null,
            "min_width": null,
            "object_fit": null,
            "object_position": null,
            "order": null,
            "overflow": null,
            "overflow_x": null,
            "overflow_y": null,
            "padding": null,
            "right": null,
            "top": null,
            "visibility": null,
            "width": null
          }
        },
        "47213a60c23947f0b054c0d23a310a29": {
          "model_module": "@jupyter-widgets/base",
          "model_name": "LayoutModel",
          "model_module_version": "1.2.0",
          "state": {
            "_model_module": "@jupyter-widgets/base",
            "_model_module_version": "1.2.0",
            "_model_name": "LayoutModel",
            "_view_count": null,
            "_view_module": "@jupyter-widgets/base",
            "_view_module_version": "1.2.0",
            "_view_name": "LayoutView",
            "align_content": null,
            "align_items": null,
            "align_self": null,
            "border": null,
            "bottom": null,
            "display": null,
            "flex": null,
            "flex_flow": null,
            "grid_area": null,
            "grid_auto_columns": null,
            "grid_auto_flow": null,
            "grid_auto_rows": null,
            "grid_column": null,
            "grid_gap": null,
            "grid_row": null,
            "grid_template_areas": null,
            "grid_template_columns": null,
            "grid_template_rows": null,
            "height": null,
            "justify_content": null,
            "justify_items": null,
            "left": null,
            "margin": null,
            "max_height": null,
            "max_width": null,
            "min_height": null,
            "min_width": null,
            "object_fit": null,
            "object_position": null,
            "order": null,
            "overflow": null,
            "overflow_x": null,
            "overflow_y": null,
            "padding": null,
            "right": null,
            "top": null,
            "visibility": null,
            "width": null
          }
        },
        "706c65f62a3a4ee6815f5fe8706b1955": {
          "model_module": "@jupyter-widgets/controls",
          "model_name": "DescriptionStyleModel",
          "model_module_version": "1.5.0",
          "state": {
            "_model_module": "@jupyter-widgets/controls",
            "_model_module_version": "1.5.0",
            "_model_name": "DescriptionStyleModel",
            "_view_count": null,
            "_view_module": "@jupyter-widgets/base",
            "_view_module_version": "1.2.0",
            "_view_name": "StyleView",
            "description_width": ""
          }
        },
        "71886ad6202049dfa5316e0c29328d13": {
          "model_module": "@jupyter-widgets/base",
          "model_name": "LayoutModel",
          "model_module_version": "1.2.0",
          "state": {
            "_model_module": "@jupyter-widgets/base",
            "_model_module_version": "1.2.0",
            "_model_name": "LayoutModel",
            "_view_count": null,
            "_view_module": "@jupyter-widgets/base",
            "_view_module_version": "1.2.0",
            "_view_name": "LayoutView",
            "align_content": null,
            "align_items": null,
            "align_self": null,
            "border": null,
            "bottom": null,
            "display": null,
            "flex": null,
            "flex_flow": null,
            "grid_area": null,
            "grid_auto_columns": null,
            "grid_auto_flow": null,
            "grid_auto_rows": null,
            "grid_column": null,
            "grid_gap": null,
            "grid_row": null,
            "grid_template_areas": null,
            "grid_template_columns": null,
            "grid_template_rows": null,
            "height": null,
            "justify_content": null,
            "justify_items": null,
            "left": null,
            "margin": null,
            "max_height": null,
            "max_width": null,
            "min_height": null,
            "min_width": null,
            "object_fit": null,
            "object_position": null,
            "order": null,
            "overflow": null,
            "overflow_x": null,
            "overflow_y": null,
            "padding": null,
            "right": null,
            "top": null,
            "visibility": null,
            "width": "20px"
          }
        },
        "85845254087a4030812a0cf29c7cec10": {
          "model_module": "@jupyter-widgets/controls",
          "model_name": "ProgressStyleModel",
          "model_module_version": "1.5.0",
          "state": {
            "_model_module": "@jupyter-widgets/controls",
            "_model_module_version": "1.5.0",
            "_model_name": "ProgressStyleModel",
            "_view_count": null,
            "_view_module": "@jupyter-widgets/base",
            "_view_module_version": "1.2.0",
            "_view_name": "StyleView",
            "bar_color": null,
            "description_width": ""
          }
        },
        "e39525e32fba4ec8bfa0343bddbf7662": {
          "model_module": "@jupyter-widgets/base",
          "model_name": "LayoutModel",
          "model_module_version": "1.2.0",
          "state": {
            "_model_module": "@jupyter-widgets/base",
            "_model_module_version": "1.2.0",
            "_model_name": "LayoutModel",
            "_view_count": null,
            "_view_module": "@jupyter-widgets/base",
            "_view_module_version": "1.2.0",
            "_view_name": "LayoutView",
            "align_content": null,
            "align_items": null,
            "align_self": null,
            "border": null,
            "bottom": null,
            "display": null,
            "flex": null,
            "flex_flow": null,
            "grid_area": null,
            "grid_auto_columns": null,
            "grid_auto_flow": null,
            "grid_auto_rows": null,
            "grid_column": null,
            "grid_gap": null,
            "grid_row": null,
            "grid_template_areas": null,
            "grid_template_columns": null,
            "grid_template_rows": null,
            "height": null,
            "justify_content": null,
            "justify_items": null,
            "left": null,
            "margin": null,
            "max_height": null,
            "max_width": null,
            "min_height": null,
            "min_width": null,
            "object_fit": null,
            "object_position": null,
            "order": null,
            "overflow": null,
            "overflow_x": null,
            "overflow_y": null,
            "padding": null,
            "right": null,
            "top": null,
            "visibility": null,
            "width": null
          }
        },
        "79ec2e0c491240babbb3afd9fdd2170e": {
          "model_module": "@jupyter-widgets/controls",
          "model_name": "DescriptionStyleModel",
          "model_module_version": "1.5.0",
          "state": {
            "_model_module": "@jupyter-widgets/controls",
            "_model_module_version": "1.5.0",
            "_model_name": "DescriptionStyleModel",
            "_view_count": null,
            "_view_module": "@jupyter-widgets/base",
            "_view_module_version": "1.2.0",
            "_view_name": "StyleView",
            "description_width": ""
          }
        },
        "6800c936214842e1825bda41c1f16fd0": {
          "model_module": "@jupyter-widgets/controls",
          "model_name": "HBoxModel",
          "model_module_version": "1.5.0",
          "state": {
            "_dom_classes": [],
            "_model_module": "@jupyter-widgets/controls",
            "_model_module_version": "1.5.0",
            "_model_name": "HBoxModel",
            "_view_count": null,
            "_view_module": "@jupyter-widgets/controls",
            "_view_module_version": "1.5.0",
            "_view_name": "HBoxView",
            "box_style": "",
            "children": [
              "IPY_MODEL_67010d5ef1dc44b7983bfbb84ece9841",
              "IPY_MODEL_a7b9859344804a8ba755c9b35f26a786",
              "IPY_MODEL_a7b35263768a45ee9c1a0a74409eacfc"
            ],
            "layout": "IPY_MODEL_fc5e1a5f883b4c758cc35245f7972445"
          }
        },
        "67010d5ef1dc44b7983bfbb84ece9841": {
          "model_module": "@jupyter-widgets/controls",
          "model_name": "HTMLModel",
          "model_module_version": "1.5.0",
          "state": {
            "_dom_classes": [],
            "_model_module": "@jupyter-widgets/controls",
            "_model_module_version": "1.5.0",
            "_model_name": "HTMLModel",
            "_view_count": null,
            "_view_module": "@jupyter-widgets/controls",
            "_view_module_version": "1.5.0",
            "_view_name": "HTMLView",
            "description": "",
            "description_tooltip": null,
            "layout": "IPY_MODEL_eac9cc365acd4adba10fdccb94367ad0",
            "placeholder": "​",
            "style": "IPY_MODEL_caa365bf989d4c108555a439c37f1286",
            "value": "Map: 100%"
          }
        },
        "a7b9859344804a8ba755c9b35f26a786": {
          "model_module": "@jupyter-widgets/controls",
          "model_name": "FloatProgressModel",
          "model_module_version": "1.5.0",
          "state": {
            "_dom_classes": [],
            "_model_module": "@jupyter-widgets/controls",
            "_model_module_version": "1.5.0",
            "_model_name": "FloatProgressModel",
            "_view_count": null,
            "_view_module": "@jupyter-widgets/controls",
            "_view_module_version": "1.5.0",
            "_view_name": "ProgressView",
            "bar_style": "success",
            "description": "",
            "description_tooltip": null,
            "layout": "IPY_MODEL_b6177e6bbd9641dcbd8f316d9c5f3692",
            "max": 1200,
            "min": 0,
            "orientation": "horizontal",
            "style": "IPY_MODEL_e4467fed7a25480e9aa3c01cc8493022",
            "value": 1200
          }
        },
        "a7b35263768a45ee9c1a0a74409eacfc": {
          "model_module": "@jupyter-widgets/controls",
          "model_name": "HTMLModel",
          "model_module_version": "1.5.0",
          "state": {
            "_dom_classes": [],
            "_model_module": "@jupyter-widgets/controls",
            "_model_module_version": "1.5.0",
            "_model_name": "HTMLModel",
            "_view_count": null,
            "_view_module": "@jupyter-widgets/controls",
            "_view_module_version": "1.5.0",
            "_view_name": "HTMLView",
            "description": "",
            "description_tooltip": null,
            "layout": "IPY_MODEL_f8faa9b998e347d4a3ac82ab42a9f7a5",
            "placeholder": "​",
            "style": "IPY_MODEL_c1b0f528da624740afcf705a375be433",
            "value": " 1200/1200 [00:14&lt;00:00, 80.05 examples/s]"
          }
        },
        "fc5e1a5f883b4c758cc35245f7972445": {
          "model_module": "@jupyter-widgets/base",
          "model_name": "LayoutModel",
          "model_module_version": "1.2.0",
          "state": {
            "_model_module": "@jupyter-widgets/base",
            "_model_module_version": "1.2.0",
            "_model_name": "LayoutModel",
            "_view_count": null,
            "_view_module": "@jupyter-widgets/base",
            "_view_module_version": "1.2.0",
            "_view_name": "LayoutView",
            "align_content": null,
            "align_items": null,
            "align_self": null,
            "border": null,
            "bottom": null,
            "display": null,
            "flex": null,
            "flex_flow": null,
            "grid_area": null,
            "grid_auto_columns": null,
            "grid_auto_flow": null,
            "grid_auto_rows": null,
            "grid_column": null,
            "grid_gap": null,
            "grid_row": null,
            "grid_template_areas": null,
            "grid_template_columns": null,
            "grid_template_rows": null,
            "height": null,
            "justify_content": null,
            "justify_items": null,
            "left": null,
            "margin": null,
            "max_height": null,
            "max_width": null,
            "min_height": null,
            "min_width": null,
            "object_fit": null,
            "object_position": null,
            "order": null,
            "overflow": null,
            "overflow_x": null,
            "overflow_y": null,
            "padding": null,
            "right": null,
            "top": null,
            "visibility": null,
            "width": null
          }
        },
        "eac9cc365acd4adba10fdccb94367ad0": {
          "model_module": "@jupyter-widgets/base",
          "model_name": "LayoutModel",
          "model_module_version": "1.2.0",
          "state": {
            "_model_module": "@jupyter-widgets/base",
            "_model_module_version": "1.2.0",
            "_model_name": "LayoutModel",
            "_view_count": null,
            "_view_module": "@jupyter-widgets/base",
            "_view_module_version": "1.2.0",
            "_view_name": "LayoutView",
            "align_content": null,
            "align_items": null,
            "align_self": null,
            "border": null,
            "bottom": null,
            "display": null,
            "flex": null,
            "flex_flow": null,
            "grid_area": null,
            "grid_auto_columns": null,
            "grid_auto_flow": null,
            "grid_auto_rows": null,
            "grid_column": null,
            "grid_gap": null,
            "grid_row": null,
            "grid_template_areas": null,
            "grid_template_columns": null,
            "grid_template_rows": null,
            "height": null,
            "justify_content": null,
            "justify_items": null,
            "left": null,
            "margin": null,
            "max_height": null,
            "max_width": null,
            "min_height": null,
            "min_width": null,
            "object_fit": null,
            "object_position": null,
            "order": null,
            "overflow": null,
            "overflow_x": null,
            "overflow_y": null,
            "padding": null,
            "right": null,
            "top": null,
            "visibility": null,
            "width": null
          }
        },
        "caa365bf989d4c108555a439c37f1286": {
          "model_module": "@jupyter-widgets/controls",
          "model_name": "DescriptionStyleModel",
          "model_module_version": "1.5.0",
          "state": {
            "_model_module": "@jupyter-widgets/controls",
            "_model_module_version": "1.5.0",
            "_model_name": "DescriptionStyleModel",
            "_view_count": null,
            "_view_module": "@jupyter-widgets/base",
            "_view_module_version": "1.2.0",
            "_view_name": "StyleView",
            "description_width": ""
          }
        },
        "b6177e6bbd9641dcbd8f316d9c5f3692": {
          "model_module": "@jupyter-widgets/base",
          "model_name": "LayoutModel",
          "model_module_version": "1.2.0",
          "state": {
            "_model_module": "@jupyter-widgets/base",
            "_model_module_version": "1.2.0",
            "_model_name": "LayoutModel",
            "_view_count": null,
            "_view_module": "@jupyter-widgets/base",
            "_view_module_version": "1.2.0",
            "_view_name": "LayoutView",
            "align_content": null,
            "align_items": null,
            "align_self": null,
            "border": null,
            "bottom": null,
            "display": null,
            "flex": null,
            "flex_flow": null,
            "grid_area": null,
            "grid_auto_columns": null,
            "grid_auto_flow": null,
            "grid_auto_rows": null,
            "grid_column": null,
            "grid_gap": null,
            "grid_row": null,
            "grid_template_areas": null,
            "grid_template_columns": null,
            "grid_template_rows": null,
            "height": null,
            "justify_content": null,
            "justify_items": null,
            "left": null,
            "margin": null,
            "max_height": null,
            "max_width": null,
            "min_height": null,
            "min_width": null,
            "object_fit": null,
            "object_position": null,
            "order": null,
            "overflow": null,
            "overflow_x": null,
            "overflow_y": null,
            "padding": null,
            "right": null,
            "top": null,
            "visibility": null,
            "width": null
          }
        },
        "e4467fed7a25480e9aa3c01cc8493022": {
          "model_module": "@jupyter-widgets/controls",
          "model_name": "ProgressStyleModel",
          "model_module_version": "1.5.0",
          "state": {
            "_model_module": "@jupyter-widgets/controls",
            "_model_module_version": "1.5.0",
            "_model_name": "ProgressStyleModel",
            "_view_count": null,
            "_view_module": "@jupyter-widgets/base",
            "_view_module_version": "1.2.0",
            "_view_name": "StyleView",
            "bar_color": null,
            "description_width": ""
          }
        },
        "f8faa9b998e347d4a3ac82ab42a9f7a5": {
          "model_module": "@jupyter-widgets/base",
          "model_name": "LayoutModel",
          "model_module_version": "1.2.0",
          "state": {
            "_model_module": "@jupyter-widgets/base",
            "_model_module_version": "1.2.0",
            "_model_name": "LayoutModel",
            "_view_count": null,
            "_view_module": "@jupyter-widgets/base",
            "_view_module_version": "1.2.0",
            "_view_name": "LayoutView",
            "align_content": null,
            "align_items": null,
            "align_self": null,
            "border": null,
            "bottom": null,
            "display": null,
            "flex": null,
            "flex_flow": null,
            "grid_area": null,
            "grid_auto_columns": null,
            "grid_auto_flow": null,
            "grid_auto_rows": null,
            "grid_column": null,
            "grid_gap": null,
            "grid_row": null,
            "grid_template_areas": null,
            "grid_template_columns": null,
            "grid_template_rows": null,
            "height": null,
            "justify_content": null,
            "justify_items": null,
            "left": null,
            "margin": null,
            "max_height": null,
            "max_width": null,
            "min_height": null,
            "min_width": null,
            "object_fit": null,
            "object_position": null,
            "order": null,
            "overflow": null,
            "overflow_x": null,
            "overflow_y": null,
            "padding": null,
            "right": null,
            "top": null,
            "visibility": null,
            "width": null
          }
        },
        "c1b0f528da624740afcf705a375be433": {
          "model_module": "@jupyter-widgets/controls",
          "model_name": "DescriptionStyleModel",
          "model_module_version": "1.5.0",
          "state": {
            "_model_module": "@jupyter-widgets/controls",
            "_model_module_version": "1.5.0",
            "_model_name": "DescriptionStyleModel",
            "_view_count": null,
            "_view_module": "@jupyter-widgets/base",
            "_view_module_version": "1.2.0",
            "_view_name": "StyleView",
            "description_width": ""
          }
        },
        "5e46f49c80cb4e3d97b42f27101a274f": {
          "model_module": "@jupyter-widgets/controls",
          "model_name": "HBoxModel",
          "model_module_version": "1.5.0",
          "state": {
            "_dom_classes": [],
            "_model_module": "@jupyter-widgets/controls",
            "_model_module_version": "1.5.0",
            "_model_name": "HBoxModel",
            "_view_count": null,
            "_view_module": "@jupyter-widgets/controls",
            "_view_module_version": "1.5.0",
            "_view_name": "HBoxView",
            "box_style": "",
            "children": [
              "IPY_MODEL_a42cade591b94f15b4f01afbb665e2a5",
              "IPY_MODEL_f6aadb0c0bc54b02b5bec2e2ba66d673",
              "IPY_MODEL_21bd0f81f1174954b6cbabbddc5500bb"
            ],
            "layout": "IPY_MODEL_409577d79e9b4c7c9f1a48943f9407d9"
          }
        },
        "a42cade591b94f15b4f01afbb665e2a5": {
          "model_module": "@jupyter-widgets/controls",
          "model_name": "HTMLModel",
          "model_module_version": "1.5.0",
          "state": {
            "_dom_classes": [],
            "_model_module": "@jupyter-widgets/controls",
            "_model_module_version": "1.5.0",
            "_model_name": "HTMLModel",
            "_view_count": null,
            "_view_module": "@jupyter-widgets/controls",
            "_view_module_version": "1.5.0",
            "_view_name": "HTMLView",
            "description": "",
            "description_tooltip": null,
            "layout": "IPY_MODEL_0e52e1178345462e9f2f4688f73283a4",
            "placeholder": "​",
            "style": "IPY_MODEL_4b907cea36324854ba61f94e7d67b719",
            "value": "Map: 100%"
          }
        },
        "f6aadb0c0bc54b02b5bec2e2ba66d673": {
          "model_module": "@jupyter-widgets/controls",
          "model_name": "FloatProgressModel",
          "model_module_version": "1.5.0",
          "state": {
            "_dom_classes": [],
            "_model_module": "@jupyter-widgets/controls",
            "_model_module_version": "1.5.0",
            "_model_name": "FloatProgressModel",
            "_view_count": null,
            "_view_module": "@jupyter-widgets/controls",
            "_view_module_version": "1.5.0",
            "_view_name": "ProgressView",
            "bar_style": "success",
            "description": "",
            "description_tooltip": null,
            "layout": "IPY_MODEL_53aacdd390e44a67805432e0537b5554",
            "max": 300,
            "min": 0,
            "orientation": "horizontal",
            "style": "IPY_MODEL_a4d507efe88841a7b1907f9976eb64d8",
            "value": 300
          }
        },
        "21bd0f81f1174954b6cbabbddc5500bb": {
          "model_module": "@jupyter-widgets/controls",
          "model_name": "HTMLModel",
          "model_module_version": "1.5.0",
          "state": {
            "_dom_classes": [],
            "_model_module": "@jupyter-widgets/controls",
            "_model_module_version": "1.5.0",
            "_model_name": "HTMLModel",
            "_view_count": null,
            "_view_module": "@jupyter-widgets/controls",
            "_view_module_version": "1.5.0",
            "_view_name": "HTMLView",
            "description": "",
            "description_tooltip": null,
            "layout": "IPY_MODEL_321bcf08882e4a8f9f334c0f1ddcacef",
            "placeholder": "​",
            "style": "IPY_MODEL_9af8a052f8a341b5aaf0418f9438a793",
            "value": " 300/300 [00:03&lt;00:00, 92.36 examples/s]"
          }
        },
        "409577d79e9b4c7c9f1a48943f9407d9": {
          "model_module": "@jupyter-widgets/base",
          "model_name": "LayoutModel",
          "model_module_version": "1.2.0",
          "state": {
            "_model_module": "@jupyter-widgets/base",
            "_model_module_version": "1.2.0",
            "_model_name": "LayoutModel",
            "_view_count": null,
            "_view_module": "@jupyter-widgets/base",
            "_view_module_version": "1.2.0",
            "_view_name": "LayoutView",
            "align_content": null,
            "align_items": null,
            "align_self": null,
            "border": null,
            "bottom": null,
            "display": null,
            "flex": null,
            "flex_flow": null,
            "grid_area": null,
            "grid_auto_columns": null,
            "grid_auto_flow": null,
            "grid_auto_rows": null,
            "grid_column": null,
            "grid_gap": null,
            "grid_row": null,
            "grid_template_areas": null,
            "grid_template_columns": null,
            "grid_template_rows": null,
            "height": null,
            "justify_content": null,
            "justify_items": null,
            "left": null,
            "margin": null,
            "max_height": null,
            "max_width": null,
            "min_height": null,
            "min_width": null,
            "object_fit": null,
            "object_position": null,
            "order": null,
            "overflow": null,
            "overflow_x": null,
            "overflow_y": null,
            "padding": null,
            "right": null,
            "top": null,
            "visibility": null,
            "width": null
          }
        },
        "0e52e1178345462e9f2f4688f73283a4": {
          "model_module": "@jupyter-widgets/base",
          "model_name": "LayoutModel",
          "model_module_version": "1.2.0",
          "state": {
            "_model_module": "@jupyter-widgets/base",
            "_model_module_version": "1.2.0",
            "_model_name": "LayoutModel",
            "_view_count": null,
            "_view_module": "@jupyter-widgets/base",
            "_view_module_version": "1.2.0",
            "_view_name": "LayoutView",
            "align_content": null,
            "align_items": null,
            "align_self": null,
            "border": null,
            "bottom": null,
            "display": null,
            "flex": null,
            "flex_flow": null,
            "grid_area": null,
            "grid_auto_columns": null,
            "grid_auto_flow": null,
            "grid_auto_rows": null,
            "grid_column": null,
            "grid_gap": null,
            "grid_row": null,
            "grid_template_areas": null,
            "grid_template_columns": null,
            "grid_template_rows": null,
            "height": null,
            "justify_content": null,
            "justify_items": null,
            "left": null,
            "margin": null,
            "max_height": null,
            "max_width": null,
            "min_height": null,
            "min_width": null,
            "object_fit": null,
            "object_position": null,
            "order": null,
            "overflow": null,
            "overflow_x": null,
            "overflow_y": null,
            "padding": null,
            "right": null,
            "top": null,
            "visibility": null,
            "width": null
          }
        },
        "4b907cea36324854ba61f94e7d67b719": {
          "model_module": "@jupyter-widgets/controls",
          "model_name": "DescriptionStyleModel",
          "model_module_version": "1.5.0",
          "state": {
            "_model_module": "@jupyter-widgets/controls",
            "_model_module_version": "1.5.0",
            "_model_name": "DescriptionStyleModel",
            "_view_count": null,
            "_view_module": "@jupyter-widgets/base",
            "_view_module_version": "1.2.0",
            "_view_name": "StyleView",
            "description_width": ""
          }
        },
        "53aacdd390e44a67805432e0537b5554": {
          "model_module": "@jupyter-widgets/base",
          "model_name": "LayoutModel",
          "model_module_version": "1.2.0",
          "state": {
            "_model_module": "@jupyter-widgets/base",
            "_model_module_version": "1.2.0",
            "_model_name": "LayoutModel",
            "_view_count": null,
            "_view_module": "@jupyter-widgets/base",
            "_view_module_version": "1.2.0",
            "_view_name": "LayoutView",
            "align_content": null,
            "align_items": null,
            "align_self": null,
            "border": null,
            "bottom": null,
            "display": null,
            "flex": null,
            "flex_flow": null,
            "grid_area": null,
            "grid_auto_columns": null,
            "grid_auto_flow": null,
            "grid_auto_rows": null,
            "grid_column": null,
            "grid_gap": null,
            "grid_row": null,
            "grid_template_areas": null,
            "grid_template_columns": null,
            "grid_template_rows": null,
            "height": null,
            "justify_content": null,
            "justify_items": null,
            "left": null,
            "margin": null,
            "max_height": null,
            "max_width": null,
            "min_height": null,
            "min_width": null,
            "object_fit": null,
            "object_position": null,
            "order": null,
            "overflow": null,
            "overflow_x": null,
            "overflow_y": null,
            "padding": null,
            "right": null,
            "top": null,
            "visibility": null,
            "width": null
          }
        },
        "a4d507efe88841a7b1907f9976eb64d8": {
          "model_module": "@jupyter-widgets/controls",
          "model_name": "ProgressStyleModel",
          "model_module_version": "1.5.0",
          "state": {
            "_model_module": "@jupyter-widgets/controls",
            "_model_module_version": "1.5.0",
            "_model_name": "ProgressStyleModel",
            "_view_count": null,
            "_view_module": "@jupyter-widgets/base",
            "_view_module_version": "1.2.0",
            "_view_name": "StyleView",
            "bar_color": null,
            "description_width": ""
          }
        },
        "321bcf08882e4a8f9f334c0f1ddcacef": {
          "model_module": "@jupyter-widgets/base",
          "model_name": "LayoutModel",
          "model_module_version": "1.2.0",
          "state": {
            "_model_module": "@jupyter-widgets/base",
            "_model_module_version": "1.2.0",
            "_model_name": "LayoutModel",
            "_view_count": null,
            "_view_module": "@jupyter-widgets/base",
            "_view_module_version": "1.2.0",
            "_view_name": "LayoutView",
            "align_content": null,
            "align_items": null,
            "align_self": null,
            "border": null,
            "bottom": null,
            "display": null,
            "flex": null,
            "flex_flow": null,
            "grid_area": null,
            "grid_auto_columns": null,
            "grid_auto_flow": null,
            "grid_auto_rows": null,
            "grid_column": null,
            "grid_gap": null,
            "grid_row": null,
            "grid_template_areas": null,
            "grid_template_columns": null,
            "grid_template_rows": null,
            "height": null,
            "justify_content": null,
            "justify_items": null,
            "left": null,
            "margin": null,
            "max_height": null,
            "max_width": null,
            "min_height": null,
            "min_width": null,
            "object_fit": null,
            "object_position": null,
            "order": null,
            "overflow": null,
            "overflow_x": null,
            "overflow_y": null,
            "padding": null,
            "right": null,
            "top": null,
            "visibility": null,
            "width": null
          }
        },
        "9af8a052f8a341b5aaf0418f9438a793": {
          "model_module": "@jupyter-widgets/controls",
          "model_name": "DescriptionStyleModel",
          "model_module_version": "1.5.0",
          "state": {
            "_model_module": "@jupyter-widgets/controls",
            "_model_module_version": "1.5.0",
            "_model_name": "DescriptionStyleModel",
            "_view_count": null,
            "_view_module": "@jupyter-widgets/base",
            "_view_module_version": "1.2.0",
            "_view_name": "StyleView",
            "description_width": ""
          }
        }
      }
    },
    "accelerator": "GPU"
  },
  "nbformat": 4,
  "nbformat_minor": 0
}