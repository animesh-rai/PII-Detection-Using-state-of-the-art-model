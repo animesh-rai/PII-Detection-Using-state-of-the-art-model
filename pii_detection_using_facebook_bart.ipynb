{
  "cells": [
    {
      "cell_type": "markdown",
      "metadata": {
        "id": "view-in-github",
        "colab_type": "text"
      },
      "source": [
        "<a href=\"https://colab.research.google.com/github/animesh-rai/PII-Detection-Using-state-of-the-art-model/blob/main/pii_detection_using_facebook_bart.ipynb\" target=\"_parent\"><img src=\"https://colab.research.google.com/assets/colab-badge.svg\" alt=\"Open In Colab\"/></a>"
      ]
    },
    {
      "cell_type": "code",
      "source": [
        "!pip install datasets"
      ],
      "metadata": {
        "colab": {
          "base_uri": "https://localhost:8080/"
        },
        "id": "laJwWReQ7Eqz",
        "outputId": "d9ff4fa4-f986-4d78-860a-cccef4782601"
      },
      "execution_count": 38,
      "outputs": [
        {
          "output_type": "stream",
          "name": "stdout",
          "text": [
            "Requirement already satisfied: datasets in /usr/local/lib/python3.10/dist-packages (3.1.0)\n",
            "Requirement already satisfied: filelock in /usr/local/lib/python3.10/dist-packages (from datasets) (3.16.1)\n",
            "Requirement already satisfied: numpy>=1.17 in /usr/local/lib/python3.10/dist-packages (from datasets) (1.26.4)\n",
            "Requirement already satisfied: pyarrow>=15.0.0 in /usr/local/lib/python3.10/dist-packages (from datasets) (17.0.0)\n",
            "Requirement already satisfied: dill<0.3.9,>=0.3.0 in /usr/local/lib/python3.10/dist-packages (from datasets) (0.3.8)\n",
            "Requirement already satisfied: pandas in /usr/local/lib/python3.10/dist-packages (from datasets) (2.2.2)\n",
            "Requirement already satisfied: requests>=2.32.2 in /usr/local/lib/python3.10/dist-packages (from datasets) (2.32.3)\n",
            "Requirement already satisfied: tqdm>=4.66.3 in /usr/local/lib/python3.10/dist-packages (from datasets) (4.66.6)\n",
            "Requirement already satisfied: xxhash in /usr/local/lib/python3.10/dist-packages (from datasets) (3.5.0)\n",
            "Requirement already satisfied: multiprocess<0.70.17 in /usr/local/lib/python3.10/dist-packages (from datasets) (0.70.16)\n",
            "Requirement already satisfied: fsspec<=2024.9.0,>=2023.1.0 in /usr/local/lib/python3.10/dist-packages (from fsspec[http]<=2024.9.0,>=2023.1.0->datasets) (2024.9.0)\n",
            "Requirement already satisfied: aiohttp in /usr/local/lib/python3.10/dist-packages (from datasets) (3.11.2)\n",
            "Requirement already satisfied: huggingface-hub>=0.23.0 in /usr/local/lib/python3.10/dist-packages (from datasets) (0.26.2)\n",
            "Requirement already satisfied: packaging in /usr/local/lib/python3.10/dist-packages (from datasets) (24.2)\n",
            "Requirement already satisfied: pyyaml>=5.1 in /usr/local/lib/python3.10/dist-packages (from datasets) (6.0.2)\n",
            "Requirement already satisfied: aiohappyeyeballs>=2.3.0 in /usr/local/lib/python3.10/dist-packages (from aiohttp->datasets) (2.4.3)\n",
            "Requirement already satisfied: aiosignal>=1.1.2 in /usr/local/lib/python3.10/dist-packages (from aiohttp->datasets) (1.3.1)\n",
            "Requirement already satisfied: attrs>=17.3.0 in /usr/local/lib/python3.10/dist-packages (from aiohttp->datasets) (24.2.0)\n",
            "Requirement already satisfied: frozenlist>=1.1.1 in /usr/local/lib/python3.10/dist-packages (from aiohttp->datasets) (1.5.0)\n",
            "Requirement already satisfied: multidict<7.0,>=4.5 in /usr/local/lib/python3.10/dist-packages (from aiohttp->datasets) (6.1.0)\n",
            "Requirement already satisfied: propcache>=0.2.0 in /usr/local/lib/python3.10/dist-packages (from aiohttp->datasets) (0.2.0)\n",
            "Requirement already satisfied: yarl<2.0,>=1.17.0 in /usr/local/lib/python3.10/dist-packages (from aiohttp->datasets) (1.17.2)\n",
            "Requirement already satisfied: async-timeout<6.0,>=4.0 in /usr/local/lib/python3.10/dist-packages (from aiohttp->datasets) (4.0.3)\n",
            "Requirement already satisfied: typing-extensions>=3.7.4.3 in /usr/local/lib/python3.10/dist-packages (from huggingface-hub>=0.23.0->datasets) (4.12.2)\n",
            "Requirement already satisfied: charset-normalizer<4,>=2 in /usr/local/lib/python3.10/dist-packages (from requests>=2.32.2->datasets) (3.4.0)\n",
            "Requirement already satisfied: idna<4,>=2.5 in /usr/local/lib/python3.10/dist-packages (from requests>=2.32.2->datasets) (3.10)\n",
            "Requirement already satisfied: urllib3<3,>=1.21.1 in /usr/local/lib/python3.10/dist-packages (from requests>=2.32.2->datasets) (2.2.3)\n",
            "Requirement already satisfied: certifi>=2017.4.17 in /usr/local/lib/python3.10/dist-packages (from requests>=2.32.2->datasets) (2024.8.30)\n",
            "Requirement already satisfied: python-dateutil>=2.8.2 in /usr/local/lib/python3.10/dist-packages (from pandas->datasets) (2.8.2)\n",
            "Requirement already satisfied: pytz>=2020.1 in /usr/local/lib/python3.10/dist-packages (from pandas->datasets) (2024.2)\n",
            "Requirement already satisfied: tzdata>=2022.7 in /usr/local/lib/python3.10/dist-packages (from pandas->datasets) (2024.2)\n",
            "Requirement already satisfied: six>=1.5 in /usr/local/lib/python3.10/dist-packages (from python-dateutil>=2.8.2->pandas->datasets) (1.16.0)\n"
          ]
        }
      ]
    },
    {
      "cell_type": "code",
      "execution_count": 39,
      "metadata": {
        "colab": {
          "base_uri": "https://localhost:8080/"
        },
        "id": "9abyRb226kyb",
        "outputId": "223d269c-2d3b-4e39-9948-ad43d0b61e0b"
      },
      "outputs": [
        {
          "output_type": "stream",
          "name": "stdout",
          "text": [
            "Start Time:  2024-12-03 19:51:53\n"
          ]
        }
      ],
      "source": [
        "#Import packages\n",
        "import torch\n",
        "from torch.utils.data import DataLoader\n",
        "from transformers import AutoTokenizer, AutoModelForTokenClassification, TrainingArguments, Trainer, DataCollatorForTokenClassification\n",
        "from sklearn.metrics import classification_report, precision_recall_fscore_support\n",
        "from collections import Counter\n",
        "import datasets\n",
        "from sklearn.model_selection import train_test_split\n",
        "from sklearn.utils.class_weight import compute_class_weight\n",
        "import pandas as pd\n",
        "import numpy as np\n",
        "import torch.nn as nn\n",
        "import torch.nn.functional as F\n",
        "import gc\n",
        "import re\n",
        "import random\n",
        "from itertools import chain\n",
        "\n",
        "#import wandb\n",
        "# Initialize wandb\n",
        "#wandb.init(project=\"pii-detection\")\n",
        "\n",
        "#Set random seeds for reproducibility\n",
        "def set_seed(seed):\n",
        "    random.seed(seed)\n",
        "    np.random.seed(seed)\n",
        "    torch.manual_seed(seed)\n",
        "    if torch.cuda.is_available():\n",
        "        torch.cuda.manual_seed_all(seed)\n",
        "        torch.backends.cudnn.deterministic = True\n",
        "        torch.backends.cudnn.benchmark = False\n",
        "\n",
        "seed_value = 42\n",
        "set_seed(seed_value)\n",
        "\n",
        "import time\n",
        "# Capture the start time\n",
        "start_time = time.time()\n",
        "print(\"Start Time: \", time.strftime(\"%Y-%m-%d %H:%M:%S\", time.localtime(start_time)))"
      ]
    },
    {
      "cell_type": "code",
      "execution_count": 40,
      "metadata": {
        "colab": {
          "base_uri": "https://localhost:8080/"
        },
        "id": "UXTYPint6kyb",
        "outputId": "ce65ce01-ef83-47bb-9e93-2b6d51951a5a"
      },
      "outputs": [
        {
          "output_type": "stream",
          "name": "stdout",
          "text": [
            "GPU: Tesla T4 is available.\n"
          ]
        }
      ],
      "source": [
        "import torch\n",
        "if torch.cuda.is_available():\n",
        "    print(f\"GPU: {torch.cuda.get_device_name(0)} is available.\")\n",
        "else:\n",
        "    print(\"No GPU available. Training will run on CPU.\")"
      ]
    },
    {
      "cell_type": "code",
      "source": [
        "from google.colab import drive\n",
        "drive.mount('/content/drive')"
      ],
      "metadata": {
        "colab": {
          "base_uri": "https://localhost:8080/"
        },
        "id": "wq0FqMI_wdkS",
        "outputId": "280f4f21-049e-4f5f-dae6-233d70419cbd"
      },
      "execution_count": 41,
      "outputs": [
        {
          "output_type": "stream",
          "name": "stdout",
          "text": [
            "Drive already mounted at /content/drive; to attempt to forcibly remount, call drive.mount(\"/content/drive\", force_remount=True).\n"
          ]
        }
      ]
    },
    {
      "cell_type": "markdown",
      "metadata": {
        "id": "5BSJOzS-6kyb"
      },
      "source": [
        "### Load Data\n",
        "Load the training data from the provided JSON file and create a Hugging Face Dataset object. The data is split into training and evaluation sets."
      ]
    },
    {
      "cell_type": "code",
      "execution_count": 42,
      "metadata": {
        "id": "-KJK375F6kyc",
        "outputId": "b036d22b-6b3e-4e25-dc09-b41a7b0d2188",
        "colab": {
          "base_uri": "https://localhost:8080/"
        }
      },
      "outputs": [
        {
          "output_type": "stream",
          "name": "stderr",
          "text": [
            "Some weights of the Flax model were not used when initializing the PyTorch model BartForConditionalGeneration: ['shared.weight', 'encoder.embed_positions.weight', 'encoder.layers.0.self_attn.k_proj.weight', 'encoder.layers.0.self_attn.v_proj.weight', 'encoder.layers.0.self_attn.q_proj.weight', 'encoder.layers.0.self_attn.out_proj.weight', 'encoder.layers.0.self_attn_layer_norm.weight', 'encoder.layers.0.fc1.weight', 'encoder.layers.0.fc2.weight', 'encoder.layers.0.final_layer_norm.weight', 'encoder.layers.1.self_attn.k_proj.weight', 'encoder.layers.1.self_attn.v_proj.weight', 'encoder.layers.1.self_attn.q_proj.weight', 'encoder.layers.1.self_attn.out_proj.weight', 'encoder.layers.1.self_attn_layer_norm.weight', 'encoder.layers.1.fc1.weight', 'encoder.layers.1.fc2.weight', 'encoder.layers.1.final_layer_norm.weight', 'encoder.layers.2.self_attn.k_proj.weight', 'encoder.layers.2.self_attn.v_proj.weight', 'encoder.layers.2.self_attn.q_proj.weight', 'encoder.layers.2.self_attn.out_proj.weight', 'encoder.layers.2.self_attn_layer_norm.weight', 'encoder.layers.2.fc1.weight', 'encoder.layers.2.fc2.weight', 'encoder.layers.2.final_layer_norm.weight', 'encoder.layers.3.self_attn.k_proj.weight', 'encoder.layers.3.self_attn.v_proj.weight', 'encoder.layers.3.self_attn.q_proj.weight', 'encoder.layers.3.self_attn.out_proj.weight', 'encoder.layers.3.self_attn_layer_norm.weight', 'encoder.layers.3.fc1.weight', 'encoder.layers.3.fc2.weight', 'encoder.layers.3.final_layer_norm.weight', 'encoder.layers.4.self_attn.k_proj.weight', 'encoder.layers.4.self_attn.v_proj.weight', 'encoder.layers.4.self_attn.q_proj.weight', 'encoder.layers.4.self_attn.out_proj.weight', 'encoder.layers.4.self_attn_layer_norm.weight', 'encoder.layers.4.fc1.weight', 'encoder.layers.4.fc2.weight', 'encoder.layers.4.final_layer_norm.weight', 'encoder.layers.5.self_attn.k_proj.weight', 'encoder.layers.5.self_attn.v_proj.weight', 'encoder.layers.5.self_attn.q_proj.weight', 'encoder.layers.5.self_attn.out_proj.weight', 'encoder.layers.5.self_attn_layer_norm.weight', 'encoder.layers.5.fc1.weight', 'encoder.layers.5.fc2.weight', 'encoder.layers.5.final_layer_norm.weight', 'encoder.layernorm_embedding.weight', 'decoder.embed_positions.weight', 'decoder.layers.0.self_attn.k_proj.weight', 'decoder.layers.0.self_attn.v_proj.weight', 'decoder.layers.0.self_attn.q_proj.weight', 'decoder.layers.0.self_attn.out_proj.weight', 'decoder.layers.0.self_attn_layer_norm.weight', 'decoder.layers.0.encoder_attn.k_proj.weight', 'decoder.layers.0.encoder_attn.v_proj.weight', 'decoder.layers.0.encoder_attn.q_proj.weight', 'decoder.layers.0.encoder_attn.out_proj.weight', 'decoder.layers.0.encoder_attn_layer_norm.weight', 'decoder.layers.0.fc1.weight', 'decoder.layers.0.fc2.weight', 'decoder.layers.0.final_layer_norm.weight', 'decoder.layers.1.self_attn.k_proj.weight', 'decoder.layers.1.self_attn.v_proj.weight', 'decoder.layers.1.self_attn.q_proj.weight', 'decoder.layers.1.self_attn.out_proj.weight', 'decoder.layers.1.self_attn_layer_norm.weight', 'decoder.layers.1.encoder_attn.k_proj.weight', 'decoder.layers.1.encoder_attn.v_proj.weight', 'decoder.layers.1.encoder_attn.q_proj.weight', 'decoder.layers.1.encoder_attn.out_proj.weight', 'decoder.layers.1.encoder_attn_layer_norm.weight', 'decoder.layers.1.fc1.weight', 'decoder.layers.1.fc2.weight', 'decoder.layers.1.final_layer_norm.weight', 'decoder.layers.2.self_attn.k_proj.weight', 'decoder.layers.2.self_attn.v_proj.weight', 'decoder.layers.2.self_attn.q_proj.weight', 'decoder.layers.2.self_attn.out_proj.weight', 'decoder.layers.2.self_attn_layer_norm.weight', 'decoder.layers.2.encoder_attn.k_proj.weight', 'decoder.layers.2.encoder_attn.v_proj.weight', 'decoder.layers.2.encoder_attn.q_proj.weight', 'decoder.layers.2.encoder_attn.out_proj.weight', 'decoder.layers.2.encoder_attn_layer_norm.weight', 'decoder.layers.2.fc1.weight', 'decoder.layers.2.fc2.weight', 'decoder.layers.2.final_layer_norm.weight', 'decoder.layers.3.self_attn.k_proj.weight', 'decoder.layers.3.self_attn.v_proj.weight', 'decoder.layers.3.self_attn.q_proj.weight', 'decoder.layers.3.self_attn.out_proj.weight', 'decoder.layers.3.self_attn_layer_norm.weight', 'decoder.layers.3.encoder_attn.k_proj.weight', 'decoder.layers.3.encoder_attn.v_proj.weight', 'decoder.layers.3.encoder_attn.q_proj.weight', 'decoder.layers.3.encoder_attn.out_proj.weight', 'decoder.layers.3.encoder_attn_layer_norm.weight', 'decoder.layers.3.fc1.weight', 'decoder.layers.3.fc2.weight', 'decoder.layers.3.final_layer_norm.weight', 'decoder.layers.4.self_attn.k_proj.weight', 'decoder.layers.4.self_attn.v_proj.weight', 'decoder.layers.4.self_attn.q_proj.weight', 'decoder.layers.4.self_attn.out_proj.weight', 'decoder.layers.4.self_attn_layer_norm.weight', 'decoder.layers.4.encoder_attn.k_proj.weight', 'decoder.layers.4.encoder_attn.v_proj.weight', 'decoder.layers.4.encoder_attn.q_proj.weight', 'decoder.layers.4.encoder_attn.out_proj.weight', 'decoder.layers.4.encoder_attn_layer_norm.weight', 'decoder.layers.4.fc1.weight', 'decoder.layers.4.fc2.weight', 'decoder.layers.4.final_layer_norm.weight', 'decoder.layers.5.self_attn.k_proj.weight', 'decoder.layers.5.self_attn.v_proj.weight', 'decoder.layers.5.self_attn.q_proj.weight', 'decoder.layers.5.self_attn.out_proj.weight', 'decoder.layers.5.self_attn_layer_norm.weight', 'decoder.layers.5.encoder_attn.k_proj.weight', 'decoder.layers.5.encoder_attn.v_proj.weight', 'decoder.layers.5.encoder_attn.q_proj.weight', 'decoder.layers.5.encoder_attn.out_proj.weight', 'decoder.layers.5.encoder_attn_layer_norm.weight', 'decoder.layers.5.fc1.weight', 'decoder.layers.5.fc2.weight', 'decoder.layers.5.final_layer_norm.weight', 'decoder.layernorm_embedding.weight']\n",
            "- This IS expected if you are initializing BartForConditionalGeneration from a Flax model trained on another task or with another architecture (e.g. initializing a BertForSequenceClassification model from a FlaxBertForPreTraining model).\n",
            "- This IS NOT expected if you are initializing BartForConditionalGeneration from a Flax model that you expect to be exactly identical (e.g. initializing a BertForSequenceClassification model from a FlaxBertForSequenceClassification model).\n",
            "Some weights of BartForConditionalGeneration were not initialized from the Flax model and are newly initialized: ['model.decoder.layers.0.self_attn.out_proj.weight', 'model.decoder.layers.4.self_attn.k_proj.weight', 'model.decoder.layers.5.encoder_attn.k_proj.weight', 'model.encoder.layers.3.final_layer_norm.weight', 'model.encoder.layers.4.self_attn.q_proj.weight', 'model.encoder.layers.4.fc1.weight', 'model.decoder.layers.2.encoder_attn.out_proj.weight', 'model.encoder.layers.2.self_attn.q_proj.weight', 'model.decoder.layers.0.self_attn_layer_norm.weight', 'model.decoder.layers.1.self_attn.q_proj.weight', 'model.decoder.layers.4.self_attn.q_proj.weight', 'model.encoder.layers.2.fc2.weight', 'model.decoder.layers.4.encoder_attn.v_proj.weight', 'model.decoder.layers.0.encoder_attn.q_proj.weight', 'model.decoder.layers.1.encoder_attn.out_proj.weight', 'model.decoder.layers.0.final_layer_norm.weight', 'model.encoder.layers.0.self_attn.out_proj.weight', 'model.decoder.layers.0.self_attn.q_proj.weight', 'model.decoder.layers.3.self_attn_layer_norm.weight', 'model.decoder.layers.3.encoder_attn.q_proj.weight', 'model.decoder.layers.2.fc1.weight', 'model.decoder.layers.5.fc2.weight', 'lm_head.weight', 'model.decoder.layers.4.encoder_attn.k_proj.weight', 'model.decoder.layers.4.encoder_attn_layer_norm.weight', 'model.decoder.layers.1.self_attn.v_proj.weight', 'model.decoder.layers.2.encoder_attn.v_proj.weight', 'model.decoder.layers.3.self_attn.k_proj.weight', 'model.encoder.layers.4.self_attn.v_proj.weight', 'model.encoder.layers.0.self_attn.k_proj.weight', 'model.decoder.layers.0.encoder_attn.v_proj.weight', 'model.decoder.layers.4.fc1.weight', 'model.encoder.layers.0.self_attn.v_proj.weight', 'model.decoder.layers.5.encoder_attn.q_proj.weight', 'model.encoder.layers.1.self_attn.k_proj.weight', 'model.encoder.layers.3.self_attn.out_proj.weight', 'model.encoder.layers.0.fc1.weight', 'model.decoder.embed_positions.weight', 'model.decoder.layers.3.fc1.weight', 'model.encoder.layers.0.self_attn_layer_norm.weight', 'model.decoder.layers.4.self_attn.v_proj.weight', 'model.decoder.layers.5.self_attn.out_proj.weight', 'model.encoder.layers.0.final_layer_norm.weight', 'model.decoder.layers.3.self_attn.q_proj.weight', 'model.decoder.layers.5.encoder_attn.v_proj.weight', 'model.decoder.layers.5.self_attn.k_proj.weight', 'model.encoder.layers.4.fc2.weight', 'model.encoder.layers.4.final_layer_norm.weight', 'model.decoder.layers.4.self_attn_layer_norm.weight', 'model.encoder.layers.5.self_attn.q_proj.weight', 'model.decoder.layers.4.final_layer_norm.weight', 'model.decoder.layers.2.encoder_attn_layer_norm.weight', 'model.encoder.layers.1.self_attn.v_proj.weight', 'model.encoder.layers.3.self_attn.v_proj.weight', 'model.encoder.layers.0.fc2.weight', 'model.decoder.layers.3.self_attn.out_proj.weight', 'model.shared.weight', 'model.encoder.layers.3.fc2.weight', 'model.decoder.layers.2.final_layer_norm.weight', 'model.decoder.layers.2.self_attn.v_proj.weight', 'model.decoder.layers.1.encoder_attn.k_proj.weight', 'model.decoder.layers.0.fc1.weight', 'model.encoder.layers.1.fc1.weight', 'model.decoder.layers.3.final_layer_norm.weight', 'model.decoder.layers.5.final_layer_norm.weight', 'model.encoder.layers.4.self_attn_layer_norm.weight', 'model.encoder.layers.5.fc2.weight', 'model.decoder.layers.1.fc2.weight', 'model.decoder.layers.1.encoder_attn_layer_norm.weight', 'model.decoder.layers.5.fc1.weight', 'model.decoder.layers.2.self_attn_layer_norm.weight', 'model.decoder.layers.1.final_layer_norm.weight', 'model.decoder.layers.1.self_attn.k_proj.weight', 'model.encoder.layers.2.self_attn.v_proj.weight', 'model.decoder.layers.5.encoder_attn_layer_norm.weight', 'model.decoder.layernorm_embedding.weight', 'model.decoder.layers.3.encoder_attn.k_proj.weight', 'model.decoder.layers.3.fc2.weight', 'model.encoder.layers.1.final_layer_norm.weight', 'model.decoder.layers.5.self_attn_layer_norm.weight', 'model.encoder.layers.3.self_attn.k_proj.weight', 'model.encoder.layers.4.self_attn.out_proj.weight', 'model.decoder.layers.3.encoder_attn_layer_norm.weight', 'model.encoder.layers.3.self_attn_layer_norm.weight', 'model.encoder.layers.1.self_attn.out_proj.weight', 'model.decoder.layers.1.self_attn.out_proj.weight', 'model.encoder.layers.2.self_attn_layer_norm.weight', 'model.decoder.layers.1.encoder_attn.v_proj.weight', 'model.decoder.layers.2.fc2.weight', 'model.encoder.layers.2.fc1.weight', 'model.decoder.layers.0.encoder_attn.out_proj.weight', 'model.encoder.embed_positions.weight', 'model.encoder.layers.2.self_attn.k_proj.weight', 'model.encoder.layernorm_embedding.weight', 'model.encoder.embed_tokens.weight', 'model.decoder.layers.2.encoder_attn.k_proj.weight', 'model.encoder.layers.2.final_layer_norm.weight', 'model.decoder.layers.3.encoder_attn.v_proj.weight', 'model.decoder.layers.4.encoder_attn.q_proj.weight', 'model.decoder.layers.5.self_attn.v_proj.weight', 'model.decoder.layers.2.self_attn.out_proj.weight', 'model.encoder.layers.1.self_attn.q_proj.weight', 'model.decoder.layers.3.self_attn.v_proj.weight', 'model.encoder.layers.5.self_attn.k_proj.weight', 'model.decoder.layers.0.fc2.weight', 'model.encoder.layers.3.self_attn.q_proj.weight', 'model.decoder.layers.2.self_attn.k_proj.weight', 'model.decoder.layers.5.encoder_attn.out_proj.weight', 'model.encoder.layers.0.self_attn.q_proj.weight', 'model.encoder.layers.4.self_attn.k_proj.weight', 'model.encoder.layers.2.self_attn.out_proj.weight', 'model.decoder.layers.3.encoder_attn.out_proj.weight', 'model.decoder.layers.4.fc2.weight', 'model.decoder.layers.4.encoder_attn.out_proj.weight', 'model.encoder.layers.1.fc2.weight', 'model.encoder.layers.3.fc1.weight', 'model.encoder.layers.5.fc1.weight', 'final_logits_bias', 'model.decoder.layers.1.self_attn_layer_norm.weight', 'model.decoder.layers.2.encoder_attn.q_proj.weight', 'model.decoder.layers.4.self_attn.out_proj.weight', 'model.encoder.layers.5.self_attn.v_proj.weight', 'model.decoder.layers.0.encoder_attn.k_proj.weight', 'model.decoder.layers.2.self_attn.q_proj.weight', 'model.decoder.layers.0.encoder_attn_layer_norm.weight', 'model.decoder.layers.1.encoder_attn.q_proj.weight', 'model.encoder.layers.5.self_attn.out_proj.weight', 'model.decoder.layers.0.self_attn.v_proj.weight', 'model.decoder.layers.5.self_attn.q_proj.weight', 'model.encoder.layers.1.self_attn_layer_norm.weight', 'model.encoder.layers.5.final_layer_norm.weight', 'model.decoder.embed_tokens.weight', 'model.encoder.layers.5.self_attn_layer_norm.weight', 'model.decoder.layers.1.fc1.weight', 'model.decoder.layers.0.self_attn.k_proj.weight']\n",
            "You should probably TRAIN this model on a down-stream task to be able to use it for predictions and inference.\n"
          ]
        },
        {
          "output_type": "stream",
          "name": "stdout",
          "text": [
            "cuda\n"
          ]
        }
      ],
      "source": [
        "from transformers import AutoModel, BartTokenizerFast, AutoModelForSeq2SeqLM, BartForConditionalGeneration\n",
        "# Load dataset\n",
        "dataset = datasets.load_dataset('json', data_files='/content/drive/MyDrive/Dataset/pii-detection-removal-from-educational-data/train.json')\n",
        "# Convert to DataFrame and preprocess\n",
        "df = dataset['train'].to_pandas()\n",
        "# Take the first 1500 rows\n",
        "df = df.iloc[:1500]\n",
        "all_labels = [label for sublist in df['labels'] for label in sublist]\n",
        "unique_labels = list(set(all_labels))\n",
        "id2label = {i: label for i, label in enumerate(unique_labels)}\n",
        "label2id = {label: i for i, label in enumerate(unique_labels)}\n",
        "all_labels = list(label2id.keys())  # Get all unique labels from mapping\n",
        "num_labels = len(all_labels)  # Update the num_labels\n",
        "\n",
        "\n",
        "# Tokenizer and Model\n",
        "tokenizer = BartTokenizerFast.from_pretrained(\"facebook/bart-base\", add_prefix_space=True)\n",
        "model = BartForConditionalGeneration.from_pretrained(\"facebook/bart-base\",from_flax=True, num_labels=num_labels, id2label=id2label, label2id=label2id)\n",
        "device = torch.device(\"cuda\" if torch.cuda.is_available() else \"cpu\")\n",
        "print(device)\n",
        "model.to(device)\n",
        "\n",
        "# Split Dataset\n",
        "train_df, test_df = train_test_split(df, test_size=0.2, random_state=42)\n",
        "train_dataset = datasets.Dataset.from_pandas(train_df)\n",
        "test_dataset = datasets.Dataset.from_pandas(test_df)\n",
        "dataset_dict = datasets.DatasetDict({'train': train_dataset, 'test': test_dataset})"
      ]
    },
    {
      "cell_type": "markdown",
      "metadata": {
        "id": "2Vtm3u5I6kyd"
      },
      "source": [
        "### Data Exploration\n",
        "\n",
        "The dataset has four columns, 'document', 'tokens', 'labels', and 'trailing_whitespace'. Pandas can be used to visualize the dataset and get a better understanding of the structure."
      ]
    },
    {
      "cell_type": "code",
      "execution_count": 43,
      "metadata": {
        "id": "AYE5ULzK6kyd",
        "outputId": "0d33da70-c9f4-4a8f-cef3-280280f89bc1",
        "colab": {
          "base_uri": "https://localhost:8080/"
        }
      },
      "outputs": [
        {
          "output_type": "stream",
          "name": "stdout",
          "text": [
            "Dataset length 1\n"
          ]
        },
        {
          "output_type": "execute_result",
          "data": {
            "text/plain": [
              "DatasetDict({\n",
              "    train: Dataset({\n",
              "        features: ['document', 'full_text', 'tokens', 'trailing_whitespace', 'labels'],\n",
              "        num_rows: 6807\n",
              "    })\n",
              "})"
            ]
          },
          "metadata": {},
          "execution_count": 43
        }
      ],
      "source": [
        "print('Dataset length', len(dataset))\n",
        "dataset"
      ]
    },
    {
      "cell_type": "code",
      "execution_count": 44,
      "metadata": {
        "id": "j4l4iess6kyd",
        "outputId": "eb9957c1-4c49-4945-d5af-3a19aa111d1d",
        "colab": {
          "base_uri": "https://localhost:8080/",
          "height": 293
        }
      },
      "outputs": [
        {
          "output_type": "execute_result",
          "data": {
            "text/plain": [
              "   document                                          full_text  \\\n",
              "0         7  Design Thinking for innovation reflexion-Avril...   \n",
              "1        10  Diego Estrada\\n\\nDesign Thinking Assignment\\n\\...   \n",
              "2        16  Reporting process\\n\\nby Gilberto Gamboa\\n\\nCha...   \n",
              "3        20  Design Thinking for Innovation\\n\\nSindy Samaca...   \n",
              "4        56  Assignment:  Visualization Reflection  Submitt...   \n",
              "\n",
              "                                              tokens  \\\n",
              "0  [Design, Thinking, for, innovation, reflexion,...   \n",
              "1  [Diego, Estrada, \\n\\n, Design, Thinking, Assig...   \n",
              "2  [Reporting, process, \\n\\n, by, Gilberto, Gambo...   \n",
              "3  [Design, Thinking, for, Innovation, \\n\\n, Sind...   \n",
              "4  [Assignment, :,   , Visualization,  , Reflecti...   \n",
              "\n",
              "                                 trailing_whitespace  \\\n",
              "0  [True, True, True, True, False, False, True, F...   \n",
              "1  [True, False, False, True, True, False, False,...   \n",
              "2  [True, False, False, True, True, False, False,...   \n",
              "3  [True, True, True, False, False, True, False, ...   \n",
              "4  [False, False, False, False, False, False, Fal...   \n",
              "\n",
              "                                              labels  \n",
              "0  [O, O, O, O, O, O, O, O, O, B-NAME_STUDENT, I-...  \n",
              "1  [B-NAME_STUDENT, I-NAME_STUDENT, O, O, O, O, O...  \n",
              "2  [O, O, O, O, B-NAME_STUDENT, I-NAME_STUDENT, O...  \n",
              "3  [O, O, O, O, O, B-NAME_STUDENT, I-NAME_STUDENT...  \n",
              "4  [O, O, O, O, O, O, O, O, O, O, O, O, B-NAME_ST...  "
            ],
            "text/html": [
              "\n",
              "  <div id=\"df-b55c98fd-2cdc-4fb6-8f5d-2d70bea8213d\" class=\"colab-df-container\">\n",
              "    <div>\n",
              "<style scoped>\n",
              "    .dataframe tbody tr th:only-of-type {\n",
              "        vertical-align: middle;\n",
              "    }\n",
              "\n",
              "    .dataframe tbody tr th {\n",
              "        vertical-align: top;\n",
              "    }\n",
              "\n",
              "    .dataframe thead th {\n",
              "        text-align: right;\n",
              "    }\n",
              "</style>\n",
              "<table border=\"1\" class=\"dataframe\">\n",
              "  <thead>\n",
              "    <tr style=\"text-align: right;\">\n",
              "      <th></th>\n",
              "      <th>document</th>\n",
              "      <th>full_text</th>\n",
              "      <th>tokens</th>\n",
              "      <th>trailing_whitespace</th>\n",
              "      <th>labels</th>\n",
              "    </tr>\n",
              "  </thead>\n",
              "  <tbody>\n",
              "    <tr>\n",
              "      <th>0</th>\n",
              "      <td>7</td>\n",
              "      <td>Design Thinking for innovation reflexion-Avril...</td>\n",
              "      <td>[Design, Thinking, for, innovation, reflexion,...</td>\n",
              "      <td>[True, True, True, True, False, False, True, F...</td>\n",
              "      <td>[O, O, O, O, O, O, O, O, O, B-NAME_STUDENT, I-...</td>\n",
              "    </tr>\n",
              "    <tr>\n",
              "      <th>1</th>\n",
              "      <td>10</td>\n",
              "      <td>Diego Estrada\\n\\nDesign Thinking Assignment\\n\\...</td>\n",
              "      <td>[Diego, Estrada, \\n\\n, Design, Thinking, Assig...</td>\n",
              "      <td>[True, False, False, True, True, False, False,...</td>\n",
              "      <td>[B-NAME_STUDENT, I-NAME_STUDENT, O, O, O, O, O...</td>\n",
              "    </tr>\n",
              "    <tr>\n",
              "      <th>2</th>\n",
              "      <td>16</td>\n",
              "      <td>Reporting process\\n\\nby Gilberto Gamboa\\n\\nCha...</td>\n",
              "      <td>[Reporting, process, \\n\\n, by, Gilberto, Gambo...</td>\n",
              "      <td>[True, False, False, True, True, False, False,...</td>\n",
              "      <td>[O, O, O, O, B-NAME_STUDENT, I-NAME_STUDENT, O...</td>\n",
              "    </tr>\n",
              "    <tr>\n",
              "      <th>3</th>\n",
              "      <td>20</td>\n",
              "      <td>Design Thinking for Innovation\\n\\nSindy Samaca...</td>\n",
              "      <td>[Design, Thinking, for, Innovation, \\n\\n, Sind...</td>\n",
              "      <td>[True, True, True, False, False, True, False, ...</td>\n",
              "      <td>[O, O, O, O, O, B-NAME_STUDENT, I-NAME_STUDENT...</td>\n",
              "    </tr>\n",
              "    <tr>\n",
              "      <th>4</th>\n",
              "      <td>56</td>\n",
              "      <td>Assignment:  Visualization Reflection  Submitt...</td>\n",
              "      <td>[Assignment, :,   , Visualization,  , Reflecti...</td>\n",
              "      <td>[False, False, False, False, False, False, Fal...</td>\n",
              "      <td>[O, O, O, O, O, O, O, O, O, O, O, O, B-NAME_ST...</td>\n",
              "    </tr>\n",
              "  </tbody>\n",
              "</table>\n",
              "</div>\n",
              "    <div class=\"colab-df-buttons\">\n",
              "\n",
              "  <div class=\"colab-df-container\">\n",
              "    <button class=\"colab-df-convert\" onclick=\"convertToInteractive('df-b55c98fd-2cdc-4fb6-8f5d-2d70bea8213d')\"\n",
              "            title=\"Convert this dataframe to an interactive table.\"\n",
              "            style=\"display:none;\">\n",
              "\n",
              "  <svg xmlns=\"http://www.w3.org/2000/svg\" height=\"24px\" viewBox=\"0 -960 960 960\">\n",
              "    <path d=\"M120-120v-720h720v720H120Zm60-500h600v-160H180v160Zm220 220h160v-160H400v160Zm0 220h160v-160H400v160ZM180-400h160v-160H180v160Zm440 0h160v-160H620v160ZM180-180h160v-160H180v160Zm440 0h160v-160H620v160Z\"/>\n",
              "  </svg>\n",
              "    </button>\n",
              "\n",
              "  <style>\n",
              "    .colab-df-container {\n",
              "      display:flex;\n",
              "      gap: 12px;\n",
              "    }\n",
              "\n",
              "    .colab-df-convert {\n",
              "      background-color: #E8F0FE;\n",
              "      border: none;\n",
              "      border-radius: 50%;\n",
              "      cursor: pointer;\n",
              "      display: none;\n",
              "      fill: #1967D2;\n",
              "      height: 32px;\n",
              "      padding: 0 0 0 0;\n",
              "      width: 32px;\n",
              "    }\n",
              "\n",
              "    .colab-df-convert:hover {\n",
              "      background-color: #E2EBFA;\n",
              "      box-shadow: 0px 1px 2px rgba(60, 64, 67, 0.3), 0px 1px 3px 1px rgba(60, 64, 67, 0.15);\n",
              "      fill: #174EA6;\n",
              "    }\n",
              "\n",
              "    .colab-df-buttons div {\n",
              "      margin-bottom: 4px;\n",
              "    }\n",
              "\n",
              "    [theme=dark] .colab-df-convert {\n",
              "      background-color: #3B4455;\n",
              "      fill: #D2E3FC;\n",
              "    }\n",
              "\n",
              "    [theme=dark] .colab-df-convert:hover {\n",
              "      background-color: #434B5C;\n",
              "      box-shadow: 0px 1px 3px 1px rgba(0, 0, 0, 0.15);\n",
              "      filter: drop-shadow(0px 1px 2px rgba(0, 0, 0, 0.3));\n",
              "      fill: #FFFFFF;\n",
              "    }\n",
              "  </style>\n",
              "\n",
              "    <script>\n",
              "      const buttonEl =\n",
              "        document.querySelector('#df-b55c98fd-2cdc-4fb6-8f5d-2d70bea8213d button.colab-df-convert');\n",
              "      buttonEl.style.display =\n",
              "        google.colab.kernel.accessAllowed ? 'block' : 'none';\n",
              "\n",
              "      async function convertToInteractive(key) {\n",
              "        const element = document.querySelector('#df-b55c98fd-2cdc-4fb6-8f5d-2d70bea8213d');\n",
              "        const dataTable =\n",
              "          await google.colab.kernel.invokeFunction('convertToInteractive',\n",
              "                                                    [key], {});\n",
              "        if (!dataTable) return;\n",
              "\n",
              "        const docLinkHtml = 'Like what you see? Visit the ' +\n",
              "          '<a target=\"_blank\" href=https://colab.research.google.com/notebooks/data_table.ipynb>data table notebook</a>'\n",
              "          + ' to learn more about interactive tables.';\n",
              "        element.innerHTML = '';\n",
              "        dataTable['output_type'] = 'display_data';\n",
              "        await google.colab.output.renderOutput(dataTable, element);\n",
              "        const docLink = document.createElement('div');\n",
              "        docLink.innerHTML = docLinkHtml;\n",
              "        element.appendChild(docLink);\n",
              "      }\n",
              "    </script>\n",
              "  </div>\n",
              "\n",
              "\n",
              "<div id=\"df-22b8115e-2756-4637-8301-4a6dce58056f\">\n",
              "  <button class=\"colab-df-quickchart\" onclick=\"quickchart('df-22b8115e-2756-4637-8301-4a6dce58056f')\"\n",
              "            title=\"Suggest charts\"\n",
              "            style=\"display:none;\">\n",
              "\n",
              "<svg xmlns=\"http://www.w3.org/2000/svg\" height=\"24px\"viewBox=\"0 0 24 24\"\n",
              "     width=\"24px\">\n",
              "    <g>\n",
              "        <path d=\"M19 3H5c-1.1 0-2 .9-2 2v14c0 1.1.9 2 2 2h14c1.1 0 2-.9 2-2V5c0-1.1-.9-2-2-2zM9 17H7v-7h2v7zm4 0h-2V7h2v10zm4 0h-2v-4h2v4z\"/>\n",
              "    </g>\n",
              "</svg>\n",
              "  </button>\n",
              "\n",
              "<style>\n",
              "  .colab-df-quickchart {\n",
              "      --bg-color: #E8F0FE;\n",
              "      --fill-color: #1967D2;\n",
              "      --hover-bg-color: #E2EBFA;\n",
              "      --hover-fill-color: #174EA6;\n",
              "      --disabled-fill-color: #AAA;\n",
              "      --disabled-bg-color: #DDD;\n",
              "  }\n",
              "\n",
              "  [theme=dark] .colab-df-quickchart {\n",
              "      --bg-color: #3B4455;\n",
              "      --fill-color: #D2E3FC;\n",
              "      --hover-bg-color: #434B5C;\n",
              "      --hover-fill-color: #FFFFFF;\n",
              "      --disabled-bg-color: #3B4455;\n",
              "      --disabled-fill-color: #666;\n",
              "  }\n",
              "\n",
              "  .colab-df-quickchart {\n",
              "    background-color: var(--bg-color);\n",
              "    border: none;\n",
              "    border-radius: 50%;\n",
              "    cursor: pointer;\n",
              "    display: none;\n",
              "    fill: var(--fill-color);\n",
              "    height: 32px;\n",
              "    padding: 0;\n",
              "    width: 32px;\n",
              "  }\n",
              "\n",
              "  .colab-df-quickchart:hover {\n",
              "    background-color: var(--hover-bg-color);\n",
              "    box-shadow: 0 1px 2px rgba(60, 64, 67, 0.3), 0 1px 3px 1px rgba(60, 64, 67, 0.15);\n",
              "    fill: var(--button-hover-fill-color);\n",
              "  }\n",
              "\n",
              "  .colab-df-quickchart-complete:disabled,\n",
              "  .colab-df-quickchart-complete:disabled:hover {\n",
              "    background-color: var(--disabled-bg-color);\n",
              "    fill: var(--disabled-fill-color);\n",
              "    box-shadow: none;\n",
              "  }\n",
              "\n",
              "  .colab-df-spinner {\n",
              "    border: 2px solid var(--fill-color);\n",
              "    border-color: transparent;\n",
              "    border-bottom-color: var(--fill-color);\n",
              "    animation:\n",
              "      spin 1s steps(1) infinite;\n",
              "  }\n",
              "\n",
              "  @keyframes spin {\n",
              "    0% {\n",
              "      border-color: transparent;\n",
              "      border-bottom-color: var(--fill-color);\n",
              "      border-left-color: var(--fill-color);\n",
              "    }\n",
              "    20% {\n",
              "      border-color: transparent;\n",
              "      border-left-color: var(--fill-color);\n",
              "      border-top-color: var(--fill-color);\n",
              "    }\n",
              "    30% {\n",
              "      border-color: transparent;\n",
              "      border-left-color: var(--fill-color);\n",
              "      border-top-color: var(--fill-color);\n",
              "      border-right-color: var(--fill-color);\n",
              "    }\n",
              "    40% {\n",
              "      border-color: transparent;\n",
              "      border-right-color: var(--fill-color);\n",
              "      border-top-color: var(--fill-color);\n",
              "    }\n",
              "    60% {\n",
              "      border-color: transparent;\n",
              "      border-right-color: var(--fill-color);\n",
              "    }\n",
              "    80% {\n",
              "      border-color: transparent;\n",
              "      border-right-color: var(--fill-color);\n",
              "      border-bottom-color: var(--fill-color);\n",
              "    }\n",
              "    90% {\n",
              "      border-color: transparent;\n",
              "      border-bottom-color: var(--fill-color);\n",
              "    }\n",
              "  }\n",
              "</style>\n",
              "\n",
              "  <script>\n",
              "    async function quickchart(key) {\n",
              "      const quickchartButtonEl =\n",
              "        document.querySelector('#' + key + ' button');\n",
              "      quickchartButtonEl.disabled = true;  // To prevent multiple clicks.\n",
              "      quickchartButtonEl.classList.add('colab-df-spinner');\n",
              "      try {\n",
              "        const charts = await google.colab.kernel.invokeFunction(\n",
              "            'suggestCharts', [key], {});\n",
              "      } catch (error) {\n",
              "        console.error('Error during call to suggestCharts:', error);\n",
              "      }\n",
              "      quickchartButtonEl.classList.remove('colab-df-spinner');\n",
              "      quickchartButtonEl.classList.add('colab-df-quickchart-complete');\n",
              "    }\n",
              "    (() => {\n",
              "      let quickchartButtonEl =\n",
              "        document.querySelector('#df-22b8115e-2756-4637-8301-4a6dce58056f button');\n",
              "      quickchartButtonEl.style.display =\n",
              "        google.colab.kernel.accessAllowed ? 'block' : 'none';\n",
              "    })();\n",
              "  </script>\n",
              "</div>\n",
              "\n",
              "    </div>\n",
              "  </div>\n"
            ],
            "application/vnd.google.colaboratory.intrinsic+json": {
              "type": "dataframe",
              "variable_name": "df",
              "summary": "{\n  \"name\": \"df\",\n  \"rows\": 6807,\n  \"fields\": [\n    {\n      \"column\": \"document\",\n      \"properties\": {\n        \"dtype\": \"number\",\n        \"std\": 4920,\n        \"min\": 7,\n        \"max\": 22687,\n        \"num_unique_values\": 6807,\n        \"samples\": [\n          17809,\n          11144,\n          16158\n        ],\n        \"semantic_type\": \"\",\n        \"description\": \"\"\n      }\n    },\n    {\n      \"column\": \"full_text\",\n      \"properties\": {\n        \"dtype\": \"string\",\n        \"num_unique_values\": 6807,\n        \"samples\": [\n          \"Assignment: Mindmapping\\n\\nChallenge\\n\\nThe challenge was to develop a three-view mechanism for my class this semester, it was\\n\\ntogether with my team to find a solution to this problem, which was intended to transmit\\n\\nthree messages in an advertisement.\\n\\nSelection\\n\\nI chose the Mindmapping tool because that tool was taught to me in my class this semester\\n\\nand it was very useful to apply it to this problem since Mindmapping gives you the\\n\\nopportunity to be more organized in terms of your ideas and fundamentals that are\\n\\nconnected between yes. Also, it is important to say that this tool is developed throughout\\n\\nthe project, in the beginning, in the development and when we had everything clearer and\\n\\nat the end to know the organization that should be carried out and the order.\\n\\nApplication\\n\\nAs I mentioned before, I applied this tool in my project due to the order that it takes, at the\\n\\ntime of making the prototype of the project, a mindmap was made about what materials\\n\\nwas going to be used, how it was going to work, all that brainstorming was useful organize\\n\\nit in a mindmap to carry out the project. Also at the time of developing the poster, a\\n\\nmindmap was made of how each section should be organized and what information each\\n\\none should carry, in this way the mindmap tool was applied and it was possible to have a\\n\\nvery striking poster.\\n\\nInsight\\n\\nThe insight that I gained was very great, since in my other projects I had not used the\\n\\nmindmapping tool because I did not consider it useful, but at the time of applying the design\\n\\nthinking with the mindmapping tool and the knowledge acquired it was possible to carry\\n\\nout the project and obtain a perfect grade, appropriate to what the problem presented\\n\\nApproach\\n\\nNow that I have discovered the benefit of using the mindmapping tool, I think that what I\\n\\nwould do differently would be to make the most striking mindmaps because some\\n\\ncontained too much information that it was difficult to synthesize what the problem of the\\n\\nproject asked me to do.\\n\\n\",\n          \"Reflection \\u2013 Learning Launch\\n\\nPaola Garcia\\n\\nChallenge\\n\\nIn the financial services industry, the strategies developed to manage lending portfolios are developed  through data analysis of past performance.  In the collections environment, analytics and traditional  methods to contact customers (phone, letters and email) are the norm.  As the number of missed  payments on an account increases, the ability to reach customers decreases.   The result is higher  delinquency rates, increase expense and customer complaints.\\n\\nA project was launched to determine how these measures could be improved.  A small team was formed  which included people from various departments including Analytics, Operations, Finance, Marketing to  name a few.   A recommendation was made to utilize design thinking.  Working with our Marketing  Research team several tools were utilized to understand our customer needs and develop some ideas to  test.  To address the needs of a specific persona, Customers who felt uncomfortable discussing their  situation and felt the people they spoke to on the phone lacked empathy, the idea of a collections  website was developed.\\n\\nSelection\\n\\nThe team chose the learning launch to test a collections website.   The learning launch allows for a fast  and inexpensive way to run an experiment to learn.   This was facilitated by the ability to utilize an  outsourced model.  The website functionality was already developed by a vendor and provided the  minimum viable product which met the design criteria.     The learning launch provided the data needed  to determine whether the idea was good or bad.\\n\\nApplication\\n\\nThe team developed a detailed plan to launch the experiment including customer segments,  communication methods, measurements, and customer feedback surveys.  The website launched on  time and tested for 90 days.   The results provided significant data that the idea worked as well as new  insights to improve the website and other internal processes.\\n\\nInsight\\n\\nThe learning launch enabled the team to develop and test quickly where there was not past data and  could potentially be a better approach that the traditional methods used.  In addition, it provided a lot  of customer feedback that changed the existing strategies (phone, letters, email) and enhancements to  the company website.  Ongoing use of the website has Increased  collection rates and decreased   expenses and complaints.\\n\\nApproach\\n\\nThe learning launch was the best approach since we had the ability to launch quickly.  Had there not  been an existing vendor with the necessary tool, another approach would have been necessary as  prioritization of technology builds can often take significant time.\\n\\n\",\n          \"Visualisation\\n\\nChallenge & Selection\\n\\nThe challenge I've chosen to work on is women's safety. I'd be doing a design intervention to design a  product/ system that makes women feel and be safe, especially at dark, isolated places.\\n\\nI chose the Visualisation tool to help me go through the steps of user research, empathy mapping,  ideation, and prototyping because it helps me to convey my vision as well as decipher more accurately  what the other person(user) is actually conveying- their pain points, fears, needs, desires, etc.\\n\\nApplication\\n\\nI made a compilation of several images, some from the internet, some from horror or crime movie  scenes, and tried to pinpoint the exact type and level of fear women face while roaming isolated places  alone. I prepared a questionnaire in which I included these photos.\\n\\nLater I did Ideation Sketches, made some rendered concepts, and at a later stage even 3D prototype and  did a survey where these sketches and images were shared. It helped me gain a proper understanding  whether the users thought it'd be helpful or not.\\n\\nFinally, my product poster was designed more visually with more pictures than text, to illicit the emotion  of safety against usual uncertainty and fear, when one uses the service I designed.\\n\\nInsight and Approach\\n\\nWhile I used the Visualisation tool earlier, I used to restrict it to convey my ideas only in the Concept and  Prototyping phases. But this time, I used it even in my initial User Research and Poster Design of the  Final concept. I gained some very precise understanding of what emotions would the users feel in a real  situation and of what types and also to what levels. All this was possible due to the accuracy of the  visual element.\\n\\nMore importantly, I noticed that after the Final Design was made and piloted, it was much more  convenient and efficient conveying it's usage and purpose to the users when I used visuals like  photographs, sketches along with storyboards as to how to use the service.\\n\\nI'd definitely use this Visualisation tool more extensively and creatively in my future projects as its very  efficient and effective. It removes the chance of any ambiguity in communication between me and all  stakeholders, namely users, design heads, design team, investors and sales and marketing team.\\n\\n\"\n        ],\n        \"semantic_type\": \"\",\n        \"description\": \"\"\n      }\n    },\n    {\n      \"column\": \"tokens\",\n      \"properties\": {\n        \"dtype\": \"object\",\n        \"semantic_type\": \"\",\n        \"description\": \"\"\n      }\n    },\n    {\n      \"column\": \"trailing_whitespace\",\n      \"properties\": {\n        \"dtype\": \"object\",\n        \"semantic_type\": \"\",\n        \"description\": \"\"\n      }\n    },\n    {\n      \"column\": \"labels\",\n      \"properties\": {\n        \"dtype\": \"object\",\n        \"semantic_type\": \"\",\n        \"description\": \"\"\n      }\n    }\n  ]\n}"
            }
          },
          "metadata": {},
          "execution_count": 44
        }
      ],
      "source": [
        "df = pd.read_json('/content/drive/MyDrive/Dataset/pii-detection-removal-from-educational-data/train.json')\n",
        "df.head()"
      ]
    },
    {
      "cell_type": "markdown",
      "metadata": {
        "id": "XYYYFhak6kye"
      },
      "source": [
        "The pandas data frame produces a better visualization of the structure of the JSON file. Each row represents an essay written by a student. There are 6807 Rows in the data frame, each row representing a student essay. The column 'full text' contains the full essay. The 'Tokens' column contains the text separated by tokens. The trailing white space column is a list of placeholders indicating if a token contains a trailing white space. Finally, the labels column represents a label for each token. Each token is as one of our desired categories of PII, or 'O' if the token does not belong to PII a category.\n",
        "\n",
        "We can view the first full essay as an example. A function 'format_text' is used to make the document more readable for humans."
      ]
    },
    {
      "cell_type": "code",
      "execution_count": 45,
      "metadata": {
        "id": "oPaxFF5O6kye",
        "outputId": "57ce7de3-b7ca-4d4d-9d25-6d9fe2b07c35",
        "colab": {
          "base_uri": "https://localhost:8080/"
        }
      },
      "outputs": [
        {
          "output_type": "stream",
          "name": "stdout",
          "text": [
            "Design Thinking for innovation reflexion-Avril 2021-Nathalie Sylla\n",
            "<p>\n",
            "Challenge & selection\n",
            "<p>\n",
            "The tool I use to help all stakeholders finding their way through the complexity of a project is the  mind map.\n",
            "<p>\n",
            "What exactly is a mind map? According to the definition of Buzan T. and Buzan B. (1999, Dessine-moi  l'intelligence. Paris: Les Éditions d'Organisation.), the mind map (or heuristic diagram) is a graphic  representation technique that follows the natural functioning of the mind and allows the brain's  potential to be released. Cf Annex1\n",
            "<p>\n",
            "This tool has many advantages:\n",
            "<p>\n",
            "-  It is accessible to all and does not require significant material investment and can be done  quickly\n",
            "<p>\n",
            "-  It is scalable\n",
            "<p>\n",
            "-  It allows categorization and linking of information\n",
            "<p>\n",
            "-  It can be applied to any type of situation: notetaking, problem solving, analysis, creation of  new ideas\n",
            "<p>\n",
            "-  It is suitable for all people and is easy to learn\n",
            "<p>\n",
            "-  It is fun and encourages exchanges\n",
            "<p>\n",
            "-  It makes visible the dimension of projects, opportunities, interconnections\n",
            "<p>\n",
            "-  It synthesizes\n",
            "<p>\n",
            "-  It makes the project understandable\n",
            "<p>\n",
            "-  It allows you to explore ideas\n",
            "<p>\n",
            "The creation of a mind map starts with an idea/problem located at its center. This starting point  generates ideas/work areas, incremented around this center in a radial structure, which in turn is  completed with as many branches as new ideas.\n",
            "<p>\n",
            "This tool enables creativity and logic to be mobilized, it is a map of the thoughts.\n",
            "<p>\n",
            "Creativity is enhanced because participants feel comfortable with the method.\n",
            "<p>\n",
            "Application & Insight\n",
            "<p>\n",
            "I start the process of the mind map creation with the stakeholders standing around a large board  (white or paper board). In the center of the board, I write and highlight the topic to design.\n",
            "<p>\n",
            "Through a series of questions, I guide the stakeholders in modelling the mind map. I adapt the series  of questions according to the topic to be addressed. In the type of questions, we can use: who, what,  when, where, why, how, how much.\n",
            "<p>\n",
            "The use of the “why” is very interesting to understand the origin. By this way, the interviewed person  frees itself from paradigms and thus dares to propose new ideas / ways of functioning. I plan two  hours for a workshop.\n",
            "<p>\n",
            "Design Thinking for innovation reflexion-Avril 2021-Nathalie Sylla\n",
            "<p>\n",
            "After modelling the mind map on paper, I propose to the participants a digital visualization of their  work with the addition of color codes, images and interconnections. This second workshop also lasts  two hours and allows the mind map to evolve. Once familiarized with it, the stakeholders discover  the power of the tool. Then, the second workshop brings out even more ideas and constructive  exchanges between the stakeholders. Around this new mind map, they have learned to work  together and want to make visible the untold ideas.\n",
            "<p>\n",
            "I now present all the projects I manage in this type of format in order to ease rapid understanding for  decision-makers. These presentations are the core of my business models. The decision-makers are  thus able to identify the opportunities of the projects and can take quick decisions to validate them.  They find answers to their questions thank to a schematic representation.\n",
            "<p>\n",
            "Approach\n",
            "<p>\n",
            "What I find amazing with the facilitation of this type of workshop is the participants commitment for  the project. This tool helps to give meaning. The participants appropriate the story and want to keep  writing it. Then, they easily become actors or sponsors of the project. A trust relationship is built,  thus facilitating the implementation of related actions.\n",
            "<p>\n",
            "Design Thinking for innovation reflexion-Avril 2021-Nathalie Sylla\n",
            "<p>\n",
            "Annex 1: Mind Map Shared facilities project\n",
            "<p>\n",
            "\n"
          ]
        }
      ],
      "source": [
        "def format_text(text):\n",
        "    # Add paragraph breaks\n",
        "    formatted_text = text.replace('\\n\\n', '\\n\\n<p>\\n\\n')\n",
        "\n",
        "    # Add bullet points to list items\n",
        "    formatted_text = re.sub(r'•\\s', '\\n- ', formatted_text)\n",
        "\n",
        "    # Handle remaining single newlines\n",
        "    formatted_text = re.sub(r'(?<!\\n)\\n(?!\\n)', ' ', formatted_text)\n",
        "\n",
        "    # Remove leading and trailing spaces\n",
        "    formatted_text = re.sub(r'\\s+\\n', '\\n', formatted_text)\n",
        "    formatted_text = re.sub(r'\\n\\s+', '\\n', formatted_text)\n",
        "\n",
        "    return formatted_text\n",
        "\n",
        "# Example usage\n",
        "raw_text = df['full_text'][0]\n",
        "\n",
        "print(format_text(raw_text))"
      ]
    },
    {
      "cell_type": "markdown",
      "metadata": {
        "id": "DdOsQHUO6kyf"
      },
      "source": [
        "#### Distribution of the unique labels."
      ]
    },
    {
      "cell_type": "code",
      "execution_count": 46,
      "metadata": {
        "id": "nfVxezsi6kyf",
        "outputId": "c6244eb2-c35e-4120-b6eb-7be040ceb134",
        "colab": {
          "base_uri": "https://localhost:8080/"
        }
      },
      "outputs": [
        {
          "output_type": "stream",
          "name": "stdout",
          "text": [
            "Label: B-NAME_STUDENT, Frequency: 827\n",
            "Label: I-NAME_STUDENT, Frequency: 685\n",
            "Label: O, Frequency: 916787\n",
            "Label: B-EMAIL, Frequency: 22\n",
            "Label: B-URL_PERSONAL, Frequency: 60\n",
            "Label: B-ID_NUM, Frequency: 29\n",
            "Label: B-USERNAME, Frequency: 6\n",
            "Label: B-STREET_ADDRESS, Frequency: 1\n",
            "Label: I-STREET_ADDRESS, Frequency: 10\n",
            "Label: B-PHONE_NUM, Frequency: 3\n",
            "Label: I-PHONE_NUM, Frequency: 6\n",
            "Label: I-URL_PERSONAL, Frequency: 1\n"
          ]
        }
      ],
      "source": [
        "# Count the frequency of each label in the 'train' dataset\n",
        "label_freq = Counter(chain(*train_dataset['labels']))\n",
        "\n",
        "# Display the frequency of each label\n",
        "for label, freq in label_freq.items():\n",
        "    print(f\"Label: {label}, Frequency: {freq}\")"
      ]
    },
    {
      "cell_type": "markdown",
      "metadata": {
        "id": "ZnVXLUI-6kyf"
      },
      "source": [
        "The data set is heavily distributed with tokens that do not belong to a PII category (ie 'O' labels). We will use a focal loss and class weights with our model to help with this class imbalance. This will help ensure our model does not simply predict all 'O's' given the large distribution of those labels."
      ]
    },
    {
      "cell_type": "markdown",
      "metadata": {
        "id": "u8bQgIJT6kyf"
      },
      "source": [
        "\n",
        "\n",
        "#### Tokenization and Alignment of Labels\n",
        "Explanations of the unique labels in the data set are below. These are the desired PII categories we seek to identify in the student essays. Note the tokens are split using a 'piece wise' tokenizer format.\n",
        "\n",
        "##### Explanation of Labels:\n",
        "\n",
        "B-EMAIL: Beginning of an email address.\n",
        "B-ID_NUM: Beginning of an identification number.\n",
        "B-NAME_STUDENT: Beginning of a student's name.\n",
        "B-PHONE_NUM: Beginning of a phone number.\n",
        "B-STREET_ADDRESS: Beginning of a street address.\n",
        "B-URL_PERSONAL: Beginning of a personal URL.\n",
        "B-USERNAME: Beginning of a username.\n",
        "I-ID_NUM: Inside an identification number.\n",
        "I-NAME_STUDENT: Inside a student's name.\n",
        "I-PHONE_NUM: Inside a phone number.\n",
        "I-STREET_ADDRESS: Inside a street address.\n",
        "I-URL_PERSONAL: Inside a personal URL.\n",
        "O: Outside of any named entity.\n",
        "\n",
        "DeBERTa (Decoding-enhanced BERT with disentangled attention) improves the BERT and RoBERTa models using two novel techniques. The first is the disentangled attention mechanism, where each word is represented using two vectors that encode its content and position, respectively, and the attention weights among words are computed using disentangled matrices on their contents and relative positions. Second, an enhanced mask decoder is used to replace the output softmax layer to predict the masked tokens for model pretraining. We show that these two techniques significantly improve the efficiency of model pre-training and performance of downstream tasks.\n",
        "\n",
        "##### Piecewise Tokenization:\n",
        "\n",
        "The DeBERTa model uses a 'piecewise' tokenizer. This type of tokenizer breaks down text into smaller subword units, which is useful for handling rare words and morphological variations. It ensures that even if a word is not in the vocabulary, the tokenizer can still represent it using smaller known subword units.\n",
        "\n",
        "##### Tokenization Process:\n",
        "\n",
        "Token Splitting: The text is split into tokens based on whitespace and punctuation.\n",
        "\n",
        "Subword Tokenization: Each token is further split into subwords. For example, the word \"unhappiness\" might be split into \"un\", \"happi\", and \"ness\".\n",
        "\n",
        "Label Alignment: Labels are aligned with the subword tokens. If a token is split into multiple subwords, the label for the original token is assigned to the first subword, and a special label (typically -100) is assigned to the subsequent subwords.\n",
        "Here's an example of how a token and its label might be split and aligned:\n",
        "\n",
        "Original token: \"unhappiness\" (Label: B-EMOTION) Subword tokens: [\"un\", \"happi\", \"ness\"] Aligned labels: [B-EMOTION, -100, -100]\n",
        "\n",
        "The alignment ensures that the model learns to identify entities correctly even when tokens are split into subwords.\n",
        "\n",
        "</font>\n",
        "\n",
        "A function to tokenize the input data and align the labels with the tokenized inputs s also defined. his function handles the trailing whitespace correctly. The map function, which is included in the datasets library, is used to map the function to all of the documents in the data set. This will create the tokenized dataset required for the Hugging Face Deberta model.\n"
      ]
    },
    {
      "cell_type": "code",
      "execution_count": 47,
      "metadata": {
        "id": "Tau0TIz-6kyg",
        "outputId": "39661f85-686b-413e-b06f-6c5f99c6e5a1",
        "colab": {
          "base_uri": "https://localhost:8080/",
          "height": 98,
          "referenced_widgets": [
            "9d6fed7af0d346a0b754ae5a7938b4ed",
            "13f1f716697f48f0b2b20e2461ec324d",
            "fdd38d36bc9c4f9fb216cf930a2bceda",
            "a60f3f06b3804d2d9c4386b175c12d86",
            "8d719f781e1c478bba4b70c14e9d90c8",
            "72c74c3b1ba044d28534a84d5bb086d5",
            "f89740f922034cea9065757a9b11fbd6",
            "5e9f26db7ab6421ab515bfbfb97cd525",
            "f98a09a355314048a6839f449928314c",
            "c6bf49fdb82746d987d6048879c77f75",
            "d08fdefd51244bedae955cce78a0cdd2",
            "258112702e654e77ac1ed7d99744cdbf",
            "5855a5f8df0d461eab12f8efd9b9a461",
            "2542063d30a14c8aaa937273f33728b1",
            "79f0dd7e4c1141babe1ad5fb6360b807",
            "c7c300a494974a1abc2b1b6a78ed03a0",
            "cce812fc375347b0a26172d9c77f5241",
            "544b86cadc964f18aa392552531b965c",
            "d0d02c7494e8421383c5c2d9b5fccfc0",
            "894b5717b94e4e869bf73fb78f07d3ec",
            "745389f40e53459ebd61caf07ddd7a2b",
            "569a076dd2b14783a7dcdf4fd42284ee"
          ]
        }
      },
      "outputs": [
        {
          "output_type": "display_data",
          "data": {
            "text/plain": [
              "Map:   0%|          | 0/1200 [00:00<?, ? examples/s]"
            ],
            "application/vnd.jupyter.widget-view+json": {
              "version_major": 2,
              "version_minor": 0,
              "model_id": "9d6fed7af0d346a0b754ae5a7938b4ed"
            }
          },
          "metadata": {}
        },
        {
          "output_type": "display_data",
          "data": {
            "text/plain": [
              "Map:   0%|          | 0/300 [00:00<?, ? examples/s]"
            ],
            "application/vnd.jupyter.widget-view+json": {
              "version_major": 2,
              "version_minor": 0,
              "model_id": "258112702e654e77ac1ed7d99744cdbf"
            }
          },
          "metadata": {}
        },
        {
          "output_type": "execute_result",
          "data": {
            "text/plain": [
              "4554"
            ]
          },
          "metadata": {},
          "execution_count": 47
        }
      ],
      "source": [
        "#Define function to tokenize and align labels\n",
        "def tokenize_and_align_labels(examples):\n",
        "    tokenized_inputs = tokenizer(\n",
        "        examples[\"tokens\"],\n",
        "        is_split_into_words=True,\n",
        "        truncation=True,\n",
        "        padding='max_length',\n",
        "        max_length=512\n",
        "        #,return_offsets_mapping=True\n",
        "    )\n",
        "\n",
        "    batch_original_tokens = []\n",
        "    batch_tokenized_tokens = []\n",
        "    batch_label_ids = []\n",
        "    batch_input_ids = []\n",
        "    batch_attention_masks = []\n",
        "    batch_token_type_ids = []\n",
        "\n",
        "    for i, label in enumerate(examples[\"labels\"]):\n",
        "        word_ids = tokenized_inputs.word_ids(batch_index=i)\n",
        "        original_tokens = examples[\"tokens\"][i]\n",
        "        tokenized_tokens = tokenizer.convert_ids_to_tokens(tokenized_inputs[\"input_ids\"][i])\n",
        "\n",
        "        previous_word_idx = None\n",
        "        label_ids = []\n",
        "        original_token_list = []\n",
        "        tokenized_token_list = []\n",
        "        input_id_list = []\n",
        "        attention_mask_list = []\n",
        "        token_type_id_list = []\n",
        "\n",
        "        for j, word_idx in enumerate(word_ids):\n",
        "            if word_idx is None:\n",
        "                label_ids.append(-100)\n",
        "                current_original_token = ''  # Special token\n",
        "            elif word_idx == previous_word_idx:\n",
        "                label_ids.append(-100)\n",
        "                current_original_token = ''  # Subword token\n",
        "            else:\n",
        "                label_ids.append(label2id[label[word_idx]])\n",
        "                current_original_token = original_tokens[word_idx]\n",
        "\n",
        "            original_token_list.append(current_original_token)\n",
        "            tokenized_token_list.append(tokenized_tokens[j])\n",
        "            input_id_list.append(tokenized_inputs[\"input_ids\"][i][j])\n",
        "            attention_mask_list.append(tokenized_inputs[\"attention_mask\"][i][j])\n",
        "            if \"token_type_ids\" in tokenized_inputs:\n",
        "                token_type_id_list.append(tokenized_inputs[\"token_type_ids\"][i][j])\n",
        "            else:\n",
        "                token_type_id_list.append(0)\n",
        "            previous_word_idx = word_idx  # Update for the next iteration\n",
        "\n",
        "        batch_original_tokens.append(original_token_list)\n",
        "        batch_tokenized_tokens.append(tokenized_token_list)\n",
        "        batch_label_ids.append(label_ids)\n",
        "        batch_input_ids.append(input_id_list)\n",
        "        batch_attention_masks.append(attention_mask_list)\n",
        "        batch_token_type_ids.append(token_type_id_list)\n",
        "\n",
        "    # Include BERT-required columns\n",
        "    return {\n",
        "        \"original_tokens\": batch_original_tokens,\n",
        "        \"tokenized_tokens\": batch_tokenized_tokens,\n",
        "        \"labels\": batch_label_ids,\n",
        "        \"input_ids\": batch_input_ids,\n",
        "        \"attention_mask\": batch_attention_masks,\n",
        "        \"token_type_ids\": batch_token_type_ids\n",
        "    }\n",
        "\n",
        "# Tokenize\n",
        "tokenized_datasets = dataset_dict.map(tokenize_and_align_labels, batched=True)\n",
        "\n",
        "gc.collect()"
      ]
    },
    {
      "cell_type": "markdown",
      "metadata": {
        "id": "EdiWDb2M6kyg"
      },
      "source": [
        "It is important to ensure the tokenizer works correctly. The function below displays a comparison of the original tokens to the processed tokens."
      ]
    },
    {
      "cell_type": "code",
      "execution_count": 48,
      "metadata": {
        "id": "qcNZNLyV6kyg",
        "outputId": "23d054da-aad4-43da-e5c0-92093a62a2b9",
        "colab": {
          "base_uri": "https://localhost:8080/"
        }
      },
      "outputs": [
        {
          "output_type": "stream",
          "name": "stdout",
          "text": [
            "Comparison of first 20 elements for the first document in the train dataset:\n",
            "Original Token:                 | Tokenized Token: <s>                  | Label: -100  | Input ID: 0          | Attention Mask: 1     | Token Type ID: 0\n",
            "Original Token: Mauro           | Tokenized Token: ĠMau                 | Label: 0     | Input ID: 14147      | Attention Mask: 1     | Token Type ID: 0\n",
            "Original Token:                 | Tokenized Token: ro                   | Label: -100  | Input ID: 1001       | Attention Mask: 1     | Token Type ID: 0\n",
            "Original Token: Zizza           | Tokenized Token: ĠZ                   | Label: 2     | Input ID: 525        | Attention Mask: 1     | Token Type ID: 0\n",
            "Original Token:                 | Tokenized Token: izza                 | Label: -100  | Input ID: 35280      | Attention Mask: 1     | Token Type ID: 0\n",
            "Original Token: ,               | Tokenized Token: Ġ,                   | Label: 3     | Input ID: 2156       | Attention Mask: 1     | Token Type ID: 0\n",
            "Original Token: DESIGN          | Tokenized Token: ĠDES                 | Label: 3     | Input ID: 24566      | Attention Mask: 1     | Token Type ID: 0\n",
            "Original Token:                 | Tokenized Token: IGN                  | Label: -100  | Input ID: 30596      | Attention Mask: 1     | Token Type ID: 0\n",
            "Original Token: THINKING        | Tokenized Token: ĠTH                  | Label: 3     | Input ID: 8640       | Attention Mask: 1     | Token Type ID: 0\n",
            "Original Token:                 | Tokenized Token: INK                  | Label: -100  | Input ID: 23617      | Attention Mask: 1     | Token Type ID: 0\n",
            "Original Token:                 | Tokenized Token: ING                  | Label: -100  | Input ID: 1862       | Attention Mask: 1     | Token Type ID: 0\n",
            "Original Token: ASSIGNMENT      | Tokenized Token: ĠASS                 | Label: 3     | Input ID: 20860      | Attention Mask: 1     | Token Type ID: 0\n",
            "Original Token:                 | Tokenized Token: IGN                  | Label: -100  | Input ID: 30596      | Attention Mask: 1     | Token Type ID: 0\n",
            "Original Token:                 | Tokenized Token: MENT                 | Label: -100  | Input ID: 12613      | Attention Mask: 1     | Token Type ID: 0\n",
            "Original Token:                 | Tokenized Token: Ġ                    | Label: 3     | Input ID: 1437       | Attention Mask: 1     | Token Type ID: 0\n",
            "Original Token:                 | Tokenized Token: Ġ                    | Label: -100  | Input ID: 1437       | Attention Mask: 1     | Token Type ID: 0\n",
            "Original Token:                 | Tokenized Token: Ġ                    | Label: -100  | Input ID: 1437       | Attention Mask: 1     | Token Type ID: 0\n",
            "Original Token: DT              | Tokenized Token: ĠDT                  | Label: 3     | Input ID: 22603      | Attention Mask: 1     | Token Type ID: 0\n",
            "Original Token: for             | Tokenized Token: Ġfor                 | Label: 3     | Input ID: 13         | Attention Mask: 1     | Token Type ID: 0\n",
            "Original Token: psychotherapy   | Tokenized Token: Ġpsych               | Label: 3     | Input ID: 21968      | Attention Mask: 1     | Token Type ID: 0\n"
          ]
        }
      ],
      "source": [
        "import datasets\n",
        "\n",
        "# Function to print the first few elements of each relevant column\n",
        "def print_comparison(dataset, num_elements=20):\n",
        "    first_document = dataset[0]\n",
        "    original_tokens = first_document['original_tokens'][:num_elements]\n",
        "    tokenized_tokens = first_document['tokenized_tokens'][:num_elements]\n",
        "    labels = first_document['labels'][:num_elements]\n",
        "    input_ids = first_document['input_ids'][:num_elements]\n",
        "    attention_mask = first_document['attention_mask'][:num_elements]\n",
        "    token_type_ids = first_document['token_type_ids'][:num_elements]\n",
        "\n",
        "    # Print the columns in a readable format\n",
        "    for i in range(num_elements):\n",
        "        print(f\"Original Token: {original_tokens[i]:<15} | \"\n",
        "              f\"Tokenized Token: {tokenized_tokens[i]:<20} | \"\n",
        "              f\"Label: {labels[i]:<5} | \"\n",
        "              f\"Input ID: {input_ids[i]:<10} | \"\n",
        "              f\"Attention Mask: {attention_mask[i]:<5} | \"\n",
        "              f\"Token Type ID: {token_type_ids[i]}\")\n",
        "\n",
        "# Example usage with the train dataset\n",
        "print(\"Comparison of first 20 elements for the first document in the train dataset:\")\n",
        "print_comparison(tokenized_datasets['train'], num_elements=20)"
      ]
    },
    {
      "cell_type": "markdown",
      "metadata": {
        "id": "7uaXimE06kyg"
      },
      "source": [
        "The tokenizer appears to have processed the original tokens correctly. We can remove the unnecessary column from the tokenized data set and only keep the columns required for training."
      ]
    },
    {
      "cell_type": "code",
      "execution_count": 49,
      "metadata": {
        "id": "h5z15CRp6kyh"
      },
      "outputs": [],
      "source": [
        "# List of columns to keep\n",
        "columns_to_keep = ['labels', 'input_ids', 'attention_mask', 'token_type_ids']\n",
        "\n",
        "# Function to remove unnecessary columns\n",
        "def remove_unnecessary_columns(dataset, columns_to_keep):\n",
        "    return dataset.remove_columns([column for column in dataset.column_names if column not in columns_to_keep])\n",
        "\n",
        "# Apply the function to both train and test datasets\n",
        "tokenized_datasets['train'] = remove_unnecessary_columns(tokenized_datasets['train'], columns_to_keep)\n",
        "tokenized_datasets['test'] = remove_unnecessary_columns(tokenized_datasets['test'], columns_to_keep)"
      ]
    },
    {
      "cell_type": "markdown",
      "metadata": {
        "id": "wwU_fZYT6kyh"
      },
      "source": [
        "##### facebook bart Model Training\n",
        "Recall the data set is imbalanced, with the vast majority of labels belonging to a non-PII category 'O.' Class weights with a weighted loss function will be used to help with this imbalance. This means the model will put more focus on the minority classes and will put less weight on the majority classes when training. Also, a custom compute metrics function with a classification report is defined for evaluation."
      ]
    },
    {
      "cell_type": "code",
      "execution_count": 50,
      "metadata": {
        "id": "EIIeyc6f6kyh"
      },
      "outputs": [],
      "source": [
        "# Calculate class weights\n",
        "class_weights = compute_class_weight('balanced', classes=np.unique(all_labels), y=all_labels)\n",
        "class_weights = torch.tensor(class_weights, dtype=torch.float).to(device)"
      ]
    },
    {
      "cell_type": "markdown",
      "source": [
        "Creating a custom callback to track the loss at each epoch's end and log it for later plotting"
      ],
      "metadata": {
        "id": "PvTrz4Ya_Kvq"
      }
    },
    {
      "cell_type": "code",
      "source": [
        "from transformers import TrainerCallback\n",
        "import matplotlib.pyplot as plt\n",
        "\n",
        "# Custom callback to log loss at the end of each epoch\n",
        "class LossLoggerCallback(TrainerCallback):\n",
        "    def __init__(self):\n",
        "        self.epoch_losses = []\n",
        "\n",
        "    def on_epoch_end(self, args, state, control, **kwargs):\n",
        "        # Check if log_history has entries\n",
        "        if state.log_history and 'loss' in state.log_history[-1]:\n",
        "            # Store the loss of the current epoch\n",
        "            self.epoch_losses.append(state.log_history[-1]['loss'])\n",
        "        else:\n",
        "            print(\"Warning: No loss logged for this epoch.\")\n",
        "\n",
        "# Initialize the callback\n",
        "loss_logger = LossLoggerCallback()"
      ],
      "metadata": {
        "id": "q_aeGxBk_G5X"
      },
      "execution_count": 51,
      "outputs": []
    },
    {
      "cell_type": "code",
      "execution_count": null,
      "metadata": {
        "id": "4MtK4ltg6kyh",
        "colab": {
          "base_uri": "https://localhost:8080/"
        },
        "outputId": "b3a6494e-6244-4c60-f042-c6c83e114d72"
      },
      "outputs": [
        {
          "output_type": "stream",
          "name": "stderr",
          "text": [
            "<ipython-input-34-f142fb4e1c49>:101: FutureWarning: `tokenizer` is deprecated and will be removed in version 5.0.0 for `CustomTrainer.__init__`. Use `processing_class` instead.\n",
            "  super().__init__(*args, **kwargs)\n"
          ]
        }
      ],
      "source": [
        "class BartForTokenClassification(nn.Module):\n",
        "    def __init__(self, model, num_labels):\n",
        "        super(BartForTokenClassification, self).__init__()\n",
        "        self.model = model.model  # Use the underlying BART model\n",
        "        self.classifier = nn.Linear(768, num_labels)  # Add custom classification head\n",
        "\n",
        "    def forward(self, input_ids, attention_mask=None, labels=None):\n",
        "        outputs = self.model(input_ids=input_ids, attention_mask=attention_mask, return_dict=True)\n",
        "        hidden_states = outputs.last_hidden_state\n",
        "        logits = self.classifier(hidden_states)\n",
        "\n",
        "        loss = None\n",
        "        if labels is not None:\n",
        "            loss_fct = nn.CrossEntropyLoss()\n",
        "            active_loss = attention_mask.view(-1) == 1\n",
        "            active_logits = logits.view(-1, num_labels)[active_loss]\n",
        "            active_labels = labels.view(-1)[active_loss]\n",
        "            loss = loss_fct(active_logits, active_labels)\n",
        "\n",
        "        return {\"loss\": loss, \"logits\": logits}\n",
        "\n",
        "    def save_pretrained(self, save_directory):\n",
        "      # Save the underlying BART model and the classifier\n",
        "      self.model.save_pretrained(save_directory)  # Saves the BART model's weights\n",
        "      torch.save(self.classifier.state_dict(), f\"{save_directory}/bart_classifier.pt\")  # Save classifier separately\n",
        "\n",
        "    @classmethod\n",
        "    def from_pretrained(cls, save_directory, num_labels):\n",
        "        # Load the underlying BART model and the custom classifier\n",
        "        base_model = BartForConditionalGeneration.from_pretrained(save_directory)\n",
        "        model = cls(base_model, num_labels)\n",
        "        classifier_state_dict = torch.load(f\"{save_directory}/bart_classifier.pt\")\n",
        "        model.classifier.load_state_dict(classifier_state_dict)\n",
        "        return model\n",
        "\n",
        "    def get_device(self):\n",
        "        # Retrieve the device of the model's parameters\n",
        "        return next(self.parameters()).device\n",
        "\n",
        "# Initialize the custom model\n",
        "num_labels = 13  # Replace with the actual number of PII classes\n",
        "base_model = BartForConditionalGeneration.from_pretrained(\"facebook/bart-base\")\n",
        "model = BartForTokenClassification(base_model, num_labels)\n",
        "\n",
        "# Define data collator for token classification\n",
        "data_collator = DataCollatorForTokenClassification(tokenizer)\n",
        "\n",
        "# Define Focal Loss for handling class imbalance\n",
        "class FocalLoss(nn.Module):\n",
        "    def __init__(self, gamma=2, alpha=None):\n",
        "        super(FocalLoss, self).__init__()\n",
        "        self.gamma = gamma\n",
        "        self.alpha = alpha\n",
        "        if isinstance(alpha, (float, int)):\n",
        "            self.alpha = torch.Tensor([alpha, 1 - alpha])\n",
        "        if isinstance(alpha, list):\n",
        "            self.alpha = torch.Tensor(alpha)\n",
        "\n",
        "    def forward(self, inputs, targets):\n",
        "        if self.alpha is not None:\n",
        "            self.alpha = self.alpha.to(inputs.device)  # Ensure alpha is on the correct device\n",
        "        BCE_loss = nn.functional.cross_entropy(inputs, targets, reduction='none', weight=self.alpha)\n",
        "        pt = torch.exp(-BCE_loss)\n",
        "        F_loss = ((1 - pt) ** self.gamma) * BCE_loss\n",
        "        return F_loss.mean()\n",
        "\n",
        "# Initialize Focal Loss with class weights\n",
        "class_weights = torch.ones(num_labels).to(\"cuda\")  # Replace with actual class weights if available\n",
        "loss_fn = FocalLoss(gamma=2, alpha=class_weights)\n",
        "\n",
        "# Define custom compute metrics function\n",
        "def compute_metrics(p):\n",
        "    predictions, labels = p\n",
        "    predictions = np.argmax(predictions, axis=2)\n",
        "\n",
        "    true_labels = [[id2label[label] for label in doc if label != -100] for doc in labels]\n",
        "    true_predictions = [\n",
        "        [id2label[pred] for pred, label in zip(doc, labels[i]) if label != -100]\n",
        "        for i, doc in enumerate(predictions)\n",
        "    ]\n",
        "\n",
        "    true_labels_flat = [item for sublist in true_labels for item in sublist]\n",
        "    true_predictions_flat = [item for sublist in true_predictions for item in sublist]\n",
        "\n",
        "    results = precision_recall_fscore_support(true_labels_flat, true_predictions_flat, average='weighted')\n",
        "    class_report = classification_report(\n",
        "        true_labels_flat, true_predictions_flat, labels=all_labels, zero_division=0\n",
        "    )\n",
        "\n",
        "    print(\"Classification Report:\\n\", class_report)\n",
        "    return {\n",
        "        \"precision\": results[0],\n",
        "        \"recall\": results[1],\n",
        "        \"f1\": results[2],\n",
        "        \"accuracy\": (results[2] * results[1])\n",
        "    }\n",
        "\n",
        "# Custom Trainer with custom loss function\n",
        "class CustomTrainer(Trainer):\n",
        "    def __init__(self, loss_fn, *args, **kwargs):\n",
        "        super().__init__(*args, **kwargs)\n",
        "        self.loss_fn = loss_fn\n",
        "\n",
        "    def compute_loss(self, model, inputs, return_outputs=False, **kwargs):\n",
        "        device = model.get_device()\n",
        "        inputs = {key: value.to(device) for key, value in inputs.items()}  # Ensure inputs are on the same device\n",
        "        labels = inputs.pop(\"labels\").to(device)  # Ensure labels are on the same device\n",
        "\n",
        "        outputs = model(**inputs)\n",
        "        logits = outputs[\"logits\"]\n",
        "        loss = self.loss_fn(logits.view(-1, logits.shape[-1]), labels.view(-1))\n",
        "        # Log the loss explicitly\n",
        "        self.log({\"loss\": loss.item()})\n",
        "        return (loss, outputs) if return_outputs else loss\n",
        "\n",
        "# Training arguments\n",
        "training_args = TrainingArguments(\n",
        "    output_dir='./results',\n",
        "    eval_strategy=\"epoch\",\n",
        "    learning_rate=2e-5,\n",
        "    per_device_train_batch_size=4,\n",
        "    per_device_eval_batch_size=4,\n",
        "    gradient_accumulation_steps=2,\n",
        "    num_train_epochs=5,\n",
        "    weight_decay=0.01,\n",
        "    logging_steps=10,  # Log every 10 steps\n",
        "    save_strategy=\"no\",  # Disable default checkpoint saving\n",
        "    report_to='none'\n",
        ")\n",
        "\n",
        "# Initialize Custom Trainer\n",
        "trainer = CustomTrainer(\n",
        "    loss_fn=loss_fn,\n",
        "    model=model,\n",
        "    args=training_args,\n",
        "    train_dataset=tokenized_datasets['train'],\n",
        "    eval_dataset=tokenized_datasets['test'],\n",
        "    tokenizer=tokenizer,\n",
        "    data_collator=data_collator,\n",
        "    compute_metrics=compute_metrics,\n",
        "    callbacks=[loss_logger]  # the loss logger callback\n",
        ")\n"
      ]
    },
    {
      "cell_type": "code",
      "execution_count": null,
      "metadata": {
        "id": "NUZ8dBrq6kyi",
        "outputId": "b263ac4b-3f3d-4d4c-eacd-0c366f4b056a",
        "colab": {
          "base_uri": "https://localhost:8080/",
          "height": 1000
        }
      },
      "outputs": [
        {
          "output_type": "display_data",
          "data": {
            "text/plain": [
              "<IPython.core.display.HTML object>"
            ],
            "text/html": [
              "\n",
              "    <div>\n",
              "      \n",
              "      <progress value='750' max='750' style='width:300px; height:20px; vertical-align: middle;'></progress>\n",
              "      [750/750 13:10, Epoch 5/5]\n",
              "    </div>\n",
              "    <table border=\"1\" class=\"dataframe\">\n",
              "  <thead>\n",
              " <tr style=\"text-align: left;\">\n",
              "      <th>Epoch</th>\n",
              "      <th>Training Loss</th>\n",
              "      <th>Validation Loss</th>\n",
              "      <th>Precision</th>\n",
              "      <th>Recall</th>\n",
              "      <th>F1</th>\n",
              "      <th>Accuracy</th>\n",
              "    </tr>\n",
              "  </thead>\n",
              "  <tbody>\n",
              "    <tr>\n",
              "      <td>1</td>\n",
              "      <td>0.000038</td>\n",
              "      <td>0.001585</td>\n",
              "      <td>0.998779</td>\n",
              "      <td>0.999057</td>\n",
              "      <td>0.998909</td>\n",
              "      <td>0.997967</td>\n",
              "    </tr>\n",
              "    <tr>\n",
              "      <td>2</td>\n",
              "      <td>0.000040</td>\n",
              "      <td>0.000631</td>\n",
              "      <td>0.999453</td>\n",
              "      <td>0.999465</td>\n",
              "      <td>0.999454</td>\n",
              "      <td>0.998920</td>\n",
              "    </tr>\n",
              "    <tr>\n",
              "      <td>3</td>\n",
              "      <td>0.000012</td>\n",
              "      <td>0.000552</td>\n",
              "      <td>0.999510</td>\n",
              "      <td>0.999488</td>\n",
              "      <td>0.999493</td>\n",
              "      <td>0.998981</td>\n",
              "    </tr>\n",
              "    <tr>\n",
              "      <td>4</td>\n",
              "      <td>0.000014</td>\n",
              "      <td>0.000724</td>\n",
              "      <td>0.999505</td>\n",
              "      <td>0.999451</td>\n",
              "      <td>0.999466</td>\n",
              "      <td>0.998917</td>\n",
              "    </tr>\n",
              "    <tr>\n",
              "      <td>5</td>\n",
              "      <td>0.000006</td>\n",
              "      <td>0.000615</td>\n",
              "      <td>0.999514</td>\n",
              "      <td>0.999480</td>\n",
              "      <td>0.999487</td>\n",
              "      <td>0.998968</td>\n",
              "    </tr>\n",
              "  </tbody>\n",
              "</table><p>"
            ]
          },
          "metadata": {}
        },
        {
          "output_type": "stream",
          "name": "stderr",
          "text": [
            "/usr/local/lib/python3.10/dist-packages/sklearn/metrics/_classification.py:1531: UndefinedMetricWarning: Precision is ill-defined and being set to 0.0 in labels with no predicted samples. Use `zero_division` parameter to control this behavior.\n",
            "  _warn_prf(average, modifier, f\"{metric.capitalize()} is\", len(result))\n"
          ]
        },
        {
          "output_type": "stream",
          "name": "stdout",
          "text": [
            "Classification Report:\n",
            "                   precision    recall  f1-score   support\n",
            "\n",
            "         B-EMAIL       0.00      0.00      0.00         5\n",
            "      B-USERNAME       0.00      0.00      0.00         0\n",
            "B-STREET_ADDRESS       0.00      0.00      0.00         0\n",
            "  B-NAME_STUDENT       0.80      0.83      0.81       153\n",
            "        B-ID_NUM       0.00      0.00      0.00        23\n",
            "  I-URL_PERSONAL       0.00      0.00      0.00         0\n",
            "  B-URL_PERSONAL       0.00      0.00      0.00        10\n",
            "  I-NAME_STUDENT       0.81      1.00      0.89       119\n",
            "               O       1.00      1.00      1.00    134379\n",
            "     B-PHONE_NUM       0.00      0.00      0.00         2\n",
            "     I-PHONE_NUM       0.00      0.00      0.00         4\n",
            "I-STREET_ADDRESS       0.00      0.00      0.00         0\n",
            "\n",
            "        accuracy                           1.00    134695\n",
            "       macro avg       0.22      0.24      0.23    134695\n",
            "    weighted avg       1.00      1.00      1.00    134695\n",
            "\n"
          ]
        },
        {
          "output_type": "stream",
          "name": "stderr",
          "text": [
            "/usr/local/lib/python3.10/dist-packages/sklearn/metrics/_classification.py:1531: UndefinedMetricWarning: Precision is ill-defined and being set to 0.0 in labels with no predicted samples. Use `zero_division` parameter to control this behavior.\n",
            "  _warn_prf(average, modifier, f\"{metric.capitalize()} is\", len(result))\n"
          ]
        },
        {
          "output_type": "stream",
          "name": "stdout",
          "text": [
            "Classification Report:\n",
            "                   precision    recall  f1-score   support\n",
            "\n",
            "         B-EMAIL       1.00      1.00      1.00         5\n",
            "      B-USERNAME       0.00      0.00      0.00         0\n",
            "B-STREET_ADDRESS       0.00      0.00      0.00         0\n",
            "  B-NAME_STUDENT       0.87      0.88      0.87       153\n",
            "        B-ID_NUM       0.76      0.83      0.79        23\n",
            "  I-URL_PERSONAL       0.00      0.00      0.00         0\n",
            "  B-URL_PERSONAL       0.59      1.00      0.74        10\n",
            "  I-NAME_STUDENT       0.91      0.97      0.94       119\n",
            "               O       1.00      1.00      1.00    134379\n",
            "     B-PHONE_NUM       0.00      0.00      0.00         2\n",
            "     I-PHONE_NUM       0.00      0.00      0.00         4\n",
            "I-STREET_ADDRESS       0.00      0.00      0.00         0\n",
            "\n",
            "        accuracy                           1.00    134695\n",
            "       macro avg       0.43      0.47      0.45    134695\n",
            "    weighted avg       1.00      1.00      1.00    134695\n",
            "\n"
          ]
        },
        {
          "output_type": "stream",
          "name": "stderr",
          "text": [
            "/usr/local/lib/python3.10/dist-packages/sklearn/metrics/_classification.py:1531: UndefinedMetricWarning: Precision is ill-defined and being set to 0.0 in labels with no predicted samples. Use `zero_division` parameter to control this behavior.\n",
            "  _warn_prf(average, modifier, f\"{metric.capitalize()} is\", len(result))\n",
            "/usr/local/lib/python3.10/dist-packages/sklearn/metrics/_classification.py:1531: UndefinedMetricWarning: Recall is ill-defined and being set to 0.0 in labels with no true samples. Use `zero_division` parameter to control this behavior.\n",
            "  _warn_prf(average, modifier, f\"{metric.capitalize()} is\", len(result))\n"
          ]
        },
        {
          "output_type": "stream",
          "name": "stdout",
          "text": [
            "Classification Report:\n",
            "                   precision    recall  f1-score   support\n",
            "\n",
            "         B-EMAIL       1.00      1.00      1.00         5\n",
            "      B-USERNAME       0.00      0.00      0.00         0\n",
            "B-STREET_ADDRESS       0.00      0.00      0.00         0\n",
            "  B-NAME_STUDENT       0.86      0.87      0.87       153\n",
            "        B-ID_NUM       0.95      0.78      0.86        23\n",
            "  I-URL_PERSONAL       0.00      0.00      0.00         0\n",
            "  B-URL_PERSONAL       0.62      0.80      0.70        10\n",
            "  I-NAME_STUDENT       0.92      1.00      0.96       119\n",
            "               O       1.00      1.00      1.00    134379\n",
            "     B-PHONE_NUM       0.00      0.00      0.00         2\n",
            "     I-PHONE_NUM       1.00      0.50      0.67         4\n",
            "I-STREET_ADDRESS       0.00      0.00      0.00         0\n",
            "\n",
            "        accuracy                           1.00    134695\n",
            "       macro avg       0.53      0.50      0.50    134695\n",
            "    weighted avg       1.00      1.00      1.00    134695\n",
            "\n"
          ]
        },
        {
          "output_type": "stream",
          "name": "stderr",
          "text": [
            "/usr/local/lib/python3.10/dist-packages/sklearn/metrics/_classification.py:1531: UndefinedMetricWarning: Precision is ill-defined and being set to 0.0 in labels with no predicted samples. Use `zero_division` parameter to control this behavior.\n",
            "  _warn_prf(average, modifier, f\"{metric.capitalize()} is\", len(result))\n"
          ]
        },
        {
          "output_type": "stream",
          "name": "stdout",
          "text": [
            "Classification Report:\n",
            "                   precision    recall  f1-score   support\n",
            "\n",
            "         B-EMAIL       1.00      1.00      1.00         5\n",
            "      B-USERNAME       0.00      0.00      0.00         0\n",
            "B-STREET_ADDRESS       0.00      0.00      0.00         0\n",
            "  B-NAME_STUDENT       0.81      0.92      0.86       153\n",
            "        B-ID_NUM       0.88      0.91      0.89        23\n",
            "  I-URL_PERSONAL       0.00      0.00      0.00         0\n",
            "  B-URL_PERSONAL       0.59      1.00      0.74        10\n",
            "  I-NAME_STUDENT       0.89      1.00      0.94       119\n",
            "               O       1.00      1.00      1.00    134379\n",
            "     B-PHONE_NUM       0.00      0.00      0.00         2\n",
            "     I-PHONE_NUM       0.67      1.00      0.80         4\n",
            "I-STREET_ADDRESS       0.00      0.00      0.00         0\n",
            "\n",
            "        accuracy                           1.00    134695\n",
            "       macro avg       0.49      0.57      0.52    134695\n",
            "    weighted avg       1.00      1.00      1.00    134695\n",
            "\n"
          ]
        },
        {
          "output_type": "stream",
          "name": "stderr",
          "text": [
            "/usr/local/lib/python3.10/dist-packages/sklearn/metrics/_classification.py:1531: UndefinedMetricWarning: Precision is ill-defined and being set to 0.0 in labels with no predicted samples. Use `zero_division` parameter to control this behavior.\n",
            "  _warn_prf(average, modifier, f\"{metric.capitalize()} is\", len(result))\n"
          ]
        },
        {
          "output_type": "stream",
          "name": "stdout",
          "text": [
            "Classification Report:\n",
            "                   precision    recall  f1-score   support\n",
            "\n",
            "         B-EMAIL       1.00      1.00      1.00         5\n",
            "      B-USERNAME       0.00      0.00      0.00         0\n",
            "B-STREET_ADDRESS       0.00      0.00      0.00         0\n",
            "  B-NAME_STUDENT       0.82      0.92      0.87       153\n",
            "        B-ID_NUM       0.95      0.78      0.86        23\n",
            "  I-URL_PERSONAL       0.00      0.00      0.00         0\n",
            "  B-URL_PERSONAL       0.62      1.00      0.77        10\n",
            "  I-NAME_STUDENT       0.90      1.00      0.95       119\n",
            "               O       1.00      1.00      1.00    134379\n",
            "     B-PHONE_NUM       0.00      0.00      0.00         2\n",
            "     I-PHONE_NUM       0.80      1.00      0.89         4\n",
            "I-STREET_ADDRESS       0.00      0.00      0.00         0\n",
            "\n",
            "        accuracy                           1.00    134695\n",
            "       macro avg       0.51      0.56      0.53    134695\n",
            "    weighted avg       1.00      1.00      1.00    134695\n",
            "\n"
          ]
        },
        {
          "output_type": "display_data",
          "data": {
            "text/plain": [
              "<IPython.core.display.HTML object>"
            ],
            "text/html": [
              "\n",
              "    <div>\n",
              "      \n",
              "      <progress value='75' max='75' style='width:300px; height:20px; vertical-align: middle;'></progress>\n",
              "      [75/75 00:10]\n",
              "    </div>\n",
              "    "
            ]
          },
          "metadata": {}
        },
        {
          "output_type": "stream",
          "name": "stderr",
          "text": [
            "/usr/local/lib/python3.10/dist-packages/sklearn/metrics/_classification.py:1531: UndefinedMetricWarning: Precision is ill-defined and being set to 0.0 in labels with no predicted samples. Use `zero_division` parameter to control this behavior.\n",
            "  _warn_prf(average, modifier, f\"{metric.capitalize()} is\", len(result))\n"
          ]
        },
        {
          "output_type": "stream",
          "name": "stdout",
          "text": [
            "Classification Report:\n",
            "                   precision    recall  f1-score   support\n",
            "\n",
            "         B-EMAIL       1.00      1.00      1.00         5\n",
            "      B-USERNAME       0.00      0.00      0.00         0\n",
            "B-STREET_ADDRESS       0.00      0.00      0.00         0\n",
            "  B-NAME_STUDENT       0.82      0.92      0.87       153\n",
            "        B-ID_NUM       0.95      0.78      0.86        23\n",
            "  I-URL_PERSONAL       0.00      0.00      0.00         0\n",
            "  B-URL_PERSONAL       0.62      1.00      0.77        10\n",
            "  I-NAME_STUDENT       0.90      1.00      0.95       119\n",
            "               O       1.00      1.00      1.00    134379\n",
            "     B-PHONE_NUM       0.00      0.00      0.00         2\n",
            "     I-PHONE_NUM       0.80      1.00      0.89         4\n",
            "I-STREET_ADDRESS       0.00      0.00      0.00         0\n",
            "\n",
            "        accuracy                           1.00    134695\n",
            "       macro avg       0.51      0.56      0.53    134695\n",
            "    weighted avg       1.00      1.00      1.00    134695\n",
            "\n",
            "{'eval_loss': 0.0006152931018732488, 'eval_precision': 0.9995138304508542, 'eval_recall': 0.9994803073610751, 'eval_f1': 0.9994871851324882, 'eval_accuracy': 0.998967758999675, 'eval_runtime': 13.31, 'eval_samples_per_second': 22.539, 'eval_steps_per_second': 5.635, 'epoch': 5.0}\n"
          ]
        }
      ],
      "source": [
        "# Train the model\n",
        "trainer.train()\n",
        "\n",
        "# Evaluate the model\n",
        "eval_results = trainer.evaluate()\n",
        "print(eval_results)\n"
      ]
    },
    {
      "cell_type": "code",
      "source": [
        "save_directory = \"./bart_model\"\n",
        "model.save_pretrained(save_directory)\n",
        "tokenizer.save_pretrained(save_directory)\n",
        "\n",
        "# Plot the epoch losses after training\n",
        "plt.figure(figsize=(10, 5))\n",
        "plt.plot(range(1, len(loss_logger.epoch_losses) + 1), loss_logger.epoch_losses, marker='o')\n",
        "plt.xlabel('Epoch')\n",
        "plt.ylabel('Loss')\n",
        "plt.title('Training Loss per Epoch')\n",
        "plt.xticks(range(1, len(loss_logger.epoch_losses) + 1))  # Set x-axis ticks to match epoch numbers\n",
        "plt.show()"
      ],
      "metadata": {
        "colab": {
          "base_uri": "https://localhost:8080/",
          "height": 559
        },
        "id": "dRVp1wxRZFOf",
        "outputId": "a38117b8-9995-4548-87b1-e8f3f836e222"
      },
      "execution_count": null,
      "outputs": [
        {
          "output_type": "stream",
          "name": "stderr",
          "text": [
            "/usr/local/lib/python3.10/dist-packages/transformers/configuration_utils.py:388: UserWarning: Some non-default generation parameters are set in the model config. These should go into either a) `model.generation_config` (as opposed to `model.config`); OR b) a GenerationConfig file (https://huggingface.co/docs/transformers/generation_strategies#save-a-custom-decoding-strategy-with-your-model).This warning will become an exception in the future.\n",
            "Non-default generation parameters: {'early_stopping': True, 'num_beams': 4, 'no_repeat_ngram_size': 3, 'forced_bos_token_id': 0}\n",
            "  warnings.warn(\n"
          ]
        },
        {
          "output_type": "display_data",
          "data": {
            "text/plain": [
              "<Figure size 1000x500 with 1 Axes>"
            ],
            "image/png": "[encoded data removed]"
          },
          "metadata": {}
        }
      ]
    },
    {
      "cell_type": "markdown",
      "source": [
        "Facebook BART for token classification (NER). Since BART is primarily used for sequence-to-sequence tasks, using it for token classification requires certain adaptations."
      ],
      "metadata": {
        "id": "2EvVjsWSYPvV"
      }
    },
    {
      "cell_type": "markdown",
      "source": [
        "### Define a Custom BART Model with Dropout"
      ],
      "metadata": {
        "id": "h05nhsCmZPOT"
      }
    },
    {
      "cell_type": "code",
      "source": [
        "import torch\n",
        "import torch.nn as nn\n",
        "from transformers import BartForConditionalGeneration\n",
        "\n",
        "class BartForTokenClassificationWithDropout(nn.Module):\n",
        "    def __init__(self, model, num_labels, dropout_rate=0.3):\n",
        "        \"\"\"\n",
        "        Custom BART model for token classification with a dropout layer.\n",
        "        Args:\n",
        "            model: Base BART model.\n",
        "            num_labels: Number of output labels for classification.\n",
        "            dropout_rate: Dropout rate for regularization.\n",
        "        \"\"\"\n",
        "        super(BartForTokenClassificationWithDropout, self).__init__()\n",
        "        self.model = model.model  # Use the underlying BART model\n",
        "        self.dropout = nn.Dropout(dropout_rate)  # Add dropout layer\n",
        "        self.classifier = nn.Linear(768, num_labels)  # Classification head\n",
        "\n",
        "    def forward(self, input_ids, attention_mask=None, labels=None):\n",
        "        \"\"\"\n",
        "        Forward pass of the model.\n",
        "        Args:\n",
        "            input_ids: Tokenized input IDs.\n",
        "            attention_mask: Attention mask for input IDs.\n",
        "            labels: Target labels (optional).\n",
        "        Returns:\n",
        "            Dictionary containing loss and logits.\n",
        "        \"\"\"\n",
        "        # Get hidden states from the BART encoder\n",
        "        outputs = self.model(input_ids=input_ids, attention_mask=attention_mask, return_dict=True)\n",
        "        hidden_states = outputs.last_hidden_state\n",
        "\n",
        "        # Apply dropout and pass through the classifier\n",
        "        hidden_states = self.dropout(hidden_states)\n",
        "        logits = self.classifier(hidden_states)\n",
        "\n",
        "        loss = None\n",
        "        if labels is not None:\n",
        "            # Compute loss only if labels are provided\n",
        "            loss_fct = nn.CrossEntropyLoss()\n",
        "            active_loss = attention_mask.view(-1) == 1  # Mask padding tokens\n",
        "            active_logits = logits.view(-1, logits.shape[-1])[active_loss]\n",
        "            active_labels = labels.view(-1)[active_loss]\n",
        "            loss = loss_fct(active_logits, active_labels)\n",
        "\n",
        "        return {\"loss\": loss, \"logits\": logits}\n",
        "\n",
        "    def save_model(self, output_dir=None):\n",
        "        \"\"\"\n",
        "        Save the model and tokenizer safely, ensuring shared tensors are handled.\n",
        "        Args:\n",
        "            output_dir: Directory to save the model and tokenizer.\n",
        "        \"\"\"\n",
        "        if output_dir is None:\n",
        "            raise ValueError(\"Output directory must be specified.\")\n",
        "\n",
        "        # Save the BART model and the classification head\n",
        "        self.model.save_pretrained(output_dir)  # Save the BART model safely\n",
        "        torch.save(self.classifier.state_dict(), f\"{output_dir}/bart_classifier.pt\")\n",
        "        print(f\"Model saved to {output_dir}\")\n",
        "\n",
        "    @classmethod\n",
        "    def from_pretrained(cls, save_directory, num_labels, dropout_rate=0.3):\n",
        "        \"\"\"\n",
        "        Load the model from a directory.\n",
        "        Args:\n",
        "            save_directory: Path to the directory where the model is saved.\n",
        "            num_labels: Number of output labels for classification.\n",
        "            dropout_rate: Dropout rate for regularization.\n",
        "        Returns:\n",
        "            An instance of BartForTokenClassificationWithDropout.\n",
        "        \"\"\"\n",
        "        # Load the base BART model\n",
        "        base_model = BartForConditionalGeneration.from_pretrained(save_directory)\n",
        "\n",
        "        # Initialize the custom model\n",
        "        model = cls(base_model, num_labels, dropout_rate)\n",
        "\n",
        "        # Load the classifier weights\n",
        "        classifier_state_dict = torch.load(f\"{save_directory}/bart_classifier.pt\")\n",
        "        model.classifier.load_state_dict(classifier_state_dict)\n",
        "        return model\n",
        "\n",
        "    def get_device(self):\n",
        "        \"\"\"\n",
        "        Retrieve the device of the model's parameters.\n",
        "        Returns:\n",
        "            The device (CPU/GPU) where the model is loaded.\n",
        "        \"\"\"\n",
        "        return next(self.parameters()).device\n"
      ],
      "metadata": {
        "id": "x-iOIjnsyzT-"
      },
      "execution_count": 52,
      "outputs": []
    },
    {
      "cell_type": "code",
      "source": [
        "from transformers import AutoModel, BartTokenizerFast, AutoModelForSeq2SeqLM, BartForConditionalGeneration\n",
        "\n",
        "\n",
        "# Tokenizer and Model\n",
        "tokenizer = BartTokenizerFast.from_pretrained(\"facebook/bart-base\", add_prefix_space=True)\n",
        "model = BartForConditionalGeneration.from_pretrained(\"facebook/bart-base\",from_flax=True, num_labels=num_labels, id2label=id2label, label2id=label2id)\n",
        "device = torch.device(\"cuda\" if torch.cuda.is_available() else \"cpu\")\n",
        "print(device)\n",
        "model.to(device)"
      ],
      "metadata": {
        "id": "4nD_r1yPsapL"
      },
      "execution_count": null,
      "outputs": []
    },
    {
      "cell_type": "code",
      "source": [
        "from transformers import BartTokenizerFast, BartModel, AutoConfig\n",
        "import torch\n",
        "import torch.nn as nn\n",
        "\n",
        "# Load Tokenizer\n",
        "tokenizer = BartTokenizerFast.from_pretrained(\"facebook/bart-base\", add_prefix_space=True)\n",
        "\n",
        "# Define Custom BART Model for Token Classification\n",
        "class BartForTokenClassification(nn.Module):\n",
        "    def __init__(self, model_name, num_labels, dropout_rate=0.3):\n",
        "        super().__init__()\n",
        "        self.config = AutoConfig.from_pretrained(model_name, num_labels=num_labels)\n",
        "        self.bart = BartModel.from_pretrained(model_name, config=self.config)\n",
        "        self.dropout = nn.Dropout(dropout_rate)\n",
        "        self.classifier = nn.Linear(self.config.hidden_size, num_labels)  # Classification layer\n",
        "\n",
        "    def forward(self, input_ids, attention_mask=None, labels=None):\n",
        "        # Forward pass through the BART model\n",
        "        outputs = self.bart(input_ids=input_ids, attention_mask=attention_mask)\n",
        "        sequence_output = outputs.last_hidden_state  # Get token-level hidden states\n",
        "\n",
        "        # Apply dropout and classification\n",
        "        sequence_output = self.dropout(sequence_output)\n",
        "        logits = self.classifier(sequence_output)\n",
        "\n",
        "        # Compute loss if labels are provided\n",
        "        loss = None\n",
        "        if labels is not None:\n",
        "            loss_fn = nn.CrossEntropyLoss()\n",
        "            loss = loss_fn(logits.view(-1, self.config.num_labels), labels.view(-1))\n",
        "\n",
        "        return (loss, logits) if loss is not None else logits\n",
        "\n",
        "\n",
        "# Initialize Model\n",
        "num_labels = len(label2id)\n",
        "model = BartForTokenClassification(\"facebook/bart-base\", num_labels=num_labels, dropout_rate=0.3)\n",
        "\n",
        "# Move model to device\n",
        "device = torch.device(\"cuda\" if torch.cuda.is_available() else \"cpu\")\n",
        "model.to(device)\n"
      ],
      "metadata": {
        "id": "EsjzAxwtZdu5",
        "outputId": "2ce3aabd-3962-4427-f381-a3f14b05b27c",
        "colab": {
          "base_uri": "https://localhost:8080/",
          "height": 986,
          "referenced_widgets": [
            "37f48e99eb84483e8822b6def21025c8",
            "52e684d3810b45669c78f8cbbbeb82b9",
            "604dc32d11354cd1917f4830b9c7ceae",
            "44131582b02d48dd98c95fdb62a7aaad",
            "6c8a571ebec4465ca372d1851f52926d",
            "d512ec49890746709f21cb69fc077932",
            "b1e040adfe7942d48c98af01f01596e3",
            "8830dd4b1685458fb4481c8e12c3b9a1",
            "61c9762d0bd440b7802bee7bc2efa621",
            "84f6dfbcd76843328ac5f22aa5dea880",
            "945a57a997d94493afdba83a117ec08e"
          ]
        }
      },
      "execution_count": 26,
      "outputs": [
        {
          "output_type": "display_data",
          "data": {
            "text/plain": [
              "model.safetensors:   0%|          | 0.00/558M [00:00<?, ?B/s]"
            ],
            "application/vnd.jupyter.widget-view+json": {
              "version_major": 2,
              "version_minor": 0,
              "model_id": "37f48e99eb84483e8822b6def21025c8"
            }
          },
          "metadata": {}
        },
        {
          "output_type": "execute_result",
          "data": {
            "text/plain": [
              "BartForTokenClassification(\n",
              "  (bart): BartModel(\n",
              "    (shared): BartScaledWordEmbedding(50265, 768, padding_idx=1)\n",
              "    (encoder): BartEncoder(\n",
              "      (embed_tokens): BartScaledWordEmbedding(50265, 768, padding_idx=1)\n",
              "      (embed_positions): BartLearnedPositionalEmbedding(1026, 768)\n",
              "      (layers): ModuleList(\n",
              "        (0-5): 6 x BartEncoderLayer(\n",
              "          (self_attn): BartSdpaAttention(\n",
              "            (k_proj): Linear(in_features=768, out_features=768, bias=True)\n",
              "            (v_proj): Linear(in_features=768, out_features=768, bias=True)\n",
              "            (q_proj): Linear(in_features=768, out_features=768, bias=True)\n",
              "            (out_proj): Linear(in_features=768, out_features=768, bias=True)\n",
              "          )\n",
              "          (self_attn_layer_norm): LayerNorm((768,), eps=1e-05, elementwise_affine=True)\n",
              "          (activation_fn): GELUActivation()\n",
              "          (fc1): Linear(in_features=768, out_features=3072, bias=True)\n",
              "          (fc2): Linear(in_features=3072, out_features=768, bias=True)\n",
              "          (final_layer_norm): LayerNorm((768,), eps=1e-05, elementwise_affine=True)\n",
              "        )\n",
              "      )\n",
              "      (layernorm_embedding): LayerNorm((768,), eps=1e-05, elementwise_affine=True)\n",
              "    )\n",
              "    (decoder): BartDecoder(\n",
              "      (embed_tokens): BartScaledWordEmbedding(50265, 768, padding_idx=1)\n",
              "      (embed_positions): BartLearnedPositionalEmbedding(1026, 768)\n",
              "      (layers): ModuleList(\n",
              "        (0-5): 6 x BartDecoderLayer(\n",
              "          (self_attn): BartSdpaAttention(\n",
              "            (k_proj): Linear(in_features=768, out_features=768, bias=True)\n",
              "            (v_proj): Linear(in_features=768, out_features=768, bias=True)\n",
              "            (q_proj): Linear(in_features=768, out_features=768, bias=True)\n",
              "            (out_proj): Linear(in_features=768, out_features=768, bias=True)\n",
              "          )\n",
              "          (activation_fn): GELUActivation()\n",
              "          (self_attn_layer_norm): LayerNorm((768,), eps=1e-05, elementwise_affine=True)\n",
              "          (encoder_attn): BartSdpaAttention(\n",
              "            (k_proj): Linear(in_features=768, out_features=768, bias=True)\n",
              "            (v_proj): Linear(in_features=768, out_features=768, bias=True)\n",
              "            (q_proj): Linear(in_features=768, out_features=768, bias=True)\n",
              "            (out_proj): Linear(in_features=768, out_features=768, bias=True)\n",
              "          )\n",
              "          (encoder_attn_layer_norm): LayerNorm((768,), eps=1e-05, elementwise_affine=True)\n",
              "          (fc1): Linear(in_features=768, out_features=3072, bias=True)\n",
              "          (fc2): Linear(in_features=3072, out_features=768, bias=True)\n",
              "          (final_layer_norm): LayerNorm((768,), eps=1e-05, elementwise_affine=True)\n",
              "        )\n",
              "      )\n",
              "      (layernorm_embedding): LayerNorm((768,), eps=1e-05, elementwise_affine=True)\n",
              "    )\n",
              "  )\n",
              "  (dropout): Dropout(p=0.3, inplace=False)\n",
              "  (classifier): Linear(in_features=768, out_features=12, bias=True)\n",
              ")"
            ]
          },
          "metadata": {},
          "execution_count": 26
        }
      ]
    },
    {
      "cell_type": "code",
      "source": [
        "from transformers import BartModel, AutoConfig\n",
        "import torch.nn as nn\n",
        "\n",
        "class CustomBartForTokenClassification(nn.Module):\n",
        "    def __init__(self, config, dropout_rate=0.3):\n",
        "        super().__init__()\n",
        "        self.bart = BartModel(config)  # Load the base BART model\n",
        "        self.dropout = nn.Dropout(p=dropout_rate)  # Dropout layer\n",
        "        self.classifier = nn.Linear(config.hidden_size, config.num_labels)  # Classification layer\n",
        "\n",
        "    def forward(self, input_ids, attention_mask=None, labels=None):\n",
        "        # Pass inputs through the BART model\n",
        "        outputs = self.bart(\n",
        "            input_ids=input_ids,\n",
        "            attention_mask=attention_mask,\n",
        "        )\n",
        "\n",
        "        # Extract the last hidden state\n",
        "        sequence_output = outputs.last_hidden_state\n",
        "\n",
        "        # Apply dropout and classification layer\n",
        "        sequence_output = self.dropout(sequence_output)\n",
        "        logits = self.classifier(sequence_output)\n",
        "\n",
        "        # Compute loss if labels are provided\n",
        "        loss = None\n",
        "        if labels is not None:\n",
        "            loss_fn = nn.CrossEntropyLoss()\n",
        "            loss = loss_fn(logits.view(-1, self.classifier.out_features), labels.view(-1))\n",
        "            return (loss, logits)\n",
        "\n",
        "        return logits\n"
      ],
      "metadata": {
        "id": "O1XDDKkrs51P"
      },
      "execution_count": 16,
      "outputs": []
    },
    {
      "cell_type": "code",
      "source": [
        "# Define custom compute metrics function\n",
        "def compute_metrics(p):\n",
        "    predictions, labels = p\n",
        "    predictions = np.argmax(predictions, axis=2)\n",
        "\n",
        "    true_labels = [[id2label[label] for label in doc if label != -100] for doc in labels]\n",
        "    true_predictions = [\n",
        "        [id2label[pred] for pred, label in zip(doc, labels[i]) if label != -100]\n",
        "        for i, doc in enumerate(predictions)\n",
        "    ]\n",
        "\n",
        "    true_labels_flat = [item for sublist in true_labels for item in sublist]\n",
        "    true_predictions_flat = [item for sublist in true_predictions for item in sublist]\n",
        "\n",
        "    results = precision_recall_fscore_support(true_labels_flat, true_predictions_flat, average='weighted')\n",
        "    class_report = classification_report(\n",
        "        true_labels_flat, true_predictions_flat, labels=all_labels, zero_division=0\n",
        "    )\n",
        "\n",
        "    print(\"Classification Report:\\n\", class_report)\n",
        "    return {\n",
        "        \"precision\": results[0],\n",
        "        \"recall\": results[1],\n",
        "        \"f1\": results[2],\n",
        "        \"accuracy\": (results[2] * results[1])\n",
        "    }"
      ],
      "metadata": {
        "id": "UHsR1fn4tLCx"
      },
      "execution_count": 22,
      "outputs": []
    },
    {
      "cell_type": "markdown",
      "source": [
        "### Initialize BART and Tokenizer"
      ],
      "metadata": {
        "id": "E7ttpF6vZjpe"
      }
    },
    {
      "cell_type": "code",
      "source": [
        "from transformers import BartTokenizerFast\n",
        "\n",
        "# Load tokenizer\n",
        "model_name = \"facebook/bart-base\"\n",
        "tokenizer = BartTokenizerFast.from_pretrained(model_name, add_prefix_space=True)\n",
        "\n",
        "# Define the number of labels\n",
        "num_labels = 13\n",
        "base_model = BartForConditionalGeneration.from_pretrained(model_name)\n",
        "\n",
        "# Initialize the custom model\n",
        "model = BartForTokenClassificationWithDropout(base_model, num_labels, dropout_rate=0.3)\n",
        "device = torch.device(\"cuda\" if torch.cuda.is_available() else \"cpu\")\n",
        "model.to(device)"
      ],
      "metadata": {
        "id": "RQrdO-zY5rMe",
        "outputId": "148328e6-1f64-4c42-cff0-7518f265e822",
        "colab": {
          "base_uri": "https://localhost:8080/"
        }
      },
      "execution_count": 53,
      "outputs": [
        {
          "output_type": "execute_result",
          "data": {
            "text/plain": [
              "BartForTokenClassificationWithDropout(\n",
              "  (model): BartModel(\n",
              "    (shared): BartScaledWordEmbedding(50265, 768, padding_idx=1)\n",
              "    (encoder): BartEncoder(\n",
              "      (embed_tokens): BartScaledWordEmbedding(50265, 768, padding_idx=1)\n",
              "      (embed_positions): BartLearnedPositionalEmbedding(1026, 768)\n",
              "      (layers): ModuleList(\n",
              "        (0-5): 6 x BartEncoderLayer(\n",
              "          (self_attn): BartSdpaAttention(\n",
              "            (k_proj): Linear(in_features=768, out_features=768, bias=True)\n",
              "            (v_proj): Linear(in_features=768, out_features=768, bias=True)\n",
              "            (q_proj): Linear(in_features=768, out_features=768, bias=True)\n",
              "            (out_proj): Linear(in_features=768, out_features=768, bias=True)\n",
              "          )\n",
              "          (self_attn_layer_norm): LayerNorm((768,), eps=1e-05, elementwise_affine=True)\n",
              "          (activation_fn): GELUActivation()\n",
              "          (fc1): Linear(in_features=768, out_features=3072, bias=True)\n",
              "          (fc2): Linear(in_features=3072, out_features=768, bias=True)\n",
              "          (final_layer_norm): LayerNorm((768,), eps=1e-05, elementwise_affine=True)\n",
              "        )\n",
              "      )\n",
              "      (layernorm_embedding): LayerNorm((768,), eps=1e-05, elementwise_affine=True)\n",
              "    )\n",
              "    (decoder): BartDecoder(\n",
              "      (embed_tokens): BartScaledWordEmbedding(50265, 768, padding_idx=1)\n",
              "      (embed_positions): BartLearnedPositionalEmbedding(1026, 768)\n",
              "      (layers): ModuleList(\n",
              "        (0-5): 6 x BartDecoderLayer(\n",
              "          (self_attn): BartSdpaAttention(\n",
              "            (k_proj): Linear(in_features=768, out_features=768, bias=True)\n",
              "            (v_proj): Linear(in_features=768, out_features=768, bias=True)\n",
              "            (q_proj): Linear(in_features=768, out_features=768, bias=True)\n",
              "            (out_proj): Linear(in_features=768, out_features=768, bias=True)\n",
              "          )\n",
              "          (activation_fn): GELUActivation()\n",
              "          (self_attn_layer_norm): LayerNorm((768,), eps=1e-05, elementwise_affine=True)\n",
              "          (encoder_attn): BartSdpaAttention(\n",
              "            (k_proj): Linear(in_features=768, out_features=768, bias=True)\n",
              "            (v_proj): Linear(in_features=768, out_features=768, bias=True)\n",
              "            (q_proj): Linear(in_features=768, out_features=768, bias=True)\n",
              "            (out_proj): Linear(in_features=768, out_features=768, bias=True)\n",
              "          )\n",
              "          (encoder_attn_layer_norm): LayerNorm((768,), eps=1e-05, elementwise_affine=True)\n",
              "          (fc1): Linear(in_features=768, out_features=3072, bias=True)\n",
              "          (fc2): Linear(in_features=3072, out_features=768, bias=True)\n",
              "          (final_layer_norm): LayerNorm((768,), eps=1e-05, elementwise_affine=True)\n",
              "        )\n",
              "      )\n",
              "      (layernorm_embedding): LayerNorm((768,), eps=1e-05, elementwise_affine=True)\n",
              "    )\n",
              "  )\n",
              "  (dropout): Dropout(p=0.3, inplace=False)\n",
              "  (classifier): Linear(in_features=768, out_features=13, bias=True)\n",
              ")"
            ]
          },
          "metadata": {},
          "execution_count": 53
        }
      ]
    },
    {
      "cell_type": "code",
      "source": [
        "save_directory = \"./bart_ner_model\"\n",
        "model.save_model(save_directory)\n"
      ],
      "metadata": {
        "id": "u1riczER510H",
        "outputId": "62ec66b2-9161-44a9-808a-a75ef520c818",
        "colab": {
          "base_uri": "https://localhost:8080/"
        }
      },
      "execution_count": 54,
      "outputs": [
        {
          "output_type": "stream",
          "name": "stderr",
          "text": [
            "/usr/local/lib/python3.10/dist-packages/transformers/configuration_utils.py:388: UserWarning: Some non-default generation parameters are set in the model config. These should go into either a) `model.generation_config` (as opposed to `model.config`); OR b) a GenerationConfig file (https://huggingface.co/docs/transformers/generation_strategies#save-a-custom-decoding-strategy-with-your-model).This warning will become an exception in the future.\n",
            "Non-default generation parameters: {'early_stopping': True, 'num_beams': 4, 'no_repeat_ngram_size': 3, 'forced_bos_token_id': 0}\n",
            "  warnings.warn(\n"
          ]
        },
        {
          "output_type": "stream",
          "name": "stdout",
          "text": [
            "Model saved to ./bart_ner_model\n"
          ]
        }
      ]
    },
    {
      "cell_type": "code",
      "source": [
        "from transformers import BartTokenizerFast\n",
        "\n",
        "model_name = \"facebook/bart-base\"\n",
        "tokenizer = BartTokenizerFast.from_pretrained(model_name, add_prefix_space=True)\n",
        "\n",
        "# Define the number of labels\n",
        "num_labels = 13  # Adjust based on your dataset\n",
        "base_model = BartForConditionalGeneration.from_pretrained(model_name)\n",
        "model = BartForTokenClassificationWithDropout(base_model, num_labels, dropout_rate=0.3)\n",
        "device = torch.device(\"cuda\" if torch.cuda.is_available() else \"cpu\")\n",
        "model.to(device)\n"
      ],
      "metadata": {
        "id": "-TfJ0yFfy5E9",
        "outputId": "81577e80-7bb7-4ad5-c57e-090f12167f49",
        "colab": {
          "base_uri": "https://localhost:8080/"
        }
      },
      "execution_count": 23,
      "outputs": [
        {
          "output_type": "execute_result",
          "data": {
            "text/plain": [
              "BartForTokenClassificationWithDropout(\n",
              "  (model): BartModel(\n",
              "    (shared): BartScaledWordEmbedding(50265, 768, padding_idx=1)\n",
              "    (encoder): BartEncoder(\n",
              "      (embed_tokens): BartScaledWordEmbedding(50265, 768, padding_idx=1)\n",
              "      (embed_positions): BartLearnedPositionalEmbedding(1026, 768)\n",
              "      (layers): ModuleList(\n",
              "        (0-5): 6 x BartEncoderLayer(\n",
              "          (self_attn): BartSdpaAttention(\n",
              "            (k_proj): Linear(in_features=768, out_features=768, bias=True)\n",
              "            (v_proj): Linear(in_features=768, out_features=768, bias=True)\n",
              "            (q_proj): Linear(in_features=768, out_features=768, bias=True)\n",
              "            (out_proj): Linear(in_features=768, out_features=768, bias=True)\n",
              "          )\n",
              "          (self_attn_layer_norm): LayerNorm((768,), eps=1e-05, elementwise_affine=True)\n",
              "          (activation_fn): GELUActivation()\n",
              "          (fc1): Linear(in_features=768, out_features=3072, bias=True)\n",
              "          (fc2): Linear(in_features=3072, out_features=768, bias=True)\n",
              "          (final_layer_norm): LayerNorm((768,), eps=1e-05, elementwise_affine=True)\n",
              "        )\n",
              "      )\n",
              "      (layernorm_embedding): LayerNorm((768,), eps=1e-05, elementwise_affine=True)\n",
              "    )\n",
              "    (decoder): BartDecoder(\n",
              "      (embed_tokens): BartScaledWordEmbedding(50265, 768, padding_idx=1)\n",
              "      (embed_positions): BartLearnedPositionalEmbedding(1026, 768)\n",
              "      (layers): ModuleList(\n",
              "        (0-5): 6 x BartDecoderLayer(\n",
              "          (self_attn): BartSdpaAttention(\n",
              "            (k_proj): Linear(in_features=768, out_features=768, bias=True)\n",
              "            (v_proj): Linear(in_features=768, out_features=768, bias=True)\n",
              "            (q_proj): Linear(in_features=768, out_features=768, bias=True)\n",
              "            (out_proj): Linear(in_features=768, out_features=768, bias=True)\n",
              "          )\n",
              "          (activation_fn): GELUActivation()\n",
              "          (self_attn_layer_norm): LayerNorm((768,), eps=1e-05, elementwise_affine=True)\n",
              "          (encoder_attn): BartSdpaAttention(\n",
              "            (k_proj): Linear(in_features=768, out_features=768, bias=True)\n",
              "            (v_proj): Linear(in_features=768, out_features=768, bias=True)\n",
              "            (q_proj): Linear(in_features=768, out_features=768, bias=True)\n",
              "            (out_proj): Linear(in_features=768, out_features=768, bias=True)\n",
              "          )\n",
              "          (encoder_attn_layer_norm): LayerNorm((768,), eps=1e-05, elementwise_affine=True)\n",
              "          (fc1): Linear(in_features=768, out_features=3072, bias=True)\n",
              "          (fc2): Linear(in_features=3072, out_features=768, bias=True)\n",
              "          (final_layer_norm): LayerNorm((768,), eps=1e-05, elementwise_affine=True)\n",
              "        )\n",
              "      )\n",
              "      (layernorm_embedding): LayerNorm((768,), eps=1e-05, elementwise_affine=True)\n",
              "    )\n",
              "  )\n",
              "  (dropout): Dropout(p=0.3, inplace=False)\n",
              "  (classifier): Linear(in_features=768, out_features=13, bias=True)\n",
              ")"
            ]
          },
          "metadata": {},
          "execution_count": 23
        }
      ]
    },
    {
      "cell_type": "code",
      "source": [
        "from transformers import AutoConfig, AutoTokenizer\n",
        "\n",
        "# Load tokenizer\n",
        "tokenizer = AutoTokenizer.from_pretrained(\"facebook/bart-base\")\n",
        "\n",
        "# Define the label mappings\n",
        "num_labels = len(label2id)\n",
        "id2label = {v: k for k, v in label2id.items()}\n",
        "\n",
        "# Load configuration\n",
        "config = AutoConfig.from_pretrained(\n",
        "    \"facebook/bart-base\",\n",
        "    num_labels=num_labels,\n",
        "    id2label=id2label,\n",
        "    label2id=label2id\n",
        ")\n",
        "\n",
        "# Initialize the custom BART model with dropout\n",
        "model = CustomBartForTokenClassification(config, dropout_rate=0.3)\n",
        "model.to(device)  # Move to GPU/CPU\n"
      ],
      "metadata": {
        "id": "GYENl46iZkkd",
        "outputId": "a9cd940e-b28c-4f77-93e6-ce0a0b9ad550",
        "colab": {
          "base_uri": "https://localhost:8080/"
        }
      },
      "execution_count": 28,
      "outputs": [
        {
          "output_type": "execute_result",
          "data": {
            "text/plain": [
              "CustomBartForTokenClassification(\n",
              "  (bart): BartModel(\n",
              "    (shared): BartScaledWordEmbedding(50265, 768, padding_idx=1)\n",
              "    (encoder): BartEncoder(\n",
              "      (embed_tokens): BartScaledWordEmbedding(50265, 768, padding_idx=1)\n",
              "      (embed_positions): BartLearnedPositionalEmbedding(1026, 768)\n",
              "      (layers): ModuleList(\n",
              "        (0-5): 6 x BartEncoderLayer(\n",
              "          (self_attn): BartSdpaAttention(\n",
              "            (k_proj): Linear(in_features=768, out_features=768, bias=True)\n",
              "            (v_proj): Linear(in_features=768, out_features=768, bias=True)\n",
              "            (q_proj): Linear(in_features=768, out_features=768, bias=True)\n",
              "            (out_proj): Linear(in_features=768, out_features=768, bias=True)\n",
              "          )\n",
              "          (self_attn_layer_norm): LayerNorm((768,), eps=1e-05, elementwise_affine=True)\n",
              "          (activation_fn): GELUActivation()\n",
              "          (fc1): Linear(in_features=768, out_features=3072, bias=True)\n",
              "          (fc2): Linear(in_features=3072, out_features=768, bias=True)\n",
              "          (final_layer_norm): LayerNorm((768,), eps=1e-05, elementwise_affine=True)\n",
              "        )\n",
              "      )\n",
              "      (layernorm_embedding): LayerNorm((768,), eps=1e-05, elementwise_affine=True)\n",
              "    )\n",
              "    (decoder): BartDecoder(\n",
              "      (embed_tokens): BartScaledWordEmbedding(50265, 768, padding_idx=1)\n",
              "      (embed_positions): BartLearnedPositionalEmbedding(1026, 768)\n",
              "      (layers): ModuleList(\n",
              "        (0-5): 6 x BartDecoderLayer(\n",
              "          (self_attn): BartSdpaAttention(\n",
              "            (k_proj): Linear(in_features=768, out_features=768, bias=True)\n",
              "            (v_proj): Linear(in_features=768, out_features=768, bias=True)\n",
              "            (q_proj): Linear(in_features=768, out_features=768, bias=True)\n",
              "            (out_proj): Linear(in_features=768, out_features=768, bias=True)\n",
              "          )\n",
              "          (activation_fn): GELUActivation()\n",
              "          (self_attn_layer_norm): LayerNorm((768,), eps=1e-05, elementwise_affine=True)\n",
              "          (encoder_attn): BartSdpaAttention(\n",
              "            (k_proj): Linear(in_features=768, out_features=768, bias=True)\n",
              "            (v_proj): Linear(in_features=768, out_features=768, bias=True)\n",
              "            (q_proj): Linear(in_features=768, out_features=768, bias=True)\n",
              "            (out_proj): Linear(in_features=768, out_features=768, bias=True)\n",
              "          )\n",
              "          (encoder_attn_layer_norm): LayerNorm((768,), eps=1e-05, elementwise_affine=True)\n",
              "          (fc1): Linear(in_features=768, out_features=3072, bias=True)\n",
              "          (fc2): Linear(in_features=3072, out_features=768, bias=True)\n",
              "          (final_layer_norm): LayerNorm((768,), eps=1e-05, elementwise_affine=True)\n",
              "        )\n",
              "      )\n",
              "      (layernorm_embedding): LayerNorm((768,), eps=1e-05, elementwise_affine=True)\n",
              "    )\n",
              "  )\n",
              "  (dropout): Dropout(p=0.3, inplace=False)\n",
              "  (classifier): Linear(in_features=768, out_features=12, bias=True)\n",
              ")"
            ]
          },
          "metadata": {},
          "execution_count": 28
        }
      ]
    },
    {
      "cell_type": "markdown",
      "source": [
        "### Define Metrics"
      ],
      "metadata": {
        "id": "_H8Sgo2dzEQC"
      }
    },
    {
      "cell_type": "code",
      "source": [
        "\n",
        "from sklearn.metrics import accuracy_score, precision_recall_fscore_support, classification_report\n",
        "\n",
        "def compute_metrics(p):\n",
        "    predictions, labels = p\n",
        "    predictions = predictions.argmax(axis=2)\n",
        "\n",
        "    # Flatten predictions and labels to calculate metrics\n",
        "    true_labels = [\n",
        "        [id2label[label] for label in doc if label != -100] for doc in labels\n",
        "    ]\n",
        "    true_predictions = [\n",
        "        [id2label[pred] for pred, label in zip(doc, labels[i]) if label != -100]\n",
        "        for i, doc in enumerate(predictions)\n",
        "    ]\n",
        "\n",
        "    true_labels_flat = [item for sublist in true_labels for item in sublist]\n",
        "    true_predictions_flat = [item for sublist in true_predictions for item in sublist]\n",
        "\n",
        "    # Calculate metrics\n",
        "    precision, recall, f1, _ = precision_recall_fscore_support(\n",
        "        true_labels_flat, true_predictions_flat, average=\"weighted\"\n",
        "    )\n",
        "    accuracy = accuracy_score(true_labels_flat, true_predictions_flat)  # Calculate accuracy\n",
        "\n",
        "    # Print classification report for debugging purposes\n",
        "    report = classification_report(\n",
        "        true_labels_flat, true_predictions_flat, zero_division=0\n",
        "    )\n",
        "    print(\"Classification Report:\\n\", report)\n",
        "\n",
        "    return {\n",
        "        \"precision\": precision,\n",
        "        \"recall\": recall,\n",
        "        \"f1\": f1,\n",
        "        \"accuracy\": accuracy,  # Explicitly include accuracy\n",
        "    }\n"
      ],
      "metadata": {
        "id": "krLD8HVbzGyJ"
      },
      "execution_count": 55,
      "outputs": []
    },
    {
      "cell_type": "markdown",
      "source": [
        "### Data Collator"
      ],
      "metadata": {
        "id": "9t0-WRp8ZrEf"
      }
    },
    {
      "cell_type": "code",
      "source": [
        "from transformers import DataCollatorForTokenClassification\n",
        "\n",
        "# Define data collator\n",
        "data_collator = DataCollatorForTokenClassification(tokenizer)\n"
      ],
      "metadata": {
        "id": "qsroLhjpZsnS"
      },
      "execution_count": 56,
      "outputs": []
    },
    {
      "cell_type": "markdown",
      "source": [
        "### Define Training Arguments and Trainer"
      ],
      "metadata": {
        "id": "PMUtyDZUZxTh"
      }
    },
    {
      "cell_type": "code",
      "source": [
        "from transformers import TrainingArguments, Trainer\n",
        "\n",
        "training_args = TrainingArguments(\n",
        "    output_dir=\"./results_bart\",\n",
        "    evaluation_strategy=\"epoch\",\n",
        "    save_strategy=\"no\",\n",
        "    learning_rate=5e-5,\n",
        "    per_device_train_batch_size=4,\n",
        "    per_device_eval_batch_size=4,\n",
        "    num_train_epochs=5,\n",
        "    weight_decay=0.01,\n",
        "    logging_steps=10,\n",
        "    report_to=\"none\",\n",
        "    load_best_model_at_end=False,\n",
        "    metric_for_best_model=\"f1\",\n",
        "    greater_is_better=True,\n",
        "    save_total_limit=1,\n",
        ")\n",
        "\n",
        "\n",
        "trainer = Trainer(\n",
        "    model=model,\n",
        "    args=training_args,\n",
        "    train_dataset=tokenized_datasets[\"train\"],\n",
        "    eval_dataset=tokenized_datasets[\"test\"],\n",
        "    tokenizer=tokenizer,\n",
        "    compute_metrics=compute_metrics,\n",
        ")\n",
        "\n"
      ],
      "metadata": {
        "id": "4FCrKsNZzMO0",
        "outputId": "466fb2ca-f1ad-4db6-9333-0821850499c9",
        "colab": {
          "base_uri": "https://localhost:8080/"
        }
      },
      "execution_count": 57,
      "outputs": [
        {
          "output_type": "stream",
          "name": "stderr",
          "text": [
            "/usr/local/lib/python3.10/dist-packages/transformers/training_args.py:1568: FutureWarning: `evaluation_strategy` is deprecated and will be removed in version 4.46 of 🤗 Transformers. Use `eval_strategy` instead\n",
            "  warnings.warn(\n",
            "<ipython-input-57-ac035978d6b6>:21: FutureWarning: `tokenizer` is deprecated and will be removed in version 5.0.0 for `Trainer.__init__`. Use `processing_class` instead.\n",
            "  trainer = Trainer(\n"
          ]
        }
      ]
    },
    {
      "cell_type": "code",
      "source": [
        "from transformers import TrainingArguments, Trainer, EarlyStoppingCallback\n",
        "\n",
        "# Define training arguments\n",
        "training_args = TrainingArguments(\n",
        "    output_dir='./results_bart',\n",
        "    evaluation_strategy=\"epoch\",\n",
        "    save_strategy=\"no\",\n",
        "    load_best_model_at_end=True,\n",
        "    metric_for_best_model=\"loss\",\n",
        "    greater_is_better=False,\n",
        "    learning_rate=1e-5,\n",
        "    per_device_train_batch_size=2,\n",
        "    per_device_eval_batch_size=2,\n",
        "    gradient_accumulation_steps=4,\n",
        "    num_train_epochs=5,\n",
        "    weight_decay=0.01,\n",
        "    fp16=True,\n",
        "    max_grad_norm=1.0,\n",
        "    logging_dir='./logs_bart',\n",
        "    logging_steps=10,\n",
        "    report_to='none'\n",
        ")\n",
        "\n",
        "# Early stopping callback\n",
        "early_stopping_callback = EarlyStoppingCallback(early_stopping_patience=2)\n",
        "\n",
        "# Initialize the trainer\n",
        "trainer = Trainer(\n",
        "    model=model,\n",
        "    args=training_args,\n",
        "    train_dataset=tokenized_datasets['train'],\n",
        "    eval_dataset=tokenized_datasets['test'],\n",
        "    tokenizer=tokenizer,\n",
        "    data_collator=data_collator,\n",
        "    compute_metrics=compute_metrics,\n",
        "    callbacks=[early_stopping_callback]\n",
        ")\n"
      ],
      "metadata": {
        "id": "ONxCkIVZZzBO",
        "outputId": "0461d9dc-f759-47da-f312-504ca012f0e3",
        "colab": {
          "base_uri": "https://localhost:8080/"
        }
      },
      "execution_count": 30,
      "outputs": [
        {
          "output_type": "stream",
          "name": "stderr",
          "text": [
            "/usr/local/lib/python3.10/dist-packages/transformers/training_args.py:1568: FutureWarning: `evaluation_strategy` is deprecated and will be removed in version 4.46 of 🤗 Transformers. Use `eval_strategy` instead\n",
            "  warnings.warn(\n",
            "<ipython-input-30-e9a461be702a>:28: FutureWarning: `tokenizer` is deprecated and will be removed in version 5.0.0 for `Trainer.__init__`. Use `processing_class` instead.\n",
            "  trainer = Trainer(\n"
          ]
        }
      ]
    },
    {
      "cell_type": "markdown",
      "source": [
        "### Train the Model"
      ],
      "metadata": {
        "id": "ZuwBYrZRZ7BT"
      }
    },
    {
      "cell_type": "code",
      "source": [
        "trainer.train()\n",
        "save_directory = \"./bart_ner_model\"\n",
        "model.save_pretrained(save_directory)\n",
        "tokenizer.save_pretrained(save_directory)"
      ],
      "metadata": {
        "id": "c3KW48fizX_L",
        "outputId": "a1f0b73a-f62b-4ba9-b5fd-ba6952036eff",
        "colab": {
          "base_uri": "https://localhost:8080/",
          "height": 1000
        }
      },
      "execution_count": 58,
      "outputs": [
        {
          "output_type": "display_data",
          "data": {
            "text/plain": [
              "<IPython.core.display.HTML object>"
            ],
            "text/html": [
              "\n",
              "    <div>\n",
              "      \n",
              "      <progress value='1500' max='1500' style='width:300px; height:20px; vertical-align: middle;'></progress>\n",
              "      [1500/1500 13:58, Epoch 5/5]\n",
              "    </div>\n",
              "    <table border=\"1\" class=\"dataframe\">\n",
              "  <thead>\n",
              " <tr style=\"text-align: left;\">\n",
              "      <th>Epoch</th>\n",
              "      <th>Training Loss</th>\n",
              "      <th>Validation Loss</th>\n",
              "      <th>Precision</th>\n",
              "      <th>Recall</th>\n",
              "      <th>F1</th>\n",
              "      <th>Accuracy</th>\n",
              "    </tr>\n",
              "  </thead>\n",
              "  <tbody>\n",
              "    <tr>\n",
              "      <td>1</td>\n",
              "      <td>0.001700</td>\n",
              "      <td>0.002663</td>\n",
              "      <td>0.999101</td>\n",
              "      <td>0.999265</td>\n",
              "      <td>0.999130</td>\n",
              "      <td>0.999265</td>\n",
              "    </tr>\n",
              "    <tr>\n",
              "      <td>2</td>\n",
              "      <td>0.000800</td>\n",
              "      <td>0.001675</td>\n",
              "      <td>0.999274</td>\n",
              "      <td>0.999339</td>\n",
              "      <td>0.999294</td>\n",
              "      <td>0.999339</td>\n",
              "    </tr>\n",
              "    <tr>\n",
              "      <td>3</td>\n",
              "      <td>0.000600</td>\n",
              "      <td>0.001383</td>\n",
              "      <td>0.999557</td>\n",
              "      <td>0.999577</td>\n",
              "      <td>0.999562</td>\n",
              "      <td>0.999577</td>\n",
              "    </tr>\n",
              "    <tr>\n",
              "      <td>4</td>\n",
              "      <td>0.000100</td>\n",
              "      <td>0.001424</td>\n",
              "      <td>0.999607</td>\n",
              "      <td>0.999577</td>\n",
              "      <td>0.999582</td>\n",
              "      <td>0.999577</td>\n",
              "    </tr>\n",
              "    <tr>\n",
              "      <td>5</td>\n",
              "      <td>0.000800</td>\n",
              "      <td>0.001346</td>\n",
              "      <td>0.999599</td>\n",
              "      <td>0.999562</td>\n",
              "      <td>0.999570</td>\n",
              "      <td>0.999562</td>\n",
              "    </tr>\n",
              "  </tbody>\n",
              "</table><p>"
            ]
          },
          "metadata": {}
        },
        {
          "output_type": "stream",
          "name": "stderr",
          "text": [
            "/usr/local/lib/python3.10/dist-packages/sklearn/metrics/_classification.py:1531: UndefinedMetricWarning: Precision is ill-defined and being set to 0.0 in labels with no predicted samples. Use `zero_division` parameter to control this behavior.\n",
            "  _warn_prf(average, modifier, f\"{metric.capitalize()} is\", len(result))\n"
          ]
        },
        {
          "output_type": "stream",
          "name": "stdout",
          "text": [
            "Classification Report:\n",
            "                 precision    recall  f1-score   support\n",
            "\n",
            "       B-EMAIL       0.00      0.00      0.00         5\n",
            "      B-ID_NUM       1.00      0.22      0.36        23\n",
            "B-NAME_STUDENT       0.91      0.76      0.83       153\n",
            "   B-PHONE_NUM       0.00      0.00      0.00         2\n",
            "B-URL_PERSONAL       0.00      0.00      0.00        10\n",
            "I-NAME_STUDENT       0.90      0.99      0.94       119\n",
            "   I-PHONE_NUM       0.00      0.00      0.00         4\n",
            "             O       1.00      1.00      1.00    134379\n",
            "\n",
            "      accuracy                           1.00    134695\n",
            "     macro avg       0.48      0.37      0.39    134695\n",
            "  weighted avg       1.00      1.00      1.00    134695\n",
            "\n"
          ]
        },
        {
          "output_type": "stream",
          "name": "stderr",
          "text": [
            "/usr/local/lib/python3.10/dist-packages/sklearn/metrics/_classification.py:1531: UndefinedMetricWarning: Precision is ill-defined and being set to 0.0 in labels with no predicted samples. Use `zero_division` parameter to control this behavior.\n",
            "  _warn_prf(average, modifier, f\"{metric.capitalize()} is\", len(result))\n"
          ]
        },
        {
          "output_type": "stream",
          "name": "stdout",
          "text": [
            "Classification Report:\n",
            "                 precision    recall  f1-score   support\n",
            "\n",
            "       B-EMAIL       1.00      1.00      1.00         5\n",
            "      B-ID_NUM       0.75      0.65      0.70        23\n",
            "B-NAME_STUDENT       0.88      0.83      0.85       153\n",
            "   B-PHONE_NUM       0.00      0.00      0.00         2\n",
            "B-URL_PERSONAL       0.67      0.20      0.31        10\n",
            "I-NAME_STUDENT       0.88      0.97      0.92       119\n",
            "   I-PHONE_NUM       0.00      0.00      0.00         4\n",
            "             O       1.00      1.00      1.00    134379\n",
            "\n",
            "      accuracy                           1.00    134695\n",
            "     macro avg       0.65      0.58      0.60    134695\n",
            "  weighted avg       1.00      1.00      1.00    134695\n",
            "\n"
          ]
        },
        {
          "output_type": "stream",
          "name": "stderr",
          "text": [
            "/usr/local/lib/python3.10/dist-packages/sklearn/metrics/_classification.py:1531: UndefinedMetricWarning: Precision is ill-defined and being set to 0.0 in labels with no predicted samples. Use `zero_division` parameter to control this behavior.\n",
            "  _warn_prf(average, modifier, f\"{metric.capitalize()} is\", len(result))\n",
            "/usr/local/lib/python3.10/dist-packages/sklearn/metrics/_classification.py:1531: UndefinedMetricWarning: Recall is ill-defined and being set to 0.0 in labels with no true samples. Use `zero_division` parameter to control this behavior.\n",
            "  _warn_prf(average, modifier, f\"{metric.capitalize()} is\", len(result))\n"
          ]
        },
        {
          "output_type": "stream",
          "name": "stdout",
          "text": [
            "Classification Report:\n",
            "                   precision    recall  f1-score   support\n",
            "\n",
            "         B-EMAIL       1.00      1.00      1.00         5\n",
            "        B-ID_NUM       0.89      0.70      0.78        23\n",
            "  B-NAME_STUDENT       0.89      0.93      0.91       153\n",
            "     B-PHONE_NUM       0.00      0.00      0.00         2\n",
            "  B-URL_PERSONAL       0.60      0.90      0.72        10\n",
            "  I-NAME_STUDENT       0.96      0.97      0.97       119\n",
            "     I-PHONE_NUM       0.00      0.00      0.00         4\n",
            "I-STREET_ADDRESS       0.00      0.00      0.00         0\n",
            "               O       1.00      1.00      1.00    134379\n",
            "\n",
            "        accuracy                           1.00    134695\n",
            "       macro avg       0.59      0.61      0.60    134695\n",
            "    weighted avg       1.00      1.00      1.00    134695\n",
            "\n"
          ]
        },
        {
          "output_type": "stream",
          "name": "stderr",
          "text": [
            "/usr/local/lib/python3.10/dist-packages/sklearn/metrics/_classification.py:1531: UndefinedMetricWarning: Precision is ill-defined and being set to 0.0 in labels with no predicted samples. Use `zero_division` parameter to control this behavior.\n",
            "  _warn_prf(average, modifier, f\"{metric.capitalize()} is\", len(result))\n"
          ]
        },
        {
          "output_type": "stream",
          "name": "stdout",
          "text": [
            "Classification Report:\n",
            "                 precision    recall  f1-score   support\n",
            "\n",
            "       B-EMAIL       1.00      1.00      1.00         5\n",
            "      B-ID_NUM       0.88      0.91      0.89        23\n",
            "B-NAME_STUDENT       0.83      0.97      0.89       153\n",
            "   B-PHONE_NUM       0.00      0.00      0.00         2\n",
            "B-URL_PERSONAL       0.75      0.90      0.82        10\n",
            "I-NAME_STUDENT       0.91      1.00      0.95       119\n",
            "   I-PHONE_NUM       0.67      0.50      0.57         4\n",
            "             O       1.00      1.00      1.00    134379\n",
            "\n",
            "      accuracy                           1.00    134695\n",
            "     macro avg       0.75      0.79      0.77    134695\n",
            "  weighted avg       1.00      1.00      1.00    134695\n",
            "\n"
          ]
        },
        {
          "output_type": "stream",
          "name": "stderr",
          "text": [
            "/usr/local/lib/python3.10/dist-packages/sklearn/metrics/_classification.py:1531: UndefinedMetricWarning: Precision is ill-defined and being set to 0.0 in labels with no predicted samples. Use `zero_division` parameter to control this behavior.\n",
            "  _warn_prf(average, modifier, f\"{metric.capitalize()} is\", len(result))\n"
          ]
        },
        {
          "output_type": "stream",
          "name": "stdout",
          "text": [
            "Classification Report:\n",
            "                 precision    recall  f1-score   support\n",
            "\n",
            "       B-EMAIL       0.83      1.00      0.91         5\n",
            "      B-ID_NUM       0.95      0.87      0.91        23\n",
            "B-NAME_STUDENT       0.83      0.97      0.89       153\n",
            "   B-PHONE_NUM       0.00      0.00      0.00         2\n",
            "B-URL_PERSONAL       0.64      0.90      0.75        10\n",
            "I-NAME_STUDENT       0.92      1.00      0.96       119\n",
            "   I-PHONE_NUM       0.75      0.75      0.75         4\n",
            "             O       1.00      1.00      1.00    134379\n",
            "\n",
            "      accuracy                           1.00    134695\n",
            "     macro avg       0.74      0.81      0.77    134695\n",
            "  weighted avg       1.00      1.00      1.00    134695\n",
            "\n"
          ]
        },
        {
          "output_type": "error",
          "ename": "AttributeError",
          "evalue": "'BartForTokenClassificationWithDropout' object has no attribute 'save_pretrained'",
          "traceback": [
            "\u001b[0;31m---------------------------------------------------------------------------\u001b[0m",
            "\u001b[0;31mAttributeError\u001b[0m                            Traceback (most recent call last)",
            "\u001b[0;32m<ipython-input-58-3838ee8be811>\u001b[0m in \u001b[0;36m<cell line: 3>\u001b[0;34m()\u001b[0m\n\u001b[1;32m      1\u001b[0m \u001b[0mtrainer\u001b[0m\u001b[0;34m.\u001b[0m\u001b[0mtrain\u001b[0m\u001b[0;34m(\u001b[0m\u001b[0;34m)\u001b[0m\u001b[0;34m\u001b[0m\u001b[0;34m\u001b[0m\u001b[0m\n\u001b[1;32m      2\u001b[0m \u001b[0msave_directory\u001b[0m \u001b[0;34m=\u001b[0m \u001b[0;34m\"./bart_ner_model\"\u001b[0m\u001b[0;34m\u001b[0m\u001b[0;34m\u001b[0m\u001b[0m\n\u001b[0;32m----> 3\u001b[0;31m \u001b[0mmodel\u001b[0m\u001b[0;34m.\u001b[0m\u001b[0msave_pretrained\u001b[0m\u001b[0;34m(\u001b[0m\u001b[0msave_directory\u001b[0m\u001b[0;34m)\u001b[0m\u001b[0;34m\u001b[0m\u001b[0;34m\u001b[0m\u001b[0m\n\u001b[0m\u001b[1;32m      4\u001b[0m \u001b[0mtokenizer\u001b[0m\u001b[0;34m.\u001b[0m\u001b[0msave_pretrained\u001b[0m\u001b[0;34m(\u001b[0m\u001b[0msave_directory\u001b[0m\u001b[0;34m)\u001b[0m\u001b[0;34m\u001b[0m\u001b[0;34m\u001b[0m\u001b[0m\n",
            "\u001b[0;32m/usr/local/lib/python3.10/dist-packages/torch/nn/modules/module.py\u001b[0m in \u001b[0;36m__getattr__\u001b[0;34m(self, name)\u001b[0m\n\u001b[1;32m   1929\u001b[0m             \u001b[0;32mif\u001b[0m \u001b[0mname\u001b[0m \u001b[0;32min\u001b[0m \u001b[0mmodules\u001b[0m\u001b[0;34m:\u001b[0m\u001b[0;34m\u001b[0m\u001b[0;34m\u001b[0m\u001b[0m\n\u001b[1;32m   1930\u001b[0m                 \u001b[0;32mreturn\u001b[0m \u001b[0mmodules\u001b[0m\u001b[0;34m[\u001b[0m\u001b[0mname\u001b[0m\u001b[0;34m]\u001b[0m\u001b[0;34m\u001b[0m\u001b[0;34m\u001b[0m\u001b[0m\n\u001b[0;32m-> 1931\u001b[0;31m         raise AttributeError(\n\u001b[0m\u001b[1;32m   1932\u001b[0m             \u001b[0;34mf\"'{type(self).__name__}' object has no attribute '{name}'\"\u001b[0m\u001b[0;34m\u001b[0m\u001b[0;34m\u001b[0m\u001b[0m\n\u001b[1;32m   1933\u001b[0m         )\n",
            "\u001b[0;31mAttributeError\u001b[0m: 'BartForTokenClassificationWithDropout' object has no attribute 'save_pretrained'"
          ]
        }
      ]
    },
    {
      "cell_type": "markdown",
      "source": [
        "### Plot Training and Validation Loss"
      ],
      "metadata": {
        "id": "Y_TOIHEVaNoU"
      }
    },
    {
      "cell_type": "code",
      "source": [
        "# Extract training and validation loss\n",
        "training_losses = [log['loss'] for log in trainer.state.log_history if 'loss' in log]\n",
        "validation_losses = [log['eval_loss'] for log in trainer.state.log_history if 'eval_loss' in log]\n",
        "\n",
        "# Ensure both lists have the same length\n",
        "if len(validation_losses) < len(training_losses):\n",
        "    training_losses = training_losses[:len(validation_losses)]\n",
        "elif len(validation_losses) > len(training_losses):\n",
        "    validation_losses = validation_losses[:len(training_losses)]\n",
        "\n",
        "# Plot training and validation losses\n",
        "plt.figure(figsize=(10, 6))\n",
        "plt.plot(range(1, len(training_losses) + 1), training_losses, label='Training Loss', marker='o')\n",
        "plt.plot(range(1, len(validation_losses) + 1), validation_losses, label='Validation Loss', marker='x')\n",
        "plt.xlabel('Epoch')\n",
        "plt.ylabel('Loss')\n",
        "plt.title('Training and Validation Loss (BART)')\n",
        "plt.legend()\n",
        "plt.grid()\n",
        "plt.show()\n"
      ],
      "metadata": {
        "id": "VTeH4S1CaY09",
        "outputId": "2da545f6-8201-4849-a5a6-293940e344be",
        "colab": {
          "base_uri": "https://localhost:8080/",
          "height": 564
        }
      },
      "execution_count": 59,
      "outputs": [
        {
          "output_type": "display_data",
          "data": {
            "text/plain": [
              "<Figure size 1000x600 with 1 Axes>"
            ],
            "image/png": "[encoded data removed]"
          },
          "metadata": {}
        }
      ]
    },
    {
      "cell_type": "markdown",
      "source": [
        "### Confusion Matrix for NER"
      ],
      "metadata": {
        "id": "ZHQDLnLNad4r"
      }
    },
    {
      "cell_type": "code",
      "source": [
        "from sklearn.metrics import confusion_matrix, ConfusionMatrixDisplay\n",
        "import numpy as np\n",
        "\n",
        "# Step 1: Get predictions from the trainer\n",
        "predictions, labels, _ = trainer.predict(tokenized_datasets['test'])\n",
        "\n",
        "# Step 2: Convert predictions to label IDs\n",
        "predicted_label_ids = np.argmax(predictions, axis=2)\n",
        "\n",
        "# Step 3: Map IDs to actual label names\n",
        "true_labels = [\n",
        "    [id2label[label] for label in doc if label != -100]  # Ignore padding tokens\n",
        "    for doc in labels\n",
        "]\n",
        "pred_labels = [\n",
        "    [id2label[pred] for pred, label in zip(doc, labels[i]) if label != -100]\n",
        "    for i, doc in enumerate(predicted_label_ids)\n",
        "]\n",
        "\n",
        "# Step 4: Flatten the lists for confusion matrix\n",
        "true_labels_flat = [label for sublist in true_labels for label in sublist]\n",
        "pred_labels_flat = [label for sublist in pred_labels for label in sublist]\n",
        "\n",
        "# Step 5: Generate confusion matrix\n",
        "unique_labels = list(set(true_labels_flat + pred_labels_flat))\n",
        "cm = confusion_matrix(true_labels_flat, pred_labels_flat, labels=unique_labels)\n",
        "\n",
        "# Step 6: Plot the confusion matrix\n",
        "plt.figure(figsize=(12, 10))\n",
        "disp = ConfusionMatrixDisplay(confusion_matrix=cm, display_labels=unique_labels)\n",
        "disp.plot(cmap=\"viridis\", xticks_rotation=45)\n",
        "plt.title(\"Confusion Matrix for Sensitive Data Detection (BART)\")\n",
        "plt.show()\n"
      ],
      "metadata": {
        "id": "AsComf3qafoP",
        "outputId": "712639bd-393f-49db-9bd6-81778603f42c",
        "colab": {
          "base_uri": "https://localhost:8080/",
          "height": 908
        }
      },
      "execution_count": 60,
      "outputs": [
        {
          "output_type": "display_data",
          "data": {
            "text/plain": [
              "<IPython.core.display.HTML object>"
            ],
            "text/html": []
          },
          "metadata": {}
        },
        {
          "output_type": "stream",
          "name": "stderr",
          "text": [
            "/usr/local/lib/python3.10/dist-packages/sklearn/metrics/_classification.py:1531: UndefinedMetricWarning: Precision is ill-defined and being set to 0.0 in labels with no predicted samples. Use `zero_division` parameter to control this behavior.\n",
            "  _warn_prf(average, modifier, f\"{metric.capitalize()} is\", len(result))\n"
          ]
        },
        {
          "output_type": "stream",
          "name": "stdout",
          "text": [
            "Classification Report:\n",
            "                 precision    recall  f1-score   support\n",
            "\n",
            "       B-EMAIL       0.83      1.00      0.91         5\n",
            "      B-ID_NUM       0.95      0.87      0.91        23\n",
            "B-NAME_STUDENT       0.83      0.97      0.89       153\n",
            "   B-PHONE_NUM       0.00      0.00      0.00         2\n",
            "B-URL_PERSONAL       0.64      0.90      0.75        10\n",
            "I-NAME_STUDENT       0.92      1.00      0.96       119\n",
            "   I-PHONE_NUM       0.75      0.75      0.75         4\n",
            "             O       1.00      1.00      1.00    134379\n",
            "\n",
            "      accuracy                           1.00    134695\n",
            "     macro avg       0.74      0.81      0.77    134695\n",
            "  weighted avg       1.00      1.00      1.00    134695\n",
            "\n"
          ]
        },
        {
          "output_type": "display_data",
          "data": {
            "text/plain": [
              "<Figure size 1200x1000 with 0 Axes>"
            ]
          },
          "metadata": {}
        },
        {
          "output_type": "display_data",
          "data": {
            "text/plain": [
              "<Figure size 640x480 with 2 Axes>"
            ],
            "image/png": "[encoded data removed]"
          },
          "metadata": {}
        }
      ]
    },
    {
      "cell_type": "markdown",
      "source": [
        "### Save the Model"
      ],
      "metadata": {
        "id": "L75SepDJbFM7"
      }
    },
    {
      "cell_type": "code",
      "source": [
        "# Save the model and tokenizer\n",
        "save_directory = \"./bart_ner_model\"\n",
        "model.save_pretrained(save_directory)\n",
        "tokenizer.save_pretrained(save_directory)\n",
        "\n",
        "print(f\"Model and tokenizer saved to {save_directory}\")\n"
      ],
      "metadata": {
        "id": "O2d6W35zbINR",
        "outputId": "c4b8ed22-7c0f-4e89-a8e2-23d8b461f6b1",
        "colab": {
          "base_uri": "https://localhost:8080/",
          "height": 332
        }
      },
      "execution_count": 61,
      "outputs": [
        {
          "output_type": "error",
          "ename": "AttributeError",
          "evalue": "'BartForTokenClassificationWithDropout' object has no attribute 'save_pretrained'",
          "traceback": [
            "\u001b[0;31m---------------------------------------------------------------------------\u001b[0m",
            "\u001b[0;31mAttributeError\u001b[0m                            Traceback (most recent call last)",
            "\u001b[0;32m<ipython-input-61-80f9da7cd6a5>\u001b[0m in \u001b[0;36m<cell line: 3>\u001b[0;34m()\u001b[0m\n\u001b[1;32m      1\u001b[0m \u001b[0;31m# Save the model and tokenizer\u001b[0m\u001b[0;34m\u001b[0m\u001b[0;34m\u001b[0m\u001b[0m\n\u001b[1;32m      2\u001b[0m \u001b[0msave_directory\u001b[0m \u001b[0;34m=\u001b[0m \u001b[0;34m\"./bart_ner_model\"\u001b[0m\u001b[0;34m\u001b[0m\u001b[0;34m\u001b[0m\u001b[0m\n\u001b[0;32m----> 3\u001b[0;31m \u001b[0mmodel\u001b[0m\u001b[0;34m.\u001b[0m\u001b[0msave_pretrained\u001b[0m\u001b[0;34m(\u001b[0m\u001b[0msave_directory\u001b[0m\u001b[0;34m)\u001b[0m\u001b[0;34m\u001b[0m\u001b[0;34m\u001b[0m\u001b[0m\n\u001b[0m\u001b[1;32m      4\u001b[0m \u001b[0mtokenizer\u001b[0m\u001b[0;34m.\u001b[0m\u001b[0msave_pretrained\u001b[0m\u001b[0;34m(\u001b[0m\u001b[0msave_directory\u001b[0m\u001b[0;34m)\u001b[0m\u001b[0;34m\u001b[0m\u001b[0;34m\u001b[0m\u001b[0m\n\u001b[1;32m      5\u001b[0m \u001b[0;34m\u001b[0m\u001b[0m\n",
            "\u001b[0;32m/usr/local/lib/python3.10/dist-packages/torch/nn/modules/module.py\u001b[0m in \u001b[0;36m__getattr__\u001b[0;34m(self, name)\u001b[0m\n\u001b[1;32m   1929\u001b[0m             \u001b[0;32mif\u001b[0m \u001b[0mname\u001b[0m \u001b[0;32min\u001b[0m \u001b[0mmodules\u001b[0m\u001b[0;34m:\u001b[0m\u001b[0;34m\u001b[0m\u001b[0;34m\u001b[0m\u001b[0m\n\u001b[1;32m   1930\u001b[0m                 \u001b[0;32mreturn\u001b[0m \u001b[0mmodules\u001b[0m\u001b[0;34m[\u001b[0m\u001b[0mname\u001b[0m\u001b[0;34m]\u001b[0m\u001b[0;34m\u001b[0m\u001b[0;34m\u001b[0m\u001b[0m\n\u001b[0;32m-> 1931\u001b[0;31m         raise AttributeError(\n\u001b[0m\u001b[1;32m   1932\u001b[0m             \u001b[0;34mf\"'{type(self).__name__}' object has no attribute '{name}'\"\u001b[0m\u001b[0;34m\u001b[0m\u001b[0;34m\u001b[0m\u001b[0m\n\u001b[1;32m   1933\u001b[0m         )\n",
            "\u001b[0;31mAttributeError\u001b[0m: 'BartForTokenClassificationWithDropout' object has no attribute 'save_pretrained'"
          ]
        }
      ]
    },
    {
      "cell_type": "code",
      "source": [
        "# Load test dataset\n",
        "test_dataset = datasets.load_dataset('json', data_files='/content/drive/MyDrive/Dataset/pii-detection-removal-from-educational-data/test.json')['train']\n",
        "\n",
        "def tokenize_test_set(examples):\n",
        "    tokenized_inputs = tokenizer(\n",
        "        examples[\"tokens\"],\n",
        "        is_split_into_words=True,\n",
        "        truncation=True,\n",
        "        padding='max_length',\n",
        "        max_length=512,\n",
        "        return_offsets_mapping=True\n",
        "    )\n",
        "\n",
        "    batch_original_tokens = []\n",
        "    batch_tokenized_tokens = []\n",
        "    batch_input_ids = []\n",
        "    batch_attention_masks = []\n",
        "    batch_token_type_ids = []\n",
        "    batch_offset_mappings = []  # New line to store offset mappings\n",
        "\n",
        "    for i in range(len(examples[\"tokens\"])):\n",
        "        word_ids = tokenized_inputs.word_ids(batch_index=i)\n",
        "        original_tokens = examples[\"tokens\"][i]\n",
        "        tokenized_tokens = tokenizer.convert_ids_to_tokens(tokenized_inputs[\"input_ids\"][i])\n",
        "\n",
        "        original_token_list = []\n",
        "        tokenized_token_list = []\n",
        "        input_id_list = []\n",
        "        attention_mask_list = []\n",
        "        token_type_id_list = []\n",
        "\n",
        "        for j, word_idx in enumerate(word_ids):\n",
        "            current_original_token = '' if word_idx is None else original_tokens[word_idx]\n",
        "\n",
        "            original_token_list.append(current_original_token)\n",
        "            tokenized_token_list.append(tokenized_tokens[j])\n",
        "            input_id_list.append(tokenized_inputs[\"input_ids\"][i][j])\n",
        "            attention_mask_list.append(tokenized_inputs[\"attention_mask\"][i][j])\n",
        "            if \"token_type_ids\" in tokenized_inputs:\n",
        "                token_type_id_list.append(tokenized_inputs[\"token_type_ids\"][i][j])\n",
        "            else:\n",
        "                token_type_id_list.append(0)\n",
        "\n",
        "        batch_original_tokens.append(original_token_list)\n",
        "        batch_tokenized_tokens.append(tokenized_token_list)\n",
        "        batch_input_ids.append(input_id_list)\n",
        "        batch_attention_masks.append(attention_mask_list)\n",
        "        batch_token_type_ids.append(token_type_id_list)\n",
        "        # Append offset_mapping for the current sample\n",
        "        batch_offset_mappings.append(tokenized_inputs['offset_mapping'][i])\n",
        "\n",
        "    return {\n",
        "        \"original_tokens\": batch_original_tokens,\n",
        "        \"tokenized_tokens\": batch_tokenized_tokens,\n",
        "        \"input_ids\": batch_input_ids,\n",
        "        \"attention_mask\": batch_attention_masks,\n",
        "        \"token_type_ids\": batch_token_type_ids,\n",
        "        \"offset_mapping\": batch_offset_mappings,\n",
        "    }\n",
        "\n",
        "test_dataset = test_dataset.map(tokenize_test_set, batched=True)\n",
        "\n",
        "# List of columns to keep\n",
        "columns_to_keep = ['document', 'input_ids', 'attention_mask', 'token_type_ids']\n",
        "test_dataset = test_dataset.remove_columns([col for col in test_dataset.column_names if col not in columns_to_keep])\n",
        "# Define the confidence threshold\n",
        "confidence_threshold = 0.95\n",
        "\n",
        "# Predict on test dataset\n",
        "test_predictions = trainer.predict(test_dataset)\n",
        "pred_probs = test_predictions.predictions\n",
        "preds = np.argmax(pred_probs, axis=2)\n",
        "max_probs = np.max(pred_probs, axis=2)\n",
        "\n",
        "# Create submission file\n",
        "submission = []\n",
        "\n",
        "for i, doc in enumerate(pred_probs):\n",
        "    word_ids = test_dataset[i]['input_ids']\n",
        "    for j, word_id in enumerate(word_ids):\n",
        "        if word_id != tokenizer.pad_token_id:\n",
        "            row_id = len(submission)\n",
        "            document_id = test_dataset[i]['document']\n",
        "            token_id = j\n",
        "            pred_label = id2label[preds[i][j]]\n",
        "            if pred_label != 'O' and max_probs[i][j] >= confidence_threshold:  # Exclude outside labels and apply threshold\n",
        "                submission.append([row_id, document_id, token_id, pred_label])\n",
        "\n",
        "submission_df = pd.DataFrame(submission, columns=[\"row_id\", \"document\", \"token\", \"label\"])\n",
        "\n",
        "# Save to CSV\n",
        "submission_df.to_csv('submission.csv', index=False)\n",
        "\n",
        "print(\"Submission file created successfully!\")\n",
        "print(submission_df)"
      ],
      "metadata": {
        "id": "Mh1eG52UzzHg",
        "colab": {
          "base_uri": "https://localhost:8080/",
          "height": 420,
          "referenced_widgets": [
            "0e9c60635b7140bcae4020099c284f90",
            "175fd3dd1d3d4b72815bee29a2350282",
            "c6bba720a6d949c495bc37fe5bbf19ca",
            "85cb238bd6cd4018bc89f26050b43e0e",
            "5f7209f9d24240ee91f01981f630e013",
            "aebe283c48fb4f3cbd8d88633ac32e0e",
            "3f3836f419084527bf1f85ebe61ca557",
            "111c6d2e5c7c419f959e29f501fba494",
            "435411c69cd34131835648e3b6443959",
            "dc7cc7c14dc64f4f9d65f845b4af6214",
            "0a5119347d494d9b9ad254ea947f73f8",
            "5622b290aa14493994ac603b04b77975",
            "ea4408644c0a4ae88c14afa93f11d59a",
            "27d04481a04d4735a0d0fbc9d9e3cfa3",
            "3e67dd2e76ec43dcba0f8651ff56aeb2",
            "aa9dd9a2a481415bb2887d55bc8f2b7b",
            "8e7fff37a5894bbbb65dfee903b871f2",
            "523080e4dbd74e85b1be68d3d37e1659",
            "1c572c1aecf8463c88c4b215a60ba524",
            "bb71ce9e2233492bac9be2053ea58018",
            "c1bb505179764c9b8c4a3ce0a4054718",
            "9c8b72dbe40949b383fce08d557c93e7"
          ]
        },
        "outputId": "9557122e-d165-4666-9287-cb982dba74b5"
      },
      "execution_count": null,
      "outputs": [
        {
          "output_type": "display_data",
          "data": {
            "text/plain": [
              "Generating train split: 0 examples [00:00, ? examples/s]"
            ],
            "application/vnd.jupyter.widget-view+json": {
              "version_major": 2,
              "version_minor": 0,
              "model_id": "0e9c60635b7140bcae4020099c284f90"
            }
          },
          "metadata": {}
        },
        {
          "output_type": "display_data",
          "data": {
            "text/plain": [
              "Map:   0%|          | 0/10 [00:00<?, ? examples/s]"
            ],
            "application/vnd.jupyter.widget-view+json": {
              "version_major": 2,
              "version_minor": 0,
              "model_id": "5622b290aa14493994ac603b04b77975"
            }
          },
          "metadata": {}
        },
        {
          "output_type": "error",
          "ename": "TypeError",
          "evalue": "Unsupported types (<class 'NoneType'>) passed to `_pad_across_processes`. Only nested list/tuple/dicts of objects that are valid for `is_torch_tensor` should be passed.",
          "traceback": [
            "\u001b[0;31m---------------------------------------------------------------------------\u001b[0m",
            "\u001b[0;31mTypeError\u001b[0m                                 Traceback (most recent call last)",
            "\u001b[0;32m<ipython-input-37-3c2734131b25>\u001b[0m in \u001b[0;36m<cell line: 70>\u001b[0;34m()\u001b[0m\n\u001b[1;32m     68\u001b[0m \u001b[0;34m\u001b[0m\u001b[0m\n\u001b[1;32m     69\u001b[0m \u001b[0;31m# Predict on test dataset\u001b[0m\u001b[0;34m\u001b[0m\u001b[0;34m\u001b[0m\u001b[0m\n\u001b[0;32m---> 70\u001b[0;31m \u001b[0mtest_predictions\u001b[0m \u001b[0;34m=\u001b[0m \u001b[0mtrainer\u001b[0m\u001b[0;34m.\u001b[0m\u001b[0mpredict\u001b[0m\u001b[0;34m(\u001b[0m\u001b[0mtest_dataset\u001b[0m\u001b[0;34m)\u001b[0m\u001b[0;34m\u001b[0m\u001b[0;34m\u001b[0m\u001b[0m\n\u001b[0m\u001b[1;32m     71\u001b[0m \u001b[0mpred_probs\u001b[0m \u001b[0;34m=\u001b[0m \u001b[0mtest_predictions\u001b[0m\u001b[0;34m.\u001b[0m\u001b[0mpredictions\u001b[0m\u001b[0;34m\u001b[0m\u001b[0;34m\u001b[0m\u001b[0m\n\u001b[1;32m     72\u001b[0m \u001b[0mpreds\u001b[0m \u001b[0;34m=\u001b[0m \u001b[0mnp\u001b[0m\u001b[0;34m.\u001b[0m\u001b[0margmax\u001b[0m\u001b[0;34m(\u001b[0m\u001b[0mpred_probs\u001b[0m\u001b[0;34m,\u001b[0m \u001b[0maxis\u001b[0m\u001b[0;34m=\u001b[0m\u001b[0;36m2\u001b[0m\u001b[0;34m)\u001b[0m\u001b[0;34m\u001b[0m\u001b[0;34m\u001b[0m\u001b[0m\n",
            "\u001b[0;32m/usr/local/lib/python3.10/dist-packages/transformers/trainer.py\u001b[0m in \u001b[0;36mpredict\u001b[0;34m(self, test_dataset, ignore_keys, metric_key_prefix)\u001b[0m\n\u001b[1;32m   4051\u001b[0m \u001b[0;34m\u001b[0m\u001b[0m\n\u001b[1;32m   4052\u001b[0m         \u001b[0meval_loop\u001b[0m \u001b[0;34m=\u001b[0m \u001b[0mself\u001b[0m\u001b[0;34m.\u001b[0m\u001b[0mprediction_loop\u001b[0m \u001b[0;32mif\u001b[0m \u001b[0mself\u001b[0m\u001b[0;34m.\u001b[0m\u001b[0margs\u001b[0m\u001b[0;34m.\u001b[0m\u001b[0muse_legacy_prediction_loop\u001b[0m \u001b[0;32melse\u001b[0m \u001b[0mself\u001b[0m\u001b[0;34m.\u001b[0m\u001b[0mevaluation_loop\u001b[0m\u001b[0;34m\u001b[0m\u001b[0;34m\u001b[0m\u001b[0m\n\u001b[0;32m-> 4053\u001b[0;31m         output = eval_loop(\n\u001b[0m\u001b[1;32m   4054\u001b[0m             \u001b[0mtest_dataloader\u001b[0m\u001b[0;34m,\u001b[0m \u001b[0mdescription\u001b[0m\u001b[0;34m=\u001b[0m\u001b[0;34m\"Prediction\"\u001b[0m\u001b[0;34m,\u001b[0m \u001b[0mignore_keys\u001b[0m\u001b[0;34m=\u001b[0m\u001b[0mignore_keys\u001b[0m\u001b[0;34m,\u001b[0m \u001b[0mmetric_key_prefix\u001b[0m\u001b[0;34m=\u001b[0m\u001b[0mmetric_key_prefix\u001b[0m\u001b[0;34m\u001b[0m\u001b[0;34m\u001b[0m\u001b[0m\n\u001b[1;32m   4055\u001b[0m         )\n",
            "\u001b[0;32m/usr/local/lib/python3.10/dist-packages/transformers/trainer.py\u001b[0m in \u001b[0;36mevaluation_loop\u001b[0;34m(self, dataloader, description, prediction_loss_only, ignore_keys, metric_key_prefix)\u001b[0m\n\u001b[1;32m   4189\u001b[0m                 \u001b[0mlabels\u001b[0m \u001b[0;34m=\u001b[0m \u001b[0mself\u001b[0m\u001b[0;34m.\u001b[0m\u001b[0maccelerator\u001b[0m\u001b[0;34m.\u001b[0m\u001b[0mpad_across_processes\u001b[0m\u001b[0;34m(\u001b[0m\u001b[0mlabels\u001b[0m\u001b[0;34m,\u001b[0m \u001b[0mdim\u001b[0m\u001b[0;34m=\u001b[0m\u001b[0;36m1\u001b[0m\u001b[0;34m,\u001b[0m \u001b[0mpad_index\u001b[0m\u001b[0;34m=\u001b[0m\u001b[0;34m-\u001b[0m\u001b[0;36m100\u001b[0m\u001b[0;34m)\u001b[0m\u001b[0;34m\u001b[0m\u001b[0;34m\u001b[0m\u001b[0m\n\u001b[1;32m   4190\u001b[0m             \u001b[0;32mif\u001b[0m \u001b[0mlogits\u001b[0m \u001b[0;32mis\u001b[0m \u001b[0;32mnot\u001b[0m \u001b[0;32mNone\u001b[0m\u001b[0;34m:\u001b[0m\u001b[0;34m\u001b[0m\u001b[0;34m\u001b[0m\u001b[0m\n\u001b[0;32m-> 4191\u001b[0;31m                 \u001b[0mlogits\u001b[0m \u001b[0;34m=\u001b[0m \u001b[0mself\u001b[0m\u001b[0;34m.\u001b[0m\u001b[0maccelerator\u001b[0m\u001b[0;34m.\u001b[0m\u001b[0mpad_across_processes\u001b[0m\u001b[0;34m(\u001b[0m\u001b[0mlogits\u001b[0m\u001b[0;34m,\u001b[0m \u001b[0mdim\u001b[0m\u001b[0;34m=\u001b[0m\u001b[0;36m1\u001b[0m\u001b[0;34m,\u001b[0m \u001b[0mpad_index\u001b[0m\u001b[0;34m=\u001b[0m\u001b[0;34m-\u001b[0m\u001b[0;36m100\u001b[0m\u001b[0;34m)\u001b[0m\u001b[0;34m\u001b[0m\u001b[0;34m\u001b[0m\u001b[0m\n\u001b[0m\u001b[1;32m   4192\u001b[0m                 \u001b[0;32mif\u001b[0m \u001b[0mself\u001b[0m\u001b[0;34m.\u001b[0m\u001b[0mpreprocess_logits_for_metrics\u001b[0m \u001b[0;32mis\u001b[0m \u001b[0;32mnot\u001b[0m \u001b[0;32mNone\u001b[0m\u001b[0;34m:\u001b[0m\u001b[0;34m\u001b[0m\u001b[0;34m\u001b[0m\u001b[0m\n\u001b[1;32m   4193\u001b[0m                     \u001b[0mlogits\u001b[0m \u001b[0;34m=\u001b[0m \u001b[0mself\u001b[0m\u001b[0;34m.\u001b[0m\u001b[0mpreprocess_logits_for_metrics\u001b[0m\u001b[0;34m(\u001b[0m\u001b[0mlogits\u001b[0m\u001b[0;34m,\u001b[0m \u001b[0mlabels\u001b[0m\u001b[0;34m)\u001b[0m\u001b[0;34m\u001b[0m\u001b[0;34m\u001b[0m\u001b[0m\n",
            "\u001b[0;32m/usr/local/lib/python3.10/dist-packages/accelerate/accelerator.py\u001b[0m in \u001b[0;36mpad_across_processes\u001b[0;34m(self, tensor, dim, pad_index, pad_first)\u001b[0m\n\u001b[1;32m   2593\u001b[0m         \u001b[0;31m`\u001b[0m\u001b[0;31m`\u001b[0m\u001b[0;31m`\u001b[0m\u001b[0;34m\u001b[0m\u001b[0;34m\u001b[0m\u001b[0m\n\u001b[1;32m   2594\u001b[0m         \"\"\"\n\u001b[0;32m-> 2595\u001b[0;31m         \u001b[0;32mreturn\u001b[0m \u001b[0mpad_across_processes\u001b[0m\u001b[0;34m(\u001b[0m\u001b[0mtensor\u001b[0m\u001b[0;34m,\u001b[0m \u001b[0mdim\u001b[0m\u001b[0;34m=\u001b[0m\u001b[0mdim\u001b[0m\u001b[0;34m,\u001b[0m \u001b[0mpad_index\u001b[0m\u001b[0;34m=\u001b[0m\u001b[0mpad_index\u001b[0m\u001b[0;34m,\u001b[0m \u001b[0mpad_first\u001b[0m\u001b[0;34m=\u001b[0m\u001b[0mpad_first\u001b[0m\u001b[0;34m)\u001b[0m\u001b[0;34m\u001b[0m\u001b[0;34m\u001b[0m\u001b[0m\n\u001b[0m\u001b[1;32m   2596\u001b[0m \u001b[0;34m\u001b[0m\u001b[0m\n\u001b[1;32m   2597\u001b[0m     \u001b[0;32mdef\u001b[0m \u001b[0munwrap_model\u001b[0m\u001b[0;34m(\u001b[0m\u001b[0mself\u001b[0m\u001b[0;34m,\u001b[0m \u001b[0mmodel\u001b[0m\u001b[0;34m,\u001b[0m \u001b[0mkeep_fp32_wrapper\u001b[0m\u001b[0;34m:\u001b[0m \u001b[0mbool\u001b[0m \u001b[0;34m=\u001b[0m \u001b[0;32mTrue\u001b[0m\u001b[0;34m)\u001b[0m\u001b[0;34m:\u001b[0m\u001b[0;34m\u001b[0m\u001b[0;34m\u001b[0m\u001b[0m\n",
            "\u001b[0;32m/usr/local/lib/python3.10/dist-packages/accelerate/utils/operations.py\u001b[0m in \u001b[0;36mwrapper\u001b[0;34m(*args, **kwargs)\u001b[0m\n\u001b[1;32m    410\u001b[0m     \u001b[0;32mdef\u001b[0m \u001b[0mwrapper\u001b[0m\u001b[0;34m(\u001b[0m\u001b[0;34m*\u001b[0m\u001b[0margs\u001b[0m\u001b[0;34m,\u001b[0m \u001b[0;34m**\u001b[0m\u001b[0mkwargs\u001b[0m\u001b[0;34m)\u001b[0m\u001b[0;34m:\u001b[0m\u001b[0;34m\u001b[0m\u001b[0;34m\u001b[0m\u001b[0m\n\u001b[1;32m    411\u001b[0m         \u001b[0;32mtry\u001b[0m\u001b[0;34m:\u001b[0m\u001b[0;34m\u001b[0m\u001b[0;34m\u001b[0m\u001b[0m\n\u001b[0;32m--> 412\u001b[0;31m             \u001b[0;32mreturn\u001b[0m \u001b[0mfunction\u001b[0m\u001b[0;34m(\u001b[0m\u001b[0;34m*\u001b[0m\u001b[0margs\u001b[0m\u001b[0;34m,\u001b[0m \u001b[0;34m**\u001b[0m\u001b[0mkwargs\u001b[0m\u001b[0;34m)\u001b[0m\u001b[0;34m\u001b[0m\u001b[0;34m\u001b[0m\u001b[0m\n\u001b[0m\u001b[1;32m    413\u001b[0m         \u001b[0;32mexcept\u001b[0m \u001b[0mDistributedOperationException\u001b[0m \u001b[0;32mas\u001b[0m \u001b[0me\u001b[0m\u001b[0;34m:\u001b[0m\u001b[0;34m\u001b[0m\u001b[0;34m\u001b[0m\u001b[0m\n\u001b[1;32m    414\u001b[0m             \u001b[0moperation\u001b[0m \u001b[0;34m=\u001b[0m \u001b[0;34mf\"{function.__module__}.{function.__name__}\"\u001b[0m\u001b[0;34m\u001b[0m\u001b[0;34m\u001b[0m\u001b[0m\n",
            "\u001b[0;32m/usr/local/lib/python3.10/dist-packages/accelerate/utils/operations.py\u001b[0m in \u001b[0;36mpad_across_processes\u001b[0;34m(tensor, dim, pad_index, pad_first)\u001b[0m\n\u001b[1;32m    680\u001b[0m         \u001b[0;32mreturn\u001b[0m \u001b[0mnew_tensor\u001b[0m\u001b[0;34m\u001b[0m\u001b[0;34m\u001b[0m\u001b[0m\n\u001b[1;32m    681\u001b[0m \u001b[0;34m\u001b[0m\u001b[0m\n\u001b[0;32m--> 682\u001b[0;31m     return recursively_apply(\n\u001b[0m\u001b[1;32m    683\u001b[0m         \u001b[0m_pad_across_processes\u001b[0m\u001b[0;34m,\u001b[0m \u001b[0mtensor\u001b[0m\u001b[0;34m,\u001b[0m \u001b[0merror_on_other_type\u001b[0m\u001b[0;34m=\u001b[0m\u001b[0;32mTrue\u001b[0m\u001b[0;34m,\u001b[0m \u001b[0mdim\u001b[0m\u001b[0;34m=\u001b[0m\u001b[0mdim\u001b[0m\u001b[0;34m,\u001b[0m \u001b[0mpad_index\u001b[0m\u001b[0;34m=\u001b[0m\u001b[0mpad_index\u001b[0m\u001b[0;34m,\u001b[0m \u001b[0mpad_first\u001b[0m\u001b[0;34m=\u001b[0m\u001b[0mpad_first\u001b[0m\u001b[0;34m\u001b[0m\u001b[0;34m\u001b[0m\u001b[0m\n\u001b[1;32m    684\u001b[0m     )\n",
            "\u001b[0;32m/usr/local/lib/python3.10/dist-packages/accelerate/utils/operations.py\u001b[0m in \u001b[0;36mrecursively_apply\u001b[0;34m(func, data, test_type, error_on_other_type, *args, **kwargs)\u001b[0m\n\u001b[1;32m    106\u001b[0m     \"\"\"\n\u001b[1;32m    107\u001b[0m     \u001b[0;32mif\u001b[0m \u001b[0misinstance\u001b[0m\u001b[0;34m(\u001b[0m\u001b[0mdata\u001b[0m\u001b[0;34m,\u001b[0m \u001b[0;34m(\u001b[0m\u001b[0mtuple\u001b[0m\u001b[0;34m,\u001b[0m \u001b[0mlist\u001b[0m\u001b[0;34m)\u001b[0m\u001b[0;34m)\u001b[0m\u001b[0;34m:\u001b[0m\u001b[0;34m\u001b[0m\u001b[0;34m\u001b[0m\u001b[0m\n\u001b[0;32m--> 108\u001b[0;31m         return honor_type(\n\u001b[0m\u001b[1;32m    109\u001b[0m             \u001b[0mdata\u001b[0m\u001b[0;34m,\u001b[0m\u001b[0;34m\u001b[0m\u001b[0;34m\u001b[0m\u001b[0m\n\u001b[1;32m    110\u001b[0m             (\n",
            "\u001b[0;32m/usr/local/lib/python3.10/dist-packages/accelerate/utils/operations.py\u001b[0m in \u001b[0;36mhonor_type\u001b[0;34m(obj, generator)\u001b[0m\n\u001b[1;32m     80\u001b[0m         \u001b[0;32mreturn\u001b[0m \u001b[0mtype\u001b[0m\u001b[0;34m(\u001b[0m\u001b[0mobj\u001b[0m\u001b[0;34m)\u001b[0m\u001b[0;34m(\u001b[0m\u001b[0;34m*\u001b[0m\u001b[0mlist\u001b[0m\u001b[0;34m(\u001b[0m\u001b[0mgenerator\u001b[0m\u001b[0;34m)\u001b[0m\u001b[0;34m)\u001b[0m\u001b[0;34m\u001b[0m\u001b[0;34m\u001b[0m\u001b[0m\n\u001b[1;32m     81\u001b[0m     \u001b[0;32melse\u001b[0m\u001b[0;34m:\u001b[0m\u001b[0;34m\u001b[0m\u001b[0;34m\u001b[0m\u001b[0m\n\u001b[0;32m---> 82\u001b[0;31m         \u001b[0;32mreturn\u001b[0m \u001b[0mtype\u001b[0m\u001b[0;34m(\u001b[0m\u001b[0mobj\u001b[0m\u001b[0;34m)\u001b[0m\u001b[0;34m(\u001b[0m\u001b[0mgenerator\u001b[0m\u001b[0;34m)\u001b[0m\u001b[0;34m\u001b[0m\u001b[0;34m\u001b[0m\u001b[0m\n\u001b[0m\u001b[1;32m     83\u001b[0m \u001b[0;34m\u001b[0m\u001b[0m\n\u001b[1;32m     84\u001b[0m \u001b[0;34m\u001b[0m\u001b[0m\n",
            "\u001b[0;32m/usr/local/lib/python3.10/dist-packages/accelerate/utils/operations.py\u001b[0m in \u001b[0;36m<genexpr>\u001b[0;34m(.0)\u001b[0m\n\u001b[1;32m    109\u001b[0m             \u001b[0mdata\u001b[0m\u001b[0;34m,\u001b[0m\u001b[0;34m\u001b[0m\u001b[0;34m\u001b[0m\u001b[0m\n\u001b[1;32m    110\u001b[0m             (\n\u001b[0;32m--> 111\u001b[0;31m                 recursively_apply(\n\u001b[0m\u001b[1;32m    112\u001b[0m                     \u001b[0mfunc\u001b[0m\u001b[0;34m,\u001b[0m \u001b[0mo\u001b[0m\u001b[0;34m,\u001b[0m \u001b[0;34m*\u001b[0m\u001b[0margs\u001b[0m\u001b[0;34m,\u001b[0m \u001b[0mtest_type\u001b[0m\u001b[0;34m=\u001b[0m\u001b[0mtest_type\u001b[0m\u001b[0;34m,\u001b[0m \u001b[0merror_on_other_type\u001b[0m\u001b[0;34m=\u001b[0m\u001b[0merror_on_other_type\u001b[0m\u001b[0;34m,\u001b[0m \u001b[0;34m**\u001b[0m\u001b[0mkwargs\u001b[0m\u001b[0;34m\u001b[0m\u001b[0;34m\u001b[0m\u001b[0m\n\u001b[1;32m    113\u001b[0m                 )\n",
            "\u001b[0;32m/usr/local/lib/python3.10/dist-packages/accelerate/utils/operations.py\u001b[0m in \u001b[0;36mrecursively_apply\u001b[0;34m(func, data, test_type, error_on_other_type, *args, **kwargs)\u001b[0m\n\u001b[1;32m    127\u001b[0m         \u001b[0;32mreturn\u001b[0m \u001b[0mfunc\u001b[0m\u001b[0;34m(\u001b[0m\u001b[0mdata\u001b[0m\u001b[0;34m,\u001b[0m \u001b[0;34m*\u001b[0m\u001b[0margs\u001b[0m\u001b[0;34m,\u001b[0m \u001b[0;34m**\u001b[0m\u001b[0mkwargs\u001b[0m\u001b[0;34m)\u001b[0m\u001b[0;34m\u001b[0m\u001b[0;34m\u001b[0m\u001b[0m\n\u001b[1;32m    128\u001b[0m     \u001b[0;32melif\u001b[0m \u001b[0merror_on_other_type\u001b[0m\u001b[0;34m:\u001b[0m\u001b[0;34m\u001b[0m\u001b[0;34m\u001b[0m\u001b[0m\n\u001b[0;32m--> 129\u001b[0;31m         raise TypeError(\n\u001b[0m\u001b[1;32m    130\u001b[0m             \u001b[0;34mf\"Unsupported types ({type(data)}) passed to `{func.__name__}`. Only nested list/tuple/dicts of \"\u001b[0m\u001b[0;34m\u001b[0m\u001b[0;34m\u001b[0m\u001b[0m\n\u001b[1;32m    131\u001b[0m             \u001b[0;34mf\"objects that are valid for `{test_type.__name__}` should be passed.\"\u001b[0m\u001b[0;34m\u001b[0m\u001b[0;34m\u001b[0m\u001b[0m\n",
            "\u001b[0;31mTypeError\u001b[0m: Unsupported types (<class 'NoneType'>) passed to `_pad_across_processes`. Only nested list/tuple/dicts of objects that are valid for `is_torch_tensor` should be passed."
          ]
        }
      ]
    }
  ],
  "metadata": {
    "kernelspec": {
      "display_name": "Python 3",
      "name": "python3"
    },
    "language_info": {
      "codemirror_mode": {
        "name": "ipython",
        "version": 3
      },
      "file_extension": ".py",
      "mimetype": "text/x-python",
      "name": "python",
      "nbconvert_exporter": "python",
      "pygments_lexer": "ipython3",
      "version": "3.10.14"
    },
    "colab": {
      "provenance": [],
      "gpuType": "T4",
      "include_colab_link": true
    },
    "widgets": {
      "application/vnd.jupyter.widget-state+json": {
        "0e9c60635b7140bcae4020099c284f90": {
          "model_module": "@jupyter-widgets/controls",
          "model_name": "HBoxModel",
          "model_module_version": "1.5.0",
          "state": {
            "_dom_classes": [],
            "_model_module": "@jupyter-widgets/controls",
            "_model_module_version": "1.5.0",
            "_model_name": "HBoxModel",
            "_view_count": null,
            "_view_module": "@jupyter-widgets/controls",
            "_view_module_version": "1.5.0",
            "_view_name": "HBoxView",
            "box_style": "",
            "children": [
              "IPY_MODEL_175fd3dd1d3d4b72815bee29a2350282",
              "IPY_MODEL_c6bba720a6d949c495bc37fe5bbf19ca",
              "IPY_MODEL_85cb238bd6cd4018bc89f26050b43e0e"
            ],
            "layout": "IPY_MODEL_5f7209f9d24240ee91f01981f630e013"
          }
        },
        "175fd3dd1d3d4b72815bee29a2350282": {
          "model_module": "@jupyter-widgets/controls",
          "model_name": "HTMLModel",
          "model_module_version": "1.5.0",
          "state": {
            "_dom_classes": [],
            "_model_module": "@jupyter-widgets/controls",
            "_model_module_version": "1.5.0",
            "_model_name": "HTMLModel",
            "_view_count": null,
            "_view_module": "@jupyter-widgets/controls",
            "_view_module_version": "1.5.0",
            "_view_name": "HTMLView",
            "description": "",
            "description_tooltip": null,
            "layout": "IPY_MODEL_aebe283c48fb4f3cbd8d88633ac32e0e",
            "placeholder": "​",
            "style": "IPY_MODEL_3f3836f419084527bf1f85ebe61ca557",
            "value": "Generating train split: "
          }
        },
        "c6bba720a6d949c495bc37fe5bbf19ca": {
          "model_module": "@jupyter-widgets/controls",
          "model_name": "FloatProgressModel",
          "model_module_version": "1.5.0",
          "state": {
            "_dom_classes": [],
            "_model_module": "@jupyter-widgets/controls",
            "_model_module_version": "1.5.0",
            "_model_name": "FloatProgressModel",
            "_view_count": null,
            "_view_module": "@jupyter-widgets/controls",
            "_view_module_version": "1.5.0",
            "_view_name": "ProgressView",
            "bar_style": "success",
            "description": "",
            "description_tooltip": null,
            "layout": "IPY_MODEL_111c6d2e5c7c419f959e29f501fba494",
            "max": 1,
            "min": 0,
            "orientation": "horizontal",
            "style": "IPY_MODEL_435411c69cd34131835648e3b6443959",
            "value": 1
          }
        },
        "85cb238bd6cd4018bc89f26050b43e0e": {
          "model_module": "@jupyter-widgets/controls",
          "model_name": "HTMLModel",
          "model_module_version": "1.5.0",
          "state": {
            "_dom_classes": [],
            "_model_module": "@jupyter-widgets/controls",
            "_model_module_version": "1.5.0",
            "_model_name": "HTMLModel",
            "_view_count": null,
            "_view_module": "@jupyter-widgets/controls",
            "_view_module_version": "1.5.0",
            "_view_name": "HTMLView",
            "description": "",
            "description_tooltip": null,
            "layout": "IPY_MODEL_dc7cc7c14dc64f4f9d65f845b4af6214",
            "placeholder": "​",
            "style": "IPY_MODEL_0a5119347d494d9b9ad254ea947f73f8",
            "value": " 10/0 [00:00&lt;00:00, 232.42 examples/s]"
          }
        },
        "5f7209f9d24240ee91f01981f630e013": {
          "model_module": "@jupyter-widgets/base",
          "model_name": "LayoutModel",
          "model_module_version": "1.2.0",
          "state": {
            "_model_module": "@jupyter-widgets/base",
            "_model_module_version": "1.2.0",
            "_model_name": "LayoutModel",
            "_view_count": null,
            "_view_module": "@jupyter-widgets/base",
            "_view_module_version": "1.2.0",
            "_view_name": "LayoutView",
            "align_content": null,
            "align_items": null,
            "align_self": null,
            "border": null,
            "bottom": null,
            "display": null,
            "flex": null,
            "flex_flow": null,
            "grid_area": null,
            "grid_auto_columns": null,
            "grid_auto_flow": null,
            "grid_auto_rows": null,
            "grid_column": null,
            "grid_gap": null,
            "grid_row": null,
            "grid_template_areas": null,
            "grid_template_columns": null,
            "grid_template_rows": null,
            "height": null,
            "justify_content": null,
            "justify_items": null,
            "left": null,
            "margin": null,
            "max_height": null,
            "max_width": null,
            "min_height": null,
            "min_width": null,
            "object_fit": null,
            "object_position": null,
            "order": null,
            "overflow": null,
            "overflow_x": null,
            "overflow_y": null,
            "padding": null,
            "right": null,
            "top": null,
            "visibility": null,
            "width": null
          }
        },
        "aebe283c48fb4f3cbd8d88633ac32e0e": {
          "model_module": "@jupyter-widgets/base",
          "model_name": "LayoutModel",
          "model_module_version": "1.2.0",
          "state": {
            "_model_module": "@jupyter-widgets/base",
            "_model_module_version": "1.2.0",
            "_model_name": "LayoutModel",
            "_view_count": null,
            "_view_module": "@jupyter-widgets/base",
            "_view_module_version": "1.2.0",
            "_view_name": "LayoutView",
            "align_content": null,
            "align_items": null,
            "align_self": null,
            "border": null,
            "bottom": null,
            "display": null,
            "flex": null,
            "flex_flow": null,
            "grid_area": null,
            "grid_auto_columns": null,
            "grid_auto_flow": null,
            "grid_auto_rows": null,
            "grid_column": null,
            "grid_gap": null,
            "grid_row": null,
            "grid_template_areas": null,
            "grid_template_columns": null,
            "grid_template_rows": null,
            "height": null,
            "justify_content": null,
            "justify_items": null,
            "left": null,
            "margin": null,
            "max_height": null,
            "max_width": null,
            "min_height": null,
            "min_width": null,
            "object_fit": null,
            "object_position": null,
            "order": null,
            "overflow": null,
            "overflow_x": null,
            "overflow_y": null,
            "padding": null,
            "right": null,
            "top": null,
            "visibility": null,
            "width": null
          }
        },
        "3f3836f419084527bf1f85ebe61ca557": {
          "model_module": "@jupyter-widgets/controls",
          "model_name": "DescriptionStyleModel",
          "model_module_version": "1.5.0",
          "state": {
            "_model_module": "@jupyter-widgets/controls",
            "_model_module_version": "1.5.0",
            "_model_name": "DescriptionStyleModel",
            "_view_count": null,
            "_view_module": "@jupyter-widgets/base",
            "_view_module_version": "1.2.0",
            "_view_name": "StyleView",
            "description_width": ""
          }
        },
        "111c6d2e5c7c419f959e29f501fba494": {
          "model_module": "@jupyter-widgets/base",
          "model_name": "LayoutModel",
          "model_module_version": "1.2.0",
          "state": {
            "_model_module": "@jupyter-widgets/base",
            "_model_module_version": "1.2.0",
            "_model_name": "LayoutModel",
            "_view_count": null,
            "_view_module": "@jupyter-widgets/base",
            "_view_module_version": "1.2.0",
            "_view_name": "LayoutView",
            "align_content": null,
            "align_items": null,
            "align_self": null,
            "border": null,
            "bottom": null,
            "display": null,
            "flex": null,
            "flex_flow": null,
            "grid_area": null,
            "grid_auto_columns": null,
            "grid_auto_flow": null,
            "grid_auto_rows": null,
            "grid_column": null,
            "grid_gap": null,
            "grid_row": null,
            "grid_template_areas": null,
            "grid_template_columns": null,
            "grid_template_rows": null,
            "height": null,
            "justify_content": null,
            "justify_items": null,
            "left": null,
            "margin": null,
            "max_height": null,
            "max_width": null,
            "min_height": null,
            "min_width": null,
            "object_fit": null,
            "object_position": null,
            "order": null,
            "overflow": null,
            "overflow_x": null,
            "overflow_y": null,
            "padding": null,
            "right": null,
            "top": null,
            "visibility": null,
            "width": "20px"
          }
        },
        "435411c69cd34131835648e3b6443959": {
          "model_module": "@jupyter-widgets/controls",
          "model_name": "ProgressStyleModel",
          "model_module_version": "1.5.0",
          "state": {
            "_model_module": "@jupyter-widgets/controls",
            "_model_module_version": "1.5.0",
            "_model_name": "ProgressStyleModel",
            "_view_count": null,
            "_view_module": "@jupyter-widgets/base",
            "_view_module_version": "1.2.0",
            "_view_name": "StyleView",
            "bar_color": null,
            "description_width": ""
          }
        },
        "dc7cc7c14dc64f4f9d65f845b4af6214": {
          "model_module": "@jupyter-widgets/base",
          "model_name": "LayoutModel",
          "model_module_version": "1.2.0",
          "state": {
            "_model_module": "@jupyter-widgets/base",
            "_model_module_version": "1.2.0",
            "_model_name": "LayoutModel",
            "_view_count": null,
            "_view_module": "@jupyter-widgets/base",
            "_view_module_version": "1.2.0",
            "_view_name": "LayoutView",
            "align_content": null,
            "align_items": null,
            "align_self": null,
            "border": null,
            "bottom": null,
            "display": null,
            "flex": null,
            "flex_flow": null,
            "grid_area": null,
            "grid_auto_columns": null,
            "grid_auto_flow": null,
            "grid_auto_rows": null,
            "grid_column": null,
            "grid_gap": null,
            "grid_row": null,
            "grid_template_areas": null,
            "grid_template_columns": null,
            "grid_template_rows": null,
            "height": null,
            "justify_content": null,
            "justify_items": null,
            "left": null,
            "margin": null,
            "max_height": null,
            "max_width": null,
            "min_height": null,
            "min_width": null,
            "object_fit": null,
            "object_position": null,
            "order": null,
            "overflow": null,
            "overflow_x": null,
            "overflow_y": null,
            "padding": null,
            "right": null,
            "top": null,
            "visibility": null,
            "width": null
          }
        },
        "0a5119347d494d9b9ad254ea947f73f8": {
          "model_module": "@jupyter-widgets/controls",
          "model_name": "DescriptionStyleModel",
          "model_module_version": "1.5.0",
          "state": {
            "_model_module": "@jupyter-widgets/controls",
            "_model_module_version": "1.5.0",
            "_model_name": "DescriptionStyleModel",
            "_view_count": null,
            "_view_module": "@jupyter-widgets/base",
            "_view_module_version": "1.2.0",
            "_view_name": "StyleView",
            "description_width": ""
          }
        },
        "5622b290aa14493994ac603b04b77975": {
          "model_module": "@jupyter-widgets/controls",
          "model_name": "HBoxModel",
          "model_module_version": "1.5.0",
          "state": {
            "_dom_classes": [],
            "_model_module": "@jupyter-widgets/controls",
            "_model_module_version": "1.5.0",
            "_model_name": "HBoxModel",
            "_view_count": null,
            "_view_module": "@jupyter-widgets/controls",
            "_view_module_version": "1.5.0",
            "_view_name": "HBoxView",
            "box_style": "",
            "children": [
              "IPY_MODEL_ea4408644c0a4ae88c14afa93f11d59a",
              "IPY_MODEL_27d04481a04d4735a0d0fbc9d9e3cfa3",
              "IPY_MODEL_3e67dd2e76ec43dcba0f8651ff56aeb2"
            ],
            "layout": "IPY_MODEL_aa9dd9a2a481415bb2887d55bc8f2b7b"
          }
        },
        "ea4408644c0a4ae88c14afa93f11d59a": {
          "model_module": "@jupyter-widgets/controls",
          "model_name": "HTMLModel",
          "model_module_version": "1.5.0",
          "state": {
            "_dom_classes": [],
            "_model_module": "@jupyter-widgets/controls",
            "_model_module_version": "1.5.0",
            "_model_name": "HTMLModel",
            "_view_count": null,
            "_view_module": "@jupyter-widgets/controls",
            "_view_module_version": "1.5.0",
            "_view_name": "HTMLView",
            "description": "",
            "description_tooltip": null,
            "layout": "IPY_MODEL_8e7fff37a5894bbbb65dfee903b871f2",
            "placeholder": "​",
            "style": "IPY_MODEL_523080e4dbd74e85b1be68d3d37e1659",
            "value": "Map: 100%"
          }
        },
        "27d04481a04d4735a0d0fbc9d9e3cfa3": {
          "model_module": "@jupyter-widgets/controls",
          "model_name": "FloatProgressModel",
          "model_module_version": "1.5.0",
          "state": {
            "_dom_classes": [],
            "_model_module": "@jupyter-widgets/controls",
            "_model_module_version": "1.5.0",
            "_model_name": "FloatProgressModel",
            "_view_count": null,
            "_view_module": "@jupyter-widgets/controls",
            "_view_module_version": "1.5.0",
            "_view_name": "ProgressView",
            "bar_style": "success",
            "description": "",
            "description_tooltip": null,
            "layout": "IPY_MODEL_1c572c1aecf8463c88c4b215a60ba524",
            "max": 10,
            "min": 0,
            "orientation": "horizontal",
            "style": "IPY_MODEL_bb71ce9e2233492bac9be2053ea58018",
            "value": 10
          }
        },
        "3e67dd2e76ec43dcba0f8651ff56aeb2": {
          "model_module": "@jupyter-widgets/controls",
          "model_name": "HTMLModel",
          "model_module_version": "1.5.0",
          "state": {
            "_dom_classes": [],
            "_model_module": "@jupyter-widgets/controls",
            "_model_module_version": "1.5.0",
            "_model_name": "HTMLModel",
            "_view_count": null,
            "_view_module": "@jupyter-widgets/controls",
            "_view_module_version": "1.5.0",
            "_view_name": "HTMLView",
            "description": "",
            "description_tooltip": null,
            "layout": "IPY_MODEL_c1bb505179764c9b8c4a3ce0a4054718",
            "placeholder": "​",
            "style": "IPY_MODEL_9c8b72dbe40949b383fce08d557c93e7",
            "value": " 10/10 [00:00&lt;00:00, 95.05 examples/s]"
          }
        },
        "aa9dd9a2a481415bb2887d55bc8f2b7b": {
          "model_module": "@jupyter-widgets/base",
          "model_name": "LayoutModel",
          "model_module_version": "1.2.0",
          "state": {
            "_model_module": "@jupyter-widgets/base",
            "_model_module_version": "1.2.0",
            "_model_name": "LayoutModel",
            "_view_count": null,
            "_view_module": "@jupyter-widgets/base",
            "_view_module_version": "1.2.0",
            "_view_name": "LayoutView",
            "align_content": null,
            "align_items": null,
            "align_self": null,
            "border": null,
            "bottom": null,
            "display": null,
            "flex": null,
            "flex_flow": null,
            "grid_area": null,
            "grid_auto_columns": null,
            "grid_auto_flow": null,
            "grid_auto_rows": null,
            "grid_column": null,
            "grid_gap": null,
            "grid_row": null,
            "grid_template_areas": null,
            "grid_template_columns": null,
            "grid_template_rows": null,
            "height": null,
            "justify_content": null,
            "justify_items": null,
            "left": null,
            "margin": null,
            "max_height": null,
            "max_width": null,
            "min_height": null,
            "min_width": null,
            "object_fit": null,
            "object_position": null,
            "order": null,
            "overflow": null,
            "overflow_x": null,
            "overflow_y": null,
            "padding": null,
            "right": null,
            "top": null,
            "visibility": null,
            "width": null
          }
        },
        "8e7fff37a5894bbbb65dfee903b871f2": {
          "model_module": "@jupyter-widgets/base",
          "model_name": "LayoutModel",
          "model_module_version": "1.2.0",
          "state": {
            "_model_module": "@jupyter-widgets/base",
            "_model_module_version": "1.2.0",
            "_model_name": "LayoutModel",
            "_view_count": null,
            "_view_module": "@jupyter-widgets/base",
            "_view_module_version": "1.2.0",
            "_view_name": "LayoutView",
            "align_content": null,
            "align_items": null,
            "align_self": null,
            "border": null,
            "bottom": null,
            "display": null,
            "flex": null,
            "flex_flow": null,
            "grid_area": null,
            "grid_auto_columns": null,
            "grid_auto_flow": null,
            "grid_auto_rows": null,
            "grid_column": null,
            "grid_gap": null,
            "grid_row": null,
            "grid_template_areas": null,
            "grid_template_columns": null,
            "grid_template_rows": null,
            "height": null,
            "justify_content": null,
            "justify_items": null,
            "left": null,
            "margin": null,
            "max_height": null,
            "max_width": null,
            "min_height": null,
            "min_width": null,
            "object_fit": null,
            "object_position": null,
            "order": null,
            "overflow": null,
            "overflow_x": null,
            "overflow_y": null,
            "padding": null,
            "right": null,
            "top": null,
            "visibility": null,
            "width": null
          }
        },
        "523080e4dbd74e85b1be68d3d37e1659": {
          "model_module": "@jupyter-widgets/controls",
          "model_name": "DescriptionStyleModel",
          "model_module_version": "1.5.0",
          "state": {
            "_model_module": "@jupyter-widgets/controls",
            "_model_module_version": "1.5.0",
            "_model_name": "DescriptionStyleModel",
            "_view_count": null,
            "_view_module": "@jupyter-widgets/base",
            "_view_module_version": "1.2.0",
            "_view_name": "StyleView",
            "description_width": ""
          }
        },
        "1c572c1aecf8463c88c4b215a60ba524": {
          "model_module": "@jupyter-widgets/base",
          "model_name": "LayoutModel",
          "model_module_version": "1.2.0",
          "state": {
            "_model_module": "@jupyter-widgets/base",
            "_model_module_version": "1.2.0",
            "_model_name": "LayoutModel",
            "_view_count": null,
            "_view_module": "@jupyter-widgets/base",
            "_view_module_version": "1.2.0",
            "_view_name": "LayoutView",
            "align_content": null,
            "align_items": null,
            "align_self": null,
            "border": null,
            "bottom": null,
            "display": null,
            "flex": null,
            "flex_flow": null,
            "grid_area": null,
            "grid_auto_columns": null,
            "grid_auto_flow": null,
            "grid_auto_rows": null,
            "grid_column": null,
            "grid_gap": null,
            "grid_row": null,
            "grid_template_areas": null,
            "grid_template_columns": null,
            "grid_template_rows": null,
            "height": null,
            "justify_content": null,
            "justify_items": null,
            "left": null,
            "margin": null,
            "max_height": null,
            "max_width": null,
            "min_height": null,
            "min_width": null,
            "object_fit": null,
            "object_position": null,
            "order": null,
            "overflow": null,
            "overflow_x": null,
            "overflow_y": null,
            "padding": null,
            "right": null,
            "top": null,
            "visibility": null,
            "width": null
          }
        },
        "bb71ce9e2233492bac9be2053ea58018": {
          "model_module": "@jupyter-widgets/controls",
          "model_name": "ProgressStyleModel",
          "model_module_version": "1.5.0",
          "state": {
            "_model_module": "@jupyter-widgets/controls",
            "_model_module_version": "1.5.0",
            "_model_name": "ProgressStyleModel",
            "_view_count": null,
            "_view_module": "@jupyter-widgets/base",
            "_view_module_version": "1.2.0",
            "_view_name": "StyleView",
            "bar_color": null,
            "description_width": ""
          }
        },
        "c1bb505179764c9b8c4a3ce0a4054718": {
          "model_module": "@jupyter-widgets/base",
          "model_name": "LayoutModel",
          "model_module_version": "1.2.0",
          "state": {
            "_model_module": "@jupyter-widgets/base",
            "_model_module_version": "1.2.0",
            "_model_name": "LayoutModel",
            "_view_count": null,
            "_view_module": "@jupyter-widgets/base",
            "_view_module_version": "1.2.0",
            "_view_name": "LayoutView",
            "align_content": null,
            "align_items": null,
            "align_self": null,
            "border": null,
            "bottom": null,
            "display": null,
            "flex": null,
            "flex_flow": null,
            "grid_area": null,
            "grid_auto_columns": null,
            "grid_auto_flow": null,
            "grid_auto_rows": null,
            "grid_column": null,
            "grid_gap": null,
            "grid_row": null,
            "grid_template_areas": null,
            "grid_template_columns": null,
            "grid_template_rows": null,
            "height": null,
            "justify_content": null,
            "justify_items": null,
            "left": null,
            "margin": null,
            "max_height": null,
            "max_width": null,
            "min_height": null,
            "min_width": null,
            "object_fit": null,
            "object_position": null,
            "order": null,
            "overflow": null,
            "overflow_x": null,
            "overflow_y": null,
            "padding": null,
            "right": null,
            "top": null,
            "visibility": null,
            "width": null
          }
        },
        "9c8b72dbe40949b383fce08d557c93e7": {
          "model_module": "@jupyter-widgets/controls",
          "model_name": "DescriptionStyleModel",
          "model_module_version": "1.5.0",
          "state": {
            "_model_module": "@jupyter-widgets/controls",
            "_model_module_version": "1.5.0",
            "_model_name": "DescriptionStyleModel",
            "_view_count": null,
            "_view_module": "@jupyter-widgets/base",
            "_view_module_version": "1.2.0",
            "_view_name": "StyleView",
            "description_width": ""
          }
        },
        "9d6fed7af0d346a0b754ae5a7938b4ed": {
          "model_module": "@jupyter-widgets/controls",
          "model_name": "HBoxModel",
          "model_module_version": "1.5.0",
          "state": {
            "_dom_classes": [],
            "_model_module": "@jupyter-widgets/controls",
            "_model_module_version": "1.5.0",
            "_model_name": "HBoxModel",
            "_view_count": null,
            "_view_module": "@jupyter-widgets/controls",
            "_view_module_version": "1.5.0",
            "_view_name": "HBoxView",
            "box_style": "",
            "children": [
              "IPY_MODEL_13f1f716697f48f0b2b20e2461ec324d",
              "IPY_MODEL_fdd38d36bc9c4f9fb216cf930a2bceda",
              "IPY_MODEL_a60f3f06b3804d2d9c4386b175c12d86"
            ],
            "layout": "IPY_MODEL_8d719f781e1c478bba4b70c14e9d90c8"
          }
        },
        "13f1f716697f48f0b2b20e2461ec324d": {
          "model_module": "@jupyter-widgets/controls",
          "model_name": "HTMLModel",
          "model_module_version": "1.5.0",
          "state": {
            "_dom_classes": [],
            "_model_module": "@jupyter-widgets/controls",
            "_model_module_version": "1.5.0",
            "_model_name": "HTMLModel",
            "_view_count": null,
            "_view_module": "@jupyter-widgets/controls",
            "_view_module_version": "1.5.0",
            "_view_name": "HTMLView",
            "description": "",
            "description_tooltip": null,
            "layout": "IPY_MODEL_72c74c3b1ba044d28534a84d5bb086d5",
            "placeholder": "​",
            "style": "IPY_MODEL_f89740f922034cea9065757a9b11fbd6",
            "value": "Map: 100%"
          }
        },
        "fdd38d36bc9c4f9fb216cf930a2bceda": {
          "model_module": "@jupyter-widgets/controls",
          "model_name": "FloatProgressModel",
          "model_module_version": "1.5.0",
          "state": {
            "_dom_classes": [],
            "_model_module": "@jupyter-widgets/controls",
            "_model_module_version": "1.5.0",
            "_model_name": "FloatProgressModel",
            "_view_count": null,
            "_view_module": "@jupyter-widgets/controls",
            "_view_module_version": "1.5.0",
            "_view_name": "ProgressView",
            "bar_style": "success",
            "description": "",
            "description_tooltip": null,
            "layout": "IPY_MODEL_5e9f26db7ab6421ab515bfbfb97cd525",
            "max": 1200,
            "min": 0,
            "orientation": "horizontal",
            "style": "IPY_MODEL_f98a09a355314048a6839f449928314c",
            "value": 1200
          }
        },
        "a60f3f06b3804d2d9c4386b175c12d86": {
          "model_module": "@jupyter-widgets/controls",
          "model_name": "HTMLModel",
          "model_module_version": "1.5.0",
          "state": {
            "_dom_classes": [],
            "_model_module": "@jupyter-widgets/controls",
            "_model_module_version": "1.5.0",
            "_model_name": "HTMLModel",
            "_view_count": null,
            "_view_module": "@jupyter-widgets/controls",
            "_view_module_version": "1.5.0",
            "_view_name": "HTMLView",
            "description": "",
            "description_tooltip": null,
            "layout": "IPY_MODEL_c6bf49fdb82746d987d6048879c77f75",
            "placeholder": "​",
            "style": "IPY_MODEL_d08fdefd51244bedae955cce78a0cdd2",
            "value": " 1200/1200 [00:13&lt;00:00, 88.96 examples/s]"
          }
        },
        "8d719f781e1c478bba4b70c14e9d90c8": {
          "model_module": "@jupyter-widgets/base",
          "model_name": "LayoutModel",
          "model_module_version": "1.2.0",
          "state": {
            "_model_module": "@jupyter-widgets/base",
            "_model_module_version": "1.2.0",
            "_model_name": "LayoutModel",
            "_view_count": null,
            "_view_module": "@jupyter-widgets/base",
            "_view_module_version": "1.2.0",
            "_view_name": "LayoutView",
            "align_content": null,
            "align_items": null,
            "align_self": null,
            "border": null,
            "bottom": null,
            "display": null,
            "flex": null,
            "flex_flow": null,
            "grid_area": null,
            "grid_auto_columns": null,
            "grid_auto_flow": null,
            "grid_auto_rows": null,
            "grid_column": null,
            "grid_gap": null,
            "grid_row": null,
            "grid_template_areas": null,
            "grid_template_columns": null,
            "grid_template_rows": null,
            "height": null,
            "justify_content": null,
            "justify_items": null,
            "left": null,
            "margin": null,
            "max_height": null,
            "max_width": null,
            "min_height": null,
            "min_width": null,
            "object_fit": null,
            "object_position": null,
            "order": null,
            "overflow": null,
            "overflow_x": null,
            "overflow_y": null,
            "padding": null,
            "right": null,
            "top": null,
            "visibility": null,
            "width": null
          }
        },
        "72c74c3b1ba044d28534a84d5bb086d5": {
          "model_module": "@jupyter-widgets/base",
          "model_name": "LayoutModel",
          "model_module_version": "1.2.0",
          "state": {
            "_model_module": "@jupyter-widgets/base",
            "_model_module_version": "1.2.0",
            "_model_name": "LayoutModel",
            "_view_count": null,
            "_view_module": "@jupyter-widgets/base",
            "_view_module_version": "1.2.0",
            "_view_name": "LayoutView",
            "align_content": null,
            "align_items": null,
            "align_self": null,
            "border": null,
            "bottom": null,
            "display": null,
            "flex": null,
            "flex_flow": null,
            "grid_area": null,
            "grid_auto_columns": null,
            "grid_auto_flow": null,
            "grid_auto_rows": null,
            "grid_column": null,
            "grid_gap": null,
            "grid_row": null,
            "grid_template_areas": null,
            "grid_template_columns": null,
            "grid_template_rows": null,
            "height": null,
            "justify_content": null,
            "justify_items": null,
            "left": null,
            "margin": null,
            "max_height": null,
            "max_width": null,
            "min_height": null,
            "min_width": null,
            "object_fit": null,
            "object_position": null,
            "order": null,
            "overflow": null,
            "overflow_x": null,
            "overflow_y": null,
            "padding": null,
            "right": null,
            "top": null,
            "visibility": null,
            "width": null
          }
        },
        "f89740f922034cea9065757a9b11fbd6": {
          "model_module": "@jupyter-widgets/controls",
          "model_name": "DescriptionStyleModel",
          "model_module_version": "1.5.0",
          "state": {
            "_model_module": "@jupyter-widgets/controls",
            "_model_module_version": "1.5.0",
            "_model_name": "DescriptionStyleModel",
            "_view_count": null,
            "_view_module": "@jupyter-widgets/base",
            "_view_module_version": "1.2.0",
            "_view_name": "StyleView",
            "description_width": ""
          }
        },
        "5e9f26db7ab6421ab515bfbfb97cd525": {
          "model_module": "@jupyter-widgets/base",
          "model_name": "LayoutModel",
          "model_module_version": "1.2.0",
          "state": {
            "_model_module": "@jupyter-widgets/base",
            "_model_module_version": "1.2.0",
            "_model_name": "LayoutModel",
            "_view_count": null,
            "_view_module": "@jupyter-widgets/base",
            "_view_module_version": "1.2.0",
            "_view_name": "LayoutView",
            "align_content": null,
            "align_items": null,
            "align_self": null,
            "border": null,
            "bottom": null,
            "display": null,
            "flex": null,
            "flex_flow": null,
            "grid_area": null,
            "grid_auto_columns": null,
            "grid_auto_flow": null,
            "grid_auto_rows": null,
            "grid_column": null,
            "grid_gap": null,
            "grid_row": null,
            "grid_template_areas": null,
            "grid_template_columns": null,
            "grid_template_rows": null,
            "height": null,
            "justify_content": null,
            "justify_items": null,
            "left": null,
            "margin": null,
            "max_height": null,
            "max_width": null,
            "min_height": null,
            "min_width": null,
            "object_fit": null,
            "object_position": null,
            "order": null,
            "overflow": null,
            "overflow_x": null,
            "overflow_y": null,
            "padding": null,
            "right": null,
            "top": null,
            "visibility": null,
            "width": null
          }
        },
        "f98a09a355314048a6839f449928314c": {
          "model_module": "@jupyter-widgets/controls",
          "model_name": "ProgressStyleModel",
          "model_module_version": "1.5.0",
          "state": {
            "_model_module": "@jupyter-widgets/controls",
            "_model_module_version": "1.5.0",
            "_model_name": "ProgressStyleModel",
            "_view_count": null,
            "_view_module": "@jupyter-widgets/base",
            "_view_module_version": "1.2.0",
            "_view_name": "StyleView",
            "bar_color": null,
            "description_width": ""
          }
        },
        "c6bf49fdb82746d987d6048879c77f75": {
          "model_module": "@jupyter-widgets/base",
          "model_name": "LayoutModel",
          "model_module_version": "1.2.0",
          "state": {
            "_model_module": "@jupyter-widgets/base",
            "_model_module_version": "1.2.0",
            "_model_name": "LayoutModel",
            "_view_count": null,
            "_view_module": "@jupyter-widgets/base",
            "_view_module_version": "1.2.0",
            "_view_name": "LayoutView",
            "align_content": null,
            "align_items": null,
            "align_self": null,
            "border": null,
            "bottom": null,
            "display": null,
            "flex": null,
            "flex_flow": null,
            "grid_area": null,
            "grid_auto_columns": null,
            "grid_auto_flow": null,
            "grid_auto_rows": null,
            "grid_column": null,
            "grid_gap": null,
            "grid_row": null,
            "grid_template_areas": null,
            "grid_template_columns": null,
            "grid_template_rows": null,
            "height": null,
            "justify_content": null,
            "justify_items": null,
            "left": null,
            "margin": null,
            "max_height": null,
            "max_width": null,
            "min_height": null,
            "min_width": null,
            "object_fit": null,
            "object_position": null,
            "order": null,
            "overflow": null,
            "overflow_x": null,
            "overflow_y": null,
            "padding": null,
            "right": null,
            "top": null,
            "visibility": null,
            "width": null
          }
        },
        "d08fdefd51244bedae955cce78a0cdd2": {
          "model_module": "@jupyter-widgets/controls",
          "model_name": "DescriptionStyleModel",
          "model_module_version": "1.5.0",
          "state": {
            "_model_module": "@jupyter-widgets/controls",
            "_model_module_version": "1.5.0",
            "_model_name": "DescriptionStyleModel",
            "_view_count": null,
            "_view_module": "@jupyter-widgets/base",
            "_view_module_version": "1.2.0",
            "_view_name": "StyleView",
            "description_width": ""
          }
        },
        "258112702e654e77ac1ed7d99744cdbf": {
          "model_module": "@jupyter-widgets/controls",
          "model_name": "HBoxModel",
          "model_module_version": "1.5.0",
          "state": {
            "_dom_classes": [],
            "_model_module": "@jupyter-widgets/controls",
            "_model_module_version": "1.5.0",
            "_model_name": "HBoxModel",
            "_view_count": null,
            "_view_module": "@jupyter-widgets/controls",
            "_view_module_version": "1.5.0",
            "_view_name": "HBoxView",
            "box_style": "",
            "children": [
              "IPY_MODEL_5855a5f8df0d461eab12f8efd9b9a461",
              "IPY_MODEL_2542063d30a14c8aaa937273f33728b1",
              "IPY_MODEL_79f0dd7e4c1141babe1ad5fb6360b807"
            ],
            "layout": "IPY_MODEL_c7c300a494974a1abc2b1b6a78ed03a0"
          }
        },
        "5855a5f8df0d461eab12f8efd9b9a461": {
          "model_module": "@jupyter-widgets/controls",
          "model_name": "HTMLModel",
          "model_module_version": "1.5.0",
          "state": {
            "_dom_classes": [],
            "_model_module": "@jupyter-widgets/controls",
            "_model_module_version": "1.5.0",
            "_model_name": "HTMLModel",
            "_view_count": null,
            "_view_module": "@jupyter-widgets/controls",
            "_view_module_version": "1.5.0",
            "_view_name": "HTMLView",
            "description": "",
            "description_tooltip": null,
            "layout": "IPY_MODEL_cce812fc375347b0a26172d9c77f5241",
            "placeholder": "​",
            "style": "IPY_MODEL_544b86cadc964f18aa392552531b965c",
            "value": "Map: 100%"
          }
        },
        "2542063d30a14c8aaa937273f33728b1": {
          "model_module": "@jupyter-widgets/controls",
          "model_name": "FloatProgressModel",
          "model_module_version": "1.5.0",
          "state": {
            "_dom_classes": [],
            "_model_module": "@jupyter-widgets/controls",
            "_model_module_version": "1.5.0",
            "_model_name": "FloatProgressModel",
            "_view_count": null,
            "_view_module": "@jupyter-widgets/controls",
            "_view_module_version": "1.5.0",
            "_view_name": "ProgressView",
            "bar_style": "success",
            "description": "",
            "description_tooltip": null,
            "layout": "IPY_MODEL_d0d02c7494e8421383c5c2d9b5fccfc0",
            "max": 300,
            "min": 0,
            "orientation": "horizontal",
            "style": "IPY_MODEL_894b5717b94e4e869bf73fb78f07d3ec",
            "value": 300
          }
        },
        "79f0dd7e4c1141babe1ad5fb6360b807": {
          "model_module": "@jupyter-widgets/controls",
          "model_name": "HTMLModel",
          "model_module_version": "1.5.0",
          "state": {
            "_dom_classes": [],
            "_model_module": "@jupyter-widgets/controls",
            "_model_module_version": "1.5.0",
            "_model_name": "HTMLModel",
            "_view_count": null,
            "_view_module": "@jupyter-widgets/controls",
            "_view_module_version": "1.5.0",
            "_view_name": "HTMLView",
            "description": "",
            "description_tooltip": null,
            "layout": "IPY_MODEL_745389f40e53459ebd61caf07ddd7a2b",
            "placeholder": "​",
            "style": "IPY_MODEL_569a076dd2b14783a7dcdf4fd42284ee",
            "value": " 300/300 [00:02&lt;00:00, 106.08 examples/s]"
          }
        },
        "c7c300a494974a1abc2b1b6a78ed03a0": {
          "model_module": "@jupyter-widgets/base",
          "model_name": "LayoutModel",
          "model_module_version": "1.2.0",
          "state": {
            "_model_module": "@jupyter-widgets/base",
            "_model_module_version": "1.2.0",
            "_model_name": "LayoutModel",
            "_view_count": null,
            "_view_module": "@jupyter-widgets/base",
            "_view_module_version": "1.2.0",
            "_view_name": "LayoutView",
            "align_content": null,
            "align_items": null,
            "align_self": null,
            "border": null,
            "bottom": null,
            "display": null,
            "flex": null,
            "flex_flow": null,
            "grid_area": null,
            "grid_auto_columns": null,
            "grid_auto_flow": null,
            "grid_auto_rows": null,
            "grid_column": null,
            "grid_gap": null,
            "grid_row": null,
            "grid_template_areas": null,
            "grid_template_columns": null,
            "grid_template_rows": null,
            "height": null,
            "justify_content": null,
            "justify_items": null,
            "left": null,
            "margin": null,
            "max_height": null,
            "max_width": null,
            "min_height": null,
            "min_width": null,
            "object_fit": null,
            "object_position": null,
            "order": null,
            "overflow": null,
            "overflow_x": null,
            "overflow_y": null,
            "padding": null,
            "right": null,
            "top": null,
            "visibility": null,
            "width": null
          }
        },
        "cce812fc375347b0a26172d9c77f5241": {
          "model_module": "@jupyter-widgets/base",
          "model_name": "LayoutModel",
          "model_module_version": "1.2.0",
          "state": {
            "_model_module": "@jupyter-widgets/base",
            "_model_module_version": "1.2.0",
            "_model_name": "LayoutModel",
            "_view_count": null,
            "_view_module": "@jupyter-widgets/base",
            "_view_module_version": "1.2.0",
            "_view_name": "LayoutView",
            "align_content": null,
            "align_items": null,
            "align_self": null,
            "border": null,
            "bottom": null,
            "display": null,
            "flex": null,
            "flex_flow": null,
            "grid_area": null,
            "grid_auto_columns": null,
            "grid_auto_flow": null,
            "grid_auto_rows": null,
            "grid_column": null,
            "grid_gap": null,
            "grid_row": null,
            "grid_template_areas": null,
            "grid_template_columns": null,
            "grid_template_rows": null,
            "height": null,
            "justify_content": null,
            "justify_items": null,
            "left": null,
            "margin": null,
            "max_height": null,
            "max_width": null,
            "min_height": null,
            "min_width": null,
            "object_fit": null,
            "object_position": null,
            "order": null,
            "overflow": null,
            "overflow_x": null,
            "overflow_y": null,
            "padding": null,
            "right": null,
            "top": null,
            "visibility": null,
            "width": null
          }
        },
        "544b86cadc964f18aa392552531b965c": {
          "model_module": "@jupyter-widgets/controls",
          "model_name": "DescriptionStyleModel",
          "model_module_version": "1.5.0",
          "state": {
            "_model_module": "@jupyter-widgets/controls",
            "_model_module_version": "1.5.0",
            "_model_name": "DescriptionStyleModel",
            "_view_count": null,
            "_view_module": "@jupyter-widgets/base",
            "_view_module_version": "1.2.0",
            "_view_name": "StyleView",
            "description_width": ""
          }
        },
        "d0d02c7494e8421383c5c2d9b5fccfc0": {
          "model_module": "@jupyter-widgets/base",
          "model_name": "LayoutModel",
          "model_module_version": "1.2.0",
          "state": {
            "_model_module": "@jupyter-widgets/base",
            "_model_module_version": "1.2.0",
            "_model_name": "LayoutModel",
            "_view_count": null,
            "_view_module": "@jupyter-widgets/base",
            "_view_module_version": "1.2.0",
            "_view_name": "LayoutView",
            "align_content": null,
            "align_items": null,
            "align_self": null,
            "border": null,
            "bottom": null,
            "display": null,
            "flex": null,
            "flex_flow": null,
            "grid_area": null,
            "grid_auto_columns": null,
            "grid_auto_flow": null,
            "grid_auto_rows": null,
            "grid_column": null,
            "grid_gap": null,
            "grid_row": null,
            "grid_template_areas": null,
            "grid_template_columns": null,
            "grid_template_rows": null,
            "height": null,
            "justify_content": null,
            "justify_items": null,
            "left": null,
            "margin": null,
            "max_height": null,
            "max_width": null,
            "min_height": null,
            "min_width": null,
            "object_fit": null,
            "object_position": null,
            "order": null,
            "overflow": null,
            "overflow_x": null,
            "overflow_y": null,
            "padding": null,
            "right": null,
            "top": null,
            "visibility": null,
            "width": null
          }
        },
        "894b5717b94e4e869bf73fb78f07d3ec": {
          "model_module": "@jupyter-widgets/controls",
          "model_name": "ProgressStyleModel",
          "model_module_version": "1.5.0",
          "state": {
            "_model_module": "@jupyter-widgets/controls",
            "_model_module_version": "1.5.0",
            "_model_name": "ProgressStyleModel",
            "_view_count": null,
            "_view_module": "@jupyter-widgets/base",
            "_view_module_version": "1.2.0",
            "_view_name": "StyleView",
            "bar_color": null,
            "description_width": ""
          }
        },
        "745389f40e53459ebd61caf07ddd7a2b": {
          "model_module": "@jupyter-widgets/base",
          "model_name": "LayoutModel",
          "model_module_version": "1.2.0",
          "state": {
            "_model_module": "@jupyter-widgets/base",
            "_model_module_version": "1.2.0",
            "_model_name": "LayoutModel",
            "_view_count": null,
            "_view_module": "@jupyter-widgets/base",
            "_view_module_version": "1.2.0",
            "_view_name": "LayoutView",
            "align_content": null,
            "align_items": null,
            "align_self": null,
            "border": null,
            "bottom": null,
            "display": null,
            "flex": null,
            "flex_flow": null,
            "grid_area": null,
            "grid_auto_columns": null,
            "grid_auto_flow": null,
            "grid_auto_rows": null,
            "grid_column": null,
            "grid_gap": null,
            "grid_row": null,
            "grid_template_areas": null,
            "grid_template_columns": null,
            "grid_template_rows": null,
            "height": null,
            "justify_content": null,
            "justify_items": null,
            "left": null,
            "margin": null,
            "max_height": null,
            "max_width": null,
            "min_height": null,
            "min_width": null,
            "object_fit": null,
            "object_position": null,
            "order": null,
            "overflow": null,
            "overflow_x": null,
            "overflow_y": null,
            "padding": null,
            "right": null,
            "top": null,
            "visibility": null,
            "width": null
          }
        },
        "569a076dd2b14783a7dcdf4fd42284ee": {
          "model_module": "@jupyter-widgets/controls",
          "model_name": "DescriptionStyleModel",
          "model_module_version": "1.5.0",
          "state": {
            "_model_module": "@jupyter-widgets/controls",
            "_model_module_version": "1.5.0",
            "_model_name": "DescriptionStyleModel",
            "_view_count": null,
            "_view_module": "@jupyter-widgets/base",
            "_view_module_version": "1.2.0",
            "_view_name": "StyleView",
            "description_width": ""
          }
        },
        "37f48e99eb84483e8822b6def21025c8": {
          "model_module": "@jupyter-widgets/controls",
          "model_name": "HBoxModel",
          "model_module_version": "1.5.0",
          "state": {
            "_dom_classes": [],
            "_model_module": "@jupyter-widgets/controls",
            "_model_module_version": "1.5.0",
            "_model_name": "HBoxModel",
            "_view_count": null,
            "_view_module": "@jupyter-widgets/controls",
            "_view_module_version": "1.5.0",
            "_view_name": "HBoxView",
            "box_style": "",
            "children": [
              "IPY_MODEL_52e684d3810b45669c78f8cbbbeb82b9",
              "IPY_MODEL_604dc32d11354cd1917f4830b9c7ceae",
              "IPY_MODEL_44131582b02d48dd98c95fdb62a7aaad"
            ],
            "layout": "IPY_MODEL_6c8a571ebec4465ca372d1851f52926d"
          }
        },
        "52e684d3810b45669c78f8cbbbeb82b9": {
          "model_module": "@jupyter-widgets/controls",
          "model_name": "HTMLModel",
          "model_module_version": "1.5.0",
          "state": {
            "_dom_classes": [],
            "_model_module": "@jupyter-widgets/controls",
            "_model_module_version": "1.5.0",
            "_model_name": "HTMLModel",
            "_view_count": null,
            "_view_module": "@jupyter-widgets/controls",
            "_view_module_version": "1.5.0",
            "_view_name": "HTMLView",
            "description": "",
            "description_tooltip": null,
            "layout": "IPY_MODEL_d512ec49890746709f21cb69fc077932",
            "placeholder": "​",
            "style": "IPY_MODEL_b1e040adfe7942d48c98af01f01596e3",
            "value": "model.safetensors: 100%"
          }
        },
        "604dc32d11354cd1917f4830b9c7ceae": {
          "model_module": "@jupyter-widgets/controls",
          "model_name": "FloatProgressModel",
          "model_module_version": "1.5.0",
          "state": {
            "_dom_classes": [],
            "_model_module": "@jupyter-widgets/controls",
            "_model_module_version": "1.5.0",
            "_model_name": "FloatProgressModel",
            "_view_count": null,
            "_view_module": "@jupyter-widgets/controls",
            "_view_module_version": "1.5.0",
            "_view_name": "ProgressView",
            "bar_style": "success",
            "description": "",
            "description_tooltip": null,
            "layout": "IPY_MODEL_8830dd4b1685458fb4481c8e12c3b9a1",
            "max": 557709915,
            "min": 0,
            "orientation": "horizontal",
            "style": "IPY_MODEL_61c9762d0bd440b7802bee7bc2efa621",
            "value": 557709915
          }
        },
        "44131582b02d48dd98c95fdb62a7aaad": {
          "model_module": "@jupyter-widgets/controls",
          "model_name": "HTMLModel",
          "model_module_version": "1.5.0",
          "state": {
            "_dom_classes": [],
            "_model_module": "@jupyter-widgets/controls",
            "_model_module_version": "1.5.0",
            "_model_name": "HTMLModel",
            "_view_count": null,
            "_view_module": "@jupyter-widgets/controls",
            "_view_module_version": "1.5.0",
            "_view_name": "HTMLView",
            "description": "",
            "description_tooltip": null,
            "layout": "IPY_MODEL_84f6dfbcd76843328ac5f22aa5dea880",
            "placeholder": "​",
            "style": "IPY_MODEL_945a57a997d94493afdba83a117ec08e",
            "value": " 558M/558M [00:06&lt;00:00, 142MB/s]"
          }
        },
        "6c8a571ebec4465ca372d1851f52926d": {
          "model_module": "@jupyter-widgets/base",
          "model_name": "LayoutModel",
          "model_module_version": "1.2.0",
          "state": {
            "_model_module": "@jupyter-widgets/base",
            "_model_module_version": "1.2.0",
            "_model_name": "LayoutModel",
            "_view_count": null,
            "_view_module": "@jupyter-widgets/base",
            "_view_module_version": "1.2.0",
            "_view_name": "LayoutView",
            "align_content": null,
            "align_items": null,
            "align_self": null,
            "border": null,
            "bottom": null,
            "display": null,
            "flex": null,
            "flex_flow": null,
            "grid_area": null,
            "grid_auto_columns": null,
            "grid_auto_flow": null,
            "grid_auto_rows": null,
            "grid_column": null,
            "grid_gap": null,
            "grid_row": null,
            "grid_template_areas": null,
            "grid_template_columns": null,
            "grid_template_rows": null,
            "height": null,
            "justify_content": null,
            "justify_items": null,
            "left": null,
            "margin": null,
            "max_height": null,
            "max_width": null,
            "min_height": null,
            "min_width": null,
            "object_fit": null,
            "object_position": null,
            "order": null,
            "overflow": null,
            "overflow_x": null,
            "overflow_y": null,
            "padding": null,
            "right": null,
            "top": null,
            "visibility": null,
            "width": null
          }
        },
        "d512ec49890746709f21cb69fc077932": {
          "model_module": "@jupyter-widgets/base",
          "model_name": "LayoutModel",
          "model_module_version": "1.2.0",
          "state": {
            "_model_module": "@jupyter-widgets/base",
            "_model_module_version": "1.2.0",
            "_model_name": "LayoutModel",
            "_view_count": null,
            "_view_module": "@jupyter-widgets/base",
            "_view_module_version": "1.2.0",
            "_view_name": "LayoutView",
            "align_content": null,
            "align_items": null,
            "align_self": null,
            "border": null,
            "bottom": null,
            "display": null,
            "flex": null,
            "flex_flow": null,
            "grid_area": null,
            "grid_auto_columns": null,
            "grid_auto_flow": null,
            "grid_auto_rows": null,
            "grid_column": null,
            "grid_gap": null,
            "grid_row": null,
            "grid_template_areas": null,
            "grid_template_columns": null,
            "grid_template_rows": null,
            "height": null,
            "justify_content": null,
            "justify_items": null,
            "left": null,
            "margin": null,
            "max_height": null,
            "max_width": null,
            "min_height": null,
            "min_width": null,
            "object_fit": null,
            "object_position": null,
            "order": null,
            "overflow": null,
            "overflow_x": null,
            "overflow_y": null,
            "padding": null,
            "right": null,
            "top": null,
            "visibility": null,
            "width": null
          }
        },
        "b1e040adfe7942d48c98af01f01596e3": {
          "model_module": "@jupyter-widgets/controls",
          "model_name": "DescriptionStyleModel",
          "model_module_version": "1.5.0",
          "state": {
            "_model_module": "@jupyter-widgets/controls",
            "_model_module_version": "1.5.0",
            "_model_name": "DescriptionStyleModel",
            "_view_count": null,
            "_view_module": "@jupyter-widgets/base",
            "_view_module_version": "1.2.0",
            "_view_name": "StyleView",
            "description_width": ""
          }
        },
        "8830dd4b1685458fb4481c8e12c3b9a1": {
          "model_module": "@jupyter-widgets/base",
          "model_name": "LayoutModel",
          "model_module_version": "1.2.0",
          "state": {
            "_model_module": "@jupyter-widgets/base",
            "_model_module_version": "1.2.0",
            "_model_name": "LayoutModel",
            "_view_count": null,
            "_view_module": "@jupyter-widgets/base",
            "_view_module_version": "1.2.0",
            "_view_name": "LayoutView",
            "align_content": null,
            "align_items": null,
            "align_self": null,
            "border": null,
            "bottom": null,
            "display": null,
            "flex": null,
            "flex_flow": null,
            "grid_area": null,
            "grid_auto_columns": null,
            "grid_auto_flow": null,
            "grid_auto_rows": null,
            "grid_column": null,
            "grid_gap": null,
            "grid_row": null,
            "grid_template_areas": null,
            "grid_template_columns": null,
            "grid_template_rows": null,
            "height": null,
            "justify_content": null,
            "justify_items": null,
            "left": null,
            "margin": null,
            "max_height": null,
            "max_width": null,
            "min_height": null,
            "min_width": null,
            "object_fit": null,
            "object_position": null,
            "order": null,
            "overflow": null,
            "overflow_x": null,
            "overflow_y": null,
            "padding": null,
            "right": null,
            "top": null,
            "visibility": null,
            "width": null
          }
        },
        "61c9762d0bd440b7802bee7bc2efa621": {
          "model_module": "@jupyter-widgets/controls",
          "model_name": "ProgressStyleModel",
          "model_module_version": "1.5.0",
          "state": {
            "_model_module": "@jupyter-widgets/controls",
            "_model_module_version": "1.5.0",
            "_model_name": "ProgressStyleModel",
            "_view_count": null,
            "_view_module": "@jupyter-widgets/base",
            "_view_module_version": "1.2.0",
            "_view_name": "StyleView",
            "bar_color": null,
            "description_width": ""
          }
        },
        "84f6dfbcd76843328ac5f22aa5dea880": {
          "model_module": "@jupyter-widgets/base",
          "model_name": "LayoutModel",
          "model_module_version": "1.2.0",
          "state": {
            "_model_module": "@jupyter-widgets/base",
            "_model_module_version": "1.2.0",
            "_model_name": "LayoutModel",
            "_view_count": null,
            "_view_module": "@jupyter-widgets/base",
            "_view_module_version": "1.2.0",
            "_view_name": "LayoutView",
            "align_content": null,
            "align_items": null,
            "align_self": null,
            "border": null,
            "bottom": null,
            "display": null,
            "flex": null,
            "flex_flow": null,
            "grid_area": null,
            "grid_auto_columns": null,
            "grid_auto_flow": null,
            "grid_auto_rows": null,
            "grid_column": null,
            "grid_gap": null,
            "grid_row": null,
            "grid_template_areas": null,
            "grid_template_columns": null,
            "grid_template_rows": null,
            "height": null,
            "justify_content": null,
            "justify_items": null,
            "left": null,
            "margin": null,
            "max_height": null,
            "max_width": null,
            "min_height": null,
            "min_width": null,
            "object_fit": null,
            "object_position": null,
            "order": null,
            "overflow": null,
            "overflow_x": null,
            "overflow_y": null,
            "padding": null,
            "right": null,
            "top": null,
            "visibility": null,
            "width": null
          }
        },
        "945a57a997d94493afdba83a117ec08e": {
          "model_module": "@jupyter-widgets/controls",
          "model_name": "DescriptionStyleModel",
          "model_module_version": "1.5.0",
          "state": {
            "_model_module": "@jupyter-widgets/controls",
            "_model_module_version": "1.5.0",
            "_model_name": "DescriptionStyleModel",
            "_view_count": null,
            "_view_module": "@jupyter-widgets/base",
            "_view_module_version": "1.2.0",
            "_view_name": "StyleView",
            "description_width": ""
          }
        }
      }
    },
    "accelerator": "GPU"
  },
  "nbformat": 4,
  "nbformat_minor": 0
}